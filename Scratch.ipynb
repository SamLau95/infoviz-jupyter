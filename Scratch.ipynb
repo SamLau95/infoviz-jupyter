{
 "cells": [
  {
   "cell_type": "code",
   "execution_count": 2,
   "metadata": {},
   "outputs": [],
   "source": [
    "import warnings \n",
    "\n",
    "warnings.filterwarnings(\"ignore\", message=\"numpy.dtype size changed\")\n",
    "warnings.filterwarnings(\"ignore\", message=\"numpy.ufunc size changed\")\n",
    "\n",
    "import numpy as np\n",
    "import pandas as pd\n",
    "%matplotlib inline\n",
    "import matplotlib.pyplot as plt\n",
    "import seaborn as sns\n",
    "from datascience import *\n",
    "from pprint import pprint\n",
    "import re\n",
    "sns.set()\n",
    "sns.set_context('poster')\n",
    "import random\n",
    "import os\n",
    "# from tqdm import tqdm as t\n",
    "\n",
    "# from sklearn import linear_model as lm\n",
    "\n",
    "from IPython.display import display, Latex, Markdown, HTML\n",
    "import ipywidgets as widgets\n",
    "from ipywidgets import interact\n",
    "import nbinteract as nbi\n",
    "pd.options.display.max_rows = 7"
   ]
  },
  {
   "cell_type": "code",
   "execution_count": 3,
   "metadata": {
    "history": [
     {
      "code": "import nbformat as nbf\n\nnb = nbf.read('sam.ipynb', as_version=4)\nnb.cells[2]",
      "response": {
       "content": {
        "data": {
         "text/plain": "{'cell_type': 'markdown', 'metadata': {}, 'source': '## Data Cleaning'}"
        },
        "execution_count": 15,
        "metadata": {}
       },
       "metadata": {},
       "msg_type": "execute_result",
       "version": "5.3"
      },
      "timestamp": "2018-11-15T23:22:03.974Z"
     },
     {
      "code": "import nbformat as nbf\n\nnb = nbf.read('sam_asn.ipynb', as_version=4)\nnb.cells[2]",
      "response": {
       "content": {
        "data": {
         "text/plain": "{'cell_type': 'code',\n 'execution_count': 2,\n 'metadata': {},\n 'outputs': [],\n 'source': 'import toolz.curried as tz\\nfrom tqdm import tqdm as t'}"
        },
        "execution_count": 1,
        "metadata": {}
       },
       "metadata": {},
       "msg_type": "execute_result",
       "version": "5.3"
      },
      "timestamp": "2018-11-26T21:14:55.561Z"
     },
     {
      "code": "import nbformat as nbf\n\nnb = nbf.read('sam_asn.ipynb', as_version=4)\nnb.cells[2]",
      "response": {
       "content": {
        "data": {
         "text/plain": "{'cell_type': 'code',\n 'execution_count': 2,\n 'metadata': {},\n 'outputs': [],\n 'source': 'import toolz.curried as tz\\nfrom tqdm import tqdm as t'}"
        },
        "execution_count": 3,
        "metadata": {}
       },
       "metadata": {},
       "msg_type": "execute_result",
       "version": "5.3"
      },
      "timestamp": "2018-11-26T21:15:04.485Z"
     }
    ]
   },
   "outputs": [
    {
     "data": {
      "text/plain": [
       "{'cell_type': 'code',\n",
       " 'execution_count': 2,\n",
       " 'metadata': {},\n",
       " 'outputs': [],\n",
       " 'source': 'import toolz.curried as tz\\nfrom tqdm import tqdm as t'}"
      ]
     },
     "execution_count": 3,
     "metadata": {},
     "output_type": "execute_result"
    }
   ],
   "source": [
    "import nbformat as nbf\n",
    "\n",
    "nb = nbf.read('sam_asn.ipynb', as_version=4)\n",
    "nb.cells[2]"
   ]
  },
  {
   "cell_type": "code",
   "execution_count": 4,
   "metadata": {
    "history": [
     {
      "code": "import json\n\nhistory = [{**run, 'cell': index}\n           for index, cell in enumerate(nb.cells)\n           if 'history' in cell.metadata\n           for run in cell.metadata.history]\n\nwith open('sam.json', 'w') as f:\n    json.dump(history, f, indent=2)\n    \nlen(history)",
      "response": {
       "content": {
        "data": {
         "text/plain": "198"
        },
        "execution_count": 16,
        "metadata": {}
       },
       "metadata": {},
       "msg_type": "execute_result",
       "version": "5.3"
      },
      "timestamp": "2018-11-15T23:22:08.802Z"
     },
     {
      "code": "import json\n\nhistory = [{**run, 'cell': index}\n           for index, cell in enumerate(nb.cells)\n           if 'history' in cell.metadata\n           for run in cell.metadata.history]\n\nwith open('sam.json', 'w') as f:\n    json.dump(history, f, indent=2)\n    \nlen(history)",
      "response": {
       "content": {
        "data": {
         "text/plain": "319"
        },
        "execution_count": 4,
        "metadata": {}
       },
       "metadata": {},
       "msg_type": "execute_result",
       "version": "5.3"
      },
      "timestamp": "2018-11-26T21:15:05.794Z"
     }
    ],
    "scrolled": false
   },
   "outputs": [
    {
     "data": {
      "text/plain": [
       "319"
      ]
     },
     "execution_count": 4,
     "metadata": {},
     "output_type": "execute_result"
    }
   ],
   "source": [
    "import json\n",
    "\n",
    "history = [{**run, 'cell': index}\n",
    "           for index, cell in enumerate(nb.cells)\n",
    "           if 'history' in cell.metadata\n",
    "           for run in cell.metadata.history]\n",
    "\n",
    "with open('sam.json', 'w') as f:\n",
    "    json.dump(history, f, indent=2)\n",
    "    \n",
    "len(history)"
   ]
  },
  {
   "cell_type": "code",
   "execution_count": 5,
   "metadata": {},
   "outputs": [],
   "source": [
    "from IPython.display import publish_display_data\n",
    "\n",
    "def display_history(cell):\n",
    "    for result in cell.metadata.history:\n",
    "        lines = result.code.split('\\n')\n",
    "        first_line = f'>>> {lines[0]}'\n",
    "        next_lines = '\\n'.join(f'... {l}' for l in lines[1:])\n",
    "        \n",
    "        code = f'{first_line}\\n{next_lines}' if next_lines else first_line\n",
    "        \n",
    "        print(f'{code}')\n",
    "        \n",
    "        if 'data' in result.response.content:\n",
    "            publish_display_data(result.response.content.data)"
   ]
  },
  {
   "cell_type": "code",
   "execution_count": 6,
   "metadata": {
    "history": [
     {
      "code": "display_history(nb.cells[26])",
      "response": {
       "content": {
        "name": "stdout",
        "text": ">>> %%time\n... \n... clf.score(valid[0:100], valid['reviewed'][0:100])\n>>> %%time\n... \n... clf.score(valid[0:100], valid['reviewed'][0:100])\n"
       },
       "metadata": {},
       "msg_type": "stream",
       "version": "5.3"
      },
      "timestamp": "2018-11-26T21:15:09.249Z"
     },
     {
      "code": "display_history(nb.cells[26])",
      "response": {
       "content": {
        "data": {
         "text/plain": "0.01"
        },
        "metadata": {},
        "transient": {}
       },
       "metadata": {},
       "msg_type": "display_data",
       "version": "5.3"
      },
      "timestamp": "2018-11-26T21:15:09.256Z"
     },
     {
      "code": "display_history(nb.cells[26])",
      "response": {
       "content": {
        "name": "stdout",
        "text": ">>> %%time\n... \n... clf.score(valid[0:100], valid['reviewed'][0:100])\n>>> %%time\n... \n... clf.score(valid[0:100], valid['reviewed'][0:100])\n"
       },
       "metadata": {},
       "msg_type": "stream",
       "version": "5.3"
      },
      "timestamp": "2018-11-26T21:15:09.260Z"
     },
     {
      "code": "display_history(nb.cells[26])",
      "response": {
       "content": {
        "data": {
         "text/plain": "0.01"
        },
        "metadata": {},
        "transient": {}
       },
       "metadata": {},
       "msg_type": "display_data",
       "version": "5.3"
      },
      "timestamp": "2018-11-26T21:15:09.263Z"
     },
     {
      "code": "display_history(nb.cells[26])",
      "response": {
       "content": {
        "name": "stdout",
        "text": ">>> %%time\n... \n... clf.score(valid[0:100], valid['reviewed'][0:100])\n>>> %%time\n... \n... clf.score(valid[0:100], valid['reviewed'][0:100])\n"
       },
       "metadata": {},
       "msg_type": "stream",
       "version": "5.3"
      },
      "timestamp": "2018-11-26T21:15:09.264Z"
     },
     {
      "code": "display_history(nb.cells[26])",
      "response": {
       "content": {
        "data": {
         "text/plain": "0.06"
        },
        "metadata": {},
        "transient": {}
       },
       "metadata": {},
       "msg_type": "display_data",
       "version": "5.3"
      },
      "timestamp": "2018-11-26T21:15:09.266Z"
     },
     {
      "code": "display_history(nb.cells[26])",
      "response": {
       "content": {
        "name": "stdout",
        "text": ">>> %%time\n... \n... clf.score(valid[0:100], valid['reviewed'][0:100])\n>>> %%time\n... \n... clf.score(valid[0:100], valid['reviewed'][0:100])\n"
       },
       "metadata": {},
       "msg_type": "stream",
       "version": "5.3"
      },
      "timestamp": "2018-11-26T21:15:09.267Z"
     },
     {
      "code": "display_history(nb.cells[26])",
      "response": {
       "content": {
        "data": {
         "text/plain": "0.44"
        },
        "metadata": {},
        "transient": {}
       },
       "metadata": {},
       "msg_type": "display_data",
       "version": "5.3"
      },
      "timestamp": "2018-11-26T21:15:09.269Z"
     },
     {
      "code": "display_history(nb.cells[26])",
      "response": {
       "content": {
        "name": "stdout",
        "text": ">>> clf.score(valid[0:100], valid['reviewed'][0:100])\n"
       },
       "metadata": {},
       "msg_type": "stream",
       "version": "5.3"
      },
      "timestamp": "2018-11-26T21:15:09.274Z"
     },
     {
      "code": "display_history(nb.cells[26])",
      "response": {
       "content": {
        "data": {
         "text/plain": "0.77"
        },
        "metadata": {},
        "transient": {}
       },
       "metadata": {},
       "msg_type": "display_data",
       "version": "5.3"
      },
      "timestamp": "2018-11-26T21:15:09.275Z"
     },
     {
      "code": "display_history(nb.cells[26])",
      "response": {
       "content": {
        "name": "stdout",
        "text": ">>> clf.score(valid[0:100], valid['reviewed'][0:100])\n"
       },
       "metadata": {},
       "msg_type": "stream",
       "version": "5.3"
      },
      "timestamp": "2018-11-26T21:15:09.277Z"
     },
     {
      "code": "display_history(nb.cells[26])",
      "response": {
       "content": {
        "data": {
         "text/plain": "0.83"
        },
        "metadata": {},
        "transient": {}
       },
       "metadata": {},
       "msg_type": "display_data",
       "version": "5.3"
      },
      "timestamp": "2018-11-26T21:15:09.277Z"
     },
     {
      "code": "display_history(nb.cells[26])",
      "response": {
       "content": {
        "name": "stdout",
        "text": ">>> clf.score(valid[0:100], valid['reviewed'][0:100])\n"
       },
       "metadata": {},
       "msg_type": "stream",
       "version": "5.3"
      },
      "timestamp": "2018-11-26T21:15:09.278Z"
     },
     {
      "code": "display_history(nb.cells[26])",
      "response": {
       "content": {
        "data": {
         "text/plain": "0.98"
        },
        "metadata": {},
        "transient": {}
       },
       "metadata": {},
       "msg_type": "display_data",
       "version": "5.3"
      },
      "timestamp": "2018-11-26T21:15:09.280Z"
     }
    ],
    "scrolled": false
   },
   "outputs": [
    {
     "name": "stdout",
     "output_type": "stream",
     "text": [
      ">>> %%time\n",
      "... \n",
      "... clf.score(valid[0:100], valid['reviewed'][0:100])\n",
      ">>> %%time\n",
      "... \n",
      "... clf.score(valid[0:100], valid['reviewed'][0:100])\n"
     ]
    },
    {
     "data": {
      "text/plain": [
       "0.01"
      ]
     },
     "metadata": {},
     "output_type": "display_data"
    },
    {
     "name": "stdout",
     "output_type": "stream",
     "text": [
      ">>> %%time\n",
      "... \n",
      "... clf.score(valid[0:100], valid['reviewed'][0:100])\n",
      ">>> %%time\n",
      "... \n",
      "... clf.score(valid[0:100], valid['reviewed'][0:100])\n"
     ]
    },
    {
     "data": {
      "text/plain": [
       "0.01"
      ]
     },
     "metadata": {},
     "output_type": "display_data"
    },
    {
     "name": "stdout",
     "output_type": "stream",
     "text": [
      ">>> %%time\n",
      "... \n",
      "... clf.score(valid[0:100], valid['reviewed'][0:100])\n",
      ">>> %%time\n",
      "... \n",
      "... clf.score(valid[0:100], valid['reviewed'][0:100])\n"
     ]
    },
    {
     "data": {
      "text/plain": [
       "0.06"
      ]
     },
     "metadata": {},
     "output_type": "display_data"
    },
    {
     "name": "stdout",
     "output_type": "stream",
     "text": [
      ">>> %%time\n",
      "... \n",
      "... clf.score(valid[0:100], valid['reviewed'][0:100])\n",
      ">>> %%time\n",
      "... \n",
      "... clf.score(valid[0:100], valid['reviewed'][0:100])\n"
     ]
    },
    {
     "data": {
      "text/plain": [
       "0.44"
      ]
     },
     "metadata": {},
     "output_type": "display_data"
    },
    {
     "name": "stdout",
     "output_type": "stream",
     "text": [
      ">>> clf.score(valid[0:100], valid['reviewed'][0:100])\n"
     ]
    },
    {
     "data": {
      "text/plain": [
       "0.77"
      ]
     },
     "metadata": {},
     "output_type": "display_data"
    },
    {
     "name": "stdout",
     "output_type": "stream",
     "text": [
      ">>> clf.score(valid[0:100], valid['reviewed'][0:100])\n"
     ]
    },
    {
     "data": {
      "text/plain": [
       "0.83"
      ]
     },
     "metadata": {},
     "output_type": "display_data"
    },
    {
     "name": "stdout",
     "output_type": "stream",
     "text": [
      ">>> clf.score(valid[0:100], valid['reviewed'][0:100])\n"
     ]
    },
    {
     "data": {
      "text/plain": [
       "0.98"
      ]
     },
     "metadata": {},
     "output_type": "display_data"
    }
   ],
   "source": [
    "display_history(nb.cells[26])"
   ]
  },
  {
   "cell_type": "code",
   "execution_count": null,
   "metadata": {},
   "outputs": [],
   "source": []
  }
 ],
 "metadata": {
  "celltoolbar": "Edit Metadata",
  "kernelspec": {
   "display_name": "Python [default]",
   "language": "python",
   "name": "python3"
  },
  "language_info": {
   "codemirror_mode": {
    "name": "ipython",
    "version": 3
   },
   "file_extension": ".py",
   "mimetype": "text/x-python",
   "name": "python",
   "nbconvert_exporter": "python",
   "pygments_lexer": "ipython3",
   "version": "3.6.3"
  },
  "timetravel": {
   "verson": "1.0"
  },
  "toc": {
   "nav_menu": {},
   "number_sections": false,
   "sideBar": false,
   "skip_h1_title": false,
   "title_cell": "Table of Contents",
   "title_sidebar": "Contents",
   "toc_cell": true,
   "toc_position": {},
   "toc_section_display": false,
   "toc_window_display": false
  }
 },
 "nbformat": 4,
 "nbformat_minor": 2
}
