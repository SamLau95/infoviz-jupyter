{
 "cells": [
  {
   "cell_type": "markdown",
   "metadata": {},
   "source": [
    "# Assignment 1: Review Recommendations\n",
    "\n",
    "**Sam Lau, PID A11180904, sel011@ucsd.edu**"
   ]
  },
  {
   "cell_type": "code",
   "execution_count": 1,
   "metadata": {},
   "outputs": [],
   "source": [
    "import warnings \n",
    "\n",
    "warnings.filterwarnings(\"ignore\", message=\"numpy.dtype size changed\")\n",
    "warnings.filterwarnings(\"ignore\", message=\"numpy.ufunc size changed\")\n",
    "\n",
    "import numpy as np\n",
    "import pandas as pd\n",
    "%matplotlib inline\n",
    "import matplotlib.pyplot as plt\n",
    "import seaborn as sns\n",
    "from datascience import *\n",
    "from pprint import pprint\n",
    "import re\n",
    "sns.set()\n",
    "sns.set_context('poster')\n",
    "import random\n",
    "import os\n",
    "# from tqdm import tqdm as t\n",
    "\n",
    "from IPython.display import display, Latex, Markdown, HTML\n",
    "import ipywidgets as widgets\n",
    "from ipywidgets import interact\n",
    "import nbinteract as nbi\n",
    "pd.options.display.max_rows = 5"
   ]
  },
  {
   "cell_type": "code",
   "execution_count": 2,
   "metadata": {},
   "outputs": [],
   "source": [
    "import toolz.curried as tz\n",
    "from tqdm import tqdm as t"
   ]
  },
  {
   "cell_type": "markdown",
   "metadata": {},
   "source": [
    "## Loading the data"
   ]
  },
  {
   "cell_type": "code",
   "execution_count": 3,
   "metadata": {
    "history": [
     {
      "code": "ls",
      "response": {
       "content": {
        "name": "stdout",
        "text": "asn1.ipynb  \u001b[35mdata\u001b[m\u001b[m@\r\n"
       },
       "metadata": {},
       "msg_type": "stream",
       "version": "5.3"
      },
      "timestamp": "2018-11-16T04:36:42.294Z"
     },
     {
      "code": "ls data",
      "response": {
       "content": {
        "name": "stdout",
        "text": "\u001b[35mdata\u001b[m\u001b[m@\r\n"
       },
       "metadata": {},
       "msg_type": "stream",
       "version": "5.3"
      },
      "timestamp": "2018-11-16T04:36:45.396Z"
     },
     {
      "code": "ls data/",
      "response": {
       "content": {
        "name": "stdout",
        "text": "baselines.py        pairs_Purchase.txt  test_Category.json\r\npairs_Category.txt  pairs_Rating.txt    train.json\r\n"
       },
       "metadata": {},
       "msg_type": "stream",
       "version": "5.3"
      },
      "timestamp": "2018-11-16T04:36:48.288Z"
     },
     {
      "code": "ls data/",
      "response": {
       "content": {
        "name": "stdout",
        "text": "baselines.py        pairs_Purchase.txt  test_Category.json\r\npairs_Category.txt  pairs_Rating.txt    train.json\r\n"
       },
       "metadata": {},
       "msg_type": "stream",
       "version": "5.3"
      },
      "timestamp": "2018-11-16T04:39:57.271Z"
     },
     {
      "code": "ls data/",
      "response": {
       "content": {
        "name": "stdout",
        "text": "baselines.py        pairs_Purchase.txt  test_Category.json\r\npairs_Category.txt  pairs_Rating.txt    train.json\r\n"
       },
       "metadata": {},
       "msg_type": "stream",
       "version": "5.3"
      },
      "timestamp": "2018-11-16T05:41:42.789Z"
     },
     {
      "code": "ls data/",
      "response": {
       "content": {
        "name": "stdout",
        "text": "baselines.py        pairs_Purchase.txt  test_Category.json\r\npairs_Category.txt  pairs_Rating.txt    train.json\r\n"
       },
       "metadata": {},
       "msg_type": "stream",
       "version": "5.3"
      },
      "timestamp": "2018-11-16T06:16:35.486Z"
     },
     {
      "code": "ls data/",
      "response": {
       "content": {
        "name": "stdout",
        "text": "baselines.py        pairs_Purchase.txt  test_Category.json  train.json\r\npairs_Category.txt  pairs_Rating.txt    train.csv\r\n"
       },
       "metadata": {},
       "msg_type": "stream",
       "version": "5.3"
      },
      "timestamp": "2018-11-16T06:17:54.148Z"
     },
     {
      "code": "ls data/",
      "response": {
       "content": {
        "name": "stdout",
        "text": "baselines.py        pairs_Purchase.txt  test_Category.json  train.json\r\npairs_Category.txt  pairs_Rating.txt    train.csv\r\n"
       },
       "metadata": {},
       "msg_type": "stream",
       "version": "5.3"
      },
      "timestamp": "2018-11-16T19:48:07.465Z"
     }
    ]
   },
   "outputs": [
    {
     "name": "stdout",
     "output_type": "stream",
     "text": [
      "baselines.py        pairs_Purchase.txt  test_Category.json  train.json\r\n",
      "pairs_Category.txt  pairs_Rating.txt    train.csv\r\n"
     ]
    }
   ],
   "source": [
    "ls data/"
   ]
  },
  {
   "cell_type": "code",
   "execution_count": 115,
   "metadata": {
    "history": [
     {
      "code": "all_train = pd.DataFrame(train_json)\nall_train",
      "response": {
       "content": {
        "data": {
         "text/html": "<div>\n<style scoped>\n    .dataframe tbody tr th:only-of-type {\n        vertical-align: middle;\n    }\n\n    .dataframe tbody tr th {\n        vertical-align: top;\n    }\n\n    .dataframe thead th {\n        text-align: right;\n    }\n</style>\n<table border=\"1\" class=\"dataframe\">\n  <thead>\n    <tr style=\"text-align: right;\">\n      <th></th>\n      <th>categories</th>\n      <th>categoryID</th>\n      <th>helpful</th>\n      <th>itemID</th>\n      <th>price</th>\n      <th>rating</th>\n      <th>reviewHash</th>\n      <th>reviewText</th>\n      <th>reviewTime</th>\n      <th>reviewerID</th>\n      <th>summary</th>\n      <th>unixReviewTime</th>\n    </tr>\n  </thead>\n  <tbody>\n    <tr>\n      <th>0</th>\n      <td>[[Clothing, Shoes &amp; Jewelry, Women], [Clothing...</td>\n      <td>0</td>\n      <td>{'nHelpful': 0, 'outOf': 0}</td>\n      <td>I402344648</td>\n      <td>NaN</td>\n      <td>4.0</td>\n      <td>R798569390</td>\n      <td>The model in this picture has them rolled up a...</td>\n      <td>09 26, 2013</td>\n      <td>U490934656</td>\n      <td>High Waisted</td>\n      <td>1380153600</td>\n    </tr>\n    <tr>\n      <th>1</th>\n      <td>[[Clothing, Shoes &amp; Jewelry, Women, Clothing, ...</td>\n      <td>0</td>\n      <td>{'nHelpful': 0, 'outOf': 0}</td>\n      <td>I697650540</td>\n      <td>NaN</td>\n      <td>4.0</td>\n      <td>R436443063</td>\n      <td>I love the look of this bra, it is what I want...</td>\n      <td>02 7, 2013</td>\n      <td>U714157797</td>\n      <td>Beautiful but size runs small</td>\n      <td>1360195200</td>\n    </tr>\n    <tr>\n      <th>2</th>\n      <td>[[Clothing, Shoes &amp; Jewelry, Wedding Party Gif...</td>\n      <td>0</td>\n      <td>{'nHelpful': 0, 'outOf': 0}</td>\n      <td>I464613034</td>\n      <td>19.99</td>\n      <td>5.0</td>\n      <td>R103439446</td>\n      <td>I am not comfortable with wearing my wedding b...</td>\n      <td>03 16, 2014</td>\n      <td>U507366950</td>\n      <td>Great Alternative for Nurses</td>\n      <td>1394928000</td>\n    </tr>\n    <tr>\n      <th>...</th>\n      <td>...</td>\n      <td>...</td>\n      <td>...</td>\n      <td>...</td>\n      <td>...</td>\n      <td>...</td>\n      <td>...</td>\n      <td>...</td>\n      <td>...</td>\n      <td>...</td>\n      <td>...</td>\n      <td>...</td>\n    </tr>\n    <tr>\n      <th>199997</th>\n      <td>[[Clothing, Shoes &amp; Jewelry, Jewelry: Internat...</td>\n      <td>0</td>\n      <td>{'nHelpful': 0, 'outOf': 0}</td>\n      <td>I037381245</td>\n      <td>34.99</td>\n      <td>4.0</td>\n      <td>R088851171</td>\n      <td>I have a pair of earrings just like this (only...</td>\n      <td>09 22, 2012</td>\n      <td>U525354881</td>\n      <td>Lovely, but small</td>\n      <td>1348272000</td>\n    </tr>\n    <tr>\n      <th>199998</th>\n      <td>[[Clothing, Shoes &amp; Jewelry, Women, Accessorie...</td>\n      <td>0</td>\n      <td>{'nHelpful': 0, 'outOf': 1}</td>\n      <td>I343675670</td>\n      <td>7.50</td>\n      <td>5.0</td>\n      <td>R524991477</td>\n      <td>My granddaughter love the scarf and fit perfec...</td>\n      <td>12 27, 2013</td>\n      <td>U995566285</td>\n      <td>Scarf</td>\n      <td>1388102400</td>\n    </tr>\n    <tr>\n      <th>199999</th>\n      <td>[[Clothing, Shoes &amp; Jewelry, Baby, Baby Girls,...</td>\n      <td>4</td>\n      <td>{'nHelpful': 1, 'outOf': 2}</td>\n      <td>I757871532</td>\n      <td>NaN</td>\n      <td>1.0</td>\n      <td>R695913313</td>\n      <td>My baby wore it only one time and there are ho...</td>\n      <td>03 1, 2014</td>\n      <td>U994496485</td>\n      <td>Very bad!</td>\n      <td>1393632000</td>\n    </tr>\n  </tbody>\n</table>\n<p>200000 rows × 12 columns</p>\n</div>",
         "text/plain": "                                               categories  categoryID  \\\n0       [[Clothing, Shoes & Jewelry, Women], [Clothing...           0   \n1       [[Clothing, Shoes & Jewelry, Women, Clothing, ...           0   \n2       [[Clothing, Shoes & Jewelry, Wedding Party Gif...           0   \n...                                                   ...         ...   \n199997  [[Clothing, Shoes & Jewelry, Jewelry: Internat...           0   \n199998  [[Clothing, Shoes & Jewelry, Women, Accessorie...           0   \n199999  [[Clothing, Shoes & Jewelry, Baby, Baby Girls,...           4   \n\n                            helpful      itemID  price  rating  reviewHash  \\\n0       {'nHelpful': 0, 'outOf': 0}  I402344648    NaN     4.0  R798569390   \n1       {'nHelpful': 0, 'outOf': 0}  I697650540    NaN     4.0  R436443063   \n2       {'nHelpful': 0, 'outOf': 0}  I464613034  19.99     5.0  R103439446   \n...                             ...         ...    ...     ...         ...   \n199997  {'nHelpful': 0, 'outOf': 0}  I037381245  34.99     4.0  R088851171   \n199998  {'nHelpful': 0, 'outOf': 1}  I343675670   7.50     5.0  R524991477   \n199999  {'nHelpful': 1, 'outOf': 2}  I757871532    NaN     1.0  R695913313   \n\n                                               reviewText   reviewTime  \\\n0       The model in this picture has them rolled up a...  09 26, 2013   \n1       I love the look of this bra, it is what I want...   02 7, 2013   \n2       I am not comfortable with wearing my wedding b...  03 16, 2014   \n...                                                   ...          ...   \n199997  I have a pair of earrings just like this (only...  09 22, 2012   \n199998  My granddaughter love the scarf and fit perfec...  12 27, 2013   \n199999  My baby wore it only one time and there are ho...   03 1, 2014   \n\n        reviewerID                        summary  unixReviewTime  \n0       U490934656                   High Waisted      1380153600  \n1       U714157797  Beautiful but size runs small      1360195200  \n2       U507366950   Great Alternative for Nurses      1394928000  \n...            ...                            ...             ...  \n199997  U525354881              Lovely, but small      1348272000  \n199998  U995566285                          Scarf      1388102400  \n199999  U994496485                      Very bad!      1393632000  \n\n[200000 rows x 12 columns]"
        },
        "execution_count": 5,
        "metadata": {}
       },
       "metadata": {},
       "msg_type": "execute_result",
       "version": "5.3"
      },
      "timestamp": "2018-11-16T04:41:07.509Z"
     },
     {
      "code": "all_train = pd.DataFrame(train_json)\nall_train",
      "response": {
       "content": {
        "data": {
         "text/html": "<div>\n<style scoped>\n    .dataframe tbody tr th:only-of-type {\n        vertical-align: middle;\n    }\n\n    .dataframe tbody tr th {\n        vertical-align: top;\n    }\n\n    .dataframe thead th {\n        text-align: right;\n    }\n</style>\n<table border=\"1\" class=\"dataframe\">\n  <thead>\n    <tr style=\"text-align: right;\">\n      <th></th>\n      <th>categories</th>\n      <th>categoryID</th>\n      <th>helpful</th>\n      <th>itemID</th>\n      <th>price</th>\n      <th>rating</th>\n      <th>reviewHash</th>\n      <th>reviewText</th>\n      <th>reviewTime</th>\n      <th>reviewerID</th>\n      <th>summary</th>\n      <th>unixReviewTime</th>\n    </tr>\n  </thead>\n  <tbody>\n    <tr>\n      <th>0</th>\n      <td>[[Clothing, Shoes &amp; Jewelry, Women], [Clothing...</td>\n      <td>0</td>\n      <td>{'nHelpful': 0, 'outOf': 0}</td>\n      <td>I402344648</td>\n      <td>NaN</td>\n      <td>4.0</td>\n      <td>R798569390</td>\n      <td>The model in this picture has them rolled up a...</td>\n      <td>09 26, 2013</td>\n      <td>U490934656</td>\n      <td>High Waisted</td>\n      <td>1380153600</td>\n    </tr>\n    <tr>\n      <th>1</th>\n      <td>[[Clothing, Shoes &amp; Jewelry, Women, Clothing, ...</td>\n      <td>0</td>\n      <td>{'nHelpful': 0, 'outOf': 0}</td>\n      <td>I697650540</td>\n      <td>NaN</td>\n      <td>4.0</td>\n      <td>R436443063</td>\n      <td>I love the look of this bra, it is what I want...</td>\n      <td>02 7, 2013</td>\n      <td>U714157797</td>\n      <td>Beautiful but size runs small</td>\n      <td>1360195200</td>\n    </tr>\n    <tr>\n      <th>...</th>\n      <td>...</td>\n      <td>...</td>\n      <td>...</td>\n      <td>...</td>\n      <td>...</td>\n      <td>...</td>\n      <td>...</td>\n      <td>...</td>\n      <td>...</td>\n      <td>...</td>\n      <td>...</td>\n      <td>...</td>\n    </tr>\n    <tr>\n      <th>199998</th>\n      <td>[[Clothing, Shoes &amp; Jewelry, Women, Accessorie...</td>\n      <td>0</td>\n      <td>{'nHelpful': 0, 'outOf': 1}</td>\n      <td>I343675670</td>\n      <td>7.5</td>\n      <td>5.0</td>\n      <td>R524991477</td>\n      <td>My granddaughter love the scarf and fit perfec...</td>\n      <td>12 27, 2013</td>\n      <td>U995566285</td>\n      <td>Scarf</td>\n      <td>1388102400</td>\n    </tr>\n    <tr>\n      <th>199999</th>\n      <td>[[Clothing, Shoes &amp; Jewelry, Baby, Baby Girls,...</td>\n      <td>4</td>\n      <td>{'nHelpful': 1, 'outOf': 2}</td>\n      <td>I757871532</td>\n      <td>NaN</td>\n      <td>1.0</td>\n      <td>R695913313</td>\n      <td>My baby wore it only one time and there are ho...</td>\n      <td>03 1, 2014</td>\n      <td>U994496485</td>\n      <td>Very bad!</td>\n      <td>1393632000</td>\n    </tr>\n  </tbody>\n</table>\n<p>200000 rows × 12 columns</p>\n</div>",
         "text/plain": "                                               categories  categoryID  \\\n0       [[Clothing, Shoes & Jewelry, Women], [Clothing...           0   \n1       [[Clothing, Shoes & Jewelry, Women, Clothing, ...           0   \n...                                                   ...         ...   \n199998  [[Clothing, Shoes & Jewelry, Women, Accessorie...           0   \n199999  [[Clothing, Shoes & Jewelry, Baby, Baby Girls,...           4   \n\n                            helpful      itemID  price  rating  reviewHash  \\\n0       {'nHelpful': 0, 'outOf': 0}  I402344648    NaN     4.0  R798569390   \n1       {'nHelpful': 0, 'outOf': 0}  I697650540    NaN     4.0  R436443063   \n...                             ...         ...    ...     ...         ...   \n199998  {'nHelpful': 0, 'outOf': 1}  I343675670    7.5     5.0  R524991477   \n199999  {'nHelpful': 1, 'outOf': 2}  I757871532    NaN     1.0  R695913313   \n\n                                               reviewText   reviewTime  \\\n0       The model in this picture has them rolled up a...  09 26, 2013   \n1       I love the look of this bra, it is what I want...   02 7, 2013   \n...                                                   ...          ...   \n199998  My granddaughter love the scarf and fit perfec...  12 27, 2013   \n199999  My baby wore it only one time and there are ho...   03 1, 2014   \n\n        reviewerID                        summary  unixReviewTime  \n0       U490934656                   High Waisted      1380153600  \n1       U714157797  Beautiful but size runs small      1360195200  \n...            ...                            ...             ...  \n199998  U995566285                          Scarf      1388102400  \n199999  U994496485                      Very bad!      1393632000  \n\n[200000 rows x 12 columns]"
        },
        "execution_count": 7,
        "metadata": {}
       },
       "metadata": {},
       "msg_type": "execute_result",
       "version": "5.3"
      },
      "timestamp": "2018-11-16T04:41:38.921Z"
     },
     {
      "code": "np.random.seed(42)\n\nall_train = (pd.DataFrame(train_json)\n             .sample(frac=1.0))\nall_train.reset_index()",
      "response": {
       "content": {
        "data": {
         "text/html": "<div>\n<style scoped>\n    .dataframe tbody tr th:only-of-type {\n        vertical-align: middle;\n    }\n\n    .dataframe tbody tr th {\n        vertical-align: top;\n    }\n\n    .dataframe thead th {\n        text-align: right;\n    }\n</style>\n<table border=\"1\" class=\"dataframe\">\n  <thead>\n    <tr style=\"text-align: right;\">\n      <th></th>\n      <th>index</th>\n      <th>categories</th>\n      <th>categoryID</th>\n      <th>helpful</th>\n      <th>itemID</th>\n      <th>price</th>\n      <th>rating</th>\n      <th>reviewHash</th>\n      <th>reviewText</th>\n      <th>reviewTime</th>\n      <th>reviewerID</th>\n      <th>summary</th>\n      <th>unixReviewTime</th>\n    </tr>\n  </thead>\n  <tbody>\n    <tr>\n      <th>0</th>\n      <td>119737</td>\n      <td>[[Clothing, Shoes &amp; Jewelry, Men, Clothing, Un...</td>\n      <td>1</td>\n      <td>{'nHelpful': 1, 'outOf': 2}</td>\n      <td>I468914777</td>\n      <td>NaN</td>\n      <td>5.0</td>\n      <td>R074361332</td>\n      <td>As the style of men's dress slacks has gone fr...</td>\n      <td>08 12, 2013</td>\n      <td>U124242884</td>\n      <td>Awesome replacement for loose boxers</td>\n      <td>1376265600</td>\n    </tr>\n    <tr>\n      <th>1</th>\n      <td>72272</td>\n      <td>[[Clothing, Shoes &amp; Jewelry, Boot Shop, Women,...</td>\n      <td>0</td>\n      <td>{'nHelpful': 0, 'outOf': 0}</td>\n      <td>I018273309</td>\n      <td>NaN</td>\n      <td>4.0</td>\n      <td>R957464586</td>\n      <td>The sizing seems to be typical to what any in ...</td>\n      <td>12 30, 2013</td>\n      <td>U133141551</td>\n      <td>spot on sizing</td>\n      <td>1388361600</td>\n    </tr>\n    <tr>\n      <th>...</th>\n      <td>...</td>\n      <td>...</td>\n      <td>...</td>\n      <td>...</td>\n      <td>...</td>\n      <td>...</td>\n      <td>...</td>\n      <td>...</td>\n      <td>...</td>\n      <td>...</td>\n      <td>...</td>\n      <td>...</td>\n      <td>...</td>\n    </tr>\n    <tr>\n      <th>199998</th>\n      <td>146867</td>\n      <td>[[Clothing, Shoes &amp; Jewelry, Women, Clothing, ...</td>\n      <td>0</td>\n      <td>{'nHelpful': 2, 'outOf': 2}</td>\n      <td>I979997172</td>\n      <td>8.79</td>\n      <td>5.0</td>\n      <td>R516593913</td>\n      <td>These are the best Fruit of the Loom's I've pu...</td>\n      <td>06 12, 2011</td>\n      <td>U054970246</td>\n      <td>Comfortable &amp; Pretty</td>\n      <td>1307836800</td>\n    </tr>\n    <tr>\n      <th>199999</th>\n      <td>121958</td>\n      <td>[[Clothing, Shoes &amp; Jewelry, Shoes &amp; Accessori...</td>\n      <td>1</td>\n      <td>{'nHelpful': 0, 'outOf': 0}</td>\n      <td>I502528857</td>\n      <td>74.71</td>\n      <td>5.0</td>\n      <td>R529768374</td>\n      <td>This is my second pair, I wore the first pair ...</td>\n      <td>12 27, 2013</td>\n      <td>U358093471</td>\n      <td>A Great Pair of Sunglasses</td>\n      <td>1388102400</td>\n    </tr>\n  </tbody>\n</table>\n<p>200000 rows × 13 columns</p>\n</div>",
         "text/plain": "         index                                         categories  categoryID  \\\n0       119737  [[Clothing, Shoes & Jewelry, Men, Clothing, Un...           1   \n1        72272  [[Clothing, Shoes & Jewelry, Boot Shop, Women,...           0   \n...        ...                                                ...         ...   \n199998  146867  [[Clothing, Shoes & Jewelry, Women, Clothing, ...           0   \n199999  121958  [[Clothing, Shoes & Jewelry, Shoes & Accessori...           1   \n\n                            helpful      itemID  price  rating  reviewHash  \\\n0       {'nHelpful': 1, 'outOf': 2}  I468914777    NaN     5.0  R074361332   \n1       {'nHelpful': 0, 'outOf': 0}  I018273309    NaN     4.0  R957464586   \n...                             ...         ...    ...     ...         ...   \n199998  {'nHelpful': 2, 'outOf': 2}  I979997172   8.79     5.0  R516593913   \n199999  {'nHelpful': 0, 'outOf': 0}  I502528857  74.71     5.0  R529768374   \n\n                                               reviewText   reviewTime  \\\n0       As the style of men's dress slacks has gone fr...  08 12, 2013   \n1       The sizing seems to be typical to what any in ...  12 30, 2013   \n...                                                   ...          ...   \n199998  These are the best Fruit of the Loom's I've pu...  06 12, 2011   \n199999  This is my second pair, I wore the first pair ...  12 27, 2013   \n\n        reviewerID                               summary  unixReviewTime  \n0       U124242884  Awesome replacement for loose boxers      1376265600  \n1       U133141551                        spot on sizing      1388361600  \n...            ...                                   ...             ...  \n199998  U054970246                  Comfortable & Pretty      1307836800  \n199999  U358093471            A Great Pair of Sunglasses      1388102400  \n\n[200000 rows x 13 columns]"
        },
        "execution_count": 18,
        "metadata": {}
       },
       "metadata": {},
       "msg_type": "execute_result",
       "version": "5.3"
      },
      "timestamp": "2018-11-16T05:01:08.508Z"
     },
     {
      "code": "np.random.seed(42)\n\nall_train = (pd.DataFrame(train_json)\n             .sample(frac=1.0))\nall_train.reset_index(drop=True)",
      "response": {
       "content": {
        "data": {
         "text/html": "<div>\n<style scoped>\n    .dataframe tbody tr th:only-of-type {\n        vertical-align: middle;\n    }\n\n    .dataframe tbody tr th {\n        vertical-align: top;\n    }\n\n    .dataframe thead th {\n        text-align: right;\n    }\n</style>\n<table border=\"1\" class=\"dataframe\">\n  <thead>\n    <tr style=\"text-align: right;\">\n      <th></th>\n      <th>categories</th>\n      <th>categoryID</th>\n      <th>helpful</th>\n      <th>itemID</th>\n      <th>price</th>\n      <th>rating</th>\n      <th>reviewHash</th>\n      <th>reviewText</th>\n      <th>reviewTime</th>\n      <th>reviewerID</th>\n      <th>summary</th>\n      <th>unixReviewTime</th>\n    </tr>\n  </thead>\n  <tbody>\n    <tr>\n      <th>0</th>\n      <td>[[Clothing, Shoes &amp; Jewelry, Men, Clothing, Un...</td>\n      <td>1</td>\n      <td>{'nHelpful': 1, 'outOf': 2}</td>\n      <td>I468914777</td>\n      <td>NaN</td>\n      <td>5.0</td>\n      <td>R074361332</td>\n      <td>As the style of men's dress slacks has gone fr...</td>\n      <td>08 12, 2013</td>\n      <td>U124242884</td>\n      <td>Awesome replacement for loose boxers</td>\n      <td>1376265600</td>\n    </tr>\n    <tr>\n      <th>1</th>\n      <td>[[Clothing, Shoes &amp; Jewelry, Boot Shop, Women,...</td>\n      <td>0</td>\n      <td>{'nHelpful': 0, 'outOf': 0}</td>\n      <td>I018273309</td>\n      <td>NaN</td>\n      <td>4.0</td>\n      <td>R957464586</td>\n      <td>The sizing seems to be typical to what any in ...</td>\n      <td>12 30, 2013</td>\n      <td>U133141551</td>\n      <td>spot on sizing</td>\n      <td>1388361600</td>\n    </tr>\n    <tr>\n      <th>...</th>\n      <td>...</td>\n      <td>...</td>\n      <td>...</td>\n      <td>...</td>\n      <td>...</td>\n      <td>...</td>\n      <td>...</td>\n      <td>...</td>\n      <td>...</td>\n      <td>...</td>\n      <td>...</td>\n      <td>...</td>\n    </tr>\n    <tr>\n      <th>199998</th>\n      <td>[[Clothing, Shoes &amp; Jewelry, Women, Clothing, ...</td>\n      <td>0</td>\n      <td>{'nHelpful': 2, 'outOf': 2}</td>\n      <td>I979997172</td>\n      <td>8.79</td>\n      <td>5.0</td>\n      <td>R516593913</td>\n      <td>These are the best Fruit of the Loom's I've pu...</td>\n      <td>06 12, 2011</td>\n      <td>U054970246</td>\n      <td>Comfortable &amp; Pretty</td>\n      <td>1307836800</td>\n    </tr>\n    <tr>\n      <th>199999</th>\n      <td>[[Clothing, Shoes &amp; Jewelry, Shoes &amp; Accessori...</td>\n      <td>1</td>\n      <td>{'nHelpful': 0, 'outOf': 0}</td>\n      <td>I502528857</td>\n      <td>74.71</td>\n      <td>5.0</td>\n      <td>R529768374</td>\n      <td>This is my second pair, I wore the first pair ...</td>\n      <td>12 27, 2013</td>\n      <td>U358093471</td>\n      <td>A Great Pair of Sunglasses</td>\n      <td>1388102400</td>\n    </tr>\n  </tbody>\n</table>\n<p>200000 rows × 12 columns</p>\n</div>",
         "text/plain": "                                               categories  categoryID  \\\n0       [[Clothing, Shoes & Jewelry, Men, Clothing, Un...           1   \n1       [[Clothing, Shoes & Jewelry, Boot Shop, Women,...           0   \n...                                                   ...         ...   \n199998  [[Clothing, Shoes & Jewelry, Women, Clothing, ...           0   \n199999  [[Clothing, Shoes & Jewelry, Shoes & Accessori...           1   \n\n                            helpful      itemID  price  rating  reviewHash  \\\n0       {'nHelpful': 1, 'outOf': 2}  I468914777    NaN     5.0  R074361332   \n1       {'nHelpful': 0, 'outOf': 0}  I018273309    NaN     4.0  R957464586   \n...                             ...         ...    ...     ...         ...   \n199998  {'nHelpful': 2, 'outOf': 2}  I979997172   8.79     5.0  R516593913   \n199999  {'nHelpful': 0, 'outOf': 0}  I502528857  74.71     5.0  R529768374   \n\n                                               reviewText   reviewTime  \\\n0       As the style of men's dress slacks has gone fr...  08 12, 2013   \n1       The sizing seems to be typical to what any in ...  12 30, 2013   \n...                                                   ...          ...   \n199998  These are the best Fruit of the Loom's I've pu...  06 12, 2011   \n199999  This is my second pair, I wore the first pair ...  12 27, 2013   \n\n        reviewerID                               summary  unixReviewTime  \n0       U124242884  Awesome replacement for loose boxers      1376265600  \n1       U133141551                        spot on sizing      1388361600  \n...            ...                                   ...             ...  \n199998  U054970246                  Comfortable & Pretty      1307836800  \n199999  U358093471            A Great Pair of Sunglasses      1388102400  \n\n[200000 rows x 12 columns]"
        },
        "execution_count": 21,
        "metadata": {}
       },
       "metadata": {},
       "msg_type": "execute_result",
       "version": "5.3"
      },
      "timestamp": "2018-11-16T05:01:24.940Z"
     },
     {
      "code": "all_train = pd.DataFrame(train_json)\nall_train",
      "response": {
       "content": {
        "data": {
         "text/html": "<div>\n<style scoped>\n    .dataframe tbody tr th:only-of-type {\n        vertical-align: middle;\n    }\n\n    .dataframe tbody tr th {\n        vertical-align: top;\n    }\n\n    .dataframe thead th {\n        text-align: right;\n    }\n</style>\n<table border=\"1\" class=\"dataframe\">\n  <thead>\n    <tr style=\"text-align: right;\">\n      <th></th>\n      <th>categories</th>\n      <th>categoryID</th>\n      <th>helpful</th>\n      <th>itemID</th>\n      <th>price</th>\n      <th>rating</th>\n      <th>reviewHash</th>\n      <th>reviewText</th>\n      <th>reviewTime</th>\n      <th>reviewerID</th>\n      <th>summary</th>\n      <th>unixReviewTime</th>\n    </tr>\n  </thead>\n  <tbody>\n    <tr>\n      <th>0</th>\n      <td>[[Clothing, Shoes &amp; Jewelry, Women], [Clothing...</td>\n      <td>0</td>\n      <td>{'nHelpful': 0, 'outOf': 0}</td>\n      <td>I402344648</td>\n      <td>NaN</td>\n      <td>4.0</td>\n      <td>R798569390</td>\n      <td>The model in this picture has them rolled up a...</td>\n      <td>09 26, 2013</td>\n      <td>U490934656</td>\n      <td>High Waisted</td>\n      <td>1380153600</td>\n    </tr>\n    <tr>\n      <th>1</th>\n      <td>[[Clothing, Shoes &amp; Jewelry, Women, Clothing, ...</td>\n      <td>0</td>\n      <td>{'nHelpful': 0, 'outOf': 0}</td>\n      <td>I697650540</td>\n      <td>NaN</td>\n      <td>4.0</td>\n      <td>R436443063</td>\n      <td>I love the look of this bra, it is what I want...</td>\n      <td>02 7, 2013</td>\n      <td>U714157797</td>\n      <td>Beautiful but size runs small</td>\n      <td>1360195200</td>\n    </tr>\n    <tr>\n      <th>...</th>\n      <td>...</td>\n      <td>...</td>\n      <td>...</td>\n      <td>...</td>\n      <td>...</td>\n      <td>...</td>\n      <td>...</td>\n      <td>...</td>\n      <td>...</td>\n      <td>...</td>\n      <td>...</td>\n      <td>...</td>\n    </tr>\n    <tr>\n      <th>199998</th>\n      <td>[[Clothing, Shoes &amp; Jewelry, Women, Accessorie...</td>\n      <td>0</td>\n      <td>{'nHelpful': 0, 'outOf': 1}</td>\n      <td>I343675670</td>\n      <td>7.5</td>\n      <td>5.0</td>\n      <td>R524991477</td>\n      <td>My granddaughter love the scarf and fit perfec...</td>\n      <td>12 27, 2013</td>\n      <td>U995566285</td>\n      <td>Scarf</td>\n      <td>1388102400</td>\n    </tr>\n    <tr>\n      <th>199999</th>\n      <td>[[Clothing, Shoes &amp; Jewelry, Baby, Baby Girls,...</td>\n      <td>4</td>\n      <td>{'nHelpful': 1, 'outOf': 2}</td>\n      <td>I757871532</td>\n      <td>NaN</td>\n      <td>1.0</td>\n      <td>R695913313</td>\n      <td>My baby wore it only one time and there are ho...</td>\n      <td>03 1, 2014</td>\n      <td>U994496485</td>\n      <td>Very bad!</td>\n      <td>1393632000</td>\n    </tr>\n  </tbody>\n</table>\n<p>200000 rows × 12 columns</p>\n</div>",
         "text/plain": "                                               categories  categoryID  \\\n0       [[Clothing, Shoes & Jewelry, Women], [Clothing...           0   \n1       [[Clothing, Shoes & Jewelry, Women, Clothing, ...           0   \n...                                                   ...         ...   \n199998  [[Clothing, Shoes & Jewelry, Women, Accessorie...           0   \n199999  [[Clothing, Shoes & Jewelry, Baby, Baby Girls,...           4   \n\n                            helpful      itemID  price  rating  reviewHash  \\\n0       {'nHelpful': 0, 'outOf': 0}  I402344648    NaN     4.0  R798569390   \n1       {'nHelpful': 0, 'outOf': 0}  I697650540    NaN     4.0  R436443063   \n...                             ...         ...    ...     ...         ...   \n199998  {'nHelpful': 0, 'outOf': 1}  I343675670    7.5     5.0  R524991477   \n199999  {'nHelpful': 1, 'outOf': 2}  I757871532    NaN     1.0  R695913313   \n\n                                               reviewText   reviewTime  \\\n0       The model in this picture has them rolled up a...  09 26, 2013   \n1       I love the look of this bra, it is what I want...   02 7, 2013   \n...                                                   ...          ...   \n199998  My granddaughter love the scarf and fit perfec...  12 27, 2013   \n199999  My baby wore it only one time and there are ho...   03 1, 2014   \n\n        reviewerID                        summary  unixReviewTime  \n0       U490934656                   High Waisted      1380153600  \n1       U714157797  Beautiful but size runs small      1360195200  \n...            ...                            ...             ...  \n199998  U995566285                          Scarf      1388102400  \n199999  U994496485                      Very bad!      1393632000  \n\n[200000 rows x 12 columns]"
        },
        "execution_count": 29,
        "metadata": {}
       },
       "metadata": {},
       "msg_type": "execute_result",
       "version": "5.3"
      },
      "timestamp": "2018-11-16T05:24:33.045Z"
     },
     {
      "code": "all_train = pd.DataFrame(train_json)\nall_train",
      "response": {
       "content": {
        "data": {
         "text/html": "<div>\n<style scoped>\n    .dataframe tbody tr th:only-of-type {\n        vertical-align: middle;\n    }\n\n    .dataframe tbody tr th {\n        vertical-align: top;\n    }\n\n    .dataframe thead th {\n        text-align: right;\n    }\n</style>\n<table border=\"1\" class=\"dataframe\">\n  <thead>\n    <tr style=\"text-align: right;\">\n      <th></th>\n      <th>categories</th>\n      <th>categoryID</th>\n      <th>helpful</th>\n      <th>itemID</th>\n      <th>price</th>\n      <th>rating</th>\n      <th>reviewHash</th>\n      <th>reviewText</th>\n      <th>reviewTime</th>\n      <th>reviewerID</th>\n      <th>summary</th>\n      <th>unixReviewTime</th>\n    </tr>\n  </thead>\n  <tbody>\n    <tr>\n      <th>0</th>\n      <td>[[Clothing, Shoes &amp; Jewelry, Women], [Clothing...</td>\n      <td>0</td>\n      <td>{'nHelpful': 0, 'outOf': 0}</td>\n      <td>I402344648</td>\n      <td>NaN</td>\n      <td>4.0</td>\n      <td>R798569390</td>\n      <td>The model in this picture has them rolled up a...</td>\n      <td>09 26, 2013</td>\n      <td>U490934656</td>\n      <td>High Waisted</td>\n      <td>1380153600</td>\n    </tr>\n    <tr>\n      <th>1</th>\n      <td>[[Clothing, Shoes &amp; Jewelry, Women, Clothing, ...</td>\n      <td>0</td>\n      <td>{'nHelpful': 0, 'outOf': 0}</td>\n      <td>I697650540</td>\n      <td>NaN</td>\n      <td>4.0</td>\n      <td>R436443063</td>\n      <td>I love the look of this bra, it is what I want...</td>\n      <td>02 7, 2013</td>\n      <td>U714157797</td>\n      <td>Beautiful but size runs small</td>\n      <td>1360195200</td>\n    </tr>\n    <tr>\n      <th>...</th>\n      <td>...</td>\n      <td>...</td>\n      <td>...</td>\n      <td>...</td>\n      <td>...</td>\n      <td>...</td>\n      <td>...</td>\n      <td>...</td>\n      <td>...</td>\n      <td>...</td>\n      <td>...</td>\n      <td>...</td>\n    </tr>\n    <tr>\n      <th>199998</th>\n      <td>[[Clothing, Shoes &amp; Jewelry, Women, Accessorie...</td>\n      <td>0</td>\n      <td>{'nHelpful': 0, 'outOf': 1}</td>\n      <td>I343675670</td>\n      <td>7.5</td>\n      <td>5.0</td>\n      <td>R524991477</td>\n      <td>My granddaughter love the scarf and fit perfec...</td>\n      <td>12 27, 2013</td>\n      <td>U995566285</td>\n      <td>Scarf</td>\n      <td>1388102400</td>\n    </tr>\n    <tr>\n      <th>199999</th>\n      <td>[[Clothing, Shoes &amp; Jewelry, Baby, Baby Girls,...</td>\n      <td>4</td>\n      <td>{'nHelpful': 1, 'outOf': 2}</td>\n      <td>I757871532</td>\n      <td>NaN</td>\n      <td>1.0</td>\n      <td>R695913313</td>\n      <td>My baby wore it only one time and there are ho...</td>\n      <td>03 1, 2014</td>\n      <td>U994496485</td>\n      <td>Very bad!</td>\n      <td>1393632000</td>\n    </tr>\n  </tbody>\n</table>\n<p>200000 rows × 12 columns</p>\n</div>",
         "text/plain": "                                               categories  categoryID  \\\n0       [[Clothing, Shoes & Jewelry, Women], [Clothing...           0   \n1       [[Clothing, Shoes & Jewelry, Women, Clothing, ...           0   \n...                                                   ...         ...   \n199998  [[Clothing, Shoes & Jewelry, Women, Accessorie...           0   \n199999  [[Clothing, Shoes & Jewelry, Baby, Baby Girls,...           4   \n\n                            helpful      itemID  price  rating  reviewHash  \\\n0       {'nHelpful': 0, 'outOf': 0}  I402344648    NaN     4.0  R798569390   \n1       {'nHelpful': 0, 'outOf': 0}  I697650540    NaN     4.0  R436443063   \n...                             ...         ...    ...     ...         ...   \n199998  {'nHelpful': 0, 'outOf': 1}  I343675670    7.5     5.0  R524991477   \n199999  {'nHelpful': 1, 'outOf': 2}  I757871532    NaN     1.0  R695913313   \n\n                                               reviewText   reviewTime  \\\n0       The model in this picture has them rolled up a...  09 26, 2013   \n1       I love the look of this bra, it is what I want...   02 7, 2013   \n...                                                   ...          ...   \n199998  My granddaughter love the scarf and fit perfec...  12 27, 2013   \n199999  My baby wore it only one time and there are ho...   03 1, 2014   \n\n        reviewerID                        summary  unixReviewTime  \n0       U490934656                   High Waisted      1380153600  \n1       U714157797  Beautiful but size runs small      1360195200  \n...            ...                            ...             ...  \n199998  U995566285                          Scarf      1388102400  \n199999  U994496485                      Very bad!      1393632000  \n\n[200000 rows x 12 columns]"
        },
        "execution_count": 5,
        "metadata": {}
       },
       "metadata": {},
       "msg_type": "execute_result",
       "version": "5.3"
      },
      "timestamp": "2018-11-16T05:42:02.767Z"
     },
     {
      "code": "all_train = pd.DataFrame(train_json)\nall_train",
      "response": {
       "content": {
        "data": {
         "text/html": "<div>\n<style scoped>\n    .dataframe tbody tr th:only-of-type {\n        vertical-align: middle;\n    }\n\n    .dataframe tbody tr th {\n        vertical-align: top;\n    }\n\n    .dataframe thead th {\n        text-align: right;\n    }\n</style>\n<table border=\"1\" class=\"dataframe\">\n  <thead>\n    <tr style=\"text-align: right;\">\n      <th></th>\n      <th>categories</th>\n      <th>categoryID</th>\n      <th>helpful</th>\n      <th>itemID</th>\n      <th>price</th>\n      <th>rating</th>\n      <th>reviewHash</th>\n      <th>reviewText</th>\n      <th>reviewTime</th>\n      <th>reviewerID</th>\n      <th>summary</th>\n      <th>unixReviewTime</th>\n    </tr>\n  </thead>\n  <tbody>\n    <tr>\n      <th>0</th>\n      <td>[[Clothing, Shoes &amp; Jewelry, Women], [Clothing...</td>\n      <td>0</td>\n      <td>{'nHelpful': 0, 'outOf': 0}</td>\n      <td>I402344648</td>\n      <td>NaN</td>\n      <td>4.0</td>\n      <td>R798569390</td>\n      <td>The model in this picture has them rolled up a...</td>\n      <td>09 26, 2013</td>\n      <td>U490934656</td>\n      <td>High Waisted</td>\n      <td>1380153600</td>\n    </tr>\n    <tr>\n      <th>1</th>\n      <td>[[Clothing, Shoes &amp; Jewelry, Women, Clothing, ...</td>\n      <td>0</td>\n      <td>{'nHelpful': 0, 'outOf': 0}</td>\n      <td>I697650540</td>\n      <td>NaN</td>\n      <td>4.0</td>\n      <td>R436443063</td>\n      <td>I love the look of this bra, it is what I want...</td>\n      <td>02 7, 2013</td>\n      <td>U714157797</td>\n      <td>Beautiful but size runs small</td>\n      <td>1360195200</td>\n    </tr>\n    <tr>\n      <th>...</th>\n      <td>...</td>\n      <td>...</td>\n      <td>...</td>\n      <td>...</td>\n      <td>...</td>\n      <td>...</td>\n      <td>...</td>\n      <td>...</td>\n      <td>...</td>\n      <td>...</td>\n      <td>...</td>\n      <td>...</td>\n    </tr>\n    <tr>\n      <th>199998</th>\n      <td>[[Clothing, Shoes &amp; Jewelry, Women, Accessorie...</td>\n      <td>0</td>\n      <td>{'nHelpful': 0, 'outOf': 1}</td>\n      <td>I343675670</td>\n      <td>7.5</td>\n      <td>5.0</td>\n      <td>R524991477</td>\n      <td>My granddaughter love the scarf and fit perfec...</td>\n      <td>12 27, 2013</td>\n      <td>U995566285</td>\n      <td>Scarf</td>\n      <td>1388102400</td>\n    </tr>\n    <tr>\n      <th>199999</th>\n      <td>[[Clothing, Shoes &amp; Jewelry, Baby, Baby Girls,...</td>\n      <td>4</td>\n      <td>{'nHelpful': 1, 'outOf': 2}</td>\n      <td>I757871532</td>\n      <td>NaN</td>\n      <td>1.0</td>\n      <td>R695913313</td>\n      <td>My baby wore it only one time and there are ho...</td>\n      <td>03 1, 2014</td>\n      <td>U994496485</td>\n      <td>Very bad!</td>\n      <td>1393632000</td>\n    </tr>\n  </tbody>\n</table>\n<p>200000 rows × 12 columns</p>\n</div>",
         "text/plain": "                                               categories  categoryID  \\\n0       [[Clothing, Shoes & Jewelry, Women], [Clothing...           0   \n1       [[Clothing, Shoes & Jewelry, Women, Clothing, ...           0   \n...                                                   ...         ...   \n199998  [[Clothing, Shoes & Jewelry, Women, Accessorie...           0   \n199999  [[Clothing, Shoes & Jewelry, Baby, Baby Girls,...           4   \n\n                            helpful      itemID  price  rating  reviewHash  \\\n0       {'nHelpful': 0, 'outOf': 0}  I402344648    NaN     4.0  R798569390   \n1       {'nHelpful': 0, 'outOf': 0}  I697650540    NaN     4.0  R436443063   \n...                             ...         ...    ...     ...         ...   \n199998  {'nHelpful': 0, 'outOf': 1}  I343675670    7.5     5.0  R524991477   \n199999  {'nHelpful': 1, 'outOf': 2}  I757871532    NaN     1.0  R695913313   \n\n                                               reviewText   reviewTime  \\\n0       The model in this picture has them rolled up a...  09 26, 2013   \n1       I love the look of this bra, it is what I want...   02 7, 2013   \n...                                                   ...          ...   \n199998  My granddaughter love the scarf and fit perfec...  12 27, 2013   \n199999  My baby wore it only one time and there are ho...   03 1, 2014   \n\n        reviewerID                        summary  unixReviewTime  \n0       U490934656                   High Waisted      1380153600  \n1       U714157797  Beautiful but size runs small      1360195200  \n...            ...                            ...             ...  \n199998  U995566285                          Scarf      1388102400  \n199999  U994496485                      Very bad!      1393632000  \n\n[200000 rows x 12 columns]"
        },
        "execution_count": 5,
        "metadata": {}
       },
       "metadata": {},
       "msg_type": "execute_result",
       "version": "5.3"
      },
      "timestamp": "2018-11-16T06:16:58.024Z"
     },
     {
      "code": "all_train = pd.read_csv('data/train.csv')\nall_train",
      "response": {
       "content": {
        "data": {
         "text/html": "<div>\n<style scoped>\n    .dataframe tbody tr th:only-of-type {\n        vertical-align: middle;\n    }\n\n    .dataframe tbody tr th {\n        vertical-align: top;\n    }\n\n    .dataframe thead th {\n        text-align: right;\n    }\n</style>\n<table border=\"1\" class=\"dataframe\">\n  <thead>\n    <tr style=\"text-align: right;\">\n      <th></th>\n      <th>categories</th>\n      <th>categoryID</th>\n      <th>helpful</th>\n      <th>itemID</th>\n      <th>price</th>\n      <th>rating</th>\n      <th>reviewHash</th>\n      <th>reviewText</th>\n      <th>reviewTime</th>\n      <th>reviewerID</th>\n      <th>summary</th>\n      <th>unixReviewTime</th>\n    </tr>\n  </thead>\n  <tbody>\n    <tr>\n      <th>0</th>\n      <td>[['Clothing, Shoes &amp; Jewelry', 'Women'], ['Clo...</td>\n      <td>0</td>\n      <td>{'nHelpful': 0, 'outOf': 0}</td>\n      <td>I402344648</td>\n      <td>NaN</td>\n      <td>4.0</td>\n      <td>R798569390</td>\n      <td>The model in this picture has them rolled up a...</td>\n      <td>09 26, 2013</td>\n      <td>U490934656</td>\n      <td>High Waisted</td>\n      <td>1380153600</td>\n    </tr>\n    <tr>\n      <th>1</th>\n      <td>[['Clothing, Shoes &amp; Jewelry', 'Women', 'Cloth...</td>\n      <td>0</td>\n      <td>{'nHelpful': 0, 'outOf': 0}</td>\n      <td>I697650540</td>\n      <td>NaN</td>\n      <td>4.0</td>\n      <td>R436443063</td>\n      <td>I love the look of this bra, it is what I want...</td>\n      <td>02 7, 2013</td>\n      <td>U714157797</td>\n      <td>Beautiful but size runs small</td>\n      <td>1360195200</td>\n    </tr>\n    <tr>\n      <th>...</th>\n      <td>...</td>\n      <td>...</td>\n      <td>...</td>\n      <td>...</td>\n      <td>...</td>\n      <td>...</td>\n      <td>...</td>\n      <td>...</td>\n      <td>...</td>\n      <td>...</td>\n      <td>...</td>\n      <td>...</td>\n    </tr>\n    <tr>\n      <th>199998</th>\n      <td>[['Clothing, Shoes &amp; Jewelry', 'Women', 'Acces...</td>\n      <td>0</td>\n      <td>{'nHelpful': 0, 'outOf': 1}</td>\n      <td>I343675670</td>\n      <td>7.5</td>\n      <td>5.0</td>\n      <td>R524991477</td>\n      <td>My granddaughter love the scarf and fit perfec...</td>\n      <td>12 27, 2013</td>\n      <td>U995566285</td>\n      <td>Scarf</td>\n      <td>1388102400</td>\n    </tr>\n    <tr>\n      <th>199999</th>\n      <td>[['Clothing, Shoes &amp; Jewelry', 'Baby', 'Baby G...</td>\n      <td>4</td>\n      <td>{'nHelpful': 1, 'outOf': 2}</td>\n      <td>I757871532</td>\n      <td>NaN</td>\n      <td>1.0</td>\n      <td>R695913313</td>\n      <td>My baby wore it only one time and there are ho...</td>\n      <td>03 1, 2014</td>\n      <td>U994496485</td>\n      <td>Very bad!</td>\n      <td>1393632000</td>\n    </tr>\n  </tbody>\n</table>\n<p>200000 rows × 12 columns</p>\n</div>",
         "text/plain": "                                               categories  categoryID  \\\n0       [['Clothing, Shoes & Jewelry', 'Women'], ['Clo...           0   \n1       [['Clothing, Shoes & Jewelry', 'Women', 'Cloth...           0   \n...                                                   ...         ...   \n199998  [['Clothing, Shoes & Jewelry', 'Women', 'Acces...           0   \n199999  [['Clothing, Shoes & Jewelry', 'Baby', 'Baby G...           4   \n\n                            helpful      itemID  price  rating  reviewHash  \\\n0       {'nHelpful': 0, 'outOf': 0}  I402344648    NaN     4.0  R798569390   \n1       {'nHelpful': 0, 'outOf': 0}  I697650540    NaN     4.0  R436443063   \n...                             ...         ...    ...     ...         ...   \n199998  {'nHelpful': 0, 'outOf': 1}  I343675670    7.5     5.0  R524991477   \n199999  {'nHelpful': 1, 'outOf': 2}  I757871532    NaN     1.0  R695913313   \n\n                                               reviewText   reviewTime  \\\n0       The model in this picture has them rolled up a...  09 26, 2013   \n1       I love the look of this bra, it is what I want...   02 7, 2013   \n...                                                   ...          ...   \n199998  My granddaughter love the scarf and fit perfec...  12 27, 2013   \n199999  My baby wore it only one time and there are ho...   03 1, 2014   \n\n        reviewerID                        summary  unixReviewTime  \n0       U490934656                   High Waisted      1380153600  \n1       U714157797  Beautiful but size runs small      1360195200  \n...            ...                            ...             ...  \n199998  U995566285                          Scarf      1388102400  \n199999  U994496485                      Very bad!      1393632000  \n\n[200000 rows x 12 columns]"
        },
        "execution_count": 16,
        "metadata": {}
       },
       "metadata": {},
       "msg_type": "execute_result",
       "version": "5.3"
      },
      "timestamp": "2018-11-16T06:17:57.676Z"
     },
     {
      "code": "all_train = pd.read_csv('data/train.csv')\nall_train",
      "response": {
       "content": {
        "data": {
         "text/html": "<div>\n<style scoped>\n    .dataframe tbody tr th:only-of-type {\n        vertical-align: middle;\n    }\n\n    .dataframe tbody tr th {\n        vertical-align: top;\n    }\n\n    .dataframe thead th {\n        text-align: right;\n    }\n</style>\n<table border=\"1\" class=\"dataframe\">\n  <thead>\n    <tr style=\"text-align: right;\">\n      <th></th>\n      <th>categories</th>\n      <th>categoryID</th>\n      <th>helpful</th>\n      <th>itemID</th>\n      <th>price</th>\n      <th>rating</th>\n      <th>reviewHash</th>\n      <th>reviewText</th>\n      <th>reviewTime</th>\n      <th>reviewerID</th>\n      <th>summary</th>\n      <th>unixReviewTime</th>\n    </tr>\n  </thead>\n  <tbody>\n    <tr>\n      <th>0</th>\n      <td>[['Clothing, Shoes &amp; Jewelry', 'Women'], ['Clo...</td>\n      <td>0</td>\n      <td>{'nHelpful': 0, 'outOf': 0}</td>\n      <td>I402344648</td>\n      <td>NaN</td>\n      <td>4.0</td>\n      <td>R798569390</td>\n      <td>The model in this picture has them rolled up a...</td>\n      <td>09 26, 2013</td>\n      <td>U490934656</td>\n      <td>High Waisted</td>\n      <td>1380153600</td>\n    </tr>\n    <tr>\n      <th>1</th>\n      <td>[['Clothing, Shoes &amp; Jewelry', 'Women', 'Cloth...</td>\n      <td>0</td>\n      <td>{'nHelpful': 0, 'outOf': 0}</td>\n      <td>I697650540</td>\n      <td>NaN</td>\n      <td>4.0</td>\n      <td>R436443063</td>\n      <td>I love the look of this bra, it is what I want...</td>\n      <td>02 7, 2013</td>\n      <td>U714157797</td>\n      <td>Beautiful but size runs small</td>\n      <td>1360195200</td>\n    </tr>\n    <tr>\n      <th>...</th>\n      <td>...</td>\n      <td>...</td>\n      <td>...</td>\n      <td>...</td>\n      <td>...</td>\n      <td>...</td>\n      <td>...</td>\n      <td>...</td>\n      <td>...</td>\n      <td>...</td>\n      <td>...</td>\n      <td>...</td>\n    </tr>\n    <tr>\n      <th>199998</th>\n      <td>[['Clothing, Shoes &amp; Jewelry', 'Women', 'Acces...</td>\n      <td>0</td>\n      <td>{'nHelpful': 0, 'outOf': 1}</td>\n      <td>I343675670</td>\n      <td>7.5</td>\n      <td>5.0</td>\n      <td>R524991477</td>\n      <td>My granddaughter love the scarf and fit perfec...</td>\n      <td>12 27, 2013</td>\n      <td>U995566285</td>\n      <td>Scarf</td>\n      <td>1388102400</td>\n    </tr>\n    <tr>\n      <th>199999</th>\n      <td>[['Clothing, Shoes &amp; Jewelry', 'Baby', 'Baby G...</td>\n      <td>4</td>\n      <td>{'nHelpful': 1, 'outOf': 2}</td>\n      <td>I757871532</td>\n      <td>NaN</td>\n      <td>1.0</td>\n      <td>R695913313</td>\n      <td>My baby wore it only one time and there are ho...</td>\n      <td>03 1, 2014</td>\n      <td>U994496485</td>\n      <td>Very bad!</td>\n      <td>1393632000</td>\n    </tr>\n  </tbody>\n</table>\n<p>200000 rows × 12 columns</p>\n</div>",
         "text/plain": "                                               categories  categoryID  \\\n0       [['Clothing, Shoes & Jewelry', 'Women'], ['Clo...           0   \n1       [['Clothing, Shoes & Jewelry', 'Women', 'Cloth...           0   \n...                                                   ...         ...   \n199998  [['Clothing, Shoes & Jewelry', 'Women', 'Acces...           0   \n199999  [['Clothing, Shoes & Jewelry', 'Baby', 'Baby G...           4   \n\n                            helpful      itemID  price  rating  reviewHash  \\\n0       {'nHelpful': 0, 'outOf': 0}  I402344648    NaN     4.0  R798569390   \n1       {'nHelpful': 0, 'outOf': 0}  I697650540    NaN     4.0  R436443063   \n...                             ...         ...    ...     ...         ...   \n199998  {'nHelpful': 0, 'outOf': 1}  I343675670    7.5     5.0  R524991477   \n199999  {'nHelpful': 1, 'outOf': 2}  I757871532    NaN     1.0  R695913313   \n\n                                               reviewText   reviewTime  \\\n0       The model in this picture has them rolled up a...  09 26, 2013   \n1       I love the look of this bra, it is what I want...   02 7, 2013   \n...                                                   ...          ...   \n199998  My granddaughter love the scarf and fit perfec...  12 27, 2013   \n199999  My baby wore it only one time and there are ho...   03 1, 2014   \n\n        reviewerID                        summary  unixReviewTime  \n0       U490934656                   High Waisted      1380153600  \n1       U714157797  Beautiful but size runs small      1360195200  \n...            ...                            ...             ...  \n199998  U995566285                          Scarf      1388102400  \n199999  U994496485                      Very bad!      1393632000  \n\n[200000 rows x 12 columns]"
        },
        "execution_count": 4,
        "metadata": {}
       },
       "metadata": {},
       "msg_type": "execute_result",
       "version": "5.3"
      },
      "timestamp": "2018-11-16T19:48:10.139Z"
     },
     {
      "code": "from ast import literal_eval\nall_train = pd.read_csv('data/train.csv')\nall_train['categories'] = all_train['categories'].apply(literal_eval)\nall_train",
      "response": {
       "content": {
        "data": {
         "text/html": "<div>\n<style scoped>\n    .dataframe tbody tr th:only-of-type {\n        vertical-align: middle;\n    }\n\n    .dataframe tbody tr th {\n        vertical-align: top;\n    }\n\n    .dataframe thead th {\n        text-align: right;\n    }\n</style>\n<table border=\"1\" class=\"dataframe\">\n  <thead>\n    <tr style=\"text-align: right;\">\n      <th></th>\n      <th>categories</th>\n      <th>categoryID</th>\n      <th>helpful</th>\n      <th>itemID</th>\n      <th>price</th>\n      <th>rating</th>\n      <th>reviewHash</th>\n      <th>reviewText</th>\n      <th>reviewTime</th>\n      <th>reviewerID</th>\n      <th>summary</th>\n      <th>unixReviewTime</th>\n    </tr>\n  </thead>\n  <tbody>\n    <tr>\n      <th>0</th>\n      <td>[[Clothing, Shoes &amp; Jewelry, Women], [Clothing...</td>\n      <td>0</td>\n      <td>{'nHelpful': 0, 'outOf': 0}</td>\n      <td>I402344648</td>\n      <td>NaN</td>\n      <td>4.0</td>\n      <td>R798569390</td>\n      <td>The model in this picture has them rolled up a...</td>\n      <td>09 26, 2013</td>\n      <td>U490934656</td>\n      <td>High Waisted</td>\n      <td>1380153600</td>\n    </tr>\n    <tr>\n      <th>1</th>\n      <td>[[Clothing, Shoes &amp; Jewelry, Women, Clothing, ...</td>\n      <td>0</td>\n      <td>{'nHelpful': 0, 'outOf': 0}</td>\n      <td>I697650540</td>\n      <td>NaN</td>\n      <td>4.0</td>\n      <td>R436443063</td>\n      <td>I love the look of this bra, it is what I want...</td>\n      <td>02 7, 2013</td>\n      <td>U714157797</td>\n      <td>Beautiful but size runs small</td>\n      <td>1360195200</td>\n    </tr>\n    <tr>\n      <th>...</th>\n      <td>...</td>\n      <td>...</td>\n      <td>...</td>\n      <td>...</td>\n      <td>...</td>\n      <td>...</td>\n      <td>...</td>\n      <td>...</td>\n      <td>...</td>\n      <td>...</td>\n      <td>...</td>\n      <td>...</td>\n    </tr>\n    <tr>\n      <th>199998</th>\n      <td>[[Clothing, Shoes &amp; Jewelry, Women, Accessorie...</td>\n      <td>0</td>\n      <td>{'nHelpful': 0, 'outOf': 1}</td>\n      <td>I343675670</td>\n      <td>7.5</td>\n      <td>5.0</td>\n      <td>R524991477</td>\n      <td>My granddaughter love the scarf and fit perfec...</td>\n      <td>12 27, 2013</td>\n      <td>U995566285</td>\n      <td>Scarf</td>\n      <td>1388102400</td>\n    </tr>\n    <tr>\n      <th>199999</th>\n      <td>[[Clothing, Shoes &amp; Jewelry, Baby, Baby Girls,...</td>\n      <td>4</td>\n      <td>{'nHelpful': 1, 'outOf': 2}</td>\n      <td>I757871532</td>\n      <td>NaN</td>\n      <td>1.0</td>\n      <td>R695913313</td>\n      <td>My baby wore it only one time and there are ho...</td>\n      <td>03 1, 2014</td>\n      <td>U994496485</td>\n      <td>Very bad!</td>\n      <td>1393632000</td>\n    </tr>\n  </tbody>\n</table>\n<p>200000 rows × 12 columns</p>\n</div>",
         "text/plain": "                                               categories  categoryID  \\\n0       [[Clothing, Shoes & Jewelry, Women], [Clothing...           0   \n1       [[Clothing, Shoes & Jewelry, Women, Clothing, ...           0   \n...                                                   ...         ...   \n199998  [[Clothing, Shoes & Jewelry, Women, Accessorie...           0   \n199999  [[Clothing, Shoes & Jewelry, Baby, Baby Girls,...           4   \n\n                            helpful      itemID  price  rating  reviewHash  \\\n0       {'nHelpful': 0, 'outOf': 0}  I402344648    NaN     4.0  R798569390   \n1       {'nHelpful': 0, 'outOf': 0}  I697650540    NaN     4.0  R436443063   \n...                             ...         ...    ...     ...         ...   \n199998  {'nHelpful': 0, 'outOf': 1}  I343675670    7.5     5.0  R524991477   \n199999  {'nHelpful': 1, 'outOf': 2}  I757871532    NaN     1.0  R695913313   \n\n                                               reviewText   reviewTime  \\\n0       The model in this picture has them rolled up a...  09 26, 2013   \n1       I love the look of this bra, it is what I want...   02 7, 2013   \n...                                                   ...          ...   \n199998  My granddaughter love the scarf and fit perfec...  12 27, 2013   \n199999  My baby wore it only one time and there are ho...   03 1, 2014   \n\n        reviewerID                        summary  unixReviewTime  \n0       U490934656                   High Waisted      1380153600  \n1       U714157797  Beautiful but size runs small      1360195200  \n...            ...                            ...             ...  \n199998  U995566285                          Scarf      1388102400  \n199999  U994496485                      Very bad!      1393632000  \n\n[200000 rows x 12 columns]"
        },
        "execution_count": 115,
        "metadata": {}
       },
       "metadata": {},
       "msg_type": "execute_result",
       "version": "5.3"
      },
      "timestamp": "2018-11-16T22:07:31.979Z"
     }
    ]
   },
   "outputs": [
    {
     "data": {
      "text/html": [
       "<div>\n",
       "<style scoped>\n",
       "    .dataframe tbody tr th:only-of-type {\n",
       "        vertical-align: middle;\n",
       "    }\n",
       "\n",
       "    .dataframe tbody tr th {\n",
       "        vertical-align: top;\n",
       "    }\n",
       "\n",
       "    .dataframe thead th {\n",
       "        text-align: right;\n",
       "    }\n",
       "</style>\n",
       "<table border=\"1\" class=\"dataframe\">\n",
       "  <thead>\n",
       "    <tr style=\"text-align: right;\">\n",
       "      <th></th>\n",
       "      <th>categories</th>\n",
       "      <th>categoryID</th>\n",
       "      <th>helpful</th>\n",
       "      <th>itemID</th>\n",
       "      <th>price</th>\n",
       "      <th>rating</th>\n",
       "      <th>reviewHash</th>\n",
       "      <th>reviewText</th>\n",
       "      <th>reviewTime</th>\n",
       "      <th>reviewerID</th>\n",
       "      <th>summary</th>\n",
       "      <th>unixReviewTime</th>\n",
       "    </tr>\n",
       "  </thead>\n",
       "  <tbody>\n",
       "    <tr>\n",
       "      <th>0</th>\n",
       "      <td>[[Clothing, Shoes &amp; Jewelry, Women], [Clothing...</td>\n",
       "      <td>0</td>\n",
       "      <td>{'nHelpful': 0, 'outOf': 0}</td>\n",
       "      <td>I402344648</td>\n",
       "      <td>NaN</td>\n",
       "      <td>4.0</td>\n",
       "      <td>R798569390</td>\n",
       "      <td>The model in this picture has them rolled up a...</td>\n",
       "      <td>09 26, 2013</td>\n",
       "      <td>U490934656</td>\n",
       "      <td>High Waisted</td>\n",
       "      <td>1380153600</td>\n",
       "    </tr>\n",
       "    <tr>\n",
       "      <th>1</th>\n",
       "      <td>[[Clothing, Shoes &amp; Jewelry, Women, Clothing, ...</td>\n",
       "      <td>0</td>\n",
       "      <td>{'nHelpful': 0, 'outOf': 0}</td>\n",
       "      <td>I697650540</td>\n",
       "      <td>NaN</td>\n",
       "      <td>4.0</td>\n",
       "      <td>R436443063</td>\n",
       "      <td>I love the look of this bra, it is what I want...</td>\n",
       "      <td>02 7, 2013</td>\n",
       "      <td>U714157797</td>\n",
       "      <td>Beautiful but size runs small</td>\n",
       "      <td>1360195200</td>\n",
       "    </tr>\n",
       "    <tr>\n",
       "      <th>...</th>\n",
       "      <td>...</td>\n",
       "      <td>...</td>\n",
       "      <td>...</td>\n",
       "      <td>...</td>\n",
       "      <td>...</td>\n",
       "      <td>...</td>\n",
       "      <td>...</td>\n",
       "      <td>...</td>\n",
       "      <td>...</td>\n",
       "      <td>...</td>\n",
       "      <td>...</td>\n",
       "      <td>...</td>\n",
       "    </tr>\n",
       "    <tr>\n",
       "      <th>199998</th>\n",
       "      <td>[[Clothing, Shoes &amp; Jewelry, Women, Accessorie...</td>\n",
       "      <td>0</td>\n",
       "      <td>{'nHelpful': 0, 'outOf': 1}</td>\n",
       "      <td>I343675670</td>\n",
       "      <td>7.5</td>\n",
       "      <td>5.0</td>\n",
       "      <td>R524991477</td>\n",
       "      <td>My granddaughter love the scarf and fit perfec...</td>\n",
       "      <td>12 27, 2013</td>\n",
       "      <td>U995566285</td>\n",
       "      <td>Scarf</td>\n",
       "      <td>1388102400</td>\n",
       "    </tr>\n",
       "    <tr>\n",
       "      <th>199999</th>\n",
       "      <td>[[Clothing, Shoes &amp; Jewelry, Baby, Baby Girls,...</td>\n",
       "      <td>4</td>\n",
       "      <td>{'nHelpful': 1, 'outOf': 2}</td>\n",
       "      <td>I757871532</td>\n",
       "      <td>NaN</td>\n",
       "      <td>1.0</td>\n",
       "      <td>R695913313</td>\n",
       "      <td>My baby wore it only one time and there are ho...</td>\n",
       "      <td>03 1, 2014</td>\n",
       "      <td>U994496485</td>\n",
       "      <td>Very bad!</td>\n",
       "      <td>1393632000</td>\n",
       "    </tr>\n",
       "  </tbody>\n",
       "</table>\n",
       "<p>200000 rows × 12 columns</p>\n",
       "</div>"
      ],
      "text/plain": [
       "                                               categories  categoryID  \\\n",
       "0       [[Clothing, Shoes & Jewelry, Women], [Clothing...           0   \n",
       "1       [[Clothing, Shoes & Jewelry, Women, Clothing, ...           0   \n",
       "...                                                   ...         ...   \n",
       "199998  [[Clothing, Shoes & Jewelry, Women, Accessorie...           0   \n",
       "199999  [[Clothing, Shoes & Jewelry, Baby, Baby Girls,...           4   \n",
       "\n",
       "                            helpful      itemID  price  rating  reviewHash  \\\n",
       "0       {'nHelpful': 0, 'outOf': 0}  I402344648    NaN     4.0  R798569390   \n",
       "1       {'nHelpful': 0, 'outOf': 0}  I697650540    NaN     4.0  R436443063   \n",
       "...                             ...         ...    ...     ...         ...   \n",
       "199998  {'nHelpful': 0, 'outOf': 1}  I343675670    7.5     5.0  R524991477   \n",
       "199999  {'nHelpful': 1, 'outOf': 2}  I757871532    NaN     1.0  R695913313   \n",
       "\n",
       "                                               reviewText   reviewTime  \\\n",
       "0       The model in this picture has them rolled up a...  09 26, 2013   \n",
       "1       I love the look of this bra, it is what I want...   02 7, 2013   \n",
       "...                                                   ...          ...   \n",
       "199998  My granddaughter love the scarf and fit perfec...  12 27, 2013   \n",
       "199999  My baby wore it only one time and there are ho...   03 1, 2014   \n",
       "\n",
       "        reviewerID                        summary  unixReviewTime  \n",
       "0       U490934656                   High Waisted      1380153600  \n",
       "1       U714157797  Beautiful but size runs small      1360195200  \n",
       "...            ...                            ...             ...  \n",
       "199998  U995566285                          Scarf      1388102400  \n",
       "199999  U994496485                      Very bad!      1393632000  \n",
       "\n",
       "[200000 rows x 12 columns]"
      ]
     },
     "execution_count": 115,
     "metadata": {},
     "output_type": "execute_result"
    }
   ],
   "source": [
    "from ast import literal_eval\n",
    "all_train = pd.read_csv('data/train.csv')\n",
    "all_train['categories'] = all_train['categories'].apply(literal_eval)\n",
    "all_train"
   ]
  },
  {
   "cell_type": "markdown",
   "metadata": {},
   "source": [
    "## Task 1: Purchase Predictions"
   ]
  },
  {
   "cell_type": "code",
   "execution_count": 5,
   "metadata": {
    "history": [
     {
      "code": "users = all_train['reviewerID'].unique()\nitems = all_train['itemID'].unique()\nuser_item_pairs = set(all_train[['reviewerID', 'itemID']]\n                      .itertuples(index=False, name=None))\n\nlen(users), len(items), len(user_item_pairs)",
      "response": {
       "content": {
        "data": {
         "text/plain": "(39239, 19914, 200000)"
        },
        "execution_count": 16,
        "metadata": {}
       },
       "metadata": {},
       "msg_type": "execute_result",
       "version": "5.3"
      },
      "timestamp": "2018-11-16T04:59:36.665Z"
     },
     {
      "code": "users = all_train['reviewerID'].unique()\nitems = all_train['itemID'].unique()\nuser_item_pairs = set(all_train[['reviewerID', 'itemID']]\n                      .itertuples(index=False, name=None))\n\nlen(users), len(items), len(user_item_pairs)",
      "response": {
       "content": {
        "data": {
         "text/plain": "(39239, 19914, 200000)"
        },
        "execution_count": 19,
        "metadata": {}
       },
       "metadata": {},
       "msg_type": "execute_result",
       "version": "5.3"
      },
      "timestamp": "2018-11-16T05:01:14.391Z"
     },
     {
      "code": "users = all_train['reviewerID'].unique()\nitems = all_train['itemID'].unique()\nuser_item_pairs = set(all_train[['reviewerID', 'itemID']]\n                      .itertuples(index=False, name=None))\n\nlen(users), len(items), len(user_item_pairs)",
      "response": {
       "content": {
        "data": {
         "text/plain": "(39239, 19914, 200000)"
        },
        "execution_count": 22,
        "metadata": {}
       },
       "metadata": {},
       "msg_type": "execute_result",
       "version": "5.3"
      },
      "timestamp": "2018-11-16T05:01:27.088Z"
     },
     {
      "code": "users = all_train['reviewerID'].unique()\nitems = all_train['itemID'].unique()\nuser_item_pairs = set(all_train[['reviewerID', 'itemID']]\n                      .itertuples(index=False, name=None))\n\nlen(users), len(items), len(user_item_pairs)",
      "response": {
       "content": {
        "data": {
         "text/plain": "(39239, 19914, 200000)"
        },
        "execution_count": 6,
        "metadata": {}
       },
       "metadata": {},
       "msg_type": "execute_result",
       "version": "5.3"
      },
      "timestamp": "2018-11-16T05:42:03.105Z"
     },
     {
      "code": "users = all_train['reviewerID'].unique()\nitems = all_train['itemID'].unique()\nuser_item_pairs = set(all_train[['reviewerID', 'itemID']]\n                      .itertuples(index=False, name=None))\n\nlen(users), len(items), len(user_item_pairs)",
      "response": {
       "content": {
        "data": {
         "text/plain": "(39239, 19914, 200000)"
        },
        "execution_count": 6,
        "metadata": {}
       },
       "metadata": {},
       "msg_type": "execute_result",
       "version": "5.3"
      },
      "timestamp": "2018-11-16T06:16:58.394Z"
     },
     {
      "code": "users = all_train['reviewerID'].unique()\nitems = all_train['itemID'].unique()\nuser_item_pairs = set(all_train[['reviewerID', 'itemID']]\n                      .itertuples(index=False, name=None))\n\nlen(users), len(items), len(user_item_pairs)",
      "response": {
       "content": {
        "data": {
         "text/plain": "(39239, 19914, 200000)"
        },
        "execution_count": 5,
        "metadata": {}
       },
       "metadata": {},
       "msg_type": "execute_result",
       "version": "5.3"
      },
      "timestamp": "2018-11-16T19:48:10.359Z"
     }
    ]
   },
   "outputs": [
    {
     "data": {
      "text/plain": [
       "(39239, 19914, 200000)"
      ]
     },
     "execution_count": 5,
     "metadata": {},
     "output_type": "execute_result"
    }
   ],
   "source": [
    "users = all_train['reviewerID'].unique()\n",
    "items = all_train['itemID'].unique()\n",
    "user_item_pairs = set(all_train[['reviewerID', 'itemID']]\n",
    "                      .itertuples(index=False, name=None))\n",
    "\n",
    "len(users), len(items), len(user_item_pairs)"
   ]
  },
  {
   "cell_type": "code",
   "execution_count": 6,
   "metadata": {
    "history": [
     {
      "code": "np.random.seed(42)\n\npick_one = np.random.choice\n\ndef pick_user_item():\n    while True:\n        yield (pick_one(users), pick_one(items))\n\ndef is_reviewed(pair):\n    return pair in user_item_pairs\n\nunseen_pairs = tz.pipe(\n    pick_user_item(),\n    tz.remove(is_reviewed),\n    tz.take(100_000),\n    list\n)\n\nlen(unseen_pairs)",
      "response": {
       "content": {
        "data": {
         "text/plain": "100000"
        },
        "execution_count": 6,
        "metadata": {}
       },
       "metadata": {},
       "msg_type": "execute_result",
       "version": "5.3"
      },
      "timestamp": "2018-11-16T19:48:11.665Z"
     }
    ]
   },
   "outputs": [
    {
     "data": {
      "text/plain": [
       "100000"
      ]
     },
     "execution_count": 6,
     "metadata": {},
     "output_type": "execute_result"
    }
   ],
   "source": [
    "np.random.seed(42)\n",
    "\n",
    "pick_one = np.random.choice\n",
    "\n",
    "def pick_user_item():\n",
    "    while True:\n",
    "        yield (pick_one(users), pick_one(items))\n",
    "\n",
    "def is_reviewed(pair):\n",
    "    return pair in user_item_pairs\n",
    "\n",
    "unseen_pairs = tz.pipe(\n",
    "    pick_user_item(),\n",
    "    tz.remove(is_reviewed),\n",
    "    tz.take(100_000),\n",
    "    list\n",
    ")\n",
    "\n",
    "len(unseen_pairs)"
   ]
  },
  {
   "cell_type": "code",
   "execution_count": 118,
   "metadata": {
    "history": [
     {
      "code": "item_categories = all_train.groupby('itemID')['categories'].first()\nitem_categories",
      "response": {
       "content": {
        "data": {
         "text/plain": "itemID\nI000024906    [[Clothing, Shoes & Jewelry, Women, Accessorie...\nI000030838    [[Sports & Outdoors, Accessories, Sport Watche...\n                                    ...                        \nI999879552    [[Clothing, Shoes & Jewelry, Women, Shoes, San...\nI999917660    [[Clothing, Shoes & Jewelry, Women], [Clothing...\nName: categories, Length: 19914, dtype: object"
        },
        "execution_count": 116,
        "metadata": {}
       },
       "metadata": {},
       "msg_type": "execute_result",
       "version": "5.3"
      },
      "timestamp": "2018-11-16T22:09:38.068Z"
     },
     {
      "code": "item_categories = all_train.groupby('itemID')['categories'].first().to_frame()\nitem_categories",
      "response": {
       "content": {
        "data": {
         "text/html": "<div>\n<style scoped>\n    .dataframe tbody tr th:only-of-type {\n        vertical-align: middle;\n    }\n\n    .dataframe tbody tr th {\n        vertical-align: top;\n    }\n\n    .dataframe thead th {\n        text-align: right;\n    }\n</style>\n<table border=\"1\" class=\"dataframe\">\n  <thead>\n    <tr style=\"text-align: right;\">\n      <th></th>\n      <th>categories</th>\n    </tr>\n    <tr>\n      <th>itemID</th>\n      <th></th>\n    </tr>\n  </thead>\n  <tbody>\n    <tr>\n      <th>I000024906</th>\n      <td>[[Clothing, Shoes &amp; Jewelry, Women, Accessorie...</td>\n    </tr>\n    <tr>\n      <th>I000030838</th>\n      <td>[[Sports &amp; Outdoors, Accessories, Sport Watche...</td>\n    </tr>\n    <tr>\n      <th>...</th>\n      <td>...</td>\n    </tr>\n    <tr>\n      <th>I999879552</th>\n      <td>[[Clothing, Shoes &amp; Jewelry, Women, Shoes, San...</td>\n    </tr>\n    <tr>\n      <th>I999917660</th>\n      <td>[[Clothing, Shoes &amp; Jewelry, Women], [Clothing...</td>\n    </tr>\n  </tbody>\n</table>\n<p>19914 rows × 1 columns</p>\n</div>",
         "text/plain": "                                                   categories\nitemID                                                       \nI000024906  [[Clothing, Shoes & Jewelry, Women, Accessorie...\nI000030838  [[Sports & Outdoors, Accessories, Sport Watche...\n...                                                       ...\nI999879552  [[Clothing, Shoes & Jewelry, Women, Shoes, San...\nI999917660  [[Clothing, Shoes & Jewelry, Women], [Clothing...\n\n[19914 rows x 1 columns]"
        },
        "execution_count": 118,
        "metadata": {}
       },
       "metadata": {},
       "msg_type": "execute_result",
       "version": "5.3"
      },
      "timestamp": "2018-11-16T22:10:33.201Z"
     }
    ]
   },
   "outputs": [
    {
     "data": {
      "text/html": [
       "<div>\n",
       "<style scoped>\n",
       "    .dataframe tbody tr th:only-of-type {\n",
       "        vertical-align: middle;\n",
       "    }\n",
       "\n",
       "    .dataframe tbody tr th {\n",
       "        vertical-align: top;\n",
       "    }\n",
       "\n",
       "    .dataframe thead th {\n",
       "        text-align: right;\n",
       "    }\n",
       "</style>\n",
       "<table border=\"1\" class=\"dataframe\">\n",
       "  <thead>\n",
       "    <tr style=\"text-align: right;\">\n",
       "      <th></th>\n",
       "      <th>categories</th>\n",
       "    </tr>\n",
       "    <tr>\n",
       "      <th>itemID</th>\n",
       "      <th></th>\n",
       "    </tr>\n",
       "  </thead>\n",
       "  <tbody>\n",
       "    <tr>\n",
       "      <th>I000024906</th>\n",
       "      <td>[[Clothing, Shoes &amp; Jewelry, Women, Accessorie...</td>\n",
       "    </tr>\n",
       "    <tr>\n",
       "      <th>I000030838</th>\n",
       "      <td>[[Sports &amp; Outdoors, Accessories, Sport Watche...</td>\n",
       "    </tr>\n",
       "    <tr>\n",
       "      <th>...</th>\n",
       "      <td>...</td>\n",
       "    </tr>\n",
       "    <tr>\n",
       "      <th>I999879552</th>\n",
       "      <td>[[Clothing, Shoes &amp; Jewelry, Women, Shoes, San...</td>\n",
       "    </tr>\n",
       "    <tr>\n",
       "      <th>I999917660</th>\n",
       "      <td>[[Clothing, Shoes &amp; Jewelry, Women], [Clothing...</td>\n",
       "    </tr>\n",
       "  </tbody>\n",
       "</table>\n",
       "<p>19914 rows × 1 columns</p>\n",
       "</div>"
      ],
      "text/plain": [
       "                                                   categories\n",
       "itemID                                                       \n",
       "I000024906  [[Clothing, Shoes & Jewelry, Women, Accessorie...\n",
       "I000030838  [[Sports & Outdoors, Accessories, Sport Watche...\n",
       "...                                                       ...\n",
       "I999879552  [[Clothing, Shoes & Jewelry, Women, Shoes, San...\n",
       "I999917660  [[Clothing, Shoes & Jewelry, Women], [Clothing...\n",
       "\n",
       "[19914 rows x 1 columns]"
      ]
     },
     "execution_count": 118,
     "metadata": {},
     "output_type": "execute_result"
    }
   ],
   "source": []
  },
  {
   "cell_type": "code",
   "execution_count": 145,
   "metadata": {
    "history": [
     {
      "code": "seen = valid[['reviewerID', 'itemID']].assign(reviewed=1)\nunseen = (pd.DataFrame(unseen_pairs, columns=['reviewerID', 'itemID'])\n          .assign(reviewed=0))\nvalid_full = pd.concat([seen, unseen], ignore_index=True)\nvalid_full",
      "response": {
       "content": {
        "ename": "NameError",
        "evalue": "name 'valid' is not defined",
        "traceback": [
         "\u001b[0;31m---------------------------------------------------------------------------\u001b[0m",
         "\u001b[0;31mNameError\u001b[0m                                 Traceback (most recent call last)",
         "\u001b[0;32m<ipython-input-24-83a817719de9>\u001b[0m in \u001b[0;36m<module>\u001b[0;34m\u001b[0m\n\u001b[0;32m----> 1\u001b[0;31m \u001b[0mseen\u001b[0m \u001b[0;34m=\u001b[0m \u001b[0mvalid\u001b[0m\u001b[0;34m[\u001b[0m\u001b[0;34m[\u001b[0m\u001b[0;34m'reviewerID'\u001b[0m\u001b[0;34m,\u001b[0m \u001b[0;34m'itemID'\u001b[0m\u001b[0;34m]\u001b[0m\u001b[0;34m]\u001b[0m\u001b[0;34m.\u001b[0m\u001b[0massign\u001b[0m\u001b[0;34m(\u001b[0m\u001b[0mreviewed\u001b[0m\u001b[0;34m=\u001b[0m\u001b[0;36m1\u001b[0m\u001b[0;34m)\u001b[0m\u001b[0;34m\u001b[0m\u001b[0m\n\u001b[0m\u001b[1;32m      2\u001b[0m unseen = (pd.DataFrame(unseen_pairs, columns=['reviewerID', 'itemID'])\n\u001b[1;32m      3\u001b[0m           .assign(reviewed=0))\n\u001b[1;32m      4\u001b[0m \u001b[0mvalid_full\u001b[0m \u001b[0;34m=\u001b[0m \u001b[0mpd\u001b[0m\u001b[0;34m.\u001b[0m\u001b[0mconcat\u001b[0m\u001b[0;34m(\u001b[0m\u001b[0;34m[\u001b[0m\u001b[0mseen\u001b[0m\u001b[0;34m,\u001b[0m \u001b[0munseen\u001b[0m\u001b[0;34m]\u001b[0m\u001b[0;34m,\u001b[0m \u001b[0mignore_index\u001b[0m\u001b[0;34m=\u001b[0m\u001b[0;32mTrue\u001b[0m\u001b[0;34m)\u001b[0m\u001b[0;34m\u001b[0m\u001b[0m\n\u001b[1;32m      5\u001b[0m \u001b[0mvalid_full\u001b[0m\u001b[0;34m\u001b[0m\u001b[0m\n",
         "\u001b[0;31mNameError\u001b[0m: name 'valid' is not defined"
        ]
       },
       "metadata": {},
       "msg_type": "error",
       "version": "5.3"
      },
      "timestamp": "2018-11-16T05:02:03.171Z"
     },
     {
      "code": "seen = all_train[['reviewerID', 'itemID']].assign(reviewed=1)\nunseen = (pd.DataFrame(unseen_pairs, columns=['reviewerID', 'itemID'])\n          .assign(reviewed=0))\nvalid_full = pd.concat([seen, unseen], ignore_index=True)\nvalid_full",
      "response": {
       "content": {
        "data": {
         "text/html": "<div>\n<style scoped>\n    .dataframe tbody tr th:only-of-type {\n        vertical-align: middle;\n    }\n\n    .dataframe tbody tr th {\n        vertical-align: top;\n    }\n\n    .dataframe thead th {\n        text-align: right;\n    }\n</style>\n<table border=\"1\" class=\"dataframe\">\n  <thead>\n    <tr style=\"text-align: right;\">\n      <th></th>\n      <th>reviewerID</th>\n      <th>itemID</th>\n      <th>reviewed</th>\n    </tr>\n  </thead>\n  <tbody>\n    <tr>\n      <th>0</th>\n      <td>U124242884</td>\n      <td>I468914777</td>\n      <td>1</td>\n    </tr>\n    <tr>\n      <th>1</th>\n      <td>U133141551</td>\n      <td>I018273309</td>\n      <td>1</td>\n    </tr>\n    <tr>\n      <th>...</th>\n      <td>...</td>\n      <td>...</td>\n      <td>...</td>\n    </tr>\n    <tr>\n      <th>299998</th>\n      <td>U437500062</td>\n      <td>I976959821</td>\n      <td>0</td>\n    </tr>\n    <tr>\n      <th>299999</th>\n      <td>U154275509</td>\n      <td>I535744184</td>\n      <td>0</td>\n    </tr>\n  </tbody>\n</table>\n<p>300000 rows × 3 columns</p>\n</div>",
         "text/plain": "        reviewerID      itemID  reviewed\n0       U124242884  I468914777         1\n1       U133141551  I018273309         1\n...            ...         ...       ...\n299998  U437500062  I976959821         0\n299999  U154275509  I535744184         0\n\n[300000 rows x 3 columns]"
        },
        "execution_count": 25,
        "metadata": {}
       },
       "metadata": {},
       "msg_type": "execute_result",
       "version": "5.3"
      },
      "timestamp": "2018-11-16T05:03:33.950Z"
     },
     {
      "code": "seen = all_train[['reviewerID', 'itemID']].assign(reviewed=1)\nunseen = (pd.DataFrame(unseen_pairs, columns=['reviewerID', 'itemID'])\n          .assign(reviewed=0))\ntrain = pd.concat([seen, unseen], ignore_index=True)\ntrain",
      "response": {
       "content": {
        "data": {
         "text/html": "<div>\n<style scoped>\n    .dataframe tbody tr th:only-of-type {\n        vertical-align: middle;\n    }\n\n    .dataframe tbody tr th {\n        vertical-align: top;\n    }\n\n    .dataframe thead th {\n        text-align: right;\n    }\n</style>\n<table border=\"1\" class=\"dataframe\">\n  <thead>\n    <tr style=\"text-align: right;\">\n      <th></th>\n      <th>reviewerID</th>\n      <th>itemID</th>\n      <th>reviewed</th>\n    </tr>\n  </thead>\n  <tbody>\n    <tr>\n      <th>0</th>\n      <td>U124242884</td>\n      <td>I468914777</td>\n      <td>1</td>\n    </tr>\n    <tr>\n      <th>1</th>\n      <td>U133141551</td>\n      <td>I018273309</td>\n      <td>1</td>\n    </tr>\n    <tr>\n      <th>...</th>\n      <td>...</td>\n      <td>...</td>\n      <td>...</td>\n    </tr>\n    <tr>\n      <th>299998</th>\n      <td>U437500062</td>\n      <td>I976959821</td>\n      <td>0</td>\n    </tr>\n    <tr>\n      <th>299999</th>\n      <td>U154275509</td>\n      <td>I535744184</td>\n      <td>0</td>\n    </tr>\n  </tbody>\n</table>\n<p>300000 rows × 3 columns</p>\n</div>",
         "text/plain": "        reviewerID      itemID  reviewed\n0       U124242884  I468914777         1\n1       U133141551  I018273309         1\n...            ...         ...       ...\n299998  U437500062  I976959821         0\n299999  U154275509  I535744184         0\n\n[300000 rows x 3 columns]"
        },
        "execution_count": 26,
        "metadata": {}
       },
       "metadata": {},
       "msg_type": "execute_result",
       "version": "5.3"
      },
      "timestamp": "2018-11-16T05:03:41.754Z"
     },
     {
      "code": "seen = all_train[['reviewerID', 'itemID']].assign(reviewed=1)\nunseen = (pd.DataFrame(unseen_pairs, columns=['reviewerID', 'itemID'])\n          .assign(reviewed=0))\ntrain_and_valid = (pd.concat([seen, unseen], ignore_index=True)\n                   .sample(frac=1.0)\n                   .reset_index(drop=True))\ntrain = train_and_valid[:200000]\nvalid = train_and_valid[200000:]\ntrain",
      "response": {
       "content": {
        "data": {
         "text/html": "<div>\n<style scoped>\n    .dataframe tbody tr th:only-of-type {\n        vertical-align: middle;\n    }\n\n    .dataframe tbody tr th {\n        vertical-align: top;\n    }\n\n    .dataframe thead th {\n        text-align: right;\n    }\n</style>\n<table border=\"1\" class=\"dataframe\">\n  <thead>\n    <tr style=\"text-align: right;\">\n      <th></th>\n      <th>reviewerID</th>\n      <th>itemID</th>\n      <th>reviewed</th>\n    </tr>\n  </thead>\n  <tbody>\n    <tr>\n      <th>0</th>\n      <td>U847940516</td>\n      <td>I737562103</td>\n      <td>1</td>\n    </tr>\n    <tr>\n      <th>1</th>\n      <td>U249118215</td>\n      <td>I466471108</td>\n      <td>1</td>\n    </tr>\n    <tr>\n      <th>...</th>\n      <td>...</td>\n      <td>...</td>\n      <td>...</td>\n    </tr>\n    <tr>\n      <th>199998</th>\n      <td>U821430540</td>\n      <td>I139754873</td>\n      <td>1</td>\n    </tr>\n    <tr>\n      <th>199999</th>\n      <td>U181551925</td>\n      <td>I522681907</td>\n      <td>1</td>\n    </tr>\n  </tbody>\n</table>\n<p>200000 rows × 3 columns</p>\n</div>",
         "text/plain": "        reviewerID      itemID  reviewed\n0       U847940516  I737562103         1\n1       U249118215  I466471108         1\n...            ...         ...       ...\n199998  U821430540  I139754873         1\n199999  U181551925  I522681907         1\n\n[200000 rows x 3 columns]"
        },
        "execution_count": 30,
        "metadata": {}
       },
       "metadata": {},
       "msg_type": "execute_result",
       "version": "5.3"
      },
      "timestamp": "2018-11-16T05:26:32.004Z"
     },
     {
      "code": "seen = all_train[['reviewerID', 'itemID']].assign(reviewed=1)\nunseen = (pd.DataFrame(unseen_pairs, columns=['reviewerID', 'itemID'])\n          .assign(reviewed=0))\ntrain_and_valid = (pd.concat([seen, unseen], ignore_index=True)\n                   .sample(frac=1.0)\n                   .reset_index(drop=True))\ntrain = train_and_valid[:200000]\nvalid = train_and_valid[200000:]\ntrain.reviewed.mean()",
      "response": {
       "content": {
        "data": {
         "text/plain": "0.666695"
        },
        "execution_count": 31,
        "metadata": {}
       },
       "metadata": {},
       "msg_type": "execute_result",
       "version": "5.3"
      },
      "timestamp": "2018-11-16T05:26:38.576Z"
     },
     {
      "code": "seen = all_train[['reviewerID', 'itemID']].assign(reviewed=1)\nunseen = (pd.DataFrame(unseen_pairs, columns=['reviewerID', 'itemID'])\n          .assign(reviewed=0))\ntrain_and_valid = (pd.concat([seen, unseen], ignore_index=True)\n                   .sample(frac=1.0)\n                   .reset_index(drop=True))\ntrain = train_and_valid[:200000]\nvalid = train_and_valid[200000:]\ntrain",
      "response": {
       "content": {
        "data": {
         "text/html": "<div>\n<style scoped>\n    .dataframe tbody tr th:only-of-type {\n        vertical-align: middle;\n    }\n\n    .dataframe tbody tr th {\n        vertical-align: top;\n    }\n\n    .dataframe thead th {\n        text-align: right;\n    }\n</style>\n<table border=\"1\" class=\"dataframe\">\n  <thead>\n    <tr style=\"text-align: right;\">\n      <th></th>\n      <th>reviewerID</th>\n      <th>itemID</th>\n      <th>reviewed</th>\n    </tr>\n  </thead>\n  <tbody>\n    <tr>\n      <th>0</th>\n      <td>U296579088</td>\n      <td>I480395379</td>\n      <td>1</td>\n    </tr>\n    <tr>\n      <th>1</th>\n      <td>U006207775</td>\n      <td>I616646527</td>\n      <td>1</td>\n    </tr>\n    <tr>\n      <th>...</th>\n      <td>...</td>\n      <td>...</td>\n      <td>...</td>\n    </tr>\n    <tr>\n      <th>199998</th>\n      <td>U167732870</td>\n      <td>I763931635</td>\n      <td>1</td>\n    </tr>\n    <tr>\n      <th>199999</th>\n      <td>U004826896</td>\n      <td>I509048088</td>\n      <td>1</td>\n    </tr>\n  </tbody>\n</table>\n<p>200000 rows × 3 columns</p>\n</div>",
         "text/plain": "        reviewerID      itemID  reviewed\n0       U296579088  I480395379         1\n1       U006207775  I616646527         1\n...            ...         ...       ...\n199998  U167732870  I763931635         1\n199999  U004826896  I509048088         1\n\n[200000 rows x 3 columns]"
        },
        "execution_count": 32,
        "metadata": {}
       },
       "metadata": {},
       "msg_type": "execute_result",
       "version": "5.3"
      },
      "timestamp": "2018-11-16T05:26:41.538Z"
     },
     {
      "code": "seen = all_train[['reviewerID', 'itemID']].assign(reviewed=1)\nunseen = (pd.DataFrame(unseen_pairs, columns=['reviewerID', 'itemID'])\n          .assign(reviewed=0))\ntrain_and_valid = (pd.concat([seen, unseen], ignore_index=True)\n                   .sample(frac=1.0)\n                   .reset_index(drop=True))\ntrain = train_and_valid[:200000]\nvalid = train_and_valid[200000:]\ntrain",
      "response": {
       "content": {
        "data": {
         "text/html": "<div>\n<style scoped>\n    .dataframe tbody tr th:only-of-type {\n        vertical-align: middle;\n    }\n\n    .dataframe tbody tr th {\n        vertical-align: top;\n    }\n\n    .dataframe thead th {\n        text-align: right;\n    }\n</style>\n<table border=\"1\" class=\"dataframe\">\n  <thead>\n    <tr style=\"text-align: right;\">\n      <th></th>\n      <th>reviewerID</th>\n      <th>itemID</th>\n      <th>reviewed</th>\n    </tr>\n  </thead>\n  <tbody>\n    <tr>\n      <th>0</th>\n      <td>U603290770</td>\n      <td>I601575380</td>\n      <td>1</td>\n    </tr>\n    <tr>\n      <th>1</th>\n      <td>U511141383</td>\n      <td>I709948998</td>\n      <td>1</td>\n    </tr>\n    <tr>\n      <th>...</th>\n      <td>...</td>\n      <td>...</td>\n      <td>...</td>\n    </tr>\n    <tr>\n      <th>199998</th>\n      <td>U654820844</td>\n      <td>I105373789</td>\n      <td>0</td>\n    </tr>\n    <tr>\n      <th>199999</th>\n      <td>U792151508</td>\n      <td>I863891523</td>\n      <td>0</td>\n    </tr>\n  </tbody>\n</table>\n<p>200000 rows × 3 columns</p>\n</div>",
         "text/plain": "        reviewerID      itemID  reviewed\n0       U603290770  I601575380         1\n1       U511141383  I709948998         1\n...            ...         ...       ...\n199998  U654820844  I105373789         0\n199999  U792151508  I863891523         0\n\n[200000 rows x 3 columns]"
        },
        "execution_count": 33,
        "metadata": {}
       },
       "metadata": {},
       "msg_type": "execute_result",
       "version": "5.3"
      },
      "timestamp": "2018-11-16T05:26:44.478Z"
     },
     {
      "code": "np.random.seed(42)\n\nseen = all_train[['reviewerID', 'itemID']].assign(reviewed=1)\nunseen = (pd.DataFrame(unseen_pairs, columns=['reviewerID', 'itemID'])\n          .assign(reviewed=0))\ntrain_and_valid = (pd.concat([seen, unseen], ignore_index=True)\n                   .sample(frac=1.0)\n                   .reset_index(drop=True))\ntrain = train_and_valid[:200000]\nvalid = train_and_valid[200000:]\ntrain",
      "response": {
       "content": {
        "data": {
         "text/html": "<div>\n<style scoped>\n    .dataframe tbody tr th:only-of-type {\n        vertical-align: middle;\n    }\n\n    .dataframe tbody tr th {\n        vertical-align: top;\n    }\n\n    .dataframe thead th {\n        text-align: right;\n    }\n</style>\n<table border=\"1\" class=\"dataframe\">\n  <thead>\n    <tr style=\"text-align: right;\">\n      <th></th>\n      <th>reviewerID</th>\n      <th>itemID</th>\n      <th>reviewed</th>\n    </tr>\n  </thead>\n  <tbody>\n    <tr>\n      <th>0</th>\n      <td>U834494147</td>\n      <td>I128611472</td>\n      <td>1</td>\n    </tr>\n    <tr>\n      <th>1</th>\n      <td>U461858851</td>\n      <td>I234579649</td>\n      <td>1</td>\n    </tr>\n    <tr>\n      <th>...</th>\n      <td>...</td>\n      <td>...</td>\n      <td>...</td>\n    </tr>\n    <tr>\n      <th>199998</th>\n      <td>U967452091</td>\n      <td>I272115855</td>\n      <td>0</td>\n    </tr>\n    <tr>\n      <th>199999</th>\n      <td>U318489975</td>\n      <td>I442472343</td>\n      <td>1</td>\n    </tr>\n  </tbody>\n</table>\n<p>200000 rows × 3 columns</p>\n</div>",
         "text/plain": "        reviewerID      itemID  reviewed\n0       U834494147  I128611472         1\n1       U461858851  I234579649         1\n...            ...         ...       ...\n199998  U967452091  I272115855         0\n199999  U318489975  I442472343         1\n\n[200000 rows x 3 columns]"
        },
        "execution_count": 34,
        "metadata": {}
       },
       "metadata": {},
       "msg_type": "execute_result",
       "version": "5.3"
      },
      "timestamp": "2018-11-16T05:26:49.952Z"
     },
     {
      "code": "np.random.seed(42)\n\nseen = all_train[['reviewerID', 'itemID']].assign(reviewed=1)\nunseen = (pd.DataFrame(unseen_pairs, columns=['reviewerID', 'itemID'])\n          .assign(reviewed=0))\ntrain_and_valid = (pd.concat([seen, unseen], ignore_index=True)\n                   .sample(frac=1.0)\n                   .reset_index(drop=True))\ntrain = train_and_valid[:200000]\nvalid = train_and_valid[200000:]\ntrain",
      "response": {
       "content": {
        "data": {
         "text/html": "<div>\n<style scoped>\n    .dataframe tbody tr th:only-of-type {\n        vertical-align: middle;\n    }\n\n    .dataframe tbody tr th {\n        vertical-align: top;\n    }\n\n    .dataframe thead th {\n        text-align: right;\n    }\n</style>\n<table border=\"1\" class=\"dataframe\">\n  <thead>\n    <tr style=\"text-align: right;\">\n      <th></th>\n      <th>reviewerID</th>\n      <th>itemID</th>\n      <th>reviewed</th>\n    </tr>\n  </thead>\n  <tbody>\n    <tr>\n      <th>0</th>\n      <td>U834494147</td>\n      <td>I128611472</td>\n      <td>1</td>\n    </tr>\n    <tr>\n      <th>1</th>\n      <td>U461858851</td>\n      <td>I234579649</td>\n      <td>1</td>\n    </tr>\n    <tr>\n      <th>...</th>\n      <td>...</td>\n      <td>...</td>\n      <td>...</td>\n    </tr>\n    <tr>\n      <th>199998</th>\n      <td>U018187262</td>\n      <td>I044772225</td>\n      <td>0</td>\n    </tr>\n    <tr>\n      <th>199999</th>\n      <td>U318489975</td>\n      <td>I442472343</td>\n      <td>1</td>\n    </tr>\n  </tbody>\n</table>\n<p>200000 rows × 3 columns</p>\n</div>",
         "text/plain": "        reviewerID      itemID  reviewed\n0       U834494147  I128611472         1\n1       U461858851  I234579649         1\n...            ...         ...       ...\n199998  U018187262  I044772225         0\n199999  U318489975  I442472343         1\n\n[200000 rows x 3 columns]"
        },
        "execution_count": 8,
        "metadata": {}
       },
       "metadata": {},
       "msg_type": "execute_result",
       "version": "5.3"
      },
      "timestamp": "2018-11-16T05:42:04.362Z"
     },
     {
      "code": "np.random.seed(42)\n\nseen = all_train[['reviewerID', 'itemID']].assign(reviewed=1)\nunseen = (pd.DataFrame(unseen_pairs, columns=['reviewerID', 'itemID'])\n          .assign(reviewed=0))\ntrain_and_valid = (pd.concat([seen, unseen], ignore_index=True)\n                   .sample(frac=1.0)\n                   .reset_index(drop=True))\ntrain = train_and_valid[:200000]\nvalid = train_and_valid[200000:]\ntrain",
      "response": {
       "content": {
        "data": {
         "text/html": "<div>\n<style scoped>\n    .dataframe tbody tr th:only-of-type {\n        vertical-align: middle;\n    }\n\n    .dataframe tbody tr th {\n        vertical-align: top;\n    }\n\n    .dataframe thead th {\n        text-align: right;\n    }\n</style>\n<table border=\"1\" class=\"dataframe\">\n  <thead>\n    <tr style=\"text-align: right;\">\n      <th></th>\n      <th>reviewerID</th>\n      <th>itemID</th>\n      <th>reviewed</th>\n    </tr>\n  </thead>\n  <tbody>\n    <tr>\n      <th>0</th>\n      <td>U834494147</td>\n      <td>I128611472</td>\n      <td>1</td>\n    </tr>\n    <tr>\n      <th>1</th>\n      <td>U461858851</td>\n      <td>I234579649</td>\n      <td>1</td>\n    </tr>\n    <tr>\n      <th>...</th>\n      <td>...</td>\n      <td>...</td>\n      <td>...</td>\n    </tr>\n    <tr>\n      <th>199998</th>\n      <td>U018187262</td>\n      <td>I044772225</td>\n      <td>0</td>\n    </tr>\n    <tr>\n      <th>199999</th>\n      <td>U318489975</td>\n      <td>I442472343</td>\n      <td>1</td>\n    </tr>\n  </tbody>\n</table>\n<p>200000 rows × 3 columns</p>\n</div>",
         "text/plain": "        reviewerID      itemID  reviewed\n0       U834494147  I128611472         1\n1       U461858851  I234579649         1\n...            ...         ...       ...\n199998  U018187262  I044772225         0\n199999  U318489975  I442472343         1\n\n[200000 rows x 3 columns]"
        },
        "execution_count": 8,
        "metadata": {}
       },
       "metadata": {},
       "msg_type": "execute_result",
       "version": "5.3"
      },
      "timestamp": "2018-11-16T06:16:59.549Z"
     },
     {
      "code": "np.random.seed(42)\n\nseen = all_train[['reviewerID', 'itemID']].assign(reviewed=1)\nunseen = (pd.DataFrame(unseen_pairs, columns=['reviewerID', 'itemID'])\n          .assign(reviewed=0))\ntrain_and_valid = pd.concat([seen, unseen], ignore_index=True)\ntrain = train_and_valid[:100000]\nvalid = train_and_valid[100000:]\ntrain",
      "response": {
       "content": {
        "data": {
         "text/html": "<div>\n<style scoped>\n    .dataframe tbody tr th:only-of-type {\n        vertical-align: middle;\n    }\n\n    .dataframe tbody tr th {\n        vertical-align: top;\n    }\n\n    .dataframe thead th {\n        text-align: right;\n    }\n</style>\n<table border=\"1\" class=\"dataframe\">\n  <thead>\n    <tr style=\"text-align: right;\">\n      <th></th>\n      <th>reviewerID</th>\n      <th>itemID</th>\n      <th>reviewed</th>\n    </tr>\n  </thead>\n  <tbody>\n    <tr>\n      <th>0</th>\n      <td>U490934656</td>\n      <td>I402344648</td>\n      <td>1</td>\n    </tr>\n    <tr>\n      <th>1</th>\n      <td>U714157797</td>\n      <td>I697650540</td>\n      <td>1</td>\n    </tr>\n    <tr>\n      <th>...</th>\n      <td>...</td>\n      <td>...</td>\n      <td>...</td>\n    </tr>\n    <tr>\n      <th>99998</th>\n      <td>U234915922</td>\n      <td>I615427216</td>\n      <td>1</td>\n    </tr>\n    <tr>\n      <th>99999</th>\n      <td>U519867287</td>\n      <td>I568555036</td>\n      <td>1</td>\n    </tr>\n  </tbody>\n</table>\n<p>100000 rows × 3 columns</p>\n</div>",
         "text/plain": "       reviewerID      itemID  reviewed\n0      U490934656  I402344648         1\n1      U714157797  I697650540         1\n...           ...         ...       ...\n99998  U234915922  I615427216         1\n99999  U519867287  I568555036         1\n\n[100000 rows x 3 columns]"
        },
        "execution_count": 36,
        "metadata": {}
       },
       "metadata": {},
       "msg_type": "execute_result",
       "version": "5.3"
      },
      "timestamp": "2018-11-16T06:28:41.623Z"
     },
     {
      "code": "seen = all_train[['reviewerID', 'itemID']].assign(reviewed=1)\nunseen = (pd.DataFrame(unseen_pairs, columns=['reviewerID', 'itemID'])\n          .assign(reviewed=0))\ntrain_and_valid = pd.concat([seen, unseen], ignore_index=True)\ntrain = train_and_valid[:100000]\nvalid = train_and_valid[100000:]\ntrain",
      "response": {
       "content": {
        "data": {
         "text/html": "<div>\n<style scoped>\n    .dataframe tbody tr th:only-of-type {\n        vertical-align: middle;\n    }\n\n    .dataframe tbody tr th {\n        vertical-align: top;\n    }\n\n    .dataframe thead th {\n        text-align: right;\n    }\n</style>\n<table border=\"1\" class=\"dataframe\">\n  <thead>\n    <tr style=\"text-align: right;\">\n      <th></th>\n      <th>reviewerID</th>\n      <th>itemID</th>\n      <th>reviewed</th>\n    </tr>\n  </thead>\n  <tbody>\n    <tr>\n      <th>0</th>\n      <td>U490934656</td>\n      <td>I402344648</td>\n      <td>1</td>\n    </tr>\n    <tr>\n      <th>1</th>\n      <td>U714157797</td>\n      <td>I697650540</td>\n      <td>1</td>\n    </tr>\n    <tr>\n      <th>...</th>\n      <td>...</td>\n      <td>...</td>\n      <td>...</td>\n    </tr>\n    <tr>\n      <th>99998</th>\n      <td>U234915922</td>\n      <td>I615427216</td>\n      <td>1</td>\n    </tr>\n    <tr>\n      <th>99999</th>\n      <td>U519867287</td>\n      <td>I568555036</td>\n      <td>1</td>\n    </tr>\n  </tbody>\n</table>\n<p>100000 rows × 3 columns</p>\n</div>",
         "text/plain": "       reviewerID      itemID  reviewed\n0      U490934656  I402344648         1\n1      U714157797  I697650540         1\n...           ...         ...       ...\n99998  U234915922  I615427216         1\n99999  U519867287  I568555036         1\n\n[100000 rows x 3 columns]"
        },
        "execution_count": 37,
        "metadata": {}
       },
       "metadata": {},
       "msg_type": "execute_result",
       "version": "5.3"
      },
      "timestamp": "2018-11-16T06:28:49.177Z"
     },
     {
      "code": "seen = all_train[['reviewerID', 'itemID']].assign(reviewed=1)\nunseen = (pd.DataFrame(unseen_pairs, columns=['reviewerID', 'itemID'])\n          .assign(reviewed=0))\ntrain_and_valid = pd.concat([seen, unseen], ignore_index=True)\n\ntrain = train_and_valid[:100000]\nvalid = train_and_valid[100000:]\ntrain",
      "response": {
       "content": {
        "data": {
         "text/html": "<div>\n<style scoped>\n    .dataframe tbody tr th:only-of-type {\n        vertical-align: middle;\n    }\n\n    .dataframe tbody tr th {\n        vertical-align: top;\n    }\n\n    .dataframe thead th {\n        text-align: right;\n    }\n</style>\n<table border=\"1\" class=\"dataframe\">\n  <thead>\n    <tr style=\"text-align: right;\">\n      <th></th>\n      <th>reviewerID</th>\n      <th>itemID</th>\n      <th>reviewed</th>\n    </tr>\n  </thead>\n  <tbody>\n    <tr>\n      <th>0</th>\n      <td>U490934656</td>\n      <td>I402344648</td>\n      <td>1</td>\n    </tr>\n    <tr>\n      <th>1</th>\n      <td>U714157797</td>\n      <td>I697650540</td>\n      <td>1</td>\n    </tr>\n    <tr>\n      <th>...</th>\n      <td>...</td>\n      <td>...</td>\n      <td>...</td>\n    </tr>\n    <tr>\n      <th>99998</th>\n      <td>U234915922</td>\n      <td>I615427216</td>\n      <td>1</td>\n    </tr>\n    <tr>\n      <th>99999</th>\n      <td>U519867287</td>\n      <td>I568555036</td>\n      <td>1</td>\n    </tr>\n  </tbody>\n</table>\n<p>100000 rows × 3 columns</p>\n</div>",
         "text/plain": "       reviewerID      itemID  reviewed\n0      U490934656  I402344648         1\n1      U714157797  I697650540         1\n...           ...         ...       ...\n99998  U234915922  I615427216         1\n99999  U519867287  I568555036         1\n\n[100000 rows x 3 columns]"
        },
        "execution_count": 7,
        "metadata": {}
       },
       "metadata": {},
       "msg_type": "execute_result",
       "version": "5.3"
      },
      "timestamp": "2018-11-16T19:48:12.957Z"
     },
     {
      "code": "seen = all_train[['reviewerID', 'itemID']].assign(reviewed=1)\nunseen = (pd.DataFrame(unseen_pairs, columns=['reviewerID', 'itemID'])\n          .assign(reviewed=0))\ntrain_and_valid = pd.concat([seen, unseen], ignore_index=True)\ntrain_and_valid\n\n# train = train_and_valid[:100000]\n# valid = train_and_valid[100000:]\n# train",
      "response": {
       "content": {
        "data": {
         "text/html": "<div>\n<style scoped>\n    .dataframe tbody tr th:only-of-type {\n        vertical-align: middle;\n    }\n\n    .dataframe tbody tr th {\n        vertical-align: top;\n    }\n\n    .dataframe thead th {\n        text-align: right;\n    }\n</style>\n<table border=\"1\" class=\"dataframe\">\n  <thead>\n    <tr style=\"text-align: right;\">\n      <th></th>\n      <th>reviewerID</th>\n      <th>itemID</th>\n      <th>reviewed</th>\n    </tr>\n  </thead>\n  <tbody>\n    <tr>\n      <th>0</th>\n      <td>U490934656</td>\n      <td>I402344648</td>\n      <td>1</td>\n    </tr>\n    <tr>\n      <th>1</th>\n      <td>U714157797</td>\n      <td>I697650540</td>\n      <td>1</td>\n    </tr>\n    <tr>\n      <th>...</th>\n      <td>...</td>\n      <td>...</td>\n      <td>...</td>\n    </tr>\n    <tr>\n      <th>299998</th>\n      <td>U357509274</td>\n      <td>I577669367</td>\n      <td>0</td>\n    </tr>\n    <tr>\n      <th>299999</th>\n      <td>U338076942</td>\n      <td>I613217570</td>\n      <td>0</td>\n    </tr>\n  </tbody>\n</table>\n<p>300000 rows × 3 columns</p>\n</div>",
         "text/plain": "        reviewerID      itemID  reviewed\n0       U490934656  I402344648         1\n1       U714157797  I697650540         1\n...            ...         ...       ...\n299998  U357509274  I577669367         0\n299999  U338076942  I613217570         0\n\n[300000 rows x 3 columns]"
        },
        "execution_count": 117,
        "metadata": {}
       },
       "metadata": {},
       "msg_type": "execute_result",
       "version": "5.3"
      },
      "timestamp": "2018-11-16T22:10:13.336Z"
     },
     {
      "code": "seen = all_train[['reviewerID', 'itemID']].assign(reviewed=1)\nunseen = (pd.DataFrame(unseen_pairs, columns=['reviewerID', 'itemID'])\n          .assign(reviewed=0))\ntrain_and_valid = (pd.concat([seen, unseen], ignore_index=True)\n                   .merge(item_categories, left_on='itemID', right_index=True))\ntrain_and_valid\n\n# train = train_and_valid[:100000]\n# valid = train_and_valid[100000:]\n# train",
      "response": {
       "content": {
        "data": {
         "text/html": "<div>\n<style scoped>\n    .dataframe tbody tr th:only-of-type {\n        vertical-align: middle;\n    }\n\n    .dataframe tbody tr th {\n        vertical-align: top;\n    }\n\n    .dataframe thead th {\n        text-align: right;\n    }\n</style>\n<table border=\"1\" class=\"dataframe\">\n  <thead>\n    <tr style=\"text-align: right;\">\n      <th></th>\n      <th>reviewerID</th>\n      <th>itemID</th>\n      <th>reviewed</th>\n      <th>categories</th>\n    </tr>\n  </thead>\n  <tbody>\n    <tr>\n      <th>0</th>\n      <td>U490934656</td>\n      <td>I402344648</td>\n      <td>1</td>\n      <td>[[Clothing, Shoes &amp; Jewelry, Women], [Clothing...</td>\n    </tr>\n    <tr>\n      <th>10034</th>\n      <td>U478192399</td>\n      <td>I402344648</td>\n      <td>1</td>\n      <td>[[Clothing, Shoes &amp; Jewelry, Women], [Clothing...</td>\n    </tr>\n    <tr>\n      <th>...</th>\n      <td>...</td>\n      <td>...</td>\n      <td>...</td>\n      <td>...</td>\n    </tr>\n    <tr>\n      <th>291783</th>\n      <td>U535547325</td>\n      <td>I681497244</td>\n      <td>0</td>\n      <td>[[Clothing, Shoes &amp; Jewelry, Three, Five &amp; Sev...</td>\n    </tr>\n    <tr>\n      <th>298431</th>\n      <td>U348700036</td>\n      <td>I681497244</td>\n      <td>0</td>\n      <td>[[Clothing, Shoes &amp; Jewelry, Three, Five &amp; Sev...</td>\n    </tr>\n  </tbody>\n</table>\n<p>300000 rows × 4 columns</p>\n</div>",
         "text/plain": "        reviewerID      itemID  reviewed  \\\n0       U490934656  I402344648         1   \n10034   U478192399  I402344648         1   \n...            ...         ...       ...   \n291783  U535547325  I681497244         0   \n298431  U348700036  I681497244         0   \n\n                                               categories  \n0       [[Clothing, Shoes & Jewelry, Women], [Clothing...  \n10034   [[Clothing, Shoes & Jewelry, Women], [Clothing...  \n...                                                   ...  \n291783  [[Clothing, Shoes & Jewelry, Three, Five & Sev...  \n298431  [[Clothing, Shoes & Jewelry, Three, Five & Sev...  \n\n[300000 rows x 4 columns]"
        },
        "execution_count": 119,
        "metadata": {}
       },
       "metadata": {},
       "msg_type": "execute_result",
       "version": "5.3"
      },
      "timestamp": "2018-11-16T22:10:50.669Z"
     },
     {
      "code": "seen = all_train[['reviewerID', 'itemID']].assign(reviewed=1)\nunseen = (pd.DataFrame(unseen_pairs, columns=['reviewerID', 'itemID'])\n          .assign(reviewed=0))\ntrain_and_valid = (pd.concat([seen, unseen], ignore_index=True)\n                   .merge(item_categories, left_on='itemID', right_index=True)\n                   .reset_index(drop=True))\ntrain_and_valid\n\n# train = train_and_valid[:100000]\n# valid = train_and_valid[100000:]\n# train",
      "response": {
       "content": {
        "data": {
         "text/html": "<div>\n<style scoped>\n    .dataframe tbody tr th:only-of-type {\n        vertical-align: middle;\n    }\n\n    .dataframe tbody tr th {\n        vertical-align: top;\n    }\n\n    .dataframe thead th {\n        text-align: right;\n    }\n</style>\n<table border=\"1\" class=\"dataframe\">\n  <thead>\n    <tr style=\"text-align: right;\">\n      <th></th>\n      <th>reviewerID</th>\n      <th>itemID</th>\n      <th>reviewed</th>\n      <th>categories</th>\n    </tr>\n  </thead>\n  <tbody>\n    <tr>\n      <th>0</th>\n      <td>U490934656</td>\n      <td>I402344648</td>\n      <td>1</td>\n      <td>[[Clothing, Shoes &amp; Jewelry, Women], [Clothing...</td>\n    </tr>\n    <tr>\n      <th>1</th>\n      <td>U478192399</td>\n      <td>I402344648</td>\n      <td>1</td>\n      <td>[[Clothing, Shoes &amp; Jewelry, Women], [Clothing...</td>\n    </tr>\n    <tr>\n      <th>...</th>\n      <td>...</td>\n      <td>...</td>\n      <td>...</td>\n      <td>...</td>\n    </tr>\n    <tr>\n      <th>299998</th>\n      <td>U535547325</td>\n      <td>I681497244</td>\n      <td>0</td>\n      <td>[[Clothing, Shoes &amp; Jewelry, Three, Five &amp; Sev...</td>\n    </tr>\n    <tr>\n      <th>299999</th>\n      <td>U348700036</td>\n      <td>I681497244</td>\n      <td>0</td>\n      <td>[[Clothing, Shoes &amp; Jewelry, Three, Five &amp; Sev...</td>\n    </tr>\n  </tbody>\n</table>\n<p>300000 rows × 4 columns</p>\n</div>",
         "text/plain": "        reviewerID      itemID  reviewed  \\\n0       U490934656  I402344648         1   \n1       U478192399  I402344648         1   \n...            ...         ...       ...   \n299998  U535547325  I681497244         0   \n299999  U348700036  I681497244         0   \n\n                                               categories  \n0       [[Clothing, Shoes & Jewelry, Women], [Clothing...  \n1       [[Clothing, Shoes & Jewelry, Women], [Clothing...  \n...                                                   ...  \n299998  [[Clothing, Shoes & Jewelry, Three, Five & Sev...  \n299999  [[Clothing, Shoes & Jewelry, Three, Five & Sev...  \n\n[300000 rows x 4 columns]"
        },
        "execution_count": 120,
        "metadata": {}
       },
       "metadata": {},
       "msg_type": "execute_result",
       "version": "5.3"
      },
      "timestamp": "2018-11-16T22:11:30.137Z"
     },
     {
      "code": "seen = all_train[['reviewerID', 'itemID']].assign(reviewed=1)\nunseen = (pd.DataFrame(unseen_pairs, columns=['reviewerID', 'itemID'])\n          .assign(reviewed=0))\ntrain_and_valid = pd.concat([seen, unseen], ignore_index=True)\ntrain_and_valid\n\n# train = train_and_valid[:100000]\n# valid = train_and_valid[100000:]\n# train",
      "response": {
       "content": {
        "data": {
         "text/html": "<div>\n<style scoped>\n    .dataframe tbody tr th:only-of-type {\n        vertical-align: middle;\n    }\n\n    .dataframe tbody tr th {\n        vertical-align: top;\n    }\n\n    .dataframe thead th {\n        text-align: right;\n    }\n</style>\n<table border=\"1\" class=\"dataframe\">\n  <thead>\n    <tr style=\"text-align: right;\">\n      <th></th>\n      <th>reviewerID</th>\n      <th>itemID</th>\n      <th>reviewed</th>\n    </tr>\n  </thead>\n  <tbody>\n    <tr>\n      <th>0</th>\n      <td>U490934656</td>\n      <td>I402344648</td>\n      <td>1</td>\n    </tr>\n    <tr>\n      <th>1</th>\n      <td>U714157797</td>\n      <td>I697650540</td>\n      <td>1</td>\n    </tr>\n    <tr>\n      <th>...</th>\n      <td>...</td>\n      <td>...</td>\n      <td>...</td>\n    </tr>\n    <tr>\n      <th>299998</th>\n      <td>U357509274</td>\n      <td>I577669367</td>\n      <td>0</td>\n    </tr>\n    <tr>\n      <th>299999</th>\n      <td>U338076942</td>\n      <td>I613217570</td>\n      <td>0</td>\n    </tr>\n  </tbody>\n</table>\n<p>300000 rows × 3 columns</p>\n</div>",
         "text/plain": "        reviewerID      itemID  reviewed\n0       U490934656  I402344648         1\n1       U714157797  I697650540         1\n...            ...         ...       ...\n299998  U357509274  I577669367         0\n299999  U338076942  I613217570         0\n\n[300000 rows x 3 columns]"
        },
        "execution_count": 121,
        "metadata": {}
       },
       "metadata": {},
       "msg_type": "execute_result",
       "version": "5.3"
      },
      "timestamp": "2018-11-16T22:12:00.956Z"
     },
     {
      "code": "seen = all_train[['reviewerID', 'itemID']].assign(reviewed=1)\nunseen = (pd.DataFrame(unseen_pairs, columns=['reviewerID', 'itemID'])\n          .assign(reviewed=0))\ntrain_and_valid = pd.concat([seen, unseen], ignore_index=True)\ntrain_and_valid\n\ntrain = train_and_valid[:100000]\nvalid = train_and_valid[100000:]\ntrain",
      "response": {
       "content": {
        "data": {
         "text/html": "<div>\n<style scoped>\n    .dataframe tbody tr th:only-of-type {\n        vertical-align: middle;\n    }\n\n    .dataframe tbody tr th {\n        vertical-align: top;\n    }\n\n    .dataframe thead th {\n        text-align: right;\n    }\n</style>\n<table border=\"1\" class=\"dataframe\">\n  <thead>\n    <tr style=\"text-align: right;\">\n      <th></th>\n      <th>reviewerID</th>\n      <th>itemID</th>\n      <th>reviewed</th>\n    </tr>\n  </thead>\n  <tbody>\n    <tr>\n      <th>0</th>\n      <td>U490934656</td>\n      <td>I402344648</td>\n      <td>1</td>\n    </tr>\n    <tr>\n      <th>1</th>\n      <td>U714157797</td>\n      <td>I697650540</td>\n      <td>1</td>\n    </tr>\n    <tr>\n      <th>...</th>\n      <td>...</td>\n      <td>...</td>\n      <td>...</td>\n    </tr>\n    <tr>\n      <th>99998</th>\n      <td>U234915922</td>\n      <td>I615427216</td>\n      <td>1</td>\n    </tr>\n    <tr>\n      <th>99999</th>\n      <td>U519867287</td>\n      <td>I568555036</td>\n      <td>1</td>\n    </tr>\n  </tbody>\n</table>\n<p>100000 rows × 3 columns</p>\n</div>",
         "text/plain": "       reviewerID      itemID  reviewed\n0      U490934656  I402344648         1\n1      U714157797  I697650540         1\n...           ...         ...       ...\n99998  U234915922  I615427216         1\n99999  U519867287  I568555036         1\n\n[100000 rows x 3 columns]"
        },
        "execution_count": 122,
        "metadata": {}
       },
       "metadata": {},
       "msg_type": "execute_result",
       "version": "5.3"
      },
      "timestamp": "2018-11-16T22:12:03.933Z"
     },
     {
      "code": "seen = all_train[['reviewerID', 'itemID']].assign(reviewed=1)\nunseen = (pd.DataFrame(unseen_pairs, columns=['reviewerID', 'itemID'])\n          .assign(reviewed=0))\ntrain_and_valid = pd.concat([seen, unseen], ignore_index=True)\ntrain_and_valid\n\nindices = np.random.choice(len(train_and_valid),\n                           size=len(train_and_valid), replace=False)\ntrain = train_and_valid[indices[:100000]]\nvalid = train_and_valid[indices[100000:]]\ntrain",
      "response": {
       "content": {
        "ename": "KeyError",
        "evalue": "'[271158  35339   4524 ...  45844  14784  87709] not in index'",
        "traceback": [
         "\u001b[0;31m---------------------------------------------------------------------------\u001b[0m",
         "\u001b[0;31mKeyError\u001b[0m                                  Traceback (most recent call last)",
         "\u001b[0;32m<ipython-input-143-582a0d4cbf11>\u001b[0m in \u001b[0;36m<module>\u001b[0;34m\u001b[0m\n\u001b[1;32m      7\u001b[0m indices = np.random.choice(len(train_and_valid),\n\u001b[1;32m      8\u001b[0m                            size=len(train_and_valid), replace=False)\n\u001b[0;32m----> 9\u001b[0;31m \u001b[0mtrain\u001b[0m \u001b[0;34m=\u001b[0m \u001b[0mtrain_and_valid\u001b[0m\u001b[0;34m[\u001b[0m\u001b[0mindices\u001b[0m\u001b[0;34m[\u001b[0m\u001b[0;34m:\u001b[0m\u001b[0;36m100000\u001b[0m\u001b[0;34m]\u001b[0m\u001b[0;34m]\u001b[0m\u001b[0;34m\u001b[0m\u001b[0m\n\u001b[0m\u001b[1;32m     10\u001b[0m \u001b[0mvalid\u001b[0m \u001b[0;34m=\u001b[0m \u001b[0mtrain_and_valid\u001b[0m\u001b[0;34m[\u001b[0m\u001b[0mindices\u001b[0m\u001b[0;34m[\u001b[0m\u001b[0;36m100000\u001b[0m\u001b[0;34m:\u001b[0m\u001b[0;34m]\u001b[0m\u001b[0;34m]\u001b[0m\u001b[0;34m\u001b[0m\u001b[0m\n\u001b[1;32m     11\u001b[0m \u001b[0mtrain\u001b[0m\u001b[0;34m\u001b[0m\u001b[0m\n",
         "\u001b[0;32m~/anaconda3/lib/python3.6/site-packages/pandas/core/frame.py\u001b[0m in \u001b[0;36m__getitem__\u001b[0;34m(self, key)\u001b[0m\n\u001b[1;32m   2680\u001b[0m         \u001b[0;32mif\u001b[0m \u001b[0misinstance\u001b[0m\u001b[0;34m(\u001b[0m\u001b[0mkey\u001b[0m\u001b[0;34m,\u001b[0m \u001b[0;34m(\u001b[0m\u001b[0mSeries\u001b[0m\u001b[0;34m,\u001b[0m \u001b[0mnp\u001b[0m\u001b[0;34m.\u001b[0m\u001b[0mndarray\u001b[0m\u001b[0;34m,\u001b[0m \u001b[0mIndex\u001b[0m\u001b[0;34m,\u001b[0m \u001b[0mlist\u001b[0m\u001b[0;34m)\u001b[0m\u001b[0;34m)\u001b[0m\u001b[0;34m:\u001b[0m\u001b[0;34m\u001b[0m\u001b[0m\n\u001b[1;32m   2681\u001b[0m             \u001b[0;31m# either boolean or fancy integer index\u001b[0m\u001b[0;34m\u001b[0m\u001b[0;34m\u001b[0m\u001b[0m\n\u001b[0;32m-> 2682\u001b[0;31m             \u001b[0;32mreturn\u001b[0m \u001b[0mself\u001b[0m\u001b[0;34m.\u001b[0m\u001b[0m_getitem_array\u001b[0m\u001b[0;34m(\u001b[0m\u001b[0mkey\u001b[0m\u001b[0;34m)\u001b[0m\u001b[0;34m\u001b[0m\u001b[0m\n\u001b[0m\u001b[1;32m   2683\u001b[0m         \u001b[0;32melif\u001b[0m \u001b[0misinstance\u001b[0m\u001b[0;34m(\u001b[0m\u001b[0mkey\u001b[0m\u001b[0;34m,\u001b[0m \u001b[0mDataFrame\u001b[0m\u001b[0;34m)\u001b[0m\u001b[0;34m:\u001b[0m\u001b[0;34m\u001b[0m\u001b[0m\n\u001b[1;32m   2684\u001b[0m             \u001b[0;32mreturn\u001b[0m \u001b[0mself\u001b[0m\u001b[0;34m.\u001b[0m\u001b[0m_getitem_frame\u001b[0m\u001b[0;34m(\u001b[0m\u001b[0mkey\u001b[0m\u001b[0;34m)\u001b[0m\u001b[0;34m\u001b[0m\u001b[0m\n",
         "\u001b[0;32m~/anaconda3/lib/python3.6/site-packages/pandas/core/frame.py\u001b[0m in \u001b[0;36m_getitem_array\u001b[0;34m(self, key)\u001b[0m\n\u001b[1;32m   2724\u001b[0m             \u001b[0;32mreturn\u001b[0m \u001b[0mself\u001b[0m\u001b[0;34m.\u001b[0m\u001b[0m_take\u001b[0m\u001b[0;34m(\u001b[0m\u001b[0mindexer\u001b[0m\u001b[0;34m,\u001b[0m \u001b[0maxis\u001b[0m\u001b[0;34m=\u001b[0m\u001b[0;36m0\u001b[0m\u001b[0;34m)\u001b[0m\u001b[0;34m\u001b[0m\u001b[0m\n\u001b[1;32m   2725\u001b[0m         \u001b[0;32melse\u001b[0m\u001b[0;34m:\u001b[0m\u001b[0;34m\u001b[0m\u001b[0m\n\u001b[0;32m-> 2726\u001b[0;31m             \u001b[0mindexer\u001b[0m \u001b[0;34m=\u001b[0m \u001b[0mself\u001b[0m\u001b[0;34m.\u001b[0m\u001b[0mloc\u001b[0m\u001b[0;34m.\u001b[0m\u001b[0m_convert_to_indexer\u001b[0m\u001b[0;34m(\u001b[0m\u001b[0mkey\u001b[0m\u001b[0;34m,\u001b[0m \u001b[0maxis\u001b[0m\u001b[0;34m=\u001b[0m\u001b[0;36m1\u001b[0m\u001b[0;34m)\u001b[0m\u001b[0;34m\u001b[0m\u001b[0m\n\u001b[0m\u001b[1;32m   2727\u001b[0m             \u001b[0;32mreturn\u001b[0m \u001b[0mself\u001b[0m\u001b[0;34m.\u001b[0m\u001b[0m_take\u001b[0m\u001b[0;34m(\u001b[0m\u001b[0mindexer\u001b[0m\u001b[0;34m,\u001b[0m \u001b[0maxis\u001b[0m\u001b[0;34m=\u001b[0m\u001b[0;36m1\u001b[0m\u001b[0;34m)\u001b[0m\u001b[0;34m\u001b[0m\u001b[0m\n\u001b[1;32m   2728\u001b[0m \u001b[0;34m\u001b[0m\u001b[0m\n",
         "\u001b[0;32m~/anaconda3/lib/python3.6/site-packages/pandas/core/indexing.py\u001b[0m in \u001b[0;36m_convert_to_indexer\u001b[0;34m(self, obj, axis, is_setter)\u001b[0m\n\u001b[1;32m   1325\u001b[0m                 \u001b[0;32mif\u001b[0m \u001b[0mmask\u001b[0m\u001b[0;34m.\u001b[0m\u001b[0many\u001b[0m\u001b[0;34m(\u001b[0m\u001b[0;34m)\u001b[0m\u001b[0;34m:\u001b[0m\u001b[0;34m\u001b[0m\u001b[0m\n\u001b[1;32m   1326\u001b[0m                     raise KeyError('{mask} not in index'\n\u001b[0;32m-> 1327\u001b[0;31m                                    .format(mask=objarr[mask]))\n\u001b[0m\u001b[1;32m   1328\u001b[0m \u001b[0;34m\u001b[0m\u001b[0m\n\u001b[1;32m   1329\u001b[0m                 \u001b[0;32mreturn\u001b[0m \u001b[0mcom\u001b[0m\u001b[0;34m.\u001b[0m\u001b[0m_values_from_object\u001b[0m\u001b[0;34m(\u001b[0m\u001b[0mindexer\u001b[0m\u001b[0;34m)\u001b[0m\u001b[0;34m\u001b[0m\u001b[0m\n",
         "\u001b[0;31mKeyError\u001b[0m: '[271158  35339   4524 ...  45844  14784  87709] not in index'"
        ]
       },
       "metadata": {},
       "msg_type": "error",
       "version": "5.3"
      },
      "timestamp": "2018-11-16T22:42:45.164Z"
     },
     {
      "code": "seen = all_train[['reviewerID', 'itemID']].assign(reviewed=1)\nunseen = (pd.DataFrame(unseen_pairs, columns=['reviewerID', 'itemID'])\n          .assign(reviewed=0))\ntrain_and_valid = pd.concat([seen, unseen], ignore_index=True)\ntrain_and_valid",
      "response": {
       "content": {
        "data": {
         "text/html": "<div>\n<style scoped>\n    .dataframe tbody tr th:only-of-type {\n        vertical-align: middle;\n    }\n\n    .dataframe tbody tr th {\n        vertical-align: top;\n    }\n\n    .dataframe thead th {\n        text-align: right;\n    }\n</style>\n<table border=\"1\" class=\"dataframe\">\n  <thead>\n    <tr style=\"text-align: right;\">\n      <th></th>\n      <th>reviewerID</th>\n      <th>itemID</th>\n      <th>reviewed</th>\n    </tr>\n  </thead>\n  <tbody>\n    <tr>\n      <th>0</th>\n      <td>U490934656</td>\n      <td>I402344648</td>\n      <td>1</td>\n    </tr>\n    <tr>\n      <th>1</th>\n      <td>U714157797</td>\n      <td>I697650540</td>\n      <td>1</td>\n    </tr>\n    <tr>\n      <th>...</th>\n      <td>...</td>\n      <td>...</td>\n      <td>...</td>\n    </tr>\n    <tr>\n      <th>299998</th>\n      <td>U357509274</td>\n      <td>I577669367</td>\n      <td>0</td>\n    </tr>\n    <tr>\n      <th>299999</th>\n      <td>U338076942</td>\n      <td>I613217570</td>\n      <td>0</td>\n    </tr>\n  </tbody>\n</table>\n<p>300000 rows × 3 columns</p>\n</div>",
         "text/plain": "        reviewerID      itemID  reviewed\n0       U490934656  I402344648         1\n1       U714157797  I697650540         1\n...            ...         ...       ...\n299998  U357509274  I577669367         0\n299999  U338076942  I613217570         0\n\n[300000 rows x 3 columns]"
        },
        "execution_count": 145,
        "metadata": {}
       },
       "metadata": {},
       "msg_type": "execute_result",
       "version": "5.3"
      },
      "timestamp": "2018-11-16T22:43:19.744Z"
     }
    ]
   },
   "outputs": [
    {
     "data": {
      "text/html": [
       "<div>\n",
       "<style scoped>\n",
       "    .dataframe tbody tr th:only-of-type {\n",
       "        vertical-align: middle;\n",
       "    }\n",
       "\n",
       "    .dataframe tbody tr th {\n",
       "        vertical-align: top;\n",
       "    }\n",
       "\n",
       "    .dataframe thead th {\n",
       "        text-align: right;\n",
       "    }\n",
       "</style>\n",
       "<table border=\"1\" class=\"dataframe\">\n",
       "  <thead>\n",
       "    <tr style=\"text-align: right;\">\n",
       "      <th></th>\n",
       "      <th>reviewerID</th>\n",
       "      <th>itemID</th>\n",
       "      <th>reviewed</th>\n",
       "    </tr>\n",
       "  </thead>\n",
       "  <tbody>\n",
       "    <tr>\n",
       "      <th>0</th>\n",
       "      <td>U490934656</td>\n",
       "      <td>I402344648</td>\n",
       "      <td>1</td>\n",
       "    </tr>\n",
       "    <tr>\n",
       "      <th>1</th>\n",
       "      <td>U714157797</td>\n",
       "      <td>I697650540</td>\n",
       "      <td>1</td>\n",
       "    </tr>\n",
       "    <tr>\n",
       "      <th>...</th>\n",
       "      <td>...</td>\n",
       "      <td>...</td>\n",
       "      <td>...</td>\n",
       "    </tr>\n",
       "    <tr>\n",
       "      <th>299998</th>\n",
       "      <td>U357509274</td>\n",
       "      <td>I577669367</td>\n",
       "      <td>0</td>\n",
       "    </tr>\n",
       "    <tr>\n",
       "      <th>299999</th>\n",
       "      <td>U338076942</td>\n",
       "      <td>I613217570</td>\n",
       "      <td>0</td>\n",
       "    </tr>\n",
       "  </tbody>\n",
       "</table>\n",
       "<p>300000 rows × 3 columns</p>\n",
       "</div>"
      ],
      "text/plain": [
       "        reviewerID      itemID  reviewed\n",
       "0       U490934656  I402344648         1\n",
       "1       U714157797  I697650540         1\n",
       "...            ...         ...       ...\n",
       "299998  U357509274  I577669367         0\n",
       "299999  U338076942  I613217570         0\n",
       "\n",
       "[300000 rows x 3 columns]"
      ]
     },
     "execution_count": 145,
     "metadata": {},
     "output_type": "execute_result"
    }
   ],
   "source": [
    "seen = all_train[['reviewerID', 'itemID']].assign(reviewed=1)\n",
    "unseen = (pd.DataFrame(unseen_pairs, columns=['reviewerID', 'itemID'])\n",
    "          .assign(reviewed=0))\n",
    "train_and_valid = pd.concat([seen, unseen], ignore_index=True)\n",
    "train_and_valid"
   ]
  },
  {
   "cell_type": "code",
   "execution_count": 150,
   "metadata": {
    "history": [
     {
      "code": "seen = valid[['reviewerID', 'itemID']].assign(reviewed=1)\nunseen = (pd.DataFrame(unseen_pairs, columns=['reviewerID', 'itemID'])\n          .assign(reviewed=0))\nvalid_full = pd.concat([seen, unseen], ignore_index=True)\nvalid_full",
      "response": {
       "content": {
        "ename": "NameError",
        "evalue": "name 'valid' is not defined",
        "traceback": [
         "\u001b[0;31m---------------------------------------------------------------------------\u001b[0m",
         "\u001b[0;31mNameError\u001b[0m                                 Traceback (most recent call last)",
         "\u001b[0;32m<ipython-input-24-83a817719de9>\u001b[0m in \u001b[0;36m<module>\u001b[0;34m\u001b[0m\n\u001b[0;32m----> 1\u001b[0;31m \u001b[0mseen\u001b[0m \u001b[0;34m=\u001b[0m \u001b[0mvalid\u001b[0m\u001b[0;34m[\u001b[0m\u001b[0;34m[\u001b[0m\u001b[0;34m'reviewerID'\u001b[0m\u001b[0;34m,\u001b[0m \u001b[0;34m'itemID'\u001b[0m\u001b[0;34m]\u001b[0m\u001b[0;34m]\u001b[0m\u001b[0;34m.\u001b[0m\u001b[0massign\u001b[0m\u001b[0;34m(\u001b[0m\u001b[0mreviewed\u001b[0m\u001b[0;34m=\u001b[0m\u001b[0;36m1\u001b[0m\u001b[0;34m)\u001b[0m\u001b[0;34m\u001b[0m\u001b[0m\n\u001b[0m\u001b[1;32m      2\u001b[0m unseen = (pd.DataFrame(unseen_pairs, columns=['reviewerID', 'itemID'])\n\u001b[1;32m      3\u001b[0m           .assign(reviewed=0))\n\u001b[1;32m      4\u001b[0m \u001b[0mvalid_full\u001b[0m \u001b[0;34m=\u001b[0m \u001b[0mpd\u001b[0m\u001b[0;34m.\u001b[0m\u001b[0mconcat\u001b[0m\u001b[0;34m(\u001b[0m\u001b[0;34m[\u001b[0m\u001b[0mseen\u001b[0m\u001b[0;34m,\u001b[0m \u001b[0munseen\u001b[0m\u001b[0;34m]\u001b[0m\u001b[0;34m,\u001b[0m \u001b[0mignore_index\u001b[0m\u001b[0;34m=\u001b[0m\u001b[0;32mTrue\u001b[0m\u001b[0;34m)\u001b[0m\u001b[0;34m\u001b[0m\u001b[0m\n\u001b[1;32m      5\u001b[0m \u001b[0mvalid_full\u001b[0m\u001b[0;34m\u001b[0m\u001b[0m\n",
         "\u001b[0;31mNameError\u001b[0m: name 'valid' is not defined"
        ]
       },
       "metadata": {},
       "msg_type": "error",
       "version": "5.3"
      },
      "timestamp": "2018-11-16T05:02:03.171Z"
     },
     {
      "code": "seen = all_train[['reviewerID', 'itemID']].assign(reviewed=1)\nunseen = (pd.DataFrame(unseen_pairs, columns=['reviewerID', 'itemID'])\n          .assign(reviewed=0))\nvalid_full = pd.concat([seen, unseen], ignore_index=True)\nvalid_full",
      "response": {
       "content": {
        "data": {
         "text/html": "<div>\n<style scoped>\n    .dataframe tbody tr th:only-of-type {\n        vertical-align: middle;\n    }\n\n    .dataframe tbody tr th {\n        vertical-align: top;\n    }\n\n    .dataframe thead th {\n        text-align: right;\n    }\n</style>\n<table border=\"1\" class=\"dataframe\">\n  <thead>\n    <tr style=\"text-align: right;\">\n      <th></th>\n      <th>reviewerID</th>\n      <th>itemID</th>\n      <th>reviewed</th>\n    </tr>\n  </thead>\n  <tbody>\n    <tr>\n      <th>0</th>\n      <td>U124242884</td>\n      <td>I468914777</td>\n      <td>1</td>\n    </tr>\n    <tr>\n      <th>1</th>\n      <td>U133141551</td>\n      <td>I018273309</td>\n      <td>1</td>\n    </tr>\n    <tr>\n      <th>...</th>\n      <td>...</td>\n      <td>...</td>\n      <td>...</td>\n    </tr>\n    <tr>\n      <th>299998</th>\n      <td>U437500062</td>\n      <td>I976959821</td>\n      <td>0</td>\n    </tr>\n    <tr>\n      <th>299999</th>\n      <td>U154275509</td>\n      <td>I535744184</td>\n      <td>0</td>\n    </tr>\n  </tbody>\n</table>\n<p>300000 rows × 3 columns</p>\n</div>",
         "text/plain": "        reviewerID      itemID  reviewed\n0       U124242884  I468914777         1\n1       U133141551  I018273309         1\n...            ...         ...       ...\n299998  U437500062  I976959821         0\n299999  U154275509  I535744184         0\n\n[300000 rows x 3 columns]"
        },
        "execution_count": 25,
        "metadata": {}
       },
       "metadata": {},
       "msg_type": "execute_result",
       "version": "5.3"
      },
      "timestamp": "2018-11-16T05:03:33.950Z"
     },
     {
      "code": "seen = all_train[['reviewerID', 'itemID']].assign(reviewed=1)\nunseen = (pd.DataFrame(unseen_pairs, columns=['reviewerID', 'itemID'])\n          .assign(reviewed=0))\ntrain = pd.concat([seen, unseen], ignore_index=True)\ntrain",
      "response": {
       "content": {
        "data": {
         "text/html": "<div>\n<style scoped>\n    .dataframe tbody tr th:only-of-type {\n        vertical-align: middle;\n    }\n\n    .dataframe tbody tr th {\n        vertical-align: top;\n    }\n\n    .dataframe thead th {\n        text-align: right;\n    }\n</style>\n<table border=\"1\" class=\"dataframe\">\n  <thead>\n    <tr style=\"text-align: right;\">\n      <th></th>\n      <th>reviewerID</th>\n      <th>itemID</th>\n      <th>reviewed</th>\n    </tr>\n  </thead>\n  <tbody>\n    <tr>\n      <th>0</th>\n      <td>U124242884</td>\n      <td>I468914777</td>\n      <td>1</td>\n    </tr>\n    <tr>\n      <th>1</th>\n      <td>U133141551</td>\n      <td>I018273309</td>\n      <td>1</td>\n    </tr>\n    <tr>\n      <th>...</th>\n      <td>...</td>\n      <td>...</td>\n      <td>...</td>\n    </tr>\n    <tr>\n      <th>299998</th>\n      <td>U437500062</td>\n      <td>I976959821</td>\n      <td>0</td>\n    </tr>\n    <tr>\n      <th>299999</th>\n      <td>U154275509</td>\n      <td>I535744184</td>\n      <td>0</td>\n    </tr>\n  </tbody>\n</table>\n<p>300000 rows × 3 columns</p>\n</div>",
         "text/plain": "        reviewerID      itemID  reviewed\n0       U124242884  I468914777         1\n1       U133141551  I018273309         1\n...            ...         ...       ...\n299998  U437500062  I976959821         0\n299999  U154275509  I535744184         0\n\n[300000 rows x 3 columns]"
        },
        "execution_count": 26,
        "metadata": {}
       },
       "metadata": {},
       "msg_type": "execute_result",
       "version": "5.3"
      },
      "timestamp": "2018-11-16T05:03:41.754Z"
     },
     {
      "code": "seen = all_train[['reviewerID', 'itemID']].assign(reviewed=1)\nunseen = (pd.DataFrame(unseen_pairs, columns=['reviewerID', 'itemID'])\n          .assign(reviewed=0))\ntrain_and_valid = (pd.concat([seen, unseen], ignore_index=True)\n                   .sample(frac=1.0)\n                   .reset_index(drop=True))\ntrain = train_and_valid[:200000]\nvalid = train_and_valid[200000:]\ntrain",
      "response": {
       "content": {
        "data": {
         "text/html": "<div>\n<style scoped>\n    .dataframe tbody tr th:only-of-type {\n        vertical-align: middle;\n    }\n\n    .dataframe tbody tr th {\n        vertical-align: top;\n    }\n\n    .dataframe thead th {\n        text-align: right;\n    }\n</style>\n<table border=\"1\" class=\"dataframe\">\n  <thead>\n    <tr style=\"text-align: right;\">\n      <th></th>\n      <th>reviewerID</th>\n      <th>itemID</th>\n      <th>reviewed</th>\n    </tr>\n  </thead>\n  <tbody>\n    <tr>\n      <th>0</th>\n      <td>U847940516</td>\n      <td>I737562103</td>\n      <td>1</td>\n    </tr>\n    <tr>\n      <th>1</th>\n      <td>U249118215</td>\n      <td>I466471108</td>\n      <td>1</td>\n    </tr>\n    <tr>\n      <th>...</th>\n      <td>...</td>\n      <td>...</td>\n      <td>...</td>\n    </tr>\n    <tr>\n      <th>199998</th>\n      <td>U821430540</td>\n      <td>I139754873</td>\n      <td>1</td>\n    </tr>\n    <tr>\n      <th>199999</th>\n      <td>U181551925</td>\n      <td>I522681907</td>\n      <td>1</td>\n    </tr>\n  </tbody>\n</table>\n<p>200000 rows × 3 columns</p>\n</div>",
         "text/plain": "        reviewerID      itemID  reviewed\n0       U847940516  I737562103         1\n1       U249118215  I466471108         1\n...            ...         ...       ...\n199998  U821430540  I139754873         1\n199999  U181551925  I522681907         1\n\n[200000 rows x 3 columns]"
        },
        "execution_count": 30,
        "metadata": {}
       },
       "metadata": {},
       "msg_type": "execute_result",
       "version": "5.3"
      },
      "timestamp": "2018-11-16T05:26:32.004Z"
     },
     {
      "code": "seen = all_train[['reviewerID', 'itemID']].assign(reviewed=1)\nunseen = (pd.DataFrame(unseen_pairs, columns=['reviewerID', 'itemID'])\n          .assign(reviewed=0))\ntrain_and_valid = (pd.concat([seen, unseen], ignore_index=True)\n                   .sample(frac=1.0)\n                   .reset_index(drop=True))\ntrain = train_and_valid[:200000]\nvalid = train_and_valid[200000:]\ntrain.reviewed.mean()",
      "response": {
       "content": {
        "data": {
         "text/plain": "0.666695"
        },
        "execution_count": 31,
        "metadata": {}
       },
       "metadata": {},
       "msg_type": "execute_result",
       "version": "5.3"
      },
      "timestamp": "2018-11-16T05:26:38.576Z"
     },
     {
      "code": "seen = all_train[['reviewerID', 'itemID']].assign(reviewed=1)\nunseen = (pd.DataFrame(unseen_pairs, columns=['reviewerID', 'itemID'])\n          .assign(reviewed=0))\ntrain_and_valid = (pd.concat([seen, unseen], ignore_index=True)\n                   .sample(frac=1.0)\n                   .reset_index(drop=True))\ntrain = train_and_valid[:200000]\nvalid = train_and_valid[200000:]\ntrain",
      "response": {
       "content": {
        "data": {
         "text/html": "<div>\n<style scoped>\n    .dataframe tbody tr th:only-of-type {\n        vertical-align: middle;\n    }\n\n    .dataframe tbody tr th {\n        vertical-align: top;\n    }\n\n    .dataframe thead th {\n        text-align: right;\n    }\n</style>\n<table border=\"1\" class=\"dataframe\">\n  <thead>\n    <tr style=\"text-align: right;\">\n      <th></th>\n      <th>reviewerID</th>\n      <th>itemID</th>\n      <th>reviewed</th>\n    </tr>\n  </thead>\n  <tbody>\n    <tr>\n      <th>0</th>\n      <td>U296579088</td>\n      <td>I480395379</td>\n      <td>1</td>\n    </tr>\n    <tr>\n      <th>1</th>\n      <td>U006207775</td>\n      <td>I616646527</td>\n      <td>1</td>\n    </tr>\n    <tr>\n      <th>...</th>\n      <td>...</td>\n      <td>...</td>\n      <td>...</td>\n    </tr>\n    <tr>\n      <th>199998</th>\n      <td>U167732870</td>\n      <td>I763931635</td>\n      <td>1</td>\n    </tr>\n    <tr>\n      <th>199999</th>\n      <td>U004826896</td>\n      <td>I509048088</td>\n      <td>1</td>\n    </tr>\n  </tbody>\n</table>\n<p>200000 rows × 3 columns</p>\n</div>",
         "text/plain": "        reviewerID      itemID  reviewed\n0       U296579088  I480395379         1\n1       U006207775  I616646527         1\n...            ...         ...       ...\n199998  U167732870  I763931635         1\n199999  U004826896  I509048088         1\n\n[200000 rows x 3 columns]"
        },
        "execution_count": 32,
        "metadata": {}
       },
       "metadata": {},
       "msg_type": "execute_result",
       "version": "5.3"
      },
      "timestamp": "2018-11-16T05:26:41.538Z"
     },
     {
      "code": "seen = all_train[['reviewerID', 'itemID']].assign(reviewed=1)\nunseen = (pd.DataFrame(unseen_pairs, columns=['reviewerID', 'itemID'])\n          .assign(reviewed=0))\ntrain_and_valid = (pd.concat([seen, unseen], ignore_index=True)\n                   .sample(frac=1.0)\n                   .reset_index(drop=True))\ntrain = train_and_valid[:200000]\nvalid = train_and_valid[200000:]\ntrain",
      "response": {
       "content": {
        "data": {
         "text/html": "<div>\n<style scoped>\n    .dataframe tbody tr th:only-of-type {\n        vertical-align: middle;\n    }\n\n    .dataframe tbody tr th {\n        vertical-align: top;\n    }\n\n    .dataframe thead th {\n        text-align: right;\n    }\n</style>\n<table border=\"1\" class=\"dataframe\">\n  <thead>\n    <tr style=\"text-align: right;\">\n      <th></th>\n      <th>reviewerID</th>\n      <th>itemID</th>\n      <th>reviewed</th>\n    </tr>\n  </thead>\n  <tbody>\n    <tr>\n      <th>0</th>\n      <td>U603290770</td>\n      <td>I601575380</td>\n      <td>1</td>\n    </tr>\n    <tr>\n      <th>1</th>\n      <td>U511141383</td>\n      <td>I709948998</td>\n      <td>1</td>\n    </tr>\n    <tr>\n      <th>...</th>\n      <td>...</td>\n      <td>...</td>\n      <td>...</td>\n    </tr>\n    <tr>\n      <th>199998</th>\n      <td>U654820844</td>\n      <td>I105373789</td>\n      <td>0</td>\n    </tr>\n    <tr>\n      <th>199999</th>\n      <td>U792151508</td>\n      <td>I863891523</td>\n      <td>0</td>\n    </tr>\n  </tbody>\n</table>\n<p>200000 rows × 3 columns</p>\n</div>",
         "text/plain": "        reviewerID      itemID  reviewed\n0       U603290770  I601575380         1\n1       U511141383  I709948998         1\n...            ...         ...       ...\n199998  U654820844  I105373789         0\n199999  U792151508  I863891523         0\n\n[200000 rows x 3 columns]"
        },
        "execution_count": 33,
        "metadata": {}
       },
       "metadata": {},
       "msg_type": "execute_result",
       "version": "5.3"
      },
      "timestamp": "2018-11-16T05:26:44.478Z"
     },
     {
      "code": "np.random.seed(42)\n\nseen = all_train[['reviewerID', 'itemID']].assign(reviewed=1)\nunseen = (pd.DataFrame(unseen_pairs, columns=['reviewerID', 'itemID'])\n          .assign(reviewed=0))\ntrain_and_valid = (pd.concat([seen, unseen], ignore_index=True)\n                   .sample(frac=1.0)\n                   .reset_index(drop=True))\ntrain = train_and_valid[:200000]\nvalid = train_and_valid[200000:]\ntrain",
      "response": {
       "content": {
        "data": {
         "text/html": "<div>\n<style scoped>\n    .dataframe tbody tr th:only-of-type {\n        vertical-align: middle;\n    }\n\n    .dataframe tbody tr th {\n        vertical-align: top;\n    }\n\n    .dataframe thead th {\n        text-align: right;\n    }\n</style>\n<table border=\"1\" class=\"dataframe\">\n  <thead>\n    <tr style=\"text-align: right;\">\n      <th></th>\n      <th>reviewerID</th>\n      <th>itemID</th>\n      <th>reviewed</th>\n    </tr>\n  </thead>\n  <tbody>\n    <tr>\n      <th>0</th>\n      <td>U834494147</td>\n      <td>I128611472</td>\n      <td>1</td>\n    </tr>\n    <tr>\n      <th>1</th>\n      <td>U461858851</td>\n      <td>I234579649</td>\n      <td>1</td>\n    </tr>\n    <tr>\n      <th>...</th>\n      <td>...</td>\n      <td>...</td>\n      <td>...</td>\n    </tr>\n    <tr>\n      <th>199998</th>\n      <td>U967452091</td>\n      <td>I272115855</td>\n      <td>0</td>\n    </tr>\n    <tr>\n      <th>199999</th>\n      <td>U318489975</td>\n      <td>I442472343</td>\n      <td>1</td>\n    </tr>\n  </tbody>\n</table>\n<p>200000 rows × 3 columns</p>\n</div>",
         "text/plain": "        reviewerID      itemID  reviewed\n0       U834494147  I128611472         1\n1       U461858851  I234579649         1\n...            ...         ...       ...\n199998  U967452091  I272115855         0\n199999  U318489975  I442472343         1\n\n[200000 rows x 3 columns]"
        },
        "execution_count": 34,
        "metadata": {}
       },
       "metadata": {},
       "msg_type": "execute_result",
       "version": "5.3"
      },
      "timestamp": "2018-11-16T05:26:49.952Z"
     },
     {
      "code": "np.random.seed(42)\n\nseen = all_train[['reviewerID', 'itemID']].assign(reviewed=1)\nunseen = (pd.DataFrame(unseen_pairs, columns=['reviewerID', 'itemID'])\n          .assign(reviewed=0))\ntrain_and_valid = (pd.concat([seen, unseen], ignore_index=True)\n                   .sample(frac=1.0)\n                   .reset_index(drop=True))\ntrain = train_and_valid[:200000]\nvalid = train_and_valid[200000:]\ntrain",
      "response": {
       "content": {
        "data": {
         "text/html": "<div>\n<style scoped>\n    .dataframe tbody tr th:only-of-type {\n        vertical-align: middle;\n    }\n\n    .dataframe tbody tr th {\n        vertical-align: top;\n    }\n\n    .dataframe thead th {\n        text-align: right;\n    }\n</style>\n<table border=\"1\" class=\"dataframe\">\n  <thead>\n    <tr style=\"text-align: right;\">\n      <th></th>\n      <th>reviewerID</th>\n      <th>itemID</th>\n      <th>reviewed</th>\n    </tr>\n  </thead>\n  <tbody>\n    <tr>\n      <th>0</th>\n      <td>U834494147</td>\n      <td>I128611472</td>\n      <td>1</td>\n    </tr>\n    <tr>\n      <th>1</th>\n      <td>U461858851</td>\n      <td>I234579649</td>\n      <td>1</td>\n    </tr>\n    <tr>\n      <th>...</th>\n      <td>...</td>\n      <td>...</td>\n      <td>...</td>\n    </tr>\n    <tr>\n      <th>199998</th>\n      <td>U018187262</td>\n      <td>I044772225</td>\n      <td>0</td>\n    </tr>\n    <tr>\n      <th>199999</th>\n      <td>U318489975</td>\n      <td>I442472343</td>\n      <td>1</td>\n    </tr>\n  </tbody>\n</table>\n<p>200000 rows × 3 columns</p>\n</div>",
         "text/plain": "        reviewerID      itemID  reviewed\n0       U834494147  I128611472         1\n1       U461858851  I234579649         1\n...            ...         ...       ...\n199998  U018187262  I044772225         0\n199999  U318489975  I442472343         1\n\n[200000 rows x 3 columns]"
        },
        "execution_count": 8,
        "metadata": {}
       },
       "metadata": {},
       "msg_type": "execute_result",
       "version": "5.3"
      },
      "timestamp": "2018-11-16T05:42:04.362Z"
     },
     {
      "code": "np.random.seed(42)\n\nseen = all_train[['reviewerID', 'itemID']].assign(reviewed=1)\nunseen = (pd.DataFrame(unseen_pairs, columns=['reviewerID', 'itemID'])\n          .assign(reviewed=0))\ntrain_and_valid = (pd.concat([seen, unseen], ignore_index=True)\n                   .sample(frac=1.0)\n                   .reset_index(drop=True))\ntrain = train_and_valid[:200000]\nvalid = train_and_valid[200000:]\ntrain",
      "response": {
       "content": {
        "data": {
         "text/html": "<div>\n<style scoped>\n    .dataframe tbody tr th:only-of-type {\n        vertical-align: middle;\n    }\n\n    .dataframe tbody tr th {\n        vertical-align: top;\n    }\n\n    .dataframe thead th {\n        text-align: right;\n    }\n</style>\n<table border=\"1\" class=\"dataframe\">\n  <thead>\n    <tr style=\"text-align: right;\">\n      <th></th>\n      <th>reviewerID</th>\n      <th>itemID</th>\n      <th>reviewed</th>\n    </tr>\n  </thead>\n  <tbody>\n    <tr>\n      <th>0</th>\n      <td>U834494147</td>\n      <td>I128611472</td>\n      <td>1</td>\n    </tr>\n    <tr>\n      <th>1</th>\n      <td>U461858851</td>\n      <td>I234579649</td>\n      <td>1</td>\n    </tr>\n    <tr>\n      <th>...</th>\n      <td>...</td>\n      <td>...</td>\n      <td>...</td>\n    </tr>\n    <tr>\n      <th>199998</th>\n      <td>U018187262</td>\n      <td>I044772225</td>\n      <td>0</td>\n    </tr>\n    <tr>\n      <th>199999</th>\n      <td>U318489975</td>\n      <td>I442472343</td>\n      <td>1</td>\n    </tr>\n  </tbody>\n</table>\n<p>200000 rows × 3 columns</p>\n</div>",
         "text/plain": "        reviewerID      itemID  reviewed\n0       U834494147  I128611472         1\n1       U461858851  I234579649         1\n...            ...         ...       ...\n199998  U018187262  I044772225         0\n199999  U318489975  I442472343         1\n\n[200000 rows x 3 columns]"
        },
        "execution_count": 8,
        "metadata": {}
       },
       "metadata": {},
       "msg_type": "execute_result",
       "version": "5.3"
      },
      "timestamp": "2018-11-16T06:16:59.549Z"
     },
     {
      "code": "np.random.seed(42)\n\nseen = all_train[['reviewerID', 'itemID']].assign(reviewed=1)\nunseen = (pd.DataFrame(unseen_pairs, columns=['reviewerID', 'itemID'])\n          .assign(reviewed=0))\ntrain_and_valid = pd.concat([seen, unseen], ignore_index=True)\ntrain = train_and_valid[:100000]\nvalid = train_and_valid[100000:]\ntrain",
      "response": {
       "content": {
        "data": {
         "text/html": "<div>\n<style scoped>\n    .dataframe tbody tr th:only-of-type {\n        vertical-align: middle;\n    }\n\n    .dataframe tbody tr th {\n        vertical-align: top;\n    }\n\n    .dataframe thead th {\n        text-align: right;\n    }\n</style>\n<table border=\"1\" class=\"dataframe\">\n  <thead>\n    <tr style=\"text-align: right;\">\n      <th></th>\n      <th>reviewerID</th>\n      <th>itemID</th>\n      <th>reviewed</th>\n    </tr>\n  </thead>\n  <tbody>\n    <tr>\n      <th>0</th>\n      <td>U490934656</td>\n      <td>I402344648</td>\n      <td>1</td>\n    </tr>\n    <tr>\n      <th>1</th>\n      <td>U714157797</td>\n      <td>I697650540</td>\n      <td>1</td>\n    </tr>\n    <tr>\n      <th>...</th>\n      <td>...</td>\n      <td>...</td>\n      <td>...</td>\n    </tr>\n    <tr>\n      <th>99998</th>\n      <td>U234915922</td>\n      <td>I615427216</td>\n      <td>1</td>\n    </tr>\n    <tr>\n      <th>99999</th>\n      <td>U519867287</td>\n      <td>I568555036</td>\n      <td>1</td>\n    </tr>\n  </tbody>\n</table>\n<p>100000 rows × 3 columns</p>\n</div>",
         "text/plain": "       reviewerID      itemID  reviewed\n0      U490934656  I402344648         1\n1      U714157797  I697650540         1\n...           ...         ...       ...\n99998  U234915922  I615427216         1\n99999  U519867287  I568555036         1\n\n[100000 rows x 3 columns]"
        },
        "execution_count": 36,
        "metadata": {}
       },
       "metadata": {},
       "msg_type": "execute_result",
       "version": "5.3"
      },
      "timestamp": "2018-11-16T06:28:41.623Z"
     },
     {
      "code": "seen = all_train[['reviewerID', 'itemID']].assign(reviewed=1)\nunseen = (pd.DataFrame(unseen_pairs, columns=['reviewerID', 'itemID'])\n          .assign(reviewed=0))\ntrain_and_valid = pd.concat([seen, unseen], ignore_index=True)\ntrain = train_and_valid[:100000]\nvalid = train_and_valid[100000:]\ntrain",
      "response": {
       "content": {
        "data": {
         "text/html": "<div>\n<style scoped>\n    .dataframe tbody tr th:only-of-type {\n        vertical-align: middle;\n    }\n\n    .dataframe tbody tr th {\n        vertical-align: top;\n    }\n\n    .dataframe thead th {\n        text-align: right;\n    }\n</style>\n<table border=\"1\" class=\"dataframe\">\n  <thead>\n    <tr style=\"text-align: right;\">\n      <th></th>\n      <th>reviewerID</th>\n      <th>itemID</th>\n      <th>reviewed</th>\n    </tr>\n  </thead>\n  <tbody>\n    <tr>\n      <th>0</th>\n      <td>U490934656</td>\n      <td>I402344648</td>\n      <td>1</td>\n    </tr>\n    <tr>\n      <th>1</th>\n      <td>U714157797</td>\n      <td>I697650540</td>\n      <td>1</td>\n    </tr>\n    <tr>\n      <th>...</th>\n      <td>...</td>\n      <td>...</td>\n      <td>...</td>\n    </tr>\n    <tr>\n      <th>99998</th>\n      <td>U234915922</td>\n      <td>I615427216</td>\n      <td>1</td>\n    </tr>\n    <tr>\n      <th>99999</th>\n      <td>U519867287</td>\n      <td>I568555036</td>\n      <td>1</td>\n    </tr>\n  </tbody>\n</table>\n<p>100000 rows × 3 columns</p>\n</div>",
         "text/plain": "       reviewerID      itemID  reviewed\n0      U490934656  I402344648         1\n1      U714157797  I697650540         1\n...           ...         ...       ...\n99998  U234915922  I615427216         1\n99999  U519867287  I568555036         1\n\n[100000 rows x 3 columns]"
        },
        "execution_count": 37,
        "metadata": {}
       },
       "metadata": {},
       "msg_type": "execute_result",
       "version": "5.3"
      },
      "timestamp": "2018-11-16T06:28:49.177Z"
     },
     {
      "code": "seen = all_train[['reviewerID', 'itemID']].assign(reviewed=1)\nunseen = (pd.DataFrame(unseen_pairs, columns=['reviewerID', 'itemID'])\n          .assign(reviewed=0))\ntrain_and_valid = pd.concat([seen, unseen], ignore_index=True)\n\ntrain = train_and_valid[:100000]\nvalid = train_and_valid[100000:]\ntrain",
      "response": {
       "content": {
        "data": {
         "text/html": "<div>\n<style scoped>\n    .dataframe tbody tr th:only-of-type {\n        vertical-align: middle;\n    }\n\n    .dataframe tbody tr th {\n        vertical-align: top;\n    }\n\n    .dataframe thead th {\n        text-align: right;\n    }\n</style>\n<table border=\"1\" class=\"dataframe\">\n  <thead>\n    <tr style=\"text-align: right;\">\n      <th></th>\n      <th>reviewerID</th>\n      <th>itemID</th>\n      <th>reviewed</th>\n    </tr>\n  </thead>\n  <tbody>\n    <tr>\n      <th>0</th>\n      <td>U490934656</td>\n      <td>I402344648</td>\n      <td>1</td>\n    </tr>\n    <tr>\n      <th>1</th>\n      <td>U714157797</td>\n      <td>I697650540</td>\n      <td>1</td>\n    </tr>\n    <tr>\n      <th>...</th>\n      <td>...</td>\n      <td>...</td>\n      <td>...</td>\n    </tr>\n    <tr>\n      <th>99998</th>\n      <td>U234915922</td>\n      <td>I615427216</td>\n      <td>1</td>\n    </tr>\n    <tr>\n      <th>99999</th>\n      <td>U519867287</td>\n      <td>I568555036</td>\n      <td>1</td>\n    </tr>\n  </tbody>\n</table>\n<p>100000 rows × 3 columns</p>\n</div>",
         "text/plain": "       reviewerID      itemID  reviewed\n0      U490934656  I402344648         1\n1      U714157797  I697650540         1\n...           ...         ...       ...\n99998  U234915922  I615427216         1\n99999  U519867287  I568555036         1\n\n[100000 rows x 3 columns]"
        },
        "execution_count": 7,
        "metadata": {}
       },
       "metadata": {},
       "msg_type": "execute_result",
       "version": "5.3"
      },
      "timestamp": "2018-11-16T19:48:12.957Z"
     },
     {
      "code": "seen = all_train[['reviewerID', 'itemID']].assign(reviewed=1)\nunseen = (pd.DataFrame(unseen_pairs, columns=['reviewerID', 'itemID'])\n          .assign(reviewed=0))\ntrain_and_valid = pd.concat([seen, unseen], ignore_index=True)\ntrain_and_valid\n\n# train = train_and_valid[:100000]\n# valid = train_and_valid[100000:]\n# train",
      "response": {
       "content": {
        "data": {
         "text/html": "<div>\n<style scoped>\n    .dataframe tbody tr th:only-of-type {\n        vertical-align: middle;\n    }\n\n    .dataframe tbody tr th {\n        vertical-align: top;\n    }\n\n    .dataframe thead th {\n        text-align: right;\n    }\n</style>\n<table border=\"1\" class=\"dataframe\">\n  <thead>\n    <tr style=\"text-align: right;\">\n      <th></th>\n      <th>reviewerID</th>\n      <th>itemID</th>\n      <th>reviewed</th>\n    </tr>\n  </thead>\n  <tbody>\n    <tr>\n      <th>0</th>\n      <td>U490934656</td>\n      <td>I402344648</td>\n      <td>1</td>\n    </tr>\n    <tr>\n      <th>1</th>\n      <td>U714157797</td>\n      <td>I697650540</td>\n      <td>1</td>\n    </tr>\n    <tr>\n      <th>...</th>\n      <td>...</td>\n      <td>...</td>\n      <td>...</td>\n    </tr>\n    <tr>\n      <th>299998</th>\n      <td>U357509274</td>\n      <td>I577669367</td>\n      <td>0</td>\n    </tr>\n    <tr>\n      <th>299999</th>\n      <td>U338076942</td>\n      <td>I613217570</td>\n      <td>0</td>\n    </tr>\n  </tbody>\n</table>\n<p>300000 rows × 3 columns</p>\n</div>",
         "text/plain": "        reviewerID      itemID  reviewed\n0       U490934656  I402344648         1\n1       U714157797  I697650540         1\n...            ...         ...       ...\n299998  U357509274  I577669367         0\n299999  U338076942  I613217570         0\n\n[300000 rows x 3 columns]"
        },
        "execution_count": 117,
        "metadata": {}
       },
       "metadata": {},
       "msg_type": "execute_result",
       "version": "5.3"
      },
      "timestamp": "2018-11-16T22:10:13.336Z"
     },
     {
      "code": "seen = all_train[['reviewerID', 'itemID']].assign(reviewed=1)\nunseen = (pd.DataFrame(unseen_pairs, columns=['reviewerID', 'itemID'])\n          .assign(reviewed=0))\ntrain_and_valid = (pd.concat([seen, unseen], ignore_index=True)\n                   .merge(item_categories, left_on='itemID', right_index=True))\ntrain_and_valid\n\n# train = train_and_valid[:100000]\n# valid = train_and_valid[100000:]\n# train",
      "response": {
       "content": {
        "data": {
         "text/html": "<div>\n<style scoped>\n    .dataframe tbody tr th:only-of-type {\n        vertical-align: middle;\n    }\n\n    .dataframe tbody tr th {\n        vertical-align: top;\n    }\n\n    .dataframe thead th {\n        text-align: right;\n    }\n</style>\n<table border=\"1\" class=\"dataframe\">\n  <thead>\n    <tr style=\"text-align: right;\">\n      <th></th>\n      <th>reviewerID</th>\n      <th>itemID</th>\n      <th>reviewed</th>\n      <th>categories</th>\n    </tr>\n  </thead>\n  <tbody>\n    <tr>\n      <th>0</th>\n      <td>U490934656</td>\n      <td>I402344648</td>\n      <td>1</td>\n      <td>[[Clothing, Shoes &amp; Jewelry, Women], [Clothing...</td>\n    </tr>\n    <tr>\n      <th>10034</th>\n      <td>U478192399</td>\n      <td>I402344648</td>\n      <td>1</td>\n      <td>[[Clothing, Shoes &amp; Jewelry, Women], [Clothing...</td>\n    </tr>\n    <tr>\n      <th>...</th>\n      <td>...</td>\n      <td>...</td>\n      <td>...</td>\n      <td>...</td>\n    </tr>\n    <tr>\n      <th>291783</th>\n      <td>U535547325</td>\n      <td>I681497244</td>\n      <td>0</td>\n      <td>[[Clothing, Shoes &amp; Jewelry, Three, Five &amp; Sev...</td>\n    </tr>\n    <tr>\n      <th>298431</th>\n      <td>U348700036</td>\n      <td>I681497244</td>\n      <td>0</td>\n      <td>[[Clothing, Shoes &amp; Jewelry, Three, Five &amp; Sev...</td>\n    </tr>\n  </tbody>\n</table>\n<p>300000 rows × 4 columns</p>\n</div>",
         "text/plain": "        reviewerID      itemID  reviewed  \\\n0       U490934656  I402344648         1   \n10034   U478192399  I402344648         1   \n...            ...         ...       ...   \n291783  U535547325  I681497244         0   \n298431  U348700036  I681497244         0   \n\n                                               categories  \n0       [[Clothing, Shoes & Jewelry, Women], [Clothing...  \n10034   [[Clothing, Shoes & Jewelry, Women], [Clothing...  \n...                                                   ...  \n291783  [[Clothing, Shoes & Jewelry, Three, Five & Sev...  \n298431  [[Clothing, Shoes & Jewelry, Three, Five & Sev...  \n\n[300000 rows x 4 columns]"
        },
        "execution_count": 119,
        "metadata": {}
       },
       "metadata": {},
       "msg_type": "execute_result",
       "version": "5.3"
      },
      "timestamp": "2018-11-16T22:10:50.669Z"
     },
     {
      "code": "seen = all_train[['reviewerID', 'itemID']].assign(reviewed=1)\nunseen = (pd.DataFrame(unseen_pairs, columns=['reviewerID', 'itemID'])\n          .assign(reviewed=0))\ntrain_and_valid = (pd.concat([seen, unseen], ignore_index=True)\n                   .merge(item_categories, left_on='itemID', right_index=True)\n                   .reset_index(drop=True))\ntrain_and_valid\n\n# train = train_and_valid[:100000]\n# valid = train_and_valid[100000:]\n# train",
      "response": {
       "content": {
        "data": {
         "text/html": "<div>\n<style scoped>\n    .dataframe tbody tr th:only-of-type {\n        vertical-align: middle;\n    }\n\n    .dataframe tbody tr th {\n        vertical-align: top;\n    }\n\n    .dataframe thead th {\n        text-align: right;\n    }\n</style>\n<table border=\"1\" class=\"dataframe\">\n  <thead>\n    <tr style=\"text-align: right;\">\n      <th></th>\n      <th>reviewerID</th>\n      <th>itemID</th>\n      <th>reviewed</th>\n      <th>categories</th>\n    </tr>\n  </thead>\n  <tbody>\n    <tr>\n      <th>0</th>\n      <td>U490934656</td>\n      <td>I402344648</td>\n      <td>1</td>\n      <td>[[Clothing, Shoes &amp; Jewelry, Women], [Clothing...</td>\n    </tr>\n    <tr>\n      <th>1</th>\n      <td>U478192399</td>\n      <td>I402344648</td>\n      <td>1</td>\n      <td>[[Clothing, Shoes &amp; Jewelry, Women], [Clothing...</td>\n    </tr>\n    <tr>\n      <th>...</th>\n      <td>...</td>\n      <td>...</td>\n      <td>...</td>\n      <td>...</td>\n    </tr>\n    <tr>\n      <th>299998</th>\n      <td>U535547325</td>\n      <td>I681497244</td>\n      <td>0</td>\n      <td>[[Clothing, Shoes &amp; Jewelry, Three, Five &amp; Sev...</td>\n    </tr>\n    <tr>\n      <th>299999</th>\n      <td>U348700036</td>\n      <td>I681497244</td>\n      <td>0</td>\n      <td>[[Clothing, Shoes &amp; Jewelry, Three, Five &amp; Sev...</td>\n    </tr>\n  </tbody>\n</table>\n<p>300000 rows × 4 columns</p>\n</div>",
         "text/plain": "        reviewerID      itemID  reviewed  \\\n0       U490934656  I402344648         1   \n1       U478192399  I402344648         1   \n...            ...         ...       ...   \n299998  U535547325  I681497244         0   \n299999  U348700036  I681497244         0   \n\n                                               categories  \n0       [[Clothing, Shoes & Jewelry, Women], [Clothing...  \n1       [[Clothing, Shoes & Jewelry, Women], [Clothing...  \n...                                                   ...  \n299998  [[Clothing, Shoes & Jewelry, Three, Five & Sev...  \n299999  [[Clothing, Shoes & Jewelry, Three, Five & Sev...  \n\n[300000 rows x 4 columns]"
        },
        "execution_count": 120,
        "metadata": {}
       },
       "metadata": {},
       "msg_type": "execute_result",
       "version": "5.3"
      },
      "timestamp": "2018-11-16T22:11:30.137Z"
     },
     {
      "code": "seen = all_train[['reviewerID', 'itemID']].assign(reviewed=1)\nunseen = (pd.DataFrame(unseen_pairs, columns=['reviewerID', 'itemID'])\n          .assign(reviewed=0))\ntrain_and_valid = pd.concat([seen, unseen], ignore_index=True)\ntrain_and_valid\n\n# train = train_and_valid[:100000]\n# valid = train_and_valid[100000:]\n# train",
      "response": {
       "content": {
        "data": {
         "text/html": "<div>\n<style scoped>\n    .dataframe tbody tr th:only-of-type {\n        vertical-align: middle;\n    }\n\n    .dataframe tbody tr th {\n        vertical-align: top;\n    }\n\n    .dataframe thead th {\n        text-align: right;\n    }\n</style>\n<table border=\"1\" class=\"dataframe\">\n  <thead>\n    <tr style=\"text-align: right;\">\n      <th></th>\n      <th>reviewerID</th>\n      <th>itemID</th>\n      <th>reviewed</th>\n    </tr>\n  </thead>\n  <tbody>\n    <tr>\n      <th>0</th>\n      <td>U490934656</td>\n      <td>I402344648</td>\n      <td>1</td>\n    </tr>\n    <tr>\n      <th>1</th>\n      <td>U714157797</td>\n      <td>I697650540</td>\n      <td>1</td>\n    </tr>\n    <tr>\n      <th>...</th>\n      <td>...</td>\n      <td>...</td>\n      <td>...</td>\n    </tr>\n    <tr>\n      <th>299998</th>\n      <td>U357509274</td>\n      <td>I577669367</td>\n      <td>0</td>\n    </tr>\n    <tr>\n      <th>299999</th>\n      <td>U338076942</td>\n      <td>I613217570</td>\n      <td>0</td>\n    </tr>\n  </tbody>\n</table>\n<p>300000 rows × 3 columns</p>\n</div>",
         "text/plain": "        reviewerID      itemID  reviewed\n0       U490934656  I402344648         1\n1       U714157797  I697650540         1\n...            ...         ...       ...\n299998  U357509274  I577669367         0\n299999  U338076942  I613217570         0\n\n[300000 rows x 3 columns]"
        },
        "execution_count": 121,
        "metadata": {}
       },
       "metadata": {},
       "msg_type": "execute_result",
       "version": "5.3"
      },
      "timestamp": "2018-11-16T22:12:00.956Z"
     },
     {
      "code": "seen = all_train[['reviewerID', 'itemID']].assign(reviewed=1)\nunseen = (pd.DataFrame(unseen_pairs, columns=['reviewerID', 'itemID'])\n          .assign(reviewed=0))\ntrain_and_valid = pd.concat([seen, unseen], ignore_index=True)\ntrain_and_valid\n\ntrain = train_and_valid[:100000]\nvalid = train_and_valid[100000:]\ntrain",
      "response": {
       "content": {
        "data": {
         "text/html": "<div>\n<style scoped>\n    .dataframe tbody tr th:only-of-type {\n        vertical-align: middle;\n    }\n\n    .dataframe tbody tr th {\n        vertical-align: top;\n    }\n\n    .dataframe thead th {\n        text-align: right;\n    }\n</style>\n<table border=\"1\" class=\"dataframe\">\n  <thead>\n    <tr style=\"text-align: right;\">\n      <th></th>\n      <th>reviewerID</th>\n      <th>itemID</th>\n      <th>reviewed</th>\n    </tr>\n  </thead>\n  <tbody>\n    <tr>\n      <th>0</th>\n      <td>U490934656</td>\n      <td>I402344648</td>\n      <td>1</td>\n    </tr>\n    <tr>\n      <th>1</th>\n      <td>U714157797</td>\n      <td>I697650540</td>\n      <td>1</td>\n    </tr>\n    <tr>\n      <th>...</th>\n      <td>...</td>\n      <td>...</td>\n      <td>...</td>\n    </tr>\n    <tr>\n      <th>99998</th>\n      <td>U234915922</td>\n      <td>I615427216</td>\n      <td>1</td>\n    </tr>\n    <tr>\n      <th>99999</th>\n      <td>U519867287</td>\n      <td>I568555036</td>\n      <td>1</td>\n    </tr>\n  </tbody>\n</table>\n<p>100000 rows × 3 columns</p>\n</div>",
         "text/plain": "       reviewerID      itemID  reviewed\n0      U490934656  I402344648         1\n1      U714157797  I697650540         1\n...           ...         ...       ...\n99998  U234915922  I615427216         1\n99999  U519867287  I568555036         1\n\n[100000 rows x 3 columns]"
        },
        "execution_count": 122,
        "metadata": {}
       },
       "metadata": {},
       "msg_type": "execute_result",
       "version": "5.3"
      },
      "timestamp": "2018-11-16T22:12:03.933Z"
     },
     {
      "code": "seen = all_train[['reviewerID', 'itemID']].assign(reviewed=1)\nunseen = (pd.DataFrame(unseen_pairs, columns=['reviewerID', 'itemID'])\n          .assign(reviewed=0))\ntrain_and_valid = pd.concat([seen, unseen], ignore_index=True)\ntrain_and_valid\n\nindices = np.random.choice(len(train_and_valid),\n                           size=len(train_and_valid), replace=False)\ntrain = train_and_valid[indices[:100000]]\nvalid = train_and_valid[indices[100000:]]\ntrain",
      "response": {
       "content": {
        "ename": "KeyError",
        "evalue": "'[271158  35339   4524 ...  45844  14784  87709] not in index'",
        "traceback": [
         "\u001b[0;31m---------------------------------------------------------------------------\u001b[0m",
         "\u001b[0;31mKeyError\u001b[0m                                  Traceback (most recent call last)",
         "\u001b[0;32m<ipython-input-143-582a0d4cbf11>\u001b[0m in \u001b[0;36m<module>\u001b[0;34m\u001b[0m\n\u001b[1;32m      7\u001b[0m indices = np.random.choice(len(train_and_valid),\n\u001b[1;32m      8\u001b[0m                            size=len(train_and_valid), replace=False)\n\u001b[0;32m----> 9\u001b[0;31m \u001b[0mtrain\u001b[0m \u001b[0;34m=\u001b[0m \u001b[0mtrain_and_valid\u001b[0m\u001b[0;34m[\u001b[0m\u001b[0mindices\u001b[0m\u001b[0;34m[\u001b[0m\u001b[0;34m:\u001b[0m\u001b[0;36m100000\u001b[0m\u001b[0;34m]\u001b[0m\u001b[0;34m]\u001b[0m\u001b[0;34m\u001b[0m\u001b[0m\n\u001b[0m\u001b[1;32m     10\u001b[0m \u001b[0mvalid\u001b[0m \u001b[0;34m=\u001b[0m \u001b[0mtrain_and_valid\u001b[0m\u001b[0;34m[\u001b[0m\u001b[0mindices\u001b[0m\u001b[0;34m[\u001b[0m\u001b[0;36m100000\u001b[0m\u001b[0;34m:\u001b[0m\u001b[0;34m]\u001b[0m\u001b[0;34m]\u001b[0m\u001b[0;34m\u001b[0m\u001b[0m\n\u001b[1;32m     11\u001b[0m \u001b[0mtrain\u001b[0m\u001b[0;34m\u001b[0m\u001b[0m\n",
         "\u001b[0;32m~/anaconda3/lib/python3.6/site-packages/pandas/core/frame.py\u001b[0m in \u001b[0;36m__getitem__\u001b[0;34m(self, key)\u001b[0m\n\u001b[1;32m   2680\u001b[0m         \u001b[0;32mif\u001b[0m \u001b[0misinstance\u001b[0m\u001b[0;34m(\u001b[0m\u001b[0mkey\u001b[0m\u001b[0;34m,\u001b[0m \u001b[0;34m(\u001b[0m\u001b[0mSeries\u001b[0m\u001b[0;34m,\u001b[0m \u001b[0mnp\u001b[0m\u001b[0;34m.\u001b[0m\u001b[0mndarray\u001b[0m\u001b[0;34m,\u001b[0m \u001b[0mIndex\u001b[0m\u001b[0;34m,\u001b[0m \u001b[0mlist\u001b[0m\u001b[0;34m)\u001b[0m\u001b[0;34m)\u001b[0m\u001b[0;34m:\u001b[0m\u001b[0;34m\u001b[0m\u001b[0m\n\u001b[1;32m   2681\u001b[0m             \u001b[0;31m# either boolean or fancy integer index\u001b[0m\u001b[0;34m\u001b[0m\u001b[0;34m\u001b[0m\u001b[0m\n\u001b[0;32m-> 2682\u001b[0;31m             \u001b[0;32mreturn\u001b[0m \u001b[0mself\u001b[0m\u001b[0;34m.\u001b[0m\u001b[0m_getitem_array\u001b[0m\u001b[0;34m(\u001b[0m\u001b[0mkey\u001b[0m\u001b[0;34m)\u001b[0m\u001b[0;34m\u001b[0m\u001b[0m\n\u001b[0m\u001b[1;32m   2683\u001b[0m         \u001b[0;32melif\u001b[0m \u001b[0misinstance\u001b[0m\u001b[0;34m(\u001b[0m\u001b[0mkey\u001b[0m\u001b[0;34m,\u001b[0m \u001b[0mDataFrame\u001b[0m\u001b[0;34m)\u001b[0m\u001b[0;34m:\u001b[0m\u001b[0;34m\u001b[0m\u001b[0m\n\u001b[1;32m   2684\u001b[0m             \u001b[0;32mreturn\u001b[0m \u001b[0mself\u001b[0m\u001b[0;34m.\u001b[0m\u001b[0m_getitem_frame\u001b[0m\u001b[0;34m(\u001b[0m\u001b[0mkey\u001b[0m\u001b[0;34m)\u001b[0m\u001b[0;34m\u001b[0m\u001b[0m\n",
         "\u001b[0;32m~/anaconda3/lib/python3.6/site-packages/pandas/core/frame.py\u001b[0m in \u001b[0;36m_getitem_array\u001b[0;34m(self, key)\u001b[0m\n\u001b[1;32m   2724\u001b[0m             \u001b[0;32mreturn\u001b[0m \u001b[0mself\u001b[0m\u001b[0;34m.\u001b[0m\u001b[0m_take\u001b[0m\u001b[0;34m(\u001b[0m\u001b[0mindexer\u001b[0m\u001b[0;34m,\u001b[0m \u001b[0maxis\u001b[0m\u001b[0;34m=\u001b[0m\u001b[0;36m0\u001b[0m\u001b[0;34m)\u001b[0m\u001b[0;34m\u001b[0m\u001b[0m\n\u001b[1;32m   2725\u001b[0m         \u001b[0;32melse\u001b[0m\u001b[0;34m:\u001b[0m\u001b[0;34m\u001b[0m\u001b[0m\n\u001b[0;32m-> 2726\u001b[0;31m             \u001b[0mindexer\u001b[0m \u001b[0;34m=\u001b[0m \u001b[0mself\u001b[0m\u001b[0;34m.\u001b[0m\u001b[0mloc\u001b[0m\u001b[0;34m.\u001b[0m\u001b[0m_convert_to_indexer\u001b[0m\u001b[0;34m(\u001b[0m\u001b[0mkey\u001b[0m\u001b[0;34m,\u001b[0m \u001b[0maxis\u001b[0m\u001b[0;34m=\u001b[0m\u001b[0;36m1\u001b[0m\u001b[0;34m)\u001b[0m\u001b[0;34m\u001b[0m\u001b[0m\n\u001b[0m\u001b[1;32m   2727\u001b[0m             \u001b[0;32mreturn\u001b[0m \u001b[0mself\u001b[0m\u001b[0;34m.\u001b[0m\u001b[0m_take\u001b[0m\u001b[0;34m(\u001b[0m\u001b[0mindexer\u001b[0m\u001b[0;34m,\u001b[0m \u001b[0maxis\u001b[0m\u001b[0;34m=\u001b[0m\u001b[0;36m1\u001b[0m\u001b[0;34m)\u001b[0m\u001b[0;34m\u001b[0m\u001b[0m\n\u001b[1;32m   2728\u001b[0m \u001b[0;34m\u001b[0m\u001b[0m\n",
         "\u001b[0;32m~/anaconda3/lib/python3.6/site-packages/pandas/core/indexing.py\u001b[0m in \u001b[0;36m_convert_to_indexer\u001b[0;34m(self, obj, axis, is_setter)\u001b[0m\n\u001b[1;32m   1325\u001b[0m                 \u001b[0;32mif\u001b[0m \u001b[0mmask\u001b[0m\u001b[0;34m.\u001b[0m\u001b[0many\u001b[0m\u001b[0;34m(\u001b[0m\u001b[0;34m)\u001b[0m\u001b[0;34m:\u001b[0m\u001b[0;34m\u001b[0m\u001b[0m\n\u001b[1;32m   1326\u001b[0m                     raise KeyError('{mask} not in index'\n\u001b[0;32m-> 1327\u001b[0;31m                                    .format(mask=objarr[mask]))\n\u001b[0m\u001b[1;32m   1328\u001b[0m \u001b[0;34m\u001b[0m\u001b[0m\n\u001b[1;32m   1329\u001b[0m                 \u001b[0;32mreturn\u001b[0m \u001b[0mcom\u001b[0m\u001b[0;34m.\u001b[0m\u001b[0m_values_from_object\u001b[0m\u001b[0;34m(\u001b[0m\u001b[0mindexer\u001b[0m\u001b[0;34m)\u001b[0m\u001b[0;34m\u001b[0m\u001b[0m\n",
         "\u001b[0;31mKeyError\u001b[0m: '[271158  35339   4524 ...  45844  14784  87709] not in index'"
        ]
       },
       "metadata": {},
       "msg_type": "error",
       "version": "5.3"
      },
      "timestamp": "2018-11-16T22:42:45.164Z"
     },
     {
      "code": "indices = np.random.choice(len(train_and_valid),\n                           size=len(train_and_valid), replace=False)\nindices[:100000]\n# train = train_and_valid[indices[:100000]]\n# valid = train_and_valid[indices[100000:]]\n# train",
      "response": {
       "content": {
        "data": {
         "text/plain": "array([147468,  53587, 273402, ..., 228932, 277258, 132110])"
        },
        "execution_count": 146,
        "metadata": {}
       },
       "metadata": {},
       "msg_type": "execute_result",
       "version": "5.3"
      },
      "timestamp": "2018-11-16T22:43:37.842Z"
     },
     {
      "code": "indices = np.random.choice(len(train_and_valid),\n                           size=len(train_and_valid), replace=False)\n\ntrain = train_and_valid.iloc[indices[:100000]]\nvalid = train_and_valid.iloc[indices[100000:]]\ntrain",
      "response": {
       "content": {
        "data": {
         "text/html": "<div>\n<style scoped>\n    .dataframe tbody tr th:only-of-type {\n        vertical-align: middle;\n    }\n\n    .dataframe tbody tr th {\n        vertical-align: top;\n    }\n\n    .dataframe thead th {\n        text-align: right;\n    }\n</style>\n<table border=\"1\" class=\"dataframe\">\n  <thead>\n    <tr style=\"text-align: right;\">\n      <th></th>\n      <th>reviewerID</th>\n      <th>itemID</th>\n      <th>reviewed</th>\n    </tr>\n  </thead>\n  <tbody>\n    <tr>\n      <th>223153</th>\n      <td>U497075207</td>\n      <td>I234869818</td>\n      <td>0</td>\n    </tr>\n    <tr>\n      <th>163772</th>\n      <td>U143590640</td>\n      <td>I894597982</td>\n      <td>1</td>\n    </tr>\n    <tr>\n      <th>...</th>\n      <td>...</td>\n      <td>...</td>\n      <td>...</td>\n    </tr>\n    <tr>\n      <th>107739</th>\n      <td>U303843995</td>\n      <td>I096696564</td>\n      <td>1</td>\n    </tr>\n    <tr>\n      <th>13674</th>\n      <td>U669873443</td>\n      <td>I509197910</td>\n      <td>1</td>\n    </tr>\n  </tbody>\n</table>\n<p>100000 rows × 3 columns</p>\n</div>",
         "text/plain": "        reviewerID      itemID  reviewed\n223153  U497075207  I234869818         0\n163772  U143590640  I894597982         1\n...            ...         ...       ...\n107739  U303843995  I096696564         1\n13674   U669873443  I509197910         1\n\n[100000 rows x 3 columns]"
        },
        "execution_count": 147,
        "metadata": {}
       },
       "metadata": {},
       "msg_type": "execute_result",
       "version": "5.3"
      },
      "timestamp": "2018-11-16T22:43:47.482Z"
     },
     {
      "code": "indices = np.random.choice(len(train_and_valid),\n                           size=len(train_and_valid), replace=False)\n\ntrain = train_and_valid.iloc[indices[:150000]]\nvalid = train_and_valid.iloc[indices[150000:]]\ntrain",
      "response": {
       "content": {
        "data": {
         "text/html": "<div>\n<style scoped>\n    .dataframe tbody tr th:only-of-type {\n        vertical-align: middle;\n    }\n\n    .dataframe tbody tr th {\n        vertical-align: top;\n    }\n\n    .dataframe thead th {\n        text-align: right;\n    }\n</style>\n<table border=\"1\" class=\"dataframe\">\n  <thead>\n    <tr style=\"text-align: right;\">\n      <th></th>\n      <th>reviewerID</th>\n      <th>itemID</th>\n      <th>reviewed</th>\n    </tr>\n  </thead>\n  <tbody>\n    <tr>\n      <th>61798</th>\n      <td>U886220168</td>\n      <td>I112248190</td>\n      <td>1</td>\n    </tr>\n    <tr>\n      <th>202359</th>\n      <td>U695527760</td>\n      <td>I208648115</td>\n      <td>0</td>\n    </tr>\n    <tr>\n      <th>...</th>\n      <td>...</td>\n      <td>...</td>\n      <td>...</td>\n    </tr>\n    <tr>\n      <th>20404</th>\n      <td>U273300633</td>\n      <td>I771399974</td>\n      <td>1</td>\n    </tr>\n    <tr>\n      <th>146408</th>\n      <td>U015963186</td>\n      <td>I730344535</td>\n      <td>1</td>\n    </tr>\n  </tbody>\n</table>\n<p>150000 rows × 3 columns</p>\n</div>",
         "text/plain": "        reviewerID      itemID  reviewed\n61798   U886220168  I112248190         1\n202359  U695527760  I208648115         0\n...            ...         ...       ...\n20404   U273300633  I771399974         1\n146408  U015963186  I730344535         1\n\n[150000 rows x 3 columns]"
        },
        "execution_count": 148,
        "metadata": {}
       },
       "metadata": {},
       "msg_type": "execute_result",
       "version": "5.3"
      },
      "timestamp": "2018-11-16T22:44:00.258Z"
     },
     {
      "code": "np.random.seed(42)\n\nindices = np.random.choice(len(train_and_valid),\n                           size=len(train_and_valid), replace=False)\n\ntrain = train_and_valid.iloc[indices[:150000]]\nvalid = train_and_valid.iloc[indices[150000:]]\ntrain",
      "response": {
       "content": {
        "data": {
         "text/html": "<div>\n<style scoped>\n    .dataframe tbody tr th:only-of-type {\n        vertical-align: middle;\n    }\n\n    .dataframe tbody tr th {\n        vertical-align: top;\n    }\n\n    .dataframe thead th {\n        text-align: right;\n    }\n</style>\n<table border=\"1\" class=\"dataframe\">\n  <thead>\n    <tr style=\"text-align: right;\">\n      <th></th>\n      <th>reviewerID</th>\n      <th>itemID</th>\n      <th>reviewed</th>\n    </tr>\n  </thead>\n  <tbody>\n    <tr>\n      <th>4941</th>\n      <td>U834494147</td>\n      <td>I128611472</td>\n      <td>1</td>\n    </tr>\n    <tr>\n      <th>51775</th>\n      <td>U461858851</td>\n      <td>I234579649</td>\n      <td>1</td>\n    </tr>\n    <tr>\n      <th>...</th>\n      <td>...</td>\n      <td>...</td>\n      <td>...</td>\n    </tr>\n    <tr>\n      <th>31286</th>\n      <td>U659379356</td>\n      <td>I164073413</td>\n      <td>1</td>\n    </tr>\n    <tr>\n      <th>205716</th>\n      <td>U650550285</td>\n      <td>I701742363</td>\n      <td>0</td>\n    </tr>\n  </tbody>\n</table>\n<p>150000 rows × 3 columns</p>\n</div>",
         "text/plain": "        reviewerID      itemID  reviewed\n4941    U834494147  I128611472         1\n51775   U461858851  I234579649         1\n...            ...         ...       ...\n31286   U659379356  I164073413         1\n205716  U650550285  I701742363         0\n\n[150000 rows x 3 columns]"
        },
        "execution_count": 149,
        "metadata": {}
       },
       "metadata": {},
       "msg_type": "execute_result",
       "version": "5.3"
      },
      "timestamp": "2018-11-16T22:44:09.182Z"
     },
     {
      "code": "np.random.seed(42)\n\nindices = np.random.choice(len(train_and_valid),\n                           size=len(train_and_valid), replace=False)\n\ntrain = train_and_valid.iloc[indices[:150000]]\nvalid = train_and_valid.iloc[indices[150000:]]\ntrain",
      "response": {
       "content": {
        "data": {
         "text/html": "<div>\n<style scoped>\n    .dataframe tbody tr th:only-of-type {\n        vertical-align: middle;\n    }\n\n    .dataframe tbody tr th {\n        vertical-align: top;\n    }\n\n    .dataframe thead th {\n        text-align: right;\n    }\n</style>\n<table border=\"1\" class=\"dataframe\">\n  <thead>\n    <tr style=\"text-align: right;\">\n      <th></th>\n      <th>reviewerID</th>\n      <th>itemID</th>\n      <th>reviewed</th>\n    </tr>\n  </thead>\n  <tbody>\n    <tr>\n      <th>4941</th>\n      <td>U834494147</td>\n      <td>I128611472</td>\n      <td>1</td>\n    </tr>\n    <tr>\n      <th>51775</th>\n      <td>U461858851</td>\n      <td>I234579649</td>\n      <td>1</td>\n    </tr>\n    <tr>\n      <th>...</th>\n      <td>...</td>\n      <td>...</td>\n      <td>...</td>\n    </tr>\n    <tr>\n      <th>31286</th>\n      <td>U659379356</td>\n      <td>I164073413</td>\n      <td>1</td>\n    </tr>\n    <tr>\n      <th>205716</th>\n      <td>U650550285</td>\n      <td>I701742363</td>\n      <td>0</td>\n    </tr>\n  </tbody>\n</table>\n<p>150000 rows × 3 columns</p>\n</div>",
         "text/plain": "        reviewerID      itemID  reviewed\n4941    U834494147  I128611472         1\n51775   U461858851  I234579649         1\n...            ...         ...       ...\n31286   U659379356  I164073413         1\n205716  U650550285  I701742363         0\n\n[150000 rows x 3 columns]"
        },
        "execution_count": 150,
        "metadata": {}
       },
       "metadata": {},
       "msg_type": "execute_result",
       "version": "5.3"
      },
      "timestamp": "2018-11-16T22:44:09.949Z"
     }
    ]
   },
   "outputs": [
    {
     "data": {
      "text/html": [
       "<div>\n",
       "<style scoped>\n",
       "    .dataframe tbody tr th:only-of-type {\n",
       "        vertical-align: middle;\n",
       "    }\n",
       "\n",
       "    .dataframe tbody tr th {\n",
       "        vertical-align: top;\n",
       "    }\n",
       "\n",
       "    .dataframe thead th {\n",
       "        text-align: right;\n",
       "    }\n",
       "</style>\n",
       "<table border=\"1\" class=\"dataframe\">\n",
       "  <thead>\n",
       "    <tr style=\"text-align: right;\">\n",
       "      <th></th>\n",
       "      <th>reviewerID</th>\n",
       "      <th>itemID</th>\n",
       "      <th>reviewed</th>\n",
       "    </tr>\n",
       "  </thead>\n",
       "  <tbody>\n",
       "    <tr>\n",
       "      <th>4941</th>\n",
       "      <td>U834494147</td>\n",
       "      <td>I128611472</td>\n",
       "      <td>1</td>\n",
       "    </tr>\n",
       "    <tr>\n",
       "      <th>51775</th>\n",
       "      <td>U461858851</td>\n",
       "      <td>I234579649</td>\n",
       "      <td>1</td>\n",
       "    </tr>\n",
       "    <tr>\n",
       "      <th>...</th>\n",
       "      <td>...</td>\n",
       "      <td>...</td>\n",
       "      <td>...</td>\n",
       "    </tr>\n",
       "    <tr>\n",
       "      <th>31286</th>\n",
       "      <td>U659379356</td>\n",
       "      <td>I164073413</td>\n",
       "      <td>1</td>\n",
       "    </tr>\n",
       "    <tr>\n",
       "      <th>205716</th>\n",
       "      <td>U650550285</td>\n",
       "      <td>I701742363</td>\n",
       "      <td>0</td>\n",
       "    </tr>\n",
       "  </tbody>\n",
       "</table>\n",
       "<p>150000 rows × 3 columns</p>\n",
       "</div>"
      ],
      "text/plain": [
       "        reviewerID      itemID  reviewed\n",
       "4941    U834494147  I128611472         1\n",
       "51775   U461858851  I234579649         1\n",
       "...            ...         ...       ...\n",
       "31286   U659379356  I164073413         1\n",
       "205716  U650550285  I701742363         0\n",
       "\n",
       "[150000 rows x 3 columns]"
      ]
     },
     "execution_count": 150,
     "metadata": {},
     "output_type": "execute_result"
    }
   ],
   "source": [
    "np.random.seed(42)\n",
    "\n",
    "indices = np.random.choice(len(train_and_valid),\n",
    "                           size=len(train_and_valid), replace=False)\n",
    "\n",
    "train = train_and_valid.iloc[indices[:150000]]\n",
    "valid = train_and_valid.iloc[indices[150000:]]\n",
    "train"
   ]
  },
  {
   "cell_type": "code",
   "execution_count": 128,
   "metadata": {
    "history": [
     {
      "code": "from sklearn.preprocessing import OneHotEncoder\n\nenc = OneHotEncoder(handle_unknown='ignore')\nenc",
      "response": {
       "content": {
        "data": {
         "text/plain": "OneHotEncoder(categorical_features=None, categories=None,\n       dtype=<class 'numpy.float64'>, handle_unknown='ignore',\n       n_values=None, sparse=True)"
        },
        "execution_count": 27,
        "metadata": {}
       },
       "metadata": {},
       "msg_type": "execute_result",
       "version": "5.3"
      },
      "timestamp": "2018-11-16T05:14:50.822Z"
     },
     {
      "code": "from sklearn.preprocessing import OneHotEncoder\n\nenc = OneHotEncoder(handle_unknown='ignore')\nenc.fit_transform(train[['reviewerID', 'itemID']])",
      "response": {
       "content": {
        "data": {
         "text/plain": "<300000x59153 sparse matrix of type '<class 'numpy.float64'>'\n\twith 600000 stored elements in Compressed Sparse Row format>"
        },
        "execution_count": 28,
        "metadata": {}
       },
       "metadata": {},
       "msg_type": "execute_result",
       "version": "5.3"
      },
      "timestamp": "2018-11-16T05:15:02.095Z"
     },
     {
      "code": "from sklearn.preprocessing import OneHotEncoder\n\nenc = OneHotEncoder(handle_unknown='ignore')\nenc.fit_transform(train[['reviewerID', 'itemID']])",
      "response": {
       "content": {
        "data": {
         "text/plain": "<200000x58981 sparse matrix of type '<class 'numpy.float64'>'\n\twith 400000 stored elements in Compressed Sparse Row format>"
        },
        "execution_count": 35,
        "metadata": {}
       },
       "metadata": {},
       "msg_type": "execute_result",
       "version": "5.3"
      },
      "timestamp": "2018-11-16T05:26:53.181Z"
     },
     {
      "code": "from sklearn.preprocessing import OneHotEncoder\n\nenc = OneHotEncoder(handle_unknown='ignore')\ntrain_encoded = enc.fit_transform(train[['reviewerID', 'itemID']])\ntrain_endoded",
      "response": {
       "content": {
        "ename": "NameError",
        "evalue": "name 'train_endoded' is not defined",
        "traceback": [
         "\u001b[0;31m---------------------------------------------------------------------------\u001b[0m",
         "\u001b[0;31mNameError\u001b[0m                                 Traceback (most recent call last)",
         "\u001b[0;32m<ipython-input-36-264e21a149a0>\u001b[0m in \u001b[0;36m<module>\u001b[0;34m\u001b[0m\n\u001b[1;32m      3\u001b[0m \u001b[0menc\u001b[0m \u001b[0;34m=\u001b[0m \u001b[0mOneHotEncoder\u001b[0m\u001b[0;34m(\u001b[0m\u001b[0mhandle_unknown\u001b[0m\u001b[0;34m=\u001b[0m\u001b[0;34m'ignore'\u001b[0m\u001b[0;34m)\u001b[0m\u001b[0;34m\u001b[0m\u001b[0m\n\u001b[1;32m      4\u001b[0m \u001b[0mtrain_encoded\u001b[0m \u001b[0;34m=\u001b[0m \u001b[0menc\u001b[0m\u001b[0;34m.\u001b[0m\u001b[0mfit_transform\u001b[0m\u001b[0;34m(\u001b[0m\u001b[0mtrain\u001b[0m\u001b[0;34m[\u001b[0m\u001b[0;34m[\u001b[0m\u001b[0;34m'reviewerID'\u001b[0m\u001b[0;34m,\u001b[0m \u001b[0;34m'itemID'\u001b[0m\u001b[0;34m]\u001b[0m\u001b[0;34m]\u001b[0m\u001b[0;34m)\u001b[0m\u001b[0;34m\u001b[0m\u001b[0m\n\u001b[0;32m----> 5\u001b[0;31m \u001b[0mtrain_endoded\u001b[0m\u001b[0;34m\u001b[0m\u001b[0m\n\u001b[0m",
         "\u001b[0;31mNameError\u001b[0m: name 'train_endoded' is not defined"
        ]
       },
       "metadata": {},
       "msg_type": "error",
       "version": "5.3"
      },
      "timestamp": "2018-11-16T05:27:11.225Z"
     },
     {
      "code": "from sklearn.preprocessing import OneHotEncoder\n\nenc = OneHotEncoder(handle_unknown='ignore')\ntrain_encoded = enc.fit_transform(train[['reviewerID', 'itemID']])\ntrain_encoded",
      "response": {
       "content": {
        "data": {
         "text/plain": "<200000x58981 sparse matrix of type '<class 'numpy.float64'>'\n\twith 400000 stored elements in Compressed Sparse Row format>"
        },
        "execution_count": 37,
        "metadata": {}
       },
       "metadata": {},
       "msg_type": "execute_result",
       "version": "5.3"
      },
      "timestamp": "2018-11-16T05:27:13.064Z"
     },
     {
      "code": "from sklearn.preprocessing import OneHotEncoder\n\nenc = OneHotEncoder(handle_unknown='ignore')\ntrain_encoded = enc.fit_transform(train[['reviewerID', 'itemID']])\ntrain_encoded",
      "response": {
       "content": {
        "data": {
         "text/plain": "<200000x58948 sparse matrix of type '<class 'numpy.float64'>'\n\twith 400000 stored elements in Compressed Sparse Row format>"
        },
        "execution_count": 9,
        "metadata": {}
       },
       "metadata": {},
       "msg_type": "execute_result",
       "version": "5.3"
      },
      "timestamp": "2018-11-16T05:42:05.327Z"
     },
     {
      "code": "from sklearn.preprocessing import OrdinalEncoder\n\nreviewer_enc = OrdinalEncoder()\nitem_enc = OrdinalEncoder()\n\ntrain_reviewers = reviewer_enc.fit_transform(train['reviewerID'])\nitem_reviewers = reviewer_enc.fit_transform(train['itemID'])\n\ntrain_reviewers",
      "response": {
       "content": {
        "ename": "ValueError",
        "evalue": "Expected 2D array, got 1D array instead:\narray=['U834494147' 'U461858851' 'U226999933' ... 'U025548018' 'U018187262'\n 'U318489975'].\nReshape your data either using array.reshape(-1, 1) if your data has a single feature or array.reshape(1, -1) if it contains a single sample.",
        "traceback": [
         "\u001b[0;31m---------------------------------------------------------------------------\u001b[0m",
         "\u001b[0;31mValueError\u001b[0m                                Traceback (most recent call last)",
         "\u001b[0;32m<ipython-input-15-8fc7b653917b>\u001b[0m in \u001b[0;36m<module>\u001b[0;34m\u001b[0m\n\u001b[1;32m      4\u001b[0m \u001b[0mitem_enc\u001b[0m \u001b[0;34m=\u001b[0m \u001b[0mOrdinalEncoder\u001b[0m\u001b[0;34m(\u001b[0m\u001b[0;34m)\u001b[0m\u001b[0;34m\u001b[0m\u001b[0m\n\u001b[1;32m      5\u001b[0m \u001b[0;34m\u001b[0m\u001b[0m\n\u001b[0;32m----> 6\u001b[0;31m \u001b[0mtrain_reviewers\u001b[0m \u001b[0;34m=\u001b[0m \u001b[0mreviewer_enc\u001b[0m\u001b[0;34m.\u001b[0m\u001b[0mfit_transform\u001b[0m\u001b[0;34m(\u001b[0m\u001b[0mtrain\u001b[0m\u001b[0;34m[\u001b[0m\u001b[0;34m'reviewerID'\u001b[0m\u001b[0;34m]\u001b[0m\u001b[0;34m)\u001b[0m\u001b[0;34m\u001b[0m\u001b[0m\n\u001b[0m\u001b[1;32m      7\u001b[0m \u001b[0mitem_reviewers\u001b[0m \u001b[0;34m=\u001b[0m \u001b[0mreviewer_enc\u001b[0m\u001b[0;34m.\u001b[0m\u001b[0mfit_transform\u001b[0m\u001b[0;34m(\u001b[0m\u001b[0mtrain\u001b[0m\u001b[0;34m[\u001b[0m\u001b[0;34m'itemID'\u001b[0m\u001b[0;34m]\u001b[0m\u001b[0;34m)\u001b[0m\u001b[0;34m\u001b[0m\u001b[0m\n\u001b[1;32m      8\u001b[0m \u001b[0;34m\u001b[0m\u001b[0m\n",
         "\u001b[0;32m~/anaconda3/lib/python3.6/site-packages/sklearn/base.py\u001b[0m in \u001b[0;36mfit_transform\u001b[0;34m(self, X, y, **fit_params)\u001b[0m\n\u001b[1;32m    460\u001b[0m         \u001b[0;32mif\u001b[0m \u001b[0my\u001b[0m \u001b[0;32mis\u001b[0m \u001b[0;32mNone\u001b[0m\u001b[0;34m:\u001b[0m\u001b[0;34m\u001b[0m\u001b[0m\n\u001b[1;32m    461\u001b[0m             \u001b[0;31m# fit method of arity 1 (unsupervised transformation)\u001b[0m\u001b[0;34m\u001b[0m\u001b[0;34m\u001b[0m\u001b[0m\n\u001b[0;32m--> 462\u001b[0;31m             \u001b[0;32mreturn\u001b[0m \u001b[0mself\u001b[0m\u001b[0;34m.\u001b[0m\u001b[0mfit\u001b[0m\u001b[0;34m(\u001b[0m\u001b[0mX\u001b[0m\u001b[0;34m,\u001b[0m \u001b[0;34m**\u001b[0m\u001b[0mfit_params\u001b[0m\u001b[0;34m)\u001b[0m\u001b[0;34m.\u001b[0m\u001b[0mtransform\u001b[0m\u001b[0;34m(\u001b[0m\u001b[0mX\u001b[0m\u001b[0;34m)\u001b[0m\u001b[0;34m\u001b[0m\u001b[0m\n\u001b[0m\u001b[1;32m    463\u001b[0m         \u001b[0;32melse\u001b[0m\u001b[0;34m:\u001b[0m\u001b[0;34m\u001b[0m\u001b[0m\n\u001b[1;32m    464\u001b[0m             \u001b[0;31m# fit method of arity 2 (supervised transformation)\u001b[0m\u001b[0;34m\u001b[0m\u001b[0;34m\u001b[0m\u001b[0m\n",
         "\u001b[0;32m~/anaconda3/lib/python3.6/site-packages/sklearn/preprocessing/_encoders.py\u001b[0m in \u001b[0;36mfit\u001b[0;34m(self, X, y)\u001b[0m\n\u001b[1;32m    772\u001b[0m         \u001b[0;31m# OneHoteEncoder: can be removed once deprecations are removed\u001b[0m\u001b[0;34m\u001b[0m\u001b[0;34m\u001b[0m\u001b[0m\n\u001b[1;32m    773\u001b[0m         \u001b[0mself\u001b[0m\u001b[0;34m.\u001b[0m\u001b[0m_categories\u001b[0m \u001b[0;34m=\u001b[0m \u001b[0mself\u001b[0m\u001b[0;34m.\u001b[0m\u001b[0mcategories\u001b[0m\u001b[0;34m\u001b[0m\u001b[0m\n\u001b[0;32m--> 774\u001b[0;31m         \u001b[0mself\u001b[0m\u001b[0;34m.\u001b[0m\u001b[0m_fit\u001b[0m\u001b[0;34m(\u001b[0m\u001b[0mX\u001b[0m\u001b[0;34m)\u001b[0m\u001b[0;34m\u001b[0m\u001b[0m\n\u001b[0m\u001b[1;32m    775\u001b[0m \u001b[0;34m\u001b[0m\u001b[0m\n\u001b[1;32m    776\u001b[0m         \u001b[0;32mreturn\u001b[0m \u001b[0mself\u001b[0m\u001b[0;34m\u001b[0m\u001b[0m\n",
         "\u001b[0;32m~/anaconda3/lib/python3.6/site-packages/sklearn/preprocessing/_encoders.py\u001b[0m in \u001b[0;36m_fit\u001b[0;34m(self, X, handle_unknown)\u001b[0m\n\u001b[1;32m     61\u001b[0m \u001b[0;34m\u001b[0m\u001b[0m\n\u001b[1;32m     62\u001b[0m     \u001b[0;32mdef\u001b[0m \u001b[0m_fit\u001b[0m\u001b[0;34m(\u001b[0m\u001b[0mself\u001b[0m\u001b[0;34m,\u001b[0m \u001b[0mX\u001b[0m\u001b[0;34m,\u001b[0m \u001b[0mhandle_unknown\u001b[0m\u001b[0;34m=\u001b[0m\u001b[0;34m'error'\u001b[0m\u001b[0;34m)\u001b[0m\u001b[0;34m:\u001b[0m\u001b[0;34m\u001b[0m\u001b[0m\n\u001b[0;32m---> 63\u001b[0;31m         \u001b[0mX\u001b[0m \u001b[0;34m=\u001b[0m \u001b[0mself\u001b[0m\u001b[0;34m.\u001b[0m\u001b[0m_check_X\u001b[0m\u001b[0;34m(\u001b[0m\u001b[0mX\u001b[0m\u001b[0;34m)\u001b[0m\u001b[0;34m\u001b[0m\u001b[0m\n\u001b[0m\u001b[1;32m     64\u001b[0m \u001b[0;34m\u001b[0m\u001b[0m\n\u001b[1;32m     65\u001b[0m         \u001b[0mn_samples\u001b[0m\u001b[0;34m,\u001b[0m \u001b[0mn_features\u001b[0m \u001b[0;34m=\u001b[0m \u001b[0mX\u001b[0m\u001b[0;34m.\u001b[0m\u001b[0mshape\u001b[0m\u001b[0;34m\u001b[0m\u001b[0m\n",
         "\u001b[0;32m~/anaconda3/lib/python3.6/site-packages/sklearn/preprocessing/_encoders.py\u001b[0m in \u001b[0;36m_check_X\u001b[0;34m(self, X)\u001b[0m\n\u001b[1;32m     47\u001b[0m \u001b[0;34m\u001b[0m\u001b[0m\n\u001b[1;32m     48\u001b[0m         \"\"\"\n\u001b[0;32m---> 49\u001b[0;31m         \u001b[0mX_temp\u001b[0m \u001b[0;34m=\u001b[0m \u001b[0mcheck_array\u001b[0m\u001b[0;34m(\u001b[0m\u001b[0mX\u001b[0m\u001b[0;34m,\u001b[0m \u001b[0mdtype\u001b[0m\u001b[0;34m=\u001b[0m\u001b[0;32mNone\u001b[0m\u001b[0;34m)\u001b[0m\u001b[0;34m\u001b[0m\u001b[0m\n\u001b[0m\u001b[1;32m     50\u001b[0m         \u001b[0;32mif\u001b[0m \u001b[0;32mnot\u001b[0m \u001b[0mhasattr\u001b[0m\u001b[0;34m(\u001b[0m\u001b[0mX\u001b[0m\u001b[0;34m,\u001b[0m \u001b[0;34m'dtype'\u001b[0m\u001b[0;34m)\u001b[0m \u001b[0;32mand\u001b[0m \u001b[0mnp\u001b[0m\u001b[0;34m.\u001b[0m\u001b[0missubdtype\u001b[0m\u001b[0;34m(\u001b[0m\u001b[0mX_temp\u001b[0m\u001b[0;34m.\u001b[0m\u001b[0mdtype\u001b[0m\u001b[0;34m,\u001b[0m \u001b[0mnp\u001b[0m\u001b[0;34m.\u001b[0m\u001b[0mstr_\u001b[0m\u001b[0;34m)\u001b[0m\u001b[0;34m:\u001b[0m\u001b[0;34m\u001b[0m\u001b[0m\n\u001b[1;32m     51\u001b[0m             \u001b[0mX\u001b[0m \u001b[0;34m=\u001b[0m \u001b[0mcheck_array\u001b[0m\u001b[0;34m(\u001b[0m\u001b[0mX\u001b[0m\u001b[0;34m,\u001b[0m \u001b[0mdtype\u001b[0m\u001b[0;34m=\u001b[0m\u001b[0mnp\u001b[0m\u001b[0;34m.\u001b[0m\u001b[0mobject\u001b[0m\u001b[0;34m)\u001b[0m\u001b[0;34m\u001b[0m\u001b[0m\n",
         "\u001b[0;32m~/anaconda3/lib/python3.6/site-packages/sklearn/utils/validation.py\u001b[0m in \u001b[0;36mcheck_array\u001b[0;34m(array, accept_sparse, accept_large_sparse, dtype, order, copy, force_all_finite, ensure_2d, allow_nd, ensure_min_samples, ensure_min_features, warn_on_dtype, estimator)\u001b[0m\n\u001b[1;32m    545\u001b[0m                     \u001b[0;34m\"Reshape your data either using array.reshape(-1, 1) if \"\u001b[0m\u001b[0;34m\u001b[0m\u001b[0m\n\u001b[1;32m    546\u001b[0m                     \u001b[0;34m\"your data has a single feature or array.reshape(1, -1) \"\u001b[0m\u001b[0;34m\u001b[0m\u001b[0m\n\u001b[0;32m--> 547\u001b[0;31m                     \"if it contains a single sample.\".format(array))\n\u001b[0m\u001b[1;32m    548\u001b[0m \u001b[0;34m\u001b[0m\u001b[0m\n\u001b[1;32m    549\u001b[0m         \u001b[0;31m# in the future np.flexible dtypes will be handled like object dtypes\u001b[0m\u001b[0;34m\u001b[0m\u001b[0;34m\u001b[0m\u001b[0m\n",
         "\u001b[0;31mValueError\u001b[0m: Expected 2D array, got 1D array instead:\narray=['U834494147' 'U461858851' 'U226999933' ... 'U025548018' 'U018187262'\n 'U318489975'].\nReshape your data either using array.reshape(-1, 1) if your data has a single feature or array.reshape(1, -1) if it contains a single sample."
        ]
       },
       "metadata": {},
       "msg_type": "error",
       "version": "5.3"
      },
      "timestamp": "2018-11-16T05:51:15.848Z"
     },
     {
      "code": "from sklearn.preprocessing import OrdinalEncoder\n\nenc = OrdinalEncoder()\ntrain_encoded = enc.fit_transform(train[['reviewerID', 'itemID']])\n\ntrain_encoded",
      "response": {
       "content": {
        "data": {
         "text/plain": "array([[32674.,  2509.],\n       [18111.,  4584.],\n       [ 8917., 17476.],\n       ...,\n       [ 1026.,  6408.],\n       [  726.,   864.],\n       [12484.,  8731.]])"
        },
        "execution_count": 16,
        "metadata": {}
       },
       "metadata": {},
       "msg_type": "execute_result",
       "version": "5.3"
      },
      "timestamp": "2018-11-16T05:52:08.599Z"
     },
     {
      "code": "from sklearn.preprocessing import OrdinalEncoder\n\nenc = OrdinalEncoder()\ncoords = enc.fit_transform(train[['reviewerID', 'itemID']])\ncoords",
      "response": {
       "content": {
        "data": {
         "text/plain": "array([[32674.,  2509.],\n       [18111.,  4584.],\n       [ 8917., 17476.],\n       ...,\n       [ 1026.,  6408.],\n       [  726.,   864.],\n       [12484.,  8731.]])"
        },
        "execution_count": 18,
        "metadata": {}
       },
       "metadata": {},
       "msg_type": "execute_result",
       "version": "5.3"
      },
      "timestamp": "2018-11-16T05:53:19.118Z"
     },
     {
      "code": "from sklearn.preprocessing import OrdinalEncoder\n\nenc = OrdinalEncoder()\ncoords = (enc.fit_transform(train[['reviewerID', 'itemID']])\n          .astype(np.int64))\ncoords",
      "response": {
       "content": {
        "data": {
         "text/plain": "array([[32674,  2509],\n       [18111,  4584],\n       [ 8917, 17476],\n       ...,\n       [ 1026,  6408],\n       [  726,   864],\n       [12484,  8731]])"
        },
        "execution_count": 20,
        "metadata": {}
       },
       "metadata": {},
       "msg_type": "execute_result",
       "version": "5.3"
      },
      "timestamp": "2018-11-16T05:54:34.313Z"
     },
     {
      "code": "from sklearn.preprocessing import OrdinalEncoder\n\nenc = OrdinalEncoder()\ncoords = (enc.fit_transform(train[['reviewerID', 'itemID']])\n          .astype(np.int64))\ncoords",
      "response": {
       "content": {
        "data": {
         "text/plain": "array([[32674,  2509],\n       [18111,  4584],\n       [ 8917, 17476],\n       ...,\n       [ 1026,  6408],\n       [  726,   864],\n       [12484,  8731]])"
        },
        "execution_count": 9,
        "metadata": {}
       },
       "metadata": {},
       "msg_type": "execute_result",
       "version": "5.3"
      },
      "timestamp": "2018-11-16T06:17:01.069Z"
     },
     {
      "code": "(train\n .groupby('reviewerID')\n ['itemID']\n .agg(set)\n)",
      "response": {
       "content": {
        "data": {
         "text/plain": "reviewerID\nU000005569    {I242782970, I460877914, I724050449, I59227376...\nU000024709    {I575904534, I858406960, I758394206, I07779125...\n                                    ...                        \nU999921889                 {I673200856, I778564555, I959944002}\nU999927096                 {I844064375, I434116709, I471144948}\nName: itemID, Length: 39037, dtype: object"
        },
        "execution_count": 35,
        "metadata": {}
       },
       "metadata": {},
       "msg_type": "execute_result",
       "version": "5.3"
      },
      "timestamp": "2018-11-16T06:27:55.892Z"
     },
     {
      "code": "reviews = (train\n .groupby('reviewerID')\n ['itemID']\n .agg(set)\n)\nreviews",
      "response": {
       "content": {
        "data": {
         "text/plain": "reviewerID\nU000005569                 {I892925682, I012888581, I478276997}\nU000024709    {I526472819, I858406960, I758394206, I28940198...\n                                    ...                        \nU999921889                             {I673200856, I981807126}\nU999927096                                         {I420969962}\nName: itemID, Length: 36427, dtype: object"
        },
        "execution_count": 39,
        "metadata": {}
       },
       "metadata": {},
       "msg_type": "execute_result",
       "version": "5.3"
      },
      "timestamp": "2018-11-16T06:28:57.306Z"
     },
     {
      "code": "from surprise import SVD, Dataset\nfrom surprise.model_selection import cross_validate\n\nDataset.load_from_df(train)",
      "response": {
       "content": {
        "ename": "TypeError",
        "evalue": "load_from_df() missing 1 required positional argument: 'reader'",
        "traceback": [
         "\u001b[0;31m---------------------------------------------------------------------------\u001b[0m",
         "\u001b[0;31mTypeError\u001b[0m                                 Traceback (most recent call last)",
         "\u001b[0;32m<ipython-input-82-113d99ee032d>\u001b[0m in \u001b[0;36m<module>\u001b[0;34m\u001b[0m\n\u001b[1;32m      2\u001b[0m \u001b[0;32mfrom\u001b[0m \u001b[0msurprise\u001b[0m\u001b[0;34m.\u001b[0m\u001b[0mmodel_selection\u001b[0m \u001b[0;32mimport\u001b[0m \u001b[0mcross_validate\u001b[0m\u001b[0;34m\u001b[0m\u001b[0m\n\u001b[1;32m      3\u001b[0m \u001b[0;34m\u001b[0m\u001b[0m\n\u001b[0;32m----> 4\u001b[0;31m \u001b[0mDataset\u001b[0m\u001b[0;34m.\u001b[0m\u001b[0mload_from_df\u001b[0m\u001b[0;34m(\u001b[0m\u001b[0mtrain\u001b[0m\u001b[0;34m)\u001b[0m\u001b[0;34m\u001b[0m\u001b[0m\n\u001b[0m",
         "\u001b[0;31mTypeError\u001b[0m: load_from_df() missing 1 required positional argument: 'reader'"
        ]
       },
       "metadata": {},
       "msg_type": "error",
       "version": "5.3"
      },
      "timestamp": "2018-11-16T07:27:01.420Z"
     },
     {
      "code": "from surprise import SVD, Dataset\nfrom surprise.model_selection import cross_validate\n\nDataset.load_from_df(train, Reader(rating_scale=(0, 1)))",
      "response": {
       "content": {
        "ename": "NameError",
        "evalue": "name 'Reader' is not defined",
        "traceback": [
         "\u001b[0;31m---------------------------------------------------------------------------\u001b[0m",
         "\u001b[0;31mNameError\u001b[0m                                 Traceback (most recent call last)",
         "\u001b[0;32m<ipython-input-83-216efc7ccd0e>\u001b[0m in \u001b[0;36m<module>\u001b[0;34m\u001b[0m\n\u001b[1;32m      2\u001b[0m \u001b[0;32mfrom\u001b[0m \u001b[0msurprise\u001b[0m\u001b[0;34m.\u001b[0m\u001b[0mmodel_selection\u001b[0m \u001b[0;32mimport\u001b[0m \u001b[0mcross_validate\u001b[0m\u001b[0;34m\u001b[0m\u001b[0m\n\u001b[1;32m      3\u001b[0m \u001b[0;34m\u001b[0m\u001b[0m\n\u001b[0;32m----> 4\u001b[0;31m \u001b[0mDataset\u001b[0m\u001b[0;34m.\u001b[0m\u001b[0mload_from_df\u001b[0m\u001b[0;34m(\u001b[0m\u001b[0mtrain\u001b[0m\u001b[0;34m,\u001b[0m \u001b[0mReader\u001b[0m\u001b[0;34m(\u001b[0m\u001b[0mrating_scale\u001b[0m\u001b[0;34m=\u001b[0m\u001b[0;34m(\u001b[0m\u001b[0;36m0\u001b[0m\u001b[0;34m,\u001b[0m \u001b[0;36m1\u001b[0m\u001b[0;34m)\u001b[0m\u001b[0;34m)\u001b[0m\u001b[0;34m)\u001b[0m\u001b[0;34m\u001b[0m\u001b[0m\n\u001b[0m",
         "\u001b[0;31mNameError\u001b[0m: name 'Reader' is not defined"
        ]
       },
       "metadata": {},
       "msg_type": "error",
       "version": "5.3"
      },
      "timestamp": "2018-11-16T07:27:47.118Z"
     },
     {
      "code": "from surprise import SVD, Dataset, Reader\nfrom surprise.model_selection import cross_validate\n\nDataset.load_from_df(train, Reader(rating_scale=(0, 1)))",
      "response": {
       "content": {
        "data": {
         "text/plain": "<surprise.dataset.DatasetAutoFolds at 0x1a44e695f8>"
        },
        "execution_count": 84,
        "metadata": {}
       },
       "metadata": {},
       "msg_type": "execute_result",
       "version": "5.3"
      },
      "timestamp": "2018-11-16T07:27:55.490Z"
     },
     {
      "code": "from surprise import SVD, Dataset, Reader\nfrom surprise.model_selection import cross_validate\n \nX_train = Dataset.load_from_df(train, Reader(rating_scale=(0, 1)))\n\nalgo = SVD()\n\nalgo.fit(X_train)",
      "response": {
       "content": {
        "ename": "AttributeError",
        "evalue": "'DatasetAutoFolds' object has no attribute 'global_mean'",
        "traceback": [
         "\u001b[0;31m---------------------------------------------------------------------------\u001b[0m",
         "\u001b[0;31mAttributeError\u001b[0m                            Traceback (most recent call last)",
         "\u001b[0;32m<ipython-input-85-0d1c2e70e828>\u001b[0m in \u001b[0;36m<module>\u001b[0;34m\u001b[0m\n\u001b[1;32m      6\u001b[0m \u001b[0malgo\u001b[0m \u001b[0;34m=\u001b[0m \u001b[0mSVD\u001b[0m\u001b[0;34m(\u001b[0m\u001b[0;34m)\u001b[0m\u001b[0;34m\u001b[0m\u001b[0m\n\u001b[1;32m      7\u001b[0m \u001b[0;34m\u001b[0m\u001b[0m\n\u001b[0;32m----> 8\u001b[0;31m \u001b[0malgo\u001b[0m\u001b[0;34m.\u001b[0m\u001b[0mfit\u001b[0m\u001b[0;34m(\u001b[0m\u001b[0mX_train\u001b[0m\u001b[0;34m)\u001b[0m\u001b[0;34m\u001b[0m\u001b[0m\n\u001b[0m",
         "\u001b[0;32m~/anaconda3/lib/python3.6/site-packages/surprise/prediction_algorithms/matrix_factorization.pyx\u001b[0m in \u001b[0;36msurprise.prediction_algorithms.matrix_factorization.SVD.fit\u001b[0;34m()\u001b[0m\n",
         "\u001b[0;32m~/anaconda3/lib/python3.6/site-packages/surprise/prediction_algorithms/matrix_factorization.pyx\u001b[0m in \u001b[0;36msurprise.prediction_algorithms.matrix_factorization.SVD.sgd\u001b[0;34m()\u001b[0m\n",
         "\u001b[0;31mAttributeError\u001b[0m: 'DatasetAutoFolds' object has no attribute 'global_mean'"
        ]
       },
       "metadata": {},
       "msg_type": "error",
       "version": "5.3"
      },
      "timestamp": "2018-11-16T07:29:54.872Z"
     },
     {
      "code": "from surprise import SVD, Dataset, Reader\nfrom surprise.model_selection import cross_validate\n \nX_train = Dataset.load_from_df(train_and_valid, Reader(rating_scale=(0, 1)))\n\nalgo = SVD()\n\ncross_validate(algo, X_train, measures=['RMSE'], cv=2, verbose=True)",
      "response": {
       "content": {
        "name": "stdout",
        "text": "Evaluating RMSE of algorithm SVD on 2 split(s).\n\n                  Fold 1  Fold 2  Mean    Std     \nRMSE (testset)    0.4717  0.4718  0.4718  0.0000  \nFit time          12.95   12.51   12.73   0.22    \nTest time         2.14    1.56    1.85    0.29    \n"
       },
       "metadata": {},
       "msg_type": "stream",
       "version": "5.3"
      },
      "timestamp": "2018-11-16T07:32:48.788Z"
     },
     {
      "code": "from surprise import SVD, Dataset, Reader\nfrom surprise.model_selection import cross_validate\n \nX_train = Dataset.load_from_df(train_and_valid, Reader(rating_scale=(0, 1)))\n\nalgo = SVD()\n\ncross_validate(algo, X_train, measures=['RMSE'], cv=2, verbose=True)",
      "response": {
       "content": {
        "data": {
         "text/plain": "{'test_rmse': array([0.47173481, 0.47182158]),\n 'fit_time': (12.946923971176147, 12.510876893997192),\n 'test_time': (2.1389260292053223, 1.5646610260009766)}"
        },
        "execution_count": 86,
        "metadata": {}
       },
       "metadata": {},
       "msg_type": "execute_result",
       "version": "5.3"
      },
      "timestamp": "2018-11-16T07:32:48.798Z"
     },
     {
      "code": "from surprise import SVD, Dataset, Reader\nfrom surprise.model_selection import cross_validate\nfrom surprise.model_selection.search import GridSearchCV\n \nX_train = Dataset.load_from_df(train_and_valid, Reader(rating_scale=(0, 1)))\n\nalgo = GridSearchCV(SVD, {n_factors: [10, 50, 100]},\n                    measures=['RMSE'], cv=5, refit=True, n_jobs=-1)\nalgo",
      "response": {
       "content": {
        "ename": "NameError",
        "evalue": "name 'n_factors' is not defined",
        "traceback": [
         "\u001b[0;31m---------------------------------------------------------------------------\u001b[0m",
         "\u001b[0;31mNameError\u001b[0m                                 Traceback (most recent call last)",
         "\u001b[0;32m<ipython-input-97-f06f28e5acc4>\u001b[0m in \u001b[0;36m<module>\u001b[0;34m\u001b[0m\n\u001b[1;32m      5\u001b[0m \u001b[0mX_train\u001b[0m \u001b[0;34m=\u001b[0m \u001b[0mDataset\u001b[0m\u001b[0;34m.\u001b[0m\u001b[0mload_from_df\u001b[0m\u001b[0;34m(\u001b[0m\u001b[0mtrain_and_valid\u001b[0m\u001b[0;34m,\u001b[0m \u001b[0mReader\u001b[0m\u001b[0;34m(\u001b[0m\u001b[0mrating_scale\u001b[0m\u001b[0;34m=\u001b[0m\u001b[0;34m(\u001b[0m\u001b[0;36m0\u001b[0m\u001b[0;34m,\u001b[0m \u001b[0;36m1\u001b[0m\u001b[0;34m)\u001b[0m\u001b[0;34m)\u001b[0m\u001b[0;34m)\u001b[0m\u001b[0;34m\u001b[0m\u001b[0m\n\u001b[1;32m      6\u001b[0m \u001b[0;34m\u001b[0m\u001b[0m\n\u001b[0;32m----> 7\u001b[0;31m algo = GridSearchCV(SVD, {n_factors: [10, 50, 100]},\n\u001b[0m\u001b[1;32m      8\u001b[0m                     measures=['RMSE'], cv=5, refit=True, n_jobs=-1)\n\u001b[1;32m      9\u001b[0m \u001b[0malgo\u001b[0m\u001b[0;34m\u001b[0m\u001b[0m\n",
         "\u001b[0;31mNameError\u001b[0m: name 'n_factors' is not defined"
        ]
       },
       "metadata": {},
       "msg_type": "error",
       "version": "5.3"
      },
      "timestamp": "2018-11-16T07:42:25.523Z"
     },
     {
      "code": "from surprise import SVD, Dataset, Reader\nfrom surprise.model_selection import cross_validate\nfrom surprise.model_selection.search import GridSearchCV\n \nX_train = Dataset.load_from_df(train_and_valid, Reader(rating_scale=(0, 1)))\n\nalgo = GridSearchCV(SVD, {'n_factors': [10, 50, 100]},\n                    measures=['RMSE'], cv=5, refit=True, n_jobs=-1)\nalgo",
      "response": {
       "content": {
        "data": {
         "text/plain": "<surprise.model_selection.search.GridSearchCV at 0x1a44e7c4e0>"
        },
        "execution_count": 98,
        "metadata": {}
       },
       "metadata": {},
       "msg_type": "execute_result",
       "version": "5.3"
      },
      "timestamp": "2018-11-16T07:42:30.111Z"
     },
     {
      "code": "from surprise import SVD, Dataset, Reader\nfrom surprise.model_selection import cross_validate\nfrom surprise.model_selection.search import GridSearchCV\n \nX_train = Dataset.load_from_df(train_and_valid, Reader(rating_scale=(0, 1)))\n\nalgo = GridSearchCV(SVD, {'n_factors': [10, 50, 100]},\n                    measures=['RMSE'], cv=5, refit=True, n_jobs=-1)\nalgo.fit(X_train)",
      "response": {
       "content": {
        "name": "stderr",
        "text": "\n"
       },
       "metadata": {},
       "msg_type": "stream",
       "version": "5.3"
      },
      "timestamp": "2018-11-16T07:42:42.813Z"
     },
     {
      "code": "from surprise import SVD, Dataset, Reader\nfrom surprise.model_selection import cross_validate\nfrom surprise.model_selection.search import GridSearchCV\n \nX_train = Dataset.load_from_df(train_and_valid, Reader(rating_scale=(0, 1)))\n\nalgo = GridSearchCV(SVD, {'n_factors': [10, 50, 100]},\n                    measures=['RMSE'], cv=5, refit=True, n_jobs=-1)\nalgo.fit(X_train)",
      "response": {
       "content": {
        "name": "stderr",
        "text": "\n"
       },
       "metadata": {},
       "msg_type": "stream",
       "version": "5.3"
      },
      "timestamp": "2018-11-16T07:42:42.831Z"
     },
     {
      "code": "from surprise import SVD, Dataset, Reader\nfrom surprise.model_selection import cross_validate\nfrom surprise.model_selection.search import GridSearchCV\n \nX_train = Dataset.load_from_df(train_and_valid, Reader(rating_scale=(0, 1)))\n\nalgo = GridSearchCV(SVD, {'n_factors': [10, 50, 100]},\n                    measures=['RMSE'], cv=5, refit=True, n_jobs=-1)\nalgo.fit(X_train)",
      "response": {
       "content": {
        "name": "stderr",
        "text": "\n"
       },
       "metadata": {},
       "msg_type": "stream",
       "version": "5.3"
      },
      "timestamp": "2018-11-16T07:42:42.835Z"
     },
     {
      "code": "from surprise import SVD, Dataset, Reader\nfrom surprise.model_selection import cross_validate\nfrom surprise.model_selection.search import GridSearchCV\n \nX_train = Dataset.load_from_df(train_and_valid, Reader(rating_scale=(0, 1)))\n\nalgo = GridSearchCV(SVD, {'n_factors': [10, 50, 100]},\n                    measures=['RMSE'], cv=5, refit=True, n_jobs=-1)\nalgo.fit(X_train)",
      "response": {
       "content": {
        "name": "stderr",
        "text": "\n"
       },
       "metadata": {},
       "msg_type": "stream",
       "version": "5.3"
      },
      "timestamp": "2018-11-16T07:42:43.028Z"
     },
     {
      "code": "from surprise import SVD, Dataset, Reader\nfrom surprise.model_selection import cross_validate\nfrom surprise.model_selection.search import GridSearchCV\n \nX_train = Dataset.load_from_df(train_and_valid, Reader(rating_scale=(0, 1)))\n\nalgo = GridSearchCV(SVD, {'n_factors': [10, 50, 100]},\n                    measures=['RMSE'], cv=5, refit=True, n_jobs=-1)\nalgo.fit(X_train)",
      "response": {
       "content": {
        "name": "stderr",
        "text": "\n"
       },
       "metadata": {},
       "msg_type": "stream",
       "version": "5.3"
      },
      "timestamp": "2018-11-16T07:42:43.032Z"
     },
     {
      "code": "from surprise import SVD, Dataset, Reader\nfrom surprise.model_selection import cross_validate\nfrom surprise.model_selection.search import GridSearchCV\n \nX_train = Dataset.load_from_df(train_and_valid, Reader(rating_scale=(0, 1)))\n\nalgo = GridSearchCV(SVD, {'n_factors': [10, 50, 100]},\n                    measures=['RMSE'], cv=5, refit=True, n_jobs=-1)\nalgo.fit(X_train)",
      "response": {
       "content": {
        "ename": "KeyboardInterrupt",
        "evalue": "",
        "traceback": [
         "\u001b[0;31m---------------------------------------------------------------------------\u001b[0m",
         "\u001b[0;31mKeyboardInterrupt\u001b[0m                         Traceback (most recent call last)",
         "\u001b[0;32m<ipython-input-99-786145fce7ba>\u001b[0m in \u001b[0;36m<module>\u001b[0;34m\u001b[0m\n\u001b[1;32m      7\u001b[0m algo = GridSearchCV(SVD, {'n_factors': [10, 50, 100]},\n\u001b[1;32m      8\u001b[0m                     measures=['RMSE'], cv=5, refit=True, n_jobs=-1)\n\u001b[0;32m----> 9\u001b[0;31m \u001b[0malgo\u001b[0m\u001b[0;34m.\u001b[0m\u001b[0mfit\u001b[0m\u001b[0;34m(\u001b[0m\u001b[0mX_train\u001b[0m\u001b[0;34m)\u001b[0m\u001b[0;34m\u001b[0m\u001b[0m\n\u001b[0m",
         "\u001b[0;32m~/anaconda3/lib/python3.6/site-packages/surprise/model_selection/search.py\u001b[0m in \u001b[0;36mfit\u001b[0;34m(self, data)\u001b[0m\n\u001b[1;32m     88\u001b[0m         out = Parallel(n_jobs=self.n_jobs,\n\u001b[1;32m     89\u001b[0m                        \u001b[0mpre_dispatch\u001b[0m\u001b[0;34m=\u001b[0m\u001b[0mself\u001b[0m\u001b[0;34m.\u001b[0m\u001b[0mpre_dispatch\u001b[0m\u001b[0;34m,\u001b[0m\u001b[0;34m\u001b[0m\u001b[0m\n\u001b[0;32m---> 90\u001b[0;31m                        verbose=self.joblib_verbose)(delayed_list)\n\u001b[0m\u001b[1;32m     91\u001b[0m \u001b[0;34m\u001b[0m\u001b[0m\n\u001b[1;32m     92\u001b[0m         (test_measures_dicts,\n",
         "\u001b[0;32m~/anaconda3/lib/python3.6/site-packages/joblib/parallel.py\u001b[0m in \u001b[0;36m__call__\u001b[0;34m(self, iterable)\u001b[0m\n\u001b[1;32m    928\u001b[0m \u001b[0;34m\u001b[0m\u001b[0m\n\u001b[1;32m    929\u001b[0m             \u001b[0;32mwith\u001b[0m \u001b[0mself\u001b[0m\u001b[0;34m.\u001b[0m\u001b[0m_backend\u001b[0m\u001b[0;34m.\u001b[0m\u001b[0mretrieval_context\u001b[0m\u001b[0;34m(\u001b[0m\u001b[0;34m)\u001b[0m\u001b[0;34m:\u001b[0m\u001b[0;34m\u001b[0m\u001b[0m\n\u001b[0;32m--> 930\u001b[0;31m                 \u001b[0mself\u001b[0m\u001b[0;34m.\u001b[0m\u001b[0mretrieve\u001b[0m\u001b[0;34m(\u001b[0m\u001b[0;34m)\u001b[0m\u001b[0;34m\u001b[0m\u001b[0m\n\u001b[0m\u001b[1;32m    931\u001b[0m             \u001b[0;31m# Make sure that we get a last message telling us we are done\u001b[0m\u001b[0;34m\u001b[0m\u001b[0;34m\u001b[0m\u001b[0m\n\u001b[1;32m    932\u001b[0m             \u001b[0melapsed_time\u001b[0m \u001b[0;34m=\u001b[0m \u001b[0mtime\u001b[0m\u001b[0;34m.\u001b[0m\u001b[0mtime\u001b[0m\u001b[0;34m(\u001b[0m\u001b[0;34m)\u001b[0m \u001b[0;34m-\u001b[0m \u001b[0mself\u001b[0m\u001b[0;34m.\u001b[0m\u001b[0m_start_time\u001b[0m\u001b[0;34m\u001b[0m\u001b[0m\n",
         "\u001b[0;32m~/anaconda3/lib/python3.6/site-packages/joblib/parallel.py\u001b[0m in \u001b[0;36mretrieve\u001b[0;34m(self)\u001b[0m\n\u001b[1;32m    831\u001b[0m             \u001b[0;32mtry\u001b[0m\u001b[0;34m:\u001b[0m\u001b[0;34m\u001b[0m\u001b[0m\n\u001b[1;32m    832\u001b[0m                 \u001b[0;32mif\u001b[0m \u001b[0mgetattr\u001b[0m\u001b[0;34m(\u001b[0m\u001b[0mself\u001b[0m\u001b[0;34m.\u001b[0m\u001b[0m_backend\u001b[0m\u001b[0;34m,\u001b[0m \u001b[0;34m'supports_timeout'\u001b[0m\u001b[0;34m,\u001b[0m \u001b[0;32mFalse\u001b[0m\u001b[0;34m)\u001b[0m\u001b[0;34m:\u001b[0m\u001b[0;34m\u001b[0m\u001b[0m\n\u001b[0;32m--> 833\u001b[0;31m                     \u001b[0mself\u001b[0m\u001b[0;34m.\u001b[0m\u001b[0m_output\u001b[0m\u001b[0;34m.\u001b[0m\u001b[0mextend\u001b[0m\u001b[0;34m(\u001b[0m\u001b[0mjob\u001b[0m\u001b[0;34m.\u001b[0m\u001b[0mget\u001b[0m\u001b[0;34m(\u001b[0m\u001b[0mtimeout\u001b[0m\u001b[0;34m=\u001b[0m\u001b[0mself\u001b[0m\u001b[0;34m.\u001b[0m\u001b[0mtimeout\u001b[0m\u001b[0;34m)\u001b[0m\u001b[0;34m)\u001b[0m\u001b[0;34m\u001b[0m\u001b[0m\n\u001b[0m\u001b[1;32m    834\u001b[0m                 \u001b[0;32melse\u001b[0m\u001b[0;34m:\u001b[0m\u001b[0;34m\u001b[0m\u001b[0m\n\u001b[1;32m    835\u001b[0m                     \u001b[0mself\u001b[0m\u001b[0;34m.\u001b[0m\u001b[0m_output\u001b[0m\u001b[0;34m.\u001b[0m\u001b[0mextend\u001b[0m\u001b[0;34m(\u001b[0m\u001b[0mjob\u001b[0m\u001b[0;34m.\u001b[0m\u001b[0mget\u001b[0m\u001b[0;34m(\u001b[0m\u001b[0;34m)\u001b[0m\u001b[0;34m)\u001b[0m\u001b[0;34m\u001b[0m\u001b[0m\n",
         "\u001b[0;32m~/anaconda3/lib/python3.6/site-packages/joblib/_parallel_backends.py\u001b[0m in \u001b[0;36mwrap_future_result\u001b[0;34m(future, timeout)\u001b[0m\n\u001b[1;32m    519\u001b[0m         AsyncResults.get from multiprocessing.\"\"\"\n\u001b[1;32m    520\u001b[0m         \u001b[0;32mtry\u001b[0m\u001b[0;34m:\u001b[0m\u001b[0;34m\u001b[0m\u001b[0m\n\u001b[0;32m--> 521\u001b[0;31m             \u001b[0;32mreturn\u001b[0m \u001b[0mfuture\u001b[0m\u001b[0;34m.\u001b[0m\u001b[0mresult\u001b[0m\u001b[0;34m(\u001b[0m\u001b[0mtimeout\u001b[0m\u001b[0;34m=\u001b[0m\u001b[0mtimeout\u001b[0m\u001b[0;34m)\u001b[0m\u001b[0;34m\u001b[0m\u001b[0m\n\u001b[0m\u001b[1;32m    522\u001b[0m         \u001b[0;32mexcept\u001b[0m \u001b[0mLokyTimeoutError\u001b[0m\u001b[0;34m:\u001b[0m\u001b[0;34m\u001b[0m\u001b[0m\n\u001b[1;32m    523\u001b[0m             \u001b[0;32mraise\u001b[0m \u001b[0mTimeoutError\u001b[0m\u001b[0;34m(\u001b[0m\u001b[0;34m)\u001b[0m\u001b[0;34m\u001b[0m\u001b[0m\n",
         "\u001b[0;32m~/anaconda3/lib/python3.6/concurrent/futures/_base.py\u001b[0m in \u001b[0;36mresult\u001b[0;34m(self, timeout)\u001b[0m\n\u001b[1;32m    425\u001b[0m                 \u001b[0;32mreturn\u001b[0m \u001b[0mself\u001b[0m\u001b[0;34m.\u001b[0m\u001b[0m__get_result\u001b[0m\u001b[0;34m(\u001b[0m\u001b[0;34m)\u001b[0m\u001b[0;34m\u001b[0m\u001b[0m\n\u001b[1;32m    426\u001b[0m \u001b[0;34m\u001b[0m\u001b[0m\n\u001b[0;32m--> 427\u001b[0;31m             \u001b[0mself\u001b[0m\u001b[0;34m.\u001b[0m\u001b[0m_condition\u001b[0m\u001b[0;34m.\u001b[0m\u001b[0mwait\u001b[0m\u001b[0;34m(\u001b[0m\u001b[0mtimeout\u001b[0m\u001b[0;34m)\u001b[0m\u001b[0;34m\u001b[0m\u001b[0m\n\u001b[0m\u001b[1;32m    428\u001b[0m \u001b[0;34m\u001b[0m\u001b[0m\n\u001b[1;32m    429\u001b[0m             \u001b[0;32mif\u001b[0m \u001b[0mself\u001b[0m\u001b[0;34m.\u001b[0m\u001b[0m_state\u001b[0m \u001b[0;32min\u001b[0m \u001b[0;34m[\u001b[0m\u001b[0mCANCELLED\u001b[0m\u001b[0;34m,\u001b[0m \u001b[0mCANCELLED_AND_NOTIFIED\u001b[0m\u001b[0;34m]\u001b[0m\u001b[0;34m:\u001b[0m\u001b[0;34m\u001b[0m\u001b[0m\n",
         "\u001b[0;32m~/anaconda3/lib/python3.6/threading.py\u001b[0m in \u001b[0;36mwait\u001b[0;34m(self, timeout)\u001b[0m\n\u001b[1;32m    293\u001b[0m         \u001b[0;32mtry\u001b[0m\u001b[0;34m:\u001b[0m    \u001b[0;31m# restore state no matter what (e.g., KeyboardInterrupt)\u001b[0m\u001b[0;34m\u001b[0m\u001b[0m\n\u001b[1;32m    294\u001b[0m             \u001b[0;32mif\u001b[0m \u001b[0mtimeout\u001b[0m \u001b[0;32mis\u001b[0m \u001b[0;32mNone\u001b[0m\u001b[0;34m:\u001b[0m\u001b[0;34m\u001b[0m\u001b[0m\n\u001b[0;32m--> 295\u001b[0;31m                 \u001b[0mwaiter\u001b[0m\u001b[0;34m.\u001b[0m\u001b[0macquire\u001b[0m\u001b[0;34m(\u001b[0m\u001b[0;34m)\u001b[0m\u001b[0;34m\u001b[0m\u001b[0m\n\u001b[0m\u001b[1;32m    296\u001b[0m                 \u001b[0mgotit\u001b[0m \u001b[0;34m=\u001b[0m \u001b[0;32mTrue\u001b[0m\u001b[0;34m\u001b[0m\u001b[0m\n\u001b[1;32m    297\u001b[0m             \u001b[0;32melse\u001b[0m\u001b[0;34m:\u001b[0m\u001b[0;34m\u001b[0m\u001b[0m\n",
         "\u001b[0;31mKeyboardInterrupt\u001b[0m: "
        ]
       },
       "metadata": {},
       "msg_type": "error",
       "version": "5.3"
      },
      "timestamp": "2018-11-16T07:44:26.797Z"
     },
     {
      "code": "from surprise import SVD, Dataset, Reader\nfrom surprise.model_selection import cross_validate\nfrom surprise.model_selection.search import GridSearchCV\n \nX_train = Dataset.load_from_df(train_and_valid, Reader(rating_scale=(0, 1)))\n\nalgo = GridSearchCV(SVD, {'n_factors': [10, 50, 100]},\n                    measures=['RMSE'], cv=3, refit=True, n_jobs=2,\n                    joblib_verbose=1)\nalgo.fit(X_train)",
      "response": {
       "content": {
        "name": "stderr",
        "text": "[Parallel(n_jobs=2)]: Using backend LokyBackend with 2 concurrent workers.\n"
       },
       "metadata": {},
       "msg_type": "stream",
       "version": "5.3"
      },
      "timestamp": "2018-11-16T07:45:22.925Z"
     },
     {
      "code": "from surprise import SVD, Dataset, Reader\nfrom surprise.model_selection import cross_validate\nfrom surprise.model_selection.search import GridSearchCV\n \nX_train = Dataset.load_from_df(train_and_valid, Reader(rating_scale=(0, 1)))\n\nalgo = GridSearchCV(SVD, {'n_factors': [10, 50, 100]},\n                    measures=['RMSE'], cv=3, refit=True, n_jobs=2,\n                    joblib_verbose=1)\nalgo.fit(X_train)",
      "response": {
       "content": {
        "name": "stderr",
        "text": "\n"
       },
       "metadata": {},
       "msg_type": "stream",
       "version": "5.3"
      },
      "timestamp": "2018-11-16T07:45:23.085Z"
     },
     {
      "code": "from surprise import SVD, Dataset, Reader\nfrom surprise.model_selection import cross_validate\nfrom surprise.model_selection.search import GridSearchCV\n \nX_train = Dataset.load_from_df(train_and_valid, Reader(rating_scale=(0, 1)))\n\nalgo = GridSearchCV(SVD, {'n_factors': [10, 50, 100]},\n                    measures=['RMSE'], cv=3, refit=True, n_jobs=2,\n                    joblib_verbose=1)\nalgo.fit(X_train)",
      "response": {
       "content": {
        "name": "stderr",
        "text": "\n"
       },
       "metadata": {},
       "msg_type": "stream",
       "version": "5.3"
      },
      "timestamp": "2018-11-16T07:45:23.102Z"
     },
     {
      "code": "from surprise import SVD, Dataset, Reader\nfrom surprise.model_selection import cross_validate\nfrom surprise.model_selection.search import GridSearchCV\n \nX_train = Dataset.load_from_df(train_and_valid, Reader(rating_scale=(0, 1)))\n\nalgo = GridSearchCV(SVD, {'n_factors': [10, 50, 100]},\n                    measures=['RMSE'], cv=3, refit=True, n_jobs=2,\n                    joblib_verbose=1)\nalgo.fit(X_train)",
      "response": {
       "content": {
        "name": "stderr",
        "text": "[Parallel(n_jobs=2)]: Done   9 out of   9 | elapsed:  2.1min finished\n"
       },
       "metadata": {},
       "msg_type": "stream",
       "version": "5.3"
      },
      "timestamp": "2018-11-16T07:47:28.027Z"
     },
     {
      "code": "from surprise import KNNWithMeans, SVD, Dataset, Reader\nfrom surprise.model_selection import cross_validate\nfrom surprise.model_selection.search import GridSearchCV\n \nX_train = Dataset.load_from_df(train_and_valid, Reader(rating_scale=(0, 1)))\n\nalgo_opts = {\n    'name': 'cosine',\n}\n\nalgo = GridSearchCV(KNNWithMeans, {'k': [5, 10, 25], 'sim_options': algo_opts},\n                    measures=['RMSE'], cv=3, refit=True, n_jobs=2,\n                    joblib_verbose=1)\nalgo.fit(X_train)",
      "response": {
       "content": {
        "name": "stderr",
        "text": "[Parallel(n_jobs=2)]: Using backend LokyBackend with 2 concurrent workers.\n"
       },
       "metadata": {},
       "msg_type": "stream",
       "version": "5.3"
      },
      "timestamp": "2018-11-16T07:57:01.666Z"
     },
     {
      "code": "from surprise import KNNWithMeans, SVD, Dataset, Reader\nfrom surprise.model_selection import cross_validate\nfrom surprise.model_selection.search import GridSearchCV\n \nX_train = Dataset.load_from_df(train_and_valid, Reader(rating_scale=(0, 1)))\n\nalgo_opts = {\n    'name': 'cosine',\n}\n\nalgo = GridSearchCV(KNNWithMeans, {'k': [5, 10, 25], 'sim_options': algo_opts},\n                    measures=['RMSE'], cv=3, refit=True, n_jobs=2,\n                    joblib_verbose=1)\nalgo.fit(X_train)",
      "response": {
       "content": {
        "name": "stderr",
        "text": "\n"
       },
       "metadata": {},
       "msg_type": "stream",
       "version": "5.3"
      },
      "timestamp": "2018-11-16T07:57:01.829Z"
     },
     {
      "code": "from surprise import KNNWithMeans, SVD, Dataset, Reader\nfrom surprise.model_selection import cross_validate\nfrom surprise.model_selection.search import GridSearchCV\n \nX_train = Dataset.load_from_df(train_and_valid, Reader(rating_scale=(0, 1)))\n\nalgo_opts = {\n    'name': 'cosine',\n}\n\nalgo = GridSearchCV(KNNWithMeans, {'k': [5, 10, 25], 'sim_options': algo_opts},\n                    measures=['RMSE'], cv=3, refit=True, n_jobs=2,\n                    joblib_verbose=1)\nalgo.fit(X_train)",
      "response": {
       "content": {
        "name": "stderr",
        "text": "\n"
       },
       "metadata": {},
       "msg_type": "stream",
       "version": "5.3"
      },
      "timestamp": "2018-11-16T07:57:01.916Z"
     },
     {
      "code": "from surprise import KNNWithMeans, SVD, Dataset, Reader\nfrom surprise.model_selection import cross_validate\nfrom surprise.model_selection.search import GridSearchCV\n \nX_train = Dataset.load_from_df(train_and_valid, Reader(rating_scale=(0, 1)))\n\nalgo_opts = {\n    'name': 'cosine',\n}\n\nalgo = GridSearchCV(KNNWithMeans, {'k': [5, 10, 25], 'sim_options': algo_opts},\n                    measures=['RMSE'], cv=3, refit=True, n_jobs=2,\n                    joblib_verbose=1)\nalgo.fit(X_train)",
      "response": {
       "content": {
        "ename": "NameError",
        "evalue": "Wrong sim name c. Allowed values are cosine, msd, pearson, pearson_baseline.",
        "traceback": [
         "\u001b[0;31m---------------------------------------------------------------------------\u001b[0m",
         "\u001b[0;31m_RemoteTraceback\u001b[0m                          Traceback (most recent call last)",
         "\u001b[0;31m_RemoteTraceback\u001b[0m: \n\"\"\"\nTraceback (most recent call last):\n  File \"/Users/sam/anaconda3/lib/python3.6/site-packages/surprise/prediction_algorithms/algo_base.py\", line 293, in compute_similarities\n    sim = construction_func[name](*args)\nKeyError: 'c'\n\nDuring handling of the above exception, another exception occurred:\n\nTraceback (most recent call last):\n  File \"/Users/sam/anaconda3/lib/python3.6/site-packages/joblib/externals/loky/process_executor.py\", line 418, in _process_worker\n    r = call_item()\n  File \"/Users/sam/anaconda3/lib/python3.6/site-packages/joblib/externals/loky/process_executor.py\", line 272, in __call__\n    return self.fn(*self.args, **self.kwargs)\n  File \"/Users/sam/anaconda3/lib/python3.6/site-packages/joblib/_parallel_backends.py\", line 567, in __call__\n    return self.func(*args, **kwargs)\n  File \"/Users/sam/anaconda3/lib/python3.6/site-packages/joblib/parallel.py\", line 225, in __call__\n    for func, args, kwargs in self.items]\n  File \"/Users/sam/anaconda3/lib/python3.6/site-packages/joblib/parallel.py\", line 225, in <listcomp>\n    for func, args, kwargs in self.items]\n  File \"/Users/sam/anaconda3/lib/python3.6/site-packages/surprise/model_selection/validation.py\", line 164, in fit_and_score\n    algo.fit(trainset)\n  File \"/Users/sam/anaconda3/lib/python3.6/site-packages/surprise/prediction_algorithms/knns.py\", line 178, in fit\n    self.sim = self.compute_similarities()\n  File \"/Users/sam/anaconda3/lib/python3.6/site-packages/surprise/prediction_algorithms/algo_base.py\", line 299, in compute_similarities\n    'are ' + ', '.join(construction_func.keys()) + '.')\nNameError: Wrong sim name c. Allowed values are cosine, msd, pearson, pearson_baseline.\n\"\"\"",
         "\nThe above exception was the direct cause of the following exception:\n",
         "\u001b[0;31mNameError\u001b[0m                                 Traceback (most recent call last)",
         "\u001b[0;32m<ipython-input-124-33972461eca0>\u001b[0m in \u001b[0;36m<module>\u001b[0;34m\u001b[0m\n\u001b[1;32m     12\u001b[0m                     \u001b[0mmeasures\u001b[0m\u001b[0;34m=\u001b[0m\u001b[0;34m[\u001b[0m\u001b[0;34m'RMSE'\u001b[0m\u001b[0;34m]\u001b[0m\u001b[0;34m,\u001b[0m \u001b[0mcv\u001b[0m\u001b[0;34m=\u001b[0m\u001b[0;36m3\u001b[0m\u001b[0;34m,\u001b[0m \u001b[0mrefit\u001b[0m\u001b[0;34m=\u001b[0m\u001b[0;32mTrue\u001b[0m\u001b[0;34m,\u001b[0m \u001b[0mn_jobs\u001b[0m\u001b[0;34m=\u001b[0m\u001b[0;36m2\u001b[0m\u001b[0;34m,\u001b[0m\u001b[0;34m\u001b[0m\u001b[0m\n\u001b[1;32m     13\u001b[0m                     joblib_verbose=1)\n\u001b[0;32m---> 14\u001b[0;31m \u001b[0malgo\u001b[0m\u001b[0;34m.\u001b[0m\u001b[0mfit\u001b[0m\u001b[0;34m(\u001b[0m\u001b[0mX_train\u001b[0m\u001b[0;34m)\u001b[0m\u001b[0;34m\u001b[0m\u001b[0m\n\u001b[0m",
         "\u001b[0;32m~/anaconda3/lib/python3.6/site-packages/surprise/model_selection/search.py\u001b[0m in \u001b[0;36mfit\u001b[0;34m(self, data)\u001b[0m\n\u001b[1;32m     88\u001b[0m         out = Parallel(n_jobs=self.n_jobs,\n\u001b[1;32m     89\u001b[0m                        \u001b[0mpre_dispatch\u001b[0m\u001b[0;34m=\u001b[0m\u001b[0mself\u001b[0m\u001b[0;34m.\u001b[0m\u001b[0mpre_dispatch\u001b[0m\u001b[0;34m,\u001b[0m\u001b[0;34m\u001b[0m\u001b[0m\n\u001b[0;32m---> 90\u001b[0;31m                        verbose=self.joblib_verbose)(delayed_list)\n\u001b[0m\u001b[1;32m     91\u001b[0m \u001b[0;34m\u001b[0m\u001b[0m\n\u001b[1;32m     92\u001b[0m         (test_measures_dicts,\n",
         "\u001b[0;32m~/anaconda3/lib/python3.6/site-packages/joblib/parallel.py\u001b[0m in \u001b[0;36m__call__\u001b[0;34m(self, iterable)\u001b[0m\n\u001b[1;32m    928\u001b[0m \u001b[0;34m\u001b[0m\u001b[0m\n\u001b[1;32m    929\u001b[0m             \u001b[0;32mwith\u001b[0m \u001b[0mself\u001b[0m\u001b[0;34m.\u001b[0m\u001b[0m_backend\u001b[0m\u001b[0;34m.\u001b[0m\u001b[0mretrieval_context\u001b[0m\u001b[0;34m(\u001b[0m\u001b[0;34m)\u001b[0m\u001b[0;34m:\u001b[0m\u001b[0;34m\u001b[0m\u001b[0m\n\u001b[0;32m--> 930\u001b[0;31m                 \u001b[0mself\u001b[0m\u001b[0;34m.\u001b[0m\u001b[0mretrieve\u001b[0m\u001b[0;34m(\u001b[0m\u001b[0;34m)\u001b[0m\u001b[0;34m\u001b[0m\u001b[0m\n\u001b[0m\u001b[1;32m    931\u001b[0m             \u001b[0;31m# Make sure that we get a last message telling us we are done\u001b[0m\u001b[0;34m\u001b[0m\u001b[0;34m\u001b[0m\u001b[0m\n\u001b[1;32m    932\u001b[0m             \u001b[0melapsed_time\u001b[0m \u001b[0;34m=\u001b[0m \u001b[0mtime\u001b[0m\u001b[0;34m.\u001b[0m\u001b[0mtime\u001b[0m\u001b[0;34m(\u001b[0m\u001b[0;34m)\u001b[0m \u001b[0;34m-\u001b[0m \u001b[0mself\u001b[0m\u001b[0;34m.\u001b[0m\u001b[0m_start_time\u001b[0m\u001b[0;34m\u001b[0m\u001b[0m\n",
         "\u001b[0;32m~/anaconda3/lib/python3.6/site-packages/joblib/parallel.py\u001b[0m in \u001b[0;36mretrieve\u001b[0;34m(self)\u001b[0m\n\u001b[1;32m    831\u001b[0m             \u001b[0;32mtry\u001b[0m\u001b[0;34m:\u001b[0m\u001b[0;34m\u001b[0m\u001b[0m\n\u001b[1;32m    832\u001b[0m                 \u001b[0;32mif\u001b[0m \u001b[0mgetattr\u001b[0m\u001b[0;34m(\u001b[0m\u001b[0mself\u001b[0m\u001b[0;34m.\u001b[0m\u001b[0m_backend\u001b[0m\u001b[0;34m,\u001b[0m \u001b[0;34m'supports_timeout'\u001b[0m\u001b[0;34m,\u001b[0m \u001b[0;32mFalse\u001b[0m\u001b[0;34m)\u001b[0m\u001b[0;34m:\u001b[0m\u001b[0;34m\u001b[0m\u001b[0m\n\u001b[0;32m--> 833\u001b[0;31m                     \u001b[0mself\u001b[0m\u001b[0;34m.\u001b[0m\u001b[0m_output\u001b[0m\u001b[0;34m.\u001b[0m\u001b[0mextend\u001b[0m\u001b[0;34m(\u001b[0m\u001b[0mjob\u001b[0m\u001b[0;34m.\u001b[0m\u001b[0mget\u001b[0m\u001b[0;34m(\u001b[0m\u001b[0mtimeout\u001b[0m\u001b[0;34m=\u001b[0m\u001b[0mself\u001b[0m\u001b[0;34m.\u001b[0m\u001b[0mtimeout\u001b[0m\u001b[0;34m)\u001b[0m\u001b[0;34m)\u001b[0m\u001b[0;34m\u001b[0m\u001b[0m\n\u001b[0m\u001b[1;32m    834\u001b[0m                 \u001b[0;32melse\u001b[0m\u001b[0;34m:\u001b[0m\u001b[0;34m\u001b[0m\u001b[0m\n\u001b[1;32m    835\u001b[0m                     \u001b[0mself\u001b[0m\u001b[0;34m.\u001b[0m\u001b[0m_output\u001b[0m\u001b[0;34m.\u001b[0m\u001b[0mextend\u001b[0m\u001b[0;34m(\u001b[0m\u001b[0mjob\u001b[0m\u001b[0;34m.\u001b[0m\u001b[0mget\u001b[0m\u001b[0;34m(\u001b[0m\u001b[0;34m)\u001b[0m\u001b[0;34m)\u001b[0m\u001b[0;34m\u001b[0m\u001b[0m\n",
         "\u001b[0;32m~/anaconda3/lib/python3.6/site-packages/joblib/_parallel_backends.py\u001b[0m in \u001b[0;36mwrap_future_result\u001b[0;34m(future, timeout)\u001b[0m\n\u001b[1;32m    519\u001b[0m         AsyncResults.get from multiprocessing.\"\"\"\n\u001b[1;32m    520\u001b[0m         \u001b[0;32mtry\u001b[0m\u001b[0;34m:\u001b[0m\u001b[0;34m\u001b[0m\u001b[0m\n\u001b[0;32m--> 521\u001b[0;31m             \u001b[0;32mreturn\u001b[0m \u001b[0mfuture\u001b[0m\u001b[0;34m.\u001b[0m\u001b[0mresult\u001b[0m\u001b[0;34m(\u001b[0m\u001b[0mtimeout\u001b[0m\u001b[0;34m=\u001b[0m\u001b[0mtimeout\u001b[0m\u001b[0;34m)\u001b[0m\u001b[0;34m\u001b[0m\u001b[0m\n\u001b[0m\u001b[1;32m    522\u001b[0m         \u001b[0;32mexcept\u001b[0m \u001b[0mLokyTimeoutError\u001b[0m\u001b[0;34m:\u001b[0m\u001b[0;34m\u001b[0m\u001b[0m\n\u001b[1;32m    523\u001b[0m             \u001b[0;32mraise\u001b[0m \u001b[0mTimeoutError\u001b[0m\u001b[0;34m(\u001b[0m\u001b[0;34m)\u001b[0m\u001b[0;34m\u001b[0m\u001b[0m\n",
         "\u001b[0;32m~/anaconda3/lib/python3.6/concurrent/futures/_base.py\u001b[0m in \u001b[0;36mresult\u001b[0;34m(self, timeout)\u001b[0m\n\u001b[1;32m    430\u001b[0m                 \u001b[0;32mraise\u001b[0m \u001b[0mCancelledError\u001b[0m\u001b[0;34m(\u001b[0m\u001b[0;34m)\u001b[0m\u001b[0;34m\u001b[0m\u001b[0m\n\u001b[1;32m    431\u001b[0m             \u001b[0;32melif\u001b[0m \u001b[0mself\u001b[0m\u001b[0;34m.\u001b[0m\u001b[0m_state\u001b[0m \u001b[0;34m==\u001b[0m \u001b[0mFINISHED\u001b[0m\u001b[0;34m:\u001b[0m\u001b[0;34m\u001b[0m\u001b[0m\n\u001b[0;32m--> 432\u001b[0;31m                 \u001b[0;32mreturn\u001b[0m \u001b[0mself\u001b[0m\u001b[0;34m.\u001b[0m\u001b[0m__get_result\u001b[0m\u001b[0;34m(\u001b[0m\u001b[0;34m)\u001b[0m\u001b[0;34m\u001b[0m\u001b[0m\n\u001b[0m\u001b[1;32m    433\u001b[0m             \u001b[0;32melse\u001b[0m\u001b[0;34m:\u001b[0m\u001b[0;34m\u001b[0m\u001b[0m\n\u001b[1;32m    434\u001b[0m                 \u001b[0;32mraise\u001b[0m \u001b[0mTimeoutError\u001b[0m\u001b[0;34m(\u001b[0m\u001b[0;34m)\u001b[0m\u001b[0;34m\u001b[0m\u001b[0m\n",
         "\u001b[0;32m~/anaconda3/lib/python3.6/concurrent/futures/_base.py\u001b[0m in \u001b[0;36m__get_result\u001b[0;34m(self)\u001b[0m\n\u001b[1;32m    382\u001b[0m     \u001b[0;32mdef\u001b[0m \u001b[0m__get_result\u001b[0m\u001b[0;34m(\u001b[0m\u001b[0mself\u001b[0m\u001b[0;34m)\u001b[0m\u001b[0;34m:\u001b[0m\u001b[0;34m\u001b[0m\u001b[0m\n\u001b[1;32m    383\u001b[0m         \u001b[0;32mif\u001b[0m \u001b[0mself\u001b[0m\u001b[0;34m.\u001b[0m\u001b[0m_exception\u001b[0m\u001b[0;34m:\u001b[0m\u001b[0;34m\u001b[0m\u001b[0m\n\u001b[0;32m--> 384\u001b[0;31m             \u001b[0;32mraise\u001b[0m \u001b[0mself\u001b[0m\u001b[0;34m.\u001b[0m\u001b[0m_exception\u001b[0m\u001b[0;34m\u001b[0m\u001b[0m\n\u001b[0m\u001b[1;32m    385\u001b[0m         \u001b[0;32melse\u001b[0m\u001b[0;34m:\u001b[0m\u001b[0;34m\u001b[0m\u001b[0m\n\u001b[1;32m    386\u001b[0m             \u001b[0;32mreturn\u001b[0m \u001b[0mself\u001b[0m\u001b[0;34m.\u001b[0m\u001b[0m_result\u001b[0m\u001b[0;34m\u001b[0m\u001b[0m\n",
         "\u001b[0;31mNameError\u001b[0m: Wrong sim name c. Allowed values are cosine, msd, pearson, pearson_baseline."
        ]
       },
       "metadata": {},
       "msg_type": "error",
       "version": "5.3"
      },
      "timestamp": "2018-11-16T07:57:14.020Z"
     },
     {
      "code": "from surprise import KNNWithMeans, SVD, Dataset, Reader\nfrom surprise.model_selection import cross_validate\nfrom surprise.model_selection.search import GridSearchCV\n \nX_train = Dataset.load_from_df(train_and_valid, Reader(rating_scale=(0, 1)))\n\nalgo_opts = {\n    'name': 'cosine',\n}\n\nalgo = GridSearchCV(KNNWithMeans,\n                    {'k': [5, 10, 25], 'sim_options': [algo_opts]},\n                    measures=['RMSE'], cv=3, refit=True, n_jobs=2,\n                    joblib_verbose=1)\nalgo.fit(X_train)",
      "response": {
       "content": {
        "ename": "AttributeError",
        "evalue": "'list' object has no attribute 'values'",
        "traceback": [
         "\u001b[0;31m---------------------------------------------------------------------------\u001b[0m",
         "\u001b[0;31mAttributeError\u001b[0m                            Traceback (most recent call last)",
         "\u001b[0;32m<ipython-input-125-a69e4948c677>\u001b[0m in \u001b[0;36m<module>\u001b[0;34m\u001b[0m\n\u001b[1;32m     12\u001b[0m                     \u001b[0;34m{\u001b[0m\u001b[0;34m'k'\u001b[0m\u001b[0;34m:\u001b[0m \u001b[0;34m[\u001b[0m\u001b[0;36m5\u001b[0m\u001b[0;34m,\u001b[0m \u001b[0;36m10\u001b[0m\u001b[0;34m,\u001b[0m \u001b[0;36m25\u001b[0m\u001b[0;34m]\u001b[0m\u001b[0;34m,\u001b[0m \u001b[0;34m'sim_options'\u001b[0m\u001b[0;34m:\u001b[0m \u001b[0;34m[\u001b[0m\u001b[0malgo_opts\u001b[0m\u001b[0;34m]\u001b[0m\u001b[0;34m}\u001b[0m\u001b[0;34m,\u001b[0m\u001b[0;34m\u001b[0m\u001b[0m\n\u001b[1;32m     13\u001b[0m                     \u001b[0mmeasures\u001b[0m\u001b[0;34m=\u001b[0m\u001b[0;34m[\u001b[0m\u001b[0;34m'RMSE'\u001b[0m\u001b[0;34m]\u001b[0m\u001b[0;34m,\u001b[0m \u001b[0mcv\u001b[0m\u001b[0;34m=\u001b[0m\u001b[0;36m3\u001b[0m\u001b[0;34m,\u001b[0m \u001b[0mrefit\u001b[0m\u001b[0;34m=\u001b[0m\u001b[0;32mTrue\u001b[0m\u001b[0;34m,\u001b[0m \u001b[0mn_jobs\u001b[0m\u001b[0;34m=\u001b[0m\u001b[0;36m2\u001b[0m\u001b[0;34m,\u001b[0m\u001b[0;34m\u001b[0m\u001b[0m\n\u001b[0;32m---> 14\u001b[0;31m                     joblib_verbose=1)\n\u001b[0m\u001b[1;32m     15\u001b[0m \u001b[0malgo\u001b[0m\u001b[0;34m.\u001b[0m\u001b[0mfit\u001b[0m\u001b[0;34m(\u001b[0m\u001b[0mX_train\u001b[0m\u001b[0;34m)\u001b[0m\u001b[0;34m\u001b[0m\u001b[0m\n",
         "\u001b[0;32m~/anaconda3/lib/python3.6/site-packages/surprise/model_selection/search.py\u001b[0m in \u001b[0;36m__init__\u001b[0;34m(self, algo_class, param_grid, measures, cv, refit, return_train_measures, n_jobs, pre_dispatch, joblib_verbose)\u001b[0m\n\u001b[1;32m    304\u001b[0m             pre_dispatch=pre_dispatch, joblib_verbose=joblib_verbose)\n\u001b[1;32m    305\u001b[0m \u001b[0;34m\u001b[0m\u001b[0m\n\u001b[0;32m--> 306\u001b[0;31m         \u001b[0mself\u001b[0m\u001b[0;34m.\u001b[0m\u001b[0mparam_grid\u001b[0m \u001b[0;34m=\u001b[0m \u001b[0mself\u001b[0m\u001b[0;34m.\u001b[0m\u001b[0m_parse_options\u001b[0m\u001b[0;34m(\u001b[0m\u001b[0mparam_grid\u001b[0m\u001b[0;34m.\u001b[0m\u001b[0mcopy\u001b[0m\u001b[0;34m(\u001b[0m\u001b[0;34m)\u001b[0m\u001b[0;34m)\u001b[0m\u001b[0;34m\u001b[0m\u001b[0m\n\u001b[0m\u001b[1;32m    307\u001b[0m         self.param_combinations = [dict(zip(self.param_grid, v)) for v in\n\u001b[1;32m    308\u001b[0m                                    product(*self.param_grid.values())]\n",
         "\u001b[0;32m~/anaconda3/lib/python3.6/site-packages/surprise/model_selection/search.py\u001b[0m in \u001b[0;36m_parse_options\u001b[0;34m(self, params)\u001b[0m\n\u001b[1;32m     53\u001b[0m             \u001b[0msim_options\u001b[0m \u001b[0;34m=\u001b[0m \u001b[0mparams\u001b[0m\u001b[0;34m[\u001b[0m\u001b[0;34m'sim_options'\u001b[0m\u001b[0;34m]\u001b[0m\u001b[0;34m\u001b[0m\u001b[0m\n\u001b[1;32m     54\u001b[0m             sim_options_list = [dict(zip(sim_options, v)) for v in\n\u001b[0;32m---> 55\u001b[0;31m                                 product(*sim_options.values())]\n\u001b[0m\u001b[1;32m     56\u001b[0m             \u001b[0mparams\u001b[0m\u001b[0;34m[\u001b[0m\u001b[0;34m'sim_options'\u001b[0m\u001b[0;34m]\u001b[0m \u001b[0;34m=\u001b[0m \u001b[0msim_options_list\u001b[0m\u001b[0;34m\u001b[0m\u001b[0m\n\u001b[1;32m     57\u001b[0m \u001b[0;34m\u001b[0m\u001b[0m\n",
         "\u001b[0;31mAttributeError\u001b[0m: 'list' object has no attribute 'values'"
        ]
       },
       "metadata": {},
       "msg_type": "error",
       "version": "5.3"
      },
      "timestamp": "2018-11-16T07:57:38.183Z"
     },
     {
      "code": "from surprise import KNNWithMeans, SVD, Dataset, Reader\nfrom surprise.model_selection import cross_validate\nfrom surprise.model_selection.search import GridSearchCV\n \nX_train = Dataset.load_from_df(train_and_valid, Reader(rating_scale=(0, 1)))\n\nalgo_opts = {\n    'name': ['cosine'],\n}\n\nalgo = GridSearchCV(KNNWithMeans,\n                    {'k': [5, 10, 25], 'sim_options': algo_opts},\n                    measures=['RMSE'], cv=3, refit=True, n_jobs=2,\n                    joblib_verbose=1)\nalgo.fit(X_train)",
      "response": {
       "content": {
        "name": "stderr",
        "text": "[Parallel(n_jobs=2)]: Using backend LokyBackend with 2 concurrent workers.\n"
       },
       "metadata": {},
       "msg_type": "stream",
       "version": "5.3"
      },
      "timestamp": "2018-11-16T07:58:30.334Z"
     },
     {
      "code": "from surprise import KNNWithMeans, SVD, Dataset, Reader\nfrom surprise.model_selection import cross_validate\nfrom surprise.model_selection.search import GridSearchCV\n \nX_train = Dataset.load_from_df(train_and_valid, Reader(rating_scale=(0, 1)))\n\nalgo_opts = {\n    'name': ['cosine'],\n}\n\nalgo = GridSearchCV(KNNWithMeans,\n                    {'k': [5, 10, 25], 'sim_options': algo_opts},\n                    measures=['RMSE'], cv=3, refit=True, n_jobs=2,\n                    joblib_verbose=1)\nalgo.fit(X_train)",
      "response": {
       "content": {
        "name": "stderr",
        "text": "\n"
       },
       "metadata": {},
       "msg_type": "stream",
       "version": "5.3"
      },
      "timestamp": "2018-11-16T07:58:30.366Z"
     },
     {
      "code": "from surprise import KNNWithMeans, SVD, Dataset, Reader\nfrom surprise.model_selection import cross_validate\nfrom surprise.model_selection.search import GridSearchCV\n \nX_train = Dataset.load_from_df(train_and_valid, Reader(rating_scale=(0, 1)))\n\nalgo_opts = {\n    'name': ['cosine'],\n}\n\nalgo = GridSearchCV(KNNWithMeans,\n                    {'k': [5, 10, 25], 'sim_options': algo_opts},\n                    measures=['RMSE'], cv=3, refit=True, n_jobs=2,\n                    joblib_verbose=1)\nalgo.fit(X_train)",
      "response": {
       "content": {
        "name": "stderr",
        "text": "\n"
       },
       "metadata": {},
       "msg_type": "stream",
       "version": "5.3"
      },
      "timestamp": "2018-11-16T07:58:30.416Z"
     },
     {
      "code": "%%time\n\nfrom surprise import KNNWithMeans, SVD, Dataset, Reader\nfrom surprise.model_selection import cross_validate\nfrom surprise.model_selection.search import GridSearchCV\n \nX_train = Dataset.load_from_df(train_and_valid, Reader(rating_scale=(0, 1)))\n\nalgo_opts = {\n    'name': ['cosine'],\n}\n\nalgo = GridSearchCV(KNNWithMeans,\n                    {'k': [5, 10, 25], 'sim_options': algo_opts},\n                    measures=['RMSE'], cv=3, refit=True, n_jobs=2,\n                    joblib_verbose=1)\nalgo.fit(X_train)",
      "response": {
       "content": {
        "ename": "KeyboardInterrupt",
        "evalue": "",
        "traceback": [
         "\u001b[0;31m---------------------------------------------------------------------------\u001b[0m",
         "\u001b[0;31mKeyboardInterrupt\u001b[0m                         Traceback (most recent call last)",
         "\u001b[0;32m<ipython-input-126-f6122464217f>\u001b[0m in \u001b[0;36m<module>\u001b[0;34m\u001b[0m\n\u001b[1;32m     13\u001b[0m                     \u001b[0mmeasures\u001b[0m\u001b[0;34m=\u001b[0m\u001b[0;34m[\u001b[0m\u001b[0;34m'RMSE'\u001b[0m\u001b[0;34m]\u001b[0m\u001b[0;34m,\u001b[0m \u001b[0mcv\u001b[0m\u001b[0;34m=\u001b[0m\u001b[0;36m3\u001b[0m\u001b[0;34m,\u001b[0m \u001b[0mrefit\u001b[0m\u001b[0;34m=\u001b[0m\u001b[0;32mTrue\u001b[0m\u001b[0;34m,\u001b[0m \u001b[0mn_jobs\u001b[0m\u001b[0;34m=\u001b[0m\u001b[0;36m2\u001b[0m\u001b[0;34m,\u001b[0m\u001b[0;34m\u001b[0m\u001b[0m\n\u001b[1;32m     14\u001b[0m                     joblib_verbose=1)\n\u001b[0;32m---> 15\u001b[0;31m \u001b[0malgo\u001b[0m\u001b[0;34m.\u001b[0m\u001b[0mfit\u001b[0m\u001b[0;34m(\u001b[0m\u001b[0mX_train\u001b[0m\u001b[0;34m)\u001b[0m\u001b[0;34m\u001b[0m\u001b[0m\n\u001b[0m",
         "\u001b[0;32m~/anaconda3/lib/python3.6/site-packages/surprise/model_selection/search.py\u001b[0m in \u001b[0;36mfit\u001b[0;34m(self, data)\u001b[0m\n\u001b[1;32m     88\u001b[0m         out = Parallel(n_jobs=self.n_jobs,\n\u001b[1;32m     89\u001b[0m                        \u001b[0mpre_dispatch\u001b[0m\u001b[0;34m=\u001b[0m\u001b[0mself\u001b[0m\u001b[0;34m.\u001b[0m\u001b[0mpre_dispatch\u001b[0m\u001b[0;34m,\u001b[0m\u001b[0;34m\u001b[0m\u001b[0m\n\u001b[0;32m---> 90\u001b[0;31m                        verbose=self.joblib_verbose)(delayed_list)\n\u001b[0m\u001b[1;32m     91\u001b[0m \u001b[0;34m\u001b[0m\u001b[0m\n\u001b[1;32m     92\u001b[0m         (test_measures_dicts,\n",
         "\u001b[0;32m~/anaconda3/lib/python3.6/site-packages/joblib/parallel.py\u001b[0m in \u001b[0;36m__call__\u001b[0;34m(self, iterable)\u001b[0m\n\u001b[1;32m    928\u001b[0m \u001b[0;34m\u001b[0m\u001b[0m\n\u001b[1;32m    929\u001b[0m             \u001b[0;32mwith\u001b[0m \u001b[0mself\u001b[0m\u001b[0;34m.\u001b[0m\u001b[0m_backend\u001b[0m\u001b[0;34m.\u001b[0m\u001b[0mretrieval_context\u001b[0m\u001b[0;34m(\u001b[0m\u001b[0;34m)\u001b[0m\u001b[0;34m:\u001b[0m\u001b[0;34m\u001b[0m\u001b[0m\n\u001b[0;32m--> 930\u001b[0;31m                 \u001b[0mself\u001b[0m\u001b[0;34m.\u001b[0m\u001b[0mretrieve\u001b[0m\u001b[0;34m(\u001b[0m\u001b[0;34m)\u001b[0m\u001b[0;34m\u001b[0m\u001b[0m\n\u001b[0m\u001b[1;32m    931\u001b[0m             \u001b[0;31m# Make sure that we get a last message telling us we are done\u001b[0m\u001b[0;34m\u001b[0m\u001b[0;34m\u001b[0m\u001b[0m\n\u001b[1;32m    932\u001b[0m             \u001b[0melapsed_time\u001b[0m \u001b[0;34m=\u001b[0m \u001b[0mtime\u001b[0m\u001b[0;34m.\u001b[0m\u001b[0mtime\u001b[0m\u001b[0;34m(\u001b[0m\u001b[0;34m)\u001b[0m \u001b[0;34m-\u001b[0m \u001b[0mself\u001b[0m\u001b[0;34m.\u001b[0m\u001b[0m_start_time\u001b[0m\u001b[0;34m\u001b[0m\u001b[0m\n",
         "\u001b[0;32m~/anaconda3/lib/python3.6/site-packages/joblib/parallel.py\u001b[0m in \u001b[0;36mretrieve\u001b[0;34m(self)\u001b[0m\n\u001b[1;32m    831\u001b[0m             \u001b[0;32mtry\u001b[0m\u001b[0;34m:\u001b[0m\u001b[0;34m\u001b[0m\u001b[0m\n\u001b[1;32m    832\u001b[0m                 \u001b[0;32mif\u001b[0m \u001b[0mgetattr\u001b[0m\u001b[0;34m(\u001b[0m\u001b[0mself\u001b[0m\u001b[0;34m.\u001b[0m\u001b[0m_backend\u001b[0m\u001b[0;34m,\u001b[0m \u001b[0;34m'supports_timeout'\u001b[0m\u001b[0;34m,\u001b[0m \u001b[0;32mFalse\u001b[0m\u001b[0;34m)\u001b[0m\u001b[0;34m:\u001b[0m\u001b[0;34m\u001b[0m\u001b[0m\n\u001b[0;32m--> 833\u001b[0;31m                     \u001b[0mself\u001b[0m\u001b[0;34m.\u001b[0m\u001b[0m_output\u001b[0m\u001b[0;34m.\u001b[0m\u001b[0mextend\u001b[0m\u001b[0;34m(\u001b[0m\u001b[0mjob\u001b[0m\u001b[0;34m.\u001b[0m\u001b[0mget\u001b[0m\u001b[0;34m(\u001b[0m\u001b[0mtimeout\u001b[0m\u001b[0;34m=\u001b[0m\u001b[0mself\u001b[0m\u001b[0;34m.\u001b[0m\u001b[0mtimeout\u001b[0m\u001b[0;34m)\u001b[0m\u001b[0;34m)\u001b[0m\u001b[0;34m\u001b[0m\u001b[0m\n\u001b[0m\u001b[1;32m    834\u001b[0m                 \u001b[0;32melse\u001b[0m\u001b[0;34m:\u001b[0m\u001b[0;34m\u001b[0m\u001b[0m\n\u001b[1;32m    835\u001b[0m                     \u001b[0mself\u001b[0m\u001b[0;34m.\u001b[0m\u001b[0m_output\u001b[0m\u001b[0;34m.\u001b[0m\u001b[0mextend\u001b[0m\u001b[0;34m(\u001b[0m\u001b[0mjob\u001b[0m\u001b[0;34m.\u001b[0m\u001b[0mget\u001b[0m\u001b[0;34m(\u001b[0m\u001b[0;34m)\u001b[0m\u001b[0;34m)\u001b[0m\u001b[0;34m\u001b[0m\u001b[0m\n",
         "\u001b[0;32m~/anaconda3/lib/python3.6/site-packages/joblib/_parallel_backends.py\u001b[0m in \u001b[0;36mwrap_future_result\u001b[0;34m(future, timeout)\u001b[0m\n\u001b[1;32m    519\u001b[0m         AsyncResults.get from multiprocessing.\"\"\"\n\u001b[1;32m    520\u001b[0m         \u001b[0;32mtry\u001b[0m\u001b[0;34m:\u001b[0m\u001b[0;34m\u001b[0m\u001b[0m\n\u001b[0;32m--> 521\u001b[0;31m             \u001b[0;32mreturn\u001b[0m \u001b[0mfuture\u001b[0m\u001b[0;34m.\u001b[0m\u001b[0mresult\u001b[0m\u001b[0;34m(\u001b[0m\u001b[0mtimeout\u001b[0m\u001b[0;34m=\u001b[0m\u001b[0mtimeout\u001b[0m\u001b[0;34m)\u001b[0m\u001b[0;34m\u001b[0m\u001b[0m\n\u001b[0m\u001b[1;32m    522\u001b[0m         \u001b[0;32mexcept\u001b[0m \u001b[0mLokyTimeoutError\u001b[0m\u001b[0;34m:\u001b[0m\u001b[0;34m\u001b[0m\u001b[0m\n\u001b[1;32m    523\u001b[0m             \u001b[0;32mraise\u001b[0m \u001b[0mTimeoutError\u001b[0m\u001b[0;34m(\u001b[0m\u001b[0;34m)\u001b[0m\u001b[0;34m\u001b[0m\u001b[0m\n",
         "\u001b[0;32m~/anaconda3/lib/python3.6/concurrent/futures/_base.py\u001b[0m in \u001b[0;36mresult\u001b[0;34m(self, timeout)\u001b[0m\n\u001b[1;32m    425\u001b[0m                 \u001b[0;32mreturn\u001b[0m \u001b[0mself\u001b[0m\u001b[0;34m.\u001b[0m\u001b[0m__get_result\u001b[0m\u001b[0;34m(\u001b[0m\u001b[0;34m)\u001b[0m\u001b[0;34m\u001b[0m\u001b[0m\n\u001b[1;32m    426\u001b[0m \u001b[0;34m\u001b[0m\u001b[0m\n\u001b[0;32m--> 427\u001b[0;31m             \u001b[0mself\u001b[0m\u001b[0;34m.\u001b[0m\u001b[0m_condition\u001b[0m\u001b[0;34m.\u001b[0m\u001b[0mwait\u001b[0m\u001b[0;34m(\u001b[0m\u001b[0mtimeout\u001b[0m\u001b[0;34m)\u001b[0m\u001b[0;34m\u001b[0m\u001b[0m\n\u001b[0m\u001b[1;32m    428\u001b[0m \u001b[0;34m\u001b[0m\u001b[0m\n\u001b[1;32m    429\u001b[0m             \u001b[0;32mif\u001b[0m \u001b[0mself\u001b[0m\u001b[0;34m.\u001b[0m\u001b[0m_state\u001b[0m \u001b[0;32min\u001b[0m \u001b[0;34m[\u001b[0m\u001b[0mCANCELLED\u001b[0m\u001b[0;34m,\u001b[0m \u001b[0mCANCELLED_AND_NOTIFIED\u001b[0m\u001b[0;34m]\u001b[0m\u001b[0;34m:\u001b[0m\u001b[0;34m\u001b[0m\u001b[0m\n",
         "\u001b[0;32m~/anaconda3/lib/python3.6/threading.py\u001b[0m in \u001b[0;36mwait\u001b[0;34m(self, timeout)\u001b[0m\n\u001b[1;32m    293\u001b[0m         \u001b[0;32mtry\u001b[0m\u001b[0;34m:\u001b[0m    \u001b[0;31m# restore state no matter what (e.g., KeyboardInterrupt)\u001b[0m\u001b[0;34m\u001b[0m\u001b[0m\n\u001b[1;32m    294\u001b[0m             \u001b[0;32mif\u001b[0m \u001b[0mtimeout\u001b[0m \u001b[0;32mis\u001b[0m \u001b[0;32mNone\u001b[0m\u001b[0;34m:\u001b[0m\u001b[0;34m\u001b[0m\u001b[0m\n\u001b[0;32m--> 295\u001b[0;31m                 \u001b[0mwaiter\u001b[0m\u001b[0;34m.\u001b[0m\u001b[0macquire\u001b[0m\u001b[0;34m(\u001b[0m\u001b[0;34m)\u001b[0m\u001b[0;34m\u001b[0m\u001b[0m\n\u001b[0m\u001b[1;32m    296\u001b[0m                 \u001b[0mgotit\u001b[0m \u001b[0;34m=\u001b[0m \u001b[0;32mTrue\u001b[0m\u001b[0;34m\u001b[0m\u001b[0m\n\u001b[1;32m    297\u001b[0m             \u001b[0;32melse\u001b[0m\u001b[0;34m:\u001b[0m\u001b[0;34m\u001b[0m\u001b[0m\n",
         "\u001b[0;31mKeyboardInterrupt\u001b[0m: "
        ]
       },
       "metadata": {},
       "msg_type": "error",
       "version": "5.3"
      },
      "timestamp": "2018-11-16T08:03:40.871Z"
     },
     {
      "code": "def build_reviewer_item_map(X):\n    to_item = (X.groupby('reviewerID')\n               ['itemID']\n               .agg(set))\n    to_reviewer = (X.groupby('itemID')\n                   ['reviewerID']\n                   .agg(set))\n    return to_item, to_reviewer\n\nto_item, to_reviewer = build_reviewer_item_map(train)\nto_item",
      "response": {
       "content": {
        "data": {
         "text/plain": "reviewerID\nU000005569                 {I012888581, I478276997, I892925682}\nU000024709    {I526472819, I289401985, I758394206, I17054949...\n                                    ...                        \nU999921889                             {I673200856, I981807126}\nU999927096                                         {I420969962}\nName: itemID, Length: 36427, dtype: object"
        },
        "execution_count": 8,
        "metadata": {}
       },
       "metadata": {},
       "msg_type": "execute_result",
       "version": "5.3"
      },
      "timestamp": "2018-11-16T19:51:07.989Z"
     },
     {
      "code": "def build_reviewer_item_map(X):\n    to_item = (X.groupby('reviewerID')\n               ['itemID']\n               .agg(set))\n    to_reviewer = (X.groupby('itemID')\n                   ['reviewerID']\n                   .agg(set))\n    return to_item, to_reviewer\n\nto_item, to_reviewer = build_reviewer_item_map(train)\nto_reviewer",
      "response": {
       "content": {
        "data": {
         "text/plain": "itemID\nI000024906    {U822597978, U689864928, U622181493, U75308368...\nI000030838    {U050644554, U412964213, U257785428, U36466288...\n                                    ...                        \nI999879552    {U776176504, U418877400, U198194762, U34283022...\nI999917660    {U257993407, U841844002, U888802715, U93528294...\nName: reviewerID, Length: 19381, dtype: object"
        },
        "execution_count": 9,
        "metadata": {}
       },
       "metadata": {},
       "msg_type": "execute_result",
       "version": "5.3"
      },
      "timestamp": "2018-11-16T19:51:14.688Z"
     },
     {
      "code": "def build_reviewer_item_map(X):\n    to_items = (X.groupby('reviewerID')\n                ['itemID']\n                .agg(set))\n    to_reviewers = (X.groupby('itemID')\n                    ['reviewerID']\n                    .agg(set))\n    return to_items, to_reviewers\n\nto_items, to_reviewers = build_reviewer_item_map(train)\nto_reviewers",
      "response": {
       "content": {
        "data": {
         "text/plain": "itemID\nI000024906    {U822597978, U689864928, U622181493, U75308368...\nI000030838    {U050644554, U412964213, U257785428, U36466288...\n                                    ...                        \nI999879552    {U776176504, U418877400, U198194762, U34283022...\nI999917660    {U257993407, U841844002, U888802715, U93528294...\nName: reviewerID, Length: 19381, dtype: object"
        },
        "execution_count": 10,
        "metadata": {}
       },
       "metadata": {},
       "msg_type": "execute_result",
       "version": "5.3"
      },
      "timestamp": "2018-11-16T19:53:33.705Z"
     },
     {
      "code": "def build_reviewer_item_map(X):\n    to_items = (X.groupby('reviewerID')\n                ['itemID']\n                .agg(set))\n    to_reviewers = (X.groupby('itemID')\n                    ['reviewerID']\n                    .agg(set))\n    return to_items, to_reviewers\n\nto_items, to_reviewers = build_reviewer_item_map(train)\nto_items",
      "response": {
       "content": {
        "data": {
         "text/plain": "reviewerID\nU000005569                 {I012888581, I478276997, I892925682}\nU000024709    {I526472819, I289401985, I758394206, I17054949...\n                                    ...                        \nU999921889                             {I673200856, I981807126}\nU999927096                                         {I420969962}\nName: itemID, Length: 36427, dtype: object"
        },
        "execution_count": 20,
        "metadata": {}
       },
       "metadata": {},
       "msg_type": "execute_result",
       "version": "5.3"
      },
      "timestamp": "2018-11-16T20:05:52.314Z"
     },
     {
      "code": "def build_reviewer_item_map(X):\n    X = X[X[reviewed] == 1]\n    to_items = (X.groupby('reviewerID')\n                ['itemID']\n                .agg(set))\n    to_reviewers = (X.groupby('itemID')\n                    ['reviewerID']\n                    .agg(set))\n    return to_items, to_reviewers\n\nto_items, to_reviewers = build_reviewer_item_map(train)\nto_items",
      "response": {
       "content": {
        "ename": "NameError",
        "evalue": "name 'reviewed' is not defined",
        "traceback": [
         "\u001b[0;31m---------------------------------------------------------------------------\u001b[0m",
         "\u001b[0;31mNameError\u001b[0m                                 Traceback (most recent call last)",
         "\u001b[0;32m<ipython-input-25-00bb6fb8ec86>\u001b[0m in \u001b[0;36m<module>\u001b[0;34m\u001b[0m\n\u001b[1;32m      9\u001b[0m     \u001b[0;32mreturn\u001b[0m \u001b[0mto_items\u001b[0m\u001b[0;34m,\u001b[0m \u001b[0mto_reviewers\u001b[0m\u001b[0;34m\u001b[0m\u001b[0m\n\u001b[1;32m     10\u001b[0m \u001b[0;34m\u001b[0m\u001b[0m\n\u001b[0;32m---> 11\u001b[0;31m \u001b[0mto_items\u001b[0m\u001b[0;34m,\u001b[0m \u001b[0mto_reviewers\u001b[0m \u001b[0;34m=\u001b[0m \u001b[0mbuild_reviewer_item_map\u001b[0m\u001b[0;34m(\u001b[0m\u001b[0mtrain\u001b[0m\u001b[0;34m)\u001b[0m\u001b[0;34m\u001b[0m\u001b[0m\n\u001b[0m\u001b[1;32m     12\u001b[0m \u001b[0mto_items\u001b[0m\u001b[0;34m\u001b[0m\u001b[0m\n",
         "\u001b[0;32m<ipython-input-25-00bb6fb8ec86>\u001b[0m in \u001b[0;36mbuild_reviewer_item_map\u001b[0;34m(X)\u001b[0m\n\u001b[1;32m      1\u001b[0m \u001b[0;32mdef\u001b[0m \u001b[0mbuild_reviewer_item_map\u001b[0m\u001b[0;34m(\u001b[0m\u001b[0mX\u001b[0m\u001b[0;34m)\u001b[0m\u001b[0;34m:\u001b[0m\u001b[0;34m\u001b[0m\u001b[0m\n\u001b[0;32m----> 2\u001b[0;31m     \u001b[0mX\u001b[0m \u001b[0;34m=\u001b[0m \u001b[0mX\u001b[0m\u001b[0;34m[\u001b[0m\u001b[0mX\u001b[0m\u001b[0;34m[\u001b[0m\u001b[0mreviewed\u001b[0m\u001b[0;34m]\u001b[0m \u001b[0;34m==\u001b[0m \u001b[0;36m1\u001b[0m\u001b[0;34m]\u001b[0m\u001b[0;34m\u001b[0m\u001b[0m\n\u001b[0m\u001b[1;32m      3\u001b[0m     to_items = (X.groupby('reviewerID')\n\u001b[1;32m      4\u001b[0m                 \u001b[0;34m[\u001b[0m\u001b[0;34m'itemID'\u001b[0m\u001b[0;34m]\u001b[0m\u001b[0;34m\u001b[0m\u001b[0m\n\u001b[1;32m      5\u001b[0m                 .agg(set))\n",
         "\u001b[0;31mNameError\u001b[0m: name 'reviewed' is not defined"
        ]
       },
       "metadata": {},
       "msg_type": "error",
       "version": "5.3"
      },
      "timestamp": "2018-11-16T20:12:53.536Z"
     },
     {
      "code": "def build_reviewer_item_map(X):\n    X = X[X['reviewed'] == 1]\n    to_items = (X.groupby('reviewerID')\n                ['itemID']\n                .agg(set))\n    to_reviewers = (X.groupby('itemID')\n                    ['reviewerID']\n                    .agg(set))\n    return to_items, to_reviewers\n\nto_items, to_reviewers = build_reviewer_item_map(train)\nto_items",
      "response": {
       "content": {
        "data": {
         "text/plain": "reviewerID\nU000005569                 {I012888581, I478276997, I892925682}\nU000024709    {I526472819, I289401985, I758394206, I17054949...\n                                    ...                        \nU999921889                             {I673200856, I981807126}\nU999927096                                         {I420969962}\nName: itemID, Length: 36427, dtype: object"
        },
        "execution_count": 26,
        "metadata": {}
       },
       "metadata": {},
       "msg_type": "execute_result",
       "version": "5.3"
      },
      "timestamp": "2018-11-16T20:12:59.672Z"
     },
     {
      "code": "item_categories = all_train.groupby('itemID')['categories'].first().to_frame()\nitem_categories",
      "response": {
       "content": {
        "data": {
         "text/html": "<div>\n<style scoped>\n    .dataframe tbody tr th:only-of-type {\n        vertical-align: middle;\n    }\n\n    .dataframe tbody tr th {\n        vertical-align: top;\n    }\n\n    .dataframe thead th {\n        text-align: right;\n    }\n</style>\n<table border=\"1\" class=\"dataframe\">\n  <thead>\n    <tr style=\"text-align: right;\">\n      <th></th>\n      <th>categories</th>\n    </tr>\n    <tr>\n      <th>itemID</th>\n      <th></th>\n    </tr>\n  </thead>\n  <tbody>\n    <tr>\n      <th>I000024906</th>\n      <td>[[Clothing, Shoes &amp; Jewelry, Women, Accessorie...</td>\n    </tr>\n    <tr>\n      <th>I000030838</th>\n      <td>[[Sports &amp; Outdoors, Accessories, Sport Watche...</td>\n    </tr>\n    <tr>\n      <th>...</th>\n      <td>...</td>\n    </tr>\n    <tr>\n      <th>I999879552</th>\n      <td>[[Clothing, Shoes &amp; Jewelry, Women, Shoes, San...</td>\n    </tr>\n    <tr>\n      <th>I999917660</th>\n      <td>[[Clothing, Shoes &amp; Jewelry, Women], [Clothing...</td>\n    </tr>\n  </tbody>\n</table>\n<p>19914 rows × 1 columns</p>\n</div>",
         "text/plain": "                                                   categories\nitemID                                                       \nI000024906  [[Clothing, Shoes & Jewelry, Women, Accessorie...\nI000030838  [[Sports & Outdoors, Accessories, Sport Watche...\n...                                                       ...\nI999879552  [[Clothing, Shoes & Jewelry, Women, Shoes, San...\nI999917660  [[Clothing, Shoes & Jewelry, Women], [Clothing...\n\n[19914 rows x 1 columns]"
        },
        "execution_count": 123,
        "metadata": {}
       },
       "metadata": {},
       "msg_type": "execute_result",
       "version": "5.3"
      },
      "timestamp": "2018-11-16T22:12:20.671Z"
     },
     {
      "code": "def category_set(categories: 'Series([list])'):\n    return {tuple(category) for category in categories}\n\ndef make_category_map(df, key):\n    return (\n        df.loc[:, [key, 'categories']]\n        .groupby(key)\n        .agg(sum)\n        ['categories']\n        .apply(category_set)\n    )\n\nuser_map = make_category_map(train[:50], 'reviewerID')\nuser_map",
      "response": {
       "content": {
        "ename": "TypeError",
        "evalue": "'float' object is not iterable",
        "traceback": [
         "\u001b[0;31m---------------------------------------------------------------------------\u001b[0m",
         "\u001b[0;31mTypeError\u001b[0m                                 Traceback (most recent call last)",
         "\u001b[0;32m<ipython-input-127-d3eaeeb2483c>\u001b[0m in \u001b[0;36m<module>\u001b[0;34m\u001b[0m\n\u001b[1;32m     11\u001b[0m     )\n\u001b[1;32m     12\u001b[0m \u001b[0;34m\u001b[0m\u001b[0m\n\u001b[0;32m---> 13\u001b[0;31m \u001b[0muser_map\u001b[0m \u001b[0;34m=\u001b[0m \u001b[0mmake_category_map\u001b[0m\u001b[0;34m(\u001b[0m\u001b[0mtrain\u001b[0m\u001b[0;34m[\u001b[0m\u001b[0;34m:\u001b[0m\u001b[0;36m50\u001b[0m\u001b[0;34m]\u001b[0m\u001b[0;34m,\u001b[0m \u001b[0;34m'reviewerID'\u001b[0m\u001b[0;34m)\u001b[0m\u001b[0;34m\u001b[0m\u001b[0m\n\u001b[0m\u001b[1;32m     14\u001b[0m \u001b[0muser_map\u001b[0m\u001b[0;34m\u001b[0m\u001b[0m\n",
         "\u001b[0;32m<ipython-input-127-d3eaeeb2483c>\u001b[0m in \u001b[0;36mmake_category_map\u001b[0;34m(df, key)\u001b[0m\n\u001b[1;32m      8\u001b[0m         \u001b[0;34m.\u001b[0m\u001b[0magg\u001b[0m\u001b[0;34m(\u001b[0m\u001b[0msum\u001b[0m\u001b[0;34m)\u001b[0m\u001b[0;34m\u001b[0m\u001b[0m\n\u001b[1;32m      9\u001b[0m         \u001b[0;34m[\u001b[0m\u001b[0;34m'categories'\u001b[0m\u001b[0;34m]\u001b[0m\u001b[0;34m\u001b[0m\u001b[0m\n\u001b[0;32m---> 10\u001b[0;31m         \u001b[0;34m.\u001b[0m\u001b[0mapply\u001b[0m\u001b[0;34m(\u001b[0m\u001b[0mcategory_set\u001b[0m\u001b[0;34m)\u001b[0m\u001b[0;34m\u001b[0m\u001b[0m\n\u001b[0m\u001b[1;32m     11\u001b[0m     )\n\u001b[1;32m     12\u001b[0m \u001b[0;34m\u001b[0m\u001b[0m\n",
         "\u001b[0;32m~/anaconda3/lib/python3.6/site-packages/pandas/core/series.py\u001b[0m in \u001b[0;36mapply\u001b[0;34m(self, func, convert_dtype, args, **kwds)\u001b[0m\n\u001b[1;32m   3192\u001b[0m             \u001b[0;32melse\u001b[0m\u001b[0;34m:\u001b[0m\u001b[0;34m\u001b[0m\u001b[0m\n\u001b[1;32m   3193\u001b[0m                 \u001b[0mvalues\u001b[0m \u001b[0;34m=\u001b[0m \u001b[0mself\u001b[0m\u001b[0;34m.\u001b[0m\u001b[0mastype\u001b[0m\u001b[0;34m(\u001b[0m\u001b[0mobject\u001b[0m\u001b[0;34m)\u001b[0m\u001b[0;34m.\u001b[0m\u001b[0mvalues\u001b[0m\u001b[0;34m\u001b[0m\u001b[0m\n\u001b[0;32m-> 3194\u001b[0;31m                 \u001b[0mmapped\u001b[0m \u001b[0;34m=\u001b[0m \u001b[0mlib\u001b[0m\u001b[0;34m.\u001b[0m\u001b[0mmap_infer\u001b[0m\u001b[0;34m(\u001b[0m\u001b[0mvalues\u001b[0m\u001b[0;34m,\u001b[0m \u001b[0mf\u001b[0m\u001b[0;34m,\u001b[0m \u001b[0mconvert\u001b[0m\u001b[0;34m=\u001b[0m\u001b[0mconvert_dtype\u001b[0m\u001b[0;34m)\u001b[0m\u001b[0;34m\u001b[0m\u001b[0m\n\u001b[0m\u001b[1;32m   3195\u001b[0m \u001b[0;34m\u001b[0m\u001b[0m\n\u001b[1;32m   3196\u001b[0m         \u001b[0;32mif\u001b[0m \u001b[0mlen\u001b[0m\u001b[0;34m(\u001b[0m\u001b[0mmapped\u001b[0m\u001b[0;34m)\u001b[0m \u001b[0;32mand\u001b[0m \u001b[0misinstance\u001b[0m\u001b[0;34m(\u001b[0m\u001b[0mmapped\u001b[0m\u001b[0;34m[\u001b[0m\u001b[0;36m0\u001b[0m\u001b[0;34m]\u001b[0m\u001b[0;34m,\u001b[0m \u001b[0mSeries\u001b[0m\u001b[0;34m)\u001b[0m\u001b[0;34m:\u001b[0m\u001b[0;34m\u001b[0m\u001b[0m\n",
         "\u001b[0;32mpandas/_libs/src/inference.pyx\u001b[0m in \u001b[0;36mpandas._libs.lib.map_infer\u001b[0;34m()\u001b[0m\n",
         "\u001b[0;32m<ipython-input-127-d3eaeeb2483c>\u001b[0m in \u001b[0;36mcategory_set\u001b[0;34m(categories)\u001b[0m\n\u001b[1;32m      1\u001b[0m \u001b[0;32mdef\u001b[0m \u001b[0mcategory_set\u001b[0m\u001b[0;34m(\u001b[0m\u001b[0mcategories\u001b[0m\u001b[0;34m:\u001b[0m \u001b[0;34m'Series([list])'\u001b[0m\u001b[0;34m)\u001b[0m\u001b[0;34m:\u001b[0m\u001b[0;34m\u001b[0m\u001b[0m\n\u001b[0;32m----> 2\u001b[0;31m     \u001b[0;32mreturn\u001b[0m \u001b[0;34m{\u001b[0m\u001b[0mtuple\u001b[0m\u001b[0;34m(\u001b[0m\u001b[0mcategory\u001b[0m\u001b[0;34m)\u001b[0m \u001b[0;32mfor\u001b[0m \u001b[0mcategory\u001b[0m \u001b[0;32min\u001b[0m \u001b[0mcategories\u001b[0m\u001b[0;34m}\u001b[0m\u001b[0;34m\u001b[0m\u001b[0m\n\u001b[0m\u001b[1;32m      3\u001b[0m \u001b[0;34m\u001b[0m\u001b[0m\n\u001b[1;32m      4\u001b[0m \u001b[0;32mdef\u001b[0m \u001b[0mmake_category_map\u001b[0m\u001b[0;34m(\u001b[0m\u001b[0mdf\u001b[0m\u001b[0;34m,\u001b[0m \u001b[0mkey\u001b[0m\u001b[0;34m)\u001b[0m\u001b[0;34m:\u001b[0m\u001b[0;34m\u001b[0m\u001b[0m\n\u001b[1;32m      5\u001b[0m     return (\n",
         "\u001b[0;31mTypeError\u001b[0m: 'float' object is not iterable"
        ]
       },
       "metadata": {},
       "msg_type": "error",
       "version": "5.3"
      },
      "timestamp": "2018-11-16T22:27:57.199Z"
     },
     {
      "code": "item_categories = all_train.groupby('itemID')['categories'].first().to_frame()\nitem_categories",
      "response": {
       "content": {
        "data": {
         "text/html": "<div>\n<style scoped>\n    .dataframe tbody tr th:only-of-type {\n        vertical-align: middle;\n    }\n\n    .dataframe tbody tr th {\n        vertical-align: top;\n    }\n\n    .dataframe thead th {\n        text-align: right;\n    }\n</style>\n<table border=\"1\" class=\"dataframe\">\n  <thead>\n    <tr style=\"text-align: right;\">\n      <th></th>\n      <th>categories</th>\n    </tr>\n    <tr>\n      <th>itemID</th>\n      <th></th>\n    </tr>\n  </thead>\n  <tbody>\n    <tr>\n      <th>I000024906</th>\n      <td>[[Clothing, Shoes &amp; Jewelry, Women, Accessorie...</td>\n    </tr>\n    <tr>\n      <th>I000030838</th>\n      <td>[[Sports &amp; Outdoors, Accessories, Sport Watche...</td>\n    </tr>\n    <tr>\n      <th>...</th>\n      <td>...</td>\n    </tr>\n    <tr>\n      <th>I999879552</th>\n      <td>[[Clothing, Shoes &amp; Jewelry, Women, Shoes, San...</td>\n    </tr>\n    <tr>\n      <th>I999917660</th>\n      <td>[[Clothing, Shoes &amp; Jewelry, Women], [Clothing...</td>\n    </tr>\n  </tbody>\n</table>\n<p>19914 rows × 1 columns</p>\n</div>",
         "text/plain": "                                                   categories\nitemID                                                       \nI000024906  [[Clothing, Shoes & Jewelry, Women, Accessorie...\nI000030838  [[Sports & Outdoors, Accessories, Sport Watche...\n...                                                       ...\nI999879552  [[Clothing, Shoes & Jewelry, Women, Shoes, San...\nI999917660  [[Clothing, Shoes & Jewelry, Women], [Clothing...\n\n[19914 rows x 1 columns]"
        },
        "execution_count": 128,
        "metadata": {}
       },
       "metadata": {},
       "msg_type": "execute_result",
       "version": "5.3"
      },
      "timestamp": "2018-11-16T22:29:54.286Z"
     }
    ]
   },
   "outputs": [
    {
     "data": {
      "text/html": [
       "<div>\n",
       "<style scoped>\n",
       "    .dataframe tbody tr th:only-of-type {\n",
       "        vertical-align: middle;\n",
       "    }\n",
       "\n",
       "    .dataframe tbody tr th {\n",
       "        vertical-align: top;\n",
       "    }\n",
       "\n",
       "    .dataframe thead th {\n",
       "        text-align: right;\n",
       "    }\n",
       "</style>\n",
       "<table border=\"1\" class=\"dataframe\">\n",
       "  <thead>\n",
       "    <tr style=\"text-align: right;\">\n",
       "      <th></th>\n",
       "      <th>categories</th>\n",
       "    </tr>\n",
       "    <tr>\n",
       "      <th>itemID</th>\n",
       "      <th></th>\n",
       "    </tr>\n",
       "  </thead>\n",
       "  <tbody>\n",
       "    <tr>\n",
       "      <th>I000024906</th>\n",
       "      <td>[[Clothing, Shoes &amp; Jewelry, Women, Accessorie...</td>\n",
       "    </tr>\n",
       "    <tr>\n",
       "      <th>I000030838</th>\n",
       "      <td>[[Sports &amp; Outdoors, Accessories, Sport Watche...</td>\n",
       "    </tr>\n",
       "    <tr>\n",
       "      <th>...</th>\n",
       "      <td>...</td>\n",
       "    </tr>\n",
       "    <tr>\n",
       "      <th>I999879552</th>\n",
       "      <td>[[Clothing, Shoes &amp; Jewelry, Women, Shoes, San...</td>\n",
       "    </tr>\n",
       "    <tr>\n",
       "      <th>I999917660</th>\n",
       "      <td>[[Clothing, Shoes &amp; Jewelry, Women], [Clothing...</td>\n",
       "    </tr>\n",
       "  </tbody>\n",
       "</table>\n",
       "<p>19914 rows × 1 columns</p>\n",
       "</div>"
      ],
      "text/plain": [
       "                                                   categories\n",
       "itemID                                                       \n",
       "I000024906  [[Clothing, Shoes & Jewelry, Women, Accessorie...\n",
       "I000030838  [[Sports & Outdoors, Accessories, Sport Watche...\n",
       "...                                                       ...\n",
       "I999879552  [[Clothing, Shoes & Jewelry, Women, Shoes, San...\n",
       "I999917660  [[Clothing, Shoes & Jewelry, Women], [Clothing...\n",
       "\n",
       "[19914 rows x 1 columns]"
      ]
     },
     "execution_count": 128,
     "metadata": {},
     "output_type": "execute_result"
    }
   ],
   "source": [
    "item_categories = all_train.groupby('itemID')['categories'].first().to_frame()\n",
    "item_categories"
   ]
  },
  {
   "cell_type": "code",
   "execution_count": 160,
   "metadata": {
    "history": [
     {
      "code": "def category_set(categories: 'Series([list])'):\n    return {tuple(category) for category in categories}\n\ndef make_category_map(df, key):\n    return (\n        df.merge(item_categories, left_on='itemID', right_index=True,\n                 how='left')\n        .loc[:, [key, 'categories']]\n        .groupby(key)\n        .agg(sum)\n        ['categories']\n        .apply(category_set)\n    )\n\nuser_map = make_category_map(all_train, 'reviewerID')\nuser_map",
      "response": {
       "content": {
        "ename": "TypeError",
        "evalue": "'float' object is not iterable",
        "traceback": [
         "\u001b[0;31m---------------------------------------------------------------------------\u001b[0m",
         "\u001b[0;31mTypeError\u001b[0m                                 Traceback (most recent call last)",
         "\u001b[0;32m<ipython-input-129-051360dcff42>\u001b[0m in \u001b[0;36m<module>\u001b[0;34m\u001b[0m\n\u001b[1;32m     13\u001b[0m     )\n\u001b[1;32m     14\u001b[0m \u001b[0;34m\u001b[0m\u001b[0m\n\u001b[0;32m---> 15\u001b[0;31m \u001b[0muser_map\u001b[0m \u001b[0;34m=\u001b[0m \u001b[0mmake_category_map\u001b[0m\u001b[0;34m(\u001b[0m\u001b[0mall_train\u001b[0m\u001b[0;34m,\u001b[0m \u001b[0;34m'reviewerID'\u001b[0m\u001b[0;34m)\u001b[0m\u001b[0;34m\u001b[0m\u001b[0m\n\u001b[0m\u001b[1;32m     16\u001b[0m \u001b[0muser_map\u001b[0m\u001b[0;34m\u001b[0m\u001b[0m\n",
         "\u001b[0;32m<ipython-input-129-051360dcff42>\u001b[0m in \u001b[0;36mmake_category_map\u001b[0;34m(df, key)\u001b[0m\n\u001b[1;32m     10\u001b[0m         \u001b[0;34m.\u001b[0m\u001b[0magg\u001b[0m\u001b[0;34m(\u001b[0m\u001b[0msum\u001b[0m\u001b[0;34m)\u001b[0m\u001b[0;34m\u001b[0m\u001b[0m\n\u001b[1;32m     11\u001b[0m         \u001b[0;34m[\u001b[0m\u001b[0;34m'categories'\u001b[0m\u001b[0;34m]\u001b[0m\u001b[0;34m\u001b[0m\u001b[0m\n\u001b[0;32m---> 12\u001b[0;31m         \u001b[0;34m.\u001b[0m\u001b[0mapply\u001b[0m\u001b[0;34m(\u001b[0m\u001b[0mcategory_set\u001b[0m\u001b[0;34m)\u001b[0m\u001b[0;34m\u001b[0m\u001b[0m\n\u001b[0m\u001b[1;32m     13\u001b[0m     )\n\u001b[1;32m     14\u001b[0m \u001b[0;34m\u001b[0m\u001b[0m\n",
         "\u001b[0;32m~/anaconda3/lib/python3.6/site-packages/pandas/core/series.py\u001b[0m in \u001b[0;36mapply\u001b[0;34m(self, func, convert_dtype, args, **kwds)\u001b[0m\n\u001b[1;32m   3192\u001b[0m             \u001b[0;32melse\u001b[0m\u001b[0;34m:\u001b[0m\u001b[0;34m\u001b[0m\u001b[0m\n\u001b[1;32m   3193\u001b[0m                 \u001b[0mvalues\u001b[0m \u001b[0;34m=\u001b[0m \u001b[0mself\u001b[0m\u001b[0;34m.\u001b[0m\u001b[0mastype\u001b[0m\u001b[0;34m(\u001b[0m\u001b[0mobject\u001b[0m\u001b[0;34m)\u001b[0m\u001b[0;34m.\u001b[0m\u001b[0mvalues\u001b[0m\u001b[0;34m\u001b[0m\u001b[0m\n\u001b[0;32m-> 3194\u001b[0;31m                 \u001b[0mmapped\u001b[0m \u001b[0;34m=\u001b[0m \u001b[0mlib\u001b[0m\u001b[0;34m.\u001b[0m\u001b[0mmap_infer\u001b[0m\u001b[0;34m(\u001b[0m\u001b[0mvalues\u001b[0m\u001b[0;34m,\u001b[0m \u001b[0mf\u001b[0m\u001b[0;34m,\u001b[0m \u001b[0mconvert\u001b[0m\u001b[0;34m=\u001b[0m\u001b[0mconvert_dtype\u001b[0m\u001b[0;34m)\u001b[0m\u001b[0;34m\u001b[0m\u001b[0m\n\u001b[0m\u001b[1;32m   3195\u001b[0m \u001b[0;34m\u001b[0m\u001b[0m\n\u001b[1;32m   3196\u001b[0m         \u001b[0;32mif\u001b[0m \u001b[0mlen\u001b[0m\u001b[0;34m(\u001b[0m\u001b[0mmapped\u001b[0m\u001b[0;34m)\u001b[0m \u001b[0;32mand\u001b[0m \u001b[0misinstance\u001b[0m\u001b[0;34m(\u001b[0m\u001b[0mmapped\u001b[0m\u001b[0;34m[\u001b[0m\u001b[0;36m0\u001b[0m\u001b[0;34m]\u001b[0m\u001b[0;34m,\u001b[0m \u001b[0mSeries\u001b[0m\u001b[0;34m)\u001b[0m\u001b[0;34m:\u001b[0m\u001b[0;34m\u001b[0m\u001b[0m\n",
         "\u001b[0;32mpandas/_libs/src/inference.pyx\u001b[0m in \u001b[0;36mpandas._libs.lib.map_infer\u001b[0;34m()\u001b[0m\n",
         "\u001b[0;32m<ipython-input-129-051360dcff42>\u001b[0m in \u001b[0;36mcategory_set\u001b[0;34m(categories)\u001b[0m\n\u001b[1;32m      1\u001b[0m \u001b[0;32mdef\u001b[0m \u001b[0mcategory_set\u001b[0m\u001b[0;34m(\u001b[0m\u001b[0mcategories\u001b[0m\u001b[0;34m:\u001b[0m \u001b[0;34m'Series([list])'\u001b[0m\u001b[0;34m)\u001b[0m\u001b[0;34m:\u001b[0m\u001b[0;34m\u001b[0m\u001b[0m\n\u001b[0;32m----> 2\u001b[0;31m     \u001b[0;32mreturn\u001b[0m \u001b[0;34m{\u001b[0m\u001b[0mtuple\u001b[0m\u001b[0;34m(\u001b[0m\u001b[0mcategory\u001b[0m\u001b[0;34m)\u001b[0m \u001b[0;32mfor\u001b[0m \u001b[0mcategory\u001b[0m \u001b[0;32min\u001b[0m \u001b[0mcategories\u001b[0m\u001b[0;34m}\u001b[0m\u001b[0;34m\u001b[0m\u001b[0m\n\u001b[0m\u001b[1;32m      3\u001b[0m \u001b[0;34m\u001b[0m\u001b[0m\n\u001b[1;32m      4\u001b[0m \u001b[0;32mdef\u001b[0m \u001b[0mmake_category_map\u001b[0m\u001b[0;34m(\u001b[0m\u001b[0mdf\u001b[0m\u001b[0;34m,\u001b[0m \u001b[0mkey\u001b[0m\u001b[0;34m)\u001b[0m\u001b[0;34m:\u001b[0m\u001b[0;34m\u001b[0m\u001b[0m\n\u001b[1;32m      5\u001b[0m     return (\n",
         "\u001b[0;31mTypeError\u001b[0m: 'float' object is not iterable"
        ]
       },
       "metadata": {},
       "msg_type": "error",
       "version": "5.3"
      },
      "timestamp": "2018-11-16T22:30:32.460Z"
     },
     {
      "code": "def category_set(categories: 'Series([list])'):\n    return {tuple(category) for category in categories}\n\ndef make_category_map(df, key):\n    return (\n        df.merge(item_categories, left_on='itemID', right_index=True,\n                 how='left')\n        .loc[:, [key, 'categories']]\n        .groupby(key)\n        .agg(sum)\n        ['categories']\n#         .apply(category_set)\n    )\n\nuser_map = make_category_map(all_train, 'reviewerID')\nuser_map",
      "response": {
       "content": {
        "data": {
         "text/plain": "reviewerID\nU000005569    0.0\nU000024709    0.0\n             ... \nU999921889    0.0\nU999927096    0.0\nName: categories, Length: 39239, dtype: float64"
        },
        "execution_count": 130,
        "metadata": {}
       },
       "metadata": {},
       "msg_type": "execute_result",
       "version": "5.3"
      },
      "timestamp": "2018-11-16T22:30:42.052Z"
     },
     {
      "code": "def category_set(categories: 'Series([list])'):\n    return {tuple(category) for category in categories}\n\ndef make_category_map(df, key):\n    return (\n        df.merge(item_categories, left_on='itemID', right_index=True,\n                 how='left')\n        .loc[:, [key, 'categories']]\n        .groupby(key)\n        .agg(sum)\n        ['categories']\n#         .apply(category_set)\n    )\n\nuser_map = make_category_map(train, 'reviewerID')\nuser_map",
      "response": {
       "content": {
        "data": {
         "text/plain": "reviewerID\nU000005569    [[Clothing, Shoes & Jewelry, Women, Clothing, ...\nU000024709    [[Clothing, Shoes & Jewelry, Women, Clothing, ...\n                                    ...                        \nU999921889    [[Clothing, Shoes & Jewelry, Men, Clothing, Sh...\nU999927096    [[Clothing, Shoes & Jewelry, Women, Clothing, ...\nName: categories, Length: 36427, dtype: object"
        },
        "execution_count": 131,
        "metadata": {}
       },
       "metadata": {},
       "msg_type": "execute_result",
       "version": "5.3"
      },
      "timestamp": "2018-11-16T22:31:19.126Z"
     },
     {
      "code": "def category_set(categories: 'Series([list])'):\n    return {tuple(category) for category in categories}\n\ndef make_category_map(df, key):\n    return (\n        df.merge(item_categories, left_on='itemID', right_index=True,\n                 how='left')\n        .groupby(key)\n        ['categories']\n        .sum()\n        .apply(category_set)\n    )\n\nuser_map = make_category_map(train, 'reviewerID')\nuser_map",
      "response": {
       "content": {
        "data": {
         "text/plain": "reviewerID\nU000005569    {(Clothing, Shoes & Jewelry, Jewelry Outlet), ...\nU000024709    {(Clothing, Shoes & Jewelry, Women, Shoes, Boo...\n                                    ...                        \nU999921889    {(Clothing, Shoes & Jewelry, Men, Big & Tall),...\nU999927096    {(Clothing, Shoes & Jewelry, Women, Petite, Je...\nName: categories, Length: 36427, dtype: object"
        },
        "execution_count": 132,
        "metadata": {}
       },
       "metadata": {},
       "msg_type": "execute_result",
       "version": "5.3"
      },
      "timestamp": "2018-11-16T22:32:00.638Z"
     },
     {
      "code": "def category_set(categories: 'Series([list])'):\n    return {tuple(category) for category in categories}\n\ndef make_category_map(df, key):\n    return (\n        df.merge(item_categories, left_on='itemID', right_index=True,\n                 how='left')\n        .groupby(key)\n        ['categories']\n        .sum()\n        .apply(category_set)\n    )\n\nuser_map = make_category_map(train, 'reviewerID')\nuser_map",
      "response": {
       "content": {
        "data": {
         "text/plain": "reviewerID\nU000005569    {(Clothing, Shoes & Jewelry, Men, Accessories,...\nU000024709    {(Clothing, Shoes & Jewelry, Women, Shoes, Boo...\n                                    ...                        \nU999921889    {(Clothing, Shoes & Jewelry, Men, Accessories,...\nU999927096    {(Clothing, Shoes & Jewelry, Women, Clothing, ...\nName: categories, Length: 38427, dtype: object"
        },
        "execution_count": 151,
        "metadata": {}
       },
       "metadata": {},
       "msg_type": "execute_result",
       "version": "5.3"
      },
      "timestamp": "2018-11-16T22:44:22.826Z"
     },
     {
      "code": "def category_set(categories: 'Series([list])'):\n    return {tuple(category) for category in categories}\n\ndef make_category_map(df, key):\n    return (\n        df[df['reviewed'] == 1]\n        .merge(item_categories, left_on='itemID', right_index=True, how='left')\n        .groupby(key)\n        ['categories']\n        .sum()\n        .apply(category_set)\n    )\n\nuser_map = make_category_map(train, 'reviewerID')\nuser_map",
      "response": {
       "content": {
        "data": {
         "text/plain": "reviewerID\nU000005569    {(Clothing, Shoes & Jewelry, Jewelry Outlet), ...\nU000024709    {(Clothing, Shoes & Jewelry, Women, Shoes, Boo...\n                                    ...                        \nU999919996    {(Clothing, Shoes & Jewelry, Women, Jewelry, R...\nU999927096    {(Clothing, Shoes & Jewelry, Women, Clothing, ...\nName: categories, Length: 36447, dtype: object"
        },
        "execution_count": 160,
        "metadata": {}
       },
       "metadata": {},
       "msg_type": "execute_result",
       "version": "5.3"
      },
      "timestamp": "2018-11-16T22:47:42.577Z"
     }
    ]
   },
   "outputs": [
    {
     "data": {
      "text/plain": [
       "reviewerID\n",
       "U000005569    {(Clothing, Shoes & Jewelry, Jewelry Outlet), ...\n",
       "U000024709    {(Clothing, Shoes & Jewelry, Women, Shoes, Boo...\n",
       "                                    ...                        \n",
       "U999919996    {(Clothing, Shoes & Jewelry, Women, Jewelry, R...\n",
       "U999927096    {(Clothing, Shoes & Jewelry, Women, Clothing, ...\n",
       "Name: categories, Length: 36447, dtype: object"
      ]
     },
     "execution_count": 160,
     "metadata": {},
     "output_type": "execute_result"
    }
   ],
   "source": [
    "def category_set(categories: 'Series([list])'):\n",
    "    return {tuple(category) for category in categories}\n",
    "\n",
    "def make_category_map(df, key):\n",
    "    return (\n",
    "        df[df['reviewed'] == 1]\n",
    "        .merge(item_categories, left_on='itemID', right_index=True, how='left')\n",
    "        .groupby(key)\n",
    "        ['categories']\n",
    "        .sum()\n",
    "        .apply(category_set)\n",
    "    )\n",
    "\n",
    "user_map = make_category_map(train, 'reviewerID')\n",
    "user_map"
   ]
  },
  {
   "cell_type": "code",
   "execution_count": 161,
   "metadata": {
    "history": [
     {
      "code": "item_map = make_category_map(train, 'itemID')\nitem_map",
      "response": {
       "content": {
        "data": {
         "text/plain": "itemID\nI000024906    {(Clothing, Shoes & Jewelry, Women, Accessorie...\nI000030838    {(Clothing, Shoes & Jewelry, Men), (Clothing, ...\n                                    ...                        \nI999879552    {(Clothing, Shoes & Jewelry, Women, Shoes, San...\nI999917660    {(Clothing, Shoes & Jewelry, Women), (Clothing...\nName: categories, Length: 19381, dtype: object"
        },
        "execution_count": 133,
        "metadata": {}
       },
       "metadata": {},
       "msg_type": "execute_result",
       "version": "5.3"
      },
      "timestamp": "2018-11-16T22:32:38.340Z"
     },
     {
      "code": "item_map = make_category_map(train, 'itemID')\nitem_map",
      "response": {
       "content": {
        "data": {
         "text/plain": "itemID\nI000024906    {(Clothing, Shoes & Jewelry, Women, Accessorie...\nI000030838    {(Clothing, Shoes & Jewelry, Men), (Clothing, ...\n                                    ...                        \nI999879552    {(Clothing, Shoes & Jewelry, Women, Shoes, San...\nI999917660    {(Clothing, Shoes & Jewelry, Women), (Clothing...\nName: categories, Length: 19883, dtype: object"
        },
        "execution_count": 152,
        "metadata": {}
       },
       "metadata": {},
       "msg_type": "execute_result",
       "version": "5.3"
      },
      "timestamp": "2018-11-16T22:44:29.903Z"
     },
     {
      "code": "item_map = make_category_map(train, 'itemID')\nitem_map",
      "response": {
       "content": {
        "data": {
         "text/plain": "itemID\nI000024906    {(Clothing, Shoes & Jewelry, Women, Accessorie...\nI000030838    {(Clothing, Shoes & Jewelry, Men), (Clothing, ...\n                                    ...                        \nI999879552    {(Clothing, Shoes & Jewelry, Women, Shoes, San...\nI999917660    {(Clothing, Shoes & Jewelry, Women), (Clothing...\nName: categories, Length: 19414, dtype: object"
        },
        "execution_count": 161,
        "metadata": {}
       },
       "metadata": {},
       "msg_type": "execute_result",
       "version": "5.3"
      },
      "timestamp": "2018-11-16T22:47:55.495Z"
     }
    ]
   },
   "outputs": [
    {
     "data": {
      "text/plain": [
       "itemID\n",
       "I000024906    {(Clothing, Shoes & Jewelry, Women, Accessorie...\n",
       "I000030838    {(Clothing, Shoes & Jewelry, Men), (Clothing, ...\n",
       "                                    ...                        \n",
       "I999879552    {(Clothing, Shoes & Jewelry, Women, Shoes, San...\n",
       "I999917660    {(Clothing, Shoes & Jewelry, Women), (Clothing...\n",
       "Name: categories, Length: 19414, dtype: object"
      ]
     },
     "execution_count": 161,
     "metadata": {},
     "output_type": "execute_result"
    }
   ],
   "source": [
    "item_map = make_category_map(train, 'itemID')\n",
    "item_map"
   ]
  },
  {
   "cell_type": "code",
   "execution_count": 192,
   "metadata": {
    "history": [
     {
      "code": "def jaccard(reviewer_pair):\n    i1, i2 = to_items[list(reviewer_pair)]\n    return len(i1 & i2) / len(i1 | i2)\n\ndef get_neighbors(reviewer, sim=jaccard):\n    items = to_items[reviewer]\n    others = [(other, sim([reviewer, other]))\n              for item in items\n              for other in to_reviewers[item]]\n    return sorted([other for other in others if other[1] > 0],\n                  key=tz.get(1), reverse=True)\n\nto_items",
      "response": {
       "content": {
        "data": {
         "text/plain": "reviewerID\nU000005569                 {I012888581, I478276997, I892925682}\nU000024709    {I526472819, I289401985, I758394206, I17054949...\n                                    ...                        \nU999921889                             {I673200856, I981807126}\nU999927096                                         {I420969962}\nName: itemID, Length: 36427, dtype: object"
        },
        "execution_count": 12,
        "metadata": {}
       },
       "metadata": {},
       "msg_type": "execute_result",
       "version": "5.3"
      },
      "timestamp": "2018-11-16T19:59:20.416Z"
     },
     {
      "code": "def jaccard(reviewer_pair):\n    i1, i2 = to_items[list(reviewer_pair)]\n    return len(i1 & i2) / len(i1 | i2)\n\ndef get_neighbors(reviewer, sim=jaccard):\n    items = to_items[reviewer]\n    others = [(other, sim([reviewer, other]))\n              for item in items\n              for other in to_reviewers[item]]\n    return sorted([other for other in others if other[1] > 0],\n                  key=tz.get(1), reverse=True)\n\nget_neighbors(U000005569)",
      "response": {
       "content": {
        "ename": "NameError",
        "evalue": "name 'U000005569' is not defined",
        "traceback": [
         "\u001b[0;31m---------------------------------------------------------------------------\u001b[0m",
         "\u001b[0;31mNameError\u001b[0m                                 Traceback (most recent call last)",
         "\u001b[0;32m<ipython-input-13-7406aa1b82e4>\u001b[0m in \u001b[0;36m<module>\u001b[0;34m\u001b[0m\n\u001b[1;32m     11\u001b[0m                   key=tz.get(1), reverse=True)\n\u001b[1;32m     12\u001b[0m \u001b[0;34m\u001b[0m\u001b[0m\n\u001b[0;32m---> 13\u001b[0;31m \u001b[0mget_neighbors\u001b[0m\u001b[0;34m(\u001b[0m\u001b[0mU000005569\u001b[0m\u001b[0;34m)\u001b[0m\u001b[0;34m\u001b[0m\u001b[0m\n\u001b[0m",
         "\u001b[0;31mNameError\u001b[0m: name 'U000005569' is not defined"
        ]
       },
       "metadata": {},
       "msg_type": "error",
       "version": "5.3"
      },
      "timestamp": "2018-11-16T19:59:29.968Z"
     },
     {
      "code": "def jaccard(reviewer_pair):\n    i1, i2 = to_items[list(reviewer_pair)]\n    return len(i1 & i2) / len(i1 | i2)\n\ndef get_neighbors(reviewer, sim=jaccard):\n    items = to_items[reviewer]\n    others = [(other, sim([reviewer, other]))\n              for item in items\n              for other in to_reviewers[item]]\n    return sorted([other for other in others if other[1] > 0],\n                  key=tz.get(1), reverse=True)\n\nget_neighbors('U000005569')",
      "response": {
       "content": {
        "data": {
         "text/plain": "[('U000005569', 1.0),\n ('U000005569', 1.0),\n ('U000005569', 1.0),\n ('U281571987', 0.25),\n ('U226505591', 0.25),\n ('U491531907', 0.25),\n ('U489338367', 0.2),\n ('U063027015', 0.2),\n ('U358772025', 0.2),\n ('U421407240', 0.2),\n ('U329454722', 0.16666666666666666),\n ('U203583196', 0.16666666666666666),\n ('U125037406', 0.1)]"
        },
        "execution_count": 14,
        "metadata": {}
       },
       "metadata": {},
       "msg_type": "execute_result",
       "version": "5.3"
      },
      "timestamp": "2018-11-16T19:59:31.961Z"
     },
     {
      "code": "def jaccard(reviewer_pair):\n    i1, i2 = to_items[list(reviewer_pair)]\n    return len(i1 & i2) / len(i1 | i2)\n\ndef get_neighbors(reviewer, sim=jaccard):\n    items = to_items[reviewer]\n    others = [(other, sim([reviewer, other]))\n              for item in items\n              for other in to_reviewers[item]\n              if other != reviewer]\n    return sorted([other for other in others if other[1] > 0],\n                  key=tz.get(1), reverse=True)\n\nget_neighbors('U000005569')",
      "response": {
       "content": {
        "data": {
         "text/plain": "[('U281571987', 0.25),\n ('U226505591', 0.25),\n ('U491531907', 0.25),\n ('U489338367', 0.2),\n ('U063027015', 0.2),\n ('U358772025', 0.2),\n ('U421407240', 0.2),\n ('U329454722', 0.16666666666666666),\n ('U203583196', 0.16666666666666666),\n ('U125037406', 0.1)]"
        },
        "execution_count": 15,
        "metadata": {}
       },
       "metadata": {},
       "msg_type": "execute_result",
       "version": "5.3"
      },
      "timestamp": "2018-11-16T19:59:51.324Z"
     },
     {
      "code": "def jaccard(reviewer_pair):\n    i1, i2 = to_items[list(reviewer_pair)]\n    return len(i1 & i2) / len(i1 | i2)\n\ndef get_neighbors(reviewer, sim=jaccard):\n    items = to_items[reviewer]\n    others = [(other, sim([reviewer, other]))\n              for item in items\n              for other in to_reviewers[item]\n              if other != reviewer]\n    return sorted([other for other in others if other[1] > 0],\n                  key=tz.get(1), reverse=True)\n\nget_neighbors('U0000055690')",
      "response": {
       "content": {
        "ename": "KeyError",
        "evalue": "'U0000055690'",
        "traceback": [
         "\u001b[0;31m---------------------------------------------------------------------------\u001b[0m",
         "\u001b[0;31mTypeError\u001b[0m                                 Traceback (most recent call last)",
         "\u001b[0;32m~/anaconda3/lib/python3.6/site-packages/pandas/core/indexes/base.py\u001b[0m in \u001b[0;36mget_value\u001b[0;34m(self, series, key)\u001b[0m\n\u001b[1;32m   3123\u001b[0m             \u001b[0;32mtry\u001b[0m\u001b[0;34m:\u001b[0m\u001b[0;34m\u001b[0m\u001b[0m\n\u001b[0;32m-> 3124\u001b[0;31m                 \u001b[0;32mreturn\u001b[0m \u001b[0mlibindex\u001b[0m\u001b[0;34m.\u001b[0m\u001b[0mget_value_box\u001b[0m\u001b[0;34m(\u001b[0m\u001b[0ms\u001b[0m\u001b[0;34m,\u001b[0m \u001b[0mkey\u001b[0m\u001b[0;34m)\u001b[0m\u001b[0;34m\u001b[0m\u001b[0m\n\u001b[0m\u001b[1;32m   3125\u001b[0m             \u001b[0;32mexcept\u001b[0m \u001b[0mIndexError\u001b[0m\u001b[0;34m:\u001b[0m\u001b[0;34m\u001b[0m\u001b[0m\n",
         "\u001b[0;32mpandas/_libs/index.pyx\u001b[0m in \u001b[0;36mpandas._libs.index.get_value_box\u001b[0;34m()\u001b[0m\n",
         "\u001b[0;32mpandas/_libs/index.pyx\u001b[0m in \u001b[0;36mpandas._libs.index.get_value_box\u001b[0;34m()\u001b[0m\n",
         "\u001b[0;31mTypeError\u001b[0m: 'str' object cannot be interpreted as an integer",
         "\nDuring handling of the above exception, another exception occurred:\n",
         "\u001b[0;31mKeyError\u001b[0m                                  Traceback (most recent call last)",
         "\u001b[0;32m<ipython-input-16-12be3c0d1d15>\u001b[0m in \u001b[0;36m<module>\u001b[0;34m\u001b[0m\n\u001b[1;32m     12\u001b[0m                   key=tz.get(1), reverse=True)\n\u001b[1;32m     13\u001b[0m \u001b[0;34m\u001b[0m\u001b[0m\n\u001b[0;32m---> 14\u001b[0;31m \u001b[0mget_neighbors\u001b[0m\u001b[0;34m(\u001b[0m\u001b[0;34m'U0000055690'\u001b[0m\u001b[0;34m)\u001b[0m\u001b[0;34m\u001b[0m\u001b[0m\n\u001b[0m",
         "\u001b[0;32m<ipython-input-16-12be3c0d1d15>\u001b[0m in \u001b[0;36mget_neighbors\u001b[0;34m(reviewer, sim)\u001b[0m\n\u001b[1;32m      4\u001b[0m \u001b[0;34m\u001b[0m\u001b[0m\n\u001b[1;32m      5\u001b[0m \u001b[0;32mdef\u001b[0m \u001b[0mget_neighbors\u001b[0m\u001b[0;34m(\u001b[0m\u001b[0mreviewer\u001b[0m\u001b[0;34m,\u001b[0m \u001b[0msim\u001b[0m\u001b[0;34m=\u001b[0m\u001b[0mjaccard\u001b[0m\u001b[0;34m)\u001b[0m\u001b[0;34m:\u001b[0m\u001b[0;34m\u001b[0m\u001b[0m\n\u001b[0;32m----> 6\u001b[0;31m     \u001b[0mitems\u001b[0m \u001b[0;34m=\u001b[0m \u001b[0mto_items\u001b[0m\u001b[0;34m[\u001b[0m\u001b[0mreviewer\u001b[0m\u001b[0;34m]\u001b[0m\u001b[0;34m\u001b[0m\u001b[0m\n\u001b[0m\u001b[1;32m      7\u001b[0m     others = [(other, sim([reviewer, other]))\n\u001b[1;32m      8\u001b[0m               \u001b[0;32mfor\u001b[0m \u001b[0mitem\u001b[0m \u001b[0;32min\u001b[0m \u001b[0mitems\u001b[0m\u001b[0;34m\u001b[0m\u001b[0m\n",
         "\u001b[0;32m~/anaconda3/lib/python3.6/site-packages/pandas/core/series.py\u001b[0m in \u001b[0;36m__getitem__\u001b[0;34m(self, key)\u001b[0m\n\u001b[1;32m    765\u001b[0m         \u001b[0mkey\u001b[0m \u001b[0;34m=\u001b[0m \u001b[0mcom\u001b[0m\u001b[0;34m.\u001b[0m\u001b[0m_apply_if_callable\u001b[0m\u001b[0;34m(\u001b[0m\u001b[0mkey\u001b[0m\u001b[0;34m,\u001b[0m \u001b[0mself\u001b[0m\u001b[0;34m)\u001b[0m\u001b[0;34m\u001b[0m\u001b[0m\n\u001b[1;32m    766\u001b[0m         \u001b[0;32mtry\u001b[0m\u001b[0;34m:\u001b[0m\u001b[0;34m\u001b[0m\u001b[0m\n\u001b[0;32m--> 767\u001b[0;31m             \u001b[0mresult\u001b[0m \u001b[0;34m=\u001b[0m \u001b[0mself\u001b[0m\u001b[0;34m.\u001b[0m\u001b[0mindex\u001b[0m\u001b[0;34m.\u001b[0m\u001b[0mget_value\u001b[0m\u001b[0;34m(\u001b[0m\u001b[0mself\u001b[0m\u001b[0;34m,\u001b[0m \u001b[0mkey\u001b[0m\u001b[0;34m)\u001b[0m\u001b[0;34m\u001b[0m\u001b[0m\n\u001b[0m\u001b[1;32m    768\u001b[0m \u001b[0;34m\u001b[0m\u001b[0m\n\u001b[1;32m    769\u001b[0m             \u001b[0;32mif\u001b[0m \u001b[0;32mnot\u001b[0m \u001b[0mis_scalar\u001b[0m\u001b[0;34m(\u001b[0m\u001b[0mresult\u001b[0m\u001b[0;34m)\u001b[0m\u001b[0;34m:\u001b[0m\u001b[0;34m\u001b[0m\u001b[0m\n",
         "\u001b[0;32m~/anaconda3/lib/python3.6/site-packages/pandas/core/indexes/base.py\u001b[0m in \u001b[0;36mget_value\u001b[0;34m(self, series, key)\u001b[0m\n\u001b[1;32m   3130\u001b[0m                     \u001b[0;32mraise\u001b[0m \u001b[0mInvalidIndexError\u001b[0m\u001b[0;34m(\u001b[0m\u001b[0mkey\u001b[0m\u001b[0;34m)\u001b[0m\u001b[0;34m\u001b[0m\u001b[0m\n\u001b[1;32m   3131\u001b[0m                 \u001b[0;32melse\u001b[0m\u001b[0;34m:\u001b[0m\u001b[0;34m\u001b[0m\u001b[0m\n\u001b[0;32m-> 3132\u001b[0;31m                     \u001b[0;32mraise\u001b[0m \u001b[0me1\u001b[0m\u001b[0;34m\u001b[0m\u001b[0m\n\u001b[0m\u001b[1;32m   3133\u001b[0m             \u001b[0;32mexcept\u001b[0m \u001b[0mException\u001b[0m\u001b[0;34m:\u001b[0m  \u001b[0;31m# pragma: no cover\u001b[0m\u001b[0;34m\u001b[0m\u001b[0m\n\u001b[1;32m   3134\u001b[0m                 \u001b[0;32mraise\u001b[0m \u001b[0me1\u001b[0m\u001b[0;34m\u001b[0m\u001b[0m\n",
         "\u001b[0;32m~/anaconda3/lib/python3.6/site-packages/pandas/core/indexes/base.py\u001b[0m in \u001b[0;36mget_value\u001b[0;34m(self, series, key)\u001b[0m\n\u001b[1;32m   3116\u001b[0m         \u001b[0;32mtry\u001b[0m\u001b[0;34m:\u001b[0m\u001b[0;34m\u001b[0m\u001b[0m\n\u001b[1;32m   3117\u001b[0m             return self._engine.get_value(s, k,\n\u001b[0;32m-> 3118\u001b[0;31m                                           tz=getattr(series.dtype, 'tz', None))\n\u001b[0m\u001b[1;32m   3119\u001b[0m         \u001b[0;32mexcept\u001b[0m \u001b[0mKeyError\u001b[0m \u001b[0;32mas\u001b[0m \u001b[0me1\u001b[0m\u001b[0;34m:\u001b[0m\u001b[0;34m\u001b[0m\u001b[0m\n\u001b[1;32m   3120\u001b[0m             \u001b[0;32mif\u001b[0m \u001b[0mlen\u001b[0m\u001b[0;34m(\u001b[0m\u001b[0mself\u001b[0m\u001b[0;34m)\u001b[0m \u001b[0;34m>\u001b[0m \u001b[0;36m0\u001b[0m \u001b[0;32mand\u001b[0m \u001b[0mself\u001b[0m\u001b[0;34m.\u001b[0m\u001b[0minferred_type\u001b[0m \u001b[0;32min\u001b[0m \u001b[0;34m[\u001b[0m\u001b[0;34m'integer'\u001b[0m\u001b[0;34m,\u001b[0m \u001b[0;34m'boolean'\u001b[0m\u001b[0;34m]\u001b[0m\u001b[0;34m:\u001b[0m\u001b[0;34m\u001b[0m\u001b[0m\n",
         "\u001b[0;32mpandas/_libs/index.pyx\u001b[0m in \u001b[0;36mpandas._libs.index.IndexEngine.get_value\u001b[0;34m()\u001b[0m\n",
         "\u001b[0;32mpandas/_libs/index.pyx\u001b[0m in \u001b[0;36mpandas._libs.index.IndexEngine.get_value\u001b[0;34m()\u001b[0m\n",
         "\u001b[0;32mpandas/_libs/index.pyx\u001b[0m in \u001b[0;36mpandas._libs.index.IndexEngine.get_loc\u001b[0;34m()\u001b[0m\n",
         "\u001b[0;32mpandas/_libs/hashtable_class_helper.pxi\u001b[0m in \u001b[0;36mpandas._libs.hashtable.PyObjectHashTable.get_item\u001b[0;34m()\u001b[0m\n",
         "\u001b[0;32mpandas/_libs/hashtable_class_helper.pxi\u001b[0m in \u001b[0;36mpandas._libs.hashtable.PyObjectHashTable.get_item\u001b[0;34m()\u001b[0m\n",
         "\u001b[0;31mKeyError\u001b[0m: 'U0000055690'"
        ]
       },
       "metadata": {},
       "msg_type": "error",
       "version": "5.3"
      },
      "timestamp": "2018-11-16T20:01:40.682Z"
     },
     {
      "code": "def jaccard(reviewer_pair):\n    i1, i2 = to_items[list(reviewer_pair)]\n    return len(i1 & i2) / len(i1 | i2)\n\ndef get_neighbors(reviewer, sim=jaccard):\n    if reviewer not in to_items:\n        return []\n    items = to_items[reviewer]\n    others = [(other, sim([reviewer, other]))\n              for item in items\n              for other in to_reviewers[item]\n              if other != reviewer]\n    return sorted([other for other in others if other[1] > 0],\n                  key=tz.get(1), reverse=True)\n\nget_neighbors('U0000055690')",
      "response": {
       "content": {
        "data": {
         "text/plain": "[]"
        },
        "execution_count": 17,
        "metadata": {}
       },
       "metadata": {},
       "msg_type": "execute_result",
       "version": "5.3"
      },
      "timestamp": "2018-11-16T20:01:57.511Z"
     },
     {
      "code": "def jaccard(reviewer_pair):\n    i1, i2 = to_items[list(reviewer_pair)]\n    return len(i1 & i2) / len(i1 | i2)\n\ndef get_neighbors(reviewer, sim=jaccard):\n    if reviewer not in to_items:\n        return []\n\n    items = to_items[reviewer]\n    others = [(other, sim([reviewer, other]))\n              for item in items\n              if item in to_reviewers\n              for other in to_reviewers[item]\n              if other != reviewer]\n    return sorted([other for other in others if other[1] > 0],\n                  key=tz.get(1), reverse=True)\n\nget_neighbors('U0000055690')",
      "response": {
       "content": {
        "data": {
         "text/plain": "[]"
        },
        "execution_count": 18,
        "metadata": {}
       },
       "metadata": {},
       "msg_type": "execute_result",
       "version": "5.3"
      },
      "timestamp": "2018-11-16T20:02:22.251Z"
     },
     {
      "code": "def jaccard(reviewer_pair):\n    i1, i2 = to_items[list(reviewer_pair)]\n    return len(i1 & i2) / len(i1 | i2)\n\ndef get_neighbors(reviewer, sim=jaccard):\n    if reviewer not in to_items:\n        return []\n\n    items = to_items[reviewer]\n    others = [(other, sim([reviewer, other]))\n              for item in items\n              if item in to_reviewers\n              for other in to_reviewers[item]\n              if other != reviewer]\n    return sorted([other for other in others if other[1] > 0],\n                  key=tz.get(1), reverse=True)\n\nget_neighbors('U000005569')",
      "response": {
       "content": {
        "data": {
         "text/plain": "[('U281571987', 0.25),\n ('U226505591', 0.25),\n ('U491531907', 0.25),\n ('U489338367', 0.2),\n ('U063027015', 0.2),\n ('U358772025', 0.2),\n ('U421407240', 0.2),\n ('U329454722', 0.16666666666666666),\n ('U203583196', 0.16666666666666666),\n ('U125037406', 0.1)]"
        },
        "execution_count": 19,
        "metadata": {}
       },
       "metadata": {},
       "msg_type": "execute_result",
       "version": "5.3"
      },
      "timestamp": "2018-11-16T20:02:24.553Z"
     },
     {
      "code": "def jaccard(reviewer_pair, to_items=to_items):\n    i1, i2 = to_items[list(reviewer_pair)]\n    return len(i1 & i2) / len(i1 | i2)\n\ndef get_neighbors(reviewer, sim=jaccard,\n                  to_reviewers=to_reviewers, to_items=to_items):\n    if reviewer not in to_items:\n        return []\n\n    items = to_items[reviewer]\n    others = [(other, sim([reviewer, other]))\n              for item in items\n              if item in to_reviewers\n              for other in to_reviewers[item]\n              if other != reviewer]\n    return sorted([other for other in others if other[1] > 0],\n                  key=tz.get(1), reverse=True)\n\nget_neighbors('U000005569')",
      "response": {
       "content": {
        "data": {
         "text/plain": "[('U281571987', 0.25),\n ('U226505591', 0.25),\n ('U491531907', 0.25),\n ('U489338367', 0.2),\n ('U063027015', 0.2),\n ('U358772025', 0.2),\n ('U421407240', 0.2),\n ('U329454722', 0.16666666666666666),\n ('U203583196', 0.16666666666666666),\n ('U125037406', 0.1)]"
        },
        "execution_count": 24,
        "metadata": {}
       },
       "metadata": {},
       "msg_type": "execute_result",
       "version": "5.3"
      },
      "timestamp": "2018-11-16T20:11:01.424Z"
     },
     {
      "code": "def jaccard(reviewer_pair, to_items=to_items):\n    i1, i2 = to_items[list(reviewer_pair)]\n    return len(i1 & i2) / len(i1 | i2)\n\ndef get_neighbors(reviewer, sim=jaccard,\n                  to_items=to_items, to_reviewers=to_reviewers):\n    if reviewer not in to_items:\n        return []\n\n    items = to_items[reviewer]\n    others = [(other, sim([reviewer, other]))\n              for item in items\n              if item in to_reviewers\n              for other in to_reviewers[item]\n              if other != reviewer]\n    return sorted([other for other in others if other[1] > 0],\n                  key=tz.get(1), reverse=True)\n\nget_neighbors('U000005569')",
      "response": {
       "content": {
        "data": {
         "text/plain": "[('U281571987', 0.25),\n ('U226505591', 0.25),\n ('U491531907', 0.25),\n ('U489338367', 0.2),\n ('U063027015', 0.2),\n ('U358772025', 0.2),\n ('U421407240', 0.2),\n ('U329454722', 0.16666666666666666),\n ('U203583196', 0.16666666666666666),\n ('U125037406', 0.1)]"
        },
        "execution_count": 47,
        "metadata": {}
       },
       "metadata": {},
       "msg_type": "execute_result",
       "version": "5.3"
      },
      "timestamp": "2018-11-16T20:19:57.410Z"
     },
     {
      "code": "def jaccard(reviewer_pair, to_items=to_items):\n    i1, i2 = to_items[list(reviewer_pair)]\n    return len(i1 & i2) / len(i1 | i2)\n\ndef get_neighbors(reviewer, sim=jaccard,\n                  to_items=to_items, to_reviewers=to_reviewers):\n    if reviewer not in to_items:\n        return []\n\n    items = to_items[reviewer]\n    others = {(other, sim([reviewer, other]))\n              for item in items\n              if item in to_reviewers\n              for other in to_reviewers[item]}\n    return sorted([other for other in others if other[1] > 0],\n                  key=tz.get(1), reverse=True)\n\nget_neighbors('U000005569')",
      "response": {
       "content": {
        "data": {
         "text/plain": "[('U000005569', 1.0),\n ('U226505591', 0.25),\n ('U281571987', 0.25),\n ('U491531907', 0.25),\n ('U489338367', 0.2),\n ('U358772025', 0.2),\n ('U063027015', 0.2),\n ('U421407240', 0.2),\n ('U203583196', 0.16666666666666666),\n ('U329454722', 0.16666666666666666),\n ('U125037406', 0.1)]"
        },
        "execution_count": 60,
        "metadata": {}
       },
       "metadata": {},
       "msg_type": "execute_result",
       "version": "5.3"
      },
      "timestamp": "2018-11-16T20:26:22.548Z"
     },
     {
      "code": "def jaccard(reviewer_pair, to_items=to_items):\n    i1 = to_items[reviewer_pair[0]]\n    i2 = to_items[reviewer_pair[1]]\n    return len(i1 & i2) / len(i1 | i2)\n\ndef get_neighbors(reviewer, sim=jaccard,\n                  to_items=to_items, to_reviewers=to_reviewers):\n    if reviewer not in to_items:\n        return []\n\n    items = to_items[reviewer]\n    others = {(other, sim([reviewer, other]))\n              for item in items\n              if item in to_reviewers\n              for other in to_reviewers[item]}\n    return sorted([other for other in others if other[1] > 0],\n                  key=tz.get(1), reverse=True)\n\nget_neighbors('U000005569')",
      "response": {
       "content": {
        "data": {
         "text/plain": "[('U000005569', 1.0),\n ('U226505591', 0.25),\n ('U281571987', 0.25),\n ('U491531907', 0.25),\n ('U489338367', 0.2),\n ('U358772025', 0.2),\n ('U063027015', 0.2),\n ('U421407240', 0.2),\n ('U203583196', 0.16666666666666666),\n ('U329454722', 0.16666666666666666),\n ('U125037406', 0.1)]"
        },
        "execution_count": 78,
        "metadata": {}
       },
       "metadata": {},
       "msg_type": "execute_result",
       "version": "5.3"
      },
      "timestamp": "2018-11-16T20:36:51.177Z"
     },
     {
      "code": "from itertools import product\n\ndef jaccard(s1, s2):\n    s1, s2 = set(s1), set(s2)\n    return len(s1 & s2) / len(s1 | s2)\n\ndef max_pairwise_jaccard(sets1, sets2):\n    pairs = product(sets1, sets2)\n    return max(jaccard(*pair) for pair in pairs)\n\ntrain[0]",
      "response": {
       "content": {
        "ename": "KeyError",
        "evalue": "0",
        "traceback": [
         "\u001b[0;31m---------------------------------------------------------------------------\u001b[0m",
         "\u001b[0;31mKeyError\u001b[0m                                  Traceback (most recent call last)",
         "\u001b[0;32m~/anaconda3/lib/python3.6/site-packages/pandas/core/indexes/base.py\u001b[0m in \u001b[0;36mget_loc\u001b[0;34m(self, key, method, tolerance)\u001b[0m\n\u001b[1;32m   3077\u001b[0m             \u001b[0;32mtry\u001b[0m\u001b[0;34m:\u001b[0m\u001b[0;34m\u001b[0m\u001b[0m\n\u001b[0;32m-> 3078\u001b[0;31m                 \u001b[0;32mreturn\u001b[0m \u001b[0mself\u001b[0m\u001b[0;34m.\u001b[0m\u001b[0m_engine\u001b[0m\u001b[0;34m.\u001b[0m\u001b[0mget_loc\u001b[0m\u001b[0;34m(\u001b[0m\u001b[0mkey\u001b[0m\u001b[0;34m)\u001b[0m\u001b[0;34m\u001b[0m\u001b[0m\n\u001b[0m\u001b[1;32m   3079\u001b[0m             \u001b[0;32mexcept\u001b[0m \u001b[0mKeyError\u001b[0m\u001b[0;34m:\u001b[0m\u001b[0;34m\u001b[0m\u001b[0m\n",
         "\u001b[0;32mpandas/_libs/index.pyx\u001b[0m in \u001b[0;36mpandas._libs.index.IndexEngine.get_loc\u001b[0;34m()\u001b[0m\n",
         "\u001b[0;32mpandas/_libs/index.pyx\u001b[0m in \u001b[0;36mpandas._libs.index.IndexEngine.get_loc\u001b[0;34m()\u001b[0m\n",
         "\u001b[0;32mpandas/_libs/hashtable_class_helper.pxi\u001b[0m in \u001b[0;36mpandas._libs.hashtable.PyObjectHashTable.get_item\u001b[0;34m()\u001b[0m\n",
         "\u001b[0;32mpandas/_libs/hashtable_class_helper.pxi\u001b[0m in \u001b[0;36mpandas._libs.hashtable.PyObjectHashTable.get_item\u001b[0;34m()\u001b[0m\n",
         "\u001b[0;31mKeyError\u001b[0m: 0",
         "\nDuring handling of the above exception, another exception occurred:\n",
         "\u001b[0;31mKeyError\u001b[0m                                  Traceback (most recent call last)",
         "\u001b[0;32m<ipython-input-134-67a0109fd80a>\u001b[0m in \u001b[0;36m<module>\u001b[0;34m\u001b[0m\n\u001b[1;32m      9\u001b[0m     \u001b[0;32mreturn\u001b[0m \u001b[0mmax\u001b[0m\u001b[0;34m(\u001b[0m\u001b[0mjaccard\u001b[0m\u001b[0;34m(\u001b[0m\u001b[0;34m*\u001b[0m\u001b[0mpair\u001b[0m\u001b[0;34m)\u001b[0m \u001b[0;32mfor\u001b[0m \u001b[0mpair\u001b[0m \u001b[0;32min\u001b[0m \u001b[0mpairs\u001b[0m\u001b[0;34m)\u001b[0m\u001b[0;34m\u001b[0m\u001b[0m\n\u001b[1;32m     10\u001b[0m \u001b[0;34m\u001b[0m\u001b[0m\n\u001b[0;32m---> 11\u001b[0;31m \u001b[0mtrain\u001b[0m\u001b[0;34m[\u001b[0m\u001b[0;36m0\u001b[0m\u001b[0;34m]\u001b[0m\u001b[0;34m\u001b[0m\u001b[0m\n\u001b[0m",
         "\u001b[0;32m~/anaconda3/lib/python3.6/site-packages/pandas/core/frame.py\u001b[0m in \u001b[0;36m__getitem__\u001b[0;34m(self, key)\u001b[0m\n\u001b[1;32m   2686\u001b[0m             \u001b[0;32mreturn\u001b[0m \u001b[0mself\u001b[0m\u001b[0;34m.\u001b[0m\u001b[0m_getitem_multilevel\u001b[0m\u001b[0;34m(\u001b[0m\u001b[0mkey\u001b[0m\u001b[0;34m)\u001b[0m\u001b[0;34m\u001b[0m\u001b[0m\n\u001b[1;32m   2687\u001b[0m         \u001b[0;32melse\u001b[0m\u001b[0;34m:\u001b[0m\u001b[0;34m\u001b[0m\u001b[0m\n\u001b[0;32m-> 2688\u001b[0;31m             \u001b[0;32mreturn\u001b[0m \u001b[0mself\u001b[0m\u001b[0;34m.\u001b[0m\u001b[0m_getitem_column\u001b[0m\u001b[0;34m(\u001b[0m\u001b[0mkey\u001b[0m\u001b[0;34m)\u001b[0m\u001b[0;34m\u001b[0m\u001b[0m\n\u001b[0m\u001b[1;32m   2689\u001b[0m \u001b[0;34m\u001b[0m\u001b[0m\n\u001b[1;32m   2690\u001b[0m     \u001b[0;32mdef\u001b[0m \u001b[0m_getitem_column\u001b[0m\u001b[0;34m(\u001b[0m\u001b[0mself\u001b[0m\u001b[0;34m,\u001b[0m \u001b[0mkey\u001b[0m\u001b[0;34m)\u001b[0m\u001b[0;34m:\u001b[0m\u001b[0;34m\u001b[0m\u001b[0m\n",
         "\u001b[0;32m~/anaconda3/lib/python3.6/site-packages/pandas/core/frame.py\u001b[0m in \u001b[0;36m_getitem_column\u001b[0;34m(self, key)\u001b[0m\n\u001b[1;32m   2693\u001b[0m         \u001b[0;31m# get column\u001b[0m\u001b[0;34m\u001b[0m\u001b[0;34m\u001b[0m\u001b[0m\n\u001b[1;32m   2694\u001b[0m         \u001b[0;32mif\u001b[0m \u001b[0mself\u001b[0m\u001b[0;34m.\u001b[0m\u001b[0mcolumns\u001b[0m\u001b[0;34m.\u001b[0m\u001b[0mis_unique\u001b[0m\u001b[0;34m:\u001b[0m\u001b[0;34m\u001b[0m\u001b[0m\n\u001b[0;32m-> 2695\u001b[0;31m             \u001b[0;32mreturn\u001b[0m \u001b[0mself\u001b[0m\u001b[0;34m.\u001b[0m\u001b[0m_get_item_cache\u001b[0m\u001b[0;34m(\u001b[0m\u001b[0mkey\u001b[0m\u001b[0;34m)\u001b[0m\u001b[0;34m\u001b[0m\u001b[0m\n\u001b[0m\u001b[1;32m   2696\u001b[0m \u001b[0;34m\u001b[0m\u001b[0m\n\u001b[1;32m   2697\u001b[0m         \u001b[0;31m# duplicate columns & possible reduce dimensionality\u001b[0m\u001b[0;34m\u001b[0m\u001b[0;34m\u001b[0m\u001b[0m\n",
         "\u001b[0;32m~/anaconda3/lib/python3.6/site-packages/pandas/core/generic.py\u001b[0m in \u001b[0;36m_get_item_cache\u001b[0;34m(self, item)\u001b[0m\n\u001b[1;32m   2487\u001b[0m         \u001b[0mres\u001b[0m \u001b[0;34m=\u001b[0m \u001b[0mcache\u001b[0m\u001b[0;34m.\u001b[0m\u001b[0mget\u001b[0m\u001b[0;34m(\u001b[0m\u001b[0mitem\u001b[0m\u001b[0;34m)\u001b[0m\u001b[0;34m\u001b[0m\u001b[0m\n\u001b[1;32m   2488\u001b[0m         \u001b[0;32mif\u001b[0m \u001b[0mres\u001b[0m \u001b[0;32mis\u001b[0m \u001b[0;32mNone\u001b[0m\u001b[0;34m:\u001b[0m\u001b[0;34m\u001b[0m\u001b[0m\n\u001b[0;32m-> 2489\u001b[0;31m             \u001b[0mvalues\u001b[0m \u001b[0;34m=\u001b[0m \u001b[0mself\u001b[0m\u001b[0;34m.\u001b[0m\u001b[0m_data\u001b[0m\u001b[0;34m.\u001b[0m\u001b[0mget\u001b[0m\u001b[0;34m(\u001b[0m\u001b[0mitem\u001b[0m\u001b[0;34m)\u001b[0m\u001b[0;34m\u001b[0m\u001b[0m\n\u001b[0m\u001b[1;32m   2490\u001b[0m             \u001b[0mres\u001b[0m \u001b[0;34m=\u001b[0m \u001b[0mself\u001b[0m\u001b[0;34m.\u001b[0m\u001b[0m_box_item_values\u001b[0m\u001b[0;34m(\u001b[0m\u001b[0mitem\u001b[0m\u001b[0;34m,\u001b[0m \u001b[0mvalues\u001b[0m\u001b[0;34m)\u001b[0m\u001b[0;34m\u001b[0m\u001b[0m\n\u001b[1;32m   2491\u001b[0m             \u001b[0mcache\u001b[0m\u001b[0;34m[\u001b[0m\u001b[0mitem\u001b[0m\u001b[0;34m]\u001b[0m \u001b[0;34m=\u001b[0m \u001b[0mres\u001b[0m\u001b[0;34m\u001b[0m\u001b[0m\n",
         "\u001b[0;32m~/anaconda3/lib/python3.6/site-packages/pandas/core/internals.py\u001b[0m in \u001b[0;36mget\u001b[0;34m(self, item, fastpath)\u001b[0m\n\u001b[1;32m   4113\u001b[0m \u001b[0;34m\u001b[0m\u001b[0m\n\u001b[1;32m   4114\u001b[0m             \u001b[0;32mif\u001b[0m \u001b[0;32mnot\u001b[0m \u001b[0misna\u001b[0m\u001b[0;34m(\u001b[0m\u001b[0mitem\u001b[0m\u001b[0;34m)\u001b[0m\u001b[0;34m:\u001b[0m\u001b[0;34m\u001b[0m\u001b[0m\n\u001b[0;32m-> 4115\u001b[0;31m                 \u001b[0mloc\u001b[0m \u001b[0;34m=\u001b[0m \u001b[0mself\u001b[0m\u001b[0;34m.\u001b[0m\u001b[0mitems\u001b[0m\u001b[0;34m.\u001b[0m\u001b[0mget_loc\u001b[0m\u001b[0;34m(\u001b[0m\u001b[0mitem\u001b[0m\u001b[0;34m)\u001b[0m\u001b[0;34m\u001b[0m\u001b[0m\n\u001b[0m\u001b[1;32m   4116\u001b[0m             \u001b[0;32melse\u001b[0m\u001b[0;34m:\u001b[0m\u001b[0;34m\u001b[0m\u001b[0m\n\u001b[1;32m   4117\u001b[0m                 \u001b[0mindexer\u001b[0m \u001b[0;34m=\u001b[0m \u001b[0mnp\u001b[0m\u001b[0;34m.\u001b[0m\u001b[0marange\u001b[0m\u001b[0;34m(\u001b[0m\u001b[0mlen\u001b[0m\u001b[0;34m(\u001b[0m\u001b[0mself\u001b[0m\u001b[0;34m.\u001b[0m\u001b[0mitems\u001b[0m\u001b[0;34m)\u001b[0m\u001b[0;34m)\u001b[0m\u001b[0;34m[\u001b[0m\u001b[0misna\u001b[0m\u001b[0;34m(\u001b[0m\u001b[0mself\u001b[0m\u001b[0;34m.\u001b[0m\u001b[0mitems\u001b[0m\u001b[0;34m)\u001b[0m\u001b[0;34m]\u001b[0m\u001b[0;34m\u001b[0m\u001b[0m\n",
         "\u001b[0;32m~/anaconda3/lib/python3.6/site-packages/pandas/core/indexes/base.py\u001b[0m in \u001b[0;36mget_loc\u001b[0;34m(self, key, method, tolerance)\u001b[0m\n\u001b[1;32m   3078\u001b[0m                 \u001b[0;32mreturn\u001b[0m \u001b[0mself\u001b[0m\u001b[0;34m.\u001b[0m\u001b[0m_engine\u001b[0m\u001b[0;34m.\u001b[0m\u001b[0mget_loc\u001b[0m\u001b[0;34m(\u001b[0m\u001b[0mkey\u001b[0m\u001b[0;34m)\u001b[0m\u001b[0;34m\u001b[0m\u001b[0m\n\u001b[1;32m   3079\u001b[0m             \u001b[0;32mexcept\u001b[0m \u001b[0mKeyError\u001b[0m\u001b[0;34m:\u001b[0m\u001b[0;34m\u001b[0m\u001b[0m\n\u001b[0;32m-> 3080\u001b[0;31m                 \u001b[0;32mreturn\u001b[0m \u001b[0mself\u001b[0m\u001b[0;34m.\u001b[0m\u001b[0m_engine\u001b[0m\u001b[0;34m.\u001b[0m\u001b[0mget_loc\u001b[0m\u001b[0;34m(\u001b[0m\u001b[0mself\u001b[0m\u001b[0;34m.\u001b[0m\u001b[0m_maybe_cast_indexer\u001b[0m\u001b[0;34m(\u001b[0m\u001b[0mkey\u001b[0m\u001b[0;34m)\u001b[0m\u001b[0;34m)\u001b[0m\u001b[0;34m\u001b[0m\u001b[0m\n\u001b[0m\u001b[1;32m   3081\u001b[0m \u001b[0;34m\u001b[0m\u001b[0m\n\u001b[1;32m   3082\u001b[0m         \u001b[0mindexer\u001b[0m \u001b[0;34m=\u001b[0m \u001b[0mself\u001b[0m\u001b[0;34m.\u001b[0m\u001b[0mget_indexer\u001b[0m\u001b[0;34m(\u001b[0m\u001b[0;34m[\u001b[0m\u001b[0mkey\u001b[0m\u001b[0;34m]\u001b[0m\u001b[0;34m,\u001b[0m \u001b[0mmethod\u001b[0m\u001b[0;34m=\u001b[0m\u001b[0mmethod\u001b[0m\u001b[0;34m,\u001b[0m \u001b[0mtolerance\u001b[0m\u001b[0;34m=\u001b[0m\u001b[0mtolerance\u001b[0m\u001b[0;34m)\u001b[0m\u001b[0;34m\u001b[0m\u001b[0m\n",
         "\u001b[0;32mpandas/_libs/index.pyx\u001b[0m in \u001b[0;36mpandas._libs.index.IndexEngine.get_loc\u001b[0;34m()\u001b[0m\n",
         "\u001b[0;32mpandas/_libs/index.pyx\u001b[0m in \u001b[0;36mpandas._libs.index.IndexEngine.get_loc\u001b[0;34m()\u001b[0m\n",
         "\u001b[0;32mpandas/_libs/hashtable_class_helper.pxi\u001b[0m in \u001b[0;36mpandas._libs.hashtable.PyObjectHashTable.get_item\u001b[0;34m()\u001b[0m\n",
         "\u001b[0;32mpandas/_libs/hashtable_class_helper.pxi\u001b[0m in \u001b[0;36mpandas._libs.hashtable.PyObjectHashTable.get_item\u001b[0;34m()\u001b[0m\n",
         "\u001b[0;31mKeyError\u001b[0m: 0"
        ]
       },
       "metadata": {},
       "msg_type": "error",
       "version": "5.3"
      },
      "timestamp": "2018-11-16T22:36:11.350Z"
     },
     {
      "code": "from itertools import product\n\ndef jaccard(s1, s2):\n    s1, s2 = set(s1), set(s2)\n    return len(s1 & s2) / len(s1 | s2)\n\ndef max_pairwise_jaccard(sets1, sets2):\n    pairs = product(sets1, sets2)\n    return max(jaccard(*pair) for pair in pairs)\n\ntrain[:1]",
      "response": {
       "content": {
        "data": {
         "text/html": "<div>\n<style scoped>\n    .dataframe tbody tr th:only-of-type {\n        vertical-align: middle;\n    }\n\n    .dataframe tbody tr th {\n        vertical-align: top;\n    }\n\n    .dataframe thead th {\n        text-align: right;\n    }\n</style>\n<table border=\"1\" class=\"dataframe\">\n  <thead>\n    <tr style=\"text-align: right;\">\n      <th></th>\n      <th>reviewerID</th>\n      <th>itemID</th>\n      <th>reviewed</th>\n    </tr>\n  </thead>\n  <tbody>\n    <tr>\n      <th>0</th>\n      <td>U490934656</td>\n      <td>I402344648</td>\n      <td>1</td>\n    </tr>\n  </tbody>\n</table>\n</div>",
         "text/plain": "   reviewerID      itemID  reviewed\n0  U490934656  I402344648         1"
        },
        "execution_count": 135,
        "metadata": {}
       },
       "metadata": {},
       "msg_type": "execute_result",
       "version": "5.3"
      },
      "timestamp": "2018-11-16T22:36:16.970Z"
     },
     {
      "code": "from itertools import product\n\ndef jaccard(s1, s2):\n    s1, s2 = set(s1), set(s2)\n    return len(s1 & s2) / len(s1 | s2)\n\ndef max_pairwise_jaccard(sets1, sets2):\n    pairs = product(sets1, sets2)\n    return max(jaccard(*pair) for pair in pairs)\n\nmax_pairwise_jaccard(user_map['U490934656'], item_map['I402344648'])",
      "response": {
       "content": {
        "data": {
         "text/plain": "1.0"
        },
        "execution_count": 136,
        "metadata": {}
       },
       "metadata": {},
       "msg_type": "execute_result",
       "version": "5.3"
      },
      "timestamp": "2018-11-16T22:36:44.344Z"
     },
     {
      "code": "from itertools import product\n\ndef jaccard(s1, s2):\n    s1, s2 = set(s1), set(s2)\n    return len(s1 & s2) / len(s1 | s2)\n\ndef max_pairwise_jaccard(sets1, sets2):\n    pairs = product(sets1, sets2)\n    return max(jaccard(*pair) for pair in pairs)\n\nmax_pairwise_jaccard(user_map['U490934656'], item_map['I402344648'])",
      "response": {
       "content": {
        "data": {
         "text/plain": "1.0"
        },
        "execution_count": 153,
        "metadata": {}
       },
       "metadata": {},
       "msg_type": "execute_result",
       "version": "5.3"
      },
      "timestamp": "2018-11-16T22:44:33.367Z"
     },
     {
      "code": "from itertools import product\n\ndef jaccard(s1, s2):\n    s1, s2 = set(s1), set(s2)\n    return len(s1 & s2) / len(s1 | s2)\n\ndef max_pairwise_jaccard(sets_pair):\n    sets1, sets2 = sets_pair\n    pairs = product(sets1, sets2)\n    return max(jaccard(*pair) for pair in pairs)\n\nmax_pairwise_jaccard(user_map['U490934656'], item_map['I402344648'])",
      "response": {
       "content": {
        "ename": "TypeError",
        "evalue": "max_pairwise_jaccard() takes 1 positional argument but 2 were given",
        "traceback": [
         "\u001b[0;31m---------------------------------------------------------------------------\u001b[0m",
         "\u001b[0;31mTypeError\u001b[0m                                 Traceback (most recent call last)",
         "\u001b[0;32m<ipython-input-157-fb42f28791e1>\u001b[0m in \u001b[0;36m<module>\u001b[0;34m\u001b[0m\n\u001b[1;32m     10\u001b[0m     \u001b[0;32mreturn\u001b[0m \u001b[0mmax\u001b[0m\u001b[0;34m(\u001b[0m\u001b[0mjaccard\u001b[0m\u001b[0;34m(\u001b[0m\u001b[0;34m*\u001b[0m\u001b[0mpair\u001b[0m\u001b[0;34m)\u001b[0m \u001b[0;32mfor\u001b[0m \u001b[0mpair\u001b[0m \u001b[0;32min\u001b[0m \u001b[0mpairs\u001b[0m\u001b[0;34m)\u001b[0m\u001b[0;34m\u001b[0m\u001b[0m\n\u001b[1;32m     11\u001b[0m \u001b[0;34m\u001b[0m\u001b[0m\n\u001b[0;32m---> 12\u001b[0;31m \u001b[0mmax_pairwise_jaccard\u001b[0m\u001b[0;34m(\u001b[0m\u001b[0muser_map\u001b[0m\u001b[0;34m[\u001b[0m\u001b[0;34m'U490934656'\u001b[0m\u001b[0;34m]\u001b[0m\u001b[0;34m,\u001b[0m \u001b[0mitem_map\u001b[0m\u001b[0;34m[\u001b[0m\u001b[0;34m'I402344648'\u001b[0m\u001b[0;34m]\u001b[0m\u001b[0;34m)\u001b[0m\u001b[0;34m\u001b[0m\u001b[0m\n\u001b[0m",
         "\u001b[0;31mTypeError\u001b[0m: max_pairwise_jaccard() takes 1 positional argument but 2 were given"
        ]
       },
       "metadata": {},
       "msg_type": "error",
       "version": "5.3"
      },
      "timestamp": "2018-11-16T22:46:05.095Z"
     },
     {
      "code": "from itertools import product\n\ndef jaccard(s1, s2):\n    s1, s2 = set(s1), set(s2)\n    return len(s1 & s2) / len(s1 | s2)\n\ndef max_pairwise_jaccard(sets_pair):\n    sets1, sets2 = sets_pair\n    pairs = product(sets1, sets2)\n    return max(jaccard(*pair) for pair in pairs)\n\nmax_pairwise_jaccard((user_map['U490934656'], item_map['I402344648']))",
      "response": {
       "content": {
        "data": {
         "text/plain": "1.0"
        },
        "execution_count": 158,
        "metadata": {}
       },
       "metadata": {},
       "msg_type": "execute_result",
       "version": "5.3"
      },
      "timestamp": "2018-11-16T22:46:08.535Z"
     },
     {
      "code": "from itertools import product\n\ndef jaccard(s1, s2):\n    s1, s2 = set(s1), set(s2)\n    return len(s1 & s2) / len(s1 | s2)\n\ndef max_pairwise_jaccard(sets_pair):\n    sets1, sets2 = sets_pair\n    pairs = product(sets1, sets2)\n    return max(jaccard(*pair) for pair in pairs)\n\nmax_pairwise_jaccard((user_map['U490934656'], item_map['I402344648']))",
      "response": {
       "content": {
        "data": {
         "text/plain": "1.0"
        },
        "execution_count": 162,
        "metadata": {}
       },
       "metadata": {},
       "msg_type": "execute_result",
       "version": "5.3"
      },
      "timestamp": "2018-11-16T22:47:58.626Z"
     },
     {
      "code": "from itertools import product\n\ndef jaccard(s1, s2):\n    s1, s2 = set(s1), set(s2)\n    return len(s1 & s2) / len(s1 | s2)\n\ndef max_pairwise_jaccard(sets_pair):\n    sets1, sets2 = sets_pair\n    print(sets1)\n    pairs = product(sets1, sets2)\n    return max(jaccard(*pair) for pair in pairs)\n\nmax_pairwise_jaccard((user_map['U490934656'], item_map['I402344648']))",
      "response": {
       "content": {
        "name": "stdout",
        "text": "{('Clothing, Shoes & Jewelry', 'Women'), ('Clothing, Shoes & Jewelry', 'Novelty, Costumes & More', 'Novelty', 'Clothing', 'Women', 'Leggings'), ('Clothing, Shoes & Jewelry', 'Women', 'Clothing', 'Shorts', 'Casual'), ('Clothing, Shoes & Jewelry', 'Women', 'Plus-Size')}\n"
       },
       "metadata": {},
       "msg_type": "stream",
       "version": "5.3"
      },
      "timestamp": "2018-11-16T22:49:48.611Z"
     },
     {
      "code": "from itertools import product\n\ndef jaccard(s1, s2):\n    s1, s2 = set(s1), set(s2)\n    return len(s1 & s2) / len(s1 | s2)\n\ndef max_pairwise_jaccard(sets_pair):\n    sets1, sets2 = sets_pair\n    print(sets1)\n    pairs = product(sets1, sets2)\n    return max(jaccard(*pair) for pair in pairs)\n\nmax_pairwise_jaccard((user_map['U490934656'], item_map['I402344648']))",
      "response": {
       "content": {
        "data": {
         "text/plain": "1.0"
        },
        "execution_count": 168,
        "metadata": {}
       },
       "metadata": {},
       "msg_type": "execute_result",
       "version": "5.3"
      },
      "timestamp": "2018-11-16T22:49:48.613Z"
     },
     {
      "code": "from itertools import product\n\ndef jaccard(s1, s2):\n    s1, s2 = set(s1), set(s2)\n    return len(s1 & s2) / len(s1 | s2)\n\ndef max_pairwise_jaccard(sets_pair):\n    sets1, sets2 = sets_pair\n    if np.isnan(sets1) or np.isnan(sets2):\n        return 0\n    pairs = product(sets1, sets2)\n    return max(jaccard(*pair) for pair in pairs)\n\nmax_pairwise_jaccard((user_map['U490934656'], item_map['I402344648']))",
      "response": {
       "content": {
        "ename": "TypeError",
        "evalue": "ufunc 'isnan' not supported for the input types, and the inputs could not be safely coerced to any supported types according to the casting rule ''safe''",
        "traceback": [
         "\u001b[0;31m---------------------------------------------------------------------------\u001b[0m",
         "\u001b[0;31mTypeError\u001b[0m                                 Traceback (most recent call last)",
         "\u001b[0;32m<ipython-input-171-9c34423015ed>\u001b[0m in \u001b[0;36m<module>\u001b[0;34m\u001b[0m\n\u001b[1;32m     12\u001b[0m     \u001b[0;32mreturn\u001b[0m \u001b[0mmax\u001b[0m\u001b[0;34m(\u001b[0m\u001b[0mjaccard\u001b[0m\u001b[0;34m(\u001b[0m\u001b[0;34m*\u001b[0m\u001b[0mpair\u001b[0m\u001b[0;34m)\u001b[0m \u001b[0;32mfor\u001b[0m \u001b[0mpair\u001b[0m \u001b[0;32min\u001b[0m \u001b[0mpairs\u001b[0m\u001b[0;34m)\u001b[0m\u001b[0;34m\u001b[0m\u001b[0m\n\u001b[1;32m     13\u001b[0m \u001b[0;34m\u001b[0m\u001b[0m\n\u001b[0;32m---> 14\u001b[0;31m \u001b[0mmax_pairwise_jaccard\u001b[0m\u001b[0;34m(\u001b[0m\u001b[0;34m(\u001b[0m\u001b[0muser_map\u001b[0m\u001b[0;34m[\u001b[0m\u001b[0;34m'U490934656'\u001b[0m\u001b[0;34m]\u001b[0m\u001b[0;34m,\u001b[0m \u001b[0mitem_map\u001b[0m\u001b[0;34m[\u001b[0m\u001b[0;34m'I402344648'\u001b[0m\u001b[0;34m]\u001b[0m\u001b[0;34m)\u001b[0m\u001b[0;34m)\u001b[0m\u001b[0;34m\u001b[0m\u001b[0m\n\u001b[0m",
         "\u001b[0;32m<ipython-input-171-9c34423015ed>\u001b[0m in \u001b[0;36mmax_pairwise_jaccard\u001b[0;34m(sets_pair)\u001b[0m\n\u001b[1;32m      7\u001b[0m \u001b[0;32mdef\u001b[0m \u001b[0mmax_pairwise_jaccard\u001b[0m\u001b[0;34m(\u001b[0m\u001b[0msets_pair\u001b[0m\u001b[0;34m)\u001b[0m\u001b[0;34m:\u001b[0m\u001b[0;34m\u001b[0m\u001b[0m\n\u001b[1;32m      8\u001b[0m     \u001b[0msets1\u001b[0m\u001b[0;34m,\u001b[0m \u001b[0msets2\u001b[0m \u001b[0;34m=\u001b[0m \u001b[0msets_pair\u001b[0m\u001b[0;34m\u001b[0m\u001b[0m\n\u001b[0;32m----> 9\u001b[0;31m     \u001b[0;32mif\u001b[0m \u001b[0mnp\u001b[0m\u001b[0;34m.\u001b[0m\u001b[0misnan\u001b[0m\u001b[0;34m(\u001b[0m\u001b[0msets1\u001b[0m\u001b[0;34m)\u001b[0m \u001b[0;32mor\u001b[0m \u001b[0mnp\u001b[0m\u001b[0;34m.\u001b[0m\u001b[0misnan\u001b[0m\u001b[0;34m(\u001b[0m\u001b[0msets2\u001b[0m\u001b[0;34m)\u001b[0m\u001b[0;34m:\u001b[0m\u001b[0;34m\u001b[0m\u001b[0m\n\u001b[0m\u001b[1;32m     10\u001b[0m         \u001b[0;32mreturn\u001b[0m \u001b[0;36m0\u001b[0m\u001b[0;34m\u001b[0m\u001b[0m\n\u001b[1;32m     11\u001b[0m     \u001b[0mpairs\u001b[0m \u001b[0;34m=\u001b[0m \u001b[0mproduct\u001b[0m\u001b[0;34m(\u001b[0m\u001b[0msets1\u001b[0m\u001b[0;34m,\u001b[0m \u001b[0msets2\u001b[0m\u001b[0;34m)\u001b[0m\u001b[0;34m\u001b[0m\u001b[0m\n",
         "\u001b[0;31mTypeError\u001b[0m: ufunc 'isnan' not supported for the input types, and the inputs could not be safely coerced to any supported types according to the casting rule ''safe''"
        ]
       },
       "metadata": {},
       "msg_type": "error",
       "version": "5.3"
      },
      "timestamp": "2018-11-16T22:51:24.257Z"
     },
     {
      "code": "from itertools import product\n\ndef jaccard(s1, s2):\n    s1, s2 = set(s1), set(s2)\n    return len(s1 & s2) / len(s1 | s2)\n\ndef max_pairwise_jaccard(sets_pair):\n    sets1, sets2 = sets_pair\n    if not isinstance(sets1, set) or not isinstance(sets2, set):\n        return 0\n    pairs = product(sets1, sets2)\n    return max(jaccard(*pair) for pair in pairs)\n\nmax_pairwise_jaccard((user_map['U490934656'], item_map['I402344648']))",
      "response": {
       "content": {
        "data": {
         "text/plain": "1.0"
        },
        "execution_count": 172,
        "metadata": {}
       },
       "metadata": {},
       "msg_type": "execute_result",
       "version": "5.3"
      },
      "timestamp": "2018-11-16T22:51:46.014Z"
     },
     {
      "code": "from itertools import product\n\ndef jaccard(s1, s2):\n    s1, s2 = set(s1), set(s2)\n    return len(s1 & s2) / len(s1 | s2)\n\ndef max_pairwise_jaccard(sets_pair):\n    sets1, sets2 = sets_pair\n    pairs = product(sets1, sets2)\n    return max(jaccard(*pair) for pair in pairs)\n\nmax_pairwise_jaccard((user_map['U490934656'], item_map['I402344648']))",
      "response": {
       "content": {
        "data": {
         "text/plain": "1.0"
        },
        "execution_count": 177,
        "metadata": {}
       },
       "metadata": {},
       "msg_type": "execute_result",
       "version": "5.3"
      },
      "timestamp": "2018-11-16T22:53:42.945Z"
     },
     {
      "code": "from itertools import product\n\ndef jaccard(s1, s2):\n    s1, s2 = set(s1), set(s2)\n    return len(s1 & s2) / len(s1 | s2)\n\ndef max_pairwise_jaccard(sets_pair):\n    sets1, sets2 = sets_pair\n    if not sets1 or not sets2:\n        return 0\n    pairs = product(sets1, sets2)\n    return max(jaccard(*pair) for pair in pairs)\n\nmax_pairwise_jaccard((user_map['U490934656'], item_map['I402344648']))",
      "response": {
       "content": {
        "data": {
         "text/plain": "1.0"
        },
        "execution_count": 179,
        "metadata": {}
       },
       "metadata": {},
       "msg_type": "execute_result",
       "version": "5.3"
      },
      "timestamp": "2018-11-16T22:54:38.297Z"
     },
     {
      "code": "from itertools import product\n\ndef jaccard(s1, s2):\n    s1, s2 = set(s1), set(s2)\n    return len(s1 & s2) / len(s1 | s2)\n\ndef max_pairwise_jaccard(sets_pair):\n    sets1, sets2 = sets_pair\n    if isinstance(sets1, float) or isinstance(sets2, float):\n        return 0\n    pairs = product(sets1, sets2)\n    return max(jaccard(*pair) for pair in pairs)\n\nmax_pairwise_jaccard((user_map['U490934656'], item_map['I402344648']))",
      "response": {
       "content": {
        "data": {
         "text/plain": "1.0"
        },
        "execution_count": 190,
        "metadata": {}
       },
       "metadata": {},
       "msg_type": "execute_result",
       "version": "5.3"
      },
      "timestamp": "2018-11-16T22:59:03.939Z"
     },
     {
      "code": "from itertools import product\n\ndef jaccard(s1, s2):\n    s1, s2 = set(s1), set(s2)\n    return len(s1 & s2) / len(s1 | s2)\n\ndef max_pairwise_jaccard(sets_pair):\n    sets1, sets2 = sets_pair\n    if isinstance(sets1, float) or isinstance(sets2, float):\n        return 0\n    pairs = product(sets1, sets2)\n    return max(jaccard(s1, s2) for s1, s2 in pairs)\n\nmax_pairwise_jaccard((user_map['U490934656'], item_map['I402344648']))",
      "response": {
       "content": {
        "data": {
         "text/plain": "1.0"
        },
        "execution_count": 192,
        "metadata": {}
       },
       "metadata": {},
       "msg_type": "execute_result",
       "version": "5.3"
      },
      "timestamp": "2018-11-16T23:00:15.765Z"
     }
    ]
   },
   "outputs": [
    {
     "data": {
      "text/plain": [
       "1.0"
      ]
     },
     "execution_count": 192,
     "metadata": {},
     "output_type": "execute_result"
    }
   ],
   "source": [
    "from itertools import product\n",
    "\n",
    "def jaccard(s1, s2):\n",
    "    s1, s2 = set(s1), set(s2)\n",
    "    return len(s1 & s2) / len(s1 | s2)\n",
    "\n",
    "def max_pairwise_jaccard(sets_pair):\n",
    "    sets1, sets2 = sets_pair\n",
    "    if isinstance(sets1, float) or isinstance(sets2, float):\n",
    "        return 0\n",
    "    pairs = product(sets1, sets2)\n",
    "    return max(jaccard(s1, s2) for s1, s2 in pairs)\n",
    "\n",
    "max_pairwise_jaccard((user_map['U490934656'], item_map['I402344648']))"
   ]
  },
  {
   "cell_type": "code",
   "execution_count": 193,
   "metadata": {
    "history": [
     {
      "code": "train",
      "response": {
       "content": {
        "data": {
         "text/html": "<div>\n<style scoped>\n    .dataframe tbody tr th:only-of-type {\n        vertical-align: middle;\n    }\n\n    .dataframe tbody tr th {\n        vertical-align: top;\n    }\n\n    .dataframe thead th {\n        text-align: right;\n    }\n</style>\n<table border=\"1\" class=\"dataframe\">\n  <thead>\n    <tr style=\"text-align: right;\">\n      <th></th>\n      <th>reviewerID</th>\n      <th>itemID</th>\n      <th>reviewed</th>\n    </tr>\n  </thead>\n  <tbody>\n    <tr>\n      <th>0</th>\n      <td>U490934656</td>\n      <td>I402344648</td>\n      <td>1</td>\n    </tr>\n    <tr>\n      <th>1</th>\n      <td>U714157797</td>\n      <td>I697650540</td>\n      <td>1</td>\n    </tr>\n    <tr>\n      <th>...</th>\n      <td>...</td>\n      <td>...</td>\n      <td>...</td>\n    </tr>\n    <tr>\n      <th>99998</th>\n      <td>U234915922</td>\n      <td>I615427216</td>\n      <td>1</td>\n    </tr>\n    <tr>\n      <th>99999</th>\n      <td>U519867287</td>\n      <td>I568555036</td>\n      <td>1</td>\n    </tr>\n  </tbody>\n</table>\n<p>100000 rows × 3 columns</p>\n</div>",
         "text/plain": "       reviewerID      itemID  reviewed\n0      U490934656  I402344648         1\n1      U714157797  I697650540         1\n...           ...         ...       ...\n99998  U234915922  I615427216         1\n99999  U519867287  I568555036         1\n\n[100000 rows x 3 columns]"
        },
        "execution_count": 137,
        "metadata": {}
       },
       "metadata": {},
       "msg_type": "execute_result",
       "version": "5.3"
      },
      "timestamp": "2018-11-16T22:39:24.266Z"
     },
     {
      "code": "train.merge(user_map.to_frame())",
      "response": {
       "content": {
        "ename": "MergeError",
        "evalue": "No common columns to perform merge on. Merge options: left_on=None, right_on=None, left_index=False, right_index=False",
        "traceback": [
         "\u001b[0;31m---------------------------------------------------------------------------\u001b[0m",
         "\u001b[0;31mMergeError\u001b[0m                                Traceback (most recent call last)",
         "\u001b[0;32m<ipython-input-138-f6540a409d4f>\u001b[0m in \u001b[0;36m<module>\u001b[0;34m\u001b[0m\n\u001b[0;32m----> 1\u001b[0;31m \u001b[0mtrain\u001b[0m\u001b[0;34m.\u001b[0m\u001b[0mmerge\u001b[0m\u001b[0;34m(\u001b[0m\u001b[0muser_map\u001b[0m\u001b[0;34m.\u001b[0m\u001b[0mto_frame\u001b[0m\u001b[0;34m(\u001b[0m\u001b[0;34m)\u001b[0m\u001b[0;34m)\u001b[0m\u001b[0;34m\u001b[0m\u001b[0m\n\u001b[0m",
         "\u001b[0;32m~/anaconda3/lib/python3.6/site-packages/pandas/core/frame.py\u001b[0m in \u001b[0;36mmerge\u001b[0;34m(self, right, how, on, left_on, right_on, left_index, right_index, sort, suffixes, copy, indicator, validate)\u001b[0m\n\u001b[1;32m   6387\u001b[0m                      \u001b[0mright_on\u001b[0m\u001b[0;34m=\u001b[0m\u001b[0mright_on\u001b[0m\u001b[0;34m,\u001b[0m \u001b[0mleft_index\u001b[0m\u001b[0;34m=\u001b[0m\u001b[0mleft_index\u001b[0m\u001b[0;34m,\u001b[0m\u001b[0;34m\u001b[0m\u001b[0m\n\u001b[1;32m   6388\u001b[0m                      \u001b[0mright_index\u001b[0m\u001b[0;34m=\u001b[0m\u001b[0mright_index\u001b[0m\u001b[0;34m,\u001b[0m \u001b[0msort\u001b[0m\u001b[0;34m=\u001b[0m\u001b[0msort\u001b[0m\u001b[0;34m,\u001b[0m \u001b[0msuffixes\u001b[0m\u001b[0;34m=\u001b[0m\u001b[0msuffixes\u001b[0m\u001b[0;34m,\u001b[0m\u001b[0;34m\u001b[0m\u001b[0m\n\u001b[0;32m-> 6389\u001b[0;31m                      copy=copy, indicator=indicator, validate=validate)\n\u001b[0m\u001b[1;32m   6390\u001b[0m \u001b[0;34m\u001b[0m\u001b[0m\n\u001b[1;32m   6391\u001b[0m     \u001b[0;32mdef\u001b[0m \u001b[0mround\u001b[0m\u001b[0;34m(\u001b[0m\u001b[0mself\u001b[0m\u001b[0;34m,\u001b[0m \u001b[0mdecimals\u001b[0m\u001b[0;34m=\u001b[0m\u001b[0;36m0\u001b[0m\u001b[0;34m,\u001b[0m \u001b[0;34m*\u001b[0m\u001b[0margs\u001b[0m\u001b[0;34m,\u001b[0m \u001b[0;34m**\u001b[0m\u001b[0mkwargs\u001b[0m\u001b[0;34m)\u001b[0m\u001b[0;34m:\u001b[0m\u001b[0;34m\u001b[0m\u001b[0m\n",
         "\u001b[0;32m~/anaconda3/lib/python3.6/site-packages/pandas/core/reshape/merge.py\u001b[0m in \u001b[0;36mmerge\u001b[0;34m(left, right, how, on, left_on, right_on, left_index, right_index, sort, suffixes, copy, indicator, validate)\u001b[0m\n\u001b[1;32m     59\u001b[0m                          \u001b[0mright_index\u001b[0m\u001b[0;34m=\u001b[0m\u001b[0mright_index\u001b[0m\u001b[0;34m,\u001b[0m \u001b[0msort\u001b[0m\u001b[0;34m=\u001b[0m\u001b[0msort\u001b[0m\u001b[0;34m,\u001b[0m \u001b[0msuffixes\u001b[0m\u001b[0;34m=\u001b[0m\u001b[0msuffixes\u001b[0m\u001b[0;34m,\u001b[0m\u001b[0;34m\u001b[0m\u001b[0m\n\u001b[1;32m     60\u001b[0m                          \u001b[0mcopy\u001b[0m\u001b[0;34m=\u001b[0m\u001b[0mcopy\u001b[0m\u001b[0;34m,\u001b[0m \u001b[0mindicator\u001b[0m\u001b[0;34m=\u001b[0m\u001b[0mindicator\u001b[0m\u001b[0;34m,\u001b[0m\u001b[0;34m\u001b[0m\u001b[0m\n\u001b[0;32m---> 61\u001b[0;31m                          validate=validate)\n\u001b[0m\u001b[1;32m     62\u001b[0m     \u001b[0;32mreturn\u001b[0m \u001b[0mop\u001b[0m\u001b[0;34m.\u001b[0m\u001b[0mget_result\u001b[0m\u001b[0;34m(\u001b[0m\u001b[0;34m)\u001b[0m\u001b[0;34m\u001b[0m\u001b[0m\n\u001b[1;32m     63\u001b[0m \u001b[0;34m\u001b[0m\u001b[0m\n",
         "\u001b[0;32m~/anaconda3/lib/python3.6/site-packages/pandas/core/reshape/merge.py\u001b[0m in \u001b[0;36m__init__\u001b[0;34m(self, left, right, how, on, left_on, right_on, axis, left_index, right_index, sort, suffixes, copy, indicator, validate)\u001b[0m\n\u001b[1;32m    544\u001b[0m             \u001b[0mwarnings\u001b[0m\u001b[0;34m.\u001b[0m\u001b[0mwarn\u001b[0m\u001b[0;34m(\u001b[0m\u001b[0mmsg\u001b[0m\u001b[0;34m,\u001b[0m \u001b[0mUserWarning\u001b[0m\u001b[0;34m)\u001b[0m\u001b[0;34m\u001b[0m\u001b[0m\n\u001b[1;32m    545\u001b[0m \u001b[0;34m\u001b[0m\u001b[0m\n\u001b[0;32m--> 546\u001b[0;31m         \u001b[0mself\u001b[0m\u001b[0;34m.\u001b[0m\u001b[0m_validate_specification\u001b[0m\u001b[0;34m(\u001b[0m\u001b[0;34m)\u001b[0m\u001b[0;34m\u001b[0m\u001b[0m\n\u001b[0m\u001b[1;32m    547\u001b[0m \u001b[0;34m\u001b[0m\u001b[0m\n\u001b[1;32m    548\u001b[0m         \u001b[0;31m# note this function has side effects\u001b[0m\u001b[0;34m\u001b[0m\u001b[0;34m\u001b[0m\u001b[0m\n",
         "\u001b[0;32m~/anaconda3/lib/python3.6/site-packages/pandas/core/reshape/merge.py\u001b[0m in \u001b[0;36m_validate_specification\u001b[0;34m(self)\u001b[0m\n\u001b[1;32m   1033\u001b[0m                         \u001b[0;34m'left_index={lidx}, right_index={ridx}'\u001b[0m\u001b[0;34m\u001b[0m\u001b[0m\n\u001b[1;32m   1034\u001b[0m                         .format(lon=self.left_on, ron=self.right_on,\n\u001b[0;32m-> 1035\u001b[0;31m                                 lidx=self.left_index, ridx=self.right_index))\n\u001b[0m\u001b[1;32m   1036\u001b[0m                 \u001b[0;32mif\u001b[0m \u001b[0;32mnot\u001b[0m \u001b[0mcommon_cols\u001b[0m\u001b[0;34m.\u001b[0m\u001b[0mis_unique\u001b[0m\u001b[0;34m:\u001b[0m\u001b[0;34m\u001b[0m\u001b[0m\n\u001b[1;32m   1037\u001b[0m                     raise MergeError(\"Data columns not unique: {common!r}\"\n",
         "\u001b[0;31mMergeError\u001b[0m: No common columns to perform merge on. Merge options: left_on=None, right_on=None, left_index=False, right_index=False"
        ]
       },
       "metadata": {},
       "msg_type": "error",
       "version": "5.3"
      },
      "timestamp": "2018-11-16T22:39:37.864Z"
     },
     {
      "code": "train.merge(user_map.to_frame(), left_on='reviewerID', right_index=True)",
      "response": {
       "content": {
        "data": {
         "text/html": "<div>\n<style scoped>\n    .dataframe tbody tr th:only-of-type {\n        vertical-align: middle;\n    }\n\n    .dataframe tbody tr th {\n        vertical-align: top;\n    }\n\n    .dataframe thead th {\n        text-align: right;\n    }\n</style>\n<table border=\"1\" class=\"dataframe\">\n  <thead>\n    <tr style=\"text-align: right;\">\n      <th></th>\n      <th>reviewerID</th>\n      <th>itemID</th>\n      <th>reviewed</th>\n      <th>categories</th>\n    </tr>\n  </thead>\n  <tbody>\n    <tr>\n      <th>0</th>\n      <td>U490934656</td>\n      <td>I402344648</td>\n      <td>1</td>\n      <td>{(Clothing, Shoes &amp; Jewelry, Women), (Clothing...</td>\n    </tr>\n    <tr>\n      <th>59349</th>\n      <td>U490934656</td>\n      <td>I330290793</td>\n      <td>1</td>\n      <td>{(Clothing, Shoes &amp; Jewelry, Women), (Clothing...</td>\n    </tr>\n    <tr>\n      <th>...</th>\n      <td>...</td>\n      <td>...</td>\n      <td>...</td>\n      <td>...</td>\n    </tr>\n    <tr>\n      <th>99960</th>\n      <td>U371471925</td>\n      <td>I479330149</td>\n      <td>1</td>\n      <td>{(Clothing, Shoes &amp; Jewelry, Women, Clothing, ...</td>\n    </tr>\n    <tr>\n      <th>99971</th>\n      <td>U807080089</td>\n      <td>I286582916</td>\n      <td>1</td>\n      <td>{(Clothing, Shoes &amp; Jewelry, Men, Big &amp; Tall),...</td>\n    </tr>\n  </tbody>\n</table>\n<p>100000 rows × 4 columns</p>\n</div>",
         "text/plain": "       reviewerID      itemID  reviewed  \\\n0      U490934656  I402344648         1   \n59349  U490934656  I330290793         1   \n...           ...         ...       ...   \n99960  U371471925  I479330149         1   \n99971  U807080089  I286582916         1   \n\n                                              categories  \n0      {(Clothing, Shoes & Jewelry, Women), (Clothing...  \n59349  {(Clothing, Shoes & Jewelry, Women), (Clothing...  \n...                                                  ...  \n99960  {(Clothing, Shoes & Jewelry, Women, Clothing, ...  \n99971  {(Clothing, Shoes & Jewelry, Men, Big & Tall),...  \n\n[100000 rows x 4 columns]"
        },
        "execution_count": 140,
        "metadata": {}
       },
       "metadata": {},
       "msg_type": "execute_result",
       "version": "5.3"
      },
      "timestamp": "2018-11-16T22:39:53.570Z"
     },
     {
      "code": "(train.merge(\n    user_map.to_frame(), left_on='reviewerID', right_index=True,\n    how='left', validate='m:1'\n).merge(\n    item_map.to_frame(), left_on='itemID', right_index=True,\n    how='left', validate='m:1', suffixes=['_reviewer', 'item']\n)",
      "response": {
       "content": {
        "ename": "SyntaxError",
        "evalue": "unexpected EOF while parsing (<ipython-input-141-ae9334073a3e>, line 7)",
        "traceback": [
         "\u001b[0;36m  File \u001b[0;32m\"<ipython-input-141-ae9334073a3e>\"\u001b[0;36m, line \u001b[0;32m7\u001b[0m\n\u001b[0;31m    )\u001b[0m\n\u001b[0m     ^\u001b[0m\n\u001b[0;31mSyntaxError\u001b[0m\u001b[0;31m:\u001b[0m unexpected EOF while parsing\n"
        ]
       },
       "metadata": {},
       "msg_type": "error",
       "version": "5.3"
      },
      "timestamp": "2018-11-16T22:41:06.058Z"
     },
     {
      "code": "(train.merge(\n    user_map.to_frame(), left_on='reviewerID', right_index=True,\n    how='left', validate='m:1'\n).merge(\n    item_map.to_frame(), left_on='itemID', right_index=True,\n    how='left', validate='m:1', suffixes=['_reviewer', '_item']\n))",
      "response": {
       "content": {
        "data": {
         "text/html": "<div>\n<style scoped>\n    .dataframe tbody tr th:only-of-type {\n        vertical-align: middle;\n    }\n\n    .dataframe tbody tr th {\n        vertical-align: top;\n    }\n\n    .dataframe thead th {\n        text-align: right;\n    }\n</style>\n<table border=\"1\" class=\"dataframe\">\n  <thead>\n    <tr style=\"text-align: right;\">\n      <th></th>\n      <th>reviewerID</th>\n      <th>itemID</th>\n      <th>reviewed</th>\n      <th>categories_reviewer</th>\n      <th>categories_item</th>\n    </tr>\n  </thead>\n  <tbody>\n    <tr>\n      <th>0</th>\n      <td>U490934656</td>\n      <td>I402344648</td>\n      <td>1</td>\n      <td>{(Clothing, Shoes &amp; Jewelry, Women), (Clothing...</td>\n      <td>{(Clothing, Shoes &amp; Jewelry, Women), (Clothing...</td>\n    </tr>\n    <tr>\n      <th>1</th>\n      <td>U714157797</td>\n      <td>I697650540</td>\n      <td>1</td>\n      <td>{(Clothing, Shoes &amp; Jewelry, Women, Clothing, ...</td>\n      <td>{(Clothing, Shoes &amp; Jewelry, Women, Petite, In...</td>\n    </tr>\n    <tr>\n      <th>...</th>\n      <td>...</td>\n      <td>...</td>\n      <td>...</td>\n      <td>...</td>\n      <td>...</td>\n    </tr>\n    <tr>\n      <th>99998</th>\n      <td>U234915922</td>\n      <td>I615427216</td>\n      <td>1</td>\n      <td>{(Clothing, Shoes &amp; Jewelry, Women), (Clothing...</td>\n      <td>{(Clothing, Shoes &amp; Jewelry, Women), (Clothing...</td>\n    </tr>\n    <tr>\n      <th>99999</th>\n      <td>U519867287</td>\n      <td>I568555036</td>\n      <td>1</td>\n      <td>{(Clothing, Shoes &amp; Jewelry, Available for Int...</td>\n      <td>{(Clothing, Shoes &amp; Jewelry, Available for Int...</td>\n    </tr>\n  </tbody>\n</table>\n<p>100000 rows × 5 columns</p>\n</div>",
         "text/plain": "       reviewerID      itemID  reviewed  \\\n0      U490934656  I402344648         1   \n1      U714157797  I697650540         1   \n...           ...         ...       ...   \n99998  U234915922  I615427216         1   \n99999  U519867287  I568555036         1   \n\n                                     categories_reviewer  \\\n0      {(Clothing, Shoes & Jewelry, Women), (Clothing...   \n1      {(Clothing, Shoes & Jewelry, Women, Clothing, ...   \n...                                                  ...   \n99998  {(Clothing, Shoes & Jewelry, Women), (Clothing...   \n99999  {(Clothing, Shoes & Jewelry, Available for Int...   \n\n                                         categories_item  \n0      {(Clothing, Shoes & Jewelry, Women), (Clothing...  \n1      {(Clothing, Shoes & Jewelry, Women, Petite, In...  \n...                                                  ...  \n99998  {(Clothing, Shoes & Jewelry, Women), (Clothing...  \n99999  {(Clothing, Shoes & Jewelry, Available for Int...  \n\n[100000 rows x 5 columns]"
        },
        "execution_count": 142,
        "metadata": {}
       },
       "metadata": {},
       "msg_type": "execute_result",
       "version": "5.3"
      },
      "timestamp": "2018-11-16T22:41:10.879Z"
     },
     {
      "code": "(train.merge(\n    user_map.to_frame(), left_on='reviewerID', right_index=True,\n    how='left', validate='m:1'\n).merge(\n    item_map.to_frame(), left_on='itemID', right_index=True,\n    how='left', validate='m:1', suffixes=['_reviewer', '_item']\n))",
      "response": {
       "content": {
        "data": {
         "text/html": "<div>\n<style scoped>\n    .dataframe tbody tr th:only-of-type {\n        vertical-align: middle;\n    }\n\n    .dataframe tbody tr th {\n        vertical-align: top;\n    }\n\n    .dataframe thead th {\n        text-align: right;\n    }\n</style>\n<table border=\"1\" class=\"dataframe\">\n  <thead>\n    <tr style=\"text-align: right;\">\n      <th></th>\n      <th>reviewerID</th>\n      <th>itemID</th>\n      <th>reviewed</th>\n      <th>categories_reviewer</th>\n      <th>categories_item</th>\n    </tr>\n  </thead>\n  <tbody>\n    <tr>\n      <th>4941</th>\n      <td>U834494147</td>\n      <td>I128611472</td>\n      <td>1</td>\n      <td>{(Clothing, Shoes &amp; Jewelry, Men, Big &amp; Tall),...</td>\n      <td>{(Clothing, Shoes &amp; Jewelry, Men, Big &amp; Tall),...</td>\n    </tr>\n    <tr>\n      <th>51775</th>\n      <td>U461858851</td>\n      <td>I234579649</td>\n      <td>1</td>\n      <td>{(Clothing, Shoes &amp; Jewelry, Women, Clothing, ...</td>\n      <td>{(Clothing, Shoes &amp; Jewelry, Women, Clothing, ...</td>\n    </tr>\n    <tr>\n      <th>...</th>\n      <td>...</td>\n      <td>...</td>\n      <td>...</td>\n      <td>...</td>\n      <td>...</td>\n    </tr>\n    <tr>\n      <th>31286</th>\n      <td>U659379356</td>\n      <td>I164073413</td>\n      <td>1</td>\n      <td>{(Clothing, Shoes &amp; Jewelry, Women, Shoes, San...</td>\n      <td>{(Clothing, Shoes &amp; Jewelry, Women, Clothing, ...</td>\n    </tr>\n    <tr>\n      <th>205716</th>\n      <td>U650550285</td>\n      <td>I701742363</td>\n      <td>0</td>\n      <td>{(Clothing, Shoes &amp; Jewelry, Women, Clothing, ...</td>\n      <td>{(Clothing, Shoes &amp; Jewelry, Winter Promo), (C...</td>\n    </tr>\n  </tbody>\n</table>\n<p>150000 rows × 5 columns</p>\n</div>",
         "text/plain": "        reviewerID      itemID  reviewed  \\\n4941    U834494147  I128611472         1   \n51775   U461858851  I234579649         1   \n...            ...         ...       ...   \n31286   U659379356  I164073413         1   \n205716  U650550285  I701742363         0   \n\n                                      categories_reviewer  \\\n4941    {(Clothing, Shoes & Jewelry, Men, Big & Tall),...   \n51775   {(Clothing, Shoes & Jewelry, Women, Clothing, ...   \n...                                                   ...   \n31286   {(Clothing, Shoes & Jewelry, Women, Shoes, San...   \n205716  {(Clothing, Shoes & Jewelry, Women, Clothing, ...   \n\n                                          categories_item  \n4941    {(Clothing, Shoes & Jewelry, Men, Big & Tall),...  \n51775   {(Clothing, Shoes & Jewelry, Women, Clothing, ...  \n...                                                   ...  \n31286   {(Clothing, Shoes & Jewelry, Women, Clothing, ...  \n205716  {(Clothing, Shoes & Jewelry, Winter Promo), (C...  \n\n[150000 rows x 5 columns]"
        },
        "execution_count": 155,
        "metadata": {}
       },
       "metadata": {},
       "msg_type": "execute_result",
       "version": "5.3"
      },
      "timestamp": "2018-11-16T22:44:39.261Z"
     },
     {
      "code": "with_categories = (train.merge(\n    user_map.to_frame(), left_on='reviewerID', right_index=True,\n    how='left', validate='m:1'\n).merge(\n    item_map.to_frame(), left_on='itemID', right_index=True,\n    how='left', validate='m:1', suffixes=['_reviewer', '_item']\n))\n(with_categories[['categories_reviewer', 'categories_item']]\n .apply(max_pairwise_jaccard, axis=1)\n)",
      "response": {
       "content": {
        "data": {
         "text/plain": "4941      1.0\n51775     1.0\n         ... \n31286     1.0\n205716    1.0\nLength: 150000, dtype: float64"
        },
        "execution_count": 159,
        "metadata": {}
       },
       "metadata": {},
       "msg_type": "execute_result",
       "version": "5.3"
      },
      "timestamp": "2018-11-16T22:46:22.729Z"
     },
     {
      "code": "with_categories = (train.merge(\n    user_map.to_frame(), left_on='reviewerID', right_index=True,\n    how='left', validate='m:1'\n).merge(\n    item_map.to_frame(), left_on='itemID', right_index=True,\n    how='left', validate='m:1', suffixes=['_reviewer', '_item']\n))\nwith_categories",
      "response": {
       "content": {
        "data": {
         "text/html": "<div>\n<style scoped>\n    .dataframe tbody tr th:only-of-type {\n        vertical-align: middle;\n    }\n\n    .dataframe tbody tr th {\n        vertical-align: top;\n    }\n\n    .dataframe thead th {\n        text-align: right;\n    }\n</style>\n<table border=\"1\" class=\"dataframe\">\n  <thead>\n    <tr style=\"text-align: right;\">\n      <th></th>\n      <th>reviewerID</th>\n      <th>itemID</th>\n      <th>reviewed</th>\n      <th>categories_reviewer</th>\n      <th>categories_item</th>\n    </tr>\n  </thead>\n  <tbody>\n    <tr>\n      <th>4941</th>\n      <td>U834494147</td>\n      <td>I128611472</td>\n      <td>1</td>\n      <td>{(Clothing, Shoes &amp; Jewelry, Men, Big &amp; Tall),...</td>\n      <td>{(Clothing, Shoes &amp; Jewelry, Men, Big &amp; Tall),...</td>\n    </tr>\n    <tr>\n      <th>51775</th>\n      <td>U461858851</td>\n      <td>I234579649</td>\n      <td>1</td>\n      <td>{(Clothing, Shoes &amp; Jewelry, Women, Clothing, ...</td>\n      <td>{(Clothing, Shoes &amp; Jewelry, Women, Clothing, ...</td>\n    </tr>\n    <tr>\n      <th>...</th>\n      <td>...</td>\n      <td>...</td>\n      <td>...</td>\n      <td>...</td>\n      <td>...</td>\n    </tr>\n    <tr>\n      <th>31286</th>\n      <td>U659379356</td>\n      <td>I164073413</td>\n      <td>1</td>\n      <td>{(Clothing, Shoes &amp; Jewelry, Women, Shoes, San...</td>\n      <td>{(Clothing, Shoes &amp; Jewelry, Women, Clothing, ...</td>\n    </tr>\n    <tr>\n      <th>205716</th>\n      <td>U650550285</td>\n      <td>I701742363</td>\n      <td>0</td>\n      <td>{(Clothing, Shoes &amp; Jewelry, Women, Shoes, Loa...</td>\n      <td>{(Clothing, Shoes &amp; Jewelry, Winter Promo), (C...</td>\n    </tr>\n  </tbody>\n</table>\n<p>150000 rows × 5 columns</p>\n</div>",
         "text/plain": "        reviewerID      itemID  reviewed  \\\n4941    U834494147  I128611472         1   \n51775   U461858851  I234579649         1   \n...            ...         ...       ...   \n31286   U659379356  I164073413         1   \n205716  U650550285  I701742363         0   \n\n                                      categories_reviewer  \\\n4941    {(Clothing, Shoes & Jewelry, Men, Big & Tall),...   \n51775   {(Clothing, Shoes & Jewelry, Women, Clothing, ...   \n...                                                   ...   \n31286   {(Clothing, Shoes & Jewelry, Women, Shoes, San...   \n205716  {(Clothing, Shoes & Jewelry, Women, Shoes, Loa...   \n\n                                          categories_item  \n4941    {(Clothing, Shoes & Jewelry, Men, Big & Tall),...  \n51775   {(Clothing, Shoes & Jewelry, Women, Clothing, ...  \n...                                                   ...  \n31286   {(Clothing, Shoes & Jewelry, Women, Clothing, ...  \n205716  {(Clothing, Shoes & Jewelry, Winter Promo), (C...  \n\n[150000 rows x 5 columns]"
        },
        "execution_count": 163,
        "metadata": {}
       },
       "metadata": {},
       "msg_type": "execute_result",
       "version": "5.3"
      },
      "timestamp": "2018-11-16T22:48:21.212Z"
     },
     {
      "code": "with_categories = (train.merge(\n    user_map.to_frame(), left_on='reviewerID', right_index=True,\n    how='left', validate='m:1'\n).merge(\n    item_map.to_frame(), left_on='itemID', right_index=True,\n    how='left', validate='m:1', suffixes=['_reviewer', '_item']\n).fillna(set()))\nwith_categories",
      "response": {
       "content": {
        "ename": "ValueError",
        "evalue": "invalid fill value with a <class 'set'>",
        "traceback": [
         "\u001b[0;31m---------------------------------------------------------------------------\u001b[0m",
         "\u001b[0;31mValueError\u001b[0m                                Traceback (most recent call last)",
         "\u001b[0;32m<ipython-input-175-3f2b24a6aff8>\u001b[0m in \u001b[0;36m<module>\u001b[0;34m\u001b[0m\n\u001b[1;32m      5\u001b[0m     \u001b[0mitem_map\u001b[0m\u001b[0;34m.\u001b[0m\u001b[0mto_frame\u001b[0m\u001b[0;34m(\u001b[0m\u001b[0;34m)\u001b[0m\u001b[0;34m,\u001b[0m \u001b[0mleft_on\u001b[0m\u001b[0;34m=\u001b[0m\u001b[0;34m'itemID'\u001b[0m\u001b[0;34m,\u001b[0m \u001b[0mright_index\u001b[0m\u001b[0;34m=\u001b[0m\u001b[0;32mTrue\u001b[0m\u001b[0;34m,\u001b[0m\u001b[0;34m\u001b[0m\u001b[0m\n\u001b[1;32m      6\u001b[0m     \u001b[0mhow\u001b[0m\u001b[0;34m=\u001b[0m\u001b[0;34m'left'\u001b[0m\u001b[0;34m,\u001b[0m \u001b[0mvalidate\u001b[0m\u001b[0;34m=\u001b[0m\u001b[0;34m'm:1'\u001b[0m\u001b[0;34m,\u001b[0m \u001b[0msuffixes\u001b[0m\u001b[0;34m=\u001b[0m\u001b[0;34m[\u001b[0m\u001b[0;34m'_reviewer'\u001b[0m\u001b[0;34m,\u001b[0m \u001b[0;34m'_item'\u001b[0m\u001b[0;34m]\u001b[0m\u001b[0;34m\u001b[0m\u001b[0m\n\u001b[0;32m----> 7\u001b[0;31m ).fillna(set()))\n\u001b[0m\u001b[1;32m      8\u001b[0m \u001b[0mwith_categories\u001b[0m\u001b[0;34m\u001b[0m\u001b[0m\n",
         "\u001b[0;32m~/anaconda3/lib/python3.6/site-packages/pandas/core/frame.py\u001b[0m in \u001b[0;36mfillna\u001b[0;34m(self, value, method, axis, inplace, limit, downcast, **kwargs)\u001b[0m\n\u001b[1;32m   3788\u001b[0m                      \u001b[0mself\u001b[0m\u001b[0;34m)\u001b[0m\u001b[0;34m.\u001b[0m\u001b[0mfillna\u001b[0m\u001b[0;34m(\u001b[0m\u001b[0mvalue\u001b[0m\u001b[0;34m=\u001b[0m\u001b[0mvalue\u001b[0m\u001b[0;34m,\u001b[0m \u001b[0mmethod\u001b[0m\u001b[0;34m=\u001b[0m\u001b[0mmethod\u001b[0m\u001b[0;34m,\u001b[0m \u001b[0maxis\u001b[0m\u001b[0;34m=\u001b[0m\u001b[0maxis\u001b[0m\u001b[0;34m,\u001b[0m\u001b[0;34m\u001b[0m\u001b[0m\n\u001b[1;32m   3789\u001b[0m                                   \u001b[0minplace\u001b[0m\u001b[0;34m=\u001b[0m\u001b[0minplace\u001b[0m\u001b[0;34m,\u001b[0m \u001b[0mlimit\u001b[0m\u001b[0;34m=\u001b[0m\u001b[0mlimit\u001b[0m\u001b[0;34m,\u001b[0m\u001b[0;34m\u001b[0m\u001b[0m\n\u001b[0;32m-> 3790\u001b[0;31m                                   downcast=downcast, **kwargs)\n\u001b[0m\u001b[1;32m   3791\u001b[0m \u001b[0;34m\u001b[0m\u001b[0m\n\u001b[1;32m   3792\u001b[0m     \u001b[0;34m@\u001b[0m\u001b[0mAppender\u001b[0m\u001b[0;34m(\u001b[0m\u001b[0m_shared_docs\u001b[0m\u001b[0;34m[\u001b[0m\u001b[0;34m'replace'\u001b[0m\u001b[0;34m]\u001b[0m \u001b[0;34m%\u001b[0m \u001b[0m_shared_doc_kwargs\u001b[0m\u001b[0;34m)\u001b[0m\u001b[0;34m\u001b[0m\u001b[0m\n",
         "\u001b[0;32m~/anaconda3/lib/python3.6/site-packages/pandas/core/generic.py\u001b[0m in \u001b[0;36mfillna\u001b[0;34m(self, value, method, axis, inplace, limit, downcast)\u001b[0m\n\u001b[1;32m   5429\u001b[0m                 \u001b[0mnew_data\u001b[0m \u001b[0;34m=\u001b[0m \u001b[0mself\u001b[0m\u001b[0;34m.\u001b[0m\u001b[0mwhere\u001b[0m\u001b[0;34m(\u001b[0m\u001b[0mself\u001b[0m\u001b[0;34m.\u001b[0m\u001b[0mnotna\u001b[0m\u001b[0;34m(\u001b[0m\u001b[0;34m)\u001b[0m\u001b[0;34m,\u001b[0m \u001b[0mvalue\u001b[0m\u001b[0;34m)\u001b[0m\u001b[0;34m\u001b[0m\u001b[0m\n\u001b[1;32m   5430\u001b[0m             \u001b[0;32melse\u001b[0m\u001b[0;34m:\u001b[0m\u001b[0;34m\u001b[0m\u001b[0m\n\u001b[0;32m-> 5431\u001b[0;31m                 \u001b[0;32mraise\u001b[0m \u001b[0mValueError\u001b[0m\u001b[0;34m(\u001b[0m\u001b[0;34m\"invalid fill value with a %s\"\u001b[0m \u001b[0;34m%\u001b[0m \u001b[0mtype\u001b[0m\u001b[0;34m(\u001b[0m\u001b[0mvalue\u001b[0m\u001b[0;34m)\u001b[0m\u001b[0;34m)\u001b[0m\u001b[0;34m\u001b[0m\u001b[0m\n\u001b[0m\u001b[1;32m   5432\u001b[0m \u001b[0;34m\u001b[0m\u001b[0m\n\u001b[1;32m   5433\u001b[0m         \u001b[0;32mif\u001b[0m \u001b[0minplace\u001b[0m\u001b[0;34m:\u001b[0m\u001b[0;34m\u001b[0m\u001b[0m\n",
         "\u001b[0;31mValueError\u001b[0m: invalid fill value with a <class 'set'>"
        ]
       },
       "metadata": {},
       "msg_type": "error",
       "version": "5.3"
      },
      "timestamp": "2018-11-16T22:53:31.727Z"
     },
     {
      "code": "with_categories = (train.merge(\n    user_map.to_frame(), left_on='reviewerID', right_index=True,\n    how='left', validate='m:1'\n).merge(\n    item_map.to_frame(), left_on='itemID', right_index=True,\n    how='left', validate='m:1', suffixes=['_reviewer', '_item']\n).fillna({}))\nwith_categories",
      "response": {
       "content": {
        "data": {
         "text/html": "<div>\n<style scoped>\n    .dataframe tbody tr th:only-of-type {\n        vertical-align: middle;\n    }\n\n    .dataframe tbody tr th {\n        vertical-align: top;\n    }\n\n    .dataframe thead th {\n        text-align: right;\n    }\n</style>\n<table border=\"1\" class=\"dataframe\">\n  <thead>\n    <tr style=\"text-align: right;\">\n      <th></th>\n      <th>reviewerID</th>\n      <th>itemID</th>\n      <th>reviewed</th>\n      <th>categories_reviewer</th>\n      <th>categories_item</th>\n    </tr>\n  </thead>\n  <tbody>\n    <tr>\n      <th>4941</th>\n      <td>U834494147</td>\n      <td>I128611472</td>\n      <td>1</td>\n      <td>{(Clothing, Shoes &amp; Jewelry, Men, Big &amp; Tall),...</td>\n      <td>{(Clothing, Shoes &amp; Jewelry, Men, Big &amp; Tall),...</td>\n    </tr>\n    <tr>\n      <th>51775</th>\n      <td>U461858851</td>\n      <td>I234579649</td>\n      <td>1</td>\n      <td>{(Clothing, Shoes &amp; Jewelry, Women, Clothing, ...</td>\n      <td>{(Clothing, Shoes &amp; Jewelry, Women, Clothing, ...</td>\n    </tr>\n    <tr>\n      <th>...</th>\n      <td>...</td>\n      <td>...</td>\n      <td>...</td>\n      <td>...</td>\n      <td>...</td>\n    </tr>\n    <tr>\n      <th>31286</th>\n      <td>U659379356</td>\n      <td>I164073413</td>\n      <td>1</td>\n      <td>{(Clothing, Shoes &amp; Jewelry, Women, Shoes, San...</td>\n      <td>{(Clothing, Shoes &amp; Jewelry, Women, Clothing, ...</td>\n    </tr>\n    <tr>\n      <th>205716</th>\n      <td>U650550285</td>\n      <td>I701742363</td>\n      <td>0</td>\n      <td>{(Clothing, Shoes &amp; Jewelry, Women, Shoes, Loa...</td>\n      <td>{(Clothing, Shoes &amp; Jewelry, Winter Promo), (C...</td>\n    </tr>\n  </tbody>\n</table>\n<p>150000 rows × 5 columns</p>\n</div>",
         "text/plain": "        reviewerID      itemID  reviewed  \\\n4941    U834494147  I128611472         1   \n51775   U461858851  I234579649         1   \n...            ...         ...       ...   \n31286   U659379356  I164073413         1   \n205716  U650550285  I701742363         0   \n\n                                      categories_reviewer  \\\n4941    {(Clothing, Shoes & Jewelry, Men, Big & Tall),...   \n51775   {(Clothing, Shoes & Jewelry, Women, Clothing, ...   \n...                                                   ...   \n31286   {(Clothing, Shoes & Jewelry, Women, Shoes, San...   \n205716  {(Clothing, Shoes & Jewelry, Women, Shoes, Loa...   \n\n                                          categories_item  \n4941    {(Clothing, Shoes & Jewelry, Men, Big & Tall),...  \n51775   {(Clothing, Shoes & Jewelry, Women, Clothing, ...  \n...                                                   ...  \n31286   {(Clothing, Shoes & Jewelry, Women, Clothing, ...  \n205716  {(Clothing, Shoes & Jewelry, Winter Promo), (C...  \n\n[150000 rows x 5 columns]"
        },
        "execution_count": 176,
        "metadata": {}
       },
       "metadata": {},
       "msg_type": "execute_result",
       "version": "5.3"
      },
      "timestamp": "2018-11-16T22:53:37.635Z"
     },
     {
      "code": "with_categories = (train.merge(\n    user_map.to_frame(), left_on='reviewerID', right_index=True,\n    how='left', validate='m:1'\n).merge(\n    item_map.to_frame(), left_on='itemID', right_index=True,\n    how='left', validate='m:1', suffixes=['_reviewer', '_item']\n))\nwith_categories",
      "response": {
       "content": {
        "data": {
         "text/html": "<div>\n<style scoped>\n    .dataframe tbody tr th:only-of-type {\n        vertical-align: middle;\n    }\n\n    .dataframe tbody tr th {\n        vertical-align: top;\n    }\n\n    .dataframe thead th {\n        text-align: right;\n    }\n</style>\n<table border=\"1\" class=\"dataframe\">\n  <thead>\n    <tr style=\"text-align: right;\">\n      <th></th>\n      <th>reviewerID</th>\n      <th>itemID</th>\n      <th>reviewed</th>\n      <th>categories_reviewer</th>\n      <th>categories_item</th>\n    </tr>\n  </thead>\n  <tbody>\n    <tr>\n      <th>4941</th>\n      <td>U834494147</td>\n      <td>I128611472</td>\n      <td>1</td>\n      <td>{(Clothing, Shoes &amp; Jewelry, Men, Big &amp; Tall),...</td>\n      <td>{(Clothing, Shoes &amp; Jewelry, Men, Big &amp; Tall),...</td>\n    </tr>\n    <tr>\n      <th>51775</th>\n      <td>U461858851</td>\n      <td>I234579649</td>\n      <td>1</td>\n      <td>{(Clothing, Shoes &amp; Jewelry, Women, Clothing, ...</td>\n      <td>{(Clothing, Shoes &amp; Jewelry, Women, Clothing, ...</td>\n    </tr>\n    <tr>\n      <th>...</th>\n      <td>...</td>\n      <td>...</td>\n      <td>...</td>\n      <td>...</td>\n      <td>...</td>\n    </tr>\n    <tr>\n      <th>31286</th>\n      <td>U659379356</td>\n      <td>I164073413</td>\n      <td>1</td>\n      <td>{(Clothing, Shoes &amp; Jewelry, Women, Shoes, San...</td>\n      <td>{(Clothing, Shoes &amp; Jewelry, Women, Clothing, ...</td>\n    </tr>\n    <tr>\n      <th>205716</th>\n      <td>U650550285</td>\n      <td>I701742363</td>\n      <td>0</td>\n      <td>{(Clothing, Shoes &amp; Jewelry, Women, Shoes, Loa...</td>\n      <td>{(Clothing, Shoes &amp; Jewelry, Winter Promo), (C...</td>\n    </tr>\n  </tbody>\n</table>\n<p>150000 rows × 5 columns</p>\n</div>",
         "text/plain": "        reviewerID      itemID  reviewed  \\\n4941    U834494147  I128611472         1   \n51775   U461858851  I234579649         1   \n...            ...         ...       ...   \n31286   U659379356  I164073413         1   \n205716  U650550285  I701742363         0   \n\n                                      categories_reviewer  \\\n4941    {(Clothing, Shoes & Jewelry, Men, Big & Tall),...   \n51775   {(Clothing, Shoes & Jewelry, Women, Clothing, ...   \n...                                                   ...   \n31286   {(Clothing, Shoes & Jewelry, Women, Shoes, San...   \n205716  {(Clothing, Shoes & Jewelry, Women, Shoes, Loa...   \n\n                                          categories_item  \n4941    {(Clothing, Shoes & Jewelry, Men, Big & Tall),...  \n51775   {(Clothing, Shoes & Jewelry, Women, Clothing, ...  \n...                                                   ...  \n31286   {(Clothing, Shoes & Jewelry, Women, Clothing, ...  \n205716  {(Clothing, Shoes & Jewelry, Winter Promo), (C...  \n\n[150000 rows x 5 columns]"
        },
        "execution_count": 180,
        "metadata": {}
       },
       "metadata": {},
       "msg_type": "execute_result",
       "version": "5.3"
      },
      "timestamp": "2018-11-16T22:54:40.084Z"
     },
     {
      "code": "with_categories = (train.merge(\n    user_map.to_frame(), left_on='reviewerID', right_index=True,\n    how='left', validate='m:1'\n).merge(\n    item_map.to_frame(), left_on='itemID', right_index=True,\n    how='left', validate='m:1', suffixes=['_reviewer', '_item']\n))\nwith_categories",
      "response": {
       "content": {
        "data": {
         "text/html": "<div>\n<style scoped>\n    .dataframe tbody tr th:only-of-type {\n        vertical-align: middle;\n    }\n\n    .dataframe tbody tr th {\n        vertical-align: top;\n    }\n\n    .dataframe thead th {\n        text-align: right;\n    }\n</style>\n<table border=\"1\" class=\"dataframe\">\n  <thead>\n    <tr style=\"text-align: right;\">\n      <th></th>\n      <th>reviewerID</th>\n      <th>itemID</th>\n      <th>reviewed</th>\n      <th>categories_reviewer</th>\n      <th>categories_item</th>\n    </tr>\n  </thead>\n  <tbody>\n    <tr>\n      <th>4941</th>\n      <td>U834494147</td>\n      <td>I128611472</td>\n      <td>1</td>\n      <td>{(Clothing, Shoes &amp; Jewelry, Men, Big &amp; Tall),...</td>\n      <td>{(Clothing, Shoes &amp; Jewelry, Men, Big &amp; Tall),...</td>\n    </tr>\n    <tr>\n      <th>51775</th>\n      <td>U461858851</td>\n      <td>I234579649</td>\n      <td>1</td>\n      <td>{(Clothing, Shoes &amp; Jewelry, Women, Clothing, ...</td>\n      <td>{(Clothing, Shoes &amp; Jewelry, Women, Clothing, ...</td>\n    </tr>\n    <tr>\n      <th>...</th>\n      <td>...</td>\n      <td>...</td>\n      <td>...</td>\n      <td>...</td>\n      <td>...</td>\n    </tr>\n    <tr>\n      <th>31286</th>\n      <td>U659379356</td>\n      <td>I164073413</td>\n      <td>1</td>\n      <td>{(Clothing, Shoes &amp; Jewelry, Women, Shoes, San...</td>\n      <td>{(Clothing, Shoes &amp; Jewelry, Women, Clothing, ...</td>\n    </tr>\n    <tr>\n      <th>205716</th>\n      <td>U650550285</td>\n      <td>I701742363</td>\n      <td>0</td>\n      <td>{(Clothing, Shoes &amp; Jewelry, Women, Shoes, Loa...</td>\n      <td>{(Clothing, Shoes &amp; Jewelry, Winter Promo), (C...</td>\n    </tr>\n  </tbody>\n</table>\n<p>150000 rows × 5 columns</p>\n</div>",
         "text/plain": "        reviewerID      itemID  reviewed  \\\n4941    U834494147  I128611472         1   \n51775   U461858851  I234579649         1   \n...            ...         ...       ...   \n31286   U659379356  I164073413         1   \n205716  U650550285  I701742363         0   \n\n                                      categories_reviewer  \\\n4941    {(Clothing, Shoes & Jewelry, Men, Big & Tall),...   \n51775   {(Clothing, Shoes & Jewelry, Women, Clothing, ...   \n...                                                   ...   \n31286   {(Clothing, Shoes & Jewelry, Women, Shoes, San...   \n205716  {(Clothing, Shoes & Jewelry, Women, Shoes, Loa...   \n\n                                          categories_item  \n4941    {(Clothing, Shoes & Jewelry, Men, Big & Tall),...  \n51775   {(Clothing, Shoes & Jewelry, Women, Clothing, ...  \n...                                                   ...  \n31286   {(Clothing, Shoes & Jewelry, Women, Clothing, ...  \n205716  {(Clothing, Shoes & Jewelry, Winter Promo), (C...  \n\n[150000 rows x 5 columns]"
        },
        "execution_count": 193,
        "metadata": {}
       },
       "metadata": {},
       "msg_type": "execute_result",
       "version": "5.3"
      },
      "timestamp": "2018-11-16T23:00:17.416Z"
     }
    ]
   },
   "outputs": [
    {
     "data": {
      "text/html": [
       "<div>\n",
       "<style scoped>\n",
       "    .dataframe tbody tr th:only-of-type {\n",
       "        vertical-align: middle;\n",
       "    }\n",
       "\n",
       "    .dataframe tbody tr th {\n",
       "        vertical-align: top;\n",
       "    }\n",
       "\n",
       "    .dataframe thead th {\n",
       "        text-align: right;\n",
       "    }\n",
       "</style>\n",
       "<table border=\"1\" class=\"dataframe\">\n",
       "  <thead>\n",
       "    <tr style=\"text-align: right;\">\n",
       "      <th></th>\n",
       "      <th>reviewerID</th>\n",
       "      <th>itemID</th>\n",
       "      <th>reviewed</th>\n",
       "      <th>categories_reviewer</th>\n",
       "      <th>categories_item</th>\n",
       "    </tr>\n",
       "  </thead>\n",
       "  <tbody>\n",
       "    <tr>\n",
       "      <th>4941</th>\n",
       "      <td>U834494147</td>\n",
       "      <td>I128611472</td>\n",
       "      <td>1</td>\n",
       "      <td>{(Clothing, Shoes &amp; Jewelry, Men, Big &amp; Tall),...</td>\n",
       "      <td>{(Clothing, Shoes &amp; Jewelry, Men, Big &amp; Tall),...</td>\n",
       "    </tr>\n",
       "    <tr>\n",
       "      <th>51775</th>\n",
       "      <td>U461858851</td>\n",
       "      <td>I234579649</td>\n",
       "      <td>1</td>\n",
       "      <td>{(Clothing, Shoes &amp; Jewelry, Women, Clothing, ...</td>\n",
       "      <td>{(Clothing, Shoes &amp; Jewelry, Women, Clothing, ...</td>\n",
       "    </tr>\n",
       "    <tr>\n",
       "      <th>...</th>\n",
       "      <td>...</td>\n",
       "      <td>...</td>\n",
       "      <td>...</td>\n",
       "      <td>...</td>\n",
       "      <td>...</td>\n",
       "    </tr>\n",
       "    <tr>\n",
       "      <th>31286</th>\n",
       "      <td>U659379356</td>\n",
       "      <td>I164073413</td>\n",
       "      <td>1</td>\n",
       "      <td>{(Clothing, Shoes &amp; Jewelry, Women, Shoes, San...</td>\n",
       "      <td>{(Clothing, Shoes &amp; Jewelry, Women, Clothing, ...</td>\n",
       "    </tr>\n",
       "    <tr>\n",
       "      <th>205716</th>\n",
       "      <td>U650550285</td>\n",
       "      <td>I701742363</td>\n",
       "      <td>0</td>\n",
       "      <td>{(Clothing, Shoes &amp; Jewelry, Women, Shoes, Loa...</td>\n",
       "      <td>{(Clothing, Shoes &amp; Jewelry, Winter Promo), (C...</td>\n",
       "    </tr>\n",
       "  </tbody>\n",
       "</table>\n",
       "<p>150000 rows × 5 columns</p>\n",
       "</div>"
      ],
      "text/plain": [
       "        reviewerID      itemID  reviewed  \\\n",
       "4941    U834494147  I128611472         1   \n",
       "51775   U461858851  I234579649         1   \n",
       "...            ...         ...       ...   \n",
       "31286   U659379356  I164073413         1   \n",
       "205716  U650550285  I701742363         0   \n",
       "\n",
       "                                      categories_reviewer  \\\n",
       "4941    {(Clothing, Shoes & Jewelry, Men, Big & Tall),...   \n",
       "51775   {(Clothing, Shoes & Jewelry, Women, Clothing, ...   \n",
       "...                                                   ...   \n",
       "31286   {(Clothing, Shoes & Jewelry, Women, Shoes, San...   \n",
       "205716  {(Clothing, Shoes & Jewelry, Women, Shoes, Loa...   \n",
       "\n",
       "                                          categories_item  \n",
       "4941    {(Clothing, Shoes & Jewelry, Men, Big & Tall),...  \n",
       "51775   {(Clothing, Shoes & Jewelry, Women, Clothing, ...  \n",
       "...                                                   ...  \n",
       "31286   {(Clothing, Shoes & Jewelry, Women, Clothing, ...  \n",
       "205716  {(Clothing, Shoes & Jewelry, Winter Promo), (C...  \n",
       "\n",
       "[150000 rows x 5 columns]"
      ]
     },
     "execution_count": 193,
     "metadata": {},
     "output_type": "execute_result"
    }
   ],
   "source": [
    "with_categories = (train.merge(\n",
    "    user_map.to_frame(), left_on='reviewerID', right_index=True,\n",
    "    how='left', validate='m:1'\n",
    ").merge(\n",
    "    item_map.to_frame(), left_on='itemID', right_index=True,\n",
    "    how='left', validate='m:1', suffixes=['_reviewer', '_item']\n",
    "))\n",
    "with_categories"
   ]
  },
  {
   "cell_type": "code",
   "execution_count": 196,
   "metadata": {
    "history": [
     {
      "code": "train",
      "response": {
       "content": {
        "data": {
         "text/html": "<div>\n<style scoped>\n    .dataframe tbody tr th:only-of-type {\n        vertical-align: middle;\n    }\n\n    .dataframe tbody tr th {\n        vertical-align: top;\n    }\n\n    .dataframe thead th {\n        text-align: right;\n    }\n</style>\n<table border=\"1\" class=\"dataframe\">\n  <thead>\n    <tr style=\"text-align: right;\">\n      <th></th>\n      <th>reviewerID</th>\n      <th>itemID</th>\n      <th>reviewed</th>\n    </tr>\n  </thead>\n  <tbody>\n    <tr>\n      <th>0</th>\n      <td>U490934656</td>\n      <td>I402344648</td>\n      <td>1</td>\n    </tr>\n    <tr>\n      <th>1</th>\n      <td>U714157797</td>\n      <td>I697650540</td>\n      <td>1</td>\n    </tr>\n    <tr>\n      <th>...</th>\n      <td>...</td>\n      <td>...</td>\n      <td>...</td>\n    </tr>\n    <tr>\n      <th>99998</th>\n      <td>U234915922</td>\n      <td>I615427216</td>\n      <td>1</td>\n    </tr>\n    <tr>\n      <th>99999</th>\n      <td>U519867287</td>\n      <td>I568555036</td>\n      <td>1</td>\n    </tr>\n  </tbody>\n</table>\n<p>100000 rows × 3 columns</p>\n</div>",
         "text/plain": "       reviewerID      itemID  reviewed\n0      U490934656  I402344648         1\n1      U714157797  I697650540         1\n...           ...         ...       ...\n99998  U234915922  I615427216         1\n99999  U519867287  I568555036         1\n\n[100000 rows x 3 columns]"
        },
        "execution_count": 137,
        "metadata": {}
       },
       "metadata": {},
       "msg_type": "execute_result",
       "version": "5.3"
      },
      "timestamp": "2018-11-16T22:39:24.266Z"
     },
     {
      "code": "train.merge(user_map.to_frame())",
      "response": {
       "content": {
        "ename": "MergeError",
        "evalue": "No common columns to perform merge on. Merge options: left_on=None, right_on=None, left_index=False, right_index=False",
        "traceback": [
         "\u001b[0;31m---------------------------------------------------------------------------\u001b[0m",
         "\u001b[0;31mMergeError\u001b[0m                                Traceback (most recent call last)",
         "\u001b[0;32m<ipython-input-138-f6540a409d4f>\u001b[0m in \u001b[0;36m<module>\u001b[0;34m\u001b[0m\n\u001b[0;32m----> 1\u001b[0;31m \u001b[0mtrain\u001b[0m\u001b[0;34m.\u001b[0m\u001b[0mmerge\u001b[0m\u001b[0;34m(\u001b[0m\u001b[0muser_map\u001b[0m\u001b[0;34m.\u001b[0m\u001b[0mto_frame\u001b[0m\u001b[0;34m(\u001b[0m\u001b[0;34m)\u001b[0m\u001b[0;34m)\u001b[0m\u001b[0;34m\u001b[0m\u001b[0m\n\u001b[0m",
         "\u001b[0;32m~/anaconda3/lib/python3.6/site-packages/pandas/core/frame.py\u001b[0m in \u001b[0;36mmerge\u001b[0;34m(self, right, how, on, left_on, right_on, left_index, right_index, sort, suffixes, copy, indicator, validate)\u001b[0m\n\u001b[1;32m   6387\u001b[0m                      \u001b[0mright_on\u001b[0m\u001b[0;34m=\u001b[0m\u001b[0mright_on\u001b[0m\u001b[0;34m,\u001b[0m \u001b[0mleft_index\u001b[0m\u001b[0;34m=\u001b[0m\u001b[0mleft_index\u001b[0m\u001b[0;34m,\u001b[0m\u001b[0;34m\u001b[0m\u001b[0m\n\u001b[1;32m   6388\u001b[0m                      \u001b[0mright_index\u001b[0m\u001b[0;34m=\u001b[0m\u001b[0mright_index\u001b[0m\u001b[0;34m,\u001b[0m \u001b[0msort\u001b[0m\u001b[0;34m=\u001b[0m\u001b[0msort\u001b[0m\u001b[0;34m,\u001b[0m \u001b[0msuffixes\u001b[0m\u001b[0;34m=\u001b[0m\u001b[0msuffixes\u001b[0m\u001b[0;34m,\u001b[0m\u001b[0;34m\u001b[0m\u001b[0m\n\u001b[0;32m-> 6389\u001b[0;31m                      copy=copy, indicator=indicator, validate=validate)\n\u001b[0m\u001b[1;32m   6390\u001b[0m \u001b[0;34m\u001b[0m\u001b[0m\n\u001b[1;32m   6391\u001b[0m     \u001b[0;32mdef\u001b[0m \u001b[0mround\u001b[0m\u001b[0;34m(\u001b[0m\u001b[0mself\u001b[0m\u001b[0;34m,\u001b[0m \u001b[0mdecimals\u001b[0m\u001b[0;34m=\u001b[0m\u001b[0;36m0\u001b[0m\u001b[0;34m,\u001b[0m \u001b[0;34m*\u001b[0m\u001b[0margs\u001b[0m\u001b[0;34m,\u001b[0m \u001b[0;34m**\u001b[0m\u001b[0mkwargs\u001b[0m\u001b[0;34m)\u001b[0m\u001b[0;34m:\u001b[0m\u001b[0;34m\u001b[0m\u001b[0m\n",
         "\u001b[0;32m~/anaconda3/lib/python3.6/site-packages/pandas/core/reshape/merge.py\u001b[0m in \u001b[0;36mmerge\u001b[0;34m(left, right, how, on, left_on, right_on, left_index, right_index, sort, suffixes, copy, indicator, validate)\u001b[0m\n\u001b[1;32m     59\u001b[0m                          \u001b[0mright_index\u001b[0m\u001b[0;34m=\u001b[0m\u001b[0mright_index\u001b[0m\u001b[0;34m,\u001b[0m \u001b[0msort\u001b[0m\u001b[0;34m=\u001b[0m\u001b[0msort\u001b[0m\u001b[0;34m,\u001b[0m \u001b[0msuffixes\u001b[0m\u001b[0;34m=\u001b[0m\u001b[0msuffixes\u001b[0m\u001b[0;34m,\u001b[0m\u001b[0;34m\u001b[0m\u001b[0m\n\u001b[1;32m     60\u001b[0m                          \u001b[0mcopy\u001b[0m\u001b[0;34m=\u001b[0m\u001b[0mcopy\u001b[0m\u001b[0;34m,\u001b[0m \u001b[0mindicator\u001b[0m\u001b[0;34m=\u001b[0m\u001b[0mindicator\u001b[0m\u001b[0;34m,\u001b[0m\u001b[0;34m\u001b[0m\u001b[0m\n\u001b[0;32m---> 61\u001b[0;31m                          validate=validate)\n\u001b[0m\u001b[1;32m     62\u001b[0m     \u001b[0;32mreturn\u001b[0m \u001b[0mop\u001b[0m\u001b[0;34m.\u001b[0m\u001b[0mget_result\u001b[0m\u001b[0;34m(\u001b[0m\u001b[0;34m)\u001b[0m\u001b[0;34m\u001b[0m\u001b[0m\n\u001b[1;32m     63\u001b[0m \u001b[0;34m\u001b[0m\u001b[0m\n",
         "\u001b[0;32m~/anaconda3/lib/python3.6/site-packages/pandas/core/reshape/merge.py\u001b[0m in \u001b[0;36m__init__\u001b[0;34m(self, left, right, how, on, left_on, right_on, axis, left_index, right_index, sort, suffixes, copy, indicator, validate)\u001b[0m\n\u001b[1;32m    544\u001b[0m             \u001b[0mwarnings\u001b[0m\u001b[0;34m.\u001b[0m\u001b[0mwarn\u001b[0m\u001b[0;34m(\u001b[0m\u001b[0mmsg\u001b[0m\u001b[0;34m,\u001b[0m \u001b[0mUserWarning\u001b[0m\u001b[0;34m)\u001b[0m\u001b[0;34m\u001b[0m\u001b[0m\n\u001b[1;32m    545\u001b[0m \u001b[0;34m\u001b[0m\u001b[0m\n\u001b[0;32m--> 546\u001b[0;31m         \u001b[0mself\u001b[0m\u001b[0;34m.\u001b[0m\u001b[0m_validate_specification\u001b[0m\u001b[0;34m(\u001b[0m\u001b[0;34m)\u001b[0m\u001b[0;34m\u001b[0m\u001b[0m\n\u001b[0m\u001b[1;32m    547\u001b[0m \u001b[0;34m\u001b[0m\u001b[0m\n\u001b[1;32m    548\u001b[0m         \u001b[0;31m# note this function has side effects\u001b[0m\u001b[0;34m\u001b[0m\u001b[0;34m\u001b[0m\u001b[0m\n",
         "\u001b[0;32m~/anaconda3/lib/python3.6/site-packages/pandas/core/reshape/merge.py\u001b[0m in \u001b[0;36m_validate_specification\u001b[0;34m(self)\u001b[0m\n\u001b[1;32m   1033\u001b[0m                         \u001b[0;34m'left_index={lidx}, right_index={ridx}'\u001b[0m\u001b[0;34m\u001b[0m\u001b[0m\n\u001b[1;32m   1034\u001b[0m                         .format(lon=self.left_on, ron=self.right_on,\n\u001b[0;32m-> 1035\u001b[0;31m                                 lidx=self.left_index, ridx=self.right_index))\n\u001b[0m\u001b[1;32m   1036\u001b[0m                 \u001b[0;32mif\u001b[0m \u001b[0;32mnot\u001b[0m \u001b[0mcommon_cols\u001b[0m\u001b[0;34m.\u001b[0m\u001b[0mis_unique\u001b[0m\u001b[0;34m:\u001b[0m\u001b[0;34m\u001b[0m\u001b[0m\n\u001b[1;32m   1037\u001b[0m                     raise MergeError(\"Data columns not unique: {common!r}\"\n",
         "\u001b[0;31mMergeError\u001b[0m: No common columns to perform merge on. Merge options: left_on=None, right_on=None, left_index=False, right_index=False"
        ]
       },
       "metadata": {},
       "msg_type": "error",
       "version": "5.3"
      },
      "timestamp": "2018-11-16T22:39:37.864Z"
     },
     {
      "code": "train.merge(user_map.to_frame(), left_on='reviewerID', right_index=True)",
      "response": {
       "content": {
        "data": {
         "text/html": "<div>\n<style scoped>\n    .dataframe tbody tr th:only-of-type {\n        vertical-align: middle;\n    }\n\n    .dataframe tbody tr th {\n        vertical-align: top;\n    }\n\n    .dataframe thead th {\n        text-align: right;\n    }\n</style>\n<table border=\"1\" class=\"dataframe\">\n  <thead>\n    <tr style=\"text-align: right;\">\n      <th></th>\n      <th>reviewerID</th>\n      <th>itemID</th>\n      <th>reviewed</th>\n      <th>categories</th>\n    </tr>\n  </thead>\n  <tbody>\n    <tr>\n      <th>0</th>\n      <td>U490934656</td>\n      <td>I402344648</td>\n      <td>1</td>\n      <td>{(Clothing, Shoes &amp; Jewelry, Women), (Clothing...</td>\n    </tr>\n    <tr>\n      <th>59349</th>\n      <td>U490934656</td>\n      <td>I330290793</td>\n      <td>1</td>\n      <td>{(Clothing, Shoes &amp; Jewelry, Women), (Clothing...</td>\n    </tr>\n    <tr>\n      <th>...</th>\n      <td>...</td>\n      <td>...</td>\n      <td>...</td>\n      <td>...</td>\n    </tr>\n    <tr>\n      <th>99960</th>\n      <td>U371471925</td>\n      <td>I479330149</td>\n      <td>1</td>\n      <td>{(Clothing, Shoes &amp; Jewelry, Women, Clothing, ...</td>\n    </tr>\n    <tr>\n      <th>99971</th>\n      <td>U807080089</td>\n      <td>I286582916</td>\n      <td>1</td>\n      <td>{(Clothing, Shoes &amp; Jewelry, Men, Big &amp; Tall),...</td>\n    </tr>\n  </tbody>\n</table>\n<p>100000 rows × 4 columns</p>\n</div>",
         "text/plain": "       reviewerID      itemID  reviewed  \\\n0      U490934656  I402344648         1   \n59349  U490934656  I330290793         1   \n...           ...         ...       ...   \n99960  U371471925  I479330149         1   \n99971  U807080089  I286582916         1   \n\n                                              categories  \n0      {(Clothing, Shoes & Jewelry, Women), (Clothing...  \n59349  {(Clothing, Shoes & Jewelry, Women), (Clothing...  \n...                                                  ...  \n99960  {(Clothing, Shoes & Jewelry, Women, Clothing, ...  \n99971  {(Clothing, Shoes & Jewelry, Men, Big & Tall),...  \n\n[100000 rows x 4 columns]"
        },
        "execution_count": 140,
        "metadata": {}
       },
       "metadata": {},
       "msg_type": "execute_result",
       "version": "5.3"
      },
      "timestamp": "2018-11-16T22:39:53.570Z"
     },
     {
      "code": "(train.merge(\n    user_map.to_frame(), left_on='reviewerID', right_index=True,\n    how='left', validate='m:1'\n).merge(\n    item_map.to_frame(), left_on='itemID', right_index=True,\n    how='left', validate='m:1', suffixes=['_reviewer', 'item']\n)",
      "response": {
       "content": {
        "ename": "SyntaxError",
        "evalue": "unexpected EOF while parsing (<ipython-input-141-ae9334073a3e>, line 7)",
        "traceback": [
         "\u001b[0;36m  File \u001b[0;32m\"<ipython-input-141-ae9334073a3e>\"\u001b[0;36m, line \u001b[0;32m7\u001b[0m\n\u001b[0;31m    )\u001b[0m\n\u001b[0m     ^\u001b[0m\n\u001b[0;31mSyntaxError\u001b[0m\u001b[0;31m:\u001b[0m unexpected EOF while parsing\n"
        ]
       },
       "metadata": {},
       "msg_type": "error",
       "version": "5.3"
      },
      "timestamp": "2018-11-16T22:41:06.058Z"
     },
     {
      "code": "(train.merge(\n    user_map.to_frame(), left_on='reviewerID', right_index=True,\n    how='left', validate='m:1'\n).merge(\n    item_map.to_frame(), left_on='itemID', right_index=True,\n    how='left', validate='m:1', suffixes=['_reviewer', '_item']\n))",
      "response": {
       "content": {
        "data": {
         "text/html": "<div>\n<style scoped>\n    .dataframe tbody tr th:only-of-type {\n        vertical-align: middle;\n    }\n\n    .dataframe tbody tr th {\n        vertical-align: top;\n    }\n\n    .dataframe thead th {\n        text-align: right;\n    }\n</style>\n<table border=\"1\" class=\"dataframe\">\n  <thead>\n    <tr style=\"text-align: right;\">\n      <th></th>\n      <th>reviewerID</th>\n      <th>itemID</th>\n      <th>reviewed</th>\n      <th>categories_reviewer</th>\n      <th>categories_item</th>\n    </tr>\n  </thead>\n  <tbody>\n    <tr>\n      <th>0</th>\n      <td>U490934656</td>\n      <td>I402344648</td>\n      <td>1</td>\n      <td>{(Clothing, Shoes &amp; Jewelry, Women), (Clothing...</td>\n      <td>{(Clothing, Shoes &amp; Jewelry, Women), (Clothing...</td>\n    </tr>\n    <tr>\n      <th>1</th>\n      <td>U714157797</td>\n      <td>I697650540</td>\n      <td>1</td>\n      <td>{(Clothing, Shoes &amp; Jewelry, Women, Clothing, ...</td>\n      <td>{(Clothing, Shoes &amp; Jewelry, Women, Petite, In...</td>\n    </tr>\n    <tr>\n      <th>...</th>\n      <td>...</td>\n      <td>...</td>\n      <td>...</td>\n      <td>...</td>\n      <td>...</td>\n    </tr>\n    <tr>\n      <th>99998</th>\n      <td>U234915922</td>\n      <td>I615427216</td>\n      <td>1</td>\n      <td>{(Clothing, Shoes &amp; Jewelry, Women), (Clothing...</td>\n      <td>{(Clothing, Shoes &amp; Jewelry, Women), (Clothing...</td>\n    </tr>\n    <tr>\n      <th>99999</th>\n      <td>U519867287</td>\n      <td>I568555036</td>\n      <td>1</td>\n      <td>{(Clothing, Shoes &amp; Jewelry, Available for Int...</td>\n      <td>{(Clothing, Shoes &amp; Jewelry, Available for Int...</td>\n    </tr>\n  </tbody>\n</table>\n<p>100000 rows × 5 columns</p>\n</div>",
         "text/plain": "       reviewerID      itemID  reviewed  \\\n0      U490934656  I402344648         1   \n1      U714157797  I697650540         1   \n...           ...         ...       ...   \n99998  U234915922  I615427216         1   \n99999  U519867287  I568555036         1   \n\n                                     categories_reviewer  \\\n0      {(Clothing, Shoes & Jewelry, Women), (Clothing...   \n1      {(Clothing, Shoes & Jewelry, Women, Clothing, ...   \n...                                                  ...   \n99998  {(Clothing, Shoes & Jewelry, Women), (Clothing...   \n99999  {(Clothing, Shoes & Jewelry, Available for Int...   \n\n                                         categories_item  \n0      {(Clothing, Shoes & Jewelry, Women), (Clothing...  \n1      {(Clothing, Shoes & Jewelry, Women, Petite, In...  \n...                                                  ...  \n99998  {(Clothing, Shoes & Jewelry, Women), (Clothing...  \n99999  {(Clothing, Shoes & Jewelry, Available for Int...  \n\n[100000 rows x 5 columns]"
        },
        "execution_count": 142,
        "metadata": {}
       },
       "metadata": {},
       "msg_type": "execute_result",
       "version": "5.3"
      },
      "timestamp": "2018-11-16T22:41:10.879Z"
     },
     {
      "code": "(train.merge(\n    user_map.to_frame(), left_on='reviewerID', right_index=True,\n    how='left', validate='m:1'\n).merge(\n    item_map.to_frame(), left_on='itemID', right_index=True,\n    how='left', validate='m:1', suffixes=['_reviewer', '_item']\n))",
      "response": {
       "content": {
        "data": {
         "text/html": "<div>\n<style scoped>\n    .dataframe tbody tr th:only-of-type {\n        vertical-align: middle;\n    }\n\n    .dataframe tbody tr th {\n        vertical-align: top;\n    }\n\n    .dataframe thead th {\n        text-align: right;\n    }\n</style>\n<table border=\"1\" class=\"dataframe\">\n  <thead>\n    <tr style=\"text-align: right;\">\n      <th></th>\n      <th>reviewerID</th>\n      <th>itemID</th>\n      <th>reviewed</th>\n      <th>categories_reviewer</th>\n      <th>categories_item</th>\n    </tr>\n  </thead>\n  <tbody>\n    <tr>\n      <th>4941</th>\n      <td>U834494147</td>\n      <td>I128611472</td>\n      <td>1</td>\n      <td>{(Clothing, Shoes &amp; Jewelry, Men, Big &amp; Tall),...</td>\n      <td>{(Clothing, Shoes &amp; Jewelry, Men, Big &amp; Tall),...</td>\n    </tr>\n    <tr>\n      <th>51775</th>\n      <td>U461858851</td>\n      <td>I234579649</td>\n      <td>1</td>\n      <td>{(Clothing, Shoes &amp; Jewelry, Women, Clothing, ...</td>\n      <td>{(Clothing, Shoes &amp; Jewelry, Women, Clothing, ...</td>\n    </tr>\n    <tr>\n      <th>...</th>\n      <td>...</td>\n      <td>...</td>\n      <td>...</td>\n      <td>...</td>\n      <td>...</td>\n    </tr>\n    <tr>\n      <th>31286</th>\n      <td>U659379356</td>\n      <td>I164073413</td>\n      <td>1</td>\n      <td>{(Clothing, Shoes &amp; Jewelry, Women, Shoes, San...</td>\n      <td>{(Clothing, Shoes &amp; Jewelry, Women, Clothing, ...</td>\n    </tr>\n    <tr>\n      <th>205716</th>\n      <td>U650550285</td>\n      <td>I701742363</td>\n      <td>0</td>\n      <td>{(Clothing, Shoes &amp; Jewelry, Women, Clothing, ...</td>\n      <td>{(Clothing, Shoes &amp; Jewelry, Winter Promo), (C...</td>\n    </tr>\n  </tbody>\n</table>\n<p>150000 rows × 5 columns</p>\n</div>",
         "text/plain": "        reviewerID      itemID  reviewed  \\\n4941    U834494147  I128611472         1   \n51775   U461858851  I234579649         1   \n...            ...         ...       ...   \n31286   U659379356  I164073413         1   \n205716  U650550285  I701742363         0   \n\n                                      categories_reviewer  \\\n4941    {(Clothing, Shoes & Jewelry, Men, Big & Tall),...   \n51775   {(Clothing, Shoes & Jewelry, Women, Clothing, ...   \n...                                                   ...   \n31286   {(Clothing, Shoes & Jewelry, Women, Shoes, San...   \n205716  {(Clothing, Shoes & Jewelry, Women, Clothing, ...   \n\n                                          categories_item  \n4941    {(Clothing, Shoes & Jewelry, Men, Big & Tall),...  \n51775   {(Clothing, Shoes & Jewelry, Women, Clothing, ...  \n...                                                   ...  \n31286   {(Clothing, Shoes & Jewelry, Women, Clothing, ...  \n205716  {(Clothing, Shoes & Jewelry, Winter Promo), (C...  \n\n[150000 rows x 5 columns]"
        },
        "execution_count": 155,
        "metadata": {}
       },
       "metadata": {},
       "msg_type": "execute_result",
       "version": "5.3"
      },
      "timestamp": "2018-11-16T22:44:39.261Z"
     },
     {
      "code": "with_categories = (train.merge(\n    user_map.to_frame(), left_on='reviewerID', right_index=True,\n    how='left', validate='m:1'\n).merge(\n    item_map.to_frame(), left_on='itemID', right_index=True,\n    how='left', validate='m:1', suffixes=['_reviewer', '_item']\n))\n(with_categories[['categories_reviewer', 'categories_item']]\n .apply(max_pairwise_jaccard, axis=1)\n)",
      "response": {
       "content": {
        "data": {
         "text/plain": "4941      1.0\n51775     1.0\n         ... \n31286     1.0\n205716    1.0\nLength: 150000, dtype: float64"
        },
        "execution_count": 159,
        "metadata": {}
       },
       "metadata": {},
       "msg_type": "execute_result",
       "version": "5.3"
      },
      "timestamp": "2018-11-16T22:46:22.729Z"
     },
     {
      "code": "%%prun\n\n(with_categories[['categories_reviewer', 'categories_item']]\n .apply(max_pairwise_jaccard, axis=1)\n)",
      "response": {
       "content": {
        "ename": "TypeError",
        "evalue": "(\"'float' object is not iterable\", 'occurred at index 244471')",
        "traceback": [
         "\u001b[0;31m---------------------------------------------------------------------------\u001b[0m",
         "\u001b[0;31mTypeError\u001b[0m                                 Traceback (most recent call last)",
         "\u001b[0;32m<ipython-input-164-70ed8ca1af1a>\u001b[0m in \u001b[0;36m<module>\u001b[0;34m\u001b[0m\n\u001b[0;32m----> 1\u001b[0;31m \u001b[0mget_ipython\u001b[0m\u001b[0;34m(\u001b[0m\u001b[0;34m)\u001b[0m\u001b[0;34m.\u001b[0m\u001b[0mrun_cell_magic\u001b[0m\u001b[0;34m(\u001b[0m\u001b[0;34m'prun'\u001b[0m\u001b[0;34m,\u001b[0m \u001b[0;34m''\u001b[0m\u001b[0;34m,\u001b[0m \u001b[0;34m\"\\n(with_categories[['categories_reviewer', 'categories_item']]\\n .apply(max_pairwise_jaccard, axis=1)\\n)\\n\"\u001b[0m\u001b[0;34m)\u001b[0m\u001b[0;34m\u001b[0m\u001b[0m\n\u001b[0m",
         "\u001b[0;32m~/anaconda3/lib/python3.6/site-packages/IPython/core/interactiveshell.py\u001b[0m in \u001b[0;36mrun_cell_magic\u001b[0;34m(self, magic_name, line, cell)\u001b[0m\n\u001b[1;32m   2319\u001b[0m             \u001b[0mmagic_arg_s\u001b[0m \u001b[0;34m=\u001b[0m \u001b[0mself\u001b[0m\u001b[0;34m.\u001b[0m\u001b[0mvar_expand\u001b[0m\u001b[0;34m(\u001b[0m\u001b[0mline\u001b[0m\u001b[0;34m,\u001b[0m \u001b[0mstack_depth\u001b[0m\u001b[0;34m)\u001b[0m\u001b[0;34m\u001b[0m\u001b[0m\n\u001b[1;32m   2320\u001b[0m             \u001b[0;32mwith\u001b[0m \u001b[0mself\u001b[0m\u001b[0;34m.\u001b[0m\u001b[0mbuiltin_trap\u001b[0m\u001b[0;34m:\u001b[0m\u001b[0;34m\u001b[0m\u001b[0m\n\u001b[0;32m-> 2321\u001b[0;31m                 \u001b[0mresult\u001b[0m \u001b[0;34m=\u001b[0m \u001b[0mfn\u001b[0m\u001b[0;34m(\u001b[0m\u001b[0mmagic_arg_s\u001b[0m\u001b[0;34m,\u001b[0m \u001b[0mcell\u001b[0m\u001b[0;34m)\u001b[0m\u001b[0;34m\u001b[0m\u001b[0m\n\u001b[0m\u001b[1;32m   2322\u001b[0m             \u001b[0;32mreturn\u001b[0m \u001b[0mresult\u001b[0m\u001b[0;34m\u001b[0m\u001b[0m\n\u001b[1;32m   2323\u001b[0m \u001b[0;34m\u001b[0m\u001b[0m\n",
         "\u001b[0;32m<decorator-gen-56>\u001b[0m in \u001b[0;36mprun\u001b[0;34m(self, parameter_s, cell)\u001b[0m\n",
         "\u001b[0;32m~/anaconda3/lib/python3.6/site-packages/IPython/core/magic.py\u001b[0m in \u001b[0;36m<lambda>\u001b[0;34m(f, *a, **k)\u001b[0m\n\u001b[1;32m    185\u001b[0m     \u001b[0;31m# but it's overkill for just that one bit of state.\u001b[0m\u001b[0;34m\u001b[0m\u001b[0;34m\u001b[0m\u001b[0m\n\u001b[1;32m    186\u001b[0m     \u001b[0;32mdef\u001b[0m \u001b[0mmagic_deco\u001b[0m\u001b[0;34m(\u001b[0m\u001b[0marg\u001b[0m\u001b[0;34m)\u001b[0m\u001b[0;34m:\u001b[0m\u001b[0;34m\u001b[0m\u001b[0m\n\u001b[0;32m--> 187\u001b[0;31m         \u001b[0mcall\u001b[0m \u001b[0;34m=\u001b[0m \u001b[0;32mlambda\u001b[0m \u001b[0mf\u001b[0m\u001b[0;34m,\u001b[0m \u001b[0;34m*\u001b[0m\u001b[0ma\u001b[0m\u001b[0;34m,\u001b[0m \u001b[0;34m**\u001b[0m\u001b[0mk\u001b[0m\u001b[0;34m:\u001b[0m \u001b[0mf\u001b[0m\u001b[0;34m(\u001b[0m\u001b[0;34m*\u001b[0m\u001b[0ma\u001b[0m\u001b[0;34m,\u001b[0m \u001b[0;34m**\u001b[0m\u001b[0mk\u001b[0m\u001b[0;34m)\u001b[0m\u001b[0;34m\u001b[0m\u001b[0m\n\u001b[0m\u001b[1;32m    188\u001b[0m \u001b[0;34m\u001b[0m\u001b[0m\n\u001b[1;32m    189\u001b[0m         \u001b[0;32mif\u001b[0m \u001b[0mcallable\u001b[0m\u001b[0;34m(\u001b[0m\u001b[0marg\u001b[0m\u001b[0;34m)\u001b[0m\u001b[0;34m:\u001b[0m\u001b[0;34m\u001b[0m\u001b[0m\n",
         "\u001b[0;32m~/anaconda3/lib/python3.6/site-packages/IPython/core/magics/execution.py\u001b[0m in \u001b[0;36mprun\u001b[0;34m(self, parameter_s, cell)\u001b[0m\n\u001b[1;32m    299\u001b[0m             \u001b[0marg_str\u001b[0m \u001b[0;34m+=\u001b[0m \u001b[0;34m'\\n'\u001b[0m \u001b[0;34m+\u001b[0m \u001b[0mcell\u001b[0m\u001b[0;34m\u001b[0m\u001b[0m\n\u001b[1;32m    300\u001b[0m         \u001b[0marg_str\u001b[0m \u001b[0;34m=\u001b[0m \u001b[0mself\u001b[0m\u001b[0;34m.\u001b[0m\u001b[0mshell\u001b[0m\u001b[0;34m.\u001b[0m\u001b[0mtransform_cell\u001b[0m\u001b[0;34m(\u001b[0m\u001b[0marg_str\u001b[0m\u001b[0;34m)\u001b[0m\u001b[0;34m\u001b[0m\u001b[0m\n\u001b[0;32m--> 301\u001b[0;31m         \u001b[0;32mreturn\u001b[0m \u001b[0mself\u001b[0m\u001b[0;34m.\u001b[0m\u001b[0m_run_with_profiler\u001b[0m\u001b[0;34m(\u001b[0m\u001b[0marg_str\u001b[0m\u001b[0;34m,\u001b[0m \u001b[0mopts\u001b[0m\u001b[0;34m,\u001b[0m \u001b[0mself\u001b[0m\u001b[0;34m.\u001b[0m\u001b[0mshell\u001b[0m\u001b[0;34m.\u001b[0m\u001b[0muser_ns\u001b[0m\u001b[0;34m)\u001b[0m\u001b[0;34m\u001b[0m\u001b[0m\n\u001b[0m\u001b[1;32m    302\u001b[0m \u001b[0;34m\u001b[0m\u001b[0m\n\u001b[1;32m    303\u001b[0m     \u001b[0;32mdef\u001b[0m \u001b[0m_run_with_profiler\u001b[0m\u001b[0;34m(\u001b[0m\u001b[0mself\u001b[0m\u001b[0;34m,\u001b[0m \u001b[0mcode\u001b[0m\u001b[0;34m,\u001b[0m \u001b[0mopts\u001b[0m\u001b[0;34m,\u001b[0m \u001b[0mnamespace\u001b[0m\u001b[0;34m)\u001b[0m\u001b[0;34m:\u001b[0m\u001b[0;34m\u001b[0m\u001b[0m\n",
         "\u001b[0;32m~/anaconda3/lib/python3.6/site-packages/IPython/core/magics/execution.py\u001b[0m in \u001b[0;36m_run_with_profiler\u001b[0;34m(self, code, opts, namespace)\u001b[0m\n\u001b[1;32m    321\u001b[0m         \u001b[0mprof\u001b[0m \u001b[0;34m=\u001b[0m \u001b[0mprofile\u001b[0m\u001b[0;34m.\u001b[0m\u001b[0mProfile\u001b[0m\u001b[0;34m(\u001b[0m\u001b[0;34m)\u001b[0m\u001b[0;34m\u001b[0m\u001b[0m\n\u001b[1;32m    322\u001b[0m         \u001b[0;32mtry\u001b[0m\u001b[0;34m:\u001b[0m\u001b[0;34m\u001b[0m\u001b[0m\n\u001b[0;32m--> 323\u001b[0;31m             \u001b[0mprof\u001b[0m \u001b[0;34m=\u001b[0m \u001b[0mprof\u001b[0m\u001b[0;34m.\u001b[0m\u001b[0mrunctx\u001b[0m\u001b[0;34m(\u001b[0m\u001b[0mcode\u001b[0m\u001b[0;34m,\u001b[0m \u001b[0mnamespace\u001b[0m\u001b[0;34m,\u001b[0m \u001b[0mnamespace\u001b[0m\u001b[0;34m)\u001b[0m\u001b[0;34m\u001b[0m\u001b[0m\n\u001b[0m\u001b[1;32m    324\u001b[0m             \u001b[0msys_exit\u001b[0m \u001b[0;34m=\u001b[0m \u001b[0;34m''\u001b[0m\u001b[0;34m\u001b[0m\u001b[0m\n\u001b[1;32m    325\u001b[0m         \u001b[0;32mexcept\u001b[0m \u001b[0mSystemExit\u001b[0m\u001b[0;34m:\u001b[0m\u001b[0;34m\u001b[0m\u001b[0m\n",
         "\u001b[0;32m~/anaconda3/lib/python3.6/cProfile.py\u001b[0m in \u001b[0;36mrunctx\u001b[0;34m(self, cmd, globals, locals)\u001b[0m\n\u001b[1;32m     98\u001b[0m         \u001b[0mself\u001b[0m\u001b[0;34m.\u001b[0m\u001b[0menable\u001b[0m\u001b[0;34m(\u001b[0m\u001b[0;34m)\u001b[0m\u001b[0;34m\u001b[0m\u001b[0m\n\u001b[1;32m     99\u001b[0m         \u001b[0;32mtry\u001b[0m\u001b[0;34m:\u001b[0m\u001b[0;34m\u001b[0m\u001b[0m\n\u001b[0;32m--> 100\u001b[0;31m             \u001b[0mexec\u001b[0m\u001b[0;34m(\u001b[0m\u001b[0mcmd\u001b[0m\u001b[0;34m,\u001b[0m \u001b[0mglobals\u001b[0m\u001b[0;34m,\u001b[0m \u001b[0mlocals\u001b[0m\u001b[0;34m)\u001b[0m\u001b[0;34m\u001b[0m\u001b[0m\n\u001b[0m\u001b[1;32m    101\u001b[0m         \u001b[0;32mfinally\u001b[0m\u001b[0;34m:\u001b[0m\u001b[0;34m\u001b[0m\u001b[0m\n\u001b[1;32m    102\u001b[0m             \u001b[0mself\u001b[0m\u001b[0;34m.\u001b[0m\u001b[0mdisable\u001b[0m\u001b[0;34m(\u001b[0m\u001b[0;34m)\u001b[0m\u001b[0;34m\u001b[0m\u001b[0m\n",
         "\u001b[0;32m<string>\u001b[0m in \u001b[0;36m<module>\u001b[0;34m\u001b[0m\n",
         "\u001b[0;32m~/anaconda3/lib/python3.6/site-packages/pandas/core/frame.py\u001b[0m in \u001b[0;36mapply\u001b[0;34m(self, func, axis, broadcast, raw, reduce, result_type, args, **kwds)\u001b[0m\n\u001b[1;32m   6012\u001b[0m                          \u001b[0margs\u001b[0m\u001b[0;34m=\u001b[0m\u001b[0margs\u001b[0m\u001b[0;34m,\u001b[0m\u001b[0;34m\u001b[0m\u001b[0m\n\u001b[1;32m   6013\u001b[0m                          kwds=kwds)\n\u001b[0;32m-> 6014\u001b[0;31m         \u001b[0;32mreturn\u001b[0m \u001b[0mop\u001b[0m\u001b[0;34m.\u001b[0m\u001b[0mget_result\u001b[0m\u001b[0;34m(\u001b[0m\u001b[0;34m)\u001b[0m\u001b[0;34m\u001b[0m\u001b[0m\n\u001b[0m\u001b[1;32m   6015\u001b[0m \u001b[0;34m\u001b[0m\u001b[0m\n\u001b[1;32m   6016\u001b[0m     \u001b[0;32mdef\u001b[0m \u001b[0mapplymap\u001b[0m\u001b[0;34m(\u001b[0m\u001b[0mself\u001b[0m\u001b[0;34m,\u001b[0m \u001b[0mfunc\u001b[0m\u001b[0;34m)\u001b[0m\u001b[0;34m:\u001b[0m\u001b[0;34m\u001b[0m\u001b[0m\n",
         "\u001b[0;32m~/anaconda3/lib/python3.6/site-packages/pandas/core/apply.py\u001b[0m in \u001b[0;36mget_result\u001b[0;34m(self)\u001b[0m\n\u001b[1;32m    140\u001b[0m             \u001b[0;32mreturn\u001b[0m \u001b[0mself\u001b[0m\u001b[0;34m.\u001b[0m\u001b[0mapply_raw\u001b[0m\u001b[0;34m(\u001b[0m\u001b[0;34m)\u001b[0m\u001b[0;34m\u001b[0m\u001b[0m\n\u001b[1;32m    141\u001b[0m \u001b[0;34m\u001b[0m\u001b[0m\n\u001b[0;32m--> 142\u001b[0;31m         \u001b[0;32mreturn\u001b[0m \u001b[0mself\u001b[0m\u001b[0;34m.\u001b[0m\u001b[0mapply_standard\u001b[0m\u001b[0;34m(\u001b[0m\u001b[0;34m)\u001b[0m\u001b[0;34m\u001b[0m\u001b[0m\n\u001b[0m\u001b[1;32m    143\u001b[0m \u001b[0;34m\u001b[0m\u001b[0m\n\u001b[1;32m    144\u001b[0m     \u001b[0;32mdef\u001b[0m \u001b[0mapply_empty_result\u001b[0m\u001b[0;34m(\u001b[0m\u001b[0mself\u001b[0m\u001b[0;34m)\u001b[0m\u001b[0;34m:\u001b[0m\u001b[0;34m\u001b[0m\u001b[0m\n",
         "\u001b[0;32m~/anaconda3/lib/python3.6/site-packages/pandas/core/apply.py\u001b[0m in \u001b[0;36mapply_standard\u001b[0;34m(self)\u001b[0m\n\u001b[1;32m    246\u001b[0m \u001b[0;34m\u001b[0m\u001b[0m\n\u001b[1;32m    247\u001b[0m         \u001b[0;31m# compute the result using the series generator\u001b[0m\u001b[0;34m\u001b[0m\u001b[0;34m\u001b[0m\u001b[0m\n\u001b[0;32m--> 248\u001b[0;31m         \u001b[0mself\u001b[0m\u001b[0;34m.\u001b[0m\u001b[0mapply_series_generator\u001b[0m\u001b[0;34m(\u001b[0m\u001b[0;34m)\u001b[0m\u001b[0;34m\u001b[0m\u001b[0m\n\u001b[0m\u001b[1;32m    249\u001b[0m \u001b[0;34m\u001b[0m\u001b[0m\n\u001b[1;32m    250\u001b[0m         \u001b[0;31m# wrap results\u001b[0m\u001b[0;34m\u001b[0m\u001b[0;34m\u001b[0m\u001b[0m\n",
         "\u001b[0;32m~/anaconda3/lib/python3.6/site-packages/pandas/core/apply.py\u001b[0m in \u001b[0;36mapply_series_generator\u001b[0;34m(self)\u001b[0m\n\u001b[1;32m    275\u001b[0m             \u001b[0;32mtry\u001b[0m\u001b[0;34m:\u001b[0m\u001b[0;34m\u001b[0m\u001b[0m\n\u001b[1;32m    276\u001b[0m                 \u001b[0;32mfor\u001b[0m \u001b[0mi\u001b[0m\u001b[0;34m,\u001b[0m \u001b[0mv\u001b[0m \u001b[0;32min\u001b[0m \u001b[0menumerate\u001b[0m\u001b[0;34m(\u001b[0m\u001b[0mseries_gen\u001b[0m\u001b[0;34m)\u001b[0m\u001b[0;34m:\u001b[0m\u001b[0;34m\u001b[0m\u001b[0m\n\u001b[0;32m--> 277\u001b[0;31m                     \u001b[0mresults\u001b[0m\u001b[0;34m[\u001b[0m\u001b[0mi\u001b[0m\u001b[0;34m]\u001b[0m \u001b[0;34m=\u001b[0m \u001b[0mself\u001b[0m\u001b[0;34m.\u001b[0m\u001b[0mf\u001b[0m\u001b[0;34m(\u001b[0m\u001b[0mv\u001b[0m\u001b[0;34m)\u001b[0m\u001b[0;34m\u001b[0m\u001b[0m\n\u001b[0m\u001b[1;32m    278\u001b[0m                     \u001b[0mkeys\u001b[0m\u001b[0;34m.\u001b[0m\u001b[0mappend\u001b[0m\u001b[0;34m(\u001b[0m\u001b[0mv\u001b[0m\u001b[0;34m.\u001b[0m\u001b[0mname\u001b[0m\u001b[0;34m)\u001b[0m\u001b[0;34m\u001b[0m\u001b[0m\n\u001b[1;32m    279\u001b[0m             \u001b[0;32mexcept\u001b[0m \u001b[0mException\u001b[0m \u001b[0;32mas\u001b[0m \u001b[0me\u001b[0m\u001b[0;34m:\u001b[0m\u001b[0;34m\u001b[0m\u001b[0m\n",
         "\u001b[0;32m<ipython-input-162-e1fcb52d6656>\u001b[0m in \u001b[0;36mmax_pairwise_jaccard\u001b[0;34m(sets_pair)\u001b[0m\n\u001b[1;32m      7\u001b[0m \u001b[0;32mdef\u001b[0m \u001b[0mmax_pairwise_jaccard\u001b[0m\u001b[0;34m(\u001b[0m\u001b[0msets_pair\u001b[0m\u001b[0;34m)\u001b[0m\u001b[0;34m:\u001b[0m\u001b[0;34m\u001b[0m\u001b[0m\n\u001b[1;32m      8\u001b[0m     \u001b[0msets1\u001b[0m\u001b[0;34m,\u001b[0m \u001b[0msets2\u001b[0m \u001b[0;34m=\u001b[0m \u001b[0msets_pair\u001b[0m\u001b[0;34m\u001b[0m\u001b[0m\n\u001b[0;32m----> 9\u001b[0;31m     \u001b[0mpairs\u001b[0m \u001b[0;34m=\u001b[0m \u001b[0mproduct\u001b[0m\u001b[0;34m(\u001b[0m\u001b[0msets1\u001b[0m\u001b[0;34m,\u001b[0m \u001b[0msets2\u001b[0m\u001b[0;34m)\u001b[0m\u001b[0;34m\u001b[0m\u001b[0m\n\u001b[0m\u001b[1;32m     10\u001b[0m     \u001b[0;32mreturn\u001b[0m \u001b[0mmax\u001b[0m\u001b[0;34m(\u001b[0m\u001b[0mjaccard\u001b[0m\u001b[0;34m(\u001b[0m\u001b[0;34m*\u001b[0m\u001b[0mpair\u001b[0m\u001b[0;34m)\u001b[0m \u001b[0;32mfor\u001b[0m \u001b[0mpair\u001b[0m \u001b[0;32min\u001b[0m \u001b[0mpairs\u001b[0m\u001b[0;34m)\u001b[0m\u001b[0;34m\u001b[0m\u001b[0m\n\u001b[1;32m     11\u001b[0m \u001b[0;34m\u001b[0m\u001b[0m\n",
         "\u001b[0;31mTypeError\u001b[0m: (\"'float' object is not iterable\", 'occurred at index 244471')"
        ]
       },
       "metadata": {},
       "msg_type": "error",
       "version": "5.3"
      },
      "timestamp": "2018-11-16T22:48:25.351Z"
     },
     {
      "code": "(with_categories[['categories_reviewer', 'categories_item']]\n .apply(max_pairwise_jaccard, axis=1)\n)",
      "response": {
       "content": {
        "ename": "TypeError",
        "evalue": "(\"'float' object is not iterable\", 'occurred at index 244471')",
        "traceback": [
         "\u001b[0;31m---------------------------------------------------------------------------\u001b[0m",
         "\u001b[0;31mTypeError\u001b[0m                                 Traceback (most recent call last)",
         "\u001b[0;32m<ipython-input-165-d0c12ebf66cf>\u001b[0m in \u001b[0;36m<module>\u001b[0;34m\u001b[0m\n\u001b[1;32m      1\u001b[0m (with_categories[['categories_reviewer', 'categories_item']]\n\u001b[0;32m----> 2\u001b[0;31m  \u001b[0;34m.\u001b[0m\u001b[0mapply\u001b[0m\u001b[0;34m(\u001b[0m\u001b[0mmax_pairwise_jaccard\u001b[0m\u001b[0;34m,\u001b[0m \u001b[0maxis\u001b[0m\u001b[0;34m=\u001b[0m\u001b[0;36m1\u001b[0m\u001b[0;34m)\u001b[0m\u001b[0;34m\u001b[0m\u001b[0m\n\u001b[0m\u001b[1;32m      3\u001b[0m )\n",
         "\u001b[0;32m~/anaconda3/lib/python3.6/site-packages/pandas/core/frame.py\u001b[0m in \u001b[0;36mapply\u001b[0;34m(self, func, axis, broadcast, raw, reduce, result_type, args, **kwds)\u001b[0m\n\u001b[1;32m   6012\u001b[0m                          \u001b[0margs\u001b[0m\u001b[0;34m=\u001b[0m\u001b[0margs\u001b[0m\u001b[0;34m,\u001b[0m\u001b[0;34m\u001b[0m\u001b[0m\n\u001b[1;32m   6013\u001b[0m                          kwds=kwds)\n\u001b[0;32m-> 6014\u001b[0;31m         \u001b[0;32mreturn\u001b[0m \u001b[0mop\u001b[0m\u001b[0;34m.\u001b[0m\u001b[0mget_result\u001b[0m\u001b[0;34m(\u001b[0m\u001b[0;34m)\u001b[0m\u001b[0;34m\u001b[0m\u001b[0m\n\u001b[0m\u001b[1;32m   6015\u001b[0m \u001b[0;34m\u001b[0m\u001b[0m\n\u001b[1;32m   6016\u001b[0m     \u001b[0;32mdef\u001b[0m \u001b[0mapplymap\u001b[0m\u001b[0;34m(\u001b[0m\u001b[0mself\u001b[0m\u001b[0;34m,\u001b[0m \u001b[0mfunc\u001b[0m\u001b[0;34m)\u001b[0m\u001b[0;34m:\u001b[0m\u001b[0;34m\u001b[0m\u001b[0m\n",
         "\u001b[0;32m~/anaconda3/lib/python3.6/site-packages/pandas/core/apply.py\u001b[0m in \u001b[0;36mget_result\u001b[0;34m(self)\u001b[0m\n\u001b[1;32m    140\u001b[0m             \u001b[0;32mreturn\u001b[0m \u001b[0mself\u001b[0m\u001b[0;34m.\u001b[0m\u001b[0mapply_raw\u001b[0m\u001b[0;34m(\u001b[0m\u001b[0;34m)\u001b[0m\u001b[0;34m\u001b[0m\u001b[0m\n\u001b[1;32m    141\u001b[0m \u001b[0;34m\u001b[0m\u001b[0m\n\u001b[0;32m--> 142\u001b[0;31m         \u001b[0;32mreturn\u001b[0m \u001b[0mself\u001b[0m\u001b[0;34m.\u001b[0m\u001b[0mapply_standard\u001b[0m\u001b[0;34m(\u001b[0m\u001b[0;34m)\u001b[0m\u001b[0;34m\u001b[0m\u001b[0m\n\u001b[0m\u001b[1;32m    143\u001b[0m \u001b[0;34m\u001b[0m\u001b[0m\n\u001b[1;32m    144\u001b[0m     \u001b[0;32mdef\u001b[0m \u001b[0mapply_empty_result\u001b[0m\u001b[0;34m(\u001b[0m\u001b[0mself\u001b[0m\u001b[0;34m)\u001b[0m\u001b[0;34m:\u001b[0m\u001b[0;34m\u001b[0m\u001b[0m\n",
         "\u001b[0;32m~/anaconda3/lib/python3.6/site-packages/pandas/core/apply.py\u001b[0m in \u001b[0;36mapply_standard\u001b[0;34m(self)\u001b[0m\n\u001b[1;32m    246\u001b[0m \u001b[0;34m\u001b[0m\u001b[0m\n\u001b[1;32m    247\u001b[0m         \u001b[0;31m# compute the result using the series generator\u001b[0m\u001b[0;34m\u001b[0m\u001b[0;34m\u001b[0m\u001b[0m\n\u001b[0;32m--> 248\u001b[0;31m         \u001b[0mself\u001b[0m\u001b[0;34m.\u001b[0m\u001b[0mapply_series_generator\u001b[0m\u001b[0;34m(\u001b[0m\u001b[0;34m)\u001b[0m\u001b[0;34m\u001b[0m\u001b[0m\n\u001b[0m\u001b[1;32m    249\u001b[0m \u001b[0;34m\u001b[0m\u001b[0m\n\u001b[1;32m    250\u001b[0m         \u001b[0;31m# wrap results\u001b[0m\u001b[0;34m\u001b[0m\u001b[0;34m\u001b[0m\u001b[0m\n",
         "\u001b[0;32m~/anaconda3/lib/python3.6/site-packages/pandas/core/apply.py\u001b[0m in \u001b[0;36mapply_series_generator\u001b[0;34m(self)\u001b[0m\n\u001b[1;32m    275\u001b[0m             \u001b[0;32mtry\u001b[0m\u001b[0;34m:\u001b[0m\u001b[0;34m\u001b[0m\u001b[0m\n\u001b[1;32m    276\u001b[0m                 \u001b[0;32mfor\u001b[0m \u001b[0mi\u001b[0m\u001b[0;34m,\u001b[0m \u001b[0mv\u001b[0m \u001b[0;32min\u001b[0m \u001b[0menumerate\u001b[0m\u001b[0;34m(\u001b[0m\u001b[0mseries_gen\u001b[0m\u001b[0;34m)\u001b[0m\u001b[0;34m:\u001b[0m\u001b[0;34m\u001b[0m\u001b[0m\n\u001b[0;32m--> 277\u001b[0;31m                     \u001b[0mresults\u001b[0m\u001b[0;34m[\u001b[0m\u001b[0mi\u001b[0m\u001b[0;34m]\u001b[0m \u001b[0;34m=\u001b[0m \u001b[0mself\u001b[0m\u001b[0;34m.\u001b[0m\u001b[0mf\u001b[0m\u001b[0;34m(\u001b[0m\u001b[0mv\u001b[0m\u001b[0;34m)\u001b[0m\u001b[0;34m\u001b[0m\u001b[0m\n\u001b[0m\u001b[1;32m    278\u001b[0m                     \u001b[0mkeys\u001b[0m\u001b[0;34m.\u001b[0m\u001b[0mappend\u001b[0m\u001b[0;34m(\u001b[0m\u001b[0mv\u001b[0m\u001b[0;34m.\u001b[0m\u001b[0mname\u001b[0m\u001b[0;34m)\u001b[0m\u001b[0;34m\u001b[0m\u001b[0m\n\u001b[1;32m    279\u001b[0m             \u001b[0;32mexcept\u001b[0m \u001b[0mException\u001b[0m \u001b[0;32mas\u001b[0m \u001b[0me\u001b[0m\u001b[0;34m:\u001b[0m\u001b[0;34m\u001b[0m\u001b[0m\n",
         "\u001b[0;32m<ipython-input-162-e1fcb52d6656>\u001b[0m in \u001b[0;36mmax_pairwise_jaccard\u001b[0;34m(sets_pair)\u001b[0m\n\u001b[1;32m      7\u001b[0m \u001b[0;32mdef\u001b[0m \u001b[0mmax_pairwise_jaccard\u001b[0m\u001b[0;34m(\u001b[0m\u001b[0msets_pair\u001b[0m\u001b[0;34m)\u001b[0m\u001b[0;34m:\u001b[0m\u001b[0;34m\u001b[0m\u001b[0m\n\u001b[1;32m      8\u001b[0m     \u001b[0msets1\u001b[0m\u001b[0;34m,\u001b[0m \u001b[0msets2\u001b[0m \u001b[0;34m=\u001b[0m \u001b[0msets_pair\u001b[0m\u001b[0;34m\u001b[0m\u001b[0m\n\u001b[0;32m----> 9\u001b[0;31m     \u001b[0mpairs\u001b[0m \u001b[0;34m=\u001b[0m \u001b[0mproduct\u001b[0m\u001b[0;34m(\u001b[0m\u001b[0msets1\u001b[0m\u001b[0;34m,\u001b[0m \u001b[0msets2\u001b[0m\u001b[0;34m)\u001b[0m\u001b[0;34m\u001b[0m\u001b[0m\n\u001b[0m\u001b[1;32m     10\u001b[0m     \u001b[0;32mreturn\u001b[0m \u001b[0mmax\u001b[0m\u001b[0;34m(\u001b[0m\u001b[0mjaccard\u001b[0m\u001b[0;34m(\u001b[0m\u001b[0;34m*\u001b[0m\u001b[0mpair\u001b[0m\u001b[0;34m)\u001b[0m \u001b[0;32mfor\u001b[0m \u001b[0mpair\u001b[0m \u001b[0;32min\u001b[0m \u001b[0mpairs\u001b[0m\u001b[0;34m)\u001b[0m\u001b[0;34m\u001b[0m\u001b[0m\n\u001b[1;32m     11\u001b[0m \u001b[0;34m\u001b[0m\u001b[0m\n",
         "\u001b[0;31mTypeError\u001b[0m: (\"'float' object is not iterable\", 'occurred at index 244471')"
        ]
       },
       "metadata": {},
       "msg_type": "error",
       "version": "5.3"
      },
      "timestamp": "2018-11-16T22:48:32.944Z"
     },
     {
      "code": "(with_categories[['categories_reviewer', 'categories_item']]\n#  .apply(max_pairwise_jaccard, axis=1)\n)",
      "response": {
       "content": {
        "data": {
         "text/html": "<div>\n<style scoped>\n    .dataframe tbody tr th:only-of-type {\n        vertical-align: middle;\n    }\n\n    .dataframe tbody tr th {\n        vertical-align: top;\n    }\n\n    .dataframe thead th {\n        text-align: right;\n    }\n</style>\n<table border=\"1\" class=\"dataframe\">\n  <thead>\n    <tr style=\"text-align: right;\">\n      <th></th>\n      <th>categories_reviewer</th>\n      <th>categories_item</th>\n    </tr>\n  </thead>\n  <tbody>\n    <tr>\n      <th>4941</th>\n      <td>{(Clothing, Shoes &amp; Jewelry, Men, Big &amp; Tall),...</td>\n      <td>{(Clothing, Shoes &amp; Jewelry, Men, Big &amp; Tall),...</td>\n    </tr>\n    <tr>\n      <th>51775</th>\n      <td>{(Clothing, Shoes &amp; Jewelry, Women, Clothing, ...</td>\n      <td>{(Clothing, Shoes &amp; Jewelry, Women, Clothing, ...</td>\n    </tr>\n    <tr>\n      <th>...</th>\n      <td>...</td>\n      <td>...</td>\n    </tr>\n    <tr>\n      <th>31286</th>\n      <td>{(Clothing, Shoes &amp; Jewelry, Women, Shoes, San...</td>\n      <td>{(Clothing, Shoes &amp; Jewelry, Women, Clothing, ...</td>\n    </tr>\n    <tr>\n      <th>205716</th>\n      <td>{(Clothing, Shoes &amp; Jewelry, Women, Shoes, Loa...</td>\n      <td>{(Clothing, Shoes &amp; Jewelry, Winter Promo), (C...</td>\n    </tr>\n  </tbody>\n</table>\n<p>150000 rows × 2 columns</p>\n</div>",
         "text/plain": "                                      categories_reviewer  \\\n4941    {(Clothing, Shoes & Jewelry, Men, Big & Tall),...   \n51775   {(Clothing, Shoes & Jewelry, Women, Clothing, ...   \n...                                                   ...   \n31286   {(Clothing, Shoes & Jewelry, Women, Shoes, San...   \n205716  {(Clothing, Shoes & Jewelry, Women, Shoes, Loa...   \n\n                                          categories_item  \n4941    {(Clothing, Shoes & Jewelry, Men, Big & Tall),...  \n51775   {(Clothing, Shoes & Jewelry, Women, Clothing, ...  \n...                                                   ...  \n31286   {(Clothing, Shoes & Jewelry, Women, Clothing, ...  \n205716  {(Clothing, Shoes & Jewelry, Winter Promo), (C...  \n\n[150000 rows x 2 columns]"
        },
        "execution_count": 166,
        "metadata": {}
       },
       "metadata": {},
       "msg_type": "execute_result",
       "version": "5.3"
      },
      "timestamp": "2018-11-16T22:49:15.290Z"
     },
     {
      "code": "(with_categories[['categories_reviewer', 'categories_item']]\n .apply(max_pairwise_jaccard, axis=1)\n)",
      "response": {
       "content": {
        "ename": "TypeError",
        "evalue": "(\"'float' object is not iterable\", 'occurred at index 244471')",
        "traceback": [
         "\u001b[0;31m---------------------------------------------------------------------------\u001b[0m",
         "\u001b[0;31mTypeError\u001b[0m                                 Traceback (most recent call last)",
         "\u001b[0;32m<ipython-input-167-d0c12ebf66cf>\u001b[0m in \u001b[0;36m<module>\u001b[0;34m\u001b[0m\n\u001b[1;32m      1\u001b[0m (with_categories[['categories_reviewer', 'categories_item']]\n\u001b[0;32m----> 2\u001b[0;31m  \u001b[0;34m.\u001b[0m\u001b[0mapply\u001b[0m\u001b[0;34m(\u001b[0m\u001b[0mmax_pairwise_jaccard\u001b[0m\u001b[0;34m,\u001b[0m \u001b[0maxis\u001b[0m\u001b[0;34m=\u001b[0m\u001b[0;36m1\u001b[0m\u001b[0;34m)\u001b[0m\u001b[0;34m\u001b[0m\u001b[0m\n\u001b[0m\u001b[1;32m      3\u001b[0m )\n",
         "\u001b[0;32m~/anaconda3/lib/python3.6/site-packages/pandas/core/frame.py\u001b[0m in \u001b[0;36mapply\u001b[0;34m(self, func, axis, broadcast, raw, reduce, result_type, args, **kwds)\u001b[0m\n\u001b[1;32m   6012\u001b[0m                          \u001b[0margs\u001b[0m\u001b[0;34m=\u001b[0m\u001b[0margs\u001b[0m\u001b[0;34m,\u001b[0m\u001b[0;34m\u001b[0m\u001b[0m\n\u001b[1;32m   6013\u001b[0m                          kwds=kwds)\n\u001b[0;32m-> 6014\u001b[0;31m         \u001b[0;32mreturn\u001b[0m \u001b[0mop\u001b[0m\u001b[0;34m.\u001b[0m\u001b[0mget_result\u001b[0m\u001b[0;34m(\u001b[0m\u001b[0;34m)\u001b[0m\u001b[0;34m\u001b[0m\u001b[0m\n\u001b[0m\u001b[1;32m   6015\u001b[0m \u001b[0;34m\u001b[0m\u001b[0m\n\u001b[1;32m   6016\u001b[0m     \u001b[0;32mdef\u001b[0m \u001b[0mapplymap\u001b[0m\u001b[0;34m(\u001b[0m\u001b[0mself\u001b[0m\u001b[0;34m,\u001b[0m \u001b[0mfunc\u001b[0m\u001b[0;34m)\u001b[0m\u001b[0;34m:\u001b[0m\u001b[0;34m\u001b[0m\u001b[0m\n",
         "\u001b[0;32m~/anaconda3/lib/python3.6/site-packages/pandas/core/apply.py\u001b[0m in \u001b[0;36mget_result\u001b[0;34m(self)\u001b[0m\n\u001b[1;32m    140\u001b[0m             \u001b[0;32mreturn\u001b[0m \u001b[0mself\u001b[0m\u001b[0;34m.\u001b[0m\u001b[0mapply_raw\u001b[0m\u001b[0;34m(\u001b[0m\u001b[0;34m)\u001b[0m\u001b[0;34m\u001b[0m\u001b[0m\n\u001b[1;32m    141\u001b[0m \u001b[0;34m\u001b[0m\u001b[0m\n\u001b[0;32m--> 142\u001b[0;31m         \u001b[0;32mreturn\u001b[0m \u001b[0mself\u001b[0m\u001b[0;34m.\u001b[0m\u001b[0mapply_standard\u001b[0m\u001b[0;34m(\u001b[0m\u001b[0;34m)\u001b[0m\u001b[0;34m\u001b[0m\u001b[0m\n\u001b[0m\u001b[1;32m    143\u001b[0m \u001b[0;34m\u001b[0m\u001b[0m\n\u001b[1;32m    144\u001b[0m     \u001b[0;32mdef\u001b[0m \u001b[0mapply_empty_result\u001b[0m\u001b[0;34m(\u001b[0m\u001b[0mself\u001b[0m\u001b[0;34m)\u001b[0m\u001b[0;34m:\u001b[0m\u001b[0;34m\u001b[0m\u001b[0m\n",
         "\u001b[0;32m~/anaconda3/lib/python3.6/site-packages/pandas/core/apply.py\u001b[0m in \u001b[0;36mapply_standard\u001b[0;34m(self)\u001b[0m\n\u001b[1;32m    246\u001b[0m \u001b[0;34m\u001b[0m\u001b[0m\n\u001b[1;32m    247\u001b[0m         \u001b[0;31m# compute the result using the series generator\u001b[0m\u001b[0;34m\u001b[0m\u001b[0;34m\u001b[0m\u001b[0m\n\u001b[0;32m--> 248\u001b[0;31m         \u001b[0mself\u001b[0m\u001b[0;34m.\u001b[0m\u001b[0mapply_series_generator\u001b[0m\u001b[0;34m(\u001b[0m\u001b[0;34m)\u001b[0m\u001b[0;34m\u001b[0m\u001b[0m\n\u001b[0m\u001b[1;32m    249\u001b[0m \u001b[0;34m\u001b[0m\u001b[0m\n\u001b[1;32m    250\u001b[0m         \u001b[0;31m# wrap results\u001b[0m\u001b[0;34m\u001b[0m\u001b[0;34m\u001b[0m\u001b[0m\n",
         "\u001b[0;32m~/anaconda3/lib/python3.6/site-packages/pandas/core/apply.py\u001b[0m in \u001b[0;36mapply_series_generator\u001b[0;34m(self)\u001b[0m\n\u001b[1;32m    275\u001b[0m             \u001b[0;32mtry\u001b[0m\u001b[0;34m:\u001b[0m\u001b[0;34m\u001b[0m\u001b[0m\n\u001b[1;32m    276\u001b[0m                 \u001b[0;32mfor\u001b[0m \u001b[0mi\u001b[0m\u001b[0;34m,\u001b[0m \u001b[0mv\u001b[0m \u001b[0;32min\u001b[0m \u001b[0menumerate\u001b[0m\u001b[0;34m(\u001b[0m\u001b[0mseries_gen\u001b[0m\u001b[0;34m)\u001b[0m\u001b[0;34m:\u001b[0m\u001b[0;34m\u001b[0m\u001b[0m\n\u001b[0;32m--> 277\u001b[0;31m                     \u001b[0mresults\u001b[0m\u001b[0;34m[\u001b[0m\u001b[0mi\u001b[0m\u001b[0;34m]\u001b[0m \u001b[0;34m=\u001b[0m \u001b[0mself\u001b[0m\u001b[0;34m.\u001b[0m\u001b[0mf\u001b[0m\u001b[0;34m(\u001b[0m\u001b[0mv\u001b[0m\u001b[0;34m)\u001b[0m\u001b[0;34m\u001b[0m\u001b[0m\n\u001b[0m\u001b[1;32m    278\u001b[0m                     \u001b[0mkeys\u001b[0m\u001b[0;34m.\u001b[0m\u001b[0mappend\u001b[0m\u001b[0;34m(\u001b[0m\u001b[0mv\u001b[0m\u001b[0;34m.\u001b[0m\u001b[0mname\u001b[0m\u001b[0;34m)\u001b[0m\u001b[0;34m\u001b[0m\u001b[0m\n\u001b[1;32m    279\u001b[0m             \u001b[0;32mexcept\u001b[0m \u001b[0mException\u001b[0m \u001b[0;32mas\u001b[0m \u001b[0me\u001b[0m\u001b[0;34m:\u001b[0m\u001b[0;34m\u001b[0m\u001b[0m\n",
         "\u001b[0;32m<ipython-input-162-e1fcb52d6656>\u001b[0m in \u001b[0;36mmax_pairwise_jaccard\u001b[0;34m(sets_pair)\u001b[0m\n\u001b[1;32m      7\u001b[0m \u001b[0;32mdef\u001b[0m \u001b[0mmax_pairwise_jaccard\u001b[0m\u001b[0;34m(\u001b[0m\u001b[0msets_pair\u001b[0m\u001b[0;34m)\u001b[0m\u001b[0;34m:\u001b[0m\u001b[0;34m\u001b[0m\u001b[0m\n\u001b[1;32m      8\u001b[0m     \u001b[0msets1\u001b[0m\u001b[0;34m,\u001b[0m \u001b[0msets2\u001b[0m \u001b[0;34m=\u001b[0m \u001b[0msets_pair\u001b[0m\u001b[0;34m\u001b[0m\u001b[0m\n\u001b[0;32m----> 9\u001b[0;31m     \u001b[0mpairs\u001b[0m \u001b[0;34m=\u001b[0m \u001b[0mproduct\u001b[0m\u001b[0;34m(\u001b[0m\u001b[0msets1\u001b[0m\u001b[0;34m,\u001b[0m \u001b[0msets2\u001b[0m\u001b[0;34m)\u001b[0m\u001b[0;34m\u001b[0m\u001b[0m\n\u001b[0m\u001b[1;32m     10\u001b[0m     \u001b[0;32mreturn\u001b[0m \u001b[0mmax\u001b[0m\u001b[0;34m(\u001b[0m\u001b[0mjaccard\u001b[0m\u001b[0;34m(\u001b[0m\u001b[0;34m*\u001b[0m\u001b[0mpair\u001b[0m\u001b[0;34m)\u001b[0m \u001b[0;32mfor\u001b[0m \u001b[0mpair\u001b[0m \u001b[0;32min\u001b[0m \u001b[0mpairs\u001b[0m\u001b[0;34m)\u001b[0m\u001b[0;34m\u001b[0m\u001b[0m\n\u001b[1;32m     11\u001b[0m \u001b[0;34m\u001b[0m\u001b[0m\n",
         "\u001b[0;31mTypeError\u001b[0m: (\"'float' object is not iterable\", 'occurred at index 244471')"
        ]
       },
       "metadata": {},
       "msg_type": "error",
       "version": "5.3"
      },
      "timestamp": "2018-11-16T22:49:28.610Z"
     },
     {
      "code": "(with_categories[['categories_reviewer', 'categories_item']]\n .apply(max_pairwise_jaccard, axis=1)\n)",
      "response": {
       "content": {
        "name": "stdout",
        "text": "{('Clothing, Shoes & Jewelry', 'Men', 'Big & Tall'), ('Clothing, Shoes & Jewelry', 'Novelty, Costumes & More', 'Band & Music Fan', 'T-Shirts'), ('Sports & Outdoors', 'Exercise & Fitness', 'Running', 'Clothing'), ('Clothing, Shoes & Jewelry', 'Men', 'Clothing', 'Active', 'Active Shirts & Tees'), ('Sports & Outdoors', 'Clothing', 'Men', 'Shirts', 'T-Shirts')}\n{('Clothing, Shoes & Jewelry', 'Women', 'Clothing', 'Lingerie, Sleep & Lounge', 'Intimates', 'Lingerie', 'Garter Belts'), ('Clothing, Shoes & Jewelry', 'Women', 'Clothing', 'Skirts', 'Night Out & Special Occasion')}\n{('Clothing, Shoes & Jewelry', 'Women', 'Shoes', 'Athletic', 'Sport Sandals'), ('Clothing, Shoes & Jewelry', 'Women', 'Clothing', 'Lingerie, Sleep & Lounge', 'Intimates', 'Bras', 'Everyday Bras'), ('Clothing, Shoes & Jewelry', 'Women'), ('Clothing, Shoes & Jewelry', 'Women', 'Shoes', 'Sandals'), ('Clothing, Shoes & Jewelry', 'Novelty, Costumes & More', 'Novelty', 'Jewelry', 'Necklaces & Pendants'), ('Clothing, Shoes & Jewelry', 'T', 'Teva'), ('Clothing, Shoes & Jewelry', 'Women', 'Petite', 'Intimates', 'Bras', 'Everyday Bras'), ('Clothing, Shoes & Jewelry', 'Shoes & Accessories: International Shipping Available')}\n{('Clothing, Shoes & Jewelry', 'Women', 'Plus-Size', 'Intimates', 'Bras', 'Everyday Bras'), ('Clothing, Shoes & Jewelry', 'Women', 'Clothing', 'Lingerie, Sleep & Lounge', 'Intimates', 'Bras', 'Everyday Bras'), ('Clothing, Shoes & Jewelry', 'Women', 'Clothing', 'Dresses')}\n{('Clothing, Shoes & Jewelry', 'Women', 'Shoes', 'Boots'), ('Clothing, Shoes & Jewelry', 'Women', 'Plus-Size', 'Swim', 'Cover-Ups'), ('Clothing, Shoes & Jewelry', 'Women', 'Petite', 'Swim', 'Cover-Ups'), ('Clothing, Shoes & Jewelry', 'Women', 'Clothing', 'Swimsuits & Cover Ups', 'Cover-Ups'), ('Clothing, Shoes & Jewelry', 'Boot Shop', 'Women', 'Fashion', 'Shearling'), ('Clothing, Shoes & Jewelry', 'Comfort Shoes'), ('Clothing, Shoes & Jewelry', 'C', 'Clarks'), ('Clothing, Shoes & Jewelry', 'Men', 'Accessories', 'Sunglasses & Eyewear Accessories', 'Sunglasses'), ('Clothing, Shoes & Jewelry', 'Shoes & Accessories: International Shipping Available')}\n{('Clothing, Shoes & Jewelry', 'Women', 'Maternity', 'Intimates', 'Nursing & Maternity Bras')}\n{('Clothing, Shoes & Jewelry', 'S', 'SOREL'), ('Clothing, Shoes & Jewelry', 'Women', 'Shoes', 'Boots'), ('Clothing, Shoes & Jewelry', 'Women', 'Shoes', 'Outdoor', 'Snow Boots'), ('Clothing, Shoes & Jewelry', 'Novelty, Costumes & More', 'Costumes & Accessories'), ('Clothing, Shoes & Jewelry', 'Shoes & Accessories: International Shipping Available'), ('Clothing, Shoes & Jewelry', 'Boot Shop', 'Women', 'Outdoor & Work', 'Snow & Cold Weather')}\n{('Clothing, Shoes & Jewelry', 'Men', 'Big & Tall'), ('Clothing, Shoes & Jewelry', 'Novelty, Costumes & More', 'Band & Music Fan', 'T-Shirts'), ('Sports & Outdoors', 'Exercise & Fitness', 'Running', 'Clothing'), ('Clothing, Shoes & Jewelry', 'Men', 'Clothing', 'Active', 'Active Shirts & Tees'), ('Sports & Outdoors', 'Clothing', 'Men', 'Shirts', 'T-Shirts')}\n{('Clothing, Shoes & Jewelry', 'Women', 'Clothing', 'Lingerie, Sleep & Lounge', 'Intimates', 'Lingerie', 'Garter Belts'), ('Clothing, Shoes & Jewelry', 'Women', 'Clothing', 'Skirts', 'Night Out & Special Occasion')}\n{('Clothing, Shoes & Jewelry', 'Women', 'Shoes', 'Athletic', 'Sport Sandals'), ('Clothing, Shoes & Jewelry', 'Women', 'Clothing', 'Lingerie, Sleep & Lounge', 'Intimates', 'Bras', 'Everyday Bras'), ('Clothing, Shoes & Jewelry', 'Women'), ('Clothing, Shoes & Jewelry', 'Women', 'Shoes', 'Sandals'), ('Clothing, Shoes & Jewelry', 'Novelty, Costumes & More', 'Novelty', 'Jewelry', 'Necklaces & Pendants'), ('Clothing, Shoes & Jewelry', 'T', 'Teva'), ('Clothing, Shoes & Jewelry', 'Women', 'Petite', 'Intimates', 'Bras', 'Everyday Bras'), ('Clothing, Shoes & Jewelry', 'Shoes & Accessories: International Shipping Available')}\n{('Clothing, Shoes & Jewelry', 'Women', 'Plus-Size', 'Intimates', 'Bras', 'Everyday Bras'), ('Clothing, Shoes & Jewelry', 'Women', 'Clothing', 'Lingerie, Sleep & Lounge', 'Intimates', 'Bras', 'Everyday Bras'), ('Clothing, Shoes & Jewelry', 'Women', 'Clothing', 'Dresses')}\n{('Clothing, Shoes & Jewelry', 'Women', 'Shoes', 'Boots'), ('Clothing, Shoes & Jewelry', 'Women', 'Plus-Size', 'Swim', 'Cover-Ups'), ('Clothing, Shoes & Jewelry', 'Women', 'Petite', 'Swim', 'Cover-Ups'), ('Clothing, Shoes & Jewelry', 'Women', 'Clothing', 'Swimsuits & Cover Ups', 'Cover-Ups'), ('Clothing, Shoes & Jewelry', 'Boot Shop', 'Women', 'Fashion', 'Shearling'), ('Clothing, Shoes & Jewelry', 'Comfort Shoes'), ('Clothing, Shoes & Jewelry', 'C', 'Clarks'), ('Clothing, Shoes & Jewelry', 'Men', 'Accessories', 'Sunglasses & Eyewear Accessories', 'Sunglasses'), ('Clothing, Shoes & Jewelry', 'Shoes & Accessories: International Shipping Available')}\n{('Clothing, Shoes & Jewelry', 'Women', 'Maternity', 'Intimates', 'Nursing & Maternity Bras')}\n{('Clothing, Shoes & Jewelry', 'S', 'SOREL'), ('Clothing, Shoes & Jewelry', 'Women', 'Shoes', 'Boots'), ('Clothing, Shoes & Jewelry', 'Women', 'Shoes', 'Outdoor', 'Snow Boots'), ('Clothing, Shoes & Jewelry', 'Novelty, Costumes & More', 'Costumes & Accessories'), ('Clothing, Shoes & Jewelry', 'Shoes & Accessories: International Shipping Available'), ('Clothing, Shoes & Jewelry', 'Boot Shop', 'Women', 'Outdoor & Work', 'Snow & Cold Weather')}\n"
       },
       "metadata": {},
       "msg_type": "stream",
       "version": "5.3"
      },
      "timestamp": "2018-11-16T22:49:50.282Z"
     },
     {
      "code": "(with_categories[['categories_reviewer', 'categories_item']]\n .apply(max_pairwise_jaccard, axis=1)\n)",
      "response": {
       "content": {
        "ename": "TypeError",
        "evalue": "(\"'float' object is not iterable\", 'occurred at index 244471')",
        "traceback": [
         "\u001b[0;31m---------------------------------------------------------------------------\u001b[0m",
         "\u001b[0;31mTypeError\u001b[0m                                 Traceback (most recent call last)",
         "\u001b[0;32m<ipython-input-169-d0c12ebf66cf>\u001b[0m in \u001b[0;36m<module>\u001b[0;34m\u001b[0m\n\u001b[1;32m      1\u001b[0m (with_categories[['categories_reviewer', 'categories_item']]\n\u001b[0;32m----> 2\u001b[0;31m  \u001b[0;34m.\u001b[0m\u001b[0mapply\u001b[0m\u001b[0;34m(\u001b[0m\u001b[0mmax_pairwise_jaccard\u001b[0m\u001b[0;34m,\u001b[0m \u001b[0maxis\u001b[0m\u001b[0;34m=\u001b[0m\u001b[0;36m1\u001b[0m\u001b[0;34m)\u001b[0m\u001b[0;34m\u001b[0m\u001b[0m\n\u001b[0m\u001b[1;32m      3\u001b[0m )\n",
         "\u001b[0;32m~/anaconda3/lib/python3.6/site-packages/pandas/core/frame.py\u001b[0m in \u001b[0;36mapply\u001b[0;34m(self, func, axis, broadcast, raw, reduce, result_type, args, **kwds)\u001b[0m\n\u001b[1;32m   6012\u001b[0m                          \u001b[0margs\u001b[0m\u001b[0;34m=\u001b[0m\u001b[0margs\u001b[0m\u001b[0;34m,\u001b[0m\u001b[0;34m\u001b[0m\u001b[0m\n\u001b[1;32m   6013\u001b[0m                          kwds=kwds)\n\u001b[0;32m-> 6014\u001b[0;31m         \u001b[0;32mreturn\u001b[0m \u001b[0mop\u001b[0m\u001b[0;34m.\u001b[0m\u001b[0mget_result\u001b[0m\u001b[0;34m(\u001b[0m\u001b[0;34m)\u001b[0m\u001b[0;34m\u001b[0m\u001b[0m\n\u001b[0m\u001b[1;32m   6015\u001b[0m \u001b[0;34m\u001b[0m\u001b[0m\n\u001b[1;32m   6016\u001b[0m     \u001b[0;32mdef\u001b[0m \u001b[0mapplymap\u001b[0m\u001b[0;34m(\u001b[0m\u001b[0mself\u001b[0m\u001b[0;34m,\u001b[0m \u001b[0mfunc\u001b[0m\u001b[0;34m)\u001b[0m\u001b[0;34m:\u001b[0m\u001b[0;34m\u001b[0m\u001b[0m\n",
         "\u001b[0;32m~/anaconda3/lib/python3.6/site-packages/pandas/core/apply.py\u001b[0m in \u001b[0;36mget_result\u001b[0;34m(self)\u001b[0m\n\u001b[1;32m    140\u001b[0m             \u001b[0;32mreturn\u001b[0m \u001b[0mself\u001b[0m\u001b[0;34m.\u001b[0m\u001b[0mapply_raw\u001b[0m\u001b[0;34m(\u001b[0m\u001b[0;34m)\u001b[0m\u001b[0;34m\u001b[0m\u001b[0m\n\u001b[1;32m    141\u001b[0m \u001b[0;34m\u001b[0m\u001b[0m\n\u001b[0;32m--> 142\u001b[0;31m         \u001b[0;32mreturn\u001b[0m \u001b[0mself\u001b[0m\u001b[0;34m.\u001b[0m\u001b[0mapply_standard\u001b[0m\u001b[0;34m(\u001b[0m\u001b[0;34m)\u001b[0m\u001b[0;34m\u001b[0m\u001b[0m\n\u001b[0m\u001b[1;32m    143\u001b[0m \u001b[0;34m\u001b[0m\u001b[0m\n\u001b[1;32m    144\u001b[0m     \u001b[0;32mdef\u001b[0m \u001b[0mapply_empty_result\u001b[0m\u001b[0;34m(\u001b[0m\u001b[0mself\u001b[0m\u001b[0;34m)\u001b[0m\u001b[0;34m:\u001b[0m\u001b[0;34m\u001b[0m\u001b[0m\n",
         "\u001b[0;32m~/anaconda3/lib/python3.6/site-packages/pandas/core/apply.py\u001b[0m in \u001b[0;36mapply_standard\u001b[0;34m(self)\u001b[0m\n\u001b[1;32m    246\u001b[0m \u001b[0;34m\u001b[0m\u001b[0m\n\u001b[1;32m    247\u001b[0m         \u001b[0;31m# compute the result using the series generator\u001b[0m\u001b[0;34m\u001b[0m\u001b[0;34m\u001b[0m\u001b[0m\n\u001b[0;32m--> 248\u001b[0;31m         \u001b[0mself\u001b[0m\u001b[0;34m.\u001b[0m\u001b[0mapply_series_generator\u001b[0m\u001b[0;34m(\u001b[0m\u001b[0;34m)\u001b[0m\u001b[0;34m\u001b[0m\u001b[0m\n\u001b[0m\u001b[1;32m    249\u001b[0m \u001b[0;34m\u001b[0m\u001b[0m\n\u001b[1;32m    250\u001b[0m         \u001b[0;31m# wrap results\u001b[0m\u001b[0;34m\u001b[0m\u001b[0;34m\u001b[0m\u001b[0m\n",
         "\u001b[0;32m~/anaconda3/lib/python3.6/site-packages/pandas/core/apply.py\u001b[0m in \u001b[0;36mapply_series_generator\u001b[0;34m(self)\u001b[0m\n\u001b[1;32m    275\u001b[0m             \u001b[0;32mtry\u001b[0m\u001b[0;34m:\u001b[0m\u001b[0;34m\u001b[0m\u001b[0m\n\u001b[1;32m    276\u001b[0m                 \u001b[0;32mfor\u001b[0m \u001b[0mi\u001b[0m\u001b[0;34m,\u001b[0m \u001b[0mv\u001b[0m \u001b[0;32min\u001b[0m \u001b[0menumerate\u001b[0m\u001b[0;34m(\u001b[0m\u001b[0mseries_gen\u001b[0m\u001b[0;34m)\u001b[0m\u001b[0;34m:\u001b[0m\u001b[0;34m\u001b[0m\u001b[0m\n\u001b[0;32m--> 277\u001b[0;31m                     \u001b[0mresults\u001b[0m\u001b[0;34m[\u001b[0m\u001b[0mi\u001b[0m\u001b[0;34m]\u001b[0m \u001b[0;34m=\u001b[0m \u001b[0mself\u001b[0m\u001b[0;34m.\u001b[0m\u001b[0mf\u001b[0m\u001b[0;34m(\u001b[0m\u001b[0mv\u001b[0m\u001b[0;34m)\u001b[0m\u001b[0;34m\u001b[0m\u001b[0m\n\u001b[0m\u001b[1;32m    278\u001b[0m                     \u001b[0mkeys\u001b[0m\u001b[0;34m.\u001b[0m\u001b[0mappend\u001b[0m\u001b[0;34m(\u001b[0m\u001b[0mv\u001b[0m\u001b[0;34m.\u001b[0m\u001b[0mname\u001b[0m\u001b[0;34m)\u001b[0m\u001b[0;34m\u001b[0m\u001b[0m\n\u001b[1;32m    279\u001b[0m             \u001b[0;32mexcept\u001b[0m \u001b[0mException\u001b[0m \u001b[0;32mas\u001b[0m \u001b[0me\u001b[0m\u001b[0;34m:\u001b[0m\u001b[0;34m\u001b[0m\u001b[0m\n",
         "\u001b[0;32m<ipython-input-168-1b64db77da61>\u001b[0m in \u001b[0;36mmax_pairwise_jaccard\u001b[0;34m(sets_pair)\u001b[0m\n\u001b[1;32m      8\u001b[0m     \u001b[0msets1\u001b[0m\u001b[0;34m,\u001b[0m \u001b[0msets2\u001b[0m \u001b[0;34m=\u001b[0m \u001b[0msets_pair\u001b[0m\u001b[0;34m\u001b[0m\u001b[0m\n\u001b[1;32m      9\u001b[0m     \u001b[0mprint\u001b[0m\u001b[0;34m(\u001b[0m\u001b[0msets1\u001b[0m\u001b[0;34m)\u001b[0m\u001b[0;34m\u001b[0m\u001b[0m\n\u001b[0;32m---> 10\u001b[0;31m     \u001b[0mpairs\u001b[0m \u001b[0;34m=\u001b[0m \u001b[0mproduct\u001b[0m\u001b[0;34m(\u001b[0m\u001b[0msets1\u001b[0m\u001b[0;34m,\u001b[0m \u001b[0msets2\u001b[0m\u001b[0;34m)\u001b[0m\u001b[0;34m\u001b[0m\u001b[0m\n\u001b[0m\u001b[1;32m     11\u001b[0m     \u001b[0;32mreturn\u001b[0m \u001b[0mmax\u001b[0m\u001b[0;34m(\u001b[0m\u001b[0mjaccard\u001b[0m\u001b[0;34m(\u001b[0m\u001b[0;34m*\u001b[0m\u001b[0mpair\u001b[0m\u001b[0;34m)\u001b[0m \u001b[0;32mfor\u001b[0m \u001b[0mpair\u001b[0m \u001b[0;32min\u001b[0m \u001b[0mpairs\u001b[0m\u001b[0;34m)\u001b[0m\u001b[0;34m\u001b[0m\u001b[0m\n\u001b[1;32m     12\u001b[0m \u001b[0;34m\u001b[0m\u001b[0m\n",
         "\u001b[0;31mTypeError\u001b[0m: (\"'float' object is not iterable\", 'occurred at index 244471')"
        ]
       },
       "metadata": {},
       "msg_type": "error",
       "version": "5.3"
      },
      "timestamp": "2018-11-16T22:49:50.284Z"
     },
     {
      "code": "%%pru\n(with_categories[['categories_reviewer', 'categories_item']]\n .apply(max_pairwise_jaccard, axis=1)\n)",
      "response": {
       "content": {
        "data": {
         "text/plain": "4941      1.0\n51775     1.0\n         ... \n31286     1.0\n205716    1.0\nLength: 150000, dtype: float64"
        },
        "execution_count": 173,
        "metadata": {}
       },
       "metadata": {},
       "msg_type": "execute_result",
       "version": "5.3"
      },
      "timestamp": "2018-11-16T22:51:57.151Z"
     },
     {
      "code": "%%prun\n\n(with_categories[['categories_reviewer', 'categories_item']]\n .apply(max_pairwise_jaccard, axis=1)\n)",
      "response": {
       "content": {
        "name": "stdout",
        "text": " "
       },
       "metadata": {},
       "msg_type": "stream",
       "version": "5.3"
      },
      "timestamp": "2018-11-16T22:52:14.192Z"
     },
     {
      "code": "%%prun\n\n(with_categories[['categories_reviewer', 'categories_item']]\n .apply(max_pairwise_jaccard, axis=1)\n)",
      "response": {
       "content": {
        "ename": "TypeError",
        "evalue": "(\"'float' object is not iterable\", 'occurred at index 244471')",
        "traceback": [
         "\u001b[0;31m---------------------------------------------------------------------------\u001b[0m",
         "\u001b[0;31mTypeError\u001b[0m                                 Traceback (most recent call last)",
         "\u001b[0;32m<ipython-input-178-70ed8ca1af1a>\u001b[0m in \u001b[0;36m<module>\u001b[0;34m\u001b[0m\n\u001b[0;32m----> 1\u001b[0;31m \u001b[0mget_ipython\u001b[0m\u001b[0;34m(\u001b[0m\u001b[0;34m)\u001b[0m\u001b[0;34m.\u001b[0m\u001b[0mrun_cell_magic\u001b[0m\u001b[0;34m(\u001b[0m\u001b[0;34m'prun'\u001b[0m\u001b[0;34m,\u001b[0m \u001b[0;34m''\u001b[0m\u001b[0;34m,\u001b[0m \u001b[0;34m\"\\n(with_categories[['categories_reviewer', 'categories_item']]\\n .apply(max_pairwise_jaccard, axis=1)\\n)\\n\"\u001b[0m\u001b[0;34m)\u001b[0m\u001b[0;34m\u001b[0m\u001b[0m\n\u001b[0m",
         "\u001b[0;32m~/anaconda3/lib/python3.6/site-packages/IPython/core/interactiveshell.py\u001b[0m in \u001b[0;36mrun_cell_magic\u001b[0;34m(self, magic_name, line, cell)\u001b[0m\n\u001b[1;32m   2319\u001b[0m             \u001b[0mmagic_arg_s\u001b[0m \u001b[0;34m=\u001b[0m \u001b[0mself\u001b[0m\u001b[0;34m.\u001b[0m\u001b[0mvar_expand\u001b[0m\u001b[0;34m(\u001b[0m\u001b[0mline\u001b[0m\u001b[0;34m,\u001b[0m \u001b[0mstack_depth\u001b[0m\u001b[0;34m)\u001b[0m\u001b[0;34m\u001b[0m\u001b[0m\n\u001b[1;32m   2320\u001b[0m             \u001b[0;32mwith\u001b[0m \u001b[0mself\u001b[0m\u001b[0;34m.\u001b[0m\u001b[0mbuiltin_trap\u001b[0m\u001b[0;34m:\u001b[0m\u001b[0;34m\u001b[0m\u001b[0m\n\u001b[0;32m-> 2321\u001b[0;31m                 \u001b[0mresult\u001b[0m \u001b[0;34m=\u001b[0m \u001b[0mfn\u001b[0m\u001b[0;34m(\u001b[0m\u001b[0mmagic_arg_s\u001b[0m\u001b[0;34m,\u001b[0m \u001b[0mcell\u001b[0m\u001b[0;34m)\u001b[0m\u001b[0;34m\u001b[0m\u001b[0m\n\u001b[0m\u001b[1;32m   2322\u001b[0m             \u001b[0;32mreturn\u001b[0m \u001b[0mresult\u001b[0m\u001b[0;34m\u001b[0m\u001b[0m\n\u001b[1;32m   2323\u001b[0m \u001b[0;34m\u001b[0m\u001b[0m\n",
         "\u001b[0;32m<decorator-gen-56>\u001b[0m in \u001b[0;36mprun\u001b[0;34m(self, parameter_s, cell)\u001b[0m\n",
         "\u001b[0;32m~/anaconda3/lib/python3.6/site-packages/IPython/core/magic.py\u001b[0m in \u001b[0;36m<lambda>\u001b[0;34m(f, *a, **k)\u001b[0m\n\u001b[1;32m    185\u001b[0m     \u001b[0;31m# but it's overkill for just that one bit of state.\u001b[0m\u001b[0;34m\u001b[0m\u001b[0;34m\u001b[0m\u001b[0m\n\u001b[1;32m    186\u001b[0m     \u001b[0;32mdef\u001b[0m \u001b[0mmagic_deco\u001b[0m\u001b[0;34m(\u001b[0m\u001b[0marg\u001b[0m\u001b[0;34m)\u001b[0m\u001b[0;34m:\u001b[0m\u001b[0;34m\u001b[0m\u001b[0m\n\u001b[0;32m--> 187\u001b[0;31m         \u001b[0mcall\u001b[0m \u001b[0;34m=\u001b[0m \u001b[0;32mlambda\u001b[0m \u001b[0mf\u001b[0m\u001b[0;34m,\u001b[0m \u001b[0;34m*\u001b[0m\u001b[0ma\u001b[0m\u001b[0;34m,\u001b[0m \u001b[0;34m**\u001b[0m\u001b[0mk\u001b[0m\u001b[0;34m:\u001b[0m \u001b[0mf\u001b[0m\u001b[0;34m(\u001b[0m\u001b[0;34m*\u001b[0m\u001b[0ma\u001b[0m\u001b[0;34m,\u001b[0m \u001b[0;34m**\u001b[0m\u001b[0mk\u001b[0m\u001b[0;34m)\u001b[0m\u001b[0;34m\u001b[0m\u001b[0m\n\u001b[0m\u001b[1;32m    188\u001b[0m \u001b[0;34m\u001b[0m\u001b[0m\n\u001b[1;32m    189\u001b[0m         \u001b[0;32mif\u001b[0m \u001b[0mcallable\u001b[0m\u001b[0;34m(\u001b[0m\u001b[0marg\u001b[0m\u001b[0;34m)\u001b[0m\u001b[0;34m:\u001b[0m\u001b[0;34m\u001b[0m\u001b[0m\n",
         "\u001b[0;32m~/anaconda3/lib/python3.6/site-packages/IPython/core/magics/execution.py\u001b[0m in \u001b[0;36mprun\u001b[0;34m(self, parameter_s, cell)\u001b[0m\n\u001b[1;32m    299\u001b[0m             \u001b[0marg_str\u001b[0m \u001b[0;34m+=\u001b[0m \u001b[0;34m'\\n'\u001b[0m \u001b[0;34m+\u001b[0m \u001b[0mcell\u001b[0m\u001b[0;34m\u001b[0m\u001b[0m\n\u001b[1;32m    300\u001b[0m         \u001b[0marg_str\u001b[0m \u001b[0;34m=\u001b[0m \u001b[0mself\u001b[0m\u001b[0;34m.\u001b[0m\u001b[0mshell\u001b[0m\u001b[0;34m.\u001b[0m\u001b[0mtransform_cell\u001b[0m\u001b[0;34m(\u001b[0m\u001b[0marg_str\u001b[0m\u001b[0;34m)\u001b[0m\u001b[0;34m\u001b[0m\u001b[0m\n\u001b[0;32m--> 301\u001b[0;31m         \u001b[0;32mreturn\u001b[0m \u001b[0mself\u001b[0m\u001b[0;34m.\u001b[0m\u001b[0m_run_with_profiler\u001b[0m\u001b[0;34m(\u001b[0m\u001b[0marg_str\u001b[0m\u001b[0;34m,\u001b[0m \u001b[0mopts\u001b[0m\u001b[0;34m,\u001b[0m \u001b[0mself\u001b[0m\u001b[0;34m.\u001b[0m\u001b[0mshell\u001b[0m\u001b[0;34m.\u001b[0m\u001b[0muser_ns\u001b[0m\u001b[0;34m)\u001b[0m\u001b[0;34m\u001b[0m\u001b[0m\n\u001b[0m\u001b[1;32m    302\u001b[0m \u001b[0;34m\u001b[0m\u001b[0m\n\u001b[1;32m    303\u001b[0m     \u001b[0;32mdef\u001b[0m \u001b[0m_run_with_profiler\u001b[0m\u001b[0;34m(\u001b[0m\u001b[0mself\u001b[0m\u001b[0;34m,\u001b[0m \u001b[0mcode\u001b[0m\u001b[0;34m,\u001b[0m \u001b[0mopts\u001b[0m\u001b[0;34m,\u001b[0m \u001b[0mnamespace\u001b[0m\u001b[0;34m)\u001b[0m\u001b[0;34m:\u001b[0m\u001b[0;34m\u001b[0m\u001b[0m\n",
         "\u001b[0;32m~/anaconda3/lib/python3.6/site-packages/IPython/core/magics/execution.py\u001b[0m in \u001b[0;36m_run_with_profiler\u001b[0;34m(self, code, opts, namespace)\u001b[0m\n\u001b[1;32m    321\u001b[0m         \u001b[0mprof\u001b[0m \u001b[0;34m=\u001b[0m \u001b[0mprofile\u001b[0m\u001b[0;34m.\u001b[0m\u001b[0mProfile\u001b[0m\u001b[0;34m(\u001b[0m\u001b[0;34m)\u001b[0m\u001b[0;34m\u001b[0m\u001b[0m\n\u001b[1;32m    322\u001b[0m         \u001b[0;32mtry\u001b[0m\u001b[0;34m:\u001b[0m\u001b[0;34m\u001b[0m\u001b[0m\n\u001b[0;32m--> 323\u001b[0;31m             \u001b[0mprof\u001b[0m \u001b[0;34m=\u001b[0m \u001b[0mprof\u001b[0m\u001b[0;34m.\u001b[0m\u001b[0mrunctx\u001b[0m\u001b[0;34m(\u001b[0m\u001b[0mcode\u001b[0m\u001b[0;34m,\u001b[0m \u001b[0mnamespace\u001b[0m\u001b[0;34m,\u001b[0m \u001b[0mnamespace\u001b[0m\u001b[0;34m)\u001b[0m\u001b[0;34m\u001b[0m\u001b[0m\n\u001b[0m\u001b[1;32m    324\u001b[0m             \u001b[0msys_exit\u001b[0m \u001b[0;34m=\u001b[0m \u001b[0;34m''\u001b[0m\u001b[0;34m\u001b[0m\u001b[0m\n\u001b[1;32m    325\u001b[0m         \u001b[0;32mexcept\u001b[0m \u001b[0mSystemExit\u001b[0m\u001b[0;34m:\u001b[0m\u001b[0;34m\u001b[0m\u001b[0m\n",
         "\u001b[0;32m~/anaconda3/lib/python3.6/cProfile.py\u001b[0m in \u001b[0;36mrunctx\u001b[0;34m(self, cmd, globals, locals)\u001b[0m\n\u001b[1;32m     98\u001b[0m         \u001b[0mself\u001b[0m\u001b[0;34m.\u001b[0m\u001b[0menable\u001b[0m\u001b[0;34m(\u001b[0m\u001b[0;34m)\u001b[0m\u001b[0;34m\u001b[0m\u001b[0m\n\u001b[1;32m     99\u001b[0m         \u001b[0;32mtry\u001b[0m\u001b[0;34m:\u001b[0m\u001b[0;34m\u001b[0m\u001b[0m\n\u001b[0;32m--> 100\u001b[0;31m             \u001b[0mexec\u001b[0m\u001b[0;34m(\u001b[0m\u001b[0mcmd\u001b[0m\u001b[0;34m,\u001b[0m \u001b[0mglobals\u001b[0m\u001b[0;34m,\u001b[0m \u001b[0mlocals\u001b[0m\u001b[0;34m)\u001b[0m\u001b[0;34m\u001b[0m\u001b[0m\n\u001b[0m\u001b[1;32m    101\u001b[0m         \u001b[0;32mfinally\u001b[0m\u001b[0;34m:\u001b[0m\u001b[0;34m\u001b[0m\u001b[0m\n\u001b[1;32m    102\u001b[0m             \u001b[0mself\u001b[0m\u001b[0;34m.\u001b[0m\u001b[0mdisable\u001b[0m\u001b[0;34m(\u001b[0m\u001b[0;34m)\u001b[0m\u001b[0;34m\u001b[0m\u001b[0m\n",
         "\u001b[0;32m<string>\u001b[0m in \u001b[0;36m<module>\u001b[0;34m\u001b[0m\n",
         "\u001b[0;32m~/anaconda3/lib/python3.6/site-packages/pandas/core/frame.py\u001b[0m in \u001b[0;36mapply\u001b[0;34m(self, func, axis, broadcast, raw, reduce, result_type, args, **kwds)\u001b[0m\n\u001b[1;32m   6012\u001b[0m                          \u001b[0margs\u001b[0m\u001b[0;34m=\u001b[0m\u001b[0margs\u001b[0m\u001b[0;34m,\u001b[0m\u001b[0;34m\u001b[0m\u001b[0m\n\u001b[1;32m   6013\u001b[0m                          kwds=kwds)\n\u001b[0;32m-> 6014\u001b[0;31m         \u001b[0;32mreturn\u001b[0m \u001b[0mop\u001b[0m\u001b[0;34m.\u001b[0m\u001b[0mget_result\u001b[0m\u001b[0;34m(\u001b[0m\u001b[0;34m)\u001b[0m\u001b[0;34m\u001b[0m\u001b[0m\n\u001b[0m\u001b[1;32m   6015\u001b[0m \u001b[0;34m\u001b[0m\u001b[0m\n\u001b[1;32m   6016\u001b[0m     \u001b[0;32mdef\u001b[0m \u001b[0mapplymap\u001b[0m\u001b[0;34m(\u001b[0m\u001b[0mself\u001b[0m\u001b[0;34m,\u001b[0m \u001b[0mfunc\u001b[0m\u001b[0;34m)\u001b[0m\u001b[0;34m:\u001b[0m\u001b[0;34m\u001b[0m\u001b[0m\n",
         "\u001b[0;32m~/anaconda3/lib/python3.6/site-packages/pandas/core/apply.py\u001b[0m in \u001b[0;36mget_result\u001b[0;34m(self)\u001b[0m\n\u001b[1;32m    140\u001b[0m             \u001b[0;32mreturn\u001b[0m \u001b[0mself\u001b[0m\u001b[0;34m.\u001b[0m\u001b[0mapply_raw\u001b[0m\u001b[0;34m(\u001b[0m\u001b[0;34m)\u001b[0m\u001b[0;34m\u001b[0m\u001b[0m\n\u001b[1;32m    141\u001b[0m \u001b[0;34m\u001b[0m\u001b[0m\n\u001b[0;32m--> 142\u001b[0;31m         \u001b[0;32mreturn\u001b[0m \u001b[0mself\u001b[0m\u001b[0;34m.\u001b[0m\u001b[0mapply_standard\u001b[0m\u001b[0;34m(\u001b[0m\u001b[0;34m)\u001b[0m\u001b[0;34m\u001b[0m\u001b[0m\n\u001b[0m\u001b[1;32m    143\u001b[0m \u001b[0;34m\u001b[0m\u001b[0m\n\u001b[1;32m    144\u001b[0m     \u001b[0;32mdef\u001b[0m \u001b[0mapply_empty_result\u001b[0m\u001b[0;34m(\u001b[0m\u001b[0mself\u001b[0m\u001b[0;34m)\u001b[0m\u001b[0;34m:\u001b[0m\u001b[0;34m\u001b[0m\u001b[0m\n",
         "\u001b[0;32m~/anaconda3/lib/python3.6/site-packages/pandas/core/apply.py\u001b[0m in \u001b[0;36mapply_standard\u001b[0;34m(self)\u001b[0m\n\u001b[1;32m    246\u001b[0m \u001b[0;34m\u001b[0m\u001b[0m\n\u001b[1;32m    247\u001b[0m         \u001b[0;31m# compute the result using the series generator\u001b[0m\u001b[0;34m\u001b[0m\u001b[0;34m\u001b[0m\u001b[0m\n\u001b[0;32m--> 248\u001b[0;31m         \u001b[0mself\u001b[0m\u001b[0;34m.\u001b[0m\u001b[0mapply_series_generator\u001b[0m\u001b[0;34m(\u001b[0m\u001b[0;34m)\u001b[0m\u001b[0;34m\u001b[0m\u001b[0m\n\u001b[0m\u001b[1;32m    249\u001b[0m \u001b[0;34m\u001b[0m\u001b[0m\n\u001b[1;32m    250\u001b[0m         \u001b[0;31m# wrap results\u001b[0m\u001b[0;34m\u001b[0m\u001b[0;34m\u001b[0m\u001b[0m\n",
         "\u001b[0;32m~/anaconda3/lib/python3.6/site-packages/pandas/core/apply.py\u001b[0m in \u001b[0;36mapply_series_generator\u001b[0;34m(self)\u001b[0m\n\u001b[1;32m    275\u001b[0m             \u001b[0;32mtry\u001b[0m\u001b[0;34m:\u001b[0m\u001b[0;34m\u001b[0m\u001b[0m\n\u001b[1;32m    276\u001b[0m                 \u001b[0;32mfor\u001b[0m \u001b[0mi\u001b[0m\u001b[0;34m,\u001b[0m \u001b[0mv\u001b[0m \u001b[0;32min\u001b[0m \u001b[0menumerate\u001b[0m\u001b[0;34m(\u001b[0m\u001b[0mseries_gen\u001b[0m\u001b[0;34m)\u001b[0m\u001b[0;34m:\u001b[0m\u001b[0;34m\u001b[0m\u001b[0m\n\u001b[0;32m--> 277\u001b[0;31m                     \u001b[0mresults\u001b[0m\u001b[0;34m[\u001b[0m\u001b[0mi\u001b[0m\u001b[0;34m]\u001b[0m \u001b[0;34m=\u001b[0m \u001b[0mself\u001b[0m\u001b[0;34m.\u001b[0m\u001b[0mf\u001b[0m\u001b[0;34m(\u001b[0m\u001b[0mv\u001b[0m\u001b[0;34m)\u001b[0m\u001b[0;34m\u001b[0m\u001b[0m\n\u001b[0m\u001b[1;32m    278\u001b[0m                     \u001b[0mkeys\u001b[0m\u001b[0;34m.\u001b[0m\u001b[0mappend\u001b[0m\u001b[0;34m(\u001b[0m\u001b[0mv\u001b[0m\u001b[0;34m.\u001b[0m\u001b[0mname\u001b[0m\u001b[0;34m)\u001b[0m\u001b[0;34m\u001b[0m\u001b[0m\n\u001b[1;32m    279\u001b[0m             \u001b[0;32mexcept\u001b[0m \u001b[0mException\u001b[0m \u001b[0;32mas\u001b[0m \u001b[0me\u001b[0m\u001b[0;34m:\u001b[0m\u001b[0;34m\u001b[0m\u001b[0m\n",
         "\u001b[0;32m<ipython-input-177-e1fcb52d6656>\u001b[0m in \u001b[0;36mmax_pairwise_jaccard\u001b[0;34m(sets_pair)\u001b[0m\n\u001b[1;32m      7\u001b[0m \u001b[0;32mdef\u001b[0m \u001b[0mmax_pairwise_jaccard\u001b[0m\u001b[0;34m(\u001b[0m\u001b[0msets_pair\u001b[0m\u001b[0;34m)\u001b[0m\u001b[0;34m:\u001b[0m\u001b[0;34m\u001b[0m\u001b[0m\n\u001b[1;32m      8\u001b[0m     \u001b[0msets1\u001b[0m\u001b[0;34m,\u001b[0m \u001b[0msets2\u001b[0m \u001b[0;34m=\u001b[0m \u001b[0msets_pair\u001b[0m\u001b[0;34m\u001b[0m\u001b[0m\n\u001b[0;32m----> 9\u001b[0;31m     \u001b[0mpairs\u001b[0m \u001b[0;34m=\u001b[0m \u001b[0mproduct\u001b[0m\u001b[0;34m(\u001b[0m\u001b[0msets1\u001b[0m\u001b[0;34m,\u001b[0m \u001b[0msets2\u001b[0m\u001b[0;34m)\u001b[0m\u001b[0;34m\u001b[0m\u001b[0m\n\u001b[0m\u001b[1;32m     10\u001b[0m     \u001b[0;32mreturn\u001b[0m \u001b[0mmax\u001b[0m\u001b[0;34m(\u001b[0m\u001b[0mjaccard\u001b[0m\u001b[0;34m(\u001b[0m\u001b[0;34m*\u001b[0m\u001b[0mpair\u001b[0m\u001b[0;34m)\u001b[0m \u001b[0;32mfor\u001b[0m \u001b[0mpair\u001b[0m \u001b[0;32min\u001b[0m \u001b[0mpairs\u001b[0m\u001b[0;34m)\u001b[0m\u001b[0;34m\u001b[0m\u001b[0m\n\u001b[1;32m     11\u001b[0m \u001b[0;34m\u001b[0m\u001b[0m\n",
         "\u001b[0;31mTypeError\u001b[0m: (\"'float' object is not iterable\", 'occurred at index 244471')"
        ]
       },
       "metadata": {},
       "msg_type": "error",
       "version": "5.3"
      },
      "timestamp": "2018-11-16T22:53:44.279Z"
     },
     {
      "code": "%%prun\n\n(with_categories[['categories_reviewer', 'categories_item']]\n .apply(max_pairwise_jaccard, axis=1)\n)",
      "response": {
       "content": {
        "ename": "TypeError",
        "evalue": "(\"'float' object is not iterable\", 'occurred at index 244471')",
        "traceback": [
         "\u001b[0;31m---------------------------------------------------------------------------\u001b[0m",
         "\u001b[0;31mTypeError\u001b[0m                                 Traceback (most recent call last)",
         "\u001b[0;32m<ipython-input-181-70ed8ca1af1a>\u001b[0m in \u001b[0;36m<module>\u001b[0;34m\u001b[0m\n\u001b[0;32m----> 1\u001b[0;31m \u001b[0mget_ipython\u001b[0m\u001b[0;34m(\u001b[0m\u001b[0;34m)\u001b[0m\u001b[0;34m.\u001b[0m\u001b[0mrun_cell_magic\u001b[0m\u001b[0;34m(\u001b[0m\u001b[0;34m'prun'\u001b[0m\u001b[0;34m,\u001b[0m \u001b[0;34m''\u001b[0m\u001b[0;34m,\u001b[0m \u001b[0;34m\"\\n(with_categories[['categories_reviewer', 'categories_item']]\\n .apply(max_pairwise_jaccard, axis=1)\\n)\\n\"\u001b[0m\u001b[0;34m)\u001b[0m\u001b[0;34m\u001b[0m\u001b[0m\n\u001b[0m",
         "\u001b[0;32m~/anaconda3/lib/python3.6/site-packages/IPython/core/interactiveshell.py\u001b[0m in \u001b[0;36mrun_cell_magic\u001b[0;34m(self, magic_name, line, cell)\u001b[0m\n\u001b[1;32m   2319\u001b[0m             \u001b[0mmagic_arg_s\u001b[0m \u001b[0;34m=\u001b[0m \u001b[0mself\u001b[0m\u001b[0;34m.\u001b[0m\u001b[0mvar_expand\u001b[0m\u001b[0;34m(\u001b[0m\u001b[0mline\u001b[0m\u001b[0;34m,\u001b[0m \u001b[0mstack_depth\u001b[0m\u001b[0;34m)\u001b[0m\u001b[0;34m\u001b[0m\u001b[0m\n\u001b[1;32m   2320\u001b[0m             \u001b[0;32mwith\u001b[0m \u001b[0mself\u001b[0m\u001b[0;34m.\u001b[0m\u001b[0mbuiltin_trap\u001b[0m\u001b[0;34m:\u001b[0m\u001b[0;34m\u001b[0m\u001b[0m\n\u001b[0;32m-> 2321\u001b[0;31m                 \u001b[0mresult\u001b[0m \u001b[0;34m=\u001b[0m \u001b[0mfn\u001b[0m\u001b[0;34m(\u001b[0m\u001b[0mmagic_arg_s\u001b[0m\u001b[0;34m,\u001b[0m \u001b[0mcell\u001b[0m\u001b[0;34m)\u001b[0m\u001b[0;34m\u001b[0m\u001b[0m\n\u001b[0m\u001b[1;32m   2322\u001b[0m             \u001b[0;32mreturn\u001b[0m \u001b[0mresult\u001b[0m\u001b[0;34m\u001b[0m\u001b[0m\n\u001b[1;32m   2323\u001b[0m \u001b[0;34m\u001b[0m\u001b[0m\n",
         "\u001b[0;32m<decorator-gen-56>\u001b[0m in \u001b[0;36mprun\u001b[0;34m(self, parameter_s, cell)\u001b[0m\n",
         "\u001b[0;32m~/anaconda3/lib/python3.6/site-packages/IPython/core/magic.py\u001b[0m in \u001b[0;36m<lambda>\u001b[0;34m(f, *a, **k)\u001b[0m\n\u001b[1;32m    185\u001b[0m     \u001b[0;31m# but it's overkill for just that one bit of state.\u001b[0m\u001b[0;34m\u001b[0m\u001b[0;34m\u001b[0m\u001b[0m\n\u001b[1;32m    186\u001b[0m     \u001b[0;32mdef\u001b[0m \u001b[0mmagic_deco\u001b[0m\u001b[0;34m(\u001b[0m\u001b[0marg\u001b[0m\u001b[0;34m)\u001b[0m\u001b[0;34m:\u001b[0m\u001b[0;34m\u001b[0m\u001b[0m\n\u001b[0;32m--> 187\u001b[0;31m         \u001b[0mcall\u001b[0m \u001b[0;34m=\u001b[0m \u001b[0;32mlambda\u001b[0m \u001b[0mf\u001b[0m\u001b[0;34m,\u001b[0m \u001b[0;34m*\u001b[0m\u001b[0ma\u001b[0m\u001b[0;34m,\u001b[0m \u001b[0;34m**\u001b[0m\u001b[0mk\u001b[0m\u001b[0;34m:\u001b[0m \u001b[0mf\u001b[0m\u001b[0;34m(\u001b[0m\u001b[0;34m*\u001b[0m\u001b[0ma\u001b[0m\u001b[0;34m,\u001b[0m \u001b[0;34m**\u001b[0m\u001b[0mk\u001b[0m\u001b[0;34m)\u001b[0m\u001b[0;34m\u001b[0m\u001b[0m\n\u001b[0m\u001b[1;32m    188\u001b[0m \u001b[0;34m\u001b[0m\u001b[0m\n\u001b[1;32m    189\u001b[0m         \u001b[0;32mif\u001b[0m \u001b[0mcallable\u001b[0m\u001b[0;34m(\u001b[0m\u001b[0marg\u001b[0m\u001b[0;34m)\u001b[0m\u001b[0;34m:\u001b[0m\u001b[0;34m\u001b[0m\u001b[0m\n",
         "\u001b[0;32m~/anaconda3/lib/python3.6/site-packages/IPython/core/magics/execution.py\u001b[0m in \u001b[0;36mprun\u001b[0;34m(self, parameter_s, cell)\u001b[0m\n\u001b[1;32m    299\u001b[0m             \u001b[0marg_str\u001b[0m \u001b[0;34m+=\u001b[0m \u001b[0;34m'\\n'\u001b[0m \u001b[0;34m+\u001b[0m \u001b[0mcell\u001b[0m\u001b[0;34m\u001b[0m\u001b[0m\n\u001b[1;32m    300\u001b[0m         \u001b[0marg_str\u001b[0m \u001b[0;34m=\u001b[0m \u001b[0mself\u001b[0m\u001b[0;34m.\u001b[0m\u001b[0mshell\u001b[0m\u001b[0;34m.\u001b[0m\u001b[0mtransform_cell\u001b[0m\u001b[0;34m(\u001b[0m\u001b[0marg_str\u001b[0m\u001b[0;34m)\u001b[0m\u001b[0;34m\u001b[0m\u001b[0m\n\u001b[0;32m--> 301\u001b[0;31m         \u001b[0;32mreturn\u001b[0m \u001b[0mself\u001b[0m\u001b[0;34m.\u001b[0m\u001b[0m_run_with_profiler\u001b[0m\u001b[0;34m(\u001b[0m\u001b[0marg_str\u001b[0m\u001b[0;34m,\u001b[0m \u001b[0mopts\u001b[0m\u001b[0;34m,\u001b[0m \u001b[0mself\u001b[0m\u001b[0;34m.\u001b[0m\u001b[0mshell\u001b[0m\u001b[0;34m.\u001b[0m\u001b[0muser_ns\u001b[0m\u001b[0;34m)\u001b[0m\u001b[0;34m\u001b[0m\u001b[0m\n\u001b[0m\u001b[1;32m    302\u001b[0m \u001b[0;34m\u001b[0m\u001b[0m\n\u001b[1;32m    303\u001b[0m     \u001b[0;32mdef\u001b[0m \u001b[0m_run_with_profiler\u001b[0m\u001b[0;34m(\u001b[0m\u001b[0mself\u001b[0m\u001b[0;34m,\u001b[0m \u001b[0mcode\u001b[0m\u001b[0;34m,\u001b[0m \u001b[0mopts\u001b[0m\u001b[0;34m,\u001b[0m \u001b[0mnamespace\u001b[0m\u001b[0;34m)\u001b[0m\u001b[0;34m:\u001b[0m\u001b[0;34m\u001b[0m\u001b[0m\n",
         "\u001b[0;32m~/anaconda3/lib/python3.6/site-packages/IPython/core/magics/execution.py\u001b[0m in \u001b[0;36m_run_with_profiler\u001b[0;34m(self, code, opts, namespace)\u001b[0m\n\u001b[1;32m    321\u001b[0m         \u001b[0mprof\u001b[0m \u001b[0;34m=\u001b[0m \u001b[0mprofile\u001b[0m\u001b[0;34m.\u001b[0m\u001b[0mProfile\u001b[0m\u001b[0;34m(\u001b[0m\u001b[0;34m)\u001b[0m\u001b[0;34m\u001b[0m\u001b[0m\n\u001b[1;32m    322\u001b[0m         \u001b[0;32mtry\u001b[0m\u001b[0;34m:\u001b[0m\u001b[0;34m\u001b[0m\u001b[0m\n\u001b[0;32m--> 323\u001b[0;31m             \u001b[0mprof\u001b[0m \u001b[0;34m=\u001b[0m \u001b[0mprof\u001b[0m\u001b[0;34m.\u001b[0m\u001b[0mrunctx\u001b[0m\u001b[0;34m(\u001b[0m\u001b[0mcode\u001b[0m\u001b[0;34m,\u001b[0m \u001b[0mnamespace\u001b[0m\u001b[0;34m,\u001b[0m \u001b[0mnamespace\u001b[0m\u001b[0;34m)\u001b[0m\u001b[0;34m\u001b[0m\u001b[0m\n\u001b[0m\u001b[1;32m    324\u001b[0m             \u001b[0msys_exit\u001b[0m \u001b[0;34m=\u001b[0m \u001b[0;34m''\u001b[0m\u001b[0;34m\u001b[0m\u001b[0m\n\u001b[1;32m    325\u001b[0m         \u001b[0;32mexcept\u001b[0m \u001b[0mSystemExit\u001b[0m\u001b[0;34m:\u001b[0m\u001b[0;34m\u001b[0m\u001b[0m\n",
         "\u001b[0;32m~/anaconda3/lib/python3.6/cProfile.py\u001b[0m in \u001b[0;36mrunctx\u001b[0;34m(self, cmd, globals, locals)\u001b[0m\n\u001b[1;32m     98\u001b[0m         \u001b[0mself\u001b[0m\u001b[0;34m.\u001b[0m\u001b[0menable\u001b[0m\u001b[0;34m(\u001b[0m\u001b[0;34m)\u001b[0m\u001b[0;34m\u001b[0m\u001b[0m\n\u001b[1;32m     99\u001b[0m         \u001b[0;32mtry\u001b[0m\u001b[0;34m:\u001b[0m\u001b[0;34m\u001b[0m\u001b[0m\n\u001b[0;32m--> 100\u001b[0;31m             \u001b[0mexec\u001b[0m\u001b[0;34m(\u001b[0m\u001b[0mcmd\u001b[0m\u001b[0;34m,\u001b[0m \u001b[0mglobals\u001b[0m\u001b[0;34m,\u001b[0m \u001b[0mlocals\u001b[0m\u001b[0;34m)\u001b[0m\u001b[0;34m\u001b[0m\u001b[0m\n\u001b[0m\u001b[1;32m    101\u001b[0m         \u001b[0;32mfinally\u001b[0m\u001b[0;34m:\u001b[0m\u001b[0;34m\u001b[0m\u001b[0m\n\u001b[1;32m    102\u001b[0m             \u001b[0mself\u001b[0m\u001b[0;34m.\u001b[0m\u001b[0mdisable\u001b[0m\u001b[0;34m(\u001b[0m\u001b[0;34m)\u001b[0m\u001b[0;34m\u001b[0m\u001b[0m\n",
         "\u001b[0;32m<string>\u001b[0m in \u001b[0;36m<module>\u001b[0;34m\u001b[0m\n",
         "\u001b[0;32m~/anaconda3/lib/python3.6/site-packages/pandas/core/frame.py\u001b[0m in \u001b[0;36mapply\u001b[0;34m(self, func, axis, broadcast, raw, reduce, result_type, args, **kwds)\u001b[0m\n\u001b[1;32m   6012\u001b[0m                          \u001b[0margs\u001b[0m\u001b[0;34m=\u001b[0m\u001b[0margs\u001b[0m\u001b[0;34m,\u001b[0m\u001b[0;34m\u001b[0m\u001b[0m\n\u001b[1;32m   6013\u001b[0m                          kwds=kwds)\n\u001b[0;32m-> 6014\u001b[0;31m         \u001b[0;32mreturn\u001b[0m \u001b[0mop\u001b[0m\u001b[0;34m.\u001b[0m\u001b[0mget_result\u001b[0m\u001b[0;34m(\u001b[0m\u001b[0;34m)\u001b[0m\u001b[0;34m\u001b[0m\u001b[0m\n\u001b[0m\u001b[1;32m   6015\u001b[0m \u001b[0;34m\u001b[0m\u001b[0m\n\u001b[1;32m   6016\u001b[0m     \u001b[0;32mdef\u001b[0m \u001b[0mapplymap\u001b[0m\u001b[0;34m(\u001b[0m\u001b[0mself\u001b[0m\u001b[0;34m,\u001b[0m \u001b[0mfunc\u001b[0m\u001b[0;34m)\u001b[0m\u001b[0;34m:\u001b[0m\u001b[0;34m\u001b[0m\u001b[0m\n",
         "\u001b[0;32m~/anaconda3/lib/python3.6/site-packages/pandas/core/apply.py\u001b[0m in \u001b[0;36mget_result\u001b[0;34m(self)\u001b[0m\n\u001b[1;32m    140\u001b[0m             \u001b[0;32mreturn\u001b[0m \u001b[0mself\u001b[0m\u001b[0;34m.\u001b[0m\u001b[0mapply_raw\u001b[0m\u001b[0;34m(\u001b[0m\u001b[0;34m)\u001b[0m\u001b[0;34m\u001b[0m\u001b[0m\n\u001b[1;32m    141\u001b[0m \u001b[0;34m\u001b[0m\u001b[0m\n\u001b[0;32m--> 142\u001b[0;31m         \u001b[0;32mreturn\u001b[0m \u001b[0mself\u001b[0m\u001b[0;34m.\u001b[0m\u001b[0mapply_standard\u001b[0m\u001b[0;34m(\u001b[0m\u001b[0;34m)\u001b[0m\u001b[0;34m\u001b[0m\u001b[0m\n\u001b[0m\u001b[1;32m    143\u001b[0m \u001b[0;34m\u001b[0m\u001b[0m\n\u001b[1;32m    144\u001b[0m     \u001b[0;32mdef\u001b[0m \u001b[0mapply_empty_result\u001b[0m\u001b[0;34m(\u001b[0m\u001b[0mself\u001b[0m\u001b[0;34m)\u001b[0m\u001b[0;34m:\u001b[0m\u001b[0;34m\u001b[0m\u001b[0m\n",
         "\u001b[0;32m~/anaconda3/lib/python3.6/site-packages/pandas/core/apply.py\u001b[0m in \u001b[0;36mapply_standard\u001b[0;34m(self)\u001b[0m\n\u001b[1;32m    246\u001b[0m \u001b[0;34m\u001b[0m\u001b[0m\n\u001b[1;32m    247\u001b[0m         \u001b[0;31m# compute the result using the series generator\u001b[0m\u001b[0;34m\u001b[0m\u001b[0;34m\u001b[0m\u001b[0m\n\u001b[0;32m--> 248\u001b[0;31m         \u001b[0mself\u001b[0m\u001b[0;34m.\u001b[0m\u001b[0mapply_series_generator\u001b[0m\u001b[0;34m(\u001b[0m\u001b[0;34m)\u001b[0m\u001b[0;34m\u001b[0m\u001b[0m\n\u001b[0m\u001b[1;32m    249\u001b[0m \u001b[0;34m\u001b[0m\u001b[0m\n\u001b[1;32m    250\u001b[0m         \u001b[0;31m# wrap results\u001b[0m\u001b[0;34m\u001b[0m\u001b[0;34m\u001b[0m\u001b[0m\n",
         "\u001b[0;32m~/anaconda3/lib/python3.6/site-packages/pandas/core/apply.py\u001b[0m in \u001b[0;36mapply_series_generator\u001b[0;34m(self)\u001b[0m\n\u001b[1;32m    275\u001b[0m             \u001b[0;32mtry\u001b[0m\u001b[0;34m:\u001b[0m\u001b[0;34m\u001b[0m\u001b[0m\n\u001b[1;32m    276\u001b[0m                 \u001b[0;32mfor\u001b[0m \u001b[0mi\u001b[0m\u001b[0;34m,\u001b[0m \u001b[0mv\u001b[0m \u001b[0;32min\u001b[0m \u001b[0menumerate\u001b[0m\u001b[0;34m(\u001b[0m\u001b[0mseries_gen\u001b[0m\u001b[0;34m)\u001b[0m\u001b[0;34m:\u001b[0m\u001b[0;34m\u001b[0m\u001b[0m\n\u001b[0;32m--> 277\u001b[0;31m                     \u001b[0mresults\u001b[0m\u001b[0;34m[\u001b[0m\u001b[0mi\u001b[0m\u001b[0;34m]\u001b[0m \u001b[0;34m=\u001b[0m \u001b[0mself\u001b[0m\u001b[0;34m.\u001b[0m\u001b[0mf\u001b[0m\u001b[0;34m(\u001b[0m\u001b[0mv\u001b[0m\u001b[0;34m)\u001b[0m\u001b[0;34m\u001b[0m\u001b[0m\n\u001b[0m\u001b[1;32m    278\u001b[0m                     \u001b[0mkeys\u001b[0m\u001b[0;34m.\u001b[0m\u001b[0mappend\u001b[0m\u001b[0;34m(\u001b[0m\u001b[0mv\u001b[0m\u001b[0;34m.\u001b[0m\u001b[0mname\u001b[0m\u001b[0;34m)\u001b[0m\u001b[0;34m\u001b[0m\u001b[0m\n\u001b[1;32m    279\u001b[0m             \u001b[0;32mexcept\u001b[0m \u001b[0mException\u001b[0m \u001b[0;32mas\u001b[0m \u001b[0me\u001b[0m\u001b[0;34m:\u001b[0m\u001b[0;34m\u001b[0m\u001b[0m\n",
         "\u001b[0;32m<ipython-input-179-454362762598>\u001b[0m in \u001b[0;36mmax_pairwise_jaccard\u001b[0;34m(sets_pair)\u001b[0m\n\u001b[1;32m      9\u001b[0m     \u001b[0;32mif\u001b[0m \u001b[0;32mnot\u001b[0m \u001b[0msets1\u001b[0m \u001b[0;32mor\u001b[0m \u001b[0;32mnot\u001b[0m \u001b[0msets2\u001b[0m\u001b[0;34m:\u001b[0m\u001b[0;34m\u001b[0m\u001b[0m\n\u001b[1;32m     10\u001b[0m         \u001b[0;32mreturn\u001b[0m \u001b[0;36m0\u001b[0m\u001b[0;34m\u001b[0m\u001b[0m\n\u001b[0;32m---> 11\u001b[0;31m     \u001b[0mpairs\u001b[0m \u001b[0;34m=\u001b[0m \u001b[0mproduct\u001b[0m\u001b[0;34m(\u001b[0m\u001b[0msets1\u001b[0m\u001b[0;34m,\u001b[0m \u001b[0msets2\u001b[0m\u001b[0;34m)\u001b[0m\u001b[0;34m\u001b[0m\u001b[0m\n\u001b[0m\u001b[1;32m     12\u001b[0m     \u001b[0;32mreturn\u001b[0m \u001b[0mmax\u001b[0m\u001b[0;34m(\u001b[0m\u001b[0mjaccard\u001b[0m\u001b[0;34m(\u001b[0m\u001b[0;34m*\u001b[0m\u001b[0mpair\u001b[0m\u001b[0;34m)\u001b[0m \u001b[0;32mfor\u001b[0m \u001b[0mpair\u001b[0m \u001b[0;32min\u001b[0m \u001b[0mpairs\u001b[0m\u001b[0;34m)\u001b[0m\u001b[0;34m\u001b[0m\u001b[0m\n\u001b[1;32m     13\u001b[0m \u001b[0;34m\u001b[0m\u001b[0m\n",
         "\u001b[0;31mTypeError\u001b[0m: (\"'float' object is not iterable\", 'occurred at index 244471')"
        ]
       },
       "metadata": {},
       "msg_type": "error",
       "version": "5.3"
      },
      "timestamp": "2018-11-16T22:54:40.519Z"
     },
     {
      "code": "%%prun\n\n(with_categories[['categories_reviewer', 'categories_item']]\n .apply(max_pairwise_jaccard, axis=1)\n)",
      "response": {
       "content": {
        "name": "stdout",
        "text": " "
       },
       "metadata": {},
       "msg_type": "stream",
       "version": "5.3"
      },
      "timestamp": "2018-11-16T22:59:20.898Z"
     },
     {
      "code": "%%prun\n\n(with_categories[['categories_reviewer', 'categories_item']]\n .apply(max_pairwise_jaccard, axis=1)\n)",
      "response": {
       "content": {
        "name": "stdout",
        "text": " "
       },
       "metadata": {},
       "msg_type": "stream",
       "version": "5.3"
      },
      "timestamp": "2018-11-16T23:00:32.549Z"
     },
     {
      "code": "%%time\n\nsims = (with_categories[['categories_reviewer', 'categories_item']]\n .apply(max_pairwise_jaccard, axis=1)\n)\nwith_categories = with_categories.assign(sims=sims)",
      "response": {
       "content": {
        "name": "stdout",
        "text": "CPU times: user 9.25 s, sys: 64.6 ms, total: 9.32 s\nWall time: 9.45 s\n"
       },
       "metadata": {},
       "msg_type": "stream",
       "version": "5.3"
      },
      "timestamp": "2018-11-16T23:01:19.008Z"
     }
    ]
   },
   "outputs": [
    {
     "name": "stdout",
     "output_type": "stream",
     "text": [
      "CPU times: user 9.25 s, sys: 64.6 ms, total: 9.32 s\n",
      "Wall time: 9.45 s\n"
     ]
    }
   ],
   "source": [
    "%%time\n",
    "\n",
    "sims = (with_categories[['categories_reviewer', 'categories_item']]\n",
    " .apply(max_pairwise_jaccard, axis=1)\n",
    ")\n",
    "with_categories = with_categories.assign(sims=sims)"
   ]
  },
  {
   "cell_type": "code",
   "execution_count": 197,
   "metadata": {
    "history": [
     {
      "code": "with_categories",
      "response": {
       "content": {
        "data": {
         "text/html": "<div>\n<style scoped>\n    .dataframe tbody tr th:only-of-type {\n        vertical-align: middle;\n    }\n\n    .dataframe tbody tr th {\n        vertical-align: top;\n    }\n\n    .dataframe thead th {\n        text-align: right;\n    }\n</style>\n<table border=\"1\" class=\"dataframe\">\n  <thead>\n    <tr style=\"text-align: right;\">\n      <th></th>\n      <th>reviewerID</th>\n      <th>itemID</th>\n      <th>reviewed</th>\n      <th>categories_reviewer</th>\n      <th>categories_item</th>\n      <th>sims</th>\n    </tr>\n  </thead>\n  <tbody>\n    <tr>\n      <th>4941</th>\n      <td>U834494147</td>\n      <td>I128611472</td>\n      <td>1</td>\n      <td>{(Clothing, Shoes &amp; Jewelry, Men, Big &amp; Tall),...</td>\n      <td>{(Clothing, Shoes &amp; Jewelry, Men, Big &amp; Tall),...</td>\n      <td>1.0</td>\n    </tr>\n    <tr>\n      <th>51775</th>\n      <td>U461858851</td>\n      <td>I234579649</td>\n      <td>1</td>\n      <td>{(Clothing, Shoes &amp; Jewelry, Women, Clothing, ...</td>\n      <td>{(Clothing, Shoes &amp; Jewelry, Women, Clothing, ...</td>\n      <td>1.0</td>\n    </tr>\n    <tr>\n      <th>...</th>\n      <td>...</td>\n      <td>...</td>\n      <td>...</td>\n      <td>...</td>\n      <td>...</td>\n      <td>...</td>\n    </tr>\n    <tr>\n      <th>31286</th>\n      <td>U659379356</td>\n      <td>I164073413</td>\n      <td>1</td>\n      <td>{(Clothing, Shoes &amp; Jewelry, Women, Shoes, San...</td>\n      <td>{(Clothing, Shoes &amp; Jewelry, Women, Clothing, ...</td>\n      <td>1.0</td>\n    </tr>\n    <tr>\n      <th>205716</th>\n      <td>U650550285</td>\n      <td>I701742363</td>\n      <td>0</td>\n      <td>{(Clothing, Shoes &amp; Jewelry, Women, Shoes, Loa...</td>\n      <td>{(Clothing, Shoes &amp; Jewelry, Winter Promo), (C...</td>\n      <td>1.0</td>\n    </tr>\n  </tbody>\n</table>\n<p>150000 rows × 6 columns</p>\n</div>",
         "text/plain": "        reviewerID      itemID  reviewed  \\\n4941    U834494147  I128611472         1   \n51775   U461858851  I234579649         1   \n...            ...         ...       ...   \n31286   U659379356  I164073413         1   \n205716  U650550285  I701742363         0   \n\n                                      categories_reviewer  \\\n4941    {(Clothing, Shoes & Jewelry, Men, Big & Tall),...   \n51775   {(Clothing, Shoes & Jewelry, Women, Clothing, ...   \n...                                                   ...   \n31286   {(Clothing, Shoes & Jewelry, Women, Shoes, San...   \n205716  {(Clothing, Shoes & Jewelry, Women, Shoes, Loa...   \n\n                                          categories_item  sims  \n4941    {(Clothing, Shoes & Jewelry, Men, Big & Tall),...   1.0  \n51775   {(Clothing, Shoes & Jewelry, Women, Clothing, ...   1.0  \n...                                                   ...   ...  \n31286   {(Clothing, Shoes & Jewelry, Women, Clothing, ...   1.0  \n205716  {(Clothing, Shoes & Jewelry, Winter Promo), (C...   1.0  \n\n[150000 rows x 6 columns]"
        },
        "execution_count": 197,
        "metadata": {}
       },
       "metadata": {},
       "msg_type": "execute_result",
       "version": "5.3"
      },
      "timestamp": "2018-11-16T23:01:19.069Z"
     }
    ]
   },
   "outputs": [
    {
     "data": {
      "text/html": [
       "<div>\n",
       "<style scoped>\n",
       "    .dataframe tbody tr th:only-of-type {\n",
       "        vertical-align: middle;\n",
       "    }\n",
       "\n",
       "    .dataframe tbody tr th {\n",
       "        vertical-align: top;\n",
       "    }\n",
       "\n",
       "    .dataframe thead th {\n",
       "        text-align: right;\n",
       "    }\n",
       "</style>\n",
       "<table border=\"1\" class=\"dataframe\">\n",
       "  <thead>\n",
       "    <tr style=\"text-align: right;\">\n",
       "      <th></th>\n",
       "      <th>reviewerID</th>\n",
       "      <th>itemID</th>\n",
       "      <th>reviewed</th>\n",
       "      <th>categories_reviewer</th>\n",
       "      <th>categories_item</th>\n",
       "      <th>sims</th>\n",
       "    </tr>\n",
       "  </thead>\n",
       "  <tbody>\n",
       "    <tr>\n",
       "      <th>4941</th>\n",
       "      <td>U834494147</td>\n",
       "      <td>I128611472</td>\n",
       "      <td>1</td>\n",
       "      <td>{(Clothing, Shoes &amp; Jewelry, Men, Big &amp; Tall),...</td>\n",
       "      <td>{(Clothing, Shoes &amp; Jewelry, Men, Big &amp; Tall),...</td>\n",
       "      <td>1.0</td>\n",
       "    </tr>\n",
       "    <tr>\n",
       "      <th>51775</th>\n",
       "      <td>U461858851</td>\n",
       "      <td>I234579649</td>\n",
       "      <td>1</td>\n",
       "      <td>{(Clothing, Shoes &amp; Jewelry, Women, Clothing, ...</td>\n",
       "      <td>{(Clothing, Shoes &amp; Jewelry, Women, Clothing, ...</td>\n",
       "      <td>1.0</td>\n",
       "    </tr>\n",
       "    <tr>\n",
       "      <th>...</th>\n",
       "      <td>...</td>\n",
       "      <td>...</td>\n",
       "      <td>...</td>\n",
       "      <td>...</td>\n",
       "      <td>...</td>\n",
       "      <td>...</td>\n",
       "    </tr>\n",
       "    <tr>\n",
       "      <th>31286</th>\n",
       "      <td>U659379356</td>\n",
       "      <td>I164073413</td>\n",
       "      <td>1</td>\n",
       "      <td>{(Clothing, Shoes &amp; Jewelry, Women, Shoes, San...</td>\n",
       "      <td>{(Clothing, Shoes &amp; Jewelry, Women, Clothing, ...</td>\n",
       "      <td>1.0</td>\n",
       "    </tr>\n",
       "    <tr>\n",
       "      <th>205716</th>\n",
       "      <td>U650550285</td>\n",
       "      <td>I701742363</td>\n",
       "      <td>0</td>\n",
       "      <td>{(Clothing, Shoes &amp; Jewelry, Women, Shoes, Loa...</td>\n",
       "      <td>{(Clothing, Shoes &amp; Jewelry, Winter Promo), (C...</td>\n",
       "      <td>1.0</td>\n",
       "    </tr>\n",
       "  </tbody>\n",
       "</table>\n",
       "<p>150000 rows × 6 columns</p>\n",
       "</div>"
      ],
      "text/plain": [
       "        reviewerID      itemID  reviewed  \\\n",
       "4941    U834494147  I128611472         1   \n",
       "51775   U461858851  I234579649         1   \n",
       "...            ...         ...       ...   \n",
       "31286   U659379356  I164073413         1   \n",
       "205716  U650550285  I701742363         0   \n",
       "\n",
       "                                      categories_reviewer  \\\n",
       "4941    {(Clothing, Shoes & Jewelry, Men, Big & Tall),...   \n",
       "51775   {(Clothing, Shoes & Jewelry, Women, Clothing, ...   \n",
       "...                                                   ...   \n",
       "31286   {(Clothing, Shoes & Jewelry, Women, Shoes, San...   \n",
       "205716  {(Clothing, Shoes & Jewelry, Women, Shoes, Loa...   \n",
       "\n",
       "                                          categories_item  sims  \n",
       "4941    {(Clothing, Shoes & Jewelry, Men, Big & Tall),...   1.0  \n",
       "51775   {(Clothing, Shoes & Jewelry, Women, Clothing, ...   1.0  \n",
       "...                                                   ...   ...  \n",
       "31286   {(Clothing, Shoes & Jewelry, Women, Clothing, ...   1.0  \n",
       "205716  {(Clothing, Shoes & Jewelry, Winter Promo), (C...   1.0  \n",
       "\n",
       "[150000 rows x 6 columns]"
      ]
     },
     "execution_count": 197,
     "metadata": {},
     "output_type": "execute_result"
    }
   ],
   "source": [
    "with_categories"
   ]
  },
  {
   "cell_type": "code",
   "execution_count": 202,
   "metadata": {
    "history": [
     {
      "code": "sns.barplot(x='reviewed', y='sims', data=with_categories)",
      "response": {
       "content": {
        "data": {
         "text/plain": "<matplotlib.axes._subplots.AxesSubplot at 0x1a6407ae10>"
        },
        "execution_count": 201,
        "metadata": {}
       },
       "metadata": {},
       "msg_type": "execute_result",
       "version": "5.3"
      },
      "timestamp": "2018-11-16T23:02:34.918Z"
     },
     {
      "code": "sns.barplot(x='reviewed', y='sims', data=with_categories)",
      "response": {
       "content": {
        "data": {
         "image/png": "iVBORw0KGgoAAAANSUhEUgAAAbIAAAEyCAYAAACfw1XEAAAABHNCSVQICAgIfAhkiAAAAAlwSFlzAAALEgAACxIB0t1+/AAAADl0RVh0U29mdHdhcmUAbWF0cGxvdGxpYiB2ZXJzaW9uIDIuMi4yLCBodHRwOi8vbWF0cGxvdGxpYi5vcmcvhp/UCwAAGipJREFUeJzt3Xm8nVV97/HPISGMIdASEJRJkB9DRYYoKtHigKBWi2BbWl5aqYpYrdeiQvXWoTjCvaK2BbHaQkFRq3ipMsQB1AoiIqAy/hAhgooMKiRhCsk594/1bLI52eecffbZyd4rfN6vF6+V/Yy/zSvsL2s963mekbGxMSRJqtV6gy5AkqSZMMgkSVUzyCRJVTPIJElVM8gkSVUzyCRJVTPIJElVM8gkSVUzyCRJVTPIJElVM8gkSVUzyCRJVTPIJElVM8gkSVUzyCRJVTPIJElVM8gkSVWbPegCKnc1sBOwDLh5wLVIUi12ATYFbgX2menBRsbGxmZc0ePYvcC8QRchSZW6D9h8pgexRzYzy4B5o6NjrFixctC1SFIVZs+exXrrjUD5DZ358fpxkMexm4Enrlixkvvue3DQtUhSFebN24g5c2ZDny7JVBFkEfEa4HTgOZl5yTT22xZ4L3AQsA1wO3AWcFJmPrwGSpUkrWVDP2sxIp4F/EsP+z0JuBw4mnIt63xgLnACsCgi1u9nnZKkwRjqIIuIw4GvU2a3TNepwJOAd2fmvpn5SspMmW8BBwJv6VedkqTBGcogi4gnRcSZwJeBWcCd09w/gD8Bfg58qLU8M+8HXgusBP6ubwVLkgZmKIMM+ADwKuBHwDOBG6e5/8HACPC1zBxtX5GZtwFXATtExB59qFWSNEDDGmQ3An8N7J+Z1/Sw/55Ne+0kxwd4ag/HliQNkaGctZiZH5nhIbZp2jsmWN9avvUMzwPAnDmzmT9/bj8OJUmapmHtkc3UJk37wATrWzd99TKJRJI0RIayR9YHrcdsTPX8rb4E+fLlK7whWuuc1ijDlSe9bsCVaJjsd9xnALj77qU9H6Pthui+WFd7ZPc37UYTrG8t78vjUSRJg7OuBtmvm/YJE6yf6hqaJKkS62qQtWYrTjS9fvem7WVGpCRpiKyrQbaoaV8WEY/5jhGxPeX9N7/IzOvXemWSpL6qPsgiYvuI2C0itmwty8xbKWG2G+XZiq1tNwE+Q3layEfXdq2SpP6rPsiAM4EbgDePW/4m4DfA/46IayLiy8DPKE/CvxD45FqtUpK0RqwLQdZRZt4CPAM4A5gPvBT4PfBO4LDMXDG46iRJ/VLFfWSZeWCP624HjloDJUmShsQ62yOTJD0+GGSSpKoZZJKkqhlkkqSqGWSSpKoZZJKkqhlkkqSqGWSSpKoZZJKkqhlkkqSqGWSSpKoZZJKkqhlkkqSqGWSSpKoZZJKkqhlkkqSqGWSSpKoZZJKkqhlkkqSqGWSSpKoZZJKkqhlkkqSqGWSSpKoZZJKkqhlkkqSqGWSSpKoZZJKkqhlkkqSqGWSSpKoZZJKkqhlkkqSqGWSSpKoZZJKkqhlkkqSqGWSSpKoZZJKkqhlkkqSqGWSSpKoZZJKkqhlkkqSqGWSSpKoZZJKkqhlkkqSqGWSSpKoZZJKkqhlkkqSqGWSSpKoZZJKkqhlkkqSqGWSSpKoZZJKkqhlkkqSqGWSSpKoZZJKkqhlkkqSqGWSSpKoZZJKkqhlkkqSqGWSSpKoZZJKkqhlkkqSqGWSSpKoZZJKkqhlkkqSqGWSSpKoZZJKkqhlkkqSqzZ7JzhGxcWY+0PZ5H+AIYBZwYWZeNMP6JEmaVE89soh4WUT8DDi5bdnLgcuBtwPHAt+IiFP6UqUkSROYdpBFxALgK8DOwI7NshHgE5Qe3nXA6cD9wDERcWi/ipUkabxeemR/Txk6PAV4RbNsIbADcB9wQGa+FngZMAK8rg91SpLUUS9BthD4HXBsZj7YLPuTpj0/M5cCZOZ3gcXA02dapCRJE+klyLYGbsnMR9qWHQyMAd8Yt+09wOY91iZJ0pR6CbKHgbmtDxGxDbBX83H8LMXtgSW9lSZJ0tR6CbKfAk+JiN2az0c27U8y81etjSLiSGCrZntJktaIXu4jOwM4APhORHwfeCllWPEzABGxPfAPlEkeY832kiStEdPukWXmvwP/RultHQqsD5wLfLLZZGvgGEpInpyZZ/WnVEmSVtfTkz0y85iI+GfgqcDPM/NHbatvBD4FnJ2Z3+tDjZIkTajnR1Rl5vXA9R2WLwXeOJOiJEnqlg8NliRVraceWUQsBN4K7E2Zij8yyeZjmbl1L+eRJGkq0w6yiDgE+BqlNzdZgLWMTfcckiR1q5ce2Xsoz1q8DDgVuBN4ZNI9JElaQ3oJsr2B3wMHtb+LTJKkQehlssdDwGJDTJI0DHoJskuAXSNio34XI0nSdPUytPhe4EXAaRFxVGaO9rkmACLihcC7gKdRnh5yJXBiZi7qcv/tgNsm2eTSzFw440IlSQM17SDLzKsj4jDgq8CBEfFt4G4mnp04lpnHT+ccEfEaylumHwYupkwueR5wYUS8ITP/rYvD7NO0PwWu6bA+p1OTJGk49TL9fj7wYcrU++2AVzNxiI0067oOsojYFjiN8rbphZl5bbP86cC3gE9ExPntT9qfQCvITsrMz3V7fklSXXoZWjyJ8ozFMeD7wC+A5X2s6c3ABsCHWyEGkJlXRMSJwAeBoylDnJNpBdmVfaxNkjRkegmyQ4AVwAvW0EOBD2naczusO5cSZC+muyBbBtzUv9IkScOmlyDbDLhhTYRYRIwAewCjwA0dNrmpWbdnRIxkZschzYj4A8rbqa8Cjo2IVwFPAe4FzgPel5m/7nf9kqS1r5fp9z8D5vW7kMYWlGHF32bmasOVmbkCuAfYmPKMx4m0hhX3BT4E3AV8mxLcrweujIjoY92SpAHppUf2KeCUiPirzDy7z/Vs0rST3Wz9YNNuCiyZYJtWkF0LvDwzbwWIiE2ATwN/CXwOWDCjahtz5sxm/vzJclWS1i3D9JvXy/T7T0bEAcDpEfFcYBHwK+D+SfZZ7b1lE1jZtN08aHiy3uTHgHOApZl5T1sd90fE64DnAvtFxDMz8wdd1iZJGkK9TL//HWVafWuY7vVT7DI2jfO0wnCyp4a01i2baIPMXAncOsG6ByLiYuBVwH7AjINs+fIV3Hffg1NvKFVkmP6PW8Pn7ruX9rzvvHkbMWdOz+91Xk0v18g2p1wjG+nyn+mcYwklzLaMiNW+ZbNsS+ChzLy3h9pbftO0G8/gGJKkIdDL0OIae6t0Zo5FxHXAM4BdgfFDkkEJxk5P6li1UcR7Kfe6/VNmdtp2p6b95cwqliQN2hoLpRloPUvx0A7rWssumOIYewGHA38+fkVEbEV5VuQjlJmMkqSKDWOQnU55VczxEbFfa2FELACOo8xaPLVt+c4RsVtEtN8S8KmmfVszMaW17abAf1DuhftMZv4GSVLVJh1ajIgfUiZrvDIzb29bNh1jmbl/txtn5uKIeBtwCnBZMzED4PlNva/OzLvadrkI2AE4CjijOcY3IuJk4FjgfyLiUsr9Z8+hXGP7HvD2aX4PSdIQmuoa2QJKkG00btl0dDOV/jEy89SIuI3SA1tIeQr+JcAHM/OiLo/xtoj4AfB3lPvKZgE3U54V+fHMfGS6dUmShs9UQXZU097RYdkalZnnUR4nNdV2O06y7kvAl/pYliRpyEwaZJn5n90saxcRGwOzMrP3mwwkSepST3ekRcQs4AjK/VznNMvmUq5RHdp8vhQ4OjNv7E+pkiStbtqzFiNiI8pkiTOBv2hbdSrwClbdCL2QMtFiqz7UKUlSR71Mv38T8Ezgt8DF8Oi9WUdQJnb8DWUW4ecpMwTf0ZdKJUnqoJcgeyXlnWAHZeZpzbKXU2YFXpWZZzRT9d9AeR7iS/tSqSRJHfQSZAHclJk/aVv2Ykpv7PzWgsxcBvyc8oJLSZLWiF6CbGPaXtnSTPx4fvNx/D1ec3o8hyRJXeklZH4F7NQEGMABlKfhLwUua20UEdsAuwC3z7RIPT6Mjq7kzjt/w+joyqk3lqRGL9PvL6JM6DgpIv4T+AhlWPGrmbkCICKeQHkD82zgW32qVeuwG264jpNPPpGlS5cwd+5mHHvs8ey++56DLktSBXrpkX0IuA94K3A1ZQbjQ8AHAZq3Rt8OHEiZ2XhiPwrVumt0dOWjIQawdOkSTj75REZHRwdcmaQa9PI+slsj4tnA+4E/okzoOCEzs9nkdsoMxm8Dr83M2/pV7LrIt/DC4sWLHw2xlqVLl/Dgg79nxx13HExRQ2Imb+GVHi96erJH87SOP5tg9WLgiZl5xwTrJUnqm56CbDKZOcZjHzKsLvzVcZ8bdAkDMzY2ysjsDRlb8dCjy0Zmb8g7T7mEkZFLB1jZ4Jx90pGDLkGqhlPjNXAjI+ux+ZOfz8jsDcvn2RuWzyMjA65MUg363iOTejFn7hOYv9cRrFy+jFlz5hpikrpmkGlojIysx+wNNht0GZIq49CiJKlqBpkkqWoGmSSpagaZJKlqBpkkqWoGmSSpagaZJKlqBpkkqWoGmSSpagaZJKlqBpkkqWoGmSSpagaZJKlqBpkkqWoGmSSpagaZJKlqBpkkqWoGmSSpagaZJKlqBpkkqWoGmSSpagaZJKlqBpkkqWoGmSSpagaZJKlqBpkkqWoGmSSpagaZJKlqBpkkqWoGmSSpagaZJKlqBpkkqWoGmSSpagaZJKlqBpkkqWoGmSSpagaZJKlqBpkkqWoGmSSpagaZJKlqBpkkqWoGmSSpagaZJKlqBpkkqWoGmSSpagaZJKlqBpkkqWoGmSSpagaZJKlqBpkkqWoGmSSpagaZJKlqBpkkqWoGmSSpagaZJKlqBpkkqWoGmSSpagaZJKlqBpkkqWoGmSSpagaZJKlqBpkkqWoGmSSpagaZJKlqBpkkqWoGmSSpagaZJKlqBpkkqWoGmSSpagaZJKlqBpkkqWqzB13ARCLihcC7gKcB6wNXAidm5qJpHGNX4J+AhcAfAjcDnwZOyczRvhctSVrrhrJHFhGvAb4JPBu4HLgMOAC4MCKO7vIYTwOuAI4AfgEsArYD/hk4s/9VS5IGYeiCLCK2BU4D7gMWZOZLMvNgSpAtAT4REU+c4hgjlLDaDHhVZi7MzMOAXYGfAkdGxOFr8ntIktaOoQsy4M3ABsDHMvPa1sLMvAI4EdgQmKpXdhCwF/CdzPxs2zHuBt7YfHxLP4uWJA3GMAbZIU17bod1rWUv7vUYmfl94C5gYUTM7alCSdLQGKoga4YE9wBGgRs6bHJTs27PZtuJ7Nm0106wPinffY8eS5UkDYlhm7W4BWVY8e7MXD5+ZWauiIh7gK2AuZRrZp1s07R3TLC+tXzrGdQKsAvAnDmzmT9/Zp27s086coalaF00079X/bDfcZ8ZdAkaQn36u7lLPw4yVD0yYJOmfWCSbR5s2k1ncJxujtGNme4vSY9nffkNHbYe2cqmHeti28lCuNvjzDTIbwV2ApZR7lGTJE1tF0qI3dqPgw1bkN3ftBtNsk1r3bIZHKebY3RjnxnuL0maoWEbWlxCCaEtI2K1kG2WbQk8lJn3TnKcXzftEyZYP9U1NElSJYYqyDJzDLgOmEW5eXm8oNR8zRSHas1WXG1WYjPbcTfK8OP1PRcrSRoKQxVkjdazFA/tsK617IIZHOPZwHzgksxcOv3yJEnDZBiD7HTgIeD4iNivtTAiFgDHUWYcntq2fOeI2C0i5rUd47uUnt1BEfH6tm3nt+370TX3FSRJa8vI2Fg3EwTXroj4W+AU4BHg4mbx8ymTU17d/tipiFgM7AAclZlntC1/BnARZWbM5ZTrZgdS7lX7dGZ29fBhSdJwG8YeGZl5KvAy4AeUV7A8HbgEOKg9xKY4xg+B/YFzgKcAL6I8Bf8YVj1vUZJUuaHskUmS1K2h7JFJktQtg0ySVDWDTJJUNYNMklQ1g0ySVDWDTJJUtWF7+r0epyLihcC7gKcB6wNXAidm5qJJd5TWooh4DeXpQ8/JzEsGXI4a9sg0cM2Pwzcpz8G8HLgMOAC4MCJ8AouGQkQ8C/iXQdeh1RlkGqiI2BY4DbgPWJCZL8nMgylBtgT4REQ8cZA1ShFxOPB1fCv8UDLINGhvBjYAPpaZrdfvkJlXACcCGwL2yjQQEfGkiDgT+DLl9VJ3DrgkdWCQadAOadpzO6xrLXvxWqpFGu8DwKuAHwHPBG4cbDnqxCDTwDQvOd0DGAVu6LDJTc26PZttpbXtRuCvgf0zc6oX+mpAnLWoQdqCMqx4d2YuH78yM1dExD3AVsBcyjUzaa3JzI8MugZNzR6ZBmmTpn1gkm0ebFovskvqyCDTIK1s2m7eJeTfVUkd+eOgQbq/aTeaZJvWumVruBZJlTLINEhLKGG2ZUSsdr22WbYl8FBm3ru2i5NUB4NMA5OZY8B1lPtzdu2wSVD+jjpbTNKEDDINWutZiod2WNdadsFaqkVShQwyDdrpwEPA8RGxX2thRCwAjqPMWjx1QLVJqoBBpoHKzMXA24DNgMsiYlFELAK+T7l37OjMvGuAJUoacgaZBi4zTwVeBvwAWAg8HbgEOCgzPzvI2iQNv5GxsW5u4ZEkaTjZI5MkVc0gkyRVzSCTJFXNIJMkVc0gkyRVzSCTJFXNIJMkVc0gkyoQEWPNP3806FrWlIj4cvMd3zfoWlQXg0ySVLXV3gElaSjt3rS3DLQKaQgZZFIFMvPGQdcgDSuHFiVJVbNHJk2hmXzwXuAdwP3APwJ/APwcODQzb46InYB/AF4EbAsspTzN/2OZeVHbsZ7c7LcS2LbTK2oi4nnAxcAdwHaZuTIiWk/3fmpmXjtu++cCfw88G9gcuAv4BvDhzLy5bbvPA0cAJ2Tme8cd442U974tBzbPzAfb1o0AdwLzgR0y87Zm+XrAq4G/AfYCNgBuBc4B/m9m3jfBv89XAG8FngaMNd/1nZ22lbphj0zq3uGUH/tHgMXApsAtEXEwcA1wNLAVcB3lhaAvBb4VEY+GRmbeAlwKzAL+bILz/GXTnp2ZKycrKCL+Efgu5W3a6zV1bEoJl59ExIvbNj+/aV/Y4VAvaNo5wLPGrVtACbGftIXYBsBXKS9GfQ5wL3ADsDMl6K9qQnt8vScBXwGeC/yO8u/xT4EfAk+Z7LtKEzHIpO49E/g4sFNm7k75gd8e+C9gE+D9wBaZuW9mbkf5gV4CvC8iDm07zllNe8T4E0TE+pTABJj0XWwRcVhzziXAEZk5PzMXUML03cDGwBciYvtml0XAKPCMiJjbdpz1gOe1HfqPx53qkKY9r23Z/6EE9Q3Avpm5Y2buS+mNfgV4MvCl5tit8xxM6dU+DLwyM5+cmfsAuwK3UXp10rQZZFL3lgPvzswxgMy8B3g75e3WZ2bmezJzeWvjzPwqZbgRytBky381xzogIp407hyHUIYtr83MH09RzwlN+9bM/GLbeR/JzA8059mMMuzYqvdyyiWF9rDauznnpc3n8UHW6tV9DSAitgWOab7DYZl5ddu5fwscSQmmfSkvTG05vmk/kpnntO1zCyW8J+19ShMxyKTuXZuZy8Yte3nTfn6Cfb5AuQ60d0Q8ASAzf0/p3YwAfzFu+9aw4llMIiJ2Bvak9LC+OMFmrZrahxcvaNr24cXWsOJplN7d/s3QIRGxBfAMyjWyH7Ydb33g6k6zKTPzIeD/tZ87IjalvP0bOvQ0M/NnwP9M8D2kSTnZQ+reHe0fmuG57ZqPH2quV3WykvLfWgC/aZadCRxGGV78aHO8TSjBOAqcPUUtezTtKPCNiOi0zcZN+5SIGGl6kudThiPbg+z5TXsRZYLKi4D9KcFyEOV63gWtnmjbuXeJiEsmqG+bpm0VtgMl/JZTJrt08lMeO8QpdcUgk7r30LjPm7X9eZ8u9p/X9ucLgN8CCyJi58z8OSXENgEuzsxfTnGs1rlnAwdMse16wFxgSWZeHRG/BvZseoi/pUzWyMy8IyK+TQmyP6YE2WOGFced+w+7OPe8ce0DbYE43r1THEvqyCCTend/25/nN9egupKZj0TEF4G/pQwvfohVw4qTTvIYd+7rMnO6z1+8AHgdZUjxF5Tw/E6z7ttNeyCl53YwZXLGNzuc+5TMfHOX5/x9027c1jscb6MujyU9htfIpB5l5r3A3c3H3TptExGzIuKFEbFLRMwat7p1HewVETGPEhoPUu7DmsrPmnaniJgzwbm3joiFEfHEcata18lewKqJHa0Au5JyD9yzImJ/yhDhd8ZdG2ydu+N3bs69e0QsaK6xQQnMhynT+/eYYLfdJ1guTcogk2amFQrHTLD+SEpv5seU+7selZk/oITCfpR70OYA/52ZS7o47/WUe7A2ptyU3MmHge9RJpy0+yblWtULKMOK0PTIMnNFs89GrJpp+bVx+7em8R8YHS7ORcRs4FzgCuDY5rgPsKpX97oO+2xLuR4nTZtBJs3MSZRrZ0dGxAcjYsPWiua+qX9tPn56giddnEWZvfie5nM3w4o0Q3Pvbz5+PCIevSctImZHxDuAo5pFHx237zLK9a/tKRM9rs/MO9s2ubhpW9fH2u8fo7me9znKJJDzImLftnNv0XyHXSlDkKe17XoCJQDfEhFvaJ4Y0gqxc4ANkXpgkEkzkJnXU3pEDwPvAu6KiCsiYjGl5zIX+Bar7qEa77OU6fmbUoYpvz6Nc/8H8DHKNa7PR8SvI+IKyszIk5rNTsjMczvs3nrKx/qsGlZsaf98TWb+osP+b6KE4S7AlRFxU0RcBfyScs3vEeDwzPxVW71XAP+LEtynAbdFxI8oj7Xam8deh5O6ZpBJM5SZX6L8EP875bFLewFbUobW3gq8pP1G6XH73sqqG5G/0AztTefcx1KurX2V0kPamxIUXwf+dPwzFduc3/bn74xb92NWTc44jw4ycyllCv8bgEsoTxN5arPf54AFmblaKGfmv1J6gYsow5e7UgLxOcBVE39TaWIjY2MTzYSVJGn42SOTJFXNIJMkVc0gkyRVzSCTJFXNIJMkVc0gkyRVzSCTJFXNIJMkVc0gkyRVzSCTJFXNIJMkVe3/AxO7XlXQKOjWAAAAAElFTkSuQmCC\n",
         "text/plain": "<Figure size 432x288 with 1 Axes>"
        },
        "metadata": {
         "needs_background": "light"
        },
        "transient": {}
       },
       "metadata": {},
       "msg_type": "display_data",
       "version": "5.3"
      },
      "timestamp": "2018-11-16T23:02:35.166Z"
     },
     {
      "code": "sns.boxplot(x='reviewed', y='sims', data=with_categories)",
      "response": {
       "content": {
        "data": {
         "text/plain": "<matplotlib.axes._subplots.AxesSubplot at 0x1a53151a58>"
        },
        "execution_count": 202,
        "metadata": {}
       },
       "metadata": {},
       "msg_type": "execute_result",
       "version": "5.3"
      },
      "timestamp": "2018-11-16T23:03:03.432Z"
     },
     {
      "code": "sns.boxplot(x='reviewed', y='sims', data=with_categories)",
      "response": {
       "content": {
        "data": {
         "image/png": "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\n",
         "text/plain": "<Figure size 432x288 with 1 Axes>"
        },
        "metadata": {
         "needs_background": "light"
        },
        "transient": {}
       },
       "metadata": {},
       "msg_type": "display_data",
       "version": "5.3"
      },
      "timestamp": "2018-11-16T23:03:03.610Z"
     }
    ]
   },
   "outputs": [
    {
     "data": {
      "text/plain": [
       "<matplotlib.axes._subplots.AxesSubplot at 0x1a53151a58>"
      ]
     },
     "execution_count": 202,
     "metadata": {},
     "output_type": "execute_result"
    },
    {
     "data": {
      "image/png": "[encoded data removed]",
      "text/plain": [
       "<Figure size 432x288 with 1 Axes>"
      ]
     },
     "metadata": {
      "needs_background": "light"
     },
     "output_type": "display_data"
    }
   ],
   "source": [
    "sns.boxplot(x='reviewed', y='sims', data=with_categories)"
   ]
  },
  {
   "cell_type": "code",
   "execution_count": 204,
   "metadata": {
    "history": [
     {
      "code": "from sklearn.metrics import roc_curve\n\nroc_curve(with_categories['reviewed'], with_categories['sims'])",
      "response": {
       "content": {
        "data": {
         "text/plain": "(array([0.        , 0.12776211, 0.12794209, 0.12800208, 0.12972184,\n        0.13674086, 0.13726078, 0.1635771 , 0.164297  , 0.19825224,\n        0.19961205, 0.20391145, 0.30589717, 0.30591717, 0.30901674,\n        0.34901114, 0.4243006 , 0.43775871, 0.43777871, 0.57805907,\n        0.57867898, 0.67164597, 0.67180595, 0.7749715 , 0.7978483 ,\n        0.83318335, 0.8350031 , 0.88013678, 0.88015678, 0.89311496,\n        0.90119383, 0.90583318, 0.90673306, 0.90689303, 1.        ]),\n array([0., 1., 1., 1., 1., 1., 1., 1., 1., 1., 1., 1., 1., 1., 1., 1., 1.,\n        1., 1., 1., 1., 1., 1., 1., 1., 1., 1., 1., 1., 1., 1., 1., 1., 1.,\n        1.]),\n array([2.        , 1.        , 0.85714286, 0.83333333, 0.8       ,\n        0.75      , 0.71428571, 0.66666667, 0.625     , 0.6       ,\n        0.57142857, 0.55555556, 0.5       , 0.45454545, 0.44444444,\n        0.42857143, 0.4       , 0.375     , 0.36363636, 0.33333333,\n        0.3       , 0.28571429, 0.27272727, 0.25      , 0.22222222,\n        0.2       , 0.18181818, 0.16666667, 0.15384615, 0.14285714,\n        0.125     , 0.11111111, 0.1       , 0.09090909, 0.        ]))"
        },
        "execution_count": 203,
        "metadata": {}
       },
       "metadata": {},
       "msg_type": "execute_result",
       "version": "5.3"
      },
      "timestamp": "2018-11-16T23:06:09.727Z"
     },
     {
      "code": "from sklearn.metrics import roc_curve\n\nfpr, tpr, thresholds = (\n    roc_curve(with_categories['reviewed'], with_categories['sims'])\n)\nplt.plot(fpr, tpr)",
      "response": {
       "content": {
        "data": {
         "text/plain": "[<matplotlib.lines.Line2D at 0x1a60103860>]"
        },
        "execution_count": 204,
        "metadata": {}
       },
       "metadata": {},
       "msg_type": "execute_result",
       "version": "5.3"
      },
      "timestamp": "2018-11-16T23:06:31.689Z"
     },
     {
      "code": "from sklearn.metrics import roc_curve\n\nfpr, tpr, thresholds = (\n    roc_curve(with_categories['reviewed'], with_categories['sims'])\n)\nplt.plot(fpr, tpr)",
      "response": {
       "content": {
        "data": {
         "image/png": "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\n",
         "text/plain": "<Figure size 432x288 with 1 Axes>"
        },
        "metadata": {
         "needs_background": "light"
        },
        "transient": {}
       },
       "metadata": {},
       "msg_type": "display_data",
       "version": "5.3"
      },
      "timestamp": "2018-11-16T23:06:31.854Z"
     }
    ]
   },
   "outputs": [
    {
     "data": {
      "text/plain": [
       "[<matplotlib.lines.Line2D at 0x1a60103860>]"
      ]
     },
     "execution_count": 204,
     "metadata": {},
     "output_type": "execute_result"
    },
    {
     "data": {
      "image/png": "[encoded data removed]",
      "text/plain": [
       "<Figure size 432x288 with 1 Axes>"
      ]
     },
     "metadata": {
      "needs_background": "light"
     },
     "output_type": "display_data"
    }
   ],
   "source": [
    "from sklearn.metrics import roc_curve\n",
    "\n",
    "fpr, tpr, thresholds = (\n",
    "    roc_curve(with_categories['reviewed'], with_categories['sims'])\n",
    ")\n",
    "plt.plot(fpr, tpr)"
   ]
  },
  {
   "cell_type": "code",
   "execution_count": 244,
   "metadata": {},
   "outputs": [],
   "source": [
    "def has_shared_category(series):\n",
    "    item_cat, user_cat = series\n",
    "    return (0 if any(series.isna())\n",
    "            else int(len(item_cat & user_cat) > 0))"
   ]
  },
  {
   "cell_type": "code",
   "execution_count": 264,
   "metadata": {},
   "outputs": [],
   "source": [
    "from sklearn.base import BaseEstimator, ClassifierMixin\n",
    "from sklearn.utils.validation import check_is_fitted\n",
    "\n",
    "sim_map = {\n",
    "    'has_shared_category': has_shared_category,\n",
    "    'max_pairwise_jaccard': max_pairwise_jaccard,\n",
    "}\n",
    "\n",
    "class CategorySimRec(BaseEstimator, ClassifierMixin):\n",
    "    def __init__(self, cutoff=0.5, sim='max_pairwise_jaccard'):\n",
    "        self.cutoff = cutoff\n",
    "        self.sim = sim\n",
    "        \n",
    "    def fit(self, X, y=None):\n",
    "        self.X_ = X\n",
    "        self.y_ = y\n",
    "        \n",
    "        self.user_map_ = make_category_map(X, 'reviewerID')\n",
    "        self.item_map_ = make_category_map(X, 'itemID')\n",
    "        return self\n",
    "        \n",
    "    def predict_proba(self, X):\n",
    "        check_is_fitted(self, ['X_', 'user_map_', 'item_map_'])\n",
    "        return (\n",
    "            X.merge(self.user_map_.to_frame(),\n",
    "                    left_on='reviewerID', right_index=True, how='left',\n",
    "                    validate='m:1')\n",
    "            .merge(self.item_map_.to_frame(),left_on='itemID',\n",
    "                   right_index=True, how='left', validate='m:1',\n",
    "                   suffixes=['_reviewer', '_item'])\n",
    "            [['categories_reviewer', 'categories_item']]\n",
    "            .apply(sim_map[self.sim], axis=1)\n",
    "        )\n",
    "        \n",
    "    def predict(self, X):\n",
    "        return (self.predict_proba(X) >= self.cutoff).astype(int)"
   ]
  },
  {
   "cell_type": "code",
   "execution_count": 273,
   "metadata": {
    "history": [
     {
      "code": "clf = SimKNNRec()\nclf.fit(train)\nclf",
      "response": {
       "content": {
        "data": {
         "text/plain": "SimKNNRec(k=5, sim=<function jaccard at 0x1a2746b510>)"
        },
        "execution_count": 28,
        "metadata": {}
       },
       "metadata": {},
       "msg_type": "execute_result",
       "version": "5.3"
      },
      "timestamp": "2018-11-16T20:16:57.537Z"
     },
     {
      "code": "clf = SimKNNRec()\nclf.fit(train)\nclf",
      "response": {
       "content": {
        "data": {
         "text/plain": "SimKNNRec(k=5, sim=<function jaccard at 0x1a2746b510>)"
        },
        "execution_count": 33,
        "metadata": {}
       },
       "metadata": {},
       "msg_type": "execute_result",
       "version": "5.3"
      },
      "timestamp": "2018-11-16T20:17:56.178Z"
     },
     {
      "code": "clf = SimKNNRec()\nclf.fit(train)\nclf",
      "response": {
       "content": {
        "data": {
         "text/plain": "SimKNNRec(k=5, sim=<function jaccard at 0x1a2746b510>)"
        },
        "execution_count": 36,
        "metadata": {}
       },
       "metadata": {},
       "msg_type": "execute_result",
       "version": "5.3"
      },
      "timestamp": "2018-11-16T20:18:16.794Z"
     },
     {
      "code": "clf = SimKNNRec()\nclf.fit(train)\nclf",
      "response": {
       "content": {
        "data": {
         "text/plain": "SimKNNRec(k=5, sim=<function jaccard at 0x1a2746b510>)"
        },
        "execution_count": 41,
        "metadata": {}
       },
       "metadata": {},
       "msg_type": "execute_result",
       "version": "5.3"
      },
      "timestamp": "2018-11-16T20:18:45.384Z"
     },
     {
      "code": "clf = SimKNNRec()\nclf.fit(train)\nclf",
      "response": {
       "content": {
        "data": {
         "text/plain": "SimKNNRec(k=5, sim=<function jaccard at 0x1a2746b510>)"
        },
        "execution_count": 44,
        "metadata": {}
       },
       "metadata": {},
       "msg_type": "execute_result",
       "version": "5.3"
      },
      "timestamp": "2018-11-16T20:19:09.298Z"
     },
     {
      "code": "clf = SimKNNRec()\nclf.fit(train)\nclf",
      "response": {
       "content": {
        "data": {
         "text/plain": "SimKNNRec(k=5, sim=<function jaccard at 0x1a2e67e6a8>)"
        },
        "execution_count": 49,
        "metadata": {}
       },
       "metadata": {},
       "msg_type": "execute_result",
       "version": "5.3"
      },
      "timestamp": "2018-11-16T20:20:01.833Z"
     },
     {
      "code": "clf = SimKNNRec()\nclf.fit(train)\nclf",
      "response": {
       "content": {
        "data": {
         "text/plain": "SimKNNRec(k=5, sim=<function jaccard at 0x1a2e67e6a8>)"
        },
        "execution_count": 52,
        "metadata": {}
       },
       "metadata": {},
       "msg_type": "execute_result",
       "version": "5.3"
      },
      "timestamp": "2018-11-16T20:20:36.741Z"
     },
     {
      "code": "clf = SimKNNRec()\nclf.fit(train)\nclf",
      "response": {
       "content": {
        "data": {
         "text/plain": "SimKNNRec(k=5, sim=<function jaccard at 0x1a2e67e6a8>)"
        },
        "execution_count": 55,
        "metadata": {}
       },
       "metadata": {},
       "msg_type": "execute_result",
       "version": "5.3"
      },
      "timestamp": "2018-11-16T20:22:48.054Z"
     },
     {
      "code": "clf = SimKNNRec()\nclf.fit(train)\nclf",
      "response": {
       "content": {
        "data": {
         "text/plain": "SimKNNRec(k=5, sim=<function jaccard at 0x1a3604a7b8>)"
        },
        "execution_count": 66,
        "metadata": {}
       },
       "metadata": {},
       "msg_type": "execute_result",
       "version": "5.3"
      },
      "timestamp": "2018-11-16T20:27:19.595Z"
     },
     {
      "code": "clf = SimKNNRec()\nclf.fit(train)\nclf",
      "response": {
       "content": {
        "data": {
         "text/plain": "SimKNNRec(k=5, sim=<function jaccard at 0x1a3604a7b8>)"
        },
        "execution_count": 75,
        "metadata": {}
       },
       "metadata": {},
       "msg_type": "execute_result",
       "version": "5.3"
      },
      "timestamp": "2018-11-16T20:30:55.072Z"
     },
     {
      "code": "clf = SimKNNRec()\nclf.fit(train)\nclf",
      "response": {
       "content": {
        "data": {
         "text/plain": "SimKNNRec(k=5, sim=<function jaccard at 0x1a3604a400>)"
        },
        "execution_count": 81,
        "metadata": {}
       },
       "metadata": {},
       "msg_type": "execute_result",
       "version": "5.3"
      },
      "timestamp": "2018-11-16T20:36:55.391Z"
     },
     {
      "code": "clf = SimKNNRec()\nclf.fit(train)\nclf",
      "response": {
       "content": {
        "data": {
         "text/plain": "SimKNNRec(k=50, sim=<function jaccard at 0x1a3604a400>)"
        },
        "execution_count": 88,
        "metadata": {}
       },
       "metadata": {},
       "msg_type": "execute_result",
       "version": "5.3"
      },
      "timestamp": "2018-11-16T20:45:11.158Z"
     },
     {
      "code": "clf = CategorySimRec()\nclf.fit(train)\nclf",
      "response": {
       "content": {
        "data": {
         "text/plain": "CategorySimRec(cutoff=0.8)"
        },
        "execution_count": 212,
        "metadata": {}
       },
       "metadata": {},
       "msg_type": "execute_result",
       "version": "5.3"
      },
      "timestamp": "2018-11-16T23:14:52.922Z"
     },
     {
      "code": "from sklearn.model_selection import GridSearchCV\n\ngrid = {\n    'cutoff': [0.6, 0.7, 0.8, 0.9, 1.0],\n}\n\nclf = GridSearchCV(CategorySimRec, param_grid=grid)\nclf.fit(train)\nclf",
      "response": {
       "content": {
        "ename": "TypeError",
        "evalue": "get_params() missing 1 required positional argument: 'self'",
        "traceback": [
         "\u001b[0;31m---------------------------------------------------------------------------\u001b[0m",
         "\u001b[0;31mTypeError\u001b[0m                                 Traceback (most recent call last)",
         "\u001b[0;32m<ipython-input-216-76bc3ab30e5f>\u001b[0m in \u001b[0;36m<module>\u001b[0;34m\u001b[0m\n\u001b[1;32m      6\u001b[0m \u001b[0;34m\u001b[0m\u001b[0m\n\u001b[1;32m      7\u001b[0m \u001b[0mclf\u001b[0m \u001b[0;34m=\u001b[0m \u001b[0mGridSearchCV\u001b[0m\u001b[0;34m(\u001b[0m\u001b[0mCategorySimRec\u001b[0m\u001b[0;34m,\u001b[0m \u001b[0mparam_grid\u001b[0m\u001b[0;34m=\u001b[0m\u001b[0mgrid\u001b[0m\u001b[0;34m)\u001b[0m\u001b[0;34m\u001b[0m\u001b[0m\n\u001b[0;32m----> 8\u001b[0;31m \u001b[0mclf\u001b[0m\u001b[0;34m.\u001b[0m\u001b[0mfit\u001b[0m\u001b[0;34m(\u001b[0m\u001b[0mtrain\u001b[0m\u001b[0;34m)\u001b[0m\u001b[0;34m\u001b[0m\u001b[0m\n\u001b[0m\u001b[1;32m      9\u001b[0m \u001b[0mclf\u001b[0m\u001b[0;34m\u001b[0m\u001b[0m\n",
         "\u001b[0;32m~/anaconda3/lib/python3.6/site-packages/sklearn/model_selection/_search.py\u001b[0m in \u001b[0;36mfit\u001b[0;34m(self, X, y, groups, **fit_params)\u001b[0m\n\u001b[1;32m    675\u001b[0m         \u001b[0mn_splits\u001b[0m \u001b[0;34m=\u001b[0m \u001b[0mcv\u001b[0m\u001b[0;34m.\u001b[0m\u001b[0mget_n_splits\u001b[0m\u001b[0;34m(\u001b[0m\u001b[0mX\u001b[0m\u001b[0;34m,\u001b[0m \u001b[0my\u001b[0m\u001b[0;34m,\u001b[0m \u001b[0mgroups\u001b[0m\u001b[0;34m)\u001b[0m\u001b[0;34m\u001b[0m\u001b[0m\n\u001b[1;32m    676\u001b[0m \u001b[0;34m\u001b[0m\u001b[0m\n\u001b[0;32m--> 677\u001b[0;31m         \u001b[0mbase_estimator\u001b[0m \u001b[0;34m=\u001b[0m \u001b[0mclone\u001b[0m\u001b[0;34m(\u001b[0m\u001b[0mself\u001b[0m\u001b[0;34m.\u001b[0m\u001b[0mestimator\u001b[0m\u001b[0;34m)\u001b[0m\u001b[0;34m\u001b[0m\u001b[0m\n\u001b[0m\u001b[1;32m    678\u001b[0m \u001b[0;34m\u001b[0m\u001b[0m\n\u001b[1;32m    679\u001b[0m         parallel = Parallel(n_jobs=self.n_jobs, verbose=self.verbose,\n",
         "\u001b[0;32m~/anaconda3/lib/python3.6/site-packages/sklearn/base.py\u001b[0m in \u001b[0;36mclone\u001b[0;34m(estimator, safe)\u001b[0m\n\u001b[1;32m     58\u001b[0m                             % (repr(estimator), type(estimator)))\n\u001b[1;32m     59\u001b[0m     \u001b[0mklass\u001b[0m \u001b[0;34m=\u001b[0m \u001b[0mestimator\u001b[0m\u001b[0;34m.\u001b[0m\u001b[0m__class__\u001b[0m\u001b[0;34m\u001b[0m\u001b[0m\n\u001b[0;32m---> 60\u001b[0;31m     \u001b[0mnew_object_params\u001b[0m \u001b[0;34m=\u001b[0m \u001b[0mestimator\u001b[0m\u001b[0;34m.\u001b[0m\u001b[0mget_params\u001b[0m\u001b[0;34m(\u001b[0m\u001b[0mdeep\u001b[0m\u001b[0;34m=\u001b[0m\u001b[0;32mFalse\u001b[0m\u001b[0;34m)\u001b[0m\u001b[0;34m\u001b[0m\u001b[0m\n\u001b[0m\u001b[1;32m     61\u001b[0m     \u001b[0;32mfor\u001b[0m \u001b[0mname\u001b[0m\u001b[0;34m,\u001b[0m \u001b[0mparam\u001b[0m \u001b[0;32min\u001b[0m \u001b[0msix\u001b[0m\u001b[0;34m.\u001b[0m\u001b[0miteritems\u001b[0m\u001b[0;34m(\u001b[0m\u001b[0mnew_object_params\u001b[0m\u001b[0;34m)\u001b[0m\u001b[0;34m:\u001b[0m\u001b[0;34m\u001b[0m\u001b[0m\n\u001b[1;32m     62\u001b[0m         \u001b[0mnew_object_params\u001b[0m\u001b[0;34m[\u001b[0m\u001b[0mname\u001b[0m\u001b[0;34m]\u001b[0m \u001b[0;34m=\u001b[0m \u001b[0mclone\u001b[0m\u001b[0;34m(\u001b[0m\u001b[0mparam\u001b[0m\u001b[0;34m,\u001b[0m \u001b[0msafe\u001b[0m\u001b[0;34m=\u001b[0m\u001b[0;32mFalse\u001b[0m\u001b[0;34m)\u001b[0m\u001b[0;34m\u001b[0m\u001b[0m\n",
         "\u001b[0;31mTypeError\u001b[0m: get_params() missing 1 required positional argument: 'self'"
        ]
       },
       "metadata": {},
       "msg_type": "error",
       "version": "5.3"
      },
      "timestamp": "2018-11-16T23:20:13.885Z"
     },
     {
      "code": "from sklearn.model_selection import GridSearchCV\n\ngrid = {\n    'cutoff': [0.6, 0.7, 0.8, 0.9, 1.0],\n}\n\nclf = GridSearchCV(CategorySimRec(), param_grid=grid)\nclf.fit(train)\nclf",
      "response": {
       "content": {
        "ename": "TypeError",
        "evalue": "score() missing 1 required positional argument: 'y'",
        "traceback": [
         "\u001b[0;31m---------------------------------------------------------------------------\u001b[0m",
         "\u001b[0;31mTypeError\u001b[0m                                 Traceback (most recent call last)",
         "\u001b[0;32m<ipython-input-217-0a582a100b6d>\u001b[0m in \u001b[0;36m<module>\u001b[0;34m\u001b[0m\n\u001b[1;32m      6\u001b[0m \u001b[0;34m\u001b[0m\u001b[0m\n\u001b[1;32m      7\u001b[0m \u001b[0mclf\u001b[0m \u001b[0;34m=\u001b[0m \u001b[0mGridSearchCV\u001b[0m\u001b[0;34m(\u001b[0m\u001b[0mCategorySimRec\u001b[0m\u001b[0;34m(\u001b[0m\u001b[0;34m)\u001b[0m\u001b[0;34m,\u001b[0m \u001b[0mparam_grid\u001b[0m\u001b[0;34m=\u001b[0m\u001b[0mgrid\u001b[0m\u001b[0;34m)\u001b[0m\u001b[0;34m\u001b[0m\u001b[0m\n\u001b[0;32m----> 8\u001b[0;31m \u001b[0mclf\u001b[0m\u001b[0;34m.\u001b[0m\u001b[0mfit\u001b[0m\u001b[0;34m(\u001b[0m\u001b[0mtrain\u001b[0m\u001b[0;34m)\u001b[0m\u001b[0;34m\u001b[0m\u001b[0m\n\u001b[0m\u001b[1;32m      9\u001b[0m \u001b[0mclf\u001b[0m\u001b[0;34m\u001b[0m\u001b[0m\n",
         "\u001b[0;32m~/anaconda3/lib/python3.6/site-packages/sklearn/model_selection/_search.py\u001b[0m in \u001b[0;36mfit\u001b[0;34m(self, X, y, groups, **fit_params)\u001b[0m\n\u001b[1;32m    720\u001b[0m                 \u001b[0;32mreturn\u001b[0m \u001b[0mresults_container\u001b[0m\u001b[0;34m[\u001b[0m\u001b[0;36m0\u001b[0m\u001b[0;34m]\u001b[0m\u001b[0;34m\u001b[0m\u001b[0m\n\u001b[1;32m    721\u001b[0m \u001b[0;34m\u001b[0m\u001b[0m\n\u001b[0;32m--> 722\u001b[0;31m             \u001b[0mself\u001b[0m\u001b[0;34m.\u001b[0m\u001b[0m_run_search\u001b[0m\u001b[0;34m(\u001b[0m\u001b[0mevaluate_candidates\u001b[0m\u001b[0;34m)\u001b[0m\u001b[0;34m\u001b[0m\u001b[0m\n\u001b[0m\u001b[1;32m    723\u001b[0m \u001b[0;34m\u001b[0m\u001b[0m\n\u001b[1;32m    724\u001b[0m         \u001b[0mresults\u001b[0m \u001b[0;34m=\u001b[0m \u001b[0mresults_container\u001b[0m\u001b[0;34m[\u001b[0m\u001b[0;36m0\u001b[0m\u001b[0;34m]\u001b[0m\u001b[0;34m\u001b[0m\u001b[0m\n",
         "\u001b[0;32m~/anaconda3/lib/python3.6/site-packages/sklearn/model_selection/_search.py\u001b[0m in \u001b[0;36m_run_search\u001b[0;34m(self, evaluate_candidates)\u001b[0m\n\u001b[1;32m   1189\u001b[0m     \u001b[0;32mdef\u001b[0m \u001b[0m_run_search\u001b[0m\u001b[0;34m(\u001b[0m\u001b[0mself\u001b[0m\u001b[0;34m,\u001b[0m \u001b[0mevaluate_candidates\u001b[0m\u001b[0;34m)\u001b[0m\u001b[0;34m:\u001b[0m\u001b[0;34m\u001b[0m\u001b[0m\n\u001b[1;32m   1190\u001b[0m         \u001b[0;34m\"\"\"Search all candidates in param_grid\"\"\"\u001b[0m\u001b[0;34m\u001b[0m\u001b[0m\n\u001b[0;32m-> 1191\u001b[0;31m         \u001b[0mevaluate_candidates\u001b[0m\u001b[0;34m(\u001b[0m\u001b[0mParameterGrid\u001b[0m\u001b[0;34m(\u001b[0m\u001b[0mself\u001b[0m\u001b[0;34m.\u001b[0m\u001b[0mparam_grid\u001b[0m\u001b[0;34m)\u001b[0m\u001b[0;34m)\u001b[0m\u001b[0;34m\u001b[0m\u001b[0m\n\u001b[0m\u001b[1;32m   1192\u001b[0m \u001b[0;34m\u001b[0m\u001b[0m\n\u001b[1;32m   1193\u001b[0m \u001b[0;34m\u001b[0m\u001b[0m\n",
         "\u001b[0;32m~/anaconda3/lib/python3.6/site-packages/sklearn/model_selection/_search.py\u001b[0m in \u001b[0;36mevaluate_candidates\u001b[0;34m(candidate_params)\u001b[0m\n\u001b[1;32m    709\u001b[0m                                \u001b[0;32mfor\u001b[0m \u001b[0mparameters\u001b[0m\u001b[0;34m,\u001b[0m \u001b[0;34m(\u001b[0m\u001b[0mtrain\u001b[0m\u001b[0;34m,\u001b[0m \u001b[0mtest\u001b[0m\u001b[0;34m)\u001b[0m\u001b[0;34m\u001b[0m\u001b[0m\n\u001b[1;32m    710\u001b[0m                                in product(candidate_params,\n\u001b[0;32m--> 711\u001b[0;31m                                           cv.split(X, y, groups)))\n\u001b[0m\u001b[1;32m    712\u001b[0m \u001b[0;34m\u001b[0m\u001b[0m\n\u001b[1;32m    713\u001b[0m                 \u001b[0mall_candidate_params\u001b[0m\u001b[0;34m.\u001b[0m\u001b[0mextend\u001b[0m\u001b[0;34m(\u001b[0m\u001b[0mcandidate_params\u001b[0m\u001b[0;34m)\u001b[0m\u001b[0;34m\u001b[0m\u001b[0m\n",
         "\u001b[0;32m~/anaconda3/lib/python3.6/site-packages/sklearn/externals/joblib/parallel.py\u001b[0m in \u001b[0;36m__call__\u001b[0;34m(self, iterable)\u001b[0m\n\u001b[1;32m    981\u001b[0m             \u001b[0;31m# remaining jobs.\u001b[0m\u001b[0;34m\u001b[0m\u001b[0;34m\u001b[0m\u001b[0m\n\u001b[1;32m    982\u001b[0m             \u001b[0mself\u001b[0m\u001b[0;34m.\u001b[0m\u001b[0m_iterating\u001b[0m \u001b[0;34m=\u001b[0m \u001b[0;32mFalse\u001b[0m\u001b[0;34m\u001b[0m\u001b[0m\n\u001b[0;32m--> 983\u001b[0;31m             \u001b[0;32mif\u001b[0m \u001b[0mself\u001b[0m\u001b[0;34m.\u001b[0m\u001b[0mdispatch_one_batch\u001b[0m\u001b[0;34m(\u001b[0m\u001b[0miterator\u001b[0m\u001b[0;34m)\u001b[0m\u001b[0;34m:\u001b[0m\u001b[0;34m\u001b[0m\u001b[0m\n\u001b[0m\u001b[1;32m    984\u001b[0m                 \u001b[0mself\u001b[0m\u001b[0;34m.\u001b[0m\u001b[0m_iterating\u001b[0m \u001b[0;34m=\u001b[0m \u001b[0mself\u001b[0m\u001b[0;34m.\u001b[0m\u001b[0m_original_iterator\u001b[0m \u001b[0;32mis\u001b[0m \u001b[0;32mnot\u001b[0m \u001b[0;32mNone\u001b[0m\u001b[0;34m\u001b[0m\u001b[0m\n\u001b[1;32m    985\u001b[0m \u001b[0;34m\u001b[0m\u001b[0m\n",
         "\u001b[0;32m~/anaconda3/lib/python3.6/site-packages/sklearn/externals/joblib/parallel.py\u001b[0m in \u001b[0;36mdispatch_one_batch\u001b[0;34m(self, iterator)\u001b[0m\n\u001b[1;32m    823\u001b[0m                 \u001b[0;32mreturn\u001b[0m \u001b[0;32mFalse\u001b[0m\u001b[0;34m\u001b[0m\u001b[0m\n\u001b[1;32m    824\u001b[0m             \u001b[0;32melse\u001b[0m\u001b[0;34m:\u001b[0m\u001b[0;34m\u001b[0m\u001b[0m\n\u001b[0;32m--> 825\u001b[0;31m                 \u001b[0mself\u001b[0m\u001b[0;34m.\u001b[0m\u001b[0m_dispatch\u001b[0m\u001b[0;34m(\u001b[0m\u001b[0mtasks\u001b[0m\u001b[0;34m)\u001b[0m\u001b[0;34m\u001b[0m\u001b[0m\n\u001b[0m\u001b[1;32m    826\u001b[0m                 \u001b[0;32mreturn\u001b[0m \u001b[0;32mTrue\u001b[0m\u001b[0;34m\u001b[0m\u001b[0m\n\u001b[1;32m    827\u001b[0m \u001b[0;34m\u001b[0m\u001b[0m\n",
         "\u001b[0;32m~/anaconda3/lib/python3.6/site-packages/sklearn/externals/joblib/parallel.py\u001b[0m in \u001b[0;36m_dispatch\u001b[0;34m(self, batch)\u001b[0m\n\u001b[1;32m    780\u001b[0m         \u001b[0;32mwith\u001b[0m \u001b[0mself\u001b[0m\u001b[0;34m.\u001b[0m\u001b[0m_lock\u001b[0m\u001b[0;34m:\u001b[0m\u001b[0;34m\u001b[0m\u001b[0m\n\u001b[1;32m    781\u001b[0m             \u001b[0mjob_idx\u001b[0m \u001b[0;34m=\u001b[0m \u001b[0mlen\u001b[0m\u001b[0;34m(\u001b[0m\u001b[0mself\u001b[0m\u001b[0;34m.\u001b[0m\u001b[0m_jobs\u001b[0m\u001b[0;34m)\u001b[0m\u001b[0;34m\u001b[0m\u001b[0m\n\u001b[0;32m--> 782\u001b[0;31m             \u001b[0mjob\u001b[0m \u001b[0;34m=\u001b[0m \u001b[0mself\u001b[0m\u001b[0;34m.\u001b[0m\u001b[0m_backend\u001b[0m\u001b[0;34m.\u001b[0m\u001b[0mapply_async\u001b[0m\u001b[0;34m(\u001b[0m\u001b[0mbatch\u001b[0m\u001b[0;34m,\u001b[0m \u001b[0mcallback\u001b[0m\u001b[0;34m=\u001b[0m\u001b[0mcb\u001b[0m\u001b[0;34m)\u001b[0m\u001b[0;34m\u001b[0m\u001b[0m\n\u001b[0m\u001b[1;32m    783\u001b[0m             \u001b[0;31m# A job can complete so quickly than its callback is\u001b[0m\u001b[0;34m\u001b[0m\u001b[0;34m\u001b[0m\u001b[0m\n\u001b[1;32m    784\u001b[0m             \u001b[0;31m# called before we get here, causing self._jobs to\u001b[0m\u001b[0;34m\u001b[0m\u001b[0;34m\u001b[0m\u001b[0m\n",
         "\u001b[0;32m~/anaconda3/lib/python3.6/site-packages/sklearn/externals/joblib/_parallel_backends.py\u001b[0m in \u001b[0;36mapply_async\u001b[0;34m(self, func, callback)\u001b[0m\n\u001b[1;32m    180\u001b[0m     \u001b[0;32mdef\u001b[0m \u001b[0mapply_async\u001b[0m\u001b[0;34m(\u001b[0m\u001b[0mself\u001b[0m\u001b[0;34m,\u001b[0m \u001b[0mfunc\u001b[0m\u001b[0;34m,\u001b[0m \u001b[0mcallback\u001b[0m\u001b[0;34m=\u001b[0m\u001b[0;32mNone\u001b[0m\u001b[0;34m)\u001b[0m\u001b[0;34m:\u001b[0m\u001b[0;34m\u001b[0m\u001b[0m\n\u001b[1;32m    181\u001b[0m         \u001b[0;34m\"\"\"Schedule a func to be run\"\"\"\u001b[0m\u001b[0;34m\u001b[0m\u001b[0m\n\u001b[0;32m--> 182\u001b[0;31m         \u001b[0mresult\u001b[0m \u001b[0;34m=\u001b[0m \u001b[0mImmediateResult\u001b[0m\u001b[0;34m(\u001b[0m\u001b[0mfunc\u001b[0m\u001b[0;34m)\u001b[0m\u001b[0;34m\u001b[0m\u001b[0m\n\u001b[0m\u001b[1;32m    183\u001b[0m         \u001b[0;32mif\u001b[0m \u001b[0mcallback\u001b[0m\u001b[0;34m:\u001b[0m\u001b[0;34m\u001b[0m\u001b[0m\n\u001b[1;32m    184\u001b[0m             \u001b[0mcallback\u001b[0m\u001b[0;34m(\u001b[0m\u001b[0mresult\u001b[0m\u001b[0;34m)\u001b[0m\u001b[0;34m\u001b[0m\u001b[0m\n",
         "\u001b[0;32m~/anaconda3/lib/python3.6/site-packages/sklearn/externals/joblib/_parallel_backends.py\u001b[0m in \u001b[0;36m__init__\u001b[0;34m(self, batch)\u001b[0m\n\u001b[1;32m    543\u001b[0m         \u001b[0;31m# Don't delay the application, to avoid keeping the input\u001b[0m\u001b[0;34m\u001b[0m\u001b[0;34m\u001b[0m\u001b[0m\n\u001b[1;32m    544\u001b[0m         \u001b[0;31m# arguments in memory\u001b[0m\u001b[0;34m\u001b[0m\u001b[0;34m\u001b[0m\u001b[0m\n\u001b[0;32m--> 545\u001b[0;31m         \u001b[0mself\u001b[0m\u001b[0;34m.\u001b[0m\u001b[0mresults\u001b[0m \u001b[0;34m=\u001b[0m \u001b[0mbatch\u001b[0m\u001b[0;34m(\u001b[0m\u001b[0;34m)\u001b[0m\u001b[0;34m\u001b[0m\u001b[0m\n\u001b[0m\u001b[1;32m    546\u001b[0m \u001b[0;34m\u001b[0m\u001b[0m\n\u001b[1;32m    547\u001b[0m     \u001b[0;32mdef\u001b[0m \u001b[0mget\u001b[0m\u001b[0;34m(\u001b[0m\u001b[0mself\u001b[0m\u001b[0;34m)\u001b[0m\u001b[0;34m:\u001b[0m\u001b[0;34m\u001b[0m\u001b[0m\n",
         "\u001b[0;32m~/anaconda3/lib/python3.6/site-packages/sklearn/externals/joblib/parallel.py\u001b[0m in \u001b[0;36m__call__\u001b[0;34m(self)\u001b[0m\n\u001b[1;32m    259\u001b[0m         \u001b[0;32mwith\u001b[0m \u001b[0mparallel_backend\u001b[0m\u001b[0;34m(\u001b[0m\u001b[0mself\u001b[0m\u001b[0;34m.\u001b[0m\u001b[0m_backend\u001b[0m\u001b[0;34m)\u001b[0m\u001b[0;34m:\u001b[0m\u001b[0;34m\u001b[0m\u001b[0m\n\u001b[1;32m    260\u001b[0m             return [func(*args, **kwargs)\n\u001b[0;32m--> 261\u001b[0;31m                     for func, args, kwargs in self.items]\n\u001b[0m\u001b[1;32m    262\u001b[0m \u001b[0;34m\u001b[0m\u001b[0m\n\u001b[1;32m    263\u001b[0m     \u001b[0;32mdef\u001b[0m \u001b[0m__len__\u001b[0m\u001b[0;34m(\u001b[0m\u001b[0mself\u001b[0m\u001b[0;34m)\u001b[0m\u001b[0;34m:\u001b[0m\u001b[0;34m\u001b[0m\u001b[0m\n",
         "\u001b[0;32m~/anaconda3/lib/python3.6/site-packages/sklearn/externals/joblib/parallel.py\u001b[0m in \u001b[0;36m<listcomp>\u001b[0;34m(.0)\u001b[0m\n\u001b[1;32m    259\u001b[0m         \u001b[0;32mwith\u001b[0m \u001b[0mparallel_backend\u001b[0m\u001b[0;34m(\u001b[0m\u001b[0mself\u001b[0m\u001b[0;34m.\u001b[0m\u001b[0m_backend\u001b[0m\u001b[0;34m)\u001b[0m\u001b[0;34m:\u001b[0m\u001b[0;34m\u001b[0m\u001b[0m\n\u001b[1;32m    260\u001b[0m             return [func(*args, **kwargs)\n\u001b[0;32m--> 261\u001b[0;31m                     for func, args, kwargs in self.items]\n\u001b[0m\u001b[1;32m    262\u001b[0m \u001b[0;34m\u001b[0m\u001b[0m\n\u001b[1;32m    263\u001b[0m     \u001b[0;32mdef\u001b[0m \u001b[0m__len__\u001b[0m\u001b[0;34m(\u001b[0m\u001b[0mself\u001b[0m\u001b[0;34m)\u001b[0m\u001b[0;34m:\u001b[0m\u001b[0;34m\u001b[0m\u001b[0m\n",
         "\u001b[0;32m~/anaconda3/lib/python3.6/site-packages/sklearn/model_selection/_validation.py\u001b[0m in \u001b[0;36m_fit_and_score\u001b[0;34m(estimator, X, y, scorer, train, test, verbose, parameters, fit_params, return_train_score, return_parameters, return_n_test_samples, return_times, return_estimator, error_score)\u001b[0m\n\u001b[1;32m    566\u001b[0m         \u001b[0mfit_time\u001b[0m \u001b[0;34m=\u001b[0m \u001b[0mtime\u001b[0m\u001b[0;34m.\u001b[0m\u001b[0mtime\u001b[0m\u001b[0;34m(\u001b[0m\u001b[0;34m)\u001b[0m \u001b[0;34m-\u001b[0m \u001b[0mstart_time\u001b[0m\u001b[0;34m\u001b[0m\u001b[0m\n\u001b[1;32m    567\u001b[0m         \u001b[0;31m# _score will return dict if is_multimetric is True\u001b[0m\u001b[0;34m\u001b[0m\u001b[0;34m\u001b[0m\u001b[0m\n\u001b[0;32m--> 568\u001b[0;31m         \u001b[0mtest_scores\u001b[0m \u001b[0;34m=\u001b[0m \u001b[0m_score\u001b[0m\u001b[0;34m(\u001b[0m\u001b[0mestimator\u001b[0m\u001b[0;34m,\u001b[0m \u001b[0mX_test\u001b[0m\u001b[0;34m,\u001b[0m \u001b[0my_test\u001b[0m\u001b[0;34m,\u001b[0m \u001b[0mscorer\u001b[0m\u001b[0;34m,\u001b[0m \u001b[0mis_multimetric\u001b[0m\u001b[0;34m)\u001b[0m\u001b[0;34m\u001b[0m\u001b[0m\n\u001b[0m\u001b[1;32m    569\u001b[0m         \u001b[0mscore_time\u001b[0m \u001b[0;34m=\u001b[0m \u001b[0mtime\u001b[0m\u001b[0;34m.\u001b[0m\u001b[0mtime\u001b[0m\u001b[0;34m(\u001b[0m\u001b[0;34m)\u001b[0m \u001b[0;34m-\u001b[0m \u001b[0mstart_time\u001b[0m \u001b[0;34m-\u001b[0m \u001b[0mfit_time\u001b[0m\u001b[0;34m\u001b[0m\u001b[0m\n\u001b[1;32m    570\u001b[0m         \u001b[0;32mif\u001b[0m \u001b[0mreturn_train_score\u001b[0m\u001b[0;34m:\u001b[0m\u001b[0;34m\u001b[0m\u001b[0m\n",
         "\u001b[0;32m~/anaconda3/lib/python3.6/site-packages/sklearn/model_selection/_validation.py\u001b[0m in \u001b[0;36m_score\u001b[0;34m(estimator, X_test, y_test, scorer, is_multimetric)\u001b[0m\n\u001b[1;32m    603\u001b[0m     \"\"\"\n\u001b[1;32m    604\u001b[0m     \u001b[0;32mif\u001b[0m \u001b[0mis_multimetric\u001b[0m\u001b[0;34m:\u001b[0m\u001b[0;34m\u001b[0m\u001b[0m\n\u001b[0;32m--> 605\u001b[0;31m         \u001b[0;32mreturn\u001b[0m \u001b[0m_multimetric_score\u001b[0m\u001b[0;34m(\u001b[0m\u001b[0mestimator\u001b[0m\u001b[0;34m,\u001b[0m \u001b[0mX_test\u001b[0m\u001b[0;34m,\u001b[0m \u001b[0my_test\u001b[0m\u001b[0;34m,\u001b[0m \u001b[0mscorer\u001b[0m\u001b[0;34m)\u001b[0m\u001b[0;34m\u001b[0m\u001b[0m\n\u001b[0m\u001b[1;32m    606\u001b[0m     \u001b[0;32melse\u001b[0m\u001b[0;34m:\u001b[0m\u001b[0;34m\u001b[0m\u001b[0m\n\u001b[1;32m    607\u001b[0m         \u001b[0;32mif\u001b[0m \u001b[0my_test\u001b[0m \u001b[0;32mis\u001b[0m \u001b[0;32mNone\u001b[0m\u001b[0;34m:\u001b[0m\u001b[0;34m\u001b[0m\u001b[0m\n",
         "\u001b[0;32m~/anaconda3/lib/python3.6/site-packages/sklearn/model_selection/_validation.py\u001b[0m in \u001b[0;36m_multimetric_score\u001b[0;34m(estimator, X_test, y_test, scorers)\u001b[0m\n\u001b[1;32m    631\u001b[0m     \u001b[0;32mfor\u001b[0m \u001b[0mname\u001b[0m\u001b[0;34m,\u001b[0m \u001b[0mscorer\u001b[0m \u001b[0;32min\u001b[0m \u001b[0mscorers\u001b[0m\u001b[0;34m.\u001b[0m\u001b[0mitems\u001b[0m\u001b[0;34m(\u001b[0m\u001b[0;34m)\u001b[0m\u001b[0;34m:\u001b[0m\u001b[0;34m\u001b[0m\u001b[0m\n\u001b[1;32m    632\u001b[0m         \u001b[0;32mif\u001b[0m \u001b[0my_test\u001b[0m \u001b[0;32mis\u001b[0m \u001b[0;32mNone\u001b[0m\u001b[0;34m:\u001b[0m\u001b[0;34m\u001b[0m\u001b[0m\n\u001b[0;32m--> 633\u001b[0;31m             \u001b[0mscore\u001b[0m \u001b[0;34m=\u001b[0m \u001b[0mscorer\u001b[0m\u001b[0;34m(\u001b[0m\u001b[0mestimator\u001b[0m\u001b[0;34m,\u001b[0m \u001b[0mX_test\u001b[0m\u001b[0;34m)\u001b[0m\u001b[0;34m\u001b[0m\u001b[0m\n\u001b[0m\u001b[1;32m    634\u001b[0m         \u001b[0;32melse\u001b[0m\u001b[0;34m:\u001b[0m\u001b[0;34m\u001b[0m\u001b[0m\n\u001b[1;32m    635\u001b[0m             \u001b[0mscore\u001b[0m \u001b[0;34m=\u001b[0m \u001b[0mscorer\u001b[0m\u001b[0;34m(\u001b[0m\u001b[0mestimator\u001b[0m\u001b[0;34m,\u001b[0m \u001b[0mX_test\u001b[0m\u001b[0;34m,\u001b[0m \u001b[0my_test\u001b[0m\u001b[0;34m)\u001b[0m\u001b[0;34m\u001b[0m\u001b[0m\n",
         "\u001b[0;32m~/anaconda3/lib/python3.6/site-packages/sklearn/metrics/scorer.py\u001b[0m in \u001b[0;36m_passthrough_scorer\u001b[0;34m(estimator, *args, **kwargs)\u001b[0m\n\u001b[1;32m    226\u001b[0m \u001b[0;32mdef\u001b[0m \u001b[0m_passthrough_scorer\u001b[0m\u001b[0;34m(\u001b[0m\u001b[0mestimator\u001b[0m\u001b[0;34m,\u001b[0m \u001b[0;34m*\u001b[0m\u001b[0margs\u001b[0m\u001b[0;34m,\u001b[0m \u001b[0;34m**\u001b[0m\u001b[0mkwargs\u001b[0m\u001b[0;34m)\u001b[0m\u001b[0;34m:\u001b[0m\u001b[0;34m\u001b[0m\u001b[0m\n\u001b[1;32m    227\u001b[0m     \u001b[0;34m\"\"\"Function that wraps estimator.score\"\"\"\u001b[0m\u001b[0;34m\u001b[0m\u001b[0m\n\u001b[0;32m--> 228\u001b[0;31m     \u001b[0;32mreturn\u001b[0m \u001b[0mestimator\u001b[0m\u001b[0;34m.\u001b[0m\u001b[0mscore\u001b[0m\u001b[0;34m(\u001b[0m\u001b[0;34m*\u001b[0m\u001b[0margs\u001b[0m\u001b[0;34m,\u001b[0m \u001b[0;34m**\u001b[0m\u001b[0mkwargs\u001b[0m\u001b[0;34m)\u001b[0m\u001b[0;34m\u001b[0m\u001b[0m\n\u001b[0m\u001b[1;32m    229\u001b[0m \u001b[0;34m\u001b[0m\u001b[0m\n\u001b[1;32m    230\u001b[0m \u001b[0;34m\u001b[0m\u001b[0m\n",
         "\u001b[0;31mTypeError\u001b[0m: score() missing 1 required positional argument: 'y'"
        ]
       },
       "metadata": {},
       "msg_type": "error",
       "version": "5.3"
      },
      "timestamp": "2018-11-16T23:22:02.800Z"
     },
     {
      "code": "%%time\n\nfrom sklearn.model_selection import GridSearchCV\n\ngrid = {\n    'cutoff': [0.6, 0.7, 0.8, 0.9, 1.0],\n}\n\nclf = GridSearchCV(CategorySimRec(), param_grid=grid)\nclf.fit(train, train['reviewed'])\nprint(clf)",
      "response": {
       "content": {
        "ename": "KeyboardInterrupt",
        "evalue": "",
        "traceback": [
         "\u001b[0;31m---------------------------------------------------------------------------\u001b[0m",
         "\u001b[0;31mKeyboardInterrupt\u001b[0m                         Traceback (most recent call last)",
         "\u001b[0;32m<ipython-input-218-db7597107aea>\u001b[0m in \u001b[0;36m<module>\u001b[0;34m\u001b[0m\n\u001b[1;32m      6\u001b[0m \u001b[0;34m\u001b[0m\u001b[0m\n\u001b[1;32m      7\u001b[0m \u001b[0mclf\u001b[0m \u001b[0;34m=\u001b[0m \u001b[0mGridSearchCV\u001b[0m\u001b[0;34m(\u001b[0m\u001b[0mCategorySimRec\u001b[0m\u001b[0;34m(\u001b[0m\u001b[0;34m)\u001b[0m\u001b[0;34m,\u001b[0m \u001b[0mparam_grid\u001b[0m\u001b[0;34m=\u001b[0m\u001b[0mgrid\u001b[0m\u001b[0;34m)\u001b[0m\u001b[0;34m\u001b[0m\u001b[0m\n\u001b[0;32m----> 8\u001b[0;31m \u001b[0mclf\u001b[0m\u001b[0;34m.\u001b[0m\u001b[0mfit\u001b[0m\u001b[0;34m(\u001b[0m\u001b[0mtrain\u001b[0m\u001b[0;34m,\u001b[0m \u001b[0mtrain\u001b[0m\u001b[0;34m[\u001b[0m\u001b[0;34m'reviewed'\u001b[0m\u001b[0;34m]\u001b[0m\u001b[0;34m)\u001b[0m\u001b[0;34m\u001b[0m\u001b[0m\n\u001b[0m\u001b[1;32m      9\u001b[0m \u001b[0mclf\u001b[0m\u001b[0;34m\u001b[0m\u001b[0m\n",
         "\u001b[0;32m~/anaconda3/lib/python3.6/site-packages/sklearn/model_selection/_search.py\u001b[0m in \u001b[0;36mfit\u001b[0;34m(self, X, y, groups, **fit_params)\u001b[0m\n\u001b[1;32m    720\u001b[0m                 \u001b[0;32mreturn\u001b[0m \u001b[0mresults_container\u001b[0m\u001b[0;34m[\u001b[0m\u001b[0;36m0\u001b[0m\u001b[0;34m]\u001b[0m\u001b[0;34m\u001b[0m\u001b[0m\n\u001b[1;32m    721\u001b[0m \u001b[0;34m\u001b[0m\u001b[0m\n\u001b[0;32m--> 722\u001b[0;31m             \u001b[0mself\u001b[0m\u001b[0;34m.\u001b[0m\u001b[0m_run_search\u001b[0m\u001b[0;34m(\u001b[0m\u001b[0mevaluate_candidates\u001b[0m\u001b[0;34m)\u001b[0m\u001b[0;34m\u001b[0m\u001b[0m\n\u001b[0m\u001b[1;32m    723\u001b[0m \u001b[0;34m\u001b[0m\u001b[0m\n\u001b[1;32m    724\u001b[0m         \u001b[0mresults\u001b[0m \u001b[0;34m=\u001b[0m \u001b[0mresults_container\u001b[0m\u001b[0;34m[\u001b[0m\u001b[0;36m0\u001b[0m\u001b[0;34m]\u001b[0m\u001b[0;34m\u001b[0m\u001b[0m\n",
         "\u001b[0;32m~/anaconda3/lib/python3.6/site-packages/sklearn/model_selection/_search.py\u001b[0m in \u001b[0;36m_run_search\u001b[0;34m(self, evaluate_candidates)\u001b[0m\n\u001b[1;32m   1189\u001b[0m     \u001b[0;32mdef\u001b[0m \u001b[0m_run_search\u001b[0m\u001b[0;34m(\u001b[0m\u001b[0mself\u001b[0m\u001b[0;34m,\u001b[0m \u001b[0mevaluate_candidates\u001b[0m\u001b[0;34m)\u001b[0m\u001b[0;34m:\u001b[0m\u001b[0;34m\u001b[0m\u001b[0m\n\u001b[1;32m   1190\u001b[0m         \u001b[0;34m\"\"\"Search all candidates in param_grid\"\"\"\u001b[0m\u001b[0;34m\u001b[0m\u001b[0m\n\u001b[0;32m-> 1191\u001b[0;31m         \u001b[0mevaluate_candidates\u001b[0m\u001b[0;34m(\u001b[0m\u001b[0mParameterGrid\u001b[0m\u001b[0;34m(\u001b[0m\u001b[0mself\u001b[0m\u001b[0;34m.\u001b[0m\u001b[0mparam_grid\u001b[0m\u001b[0;34m)\u001b[0m\u001b[0;34m)\u001b[0m\u001b[0;34m\u001b[0m\u001b[0m\n\u001b[0m\u001b[1;32m   1192\u001b[0m \u001b[0;34m\u001b[0m\u001b[0m\n\u001b[1;32m   1193\u001b[0m \u001b[0;34m\u001b[0m\u001b[0m\n",
         "\u001b[0;32m~/anaconda3/lib/python3.6/site-packages/sklearn/model_selection/_search.py\u001b[0m in \u001b[0;36mevaluate_candidates\u001b[0;34m(candidate_params)\u001b[0m\n\u001b[1;32m    709\u001b[0m                                \u001b[0;32mfor\u001b[0m \u001b[0mparameters\u001b[0m\u001b[0;34m,\u001b[0m \u001b[0;34m(\u001b[0m\u001b[0mtrain\u001b[0m\u001b[0;34m,\u001b[0m \u001b[0mtest\u001b[0m\u001b[0;34m)\u001b[0m\u001b[0;34m\u001b[0m\u001b[0m\n\u001b[1;32m    710\u001b[0m                                in product(candidate_params,\n\u001b[0;32m--> 711\u001b[0;31m                                           cv.split(X, y, groups)))\n\u001b[0m\u001b[1;32m    712\u001b[0m \u001b[0;34m\u001b[0m\u001b[0m\n\u001b[1;32m    713\u001b[0m                 \u001b[0mall_candidate_params\u001b[0m\u001b[0;34m.\u001b[0m\u001b[0mextend\u001b[0m\u001b[0;34m(\u001b[0m\u001b[0mcandidate_params\u001b[0m\u001b[0;34m)\u001b[0m\u001b[0;34m\u001b[0m\u001b[0m\n",
         "\u001b[0;32m~/anaconda3/lib/python3.6/site-packages/sklearn/externals/joblib/parallel.py\u001b[0m in \u001b[0;36m__call__\u001b[0;34m(self, iterable)\u001b[0m\n\u001b[1;32m    981\u001b[0m             \u001b[0;31m# remaining jobs.\u001b[0m\u001b[0;34m\u001b[0m\u001b[0;34m\u001b[0m\u001b[0m\n\u001b[1;32m    982\u001b[0m             \u001b[0mself\u001b[0m\u001b[0;34m.\u001b[0m\u001b[0m_iterating\u001b[0m \u001b[0;34m=\u001b[0m \u001b[0;32mFalse\u001b[0m\u001b[0;34m\u001b[0m\u001b[0m\n\u001b[0;32m--> 983\u001b[0;31m             \u001b[0;32mif\u001b[0m \u001b[0mself\u001b[0m\u001b[0;34m.\u001b[0m\u001b[0mdispatch_one_batch\u001b[0m\u001b[0;34m(\u001b[0m\u001b[0miterator\u001b[0m\u001b[0;34m)\u001b[0m\u001b[0;34m:\u001b[0m\u001b[0;34m\u001b[0m\u001b[0m\n\u001b[0m\u001b[1;32m    984\u001b[0m                 \u001b[0mself\u001b[0m\u001b[0;34m.\u001b[0m\u001b[0m_iterating\u001b[0m \u001b[0;34m=\u001b[0m \u001b[0mself\u001b[0m\u001b[0;34m.\u001b[0m\u001b[0m_original_iterator\u001b[0m \u001b[0;32mis\u001b[0m \u001b[0;32mnot\u001b[0m \u001b[0;32mNone\u001b[0m\u001b[0;34m\u001b[0m\u001b[0m\n\u001b[1;32m    985\u001b[0m \u001b[0;34m\u001b[0m\u001b[0m\n",
         "\u001b[0;32m~/anaconda3/lib/python3.6/site-packages/sklearn/externals/joblib/parallel.py\u001b[0m in \u001b[0;36mdispatch_one_batch\u001b[0;34m(self, iterator)\u001b[0m\n\u001b[1;32m    823\u001b[0m                 \u001b[0;32mreturn\u001b[0m \u001b[0;32mFalse\u001b[0m\u001b[0;34m\u001b[0m\u001b[0m\n\u001b[1;32m    824\u001b[0m             \u001b[0;32melse\u001b[0m\u001b[0;34m:\u001b[0m\u001b[0;34m\u001b[0m\u001b[0m\n\u001b[0;32m--> 825\u001b[0;31m                 \u001b[0mself\u001b[0m\u001b[0;34m.\u001b[0m\u001b[0m_dispatch\u001b[0m\u001b[0;34m(\u001b[0m\u001b[0mtasks\u001b[0m\u001b[0;34m)\u001b[0m\u001b[0;34m\u001b[0m\u001b[0m\n\u001b[0m\u001b[1;32m    826\u001b[0m                 \u001b[0;32mreturn\u001b[0m \u001b[0;32mTrue\u001b[0m\u001b[0;34m\u001b[0m\u001b[0m\n\u001b[1;32m    827\u001b[0m \u001b[0;34m\u001b[0m\u001b[0m\n",
         "\u001b[0;32m~/anaconda3/lib/python3.6/site-packages/sklearn/externals/joblib/parallel.py\u001b[0m in \u001b[0;36m_dispatch\u001b[0;34m(self, batch)\u001b[0m\n\u001b[1;32m    780\u001b[0m         \u001b[0;32mwith\u001b[0m \u001b[0mself\u001b[0m\u001b[0;34m.\u001b[0m\u001b[0m_lock\u001b[0m\u001b[0;34m:\u001b[0m\u001b[0;34m\u001b[0m\u001b[0m\n\u001b[1;32m    781\u001b[0m             \u001b[0mjob_idx\u001b[0m \u001b[0;34m=\u001b[0m \u001b[0mlen\u001b[0m\u001b[0;34m(\u001b[0m\u001b[0mself\u001b[0m\u001b[0;34m.\u001b[0m\u001b[0m_jobs\u001b[0m\u001b[0;34m)\u001b[0m\u001b[0;34m\u001b[0m\u001b[0m\n\u001b[0;32m--> 782\u001b[0;31m             \u001b[0mjob\u001b[0m \u001b[0;34m=\u001b[0m \u001b[0mself\u001b[0m\u001b[0;34m.\u001b[0m\u001b[0m_backend\u001b[0m\u001b[0;34m.\u001b[0m\u001b[0mapply_async\u001b[0m\u001b[0;34m(\u001b[0m\u001b[0mbatch\u001b[0m\u001b[0;34m,\u001b[0m \u001b[0mcallback\u001b[0m\u001b[0;34m=\u001b[0m\u001b[0mcb\u001b[0m\u001b[0;34m)\u001b[0m\u001b[0;34m\u001b[0m\u001b[0m\n\u001b[0m\u001b[1;32m    783\u001b[0m             \u001b[0;31m# A job can complete so quickly than its callback is\u001b[0m\u001b[0;34m\u001b[0m\u001b[0;34m\u001b[0m\u001b[0m\n\u001b[1;32m    784\u001b[0m             \u001b[0;31m# called before we get here, causing self._jobs to\u001b[0m\u001b[0;34m\u001b[0m\u001b[0;34m\u001b[0m\u001b[0m\n",
         "\u001b[0;32m~/anaconda3/lib/python3.6/site-packages/sklearn/externals/joblib/_parallel_backends.py\u001b[0m in \u001b[0;36mapply_async\u001b[0;34m(self, func, callback)\u001b[0m\n\u001b[1;32m    180\u001b[0m     \u001b[0;32mdef\u001b[0m \u001b[0mapply_async\u001b[0m\u001b[0;34m(\u001b[0m\u001b[0mself\u001b[0m\u001b[0;34m,\u001b[0m \u001b[0mfunc\u001b[0m\u001b[0;34m,\u001b[0m \u001b[0mcallback\u001b[0m\u001b[0;34m=\u001b[0m\u001b[0;32mNone\u001b[0m\u001b[0;34m)\u001b[0m\u001b[0;34m:\u001b[0m\u001b[0;34m\u001b[0m\u001b[0m\n\u001b[1;32m    181\u001b[0m         \u001b[0;34m\"\"\"Schedule a func to be run\"\"\"\u001b[0m\u001b[0;34m\u001b[0m\u001b[0m\n\u001b[0;32m--> 182\u001b[0;31m         \u001b[0mresult\u001b[0m \u001b[0;34m=\u001b[0m \u001b[0mImmediateResult\u001b[0m\u001b[0;34m(\u001b[0m\u001b[0mfunc\u001b[0m\u001b[0;34m)\u001b[0m\u001b[0;34m\u001b[0m\u001b[0m\n\u001b[0m\u001b[1;32m    183\u001b[0m         \u001b[0;32mif\u001b[0m \u001b[0mcallback\u001b[0m\u001b[0;34m:\u001b[0m\u001b[0;34m\u001b[0m\u001b[0m\n\u001b[1;32m    184\u001b[0m             \u001b[0mcallback\u001b[0m\u001b[0;34m(\u001b[0m\u001b[0mresult\u001b[0m\u001b[0;34m)\u001b[0m\u001b[0;34m\u001b[0m\u001b[0m\n",
         "\u001b[0;32m~/anaconda3/lib/python3.6/site-packages/sklearn/externals/joblib/_parallel_backends.py\u001b[0m in \u001b[0;36m__init__\u001b[0;34m(self, batch)\u001b[0m\n\u001b[1;32m    543\u001b[0m         \u001b[0;31m# Don't delay the application, to avoid keeping the input\u001b[0m\u001b[0;34m\u001b[0m\u001b[0;34m\u001b[0m\u001b[0m\n\u001b[1;32m    544\u001b[0m         \u001b[0;31m# arguments in memory\u001b[0m\u001b[0;34m\u001b[0m\u001b[0;34m\u001b[0m\u001b[0m\n\u001b[0;32m--> 545\u001b[0;31m         \u001b[0mself\u001b[0m\u001b[0;34m.\u001b[0m\u001b[0mresults\u001b[0m \u001b[0;34m=\u001b[0m \u001b[0mbatch\u001b[0m\u001b[0;34m(\u001b[0m\u001b[0;34m)\u001b[0m\u001b[0;34m\u001b[0m\u001b[0m\n\u001b[0m\u001b[1;32m    546\u001b[0m \u001b[0;34m\u001b[0m\u001b[0m\n\u001b[1;32m    547\u001b[0m     \u001b[0;32mdef\u001b[0m \u001b[0mget\u001b[0m\u001b[0;34m(\u001b[0m\u001b[0mself\u001b[0m\u001b[0;34m)\u001b[0m\u001b[0;34m:\u001b[0m\u001b[0;34m\u001b[0m\u001b[0m\n",
         "\u001b[0;32m~/anaconda3/lib/python3.6/site-packages/sklearn/externals/joblib/parallel.py\u001b[0m in \u001b[0;36m__call__\u001b[0;34m(self)\u001b[0m\n\u001b[1;32m    259\u001b[0m         \u001b[0;32mwith\u001b[0m \u001b[0mparallel_backend\u001b[0m\u001b[0;34m(\u001b[0m\u001b[0mself\u001b[0m\u001b[0;34m.\u001b[0m\u001b[0m_backend\u001b[0m\u001b[0;34m)\u001b[0m\u001b[0;34m:\u001b[0m\u001b[0;34m\u001b[0m\u001b[0m\n\u001b[1;32m    260\u001b[0m             return [func(*args, **kwargs)\n\u001b[0;32m--> 261\u001b[0;31m                     for func, args, kwargs in self.items]\n\u001b[0m\u001b[1;32m    262\u001b[0m \u001b[0;34m\u001b[0m\u001b[0m\n\u001b[1;32m    263\u001b[0m     \u001b[0;32mdef\u001b[0m \u001b[0m__len__\u001b[0m\u001b[0;34m(\u001b[0m\u001b[0mself\u001b[0m\u001b[0;34m)\u001b[0m\u001b[0;34m:\u001b[0m\u001b[0;34m\u001b[0m\u001b[0m\n",
         "\u001b[0;32m~/anaconda3/lib/python3.6/site-packages/sklearn/externals/joblib/parallel.py\u001b[0m in \u001b[0;36m<listcomp>\u001b[0;34m(.0)\u001b[0m\n\u001b[1;32m    259\u001b[0m         \u001b[0;32mwith\u001b[0m \u001b[0mparallel_backend\u001b[0m\u001b[0;34m(\u001b[0m\u001b[0mself\u001b[0m\u001b[0;34m.\u001b[0m\u001b[0m_backend\u001b[0m\u001b[0;34m)\u001b[0m\u001b[0;34m:\u001b[0m\u001b[0;34m\u001b[0m\u001b[0m\n\u001b[1;32m    260\u001b[0m             return [func(*args, **kwargs)\n\u001b[0;32m--> 261\u001b[0;31m                     for func, args, kwargs in self.items]\n\u001b[0m\u001b[1;32m    262\u001b[0m \u001b[0;34m\u001b[0m\u001b[0m\n\u001b[1;32m    263\u001b[0m     \u001b[0;32mdef\u001b[0m \u001b[0m__len__\u001b[0m\u001b[0;34m(\u001b[0m\u001b[0mself\u001b[0m\u001b[0;34m)\u001b[0m\u001b[0;34m:\u001b[0m\u001b[0;34m\u001b[0m\u001b[0m\n",
         "\u001b[0;32m~/anaconda3/lib/python3.6/site-packages/sklearn/model_selection/_validation.py\u001b[0m in \u001b[0;36m_fit_and_score\u001b[0;34m(estimator, X, y, scorer, train, test, verbose, parameters, fit_params, return_train_score, return_parameters, return_n_test_samples, return_times, return_estimator, error_score)\u001b[0m\n\u001b[1;32m    570\u001b[0m         \u001b[0;32mif\u001b[0m \u001b[0mreturn_train_score\u001b[0m\u001b[0;34m:\u001b[0m\u001b[0;34m\u001b[0m\u001b[0m\n\u001b[1;32m    571\u001b[0m             train_scores = _score(estimator, X_train, y_train, scorer,\n\u001b[0;32m--> 572\u001b[0;31m                                   is_multimetric)\n\u001b[0m\u001b[1;32m    573\u001b[0m \u001b[0;34m\u001b[0m\u001b[0m\n\u001b[1;32m    574\u001b[0m     \u001b[0;32mif\u001b[0m \u001b[0mverbose\u001b[0m \u001b[0;34m>\u001b[0m \u001b[0;36m2\u001b[0m\u001b[0;34m:\u001b[0m\u001b[0;34m\u001b[0m\u001b[0m\n",
         "\u001b[0;32m~/anaconda3/lib/python3.6/site-packages/sklearn/model_selection/_validation.py\u001b[0m in \u001b[0;36m_score\u001b[0;34m(estimator, X_test, y_test, scorer, is_multimetric)\u001b[0m\n\u001b[1;32m    603\u001b[0m     \"\"\"\n\u001b[1;32m    604\u001b[0m     \u001b[0;32mif\u001b[0m \u001b[0mis_multimetric\u001b[0m\u001b[0;34m:\u001b[0m\u001b[0;34m\u001b[0m\u001b[0m\n\u001b[0;32m--> 605\u001b[0;31m         \u001b[0;32mreturn\u001b[0m \u001b[0m_multimetric_score\u001b[0m\u001b[0;34m(\u001b[0m\u001b[0mestimator\u001b[0m\u001b[0;34m,\u001b[0m \u001b[0mX_test\u001b[0m\u001b[0;34m,\u001b[0m \u001b[0my_test\u001b[0m\u001b[0;34m,\u001b[0m \u001b[0mscorer\u001b[0m\u001b[0;34m)\u001b[0m\u001b[0;34m\u001b[0m\u001b[0m\n\u001b[0m\u001b[1;32m    606\u001b[0m     \u001b[0;32melse\u001b[0m\u001b[0;34m:\u001b[0m\u001b[0;34m\u001b[0m\u001b[0m\n\u001b[1;32m    607\u001b[0m         \u001b[0;32mif\u001b[0m \u001b[0my_test\u001b[0m \u001b[0;32mis\u001b[0m \u001b[0;32mNone\u001b[0m\u001b[0;34m:\u001b[0m\u001b[0;34m\u001b[0m\u001b[0m\n",
         "\u001b[0;32m~/anaconda3/lib/python3.6/site-packages/sklearn/model_selection/_validation.py\u001b[0m in \u001b[0;36m_multimetric_score\u001b[0;34m(estimator, X_test, y_test, scorers)\u001b[0m\n\u001b[1;32m    633\u001b[0m             \u001b[0mscore\u001b[0m \u001b[0;34m=\u001b[0m \u001b[0mscorer\u001b[0m\u001b[0;34m(\u001b[0m\u001b[0mestimator\u001b[0m\u001b[0;34m,\u001b[0m \u001b[0mX_test\u001b[0m\u001b[0;34m)\u001b[0m\u001b[0;34m\u001b[0m\u001b[0m\n\u001b[1;32m    634\u001b[0m         \u001b[0;32melse\u001b[0m\u001b[0;34m:\u001b[0m\u001b[0;34m\u001b[0m\u001b[0m\n\u001b[0;32m--> 635\u001b[0;31m             \u001b[0mscore\u001b[0m \u001b[0;34m=\u001b[0m \u001b[0mscorer\u001b[0m\u001b[0;34m(\u001b[0m\u001b[0mestimator\u001b[0m\u001b[0;34m,\u001b[0m \u001b[0mX_test\u001b[0m\u001b[0;34m,\u001b[0m \u001b[0my_test\u001b[0m\u001b[0;34m)\u001b[0m\u001b[0;34m\u001b[0m\u001b[0m\n\u001b[0m\u001b[1;32m    636\u001b[0m \u001b[0;34m\u001b[0m\u001b[0m\n\u001b[1;32m    637\u001b[0m         \u001b[0;32mif\u001b[0m \u001b[0mhasattr\u001b[0m\u001b[0;34m(\u001b[0m\u001b[0mscore\u001b[0m\u001b[0;34m,\u001b[0m \u001b[0;34m'item'\u001b[0m\u001b[0;34m)\u001b[0m\u001b[0;34m:\u001b[0m\u001b[0;34m\u001b[0m\u001b[0m\n",
         "\u001b[0;32m~/anaconda3/lib/python3.6/site-packages/sklearn/metrics/scorer.py\u001b[0m in \u001b[0;36m_passthrough_scorer\u001b[0;34m(estimator, *args, **kwargs)\u001b[0m\n\u001b[1;32m    226\u001b[0m \u001b[0;32mdef\u001b[0m \u001b[0m_passthrough_scorer\u001b[0m\u001b[0;34m(\u001b[0m\u001b[0mestimator\u001b[0m\u001b[0;34m,\u001b[0m \u001b[0;34m*\u001b[0m\u001b[0margs\u001b[0m\u001b[0;34m,\u001b[0m \u001b[0;34m**\u001b[0m\u001b[0mkwargs\u001b[0m\u001b[0;34m)\u001b[0m\u001b[0;34m:\u001b[0m\u001b[0;34m\u001b[0m\u001b[0m\n\u001b[1;32m    227\u001b[0m     \u001b[0;34m\"\"\"Function that wraps estimator.score\"\"\"\u001b[0m\u001b[0;34m\u001b[0m\u001b[0m\n\u001b[0;32m--> 228\u001b[0;31m     \u001b[0;32mreturn\u001b[0m \u001b[0mestimator\u001b[0m\u001b[0;34m.\u001b[0m\u001b[0mscore\u001b[0m\u001b[0;34m(\u001b[0m\u001b[0;34m*\u001b[0m\u001b[0margs\u001b[0m\u001b[0;34m,\u001b[0m \u001b[0;34m**\u001b[0m\u001b[0mkwargs\u001b[0m\u001b[0;34m)\u001b[0m\u001b[0;34m\u001b[0m\u001b[0m\n\u001b[0m\u001b[1;32m    229\u001b[0m \u001b[0;34m\u001b[0m\u001b[0m\n\u001b[1;32m    230\u001b[0m \u001b[0;34m\u001b[0m\u001b[0m\n",
         "\u001b[0;32m~/anaconda3/lib/python3.6/site-packages/sklearn/base.py\u001b[0m in \u001b[0;36mscore\u001b[0;34m(self, X, y, sample_weight)\u001b[0m\n\u001b[1;32m    286\u001b[0m         \"\"\"\n\u001b[1;32m    287\u001b[0m         \u001b[0;32mfrom\u001b[0m \u001b[0;34m.\u001b[0m\u001b[0mmetrics\u001b[0m \u001b[0;32mimport\u001b[0m \u001b[0maccuracy_score\u001b[0m\u001b[0;34m\u001b[0m\u001b[0m\n\u001b[0;32m--> 288\u001b[0;31m         \u001b[0;32mreturn\u001b[0m \u001b[0maccuracy_score\u001b[0m\u001b[0;34m(\u001b[0m\u001b[0my\u001b[0m\u001b[0;34m,\u001b[0m \u001b[0mself\u001b[0m\u001b[0;34m.\u001b[0m\u001b[0mpredict\u001b[0m\u001b[0;34m(\u001b[0m\u001b[0mX\u001b[0m\u001b[0;34m)\u001b[0m\u001b[0;34m,\u001b[0m \u001b[0msample_weight\u001b[0m\u001b[0;34m=\u001b[0m\u001b[0msample_weight\u001b[0m\u001b[0;34m)\u001b[0m\u001b[0;34m\u001b[0m\u001b[0m\n\u001b[0m\u001b[1;32m    289\u001b[0m \u001b[0;34m\u001b[0m\u001b[0m\n\u001b[1;32m    290\u001b[0m \u001b[0;34m\u001b[0m\u001b[0m\n",
         "\u001b[0;32m<ipython-input-211-ac3a3a662633>\u001b[0m in \u001b[0;36mpredict\u001b[0;34m(self, X)\u001b[0m\n\u001b[1;32m     28\u001b[0m \u001b[0;34m\u001b[0m\u001b[0m\n\u001b[1;32m     29\u001b[0m     \u001b[0;32mdef\u001b[0m \u001b[0mpredict\u001b[0m\u001b[0;34m(\u001b[0m\u001b[0mself\u001b[0m\u001b[0;34m,\u001b[0m \u001b[0mX\u001b[0m\u001b[0;34m)\u001b[0m\u001b[0;34m:\u001b[0m\u001b[0;34m\u001b[0m\u001b[0m\n\u001b[0;32m---> 30\u001b[0;31m         \u001b[0;32mreturn\u001b[0m \u001b[0;34m(\u001b[0m\u001b[0mself\u001b[0m\u001b[0;34m.\u001b[0m\u001b[0mpredict_proba\u001b[0m\u001b[0;34m(\u001b[0m\u001b[0mX\u001b[0m\u001b[0;34m)\u001b[0m \u001b[0;34m>=\u001b[0m \u001b[0mself\u001b[0m\u001b[0;34m.\u001b[0m\u001b[0mcutoff\u001b[0m\u001b[0;34m)\u001b[0m\u001b[0;34m.\u001b[0m\u001b[0mastype\u001b[0m\u001b[0;34m(\u001b[0m\u001b[0mint\u001b[0m\u001b[0;34m)\u001b[0m\u001b[0;34m\u001b[0m\u001b[0m\n\u001b[0m",
         "\u001b[0;32m<ipython-input-211-ac3a3a662633>\u001b[0m in \u001b[0;36mpredict_proba\u001b[0;34m(self, X)\u001b[0m\n\u001b[1;32m     24\u001b[0m                    suffixes=['_reviewer', '_item'])\n\u001b[1;32m     25\u001b[0m             \u001b[0;34m[\u001b[0m\u001b[0;34m[\u001b[0m\u001b[0;34m'categories_reviewer'\u001b[0m\u001b[0;34m,\u001b[0m \u001b[0;34m'categories_item'\u001b[0m\u001b[0;34m]\u001b[0m\u001b[0;34m]\u001b[0m\u001b[0;34m\u001b[0m\u001b[0m\n\u001b[0;32m---> 26\u001b[0;31m             \u001b[0;34m.\u001b[0m\u001b[0mapply\u001b[0m\u001b[0;34m(\u001b[0m\u001b[0mmax_pairwise_jaccard\u001b[0m\u001b[0;34m,\u001b[0m \u001b[0maxis\u001b[0m\u001b[0;34m=\u001b[0m\u001b[0;36m1\u001b[0m\u001b[0;34m)\u001b[0m\u001b[0;34m\u001b[0m\u001b[0m\n\u001b[0m\u001b[1;32m     27\u001b[0m         )\n\u001b[1;32m     28\u001b[0m \u001b[0;34m\u001b[0m\u001b[0m\n",
         "\u001b[0;32m~/anaconda3/lib/python3.6/site-packages/pandas/core/frame.py\u001b[0m in \u001b[0;36mapply\u001b[0;34m(self, func, axis, broadcast, raw, reduce, result_type, args, **kwds)\u001b[0m\n\u001b[1;32m   6012\u001b[0m                          \u001b[0margs\u001b[0m\u001b[0;34m=\u001b[0m\u001b[0margs\u001b[0m\u001b[0;34m,\u001b[0m\u001b[0;34m\u001b[0m\u001b[0m\n\u001b[1;32m   6013\u001b[0m                          kwds=kwds)\n\u001b[0;32m-> 6014\u001b[0;31m         \u001b[0;32mreturn\u001b[0m \u001b[0mop\u001b[0m\u001b[0;34m.\u001b[0m\u001b[0mget_result\u001b[0m\u001b[0;34m(\u001b[0m\u001b[0;34m)\u001b[0m\u001b[0;34m\u001b[0m\u001b[0m\n\u001b[0m\u001b[1;32m   6015\u001b[0m \u001b[0;34m\u001b[0m\u001b[0m\n\u001b[1;32m   6016\u001b[0m     \u001b[0;32mdef\u001b[0m \u001b[0mapplymap\u001b[0m\u001b[0;34m(\u001b[0m\u001b[0mself\u001b[0m\u001b[0;34m,\u001b[0m \u001b[0mfunc\u001b[0m\u001b[0;34m)\u001b[0m\u001b[0;34m:\u001b[0m\u001b[0;34m\u001b[0m\u001b[0m\n",
         "\u001b[0;32m~/anaconda3/lib/python3.6/site-packages/pandas/core/apply.py\u001b[0m in \u001b[0;36mget_result\u001b[0;34m(self)\u001b[0m\n\u001b[1;32m    140\u001b[0m             \u001b[0;32mreturn\u001b[0m \u001b[0mself\u001b[0m\u001b[0;34m.\u001b[0m\u001b[0mapply_raw\u001b[0m\u001b[0;34m(\u001b[0m\u001b[0;34m)\u001b[0m\u001b[0;34m\u001b[0m\u001b[0m\n\u001b[1;32m    141\u001b[0m \u001b[0;34m\u001b[0m\u001b[0m\n\u001b[0;32m--> 142\u001b[0;31m         \u001b[0;32mreturn\u001b[0m \u001b[0mself\u001b[0m\u001b[0;34m.\u001b[0m\u001b[0mapply_standard\u001b[0m\u001b[0;34m(\u001b[0m\u001b[0;34m)\u001b[0m\u001b[0;34m\u001b[0m\u001b[0m\n\u001b[0m\u001b[1;32m    143\u001b[0m \u001b[0;34m\u001b[0m\u001b[0m\n\u001b[1;32m    144\u001b[0m     \u001b[0;32mdef\u001b[0m \u001b[0mapply_empty_result\u001b[0m\u001b[0;34m(\u001b[0m\u001b[0mself\u001b[0m\u001b[0;34m)\u001b[0m\u001b[0;34m:\u001b[0m\u001b[0;34m\u001b[0m\u001b[0m\n",
         "\u001b[0;32m~/anaconda3/lib/python3.6/site-packages/pandas/core/apply.py\u001b[0m in \u001b[0;36mapply_standard\u001b[0;34m(self)\u001b[0m\n\u001b[1;32m    240\u001b[0m                                           \u001b[0maxis\u001b[0m\u001b[0;34m=\u001b[0m\u001b[0mself\u001b[0m\u001b[0;34m.\u001b[0m\u001b[0maxis\u001b[0m\u001b[0;34m,\u001b[0m\u001b[0;34m\u001b[0m\u001b[0m\n\u001b[1;32m    241\u001b[0m                                           \u001b[0mdummy\u001b[0m\u001b[0;34m=\u001b[0m\u001b[0mdummy\u001b[0m\u001b[0;34m,\u001b[0m\u001b[0;34m\u001b[0m\u001b[0m\n\u001b[0;32m--> 242\u001b[0;31m                                           labels=labels)\n\u001b[0m\u001b[1;32m    243\u001b[0m                 \u001b[0;32mreturn\u001b[0m \u001b[0mself\u001b[0m\u001b[0;34m.\u001b[0m\u001b[0mobj\u001b[0m\u001b[0;34m.\u001b[0m\u001b[0m_constructor_sliced\u001b[0m\u001b[0;34m(\u001b[0m\u001b[0mresult\u001b[0m\u001b[0;34m,\u001b[0m \u001b[0mindex\u001b[0m\u001b[0;34m=\u001b[0m\u001b[0mlabels\u001b[0m\u001b[0;34m)\u001b[0m\u001b[0;34m\u001b[0m\u001b[0m\n\u001b[1;32m    244\u001b[0m             \u001b[0;32mexcept\u001b[0m \u001b[0mException\u001b[0m\u001b[0;34m:\u001b[0m\u001b[0;34m\u001b[0m\u001b[0m\n",
         "\u001b[0;32mpandas/_libs/reduction.pyx\u001b[0m in \u001b[0;36mpandas._libs.reduction.reduce\u001b[0;34m()\u001b[0m\n",
         "\u001b[0;32mpandas/_libs/reduction.pyx\u001b[0m in \u001b[0;36mpandas._libs.reduction.Reducer.get_result\u001b[0;34m()\u001b[0m\n",
         "\u001b[0;32m<ipython-input-192-a04c14ae64b1>\u001b[0m in \u001b[0;36mmax_pairwise_jaccard\u001b[0;34m(sets_pair)\u001b[0m\n\u001b[1;32m     10\u001b[0m         \u001b[0;32mreturn\u001b[0m \u001b[0;36m0\u001b[0m\u001b[0;34m\u001b[0m\u001b[0m\n\u001b[1;32m     11\u001b[0m     \u001b[0mpairs\u001b[0m \u001b[0;34m=\u001b[0m \u001b[0mproduct\u001b[0m\u001b[0;34m(\u001b[0m\u001b[0msets1\u001b[0m\u001b[0;34m,\u001b[0m \u001b[0msets2\u001b[0m\u001b[0;34m)\u001b[0m\u001b[0;34m\u001b[0m\u001b[0m\n\u001b[0;32m---> 12\u001b[0;31m     \u001b[0;32mreturn\u001b[0m \u001b[0mmax\u001b[0m\u001b[0;34m(\u001b[0m\u001b[0mjaccard\u001b[0m\u001b[0;34m(\u001b[0m\u001b[0ms1\u001b[0m\u001b[0;34m,\u001b[0m \u001b[0ms2\u001b[0m\u001b[0;34m)\u001b[0m \u001b[0;32mfor\u001b[0m \u001b[0ms1\u001b[0m\u001b[0;34m,\u001b[0m \u001b[0ms2\u001b[0m \u001b[0;32min\u001b[0m \u001b[0mpairs\u001b[0m\u001b[0;34m)\u001b[0m\u001b[0;34m\u001b[0m\u001b[0m\n\u001b[0m\u001b[1;32m     13\u001b[0m \u001b[0;34m\u001b[0m\u001b[0m\n\u001b[1;32m     14\u001b[0m \u001b[0mmax_pairwise_jaccard\u001b[0m\u001b[0;34m(\u001b[0m\u001b[0;34m(\u001b[0m\u001b[0muser_map\u001b[0m\u001b[0;34m[\u001b[0m\u001b[0;34m'U490934656'\u001b[0m\u001b[0;34m]\u001b[0m\u001b[0;34m,\u001b[0m \u001b[0mitem_map\u001b[0m\u001b[0;34m[\u001b[0m\u001b[0;34m'I402344648'\u001b[0m\u001b[0;34m]\u001b[0m\u001b[0;34m)\u001b[0m\u001b[0;34m)\u001b[0m\u001b[0;34m\u001b[0m\u001b[0m\n",
         "\u001b[0;32m<ipython-input-192-a04c14ae64b1>\u001b[0m in \u001b[0;36m<genexpr>\u001b[0;34m(.0)\u001b[0m\n\u001b[1;32m     10\u001b[0m         \u001b[0;32mreturn\u001b[0m \u001b[0;36m0\u001b[0m\u001b[0;34m\u001b[0m\u001b[0m\n\u001b[1;32m     11\u001b[0m     \u001b[0mpairs\u001b[0m \u001b[0;34m=\u001b[0m \u001b[0mproduct\u001b[0m\u001b[0;34m(\u001b[0m\u001b[0msets1\u001b[0m\u001b[0;34m,\u001b[0m \u001b[0msets2\u001b[0m\u001b[0;34m)\u001b[0m\u001b[0;34m\u001b[0m\u001b[0m\n\u001b[0;32m---> 12\u001b[0;31m     \u001b[0;32mreturn\u001b[0m \u001b[0mmax\u001b[0m\u001b[0;34m(\u001b[0m\u001b[0mjaccard\u001b[0m\u001b[0;34m(\u001b[0m\u001b[0ms1\u001b[0m\u001b[0;34m,\u001b[0m \u001b[0ms2\u001b[0m\u001b[0;34m)\u001b[0m \u001b[0;32mfor\u001b[0m \u001b[0ms1\u001b[0m\u001b[0;34m,\u001b[0m \u001b[0ms2\u001b[0m \u001b[0;32min\u001b[0m \u001b[0mpairs\u001b[0m\u001b[0;34m)\u001b[0m\u001b[0;34m\u001b[0m\u001b[0m\n\u001b[0m\u001b[1;32m     13\u001b[0m \u001b[0;34m\u001b[0m\u001b[0m\n\u001b[1;32m     14\u001b[0m \u001b[0mmax_pairwise_jaccard\u001b[0m\u001b[0;34m(\u001b[0m\u001b[0;34m(\u001b[0m\u001b[0muser_map\u001b[0m\u001b[0;34m[\u001b[0m\u001b[0;34m'U490934656'\u001b[0m\u001b[0;34m]\u001b[0m\u001b[0;34m,\u001b[0m \u001b[0mitem_map\u001b[0m\u001b[0;34m[\u001b[0m\u001b[0;34m'I402344648'\u001b[0m\u001b[0;34m]\u001b[0m\u001b[0;34m)\u001b[0m\u001b[0;34m)\u001b[0m\u001b[0;34m\u001b[0m\u001b[0m\n",
         "\u001b[0;32m<ipython-input-192-a04c14ae64b1>\u001b[0m in \u001b[0;36mjaccard\u001b[0;34m(s1, s2)\u001b[0m\n\u001b[1;32m      3\u001b[0m \u001b[0;32mdef\u001b[0m \u001b[0mjaccard\u001b[0m\u001b[0;34m(\u001b[0m\u001b[0ms1\u001b[0m\u001b[0;34m,\u001b[0m \u001b[0ms2\u001b[0m\u001b[0;34m)\u001b[0m\u001b[0;34m:\u001b[0m\u001b[0;34m\u001b[0m\u001b[0m\n\u001b[1;32m      4\u001b[0m     \u001b[0ms1\u001b[0m\u001b[0;34m,\u001b[0m \u001b[0ms2\u001b[0m \u001b[0;34m=\u001b[0m \u001b[0mset\u001b[0m\u001b[0;34m(\u001b[0m\u001b[0ms1\u001b[0m\u001b[0;34m)\u001b[0m\u001b[0;34m,\u001b[0m \u001b[0mset\u001b[0m\u001b[0;34m(\u001b[0m\u001b[0ms2\u001b[0m\u001b[0;34m)\u001b[0m\u001b[0;34m\u001b[0m\u001b[0m\n\u001b[0;32m----> 5\u001b[0;31m     \u001b[0;32mreturn\u001b[0m \u001b[0mlen\u001b[0m\u001b[0;34m(\u001b[0m\u001b[0ms1\u001b[0m \u001b[0;34m&\u001b[0m \u001b[0ms2\u001b[0m\u001b[0;34m)\u001b[0m \u001b[0;34m/\u001b[0m \u001b[0mlen\u001b[0m\u001b[0;34m(\u001b[0m\u001b[0ms1\u001b[0m \u001b[0;34m|\u001b[0m \u001b[0ms2\u001b[0m\u001b[0;34m)\u001b[0m\u001b[0;34m\u001b[0m\u001b[0m\n\u001b[0m\u001b[1;32m      6\u001b[0m \u001b[0;34m\u001b[0m\u001b[0m\n\u001b[1;32m      7\u001b[0m \u001b[0;32mdef\u001b[0m \u001b[0mmax_pairwise_jaccard\u001b[0m\u001b[0;34m(\u001b[0m\u001b[0msets_pair\u001b[0m\u001b[0;34m)\u001b[0m\u001b[0;34m:\u001b[0m\u001b[0;34m\u001b[0m\u001b[0m\n",
         "\u001b[0;31mKeyboardInterrupt\u001b[0m: "
        ]
       },
       "metadata": {},
       "msg_type": "error",
       "version": "5.3"
      },
      "timestamp": "2018-11-16T23:22:36.349Z"
     },
     {
      "code": "%%time\n\nfrom sklearn.model_selection import GridSearchCV\n\ngrid = {\n    'cutoff': [0.6, 0.7, 0.8, 0.9, 1.0],\n}\n\nclf = GridSearchCV(CategorySimRec(), param_grid=grid)\nclf.fit(train, train['reviewed'])\nprint(clf)",
      "response": {
       "content": {
        "ename": "KeyboardInterrupt",
        "evalue": "",
        "traceback": [
         "\u001b[0;31m---------------------------------------------------------------------------\u001b[0m",
         "\u001b[0;31mDataError\u001b[0m                                 Traceback (most recent call last)",
         "\u001b[0;32m~/anaconda3/lib/python3.6/site-packages/pandas/core/groupby/groupby.py\u001b[0m in \u001b[0;36mf\u001b[0;34m(self, **kwargs)\u001b[0m\n\u001b[1;32m   1421\u001b[0m                     return self._cython_agg_general(\n\u001b[0;32m-> 1422\u001b[0;31m                         alias, alt=npfunc, **kwargs)\n\u001b[0m\u001b[1;32m   1423\u001b[0m                 \u001b[0;32mexcept\u001b[0m \u001b[0mAssertionError\u001b[0m \u001b[0;32mas\u001b[0m \u001b[0me\u001b[0m\u001b[0;34m:\u001b[0m\u001b[0;34m\u001b[0m\u001b[0m\n",
         "\u001b[0;32m~/anaconda3/lib/python3.6/site-packages/pandas/core/groupby/groupby.py\u001b[0m in \u001b[0;36m_cython_agg_general\u001b[0;34m(self, how, alt, numeric_only, min_count)\u001b[0m\n\u001b[1;32m   1055\u001b[0m         \u001b[0;32mif\u001b[0m \u001b[0mlen\u001b[0m\u001b[0;34m(\u001b[0m\u001b[0moutput\u001b[0m\u001b[0;34m)\u001b[0m \u001b[0;34m==\u001b[0m \u001b[0;36m0\u001b[0m\u001b[0;34m:\u001b[0m\u001b[0;34m\u001b[0m\u001b[0m\n\u001b[0;32m-> 1056\u001b[0;31m             \u001b[0;32mraise\u001b[0m \u001b[0mDataError\u001b[0m\u001b[0;34m(\u001b[0m\u001b[0;34m'No numeric types to aggregate'\u001b[0m\u001b[0;34m)\u001b[0m\u001b[0;34m\u001b[0m\u001b[0m\n\u001b[0m\u001b[1;32m   1057\u001b[0m \u001b[0;34m\u001b[0m\u001b[0m\n",
         "\u001b[0;31mDataError\u001b[0m: No numeric types to aggregate",
         "\nDuring handling of the above exception, another exception occurred:\n",
         "\u001b[0;31mKeyboardInterrupt\u001b[0m                         Traceback (most recent call last)",
         "\u001b[0;32m<timed exec>\u001b[0m in \u001b[0;36m<module>\u001b[0;34m\u001b[0m\n",
         "\u001b[0;32m~/anaconda3/lib/python3.6/site-packages/sklearn/model_selection/_search.py\u001b[0m in \u001b[0;36mfit\u001b[0;34m(self, X, y, groups, **fit_params)\u001b[0m\n\u001b[1;32m    720\u001b[0m                 \u001b[0;32mreturn\u001b[0m \u001b[0mresults_container\u001b[0m\u001b[0;34m[\u001b[0m\u001b[0;36m0\u001b[0m\u001b[0;34m]\u001b[0m\u001b[0;34m\u001b[0m\u001b[0m\n\u001b[1;32m    721\u001b[0m \u001b[0;34m\u001b[0m\u001b[0m\n\u001b[0;32m--> 722\u001b[0;31m             \u001b[0mself\u001b[0m\u001b[0;34m.\u001b[0m\u001b[0m_run_search\u001b[0m\u001b[0;34m(\u001b[0m\u001b[0mevaluate_candidates\u001b[0m\u001b[0;34m)\u001b[0m\u001b[0;34m\u001b[0m\u001b[0m\n\u001b[0m\u001b[1;32m    723\u001b[0m \u001b[0;34m\u001b[0m\u001b[0m\n\u001b[1;32m    724\u001b[0m         \u001b[0mresults\u001b[0m \u001b[0;34m=\u001b[0m \u001b[0mresults_container\u001b[0m\u001b[0;34m[\u001b[0m\u001b[0;36m0\u001b[0m\u001b[0;34m]\u001b[0m\u001b[0;34m\u001b[0m\u001b[0m\n",
         "\u001b[0;32m~/anaconda3/lib/python3.6/site-packages/sklearn/model_selection/_search.py\u001b[0m in \u001b[0;36m_run_search\u001b[0;34m(self, evaluate_candidates)\u001b[0m\n\u001b[1;32m   1189\u001b[0m     \u001b[0;32mdef\u001b[0m \u001b[0m_run_search\u001b[0m\u001b[0;34m(\u001b[0m\u001b[0mself\u001b[0m\u001b[0;34m,\u001b[0m \u001b[0mevaluate_candidates\u001b[0m\u001b[0;34m)\u001b[0m\u001b[0;34m:\u001b[0m\u001b[0;34m\u001b[0m\u001b[0m\n\u001b[1;32m   1190\u001b[0m         \u001b[0;34m\"\"\"Search all candidates in param_grid\"\"\"\u001b[0m\u001b[0;34m\u001b[0m\u001b[0m\n\u001b[0;32m-> 1191\u001b[0;31m         \u001b[0mevaluate_candidates\u001b[0m\u001b[0;34m(\u001b[0m\u001b[0mParameterGrid\u001b[0m\u001b[0;34m(\u001b[0m\u001b[0mself\u001b[0m\u001b[0;34m.\u001b[0m\u001b[0mparam_grid\u001b[0m\u001b[0;34m)\u001b[0m\u001b[0;34m)\u001b[0m\u001b[0;34m\u001b[0m\u001b[0m\n\u001b[0m\u001b[1;32m   1192\u001b[0m \u001b[0;34m\u001b[0m\u001b[0m\n\u001b[1;32m   1193\u001b[0m \u001b[0;34m\u001b[0m\u001b[0m\n",
         "\u001b[0;32m~/anaconda3/lib/python3.6/site-packages/sklearn/model_selection/_search.py\u001b[0m in \u001b[0;36mevaluate_candidates\u001b[0;34m(candidate_params)\u001b[0m\n\u001b[1;32m    709\u001b[0m                                \u001b[0;32mfor\u001b[0m \u001b[0mparameters\u001b[0m\u001b[0;34m,\u001b[0m \u001b[0;34m(\u001b[0m\u001b[0mtrain\u001b[0m\u001b[0;34m,\u001b[0m \u001b[0mtest\u001b[0m\u001b[0;34m)\u001b[0m\u001b[0;34m\u001b[0m\u001b[0m\n\u001b[1;32m    710\u001b[0m                                in product(candidate_params,\n\u001b[0;32m--> 711\u001b[0;31m                                           cv.split(X, y, groups)))\n\u001b[0m\u001b[1;32m    712\u001b[0m \u001b[0;34m\u001b[0m\u001b[0m\n\u001b[1;32m    713\u001b[0m                 \u001b[0mall_candidate_params\u001b[0m\u001b[0;34m.\u001b[0m\u001b[0mextend\u001b[0m\u001b[0;34m(\u001b[0m\u001b[0mcandidate_params\u001b[0m\u001b[0;34m)\u001b[0m\u001b[0;34m\u001b[0m\u001b[0m\n",
         "\u001b[0;32m~/anaconda3/lib/python3.6/site-packages/sklearn/externals/joblib/parallel.py\u001b[0m in \u001b[0;36m__call__\u001b[0;34m(self, iterable)\u001b[0m\n\u001b[1;32m    984\u001b[0m                 \u001b[0mself\u001b[0m\u001b[0;34m.\u001b[0m\u001b[0m_iterating\u001b[0m \u001b[0;34m=\u001b[0m \u001b[0mself\u001b[0m\u001b[0;34m.\u001b[0m\u001b[0m_original_iterator\u001b[0m \u001b[0;32mis\u001b[0m \u001b[0;32mnot\u001b[0m \u001b[0;32mNone\u001b[0m\u001b[0;34m\u001b[0m\u001b[0m\n\u001b[1;32m    985\u001b[0m \u001b[0;34m\u001b[0m\u001b[0m\n\u001b[0;32m--> 986\u001b[0;31m             \u001b[0;32mwhile\u001b[0m \u001b[0mself\u001b[0m\u001b[0;34m.\u001b[0m\u001b[0mdispatch_one_batch\u001b[0m\u001b[0;34m(\u001b[0m\u001b[0miterator\u001b[0m\u001b[0;34m)\u001b[0m\u001b[0;34m:\u001b[0m\u001b[0;34m\u001b[0m\u001b[0m\n\u001b[0m\u001b[1;32m    987\u001b[0m                 \u001b[0;32mpass\u001b[0m\u001b[0;34m\u001b[0m\u001b[0m\n\u001b[1;32m    988\u001b[0m \u001b[0;34m\u001b[0m\u001b[0m\n",
         "\u001b[0;32m~/anaconda3/lib/python3.6/site-packages/sklearn/externals/joblib/parallel.py\u001b[0m in \u001b[0;36mdispatch_one_batch\u001b[0;34m(self, iterator)\u001b[0m\n\u001b[1;32m    823\u001b[0m                 \u001b[0;32mreturn\u001b[0m \u001b[0;32mFalse\u001b[0m\u001b[0;34m\u001b[0m\u001b[0m\n\u001b[1;32m    824\u001b[0m             \u001b[0;32melse\u001b[0m\u001b[0;34m:\u001b[0m\u001b[0;34m\u001b[0m\u001b[0m\n\u001b[0;32m--> 825\u001b[0;31m                 \u001b[0mself\u001b[0m\u001b[0;34m.\u001b[0m\u001b[0m_dispatch\u001b[0m\u001b[0;34m(\u001b[0m\u001b[0mtasks\u001b[0m\u001b[0;34m)\u001b[0m\u001b[0;34m\u001b[0m\u001b[0m\n\u001b[0m\u001b[1;32m    826\u001b[0m                 \u001b[0;32mreturn\u001b[0m \u001b[0;32mTrue\u001b[0m\u001b[0;34m\u001b[0m\u001b[0m\n\u001b[1;32m    827\u001b[0m \u001b[0;34m\u001b[0m\u001b[0m\n",
         "\u001b[0;32m~/anaconda3/lib/python3.6/site-packages/sklearn/externals/joblib/parallel.py\u001b[0m in \u001b[0;36m_dispatch\u001b[0;34m(self, batch)\u001b[0m\n\u001b[1;32m    780\u001b[0m         \u001b[0;32mwith\u001b[0m \u001b[0mself\u001b[0m\u001b[0;34m.\u001b[0m\u001b[0m_lock\u001b[0m\u001b[0;34m:\u001b[0m\u001b[0;34m\u001b[0m\u001b[0m\n\u001b[1;32m    781\u001b[0m             \u001b[0mjob_idx\u001b[0m \u001b[0;34m=\u001b[0m \u001b[0mlen\u001b[0m\u001b[0;34m(\u001b[0m\u001b[0mself\u001b[0m\u001b[0;34m.\u001b[0m\u001b[0m_jobs\u001b[0m\u001b[0;34m)\u001b[0m\u001b[0;34m\u001b[0m\u001b[0m\n\u001b[0;32m--> 782\u001b[0;31m             \u001b[0mjob\u001b[0m \u001b[0;34m=\u001b[0m \u001b[0mself\u001b[0m\u001b[0;34m.\u001b[0m\u001b[0m_backend\u001b[0m\u001b[0;34m.\u001b[0m\u001b[0mapply_async\u001b[0m\u001b[0;34m(\u001b[0m\u001b[0mbatch\u001b[0m\u001b[0;34m,\u001b[0m \u001b[0mcallback\u001b[0m\u001b[0;34m=\u001b[0m\u001b[0mcb\u001b[0m\u001b[0;34m)\u001b[0m\u001b[0;34m\u001b[0m\u001b[0m\n\u001b[0m\u001b[1;32m    783\u001b[0m             \u001b[0;31m# A job can complete so quickly than its callback is\u001b[0m\u001b[0;34m\u001b[0m\u001b[0;34m\u001b[0m\u001b[0m\n\u001b[1;32m    784\u001b[0m             \u001b[0;31m# called before we get here, causing self._jobs to\u001b[0m\u001b[0;34m\u001b[0m\u001b[0;34m\u001b[0m\u001b[0m\n",
         "\u001b[0;32m~/anaconda3/lib/python3.6/site-packages/sklearn/externals/joblib/_parallel_backends.py\u001b[0m in \u001b[0;36mapply_async\u001b[0;34m(self, func, callback)\u001b[0m\n\u001b[1;32m    180\u001b[0m     \u001b[0;32mdef\u001b[0m \u001b[0mapply_async\u001b[0m\u001b[0;34m(\u001b[0m\u001b[0mself\u001b[0m\u001b[0;34m,\u001b[0m \u001b[0mfunc\u001b[0m\u001b[0;34m,\u001b[0m \u001b[0mcallback\u001b[0m\u001b[0;34m=\u001b[0m\u001b[0;32mNone\u001b[0m\u001b[0;34m)\u001b[0m\u001b[0;34m:\u001b[0m\u001b[0;34m\u001b[0m\u001b[0m\n\u001b[1;32m    181\u001b[0m         \u001b[0;34m\"\"\"Schedule a func to be run\"\"\"\u001b[0m\u001b[0;34m\u001b[0m\u001b[0m\n\u001b[0;32m--> 182\u001b[0;31m         \u001b[0mresult\u001b[0m \u001b[0;34m=\u001b[0m \u001b[0mImmediateResult\u001b[0m\u001b[0;34m(\u001b[0m\u001b[0mfunc\u001b[0m\u001b[0;34m)\u001b[0m\u001b[0;34m\u001b[0m\u001b[0m\n\u001b[0m\u001b[1;32m    183\u001b[0m         \u001b[0;32mif\u001b[0m \u001b[0mcallback\u001b[0m\u001b[0;34m:\u001b[0m\u001b[0;34m\u001b[0m\u001b[0m\n\u001b[1;32m    184\u001b[0m             \u001b[0mcallback\u001b[0m\u001b[0;34m(\u001b[0m\u001b[0mresult\u001b[0m\u001b[0;34m)\u001b[0m\u001b[0;34m\u001b[0m\u001b[0m\n",
         "\u001b[0;32m~/anaconda3/lib/python3.6/site-packages/sklearn/externals/joblib/_parallel_backends.py\u001b[0m in \u001b[0;36m__init__\u001b[0;34m(self, batch)\u001b[0m\n\u001b[1;32m    543\u001b[0m         \u001b[0;31m# Don't delay the application, to avoid keeping the input\u001b[0m\u001b[0;34m\u001b[0m\u001b[0;34m\u001b[0m\u001b[0m\n\u001b[1;32m    544\u001b[0m         \u001b[0;31m# arguments in memory\u001b[0m\u001b[0;34m\u001b[0m\u001b[0;34m\u001b[0m\u001b[0m\n\u001b[0;32m--> 545\u001b[0;31m         \u001b[0mself\u001b[0m\u001b[0;34m.\u001b[0m\u001b[0mresults\u001b[0m \u001b[0;34m=\u001b[0m \u001b[0mbatch\u001b[0m\u001b[0;34m(\u001b[0m\u001b[0;34m)\u001b[0m\u001b[0;34m\u001b[0m\u001b[0m\n\u001b[0m\u001b[1;32m    546\u001b[0m \u001b[0;34m\u001b[0m\u001b[0m\n\u001b[1;32m    547\u001b[0m     \u001b[0;32mdef\u001b[0m \u001b[0mget\u001b[0m\u001b[0;34m(\u001b[0m\u001b[0mself\u001b[0m\u001b[0;34m)\u001b[0m\u001b[0;34m:\u001b[0m\u001b[0;34m\u001b[0m\u001b[0m\n",
         "\u001b[0;32m~/anaconda3/lib/python3.6/site-packages/sklearn/externals/joblib/parallel.py\u001b[0m in \u001b[0;36m__call__\u001b[0;34m(self)\u001b[0m\n\u001b[1;32m    259\u001b[0m         \u001b[0;32mwith\u001b[0m \u001b[0mparallel_backend\u001b[0m\u001b[0;34m(\u001b[0m\u001b[0mself\u001b[0m\u001b[0;34m.\u001b[0m\u001b[0m_backend\u001b[0m\u001b[0;34m)\u001b[0m\u001b[0;34m:\u001b[0m\u001b[0;34m\u001b[0m\u001b[0m\n\u001b[1;32m    260\u001b[0m             return [func(*args, **kwargs)\n\u001b[0;32m--> 261\u001b[0;31m                     for func, args, kwargs in self.items]\n\u001b[0m\u001b[1;32m    262\u001b[0m \u001b[0;34m\u001b[0m\u001b[0m\n\u001b[1;32m    263\u001b[0m     \u001b[0;32mdef\u001b[0m \u001b[0m__len__\u001b[0m\u001b[0;34m(\u001b[0m\u001b[0mself\u001b[0m\u001b[0;34m)\u001b[0m\u001b[0;34m:\u001b[0m\u001b[0;34m\u001b[0m\u001b[0m\n",
         "\u001b[0;32m~/anaconda3/lib/python3.6/site-packages/sklearn/externals/joblib/parallel.py\u001b[0m in \u001b[0;36m<listcomp>\u001b[0;34m(.0)\u001b[0m\n\u001b[1;32m    259\u001b[0m         \u001b[0;32mwith\u001b[0m \u001b[0mparallel_backend\u001b[0m\u001b[0;34m(\u001b[0m\u001b[0mself\u001b[0m\u001b[0;34m.\u001b[0m\u001b[0m_backend\u001b[0m\u001b[0;34m)\u001b[0m\u001b[0;34m:\u001b[0m\u001b[0;34m\u001b[0m\u001b[0m\n\u001b[1;32m    260\u001b[0m             return [func(*args, **kwargs)\n\u001b[0;32m--> 261\u001b[0;31m                     for func, args, kwargs in self.items]\n\u001b[0m\u001b[1;32m    262\u001b[0m \u001b[0;34m\u001b[0m\u001b[0m\n\u001b[1;32m    263\u001b[0m     \u001b[0;32mdef\u001b[0m \u001b[0m__len__\u001b[0m\u001b[0;34m(\u001b[0m\u001b[0mself\u001b[0m\u001b[0;34m)\u001b[0m\u001b[0;34m:\u001b[0m\u001b[0;34m\u001b[0m\u001b[0m\n",
         "\u001b[0;32m~/anaconda3/lib/python3.6/site-packages/sklearn/model_selection/_validation.py\u001b[0m in \u001b[0;36m_fit_and_score\u001b[0;34m(estimator, X, y, scorer, train, test, verbose, parameters, fit_params, return_train_score, return_parameters, return_n_test_samples, return_times, return_estimator, error_score)\u001b[0m\n\u001b[1;32m    526\u001b[0m             \u001b[0mestimator\u001b[0m\u001b[0;34m.\u001b[0m\u001b[0mfit\u001b[0m\u001b[0;34m(\u001b[0m\u001b[0mX_train\u001b[0m\u001b[0;34m,\u001b[0m \u001b[0;34m**\u001b[0m\u001b[0mfit_params\u001b[0m\u001b[0;34m)\u001b[0m\u001b[0;34m\u001b[0m\u001b[0m\n\u001b[1;32m    527\u001b[0m         \u001b[0;32melse\u001b[0m\u001b[0;34m:\u001b[0m\u001b[0;34m\u001b[0m\u001b[0m\n\u001b[0;32m--> 528\u001b[0;31m             \u001b[0mestimator\u001b[0m\u001b[0;34m.\u001b[0m\u001b[0mfit\u001b[0m\u001b[0;34m(\u001b[0m\u001b[0mX_train\u001b[0m\u001b[0;34m,\u001b[0m \u001b[0my_train\u001b[0m\u001b[0;34m,\u001b[0m \u001b[0;34m**\u001b[0m\u001b[0mfit_params\u001b[0m\u001b[0;34m)\u001b[0m\u001b[0;34m\u001b[0m\u001b[0m\n\u001b[0m\u001b[1;32m    529\u001b[0m \u001b[0;34m\u001b[0m\u001b[0m\n\u001b[1;32m    530\u001b[0m     \u001b[0;32mexcept\u001b[0m \u001b[0mException\u001b[0m \u001b[0;32mas\u001b[0m \u001b[0me\u001b[0m\u001b[0;34m:\u001b[0m\u001b[0;34m\u001b[0m\u001b[0m\n",
         "\u001b[0;32m<ipython-input-211-ac3a3a662633>\u001b[0m in \u001b[0;36mfit\u001b[0;34m(self, X, y)\u001b[0m\n\u001b[1;32m     10\u001b[0m         \u001b[0mself\u001b[0m\u001b[0;34m.\u001b[0m\u001b[0my_\u001b[0m \u001b[0;34m=\u001b[0m \u001b[0my\u001b[0m\u001b[0;34m\u001b[0m\u001b[0m\n\u001b[1;32m     11\u001b[0m \u001b[0;34m\u001b[0m\u001b[0m\n\u001b[0;32m---> 12\u001b[0;31m         \u001b[0mself\u001b[0m\u001b[0;34m.\u001b[0m\u001b[0muser_map_\u001b[0m \u001b[0;34m=\u001b[0m \u001b[0mmake_category_map\u001b[0m\u001b[0;34m(\u001b[0m\u001b[0mX\u001b[0m\u001b[0;34m,\u001b[0m \u001b[0;34m'reviewerID'\u001b[0m\u001b[0;34m)\u001b[0m\u001b[0;34m\u001b[0m\u001b[0m\n\u001b[0m\u001b[1;32m     13\u001b[0m         \u001b[0mself\u001b[0m\u001b[0;34m.\u001b[0m\u001b[0mitem_map_\u001b[0m \u001b[0;34m=\u001b[0m \u001b[0mmake_category_map\u001b[0m\u001b[0;34m(\u001b[0m\u001b[0mtrain\u001b[0m\u001b[0;34m,\u001b[0m \u001b[0;34m'itemID'\u001b[0m\u001b[0;34m)\u001b[0m\u001b[0;34m\u001b[0m\u001b[0m\n\u001b[1;32m     14\u001b[0m         \u001b[0;32mreturn\u001b[0m \u001b[0mself\u001b[0m\u001b[0;34m\u001b[0m\u001b[0m\n",
         "\u001b[0;32m<ipython-input-160-6abd829fd616>\u001b[0m in \u001b[0;36mmake_category_map\u001b[0;34m(df, key)\u001b[0m\n\u001b[1;32m      7\u001b[0m         \u001b[0;34m.\u001b[0m\u001b[0mmerge\u001b[0m\u001b[0;34m(\u001b[0m\u001b[0mitem_categories\u001b[0m\u001b[0;34m,\u001b[0m \u001b[0mleft_on\u001b[0m\u001b[0;34m=\u001b[0m\u001b[0;34m'itemID'\u001b[0m\u001b[0;34m,\u001b[0m \u001b[0mright_index\u001b[0m\u001b[0;34m=\u001b[0m\u001b[0;32mTrue\u001b[0m\u001b[0;34m,\u001b[0m \u001b[0mhow\u001b[0m\u001b[0;34m=\u001b[0m\u001b[0;34m'left'\u001b[0m\u001b[0;34m)\u001b[0m\u001b[0;34m\u001b[0m\u001b[0m\n\u001b[1;32m      8\u001b[0m         \u001b[0;34m.\u001b[0m\u001b[0mgroupby\u001b[0m\u001b[0;34m(\u001b[0m\u001b[0mkey\u001b[0m\u001b[0;34m)\u001b[0m\u001b[0;34m\u001b[0m\u001b[0m\n\u001b[0;32m----> 9\u001b[0;31m         \u001b[0;34m[\u001b[0m\u001b[0;34m'categories'\u001b[0m\u001b[0;34m]\u001b[0m\u001b[0;34m\u001b[0m\u001b[0m\n\u001b[0m\u001b[1;32m     10\u001b[0m         \u001b[0;34m.\u001b[0m\u001b[0msum\u001b[0m\u001b[0;34m(\u001b[0m\u001b[0;34m)\u001b[0m\u001b[0;34m\u001b[0m\u001b[0m\n\u001b[1;32m     11\u001b[0m         \u001b[0;34m.\u001b[0m\u001b[0mapply\u001b[0m\u001b[0;34m(\u001b[0m\u001b[0mcategory_set\u001b[0m\u001b[0;34m)\u001b[0m\u001b[0;34m\u001b[0m\u001b[0m\n",
         "\u001b[0;32m~/anaconda3/lib/python3.6/site-packages/pandas/core/groupby/groupby.py\u001b[0m in \u001b[0;36mf\u001b[0;34m(self, **kwargs)\u001b[0m\n\u001b[1;32m   1425\u001b[0m                 \u001b[0;32mexcept\u001b[0m \u001b[0mException\u001b[0m\u001b[0;34m:\u001b[0m\u001b[0;34m\u001b[0m\u001b[0m\n\u001b[1;32m   1426\u001b[0m                     result = self.aggregate(\n\u001b[0;32m-> 1427\u001b[0;31m                         lambda x: npfunc(x, axis=self.axis))\n\u001b[0m\u001b[1;32m   1428\u001b[0m                     \u001b[0;32mif\u001b[0m \u001b[0m_convert\u001b[0m\u001b[0;34m:\u001b[0m\u001b[0;34m\u001b[0m\u001b[0m\n\u001b[1;32m   1429\u001b[0m                         \u001b[0mresult\u001b[0m \u001b[0;34m=\u001b[0m \u001b[0mresult\u001b[0m\u001b[0;34m.\u001b[0m\u001b[0m_convert\u001b[0m\u001b[0;34m(\u001b[0m\u001b[0mdatetime\u001b[0m\u001b[0;34m=\u001b[0m\u001b[0;32mTrue\u001b[0m\u001b[0;34m)\u001b[0m\u001b[0;34m\u001b[0m\u001b[0m\n",
         "\u001b[0;32m~/anaconda3/lib/python3.6/site-packages/pandas/core/groupby/groupby.py\u001b[0m in \u001b[0;36maggregate\u001b[0;34m(self, func_or_funcs, *args, **kwargs)\u001b[0m\n\u001b[1;32m   3493\u001b[0m \u001b[0;34m\u001b[0m\u001b[0m\n\u001b[1;32m   3494\u001b[0m             \u001b[0;32mtry\u001b[0m\u001b[0;34m:\u001b[0m\u001b[0;34m\u001b[0m\u001b[0m\n\u001b[0;32m-> 3495\u001b[0;31m                 \u001b[0;32mreturn\u001b[0m \u001b[0mself\u001b[0m\u001b[0;34m.\u001b[0m\u001b[0m_python_agg_general\u001b[0m\u001b[0;34m(\u001b[0m\u001b[0mfunc_or_funcs\u001b[0m\u001b[0;34m,\u001b[0m \u001b[0;34m*\u001b[0m\u001b[0margs\u001b[0m\u001b[0;34m,\u001b[0m \u001b[0;34m**\u001b[0m\u001b[0mkwargs\u001b[0m\u001b[0;34m)\u001b[0m\u001b[0;34m\u001b[0m\u001b[0m\n\u001b[0m\u001b[1;32m   3496\u001b[0m             \u001b[0;32mexcept\u001b[0m \u001b[0mException\u001b[0m\u001b[0;34m:\u001b[0m\u001b[0;34m\u001b[0m\u001b[0m\n\u001b[1;32m   3497\u001b[0m                 \u001b[0mresult\u001b[0m \u001b[0;34m=\u001b[0m \u001b[0mself\u001b[0m\u001b[0;34m.\u001b[0m\u001b[0m_aggregate_named\u001b[0m\u001b[0;34m(\u001b[0m\u001b[0mfunc_or_funcs\u001b[0m\u001b[0;34m,\u001b[0m \u001b[0;34m*\u001b[0m\u001b[0margs\u001b[0m\u001b[0;34m,\u001b[0m \u001b[0;34m**\u001b[0m\u001b[0mkwargs\u001b[0m\u001b[0;34m)\u001b[0m\u001b[0;34m\u001b[0m\u001b[0m\n",
         "\u001b[0;32m~/anaconda3/lib/python3.6/site-packages/pandas/core/groupby/groupby.py\u001b[0m in \u001b[0;36m_python_agg_general\u001b[0;34m(self, func, *args, **kwargs)\u001b[0m\n\u001b[1;32m   1066\u001b[0m         \u001b[0;32mfor\u001b[0m \u001b[0mname\u001b[0m\u001b[0;34m,\u001b[0m \u001b[0mobj\u001b[0m \u001b[0;32min\u001b[0m \u001b[0mself\u001b[0m\u001b[0;34m.\u001b[0m\u001b[0m_iterate_slices\u001b[0m\u001b[0;34m(\u001b[0m\u001b[0;34m)\u001b[0m\u001b[0;34m:\u001b[0m\u001b[0;34m\u001b[0m\u001b[0m\n\u001b[1;32m   1067\u001b[0m             \u001b[0;32mtry\u001b[0m\u001b[0;34m:\u001b[0m\u001b[0;34m\u001b[0m\u001b[0m\n\u001b[0;32m-> 1068\u001b[0;31m                 \u001b[0mresult\u001b[0m\u001b[0;34m,\u001b[0m \u001b[0mcounts\u001b[0m \u001b[0;34m=\u001b[0m \u001b[0mself\u001b[0m\u001b[0;34m.\u001b[0m\u001b[0mgrouper\u001b[0m\u001b[0;34m.\u001b[0m\u001b[0magg_series\u001b[0m\u001b[0;34m(\u001b[0m\u001b[0mobj\u001b[0m\u001b[0;34m,\u001b[0m \u001b[0mf\u001b[0m\u001b[0;34m)\u001b[0m\u001b[0;34m\u001b[0m\u001b[0m\n\u001b[0m\u001b[1;32m   1069\u001b[0m                 \u001b[0moutput\u001b[0m\u001b[0;34m[\u001b[0m\u001b[0mname\u001b[0m\u001b[0;34m]\u001b[0m \u001b[0;34m=\u001b[0m \u001b[0mself\u001b[0m\u001b[0;34m.\u001b[0m\u001b[0m_try_cast\u001b[0m\u001b[0;34m(\u001b[0m\u001b[0mresult\u001b[0m\u001b[0;34m,\u001b[0m \u001b[0mobj\u001b[0m\u001b[0;34m,\u001b[0m \u001b[0mnumeric_only\u001b[0m\u001b[0;34m=\u001b[0m\u001b[0;32mTrue\u001b[0m\u001b[0;34m)\u001b[0m\u001b[0;34m\u001b[0m\u001b[0m\n\u001b[1;32m   1070\u001b[0m             \u001b[0;32mexcept\u001b[0m \u001b[0mTypeError\u001b[0m\u001b[0;34m:\u001b[0m\u001b[0;34m\u001b[0m\u001b[0m\n",
         "\u001b[0;32m~/anaconda3/lib/python3.6/site-packages/pandas/core/groupby/groupby.py\u001b[0m in \u001b[0;36magg_series\u001b[0;34m(self, obj, func)\u001b[0m\n\u001b[1;32m   2668\u001b[0m     \u001b[0;32mdef\u001b[0m \u001b[0magg_series\u001b[0m\u001b[0;34m(\u001b[0m\u001b[0mself\u001b[0m\u001b[0;34m,\u001b[0m \u001b[0mobj\u001b[0m\u001b[0;34m,\u001b[0m \u001b[0mfunc\u001b[0m\u001b[0;34m)\u001b[0m\u001b[0;34m:\u001b[0m\u001b[0;34m\u001b[0m\u001b[0m\n\u001b[1;32m   2669\u001b[0m         \u001b[0;32mtry\u001b[0m\u001b[0;34m:\u001b[0m\u001b[0;34m\u001b[0m\u001b[0m\n\u001b[0;32m-> 2670\u001b[0;31m             \u001b[0;32mreturn\u001b[0m \u001b[0mself\u001b[0m\u001b[0;34m.\u001b[0m\u001b[0m_aggregate_series_fast\u001b[0m\u001b[0;34m(\u001b[0m\u001b[0mobj\u001b[0m\u001b[0;34m,\u001b[0m \u001b[0mfunc\u001b[0m\u001b[0;34m)\u001b[0m\u001b[0;34m\u001b[0m\u001b[0m\n\u001b[0m\u001b[1;32m   2671\u001b[0m         \u001b[0;32mexcept\u001b[0m \u001b[0mException\u001b[0m\u001b[0;34m:\u001b[0m\u001b[0;34m\u001b[0m\u001b[0m\n\u001b[1;32m   2672\u001b[0m             \u001b[0;32mreturn\u001b[0m \u001b[0mself\u001b[0m\u001b[0;34m.\u001b[0m\u001b[0m_aggregate_series_pure_python\u001b[0m\u001b[0;34m(\u001b[0m\u001b[0mobj\u001b[0m\u001b[0;34m,\u001b[0m \u001b[0mfunc\u001b[0m\u001b[0;34m)\u001b[0m\u001b[0;34m\u001b[0m\u001b[0m\n",
         "\u001b[0;32m~/anaconda3/lib/python3.6/site-packages/pandas/core/groupby/groupby.py\u001b[0m in \u001b[0;36m_aggregate_series_fast\u001b[0;34m(self, obj, func)\u001b[0m\n\u001b[1;32m   2688\u001b[0m         grouper = reduction.SeriesGrouper(obj, func, group_index, ngroups,\n\u001b[1;32m   2689\u001b[0m                                           dummy)\n\u001b[0;32m-> 2690\u001b[0;31m         \u001b[0mresult\u001b[0m\u001b[0;34m,\u001b[0m \u001b[0mcounts\u001b[0m \u001b[0;34m=\u001b[0m \u001b[0mgrouper\u001b[0m\u001b[0;34m.\u001b[0m\u001b[0mget_result\u001b[0m\u001b[0;34m(\u001b[0m\u001b[0;34m)\u001b[0m\u001b[0;34m\u001b[0m\u001b[0m\n\u001b[0m\u001b[1;32m   2691\u001b[0m         \u001b[0;32mreturn\u001b[0m \u001b[0mresult\u001b[0m\u001b[0;34m,\u001b[0m \u001b[0mcounts\u001b[0m\u001b[0;34m\u001b[0m\u001b[0m\n\u001b[1;32m   2692\u001b[0m \u001b[0;34m\u001b[0m\u001b[0m\n",
         "\u001b[0;32mpandas/_libs/reduction.pyx\u001b[0m in \u001b[0;36mpandas._libs.reduction.SeriesGrouper.get_result\u001b[0;34m()\u001b[0m\n",
         "\u001b[0;32mpandas/_libs/reduction.pyx\u001b[0m in \u001b[0;36mpandas._libs.reduction.SeriesGrouper.get_result\u001b[0;34m()\u001b[0m\n",
         "\u001b[0;32m~/anaconda3/lib/python3.6/site-packages/pandas/core/groupby/groupby.py\u001b[0m in \u001b[0;36m<lambda>\u001b[0;34m(x)\u001b[0m\n\u001b[1;32m   1060\u001b[0m     \u001b[0;32mdef\u001b[0m \u001b[0m_python_agg_general\u001b[0m\u001b[0;34m(\u001b[0m\u001b[0mself\u001b[0m\u001b[0;34m,\u001b[0m \u001b[0mfunc\u001b[0m\u001b[0;34m,\u001b[0m \u001b[0;34m*\u001b[0m\u001b[0margs\u001b[0m\u001b[0;34m,\u001b[0m \u001b[0;34m**\u001b[0m\u001b[0mkwargs\u001b[0m\u001b[0;34m)\u001b[0m\u001b[0;34m:\u001b[0m\u001b[0;34m\u001b[0m\u001b[0m\n\u001b[1;32m   1061\u001b[0m         \u001b[0mfunc\u001b[0m \u001b[0;34m=\u001b[0m \u001b[0mself\u001b[0m\u001b[0;34m.\u001b[0m\u001b[0m_is_builtin_func\u001b[0m\u001b[0;34m(\u001b[0m\u001b[0mfunc\u001b[0m\u001b[0;34m)\u001b[0m\u001b[0;34m\u001b[0m\u001b[0m\n\u001b[0;32m-> 1062\u001b[0;31m         \u001b[0mf\u001b[0m \u001b[0;34m=\u001b[0m \u001b[0;32mlambda\u001b[0m \u001b[0mx\u001b[0m\u001b[0;34m:\u001b[0m \u001b[0mfunc\u001b[0m\u001b[0;34m(\u001b[0m\u001b[0mx\u001b[0m\u001b[0;34m,\u001b[0m \u001b[0;34m*\u001b[0m\u001b[0margs\u001b[0m\u001b[0;34m,\u001b[0m \u001b[0;34m**\u001b[0m\u001b[0mkwargs\u001b[0m\u001b[0;34m)\u001b[0m\u001b[0;34m\u001b[0m\u001b[0m\n\u001b[0m\u001b[1;32m   1063\u001b[0m \u001b[0;34m\u001b[0m\u001b[0m\n\u001b[1;32m   1064\u001b[0m         \u001b[0;31m# iterate through \"columns\" ex exclusions to populate output dict\u001b[0m\u001b[0;34m\u001b[0m\u001b[0;34m\u001b[0m\u001b[0m\n",
         "\u001b[0;32m~/anaconda3/lib/python3.6/site-packages/pandas/core/groupby/groupby.py\u001b[0m in \u001b[0;36m<lambda>\u001b[0;34m(x)\u001b[0m\n\u001b[1;32m   1425\u001b[0m                 \u001b[0;32mexcept\u001b[0m \u001b[0mException\u001b[0m\u001b[0;34m:\u001b[0m\u001b[0;34m\u001b[0m\u001b[0m\n\u001b[1;32m   1426\u001b[0m                     result = self.aggregate(\n\u001b[0;32m-> 1427\u001b[0;31m                         lambda x: npfunc(x, axis=self.axis))\n\u001b[0m\u001b[1;32m   1428\u001b[0m                     \u001b[0;32mif\u001b[0m \u001b[0m_convert\u001b[0m\u001b[0;34m:\u001b[0m\u001b[0;34m\u001b[0m\u001b[0m\n\u001b[1;32m   1429\u001b[0m                         \u001b[0mresult\u001b[0m \u001b[0;34m=\u001b[0m \u001b[0mresult\u001b[0m\u001b[0;34m.\u001b[0m\u001b[0m_convert\u001b[0m\u001b[0;34m(\u001b[0m\u001b[0mdatetime\u001b[0m\u001b[0;34m=\u001b[0m\u001b[0;32mTrue\u001b[0m\u001b[0;34m)\u001b[0m\u001b[0;34m\u001b[0m\u001b[0m\n",
         "\u001b[0;32m~/anaconda3/lib/python3.6/site-packages/numpy/core/fromnumeric.py\u001b[0m in \u001b[0;36msum\u001b[0;34m(a, axis, dtype, out, keepdims, initial)\u001b[0m\n\u001b[1;32m   1928\u001b[0m \u001b[0;34m\u001b[0m\u001b[0m\n\u001b[1;32m   1929\u001b[0m     return _wrapreduction(a, np.add, 'sum', axis, dtype, out, keepdims=keepdims,\n\u001b[0;32m-> 1930\u001b[0;31m                           initial=initial)\n\u001b[0m\u001b[1;32m   1931\u001b[0m \u001b[0;34m\u001b[0m\u001b[0m\n\u001b[1;32m   1932\u001b[0m \u001b[0;34m\u001b[0m\u001b[0m\n",
         "\u001b[0;32m~/anaconda3/lib/python3.6/site-packages/numpy/core/fromnumeric.py\u001b[0m in \u001b[0;36m_wrapreduction\u001b[0;34m(obj, ufunc, method, axis, dtype, out, **kwargs)\u001b[0m\n\u001b[1;32m     79\u001b[0m                 \u001b[0;32mreturn\u001b[0m \u001b[0mreduction\u001b[0m\u001b[0;34m(\u001b[0m\u001b[0maxis\u001b[0m\u001b[0;34m=\u001b[0m\u001b[0maxis\u001b[0m\u001b[0;34m,\u001b[0m \u001b[0mdtype\u001b[0m\u001b[0;34m=\u001b[0m\u001b[0mdtype\u001b[0m\u001b[0;34m,\u001b[0m \u001b[0mout\u001b[0m\u001b[0;34m=\u001b[0m\u001b[0mout\u001b[0m\u001b[0;34m,\u001b[0m \u001b[0;34m**\u001b[0m\u001b[0mpasskwargs\u001b[0m\u001b[0;34m)\u001b[0m\u001b[0;34m\u001b[0m\u001b[0m\n\u001b[1;32m     80\u001b[0m             \u001b[0;32melse\u001b[0m\u001b[0;34m:\u001b[0m\u001b[0;34m\u001b[0m\u001b[0m\n\u001b[0;32m---> 81\u001b[0;31m                 \u001b[0;32mreturn\u001b[0m \u001b[0mreduction\u001b[0m\u001b[0;34m(\u001b[0m\u001b[0maxis\u001b[0m\u001b[0;34m=\u001b[0m\u001b[0maxis\u001b[0m\u001b[0;34m,\u001b[0m \u001b[0mout\u001b[0m\u001b[0;34m=\u001b[0m\u001b[0mout\u001b[0m\u001b[0;34m,\u001b[0m \u001b[0;34m**\u001b[0m\u001b[0mpasskwargs\u001b[0m\u001b[0;34m)\u001b[0m\u001b[0;34m\u001b[0m\u001b[0m\n\u001b[0m\u001b[1;32m     82\u001b[0m \u001b[0;34m\u001b[0m\u001b[0m\n\u001b[1;32m     83\u001b[0m     \u001b[0;32mreturn\u001b[0m \u001b[0mufunc\u001b[0m\u001b[0;34m.\u001b[0m\u001b[0mreduce\u001b[0m\u001b[0;34m(\u001b[0m\u001b[0mobj\u001b[0m\u001b[0;34m,\u001b[0m \u001b[0maxis\u001b[0m\u001b[0;34m,\u001b[0m \u001b[0mdtype\u001b[0m\u001b[0;34m,\u001b[0m \u001b[0mout\u001b[0m\u001b[0;34m,\u001b[0m \u001b[0;34m**\u001b[0m\u001b[0mpasskwargs\u001b[0m\u001b[0;34m)\u001b[0m\u001b[0;34m\u001b[0m\u001b[0m\n",
         "\u001b[0;32m~/anaconda3/lib/python3.6/site-packages/pandas/core/generic.py\u001b[0m in \u001b[0;36mstat_func\u001b[0;34m(self, axis, skipna, level, numeric_only, min_count, **kwargs)\u001b[0m\n\u001b[1;32m   9591\u001b[0m                                       skipna=skipna, min_count=min_count)\n\u001b[1;32m   9592\u001b[0m         return self._reduce(f, name, axis=axis, skipna=skipna,\n\u001b[0;32m-> 9593\u001b[0;31m                             numeric_only=numeric_only, min_count=min_count)\n\u001b[0m\u001b[1;32m   9594\u001b[0m \u001b[0;34m\u001b[0m\u001b[0m\n\u001b[1;32m   9595\u001b[0m     \u001b[0;32mreturn\u001b[0m \u001b[0mset_function_name\u001b[0m\u001b[0;34m(\u001b[0m\u001b[0mstat_func\u001b[0m\u001b[0;34m,\u001b[0m \u001b[0mname\u001b[0m\u001b[0;34m,\u001b[0m \u001b[0mcls\u001b[0m\u001b[0;34m)\u001b[0m\u001b[0;34m\u001b[0m\u001b[0m\n",
         "\u001b[0;32m~/anaconda3/lib/python3.6/site-packages/pandas/core/series.py\u001b[0m in \u001b[0;36m_reduce\u001b[0;34m(self, op, name, axis, skipna, numeric_only, filter_type, **kwds)\u001b[0m\n\u001b[1;32m   3219\u001b[0m                                           'numeric_only.'.format(name))\n\u001b[1;32m   3220\u001b[0m             \u001b[0;32mwith\u001b[0m \u001b[0mnp\u001b[0m\u001b[0;34m.\u001b[0m\u001b[0merrstate\u001b[0m\u001b[0;34m(\u001b[0m\u001b[0mall\u001b[0m\u001b[0;34m=\u001b[0m\u001b[0;34m'ignore'\u001b[0m\u001b[0;34m)\u001b[0m\u001b[0;34m:\u001b[0m\u001b[0;34m\u001b[0m\u001b[0m\n\u001b[0;32m-> 3221\u001b[0;31m                 \u001b[0;32mreturn\u001b[0m \u001b[0mop\u001b[0m\u001b[0;34m(\u001b[0m\u001b[0mdelegate\u001b[0m\u001b[0;34m,\u001b[0m \u001b[0mskipna\u001b[0m\u001b[0;34m=\u001b[0m\u001b[0mskipna\u001b[0m\u001b[0;34m,\u001b[0m \u001b[0;34m**\u001b[0m\u001b[0mkwds\u001b[0m\u001b[0;34m)\u001b[0m\u001b[0;34m\u001b[0m\u001b[0m\n\u001b[0m\u001b[1;32m   3222\u001b[0m \u001b[0;34m\u001b[0m\u001b[0m\n\u001b[1;32m   3223\u001b[0m         return delegate._reduce(op=op, name=name, axis=axis, skipna=skipna,\n",
         "\u001b[0;32m~/anaconda3/lib/python3.6/site-packages/pandas/core/nanops.py\u001b[0m in \u001b[0;36m_f\u001b[0;34m(*args, **kwargs)\u001b[0m\n\u001b[1;32m     75\u001b[0m             \u001b[0;32mtry\u001b[0m\u001b[0;34m:\u001b[0m\u001b[0;34m\u001b[0m\u001b[0m\n\u001b[1;32m     76\u001b[0m                 \u001b[0;32mwith\u001b[0m \u001b[0mnp\u001b[0m\u001b[0;34m.\u001b[0m\u001b[0merrstate\u001b[0m\u001b[0;34m(\u001b[0m\u001b[0minvalid\u001b[0m\u001b[0;34m=\u001b[0m\u001b[0;34m'ignore'\u001b[0m\u001b[0;34m)\u001b[0m\u001b[0;34m:\u001b[0m\u001b[0;34m\u001b[0m\u001b[0m\n\u001b[0;32m---> 77\u001b[0;31m                     \u001b[0;32mreturn\u001b[0m \u001b[0mf\u001b[0m\u001b[0;34m(\u001b[0m\u001b[0;34m*\u001b[0m\u001b[0margs\u001b[0m\u001b[0;34m,\u001b[0m \u001b[0;34m**\u001b[0m\u001b[0mkwargs\u001b[0m\u001b[0;34m)\u001b[0m\u001b[0;34m\u001b[0m\u001b[0m\n\u001b[0m\u001b[1;32m     78\u001b[0m             \u001b[0;32mexcept\u001b[0m \u001b[0mValueError\u001b[0m \u001b[0;32mas\u001b[0m \u001b[0me\u001b[0m\u001b[0;34m:\u001b[0m\u001b[0;34m\u001b[0m\u001b[0m\n\u001b[1;32m     79\u001b[0m                 \u001b[0;31m# we want to transform an object array\u001b[0m\u001b[0;34m\u001b[0m\u001b[0;34m\u001b[0m\u001b[0m\n",
         "\u001b[0;32m~/anaconda3/lib/python3.6/site-packages/pandas/core/nanops.py\u001b[0m in \u001b[0;36mnansum\u001b[0;34m(values, axis, skipna, min_count)\u001b[0m\n\u001b[1;32m    332\u001b[0m     \u001b[0;32mif\u001b[0m \u001b[0mis_float_dtype\u001b[0m\u001b[0;34m(\u001b[0m\u001b[0mdtype\u001b[0m\u001b[0;34m)\u001b[0m\u001b[0;34m:\u001b[0m\u001b[0;34m\u001b[0m\u001b[0m\n\u001b[1;32m    333\u001b[0m         \u001b[0mdtype_sum\u001b[0m \u001b[0;34m=\u001b[0m \u001b[0mdtype\u001b[0m\u001b[0;34m\u001b[0m\u001b[0m\n\u001b[0;32m--> 334\u001b[0;31m     \u001b[0;32melif\u001b[0m \u001b[0mis_timedelta64_dtype\u001b[0m\u001b[0;34m(\u001b[0m\u001b[0mdtype\u001b[0m\u001b[0;34m)\u001b[0m\u001b[0;34m:\u001b[0m\u001b[0;34m\u001b[0m\u001b[0m\n\u001b[0m\u001b[1;32m    335\u001b[0m         \u001b[0mdtype_sum\u001b[0m \u001b[0;34m=\u001b[0m \u001b[0mnp\u001b[0m\u001b[0;34m.\u001b[0m\u001b[0mfloat64\u001b[0m\u001b[0;34m\u001b[0m\u001b[0m\n\u001b[1;32m    336\u001b[0m     \u001b[0mthe_sum\u001b[0m \u001b[0;34m=\u001b[0m \u001b[0mvalues\u001b[0m\u001b[0;34m.\u001b[0m\u001b[0msum\u001b[0m\u001b[0;34m(\u001b[0m\u001b[0maxis\u001b[0m\u001b[0;34m,\u001b[0m \u001b[0mdtype\u001b[0m\u001b[0;34m=\u001b[0m\u001b[0mdtype_sum\u001b[0m\u001b[0;34m)\u001b[0m\u001b[0;34m\u001b[0m\u001b[0m\n",
         "\u001b[0;32m~/anaconda3/lib/python3.6/site-packages/pandas/core/dtypes/common.py\u001b[0m in \u001b[0;36mis_timedelta64_dtype\u001b[0;34m(arr_or_dtype)\u001b[0m\n\u001b[1;32m    439\u001b[0m     \u001b[0;32mexcept\u001b[0m\u001b[0;34m:\u001b[0m\u001b[0;34m\u001b[0m\u001b[0m\n\u001b[1;32m    440\u001b[0m         \u001b[0;32mreturn\u001b[0m \u001b[0;32mFalse\u001b[0m\u001b[0;34m\u001b[0m\u001b[0m\n\u001b[0;32m--> 441\u001b[0;31m     \u001b[0;32mreturn\u001b[0m \u001b[0missubclass\u001b[0m\u001b[0;34m(\u001b[0m\u001b[0mtipo\u001b[0m\u001b[0;34m,\u001b[0m \u001b[0mnp\u001b[0m\u001b[0;34m.\u001b[0m\u001b[0mtimedelta64\u001b[0m\u001b[0;34m)\u001b[0m\u001b[0;34m\u001b[0m\u001b[0m\n\u001b[0m\u001b[1;32m    442\u001b[0m \u001b[0;34m\u001b[0m\u001b[0m\n\u001b[1;32m    443\u001b[0m \u001b[0;34m\u001b[0m\u001b[0m\n",
         "\u001b[0;31mKeyboardInterrupt\u001b[0m: "
        ]
       },
       "metadata": {},
       "msg_type": "error",
       "version": "5.3"
      },
      "timestamp": "2018-11-16T23:22:56.726Z"
     },
     {
      "code": "%%time\n\nfrom sklearn.model_selection import GridSearchCV\n\ngrid = {\n    'cutoff': [0.6, 0.7, 0.8, 0.9, 1.0],\n}\n\nclf = GridSearchCV(CategorySimRec(), param_grid=grid)\nclf.fit(train_and_valid, train_and_valid['reviewed'])\nprint(clf)",
      "response": {
       "content": {
        "name": "stdout",
        "text": "GridSearchCV(cv='warn', error_score='raise-deprecating',\n       estimator=CategorySimRec(cutoff=0.8), fit_params=None, iid='warn',\n       n_jobs=None, param_grid={'cutoff': [0.6, 0.7, 0.8, 0.9, 1.0]},\n       pre_dispatch='2*n_jobs', refit=True, return_train_score='warn',\n       scoring=None, verbose=0)\nCPU times: user 8min 53s, sys: 15.7 s, total: 9min 8s\nWall time: 9min 34s\n"
       },
       "metadata": {},
       "msg_type": "stream",
       "version": "5.3"
      },
      "timestamp": "2018-11-16T23:32:48.548Z"
     },
     {
      "code": "%%time\n\nfrom sklearn.model_selection import GridSearchCV\n\ngrid = {\n    'cutoff': [0.4, 0.5, 0.6],\n}\n\nclf = GridSearchCV(CategorySimRec(), param_grid=grid)\nclf.fit(train_and_valid, train_and_valid['reviewed'])\nprint(clf)",
      "response": {
       "content": {
        "ename": "KeyboardInterrupt",
        "evalue": "",
        "traceback": [
         "\u001b[0;31m---------------------------------------------------------------------------\u001b[0m",
         "\u001b[0;31mDataError\u001b[0m                                 Traceback (most recent call last)",
         "\u001b[0;32m~/anaconda3/lib/python3.6/site-packages/pandas/core/groupby/groupby.py\u001b[0m in \u001b[0;36mf\u001b[0;34m(self, **kwargs)\u001b[0m\n\u001b[1;32m   1421\u001b[0m                     return self._cython_agg_general(\n\u001b[0;32m-> 1422\u001b[0;31m                         alias, alt=npfunc, **kwargs)\n\u001b[0m\u001b[1;32m   1423\u001b[0m                 \u001b[0;32mexcept\u001b[0m \u001b[0mAssertionError\u001b[0m \u001b[0;32mas\u001b[0m \u001b[0me\u001b[0m\u001b[0;34m:\u001b[0m\u001b[0;34m\u001b[0m\u001b[0m\n",
         "\u001b[0;32m~/anaconda3/lib/python3.6/site-packages/pandas/core/groupby/groupby.py\u001b[0m in \u001b[0;36m_cython_agg_general\u001b[0;34m(self, how, alt, numeric_only, min_count)\u001b[0m\n\u001b[1;32m   1055\u001b[0m         \u001b[0;32mif\u001b[0m \u001b[0mlen\u001b[0m\u001b[0;34m(\u001b[0m\u001b[0moutput\u001b[0m\u001b[0;34m)\u001b[0m \u001b[0;34m==\u001b[0m \u001b[0;36m0\u001b[0m\u001b[0;34m:\u001b[0m\u001b[0;34m\u001b[0m\u001b[0m\n\u001b[0;32m-> 1056\u001b[0;31m             \u001b[0;32mraise\u001b[0m \u001b[0mDataError\u001b[0m\u001b[0;34m(\u001b[0m\u001b[0;34m'No numeric types to aggregate'\u001b[0m\u001b[0;34m)\u001b[0m\u001b[0;34m\u001b[0m\u001b[0m\n\u001b[0m\u001b[1;32m   1057\u001b[0m \u001b[0;34m\u001b[0m\u001b[0m\n",
         "\u001b[0;31mDataError\u001b[0m: No numeric types to aggregate",
         "\nDuring handling of the above exception, another exception occurred:\n",
         "\u001b[0;31mValueError\u001b[0m                                Traceback (most recent call last)",
         "\u001b[0;32m~/anaconda3/lib/python3.6/site-packages/pandas/core/groupby/groupby.py\u001b[0m in \u001b[0;36magg_series\u001b[0;34m(self, obj, func)\u001b[0m\n\u001b[1;32m   2669\u001b[0m         \u001b[0;32mtry\u001b[0m\u001b[0;34m:\u001b[0m\u001b[0;34m\u001b[0m\u001b[0m\n\u001b[0;32m-> 2670\u001b[0;31m             \u001b[0;32mreturn\u001b[0m \u001b[0mself\u001b[0m\u001b[0;34m.\u001b[0m\u001b[0m_aggregate_series_fast\u001b[0m\u001b[0;34m(\u001b[0m\u001b[0mobj\u001b[0m\u001b[0;34m,\u001b[0m \u001b[0mfunc\u001b[0m\u001b[0;34m)\u001b[0m\u001b[0;34m\u001b[0m\u001b[0m\n\u001b[0m\u001b[1;32m   2671\u001b[0m         \u001b[0;32mexcept\u001b[0m \u001b[0mException\u001b[0m\u001b[0;34m:\u001b[0m\u001b[0;34m\u001b[0m\u001b[0m\n",
         "\u001b[0;32m~/anaconda3/lib/python3.6/site-packages/pandas/core/groupby/groupby.py\u001b[0m in \u001b[0;36m_aggregate_series_fast\u001b[0;34m(self, obj, func)\u001b[0m\n\u001b[1;32m   2689\u001b[0m                                           dummy)\n\u001b[0;32m-> 2690\u001b[0;31m         \u001b[0mresult\u001b[0m\u001b[0;34m,\u001b[0m \u001b[0mcounts\u001b[0m \u001b[0;34m=\u001b[0m \u001b[0mgrouper\u001b[0m\u001b[0;34m.\u001b[0m\u001b[0mget_result\u001b[0m\u001b[0;34m(\u001b[0m\u001b[0;34m)\u001b[0m\u001b[0;34m\u001b[0m\u001b[0m\n\u001b[0m\u001b[1;32m   2691\u001b[0m         \u001b[0;32mreturn\u001b[0m \u001b[0mresult\u001b[0m\u001b[0;34m,\u001b[0m \u001b[0mcounts\u001b[0m\u001b[0;34m\u001b[0m\u001b[0m\n",
         "\u001b[0;32mpandas/_libs/reduction.pyx\u001b[0m in \u001b[0;36mpandas._libs.reduction.SeriesGrouper.get_result\u001b[0;34m()\u001b[0m\n",
         "\u001b[0;32mpandas/_libs/reduction.pyx\u001b[0m in \u001b[0;36mpandas._libs.reduction.SeriesGrouper.get_result\u001b[0;34m()\u001b[0m\n",
         "\u001b[0;32mpandas/_libs/reduction.pyx\u001b[0m in \u001b[0;36mpandas._libs.reduction._get_result_array\u001b[0;34m()\u001b[0m\n",
         "\u001b[0;31mValueError\u001b[0m: function does not reduce",
         "\nDuring handling of the above exception, another exception occurred:\n",
         "\u001b[0;31mKeyboardInterrupt\u001b[0m                         Traceback (most recent call last)",
         "\u001b[0;32m<timed exec>\u001b[0m in \u001b[0;36m<module>\u001b[0;34m\u001b[0m\n",
         "\u001b[0;32m~/anaconda3/lib/python3.6/site-packages/sklearn/model_selection/_search.py\u001b[0m in \u001b[0;36mfit\u001b[0;34m(self, X, y, groups, **fit_params)\u001b[0m\n\u001b[1;32m    720\u001b[0m                 \u001b[0;32mreturn\u001b[0m \u001b[0mresults_container\u001b[0m\u001b[0;34m[\u001b[0m\u001b[0;36m0\u001b[0m\u001b[0;34m]\u001b[0m\u001b[0;34m\u001b[0m\u001b[0m\n\u001b[1;32m    721\u001b[0m \u001b[0;34m\u001b[0m\u001b[0m\n\u001b[0;32m--> 722\u001b[0;31m             \u001b[0mself\u001b[0m\u001b[0;34m.\u001b[0m\u001b[0m_run_search\u001b[0m\u001b[0;34m(\u001b[0m\u001b[0mevaluate_candidates\u001b[0m\u001b[0;34m)\u001b[0m\u001b[0;34m\u001b[0m\u001b[0m\n\u001b[0m\u001b[1;32m    723\u001b[0m \u001b[0;34m\u001b[0m\u001b[0m\n\u001b[1;32m    724\u001b[0m         \u001b[0mresults\u001b[0m \u001b[0;34m=\u001b[0m \u001b[0mresults_container\u001b[0m\u001b[0;34m[\u001b[0m\u001b[0;36m0\u001b[0m\u001b[0;34m]\u001b[0m\u001b[0;34m\u001b[0m\u001b[0m\n",
         "\u001b[0;32m~/anaconda3/lib/python3.6/site-packages/sklearn/model_selection/_search.py\u001b[0m in \u001b[0;36m_run_search\u001b[0;34m(self, evaluate_candidates)\u001b[0m\n\u001b[1;32m   1189\u001b[0m     \u001b[0;32mdef\u001b[0m \u001b[0m_run_search\u001b[0m\u001b[0;34m(\u001b[0m\u001b[0mself\u001b[0m\u001b[0;34m,\u001b[0m \u001b[0mevaluate_candidates\u001b[0m\u001b[0;34m)\u001b[0m\u001b[0;34m:\u001b[0m\u001b[0;34m\u001b[0m\u001b[0m\n\u001b[1;32m   1190\u001b[0m         \u001b[0;34m\"\"\"Search all candidates in param_grid\"\"\"\u001b[0m\u001b[0;34m\u001b[0m\u001b[0m\n\u001b[0;32m-> 1191\u001b[0;31m         \u001b[0mevaluate_candidates\u001b[0m\u001b[0;34m(\u001b[0m\u001b[0mParameterGrid\u001b[0m\u001b[0;34m(\u001b[0m\u001b[0mself\u001b[0m\u001b[0;34m.\u001b[0m\u001b[0mparam_grid\u001b[0m\u001b[0;34m)\u001b[0m\u001b[0;34m)\u001b[0m\u001b[0;34m\u001b[0m\u001b[0m\n\u001b[0m\u001b[1;32m   1192\u001b[0m \u001b[0;34m\u001b[0m\u001b[0m\n\u001b[1;32m   1193\u001b[0m \u001b[0;34m\u001b[0m\u001b[0m\n",
         "\u001b[0;32m~/anaconda3/lib/python3.6/site-packages/sklearn/model_selection/_search.py\u001b[0m in \u001b[0;36mevaluate_candidates\u001b[0;34m(candidate_params)\u001b[0m\n\u001b[1;32m    709\u001b[0m                                \u001b[0;32mfor\u001b[0m \u001b[0mparameters\u001b[0m\u001b[0;34m,\u001b[0m \u001b[0;34m(\u001b[0m\u001b[0mtrain\u001b[0m\u001b[0;34m,\u001b[0m \u001b[0mtest\u001b[0m\u001b[0;34m)\u001b[0m\u001b[0;34m\u001b[0m\u001b[0m\n\u001b[1;32m    710\u001b[0m                                in product(candidate_params,\n\u001b[0;32m--> 711\u001b[0;31m                                           cv.split(X, y, groups)))\n\u001b[0m\u001b[1;32m    712\u001b[0m \u001b[0;34m\u001b[0m\u001b[0m\n\u001b[1;32m    713\u001b[0m                 \u001b[0mall_candidate_params\u001b[0m\u001b[0;34m.\u001b[0m\u001b[0mextend\u001b[0m\u001b[0;34m(\u001b[0m\u001b[0mcandidate_params\u001b[0m\u001b[0;34m)\u001b[0m\u001b[0;34m\u001b[0m\u001b[0m\n",
         "\u001b[0;32m~/anaconda3/lib/python3.6/site-packages/sklearn/externals/joblib/parallel.py\u001b[0m in \u001b[0;36m__call__\u001b[0;34m(self, iterable)\u001b[0m\n\u001b[1;32m    981\u001b[0m             \u001b[0;31m# remaining jobs.\u001b[0m\u001b[0;34m\u001b[0m\u001b[0;34m\u001b[0m\u001b[0m\n\u001b[1;32m    982\u001b[0m             \u001b[0mself\u001b[0m\u001b[0;34m.\u001b[0m\u001b[0m_iterating\u001b[0m \u001b[0;34m=\u001b[0m \u001b[0;32mFalse\u001b[0m\u001b[0;34m\u001b[0m\u001b[0m\n\u001b[0;32m--> 983\u001b[0;31m             \u001b[0;32mif\u001b[0m \u001b[0mself\u001b[0m\u001b[0;34m.\u001b[0m\u001b[0mdispatch_one_batch\u001b[0m\u001b[0;34m(\u001b[0m\u001b[0miterator\u001b[0m\u001b[0;34m)\u001b[0m\u001b[0;34m:\u001b[0m\u001b[0;34m\u001b[0m\u001b[0m\n\u001b[0m\u001b[1;32m    984\u001b[0m                 \u001b[0mself\u001b[0m\u001b[0;34m.\u001b[0m\u001b[0m_iterating\u001b[0m \u001b[0;34m=\u001b[0m \u001b[0mself\u001b[0m\u001b[0;34m.\u001b[0m\u001b[0m_original_iterator\u001b[0m \u001b[0;32mis\u001b[0m \u001b[0;32mnot\u001b[0m \u001b[0;32mNone\u001b[0m\u001b[0;34m\u001b[0m\u001b[0m\n\u001b[1;32m    985\u001b[0m \u001b[0;34m\u001b[0m\u001b[0m\n",
         "\u001b[0;32m~/anaconda3/lib/python3.6/site-packages/sklearn/externals/joblib/parallel.py\u001b[0m in \u001b[0;36mdispatch_one_batch\u001b[0;34m(self, iterator)\u001b[0m\n\u001b[1;32m    823\u001b[0m                 \u001b[0;32mreturn\u001b[0m \u001b[0;32mFalse\u001b[0m\u001b[0;34m\u001b[0m\u001b[0m\n\u001b[1;32m    824\u001b[0m             \u001b[0;32melse\u001b[0m\u001b[0;34m:\u001b[0m\u001b[0;34m\u001b[0m\u001b[0m\n\u001b[0;32m--> 825\u001b[0;31m                 \u001b[0mself\u001b[0m\u001b[0;34m.\u001b[0m\u001b[0m_dispatch\u001b[0m\u001b[0;34m(\u001b[0m\u001b[0mtasks\u001b[0m\u001b[0;34m)\u001b[0m\u001b[0;34m\u001b[0m\u001b[0m\n\u001b[0m\u001b[1;32m    826\u001b[0m                 \u001b[0;32mreturn\u001b[0m \u001b[0;32mTrue\u001b[0m\u001b[0;34m\u001b[0m\u001b[0m\n\u001b[1;32m    827\u001b[0m \u001b[0;34m\u001b[0m\u001b[0m\n",
         "\u001b[0;32m~/anaconda3/lib/python3.6/site-packages/sklearn/externals/joblib/parallel.py\u001b[0m in \u001b[0;36m_dispatch\u001b[0;34m(self, batch)\u001b[0m\n\u001b[1;32m    780\u001b[0m         \u001b[0;32mwith\u001b[0m \u001b[0mself\u001b[0m\u001b[0;34m.\u001b[0m\u001b[0m_lock\u001b[0m\u001b[0;34m:\u001b[0m\u001b[0;34m\u001b[0m\u001b[0m\n\u001b[1;32m    781\u001b[0m             \u001b[0mjob_idx\u001b[0m \u001b[0;34m=\u001b[0m \u001b[0mlen\u001b[0m\u001b[0;34m(\u001b[0m\u001b[0mself\u001b[0m\u001b[0;34m.\u001b[0m\u001b[0m_jobs\u001b[0m\u001b[0;34m)\u001b[0m\u001b[0;34m\u001b[0m\u001b[0m\n\u001b[0;32m--> 782\u001b[0;31m             \u001b[0mjob\u001b[0m \u001b[0;34m=\u001b[0m \u001b[0mself\u001b[0m\u001b[0;34m.\u001b[0m\u001b[0m_backend\u001b[0m\u001b[0;34m.\u001b[0m\u001b[0mapply_async\u001b[0m\u001b[0;34m(\u001b[0m\u001b[0mbatch\u001b[0m\u001b[0;34m,\u001b[0m \u001b[0mcallback\u001b[0m\u001b[0;34m=\u001b[0m\u001b[0mcb\u001b[0m\u001b[0;34m)\u001b[0m\u001b[0;34m\u001b[0m\u001b[0m\n\u001b[0m\u001b[1;32m    783\u001b[0m             \u001b[0;31m# A job can complete so quickly than its callback is\u001b[0m\u001b[0;34m\u001b[0m\u001b[0;34m\u001b[0m\u001b[0m\n\u001b[1;32m    784\u001b[0m             \u001b[0;31m# called before we get here, causing self._jobs to\u001b[0m\u001b[0;34m\u001b[0m\u001b[0;34m\u001b[0m\u001b[0m\n",
         "\u001b[0;32m~/anaconda3/lib/python3.6/site-packages/sklearn/externals/joblib/_parallel_backends.py\u001b[0m in \u001b[0;36mapply_async\u001b[0;34m(self, func, callback)\u001b[0m\n\u001b[1;32m    180\u001b[0m     \u001b[0;32mdef\u001b[0m \u001b[0mapply_async\u001b[0m\u001b[0;34m(\u001b[0m\u001b[0mself\u001b[0m\u001b[0;34m,\u001b[0m \u001b[0mfunc\u001b[0m\u001b[0;34m,\u001b[0m \u001b[0mcallback\u001b[0m\u001b[0;34m=\u001b[0m\u001b[0;32mNone\u001b[0m\u001b[0;34m)\u001b[0m\u001b[0;34m:\u001b[0m\u001b[0;34m\u001b[0m\u001b[0m\n\u001b[1;32m    181\u001b[0m         \u001b[0;34m\"\"\"Schedule a func to be run\"\"\"\u001b[0m\u001b[0;34m\u001b[0m\u001b[0m\n\u001b[0;32m--> 182\u001b[0;31m         \u001b[0mresult\u001b[0m \u001b[0;34m=\u001b[0m \u001b[0mImmediateResult\u001b[0m\u001b[0;34m(\u001b[0m\u001b[0mfunc\u001b[0m\u001b[0;34m)\u001b[0m\u001b[0;34m\u001b[0m\u001b[0m\n\u001b[0m\u001b[1;32m    183\u001b[0m         \u001b[0;32mif\u001b[0m \u001b[0mcallback\u001b[0m\u001b[0;34m:\u001b[0m\u001b[0;34m\u001b[0m\u001b[0m\n\u001b[1;32m    184\u001b[0m             \u001b[0mcallback\u001b[0m\u001b[0;34m(\u001b[0m\u001b[0mresult\u001b[0m\u001b[0;34m)\u001b[0m\u001b[0;34m\u001b[0m\u001b[0m\n",
         "\u001b[0;32m~/anaconda3/lib/python3.6/site-packages/sklearn/externals/joblib/_parallel_backends.py\u001b[0m in \u001b[0;36m__init__\u001b[0;34m(self, batch)\u001b[0m\n\u001b[1;32m    543\u001b[0m         \u001b[0;31m# Don't delay the application, to avoid keeping the input\u001b[0m\u001b[0;34m\u001b[0m\u001b[0;34m\u001b[0m\u001b[0m\n\u001b[1;32m    544\u001b[0m         \u001b[0;31m# arguments in memory\u001b[0m\u001b[0;34m\u001b[0m\u001b[0;34m\u001b[0m\u001b[0m\n\u001b[0;32m--> 545\u001b[0;31m         \u001b[0mself\u001b[0m\u001b[0;34m.\u001b[0m\u001b[0mresults\u001b[0m \u001b[0;34m=\u001b[0m \u001b[0mbatch\u001b[0m\u001b[0;34m(\u001b[0m\u001b[0;34m)\u001b[0m\u001b[0;34m\u001b[0m\u001b[0m\n\u001b[0m\u001b[1;32m    546\u001b[0m \u001b[0;34m\u001b[0m\u001b[0m\n\u001b[1;32m    547\u001b[0m     \u001b[0;32mdef\u001b[0m \u001b[0mget\u001b[0m\u001b[0;34m(\u001b[0m\u001b[0mself\u001b[0m\u001b[0;34m)\u001b[0m\u001b[0;34m:\u001b[0m\u001b[0;34m\u001b[0m\u001b[0m\n",
         "\u001b[0;32m~/anaconda3/lib/python3.6/site-packages/sklearn/externals/joblib/parallel.py\u001b[0m in \u001b[0;36m__call__\u001b[0;34m(self)\u001b[0m\n\u001b[1;32m    259\u001b[0m         \u001b[0;32mwith\u001b[0m \u001b[0mparallel_backend\u001b[0m\u001b[0;34m(\u001b[0m\u001b[0mself\u001b[0m\u001b[0;34m.\u001b[0m\u001b[0m_backend\u001b[0m\u001b[0;34m)\u001b[0m\u001b[0;34m:\u001b[0m\u001b[0;34m\u001b[0m\u001b[0m\n\u001b[1;32m    260\u001b[0m             return [func(*args, **kwargs)\n\u001b[0;32m--> 261\u001b[0;31m                     for func, args, kwargs in self.items]\n\u001b[0m\u001b[1;32m    262\u001b[0m \u001b[0;34m\u001b[0m\u001b[0m\n\u001b[1;32m    263\u001b[0m     \u001b[0;32mdef\u001b[0m \u001b[0m__len__\u001b[0m\u001b[0;34m(\u001b[0m\u001b[0mself\u001b[0m\u001b[0;34m)\u001b[0m\u001b[0;34m:\u001b[0m\u001b[0;34m\u001b[0m\u001b[0m\n",
         "\u001b[0;32m~/anaconda3/lib/python3.6/site-packages/sklearn/externals/joblib/parallel.py\u001b[0m in \u001b[0;36m<listcomp>\u001b[0;34m(.0)\u001b[0m\n\u001b[1;32m    259\u001b[0m         \u001b[0;32mwith\u001b[0m \u001b[0mparallel_backend\u001b[0m\u001b[0;34m(\u001b[0m\u001b[0mself\u001b[0m\u001b[0;34m.\u001b[0m\u001b[0m_backend\u001b[0m\u001b[0;34m)\u001b[0m\u001b[0;34m:\u001b[0m\u001b[0;34m\u001b[0m\u001b[0m\n\u001b[1;32m    260\u001b[0m             return [func(*args, **kwargs)\n\u001b[0;32m--> 261\u001b[0;31m                     for func, args, kwargs in self.items]\n\u001b[0m\u001b[1;32m    262\u001b[0m \u001b[0;34m\u001b[0m\u001b[0m\n\u001b[1;32m    263\u001b[0m     \u001b[0;32mdef\u001b[0m \u001b[0m__len__\u001b[0m\u001b[0;34m(\u001b[0m\u001b[0mself\u001b[0m\u001b[0;34m)\u001b[0m\u001b[0;34m:\u001b[0m\u001b[0;34m\u001b[0m\u001b[0m\n",
         "\u001b[0;32m~/anaconda3/lib/python3.6/site-packages/sklearn/model_selection/_validation.py\u001b[0m in \u001b[0;36m_fit_and_score\u001b[0;34m(estimator, X, y, scorer, train, test, verbose, parameters, fit_params, return_train_score, return_parameters, return_n_test_samples, return_times, return_estimator, error_score)\u001b[0m\n\u001b[1;32m    526\u001b[0m             \u001b[0mestimator\u001b[0m\u001b[0;34m.\u001b[0m\u001b[0mfit\u001b[0m\u001b[0;34m(\u001b[0m\u001b[0mX_train\u001b[0m\u001b[0;34m,\u001b[0m \u001b[0;34m**\u001b[0m\u001b[0mfit_params\u001b[0m\u001b[0;34m)\u001b[0m\u001b[0;34m\u001b[0m\u001b[0m\n\u001b[1;32m    527\u001b[0m         \u001b[0;32melse\u001b[0m\u001b[0;34m:\u001b[0m\u001b[0;34m\u001b[0m\u001b[0m\n\u001b[0;32m--> 528\u001b[0;31m             \u001b[0mestimator\u001b[0m\u001b[0;34m.\u001b[0m\u001b[0mfit\u001b[0m\u001b[0;34m(\u001b[0m\u001b[0mX_train\u001b[0m\u001b[0;34m,\u001b[0m \u001b[0my_train\u001b[0m\u001b[0;34m,\u001b[0m \u001b[0;34m**\u001b[0m\u001b[0mfit_params\u001b[0m\u001b[0;34m)\u001b[0m\u001b[0;34m\u001b[0m\u001b[0m\n\u001b[0m\u001b[1;32m    529\u001b[0m \u001b[0;34m\u001b[0m\u001b[0m\n\u001b[1;32m    530\u001b[0m     \u001b[0;32mexcept\u001b[0m \u001b[0mException\u001b[0m \u001b[0;32mas\u001b[0m \u001b[0me\u001b[0m\u001b[0;34m:\u001b[0m\u001b[0;34m\u001b[0m\u001b[0m\n",
         "\u001b[0;32m<ipython-input-211-ac3a3a662633>\u001b[0m in \u001b[0;36mfit\u001b[0;34m(self, X, y)\u001b[0m\n\u001b[1;32m     11\u001b[0m \u001b[0;34m\u001b[0m\u001b[0m\n\u001b[1;32m     12\u001b[0m         \u001b[0mself\u001b[0m\u001b[0;34m.\u001b[0m\u001b[0muser_map_\u001b[0m \u001b[0;34m=\u001b[0m \u001b[0mmake_category_map\u001b[0m\u001b[0;34m(\u001b[0m\u001b[0mX\u001b[0m\u001b[0;34m,\u001b[0m \u001b[0;34m'reviewerID'\u001b[0m\u001b[0;34m)\u001b[0m\u001b[0;34m\u001b[0m\u001b[0m\n\u001b[0;32m---> 13\u001b[0;31m         \u001b[0mself\u001b[0m\u001b[0;34m.\u001b[0m\u001b[0mitem_map_\u001b[0m \u001b[0;34m=\u001b[0m \u001b[0mmake_category_map\u001b[0m\u001b[0;34m(\u001b[0m\u001b[0mtrain\u001b[0m\u001b[0;34m,\u001b[0m \u001b[0;34m'itemID'\u001b[0m\u001b[0;34m)\u001b[0m\u001b[0;34m\u001b[0m\u001b[0m\n\u001b[0m\u001b[1;32m     14\u001b[0m         \u001b[0;32mreturn\u001b[0m \u001b[0mself\u001b[0m\u001b[0;34m\u001b[0m\u001b[0m\n\u001b[1;32m     15\u001b[0m \u001b[0;34m\u001b[0m\u001b[0m\n",
         "\u001b[0;32m<ipython-input-160-6abd829fd616>\u001b[0m in \u001b[0;36mmake_category_map\u001b[0;34m(df, key)\u001b[0m\n\u001b[1;32m      7\u001b[0m         \u001b[0;34m.\u001b[0m\u001b[0mmerge\u001b[0m\u001b[0;34m(\u001b[0m\u001b[0mitem_categories\u001b[0m\u001b[0;34m,\u001b[0m \u001b[0mleft_on\u001b[0m\u001b[0;34m=\u001b[0m\u001b[0;34m'itemID'\u001b[0m\u001b[0;34m,\u001b[0m \u001b[0mright_index\u001b[0m\u001b[0;34m=\u001b[0m\u001b[0;32mTrue\u001b[0m\u001b[0;34m,\u001b[0m \u001b[0mhow\u001b[0m\u001b[0;34m=\u001b[0m\u001b[0;34m'left'\u001b[0m\u001b[0;34m)\u001b[0m\u001b[0;34m\u001b[0m\u001b[0m\n\u001b[1;32m      8\u001b[0m         \u001b[0;34m.\u001b[0m\u001b[0mgroupby\u001b[0m\u001b[0;34m(\u001b[0m\u001b[0mkey\u001b[0m\u001b[0;34m)\u001b[0m\u001b[0;34m\u001b[0m\u001b[0m\n\u001b[0;32m----> 9\u001b[0;31m         \u001b[0;34m[\u001b[0m\u001b[0;34m'categories'\u001b[0m\u001b[0;34m]\u001b[0m\u001b[0;34m\u001b[0m\u001b[0m\n\u001b[0m\u001b[1;32m     10\u001b[0m         \u001b[0;34m.\u001b[0m\u001b[0msum\u001b[0m\u001b[0;34m(\u001b[0m\u001b[0;34m)\u001b[0m\u001b[0;34m\u001b[0m\u001b[0m\n\u001b[1;32m     11\u001b[0m         \u001b[0;34m.\u001b[0m\u001b[0mapply\u001b[0m\u001b[0;34m(\u001b[0m\u001b[0mcategory_set\u001b[0m\u001b[0;34m)\u001b[0m\u001b[0;34m\u001b[0m\u001b[0m\n",
         "\u001b[0;32m~/anaconda3/lib/python3.6/site-packages/pandas/core/groupby/groupby.py\u001b[0m in \u001b[0;36mf\u001b[0;34m(self, **kwargs)\u001b[0m\n\u001b[1;32m   1425\u001b[0m                 \u001b[0;32mexcept\u001b[0m \u001b[0mException\u001b[0m\u001b[0;34m:\u001b[0m\u001b[0;34m\u001b[0m\u001b[0m\n\u001b[1;32m   1426\u001b[0m                     result = self.aggregate(\n\u001b[0;32m-> 1427\u001b[0;31m                         lambda x: npfunc(x, axis=self.axis))\n\u001b[0m\u001b[1;32m   1428\u001b[0m                     \u001b[0;32mif\u001b[0m \u001b[0m_convert\u001b[0m\u001b[0;34m:\u001b[0m\u001b[0;34m\u001b[0m\u001b[0m\n\u001b[1;32m   1429\u001b[0m                         \u001b[0mresult\u001b[0m \u001b[0;34m=\u001b[0m \u001b[0mresult\u001b[0m\u001b[0;34m.\u001b[0m\u001b[0m_convert\u001b[0m\u001b[0;34m(\u001b[0m\u001b[0mdatetime\u001b[0m\u001b[0;34m=\u001b[0m\u001b[0;32mTrue\u001b[0m\u001b[0;34m)\u001b[0m\u001b[0;34m\u001b[0m\u001b[0m\n",
         "\u001b[0;32m~/anaconda3/lib/python3.6/site-packages/pandas/core/groupby/groupby.py\u001b[0m in \u001b[0;36maggregate\u001b[0;34m(self, func_or_funcs, *args, **kwargs)\u001b[0m\n\u001b[1;32m   3493\u001b[0m \u001b[0;34m\u001b[0m\u001b[0m\n\u001b[1;32m   3494\u001b[0m             \u001b[0;32mtry\u001b[0m\u001b[0;34m:\u001b[0m\u001b[0;34m\u001b[0m\u001b[0m\n\u001b[0;32m-> 3495\u001b[0;31m                 \u001b[0;32mreturn\u001b[0m \u001b[0mself\u001b[0m\u001b[0;34m.\u001b[0m\u001b[0m_python_agg_general\u001b[0m\u001b[0;34m(\u001b[0m\u001b[0mfunc_or_funcs\u001b[0m\u001b[0;34m,\u001b[0m \u001b[0;34m*\u001b[0m\u001b[0margs\u001b[0m\u001b[0;34m,\u001b[0m \u001b[0;34m**\u001b[0m\u001b[0mkwargs\u001b[0m\u001b[0;34m)\u001b[0m\u001b[0;34m\u001b[0m\u001b[0m\n\u001b[0m\u001b[1;32m   3496\u001b[0m             \u001b[0;32mexcept\u001b[0m \u001b[0mException\u001b[0m\u001b[0;34m:\u001b[0m\u001b[0;34m\u001b[0m\u001b[0m\n\u001b[1;32m   3497\u001b[0m                 \u001b[0mresult\u001b[0m \u001b[0;34m=\u001b[0m \u001b[0mself\u001b[0m\u001b[0;34m.\u001b[0m\u001b[0m_aggregate_named\u001b[0m\u001b[0;34m(\u001b[0m\u001b[0mfunc_or_funcs\u001b[0m\u001b[0;34m,\u001b[0m \u001b[0;34m*\u001b[0m\u001b[0margs\u001b[0m\u001b[0;34m,\u001b[0m \u001b[0;34m**\u001b[0m\u001b[0mkwargs\u001b[0m\u001b[0;34m)\u001b[0m\u001b[0;34m\u001b[0m\u001b[0m\n",
         "\u001b[0;32m~/anaconda3/lib/python3.6/site-packages/pandas/core/groupby/groupby.py\u001b[0m in \u001b[0;36m_python_agg_general\u001b[0;34m(self, func, *args, **kwargs)\u001b[0m\n\u001b[1;32m   1066\u001b[0m         \u001b[0;32mfor\u001b[0m \u001b[0mname\u001b[0m\u001b[0;34m,\u001b[0m \u001b[0mobj\u001b[0m \u001b[0;32min\u001b[0m \u001b[0mself\u001b[0m\u001b[0;34m.\u001b[0m\u001b[0m_iterate_slices\u001b[0m\u001b[0;34m(\u001b[0m\u001b[0;34m)\u001b[0m\u001b[0;34m:\u001b[0m\u001b[0;34m\u001b[0m\u001b[0m\n\u001b[1;32m   1067\u001b[0m             \u001b[0;32mtry\u001b[0m\u001b[0;34m:\u001b[0m\u001b[0;34m\u001b[0m\u001b[0m\n\u001b[0;32m-> 1068\u001b[0;31m                 \u001b[0mresult\u001b[0m\u001b[0;34m,\u001b[0m \u001b[0mcounts\u001b[0m \u001b[0;34m=\u001b[0m \u001b[0mself\u001b[0m\u001b[0;34m.\u001b[0m\u001b[0mgrouper\u001b[0m\u001b[0;34m.\u001b[0m\u001b[0magg_series\u001b[0m\u001b[0;34m(\u001b[0m\u001b[0mobj\u001b[0m\u001b[0;34m,\u001b[0m \u001b[0mf\u001b[0m\u001b[0;34m)\u001b[0m\u001b[0;34m\u001b[0m\u001b[0m\n\u001b[0m\u001b[1;32m   1069\u001b[0m                 \u001b[0moutput\u001b[0m\u001b[0;34m[\u001b[0m\u001b[0mname\u001b[0m\u001b[0;34m]\u001b[0m \u001b[0;34m=\u001b[0m \u001b[0mself\u001b[0m\u001b[0;34m.\u001b[0m\u001b[0m_try_cast\u001b[0m\u001b[0;34m(\u001b[0m\u001b[0mresult\u001b[0m\u001b[0;34m,\u001b[0m \u001b[0mobj\u001b[0m\u001b[0;34m,\u001b[0m \u001b[0mnumeric_only\u001b[0m\u001b[0;34m=\u001b[0m\u001b[0;32mTrue\u001b[0m\u001b[0;34m)\u001b[0m\u001b[0;34m\u001b[0m\u001b[0m\n\u001b[1;32m   1070\u001b[0m             \u001b[0;32mexcept\u001b[0m \u001b[0mTypeError\u001b[0m\u001b[0;34m:\u001b[0m\u001b[0;34m\u001b[0m\u001b[0m\n",
         "\u001b[0;32m~/anaconda3/lib/python3.6/site-packages/pandas/core/groupby/groupby.py\u001b[0m in \u001b[0;36magg_series\u001b[0;34m(self, obj, func)\u001b[0m\n\u001b[1;32m   2670\u001b[0m             \u001b[0;32mreturn\u001b[0m \u001b[0mself\u001b[0m\u001b[0;34m.\u001b[0m\u001b[0m_aggregate_series_fast\u001b[0m\u001b[0;34m(\u001b[0m\u001b[0mobj\u001b[0m\u001b[0;34m,\u001b[0m \u001b[0mfunc\u001b[0m\u001b[0;34m)\u001b[0m\u001b[0;34m\u001b[0m\u001b[0m\n\u001b[1;32m   2671\u001b[0m         \u001b[0;32mexcept\u001b[0m \u001b[0mException\u001b[0m\u001b[0;34m:\u001b[0m\u001b[0;34m\u001b[0m\u001b[0m\n\u001b[0;32m-> 2672\u001b[0;31m             \u001b[0;32mreturn\u001b[0m \u001b[0mself\u001b[0m\u001b[0;34m.\u001b[0m\u001b[0m_aggregate_series_pure_python\u001b[0m\u001b[0;34m(\u001b[0m\u001b[0mobj\u001b[0m\u001b[0;34m,\u001b[0m \u001b[0mfunc\u001b[0m\u001b[0;34m)\u001b[0m\u001b[0;34m\u001b[0m\u001b[0m\n\u001b[0m\u001b[1;32m   2673\u001b[0m \u001b[0;34m\u001b[0m\u001b[0m\n\u001b[1;32m   2674\u001b[0m     \u001b[0;32mdef\u001b[0m \u001b[0m_aggregate_series_fast\u001b[0m\u001b[0;34m(\u001b[0m\u001b[0mself\u001b[0m\u001b[0;34m,\u001b[0m \u001b[0mobj\u001b[0m\u001b[0;34m,\u001b[0m \u001b[0mfunc\u001b[0m\u001b[0;34m)\u001b[0m\u001b[0;34m:\u001b[0m\u001b[0;34m\u001b[0m\u001b[0m\n",
         "\u001b[0;32m~/anaconda3/lib/python3.6/site-packages/pandas/core/groupby/groupby.py\u001b[0m in \u001b[0;36m_aggregate_series_pure_python\u001b[0;34m(self, obj, func)\u001b[0m\n\u001b[1;32m   2701\u001b[0m \u001b[0;34m\u001b[0m\u001b[0m\n\u001b[1;32m   2702\u001b[0m         \u001b[0;32mfor\u001b[0m \u001b[0mlabel\u001b[0m\u001b[0;34m,\u001b[0m \u001b[0mgroup\u001b[0m \u001b[0;32min\u001b[0m \u001b[0msplitter\u001b[0m\u001b[0;34m:\u001b[0m\u001b[0;34m\u001b[0m\u001b[0m\n\u001b[0;32m-> 2703\u001b[0;31m             \u001b[0mres\u001b[0m \u001b[0;34m=\u001b[0m \u001b[0mfunc\u001b[0m\u001b[0;34m(\u001b[0m\u001b[0mgroup\u001b[0m\u001b[0;34m)\u001b[0m\u001b[0;34m\u001b[0m\u001b[0m\n\u001b[0m\u001b[1;32m   2704\u001b[0m             \u001b[0;32mif\u001b[0m \u001b[0mresult\u001b[0m \u001b[0;32mis\u001b[0m \u001b[0;32mNone\u001b[0m\u001b[0;34m:\u001b[0m\u001b[0;34m\u001b[0m\u001b[0m\n\u001b[1;32m   2705\u001b[0m                 \u001b[0;32mif\u001b[0m \u001b[0;34m(\u001b[0m\u001b[0misinstance\u001b[0m\u001b[0;34m(\u001b[0m\u001b[0mres\u001b[0m\u001b[0;34m,\u001b[0m \u001b[0;34m(\u001b[0m\u001b[0mSeries\u001b[0m\u001b[0;34m,\u001b[0m \u001b[0mIndex\u001b[0m\u001b[0;34m,\u001b[0m \u001b[0mnp\u001b[0m\u001b[0;34m.\u001b[0m\u001b[0mndarray\u001b[0m\u001b[0;34m)\u001b[0m\u001b[0;34m)\u001b[0m\u001b[0;34m)\u001b[0m\u001b[0;34m:\u001b[0m\u001b[0;34m\u001b[0m\u001b[0m\n",
         "\u001b[0;32m~/anaconda3/lib/python3.6/site-packages/pandas/core/groupby/groupby.py\u001b[0m in \u001b[0;36m<lambda>\u001b[0;34m(x)\u001b[0m\n\u001b[1;32m   1060\u001b[0m     \u001b[0;32mdef\u001b[0m \u001b[0m_python_agg_general\u001b[0m\u001b[0;34m(\u001b[0m\u001b[0mself\u001b[0m\u001b[0;34m,\u001b[0m \u001b[0mfunc\u001b[0m\u001b[0;34m,\u001b[0m \u001b[0;34m*\u001b[0m\u001b[0margs\u001b[0m\u001b[0;34m,\u001b[0m \u001b[0;34m**\u001b[0m\u001b[0mkwargs\u001b[0m\u001b[0;34m)\u001b[0m\u001b[0;34m:\u001b[0m\u001b[0;34m\u001b[0m\u001b[0m\n\u001b[1;32m   1061\u001b[0m         \u001b[0mfunc\u001b[0m \u001b[0;34m=\u001b[0m \u001b[0mself\u001b[0m\u001b[0;34m.\u001b[0m\u001b[0m_is_builtin_func\u001b[0m\u001b[0;34m(\u001b[0m\u001b[0mfunc\u001b[0m\u001b[0;34m)\u001b[0m\u001b[0;34m\u001b[0m\u001b[0m\n\u001b[0;32m-> 1062\u001b[0;31m         \u001b[0mf\u001b[0m \u001b[0;34m=\u001b[0m \u001b[0;32mlambda\u001b[0m \u001b[0mx\u001b[0m\u001b[0;34m:\u001b[0m \u001b[0mfunc\u001b[0m\u001b[0;34m(\u001b[0m\u001b[0mx\u001b[0m\u001b[0;34m,\u001b[0m \u001b[0;34m*\u001b[0m\u001b[0margs\u001b[0m\u001b[0;34m,\u001b[0m \u001b[0;34m**\u001b[0m\u001b[0mkwargs\u001b[0m\u001b[0;34m)\u001b[0m\u001b[0;34m\u001b[0m\u001b[0m\n\u001b[0m\u001b[1;32m   1063\u001b[0m \u001b[0;34m\u001b[0m\u001b[0m\n\u001b[1;32m   1064\u001b[0m         \u001b[0;31m# iterate through \"columns\" ex exclusions to populate output dict\u001b[0m\u001b[0;34m\u001b[0m\u001b[0;34m\u001b[0m\u001b[0m\n",
         "\u001b[0;32m~/anaconda3/lib/python3.6/site-packages/pandas/core/groupby/groupby.py\u001b[0m in \u001b[0;36m<lambda>\u001b[0;34m(x)\u001b[0m\n\u001b[1;32m   1425\u001b[0m                 \u001b[0;32mexcept\u001b[0m \u001b[0mException\u001b[0m\u001b[0;34m:\u001b[0m\u001b[0;34m\u001b[0m\u001b[0m\n\u001b[1;32m   1426\u001b[0m                     result = self.aggregate(\n\u001b[0;32m-> 1427\u001b[0;31m                         lambda x: npfunc(x, axis=self.axis))\n\u001b[0m\u001b[1;32m   1428\u001b[0m                     \u001b[0;32mif\u001b[0m \u001b[0m_convert\u001b[0m\u001b[0;34m:\u001b[0m\u001b[0;34m\u001b[0m\u001b[0m\n\u001b[1;32m   1429\u001b[0m                         \u001b[0mresult\u001b[0m \u001b[0;34m=\u001b[0m \u001b[0mresult\u001b[0m\u001b[0;34m.\u001b[0m\u001b[0m_convert\u001b[0m\u001b[0;34m(\u001b[0m\u001b[0mdatetime\u001b[0m\u001b[0;34m=\u001b[0m\u001b[0;32mTrue\u001b[0m\u001b[0;34m)\u001b[0m\u001b[0;34m\u001b[0m\u001b[0m\n",
         "\u001b[0;32m~/anaconda3/lib/python3.6/site-packages/numpy/core/fromnumeric.py\u001b[0m in \u001b[0;36msum\u001b[0;34m(a, axis, dtype, out, keepdims, initial)\u001b[0m\n\u001b[1;32m   1928\u001b[0m \u001b[0;34m\u001b[0m\u001b[0m\n\u001b[1;32m   1929\u001b[0m     return _wrapreduction(a, np.add, 'sum', axis, dtype, out, keepdims=keepdims,\n\u001b[0;32m-> 1930\u001b[0;31m                           initial=initial)\n\u001b[0m\u001b[1;32m   1931\u001b[0m \u001b[0;34m\u001b[0m\u001b[0m\n\u001b[1;32m   1932\u001b[0m \u001b[0;34m\u001b[0m\u001b[0m\n",
         "\u001b[0;32m~/anaconda3/lib/python3.6/site-packages/numpy/core/fromnumeric.py\u001b[0m in \u001b[0;36m_wrapreduction\u001b[0;34m(obj, ufunc, method, axis, dtype, out, **kwargs)\u001b[0m\n\u001b[1;32m     79\u001b[0m                 \u001b[0;32mreturn\u001b[0m \u001b[0mreduction\u001b[0m\u001b[0;34m(\u001b[0m\u001b[0maxis\u001b[0m\u001b[0;34m=\u001b[0m\u001b[0maxis\u001b[0m\u001b[0;34m,\u001b[0m \u001b[0mdtype\u001b[0m\u001b[0;34m=\u001b[0m\u001b[0mdtype\u001b[0m\u001b[0;34m,\u001b[0m \u001b[0mout\u001b[0m\u001b[0;34m=\u001b[0m\u001b[0mout\u001b[0m\u001b[0;34m,\u001b[0m \u001b[0;34m**\u001b[0m\u001b[0mpasskwargs\u001b[0m\u001b[0;34m)\u001b[0m\u001b[0;34m\u001b[0m\u001b[0m\n\u001b[1;32m     80\u001b[0m             \u001b[0;32melse\u001b[0m\u001b[0;34m:\u001b[0m\u001b[0;34m\u001b[0m\u001b[0m\n\u001b[0;32m---> 81\u001b[0;31m                 \u001b[0;32mreturn\u001b[0m \u001b[0mreduction\u001b[0m\u001b[0;34m(\u001b[0m\u001b[0maxis\u001b[0m\u001b[0;34m=\u001b[0m\u001b[0maxis\u001b[0m\u001b[0;34m,\u001b[0m \u001b[0mout\u001b[0m\u001b[0;34m=\u001b[0m\u001b[0mout\u001b[0m\u001b[0;34m,\u001b[0m \u001b[0;34m**\u001b[0m\u001b[0mpasskwargs\u001b[0m\u001b[0;34m)\u001b[0m\u001b[0;34m\u001b[0m\u001b[0m\n\u001b[0m\u001b[1;32m     82\u001b[0m \u001b[0;34m\u001b[0m\u001b[0m\n\u001b[1;32m     83\u001b[0m     \u001b[0;32mreturn\u001b[0m \u001b[0mufunc\u001b[0m\u001b[0;34m.\u001b[0m\u001b[0mreduce\u001b[0m\u001b[0;34m(\u001b[0m\u001b[0mobj\u001b[0m\u001b[0;34m,\u001b[0m \u001b[0maxis\u001b[0m\u001b[0;34m,\u001b[0m \u001b[0mdtype\u001b[0m\u001b[0;34m,\u001b[0m \u001b[0mout\u001b[0m\u001b[0;34m,\u001b[0m \u001b[0;34m**\u001b[0m\u001b[0mpasskwargs\u001b[0m\u001b[0;34m)\u001b[0m\u001b[0;34m\u001b[0m\u001b[0m\n",
         "\u001b[0;32m~/anaconda3/lib/python3.6/site-packages/pandas/core/generic.py\u001b[0m in \u001b[0;36mstat_func\u001b[0;34m(self, axis, skipna, level, numeric_only, min_count, **kwargs)\u001b[0m\n\u001b[1;32m   9591\u001b[0m                                       skipna=skipna, min_count=min_count)\n\u001b[1;32m   9592\u001b[0m         return self._reduce(f, name, axis=axis, skipna=skipna,\n\u001b[0;32m-> 9593\u001b[0;31m                             numeric_only=numeric_only, min_count=min_count)\n\u001b[0m\u001b[1;32m   9594\u001b[0m \u001b[0;34m\u001b[0m\u001b[0m\n\u001b[1;32m   9595\u001b[0m     \u001b[0;32mreturn\u001b[0m \u001b[0mset_function_name\u001b[0m\u001b[0;34m(\u001b[0m\u001b[0mstat_func\u001b[0m\u001b[0;34m,\u001b[0m \u001b[0mname\u001b[0m\u001b[0;34m,\u001b[0m \u001b[0mcls\u001b[0m\u001b[0;34m)\u001b[0m\u001b[0;34m\u001b[0m\u001b[0m\n",
         "\u001b[0;32m~/anaconda3/lib/python3.6/site-packages/pandas/core/series.py\u001b[0m in \u001b[0;36m_reduce\u001b[0;34m(self, op, name, axis, skipna, numeric_only, filter_type, **kwds)\u001b[0m\n\u001b[1;32m   3219\u001b[0m                                           'numeric_only.'.format(name))\n\u001b[1;32m   3220\u001b[0m             \u001b[0;32mwith\u001b[0m \u001b[0mnp\u001b[0m\u001b[0;34m.\u001b[0m\u001b[0merrstate\u001b[0m\u001b[0;34m(\u001b[0m\u001b[0mall\u001b[0m\u001b[0;34m=\u001b[0m\u001b[0;34m'ignore'\u001b[0m\u001b[0;34m)\u001b[0m\u001b[0;34m:\u001b[0m\u001b[0;34m\u001b[0m\u001b[0m\n\u001b[0;32m-> 3221\u001b[0;31m                 \u001b[0;32mreturn\u001b[0m \u001b[0mop\u001b[0m\u001b[0;34m(\u001b[0m\u001b[0mdelegate\u001b[0m\u001b[0;34m,\u001b[0m \u001b[0mskipna\u001b[0m\u001b[0;34m=\u001b[0m\u001b[0mskipna\u001b[0m\u001b[0;34m,\u001b[0m \u001b[0;34m**\u001b[0m\u001b[0mkwds\u001b[0m\u001b[0;34m)\u001b[0m\u001b[0;34m\u001b[0m\u001b[0m\n\u001b[0m\u001b[1;32m   3222\u001b[0m \u001b[0;34m\u001b[0m\u001b[0m\n\u001b[1;32m   3223\u001b[0m         return delegate._reduce(op=op, name=name, axis=axis, skipna=skipna,\n",
         "\u001b[0;32m~/anaconda3/lib/python3.6/site-packages/pandas/core/nanops.py\u001b[0m in \u001b[0;36m_f\u001b[0;34m(*args, **kwargs)\u001b[0m\n\u001b[1;32m     75\u001b[0m             \u001b[0;32mtry\u001b[0m\u001b[0;34m:\u001b[0m\u001b[0;34m\u001b[0m\u001b[0m\n\u001b[1;32m     76\u001b[0m                 \u001b[0;32mwith\u001b[0m \u001b[0mnp\u001b[0m\u001b[0;34m.\u001b[0m\u001b[0merrstate\u001b[0m\u001b[0;34m(\u001b[0m\u001b[0minvalid\u001b[0m\u001b[0;34m=\u001b[0m\u001b[0;34m'ignore'\u001b[0m\u001b[0;34m)\u001b[0m\u001b[0;34m:\u001b[0m\u001b[0;34m\u001b[0m\u001b[0m\n\u001b[0;32m---> 77\u001b[0;31m                     \u001b[0;32mreturn\u001b[0m \u001b[0mf\u001b[0m\u001b[0;34m(\u001b[0m\u001b[0;34m*\u001b[0m\u001b[0margs\u001b[0m\u001b[0;34m,\u001b[0m \u001b[0;34m**\u001b[0m\u001b[0mkwargs\u001b[0m\u001b[0;34m)\u001b[0m\u001b[0;34m\u001b[0m\u001b[0m\n\u001b[0m\u001b[1;32m     78\u001b[0m             \u001b[0;32mexcept\u001b[0m \u001b[0mValueError\u001b[0m \u001b[0;32mas\u001b[0m \u001b[0me\u001b[0m\u001b[0;34m:\u001b[0m\u001b[0;34m\u001b[0m\u001b[0m\n\u001b[1;32m     79\u001b[0m                 \u001b[0;31m# we want to transform an object array\u001b[0m\u001b[0;34m\u001b[0m\u001b[0;34m\u001b[0m\u001b[0m\n",
         "\u001b[0;32m~/anaconda3/lib/python3.6/site-packages/pandas/core/nanops.py\u001b[0m in \u001b[0;36mnansum\u001b[0;34m(values, axis, skipna, min_count)\u001b[0m\n\u001b[1;32m    328\u001b[0m \u001b[0;34m@\u001b[0m\u001b[0mdisallow\u001b[0m\u001b[0;34m(\u001b[0m\u001b[0;34m'M8'\u001b[0m\u001b[0;34m)\u001b[0m\u001b[0;34m\u001b[0m\u001b[0m\n\u001b[1;32m    329\u001b[0m \u001b[0;32mdef\u001b[0m \u001b[0mnansum\u001b[0m\u001b[0;34m(\u001b[0m\u001b[0mvalues\u001b[0m\u001b[0;34m,\u001b[0m \u001b[0maxis\u001b[0m\u001b[0;34m=\u001b[0m\u001b[0;32mNone\u001b[0m\u001b[0;34m,\u001b[0m \u001b[0mskipna\u001b[0m\u001b[0;34m=\u001b[0m\u001b[0;32mTrue\u001b[0m\u001b[0;34m,\u001b[0m \u001b[0mmin_count\u001b[0m\u001b[0;34m=\u001b[0m\u001b[0;36m0\u001b[0m\u001b[0;34m)\u001b[0m\u001b[0;34m:\u001b[0m\u001b[0;34m\u001b[0m\u001b[0m\n\u001b[0;32m--> 330\u001b[0;31m     \u001b[0mvalues\u001b[0m\u001b[0;34m,\u001b[0m \u001b[0mmask\u001b[0m\u001b[0;34m,\u001b[0m \u001b[0mdtype\u001b[0m\u001b[0;34m,\u001b[0m \u001b[0mdtype_max\u001b[0m \u001b[0;34m=\u001b[0m \u001b[0m_get_values\u001b[0m\u001b[0;34m(\u001b[0m\u001b[0mvalues\u001b[0m\u001b[0;34m,\u001b[0m \u001b[0mskipna\u001b[0m\u001b[0;34m,\u001b[0m \u001b[0;36m0\u001b[0m\u001b[0;34m)\u001b[0m\u001b[0;34m\u001b[0m\u001b[0m\n\u001b[0m\u001b[1;32m    331\u001b[0m     \u001b[0mdtype_sum\u001b[0m \u001b[0;34m=\u001b[0m \u001b[0mdtype_max\u001b[0m\u001b[0;34m\u001b[0m\u001b[0m\n\u001b[1;32m    332\u001b[0m     \u001b[0;32mif\u001b[0m \u001b[0mis_float_dtype\u001b[0m\u001b[0;34m(\u001b[0m\u001b[0mdtype\u001b[0m\u001b[0;34m)\u001b[0m\u001b[0;34m:\u001b[0m\u001b[0;34m\u001b[0m\u001b[0m\n",
         "\u001b[0;32m~/anaconda3/lib/python3.6/site-packages/pandas/core/nanops.py\u001b[0m in \u001b[0;36m_get_values\u001b[0;34m(values, skipna, fill_value, fill_value_typ, isfinite, copy)\u001b[0m\n\u001b[1;32m    237\u001b[0m     \u001b[0;31m# return a platform independent precision dtype\u001b[0m\u001b[0;34m\u001b[0m\u001b[0;34m\u001b[0m\u001b[0m\n\u001b[1;32m    238\u001b[0m     \u001b[0mdtype_max\u001b[0m \u001b[0;34m=\u001b[0m \u001b[0mdtype\u001b[0m\u001b[0;34m\u001b[0m\u001b[0m\n\u001b[0;32m--> 239\u001b[0;31m     \u001b[0;32mif\u001b[0m \u001b[0mis_integer_dtype\u001b[0m\u001b[0;34m(\u001b[0m\u001b[0mdtype\u001b[0m\u001b[0;34m)\u001b[0m \u001b[0;32mor\u001b[0m \u001b[0mis_bool_dtype\u001b[0m\u001b[0;34m(\u001b[0m\u001b[0mdtype\u001b[0m\u001b[0;34m)\u001b[0m\u001b[0;34m:\u001b[0m\u001b[0;34m\u001b[0m\u001b[0m\n\u001b[0m\u001b[1;32m    240\u001b[0m         \u001b[0mdtype_max\u001b[0m \u001b[0;34m=\u001b[0m \u001b[0mnp\u001b[0m\u001b[0;34m.\u001b[0m\u001b[0mint64\u001b[0m\u001b[0;34m\u001b[0m\u001b[0m\n\u001b[1;32m    241\u001b[0m     \u001b[0;32melif\u001b[0m \u001b[0mis_float_dtype\u001b[0m\u001b[0;34m(\u001b[0m\u001b[0mdtype\u001b[0m\u001b[0;34m)\u001b[0m\u001b[0;34m:\u001b[0m\u001b[0;34m\u001b[0m\u001b[0m\n",
         "\u001b[0;31mKeyboardInterrupt\u001b[0m: "
        ]
       },
       "metadata": {},
       "msg_type": "error",
       "version": "5.3"
      },
      "timestamp": "2018-11-16T23:34:22.024Z"
     },
     {
      "code": "%%time\n\nfrom sklearn.model_selection import GridSearchCV\n\ngrid = {\n    'cutoff': [0.4, 0.5, 0.6],\n}\n\nclf = GridSearchCV(CategorySimRec(), param_grid=grid, n_jobs=2)\nclf.fit(train_and_valid, train_and_valid['reviewed'])\nprint(clf)",
      "response": {
       "content": {
        "name": "stdout",
        "text": "GridSearchCV(cv='warn', error_score='raise-deprecating',\n       estimator=CategorySimRec(cutoff=0.8), fit_params=None, iid='warn',\n       n_jobs=2, param_grid={'cutoff': [0.4, 0.5, 0.6]},\n       pre_dispatch='2*n_jobs', refit=True, return_train_score='warn',\n       scoring=None, verbose=0)\nCPU times: user 49.1 s, sys: 4.54 s, total: 53.7 s\nWall time: 3min 24s\n"
       },
       "metadata": {},
       "msg_type": "stream",
       "version": "5.3"
      },
      "timestamp": "2018-11-16T23:37:57.036Z"
     },
     {
      "code": "%%time\n\nfrom sklearn.model_selection import GridSearchCV\n\ngrid = {\n    'cutoff': [0.2, 0.3, 0.4],\n}\n\nclf = GridSearchCV(CategorySimRec(), param_grid=grid, n_jobs=2)\nclf.fit(train_and_valid, train_and_valid['reviewed'])\nprint(clf)",
      "response": {
       "content": {
        "name": "stdout",
        "text": "GridSearchCV(cv='warn', error_score='raise-deprecating',\n       estimator=CategorySimRec(cutoff=0.8), fit_params=None, iid='warn',\n       n_jobs=2, param_grid={'cutoff': [0.2, 0.3, 0.4]},\n       pre_dispatch='2*n_jobs', refit=True, return_train_score='warn',\n       scoring=None, verbose=0)\nCPU times: user 51.2 s, sys: 4.86 s, total: 56 s\nWall time: 3min 58s\n"
       },
       "metadata": {},
       "msg_type": "stream",
       "version": "5.3"
      },
      "timestamp": "2018-11-16T23:47:05.002Z"
     },
     {
      "code": "%%time\n\nfrom sklearn.model_selection import GridSearchCV\n\nclf = GridSearchCV(CategorySimRec(), param_grid={}, n_jobs=2)\nclf.fit(train_and_valid, train_and_valid['reviewed'])\nprint(clf)",
      "response": {
       "content": {
        "ename": "NameError",
        "evalue": "name 'sim' is not defined",
        "traceback": [
         "\u001b[0;31m---------------------------------------------------------------------------\u001b[0m",
         "\u001b[0;31m_RemoteTraceback\u001b[0m                          Traceback (most recent call last)",
         "\u001b[0;31m_RemoteTraceback\u001b[0m: \n\"\"\"\nTraceback (most recent call last):\n  File \"/Users/sam/anaconda3/lib/python3.6/site-packages/sklearn/externals/joblib/externals/loky/process_executor.py\", line 420, in _process_worker\n    r = call_item.fn(*call_item.args, **call_item.kwargs)\n  File \"/Users/sam/anaconda3/lib/python3.6/site-packages/sklearn/externals/joblib/_parallel_backends.py\", line 563, in __call__\n    return self.func(*args, **kwargs)\n  File \"/Users/sam/anaconda3/lib/python3.6/site-packages/sklearn/externals/joblib/parallel.py\", line 261, in __call__\n    for func, args, kwargs in self.items]\n  File \"/Users/sam/anaconda3/lib/python3.6/site-packages/sklearn/externals/joblib/parallel.py\", line 261, in <listcomp>\n    for func, args, kwargs in self.items]\n  File \"/Users/sam/anaconda3/lib/python3.6/site-packages/sklearn/model_selection/_validation.py\", line 568, in _fit_and_score\n    test_scores = _score(estimator, X_test, y_test, scorer, is_multimetric)\n  File \"/Users/sam/anaconda3/lib/python3.6/site-packages/sklearn/model_selection/_validation.py\", line 605, in _score\n    return _multimetric_score(estimator, X_test, y_test, scorer)\n  File \"/Users/sam/anaconda3/lib/python3.6/site-packages/sklearn/model_selection/_validation.py\", line 635, in _multimetric_score\n    score = scorer(estimator, X_test, y_test)\n  File \"/Users/sam/anaconda3/lib/python3.6/site-packages/sklearn/metrics/scorer.py\", line 228, in _passthrough_scorer\n    return estimator.score(*args, **kwargs)\n  File \"/Users/sam/anaconda3/lib/python3.6/site-packages/sklearn/base.py\", line 288, in score\n    return accuracy_score(y, self.predict(X), sample_weight=sample_weight)\n  File \"<ipython-input-245-a0f9b0aa9dbf>\", line 31, in predict\n  File \"<ipython-input-245-a0f9b0aa9dbf>\", line 27, in predict_proba\nNameError: name 'sim' is not defined\n\"\"\"",
         "\nThe above exception was the direct cause of the following exception:\n",
         "\u001b[0;31mNameError\u001b[0m                                 Traceback (most recent call last)",
         "\u001b[0;32m<timed exec>\u001b[0m in \u001b[0;36m<module>\u001b[0;34m\u001b[0m\n",
         "\u001b[0;32m~/anaconda3/lib/python3.6/site-packages/sklearn/model_selection/_search.py\u001b[0m in \u001b[0;36mfit\u001b[0;34m(self, X, y, groups, **fit_params)\u001b[0m\n\u001b[1;32m    720\u001b[0m                 \u001b[0;32mreturn\u001b[0m \u001b[0mresults_container\u001b[0m\u001b[0;34m[\u001b[0m\u001b[0;36m0\u001b[0m\u001b[0;34m]\u001b[0m\u001b[0;34m\u001b[0m\u001b[0m\n\u001b[1;32m    721\u001b[0m \u001b[0;34m\u001b[0m\u001b[0m\n\u001b[0;32m--> 722\u001b[0;31m             \u001b[0mself\u001b[0m\u001b[0;34m.\u001b[0m\u001b[0m_run_search\u001b[0m\u001b[0;34m(\u001b[0m\u001b[0mevaluate_candidates\u001b[0m\u001b[0;34m)\u001b[0m\u001b[0;34m\u001b[0m\u001b[0m\n\u001b[0m\u001b[1;32m    723\u001b[0m \u001b[0;34m\u001b[0m\u001b[0m\n\u001b[1;32m    724\u001b[0m         \u001b[0mresults\u001b[0m \u001b[0;34m=\u001b[0m \u001b[0mresults_container\u001b[0m\u001b[0;34m[\u001b[0m\u001b[0;36m0\u001b[0m\u001b[0;34m]\u001b[0m\u001b[0;34m\u001b[0m\u001b[0m\n",
         "\u001b[0;32m~/anaconda3/lib/python3.6/site-packages/sklearn/model_selection/_search.py\u001b[0m in \u001b[0;36m_run_search\u001b[0;34m(self, evaluate_candidates)\u001b[0m\n\u001b[1;32m   1189\u001b[0m     \u001b[0;32mdef\u001b[0m \u001b[0m_run_search\u001b[0m\u001b[0;34m(\u001b[0m\u001b[0mself\u001b[0m\u001b[0;34m,\u001b[0m \u001b[0mevaluate_candidates\u001b[0m\u001b[0;34m)\u001b[0m\u001b[0;34m:\u001b[0m\u001b[0;34m\u001b[0m\u001b[0m\n\u001b[1;32m   1190\u001b[0m         \u001b[0;34m\"\"\"Search all candidates in param_grid\"\"\"\u001b[0m\u001b[0;34m\u001b[0m\u001b[0m\n\u001b[0;32m-> 1191\u001b[0;31m         \u001b[0mevaluate_candidates\u001b[0m\u001b[0;34m(\u001b[0m\u001b[0mParameterGrid\u001b[0m\u001b[0;34m(\u001b[0m\u001b[0mself\u001b[0m\u001b[0;34m.\u001b[0m\u001b[0mparam_grid\u001b[0m\u001b[0;34m)\u001b[0m\u001b[0;34m)\u001b[0m\u001b[0;34m\u001b[0m\u001b[0m\n\u001b[0m\u001b[1;32m   1192\u001b[0m \u001b[0;34m\u001b[0m\u001b[0m\n\u001b[1;32m   1193\u001b[0m \u001b[0;34m\u001b[0m\u001b[0m\n",
         "\u001b[0;32m~/anaconda3/lib/python3.6/site-packages/sklearn/model_selection/_search.py\u001b[0m in \u001b[0;36mevaluate_candidates\u001b[0;34m(candidate_params)\u001b[0m\n\u001b[1;32m    709\u001b[0m                                \u001b[0;32mfor\u001b[0m \u001b[0mparameters\u001b[0m\u001b[0;34m,\u001b[0m \u001b[0;34m(\u001b[0m\u001b[0mtrain\u001b[0m\u001b[0;34m,\u001b[0m \u001b[0mtest\u001b[0m\u001b[0;34m)\u001b[0m\u001b[0;34m\u001b[0m\u001b[0m\n\u001b[1;32m    710\u001b[0m                                in product(candidate_params,\n\u001b[0;32m--> 711\u001b[0;31m                                           cv.split(X, y, groups)))\n\u001b[0m\u001b[1;32m    712\u001b[0m \u001b[0;34m\u001b[0m\u001b[0m\n\u001b[1;32m    713\u001b[0m                 \u001b[0mall_candidate_params\u001b[0m\u001b[0;34m.\u001b[0m\u001b[0mextend\u001b[0m\u001b[0;34m(\u001b[0m\u001b[0mcandidate_params\u001b[0m\u001b[0;34m)\u001b[0m\u001b[0;34m\u001b[0m\u001b[0m\n",
         "\u001b[0;32m~/anaconda3/lib/python3.6/site-packages/sklearn/externals/joblib/parallel.py\u001b[0m in \u001b[0;36m__call__\u001b[0;34m(self, iterable)\u001b[0m\n\u001b[1;32m    994\u001b[0m \u001b[0;34m\u001b[0m\u001b[0m\n\u001b[1;32m    995\u001b[0m             \u001b[0;32mwith\u001b[0m \u001b[0mself\u001b[0m\u001b[0;34m.\u001b[0m\u001b[0m_backend\u001b[0m\u001b[0;34m.\u001b[0m\u001b[0mretrieval_context\u001b[0m\u001b[0;34m(\u001b[0m\u001b[0;34m)\u001b[0m\u001b[0;34m:\u001b[0m\u001b[0;34m\u001b[0m\u001b[0m\n\u001b[0;32m--> 996\u001b[0;31m                 \u001b[0mself\u001b[0m\u001b[0;34m.\u001b[0m\u001b[0mretrieve\u001b[0m\u001b[0;34m(\u001b[0m\u001b[0;34m)\u001b[0m\u001b[0;34m\u001b[0m\u001b[0m\n\u001b[0m\u001b[1;32m    997\u001b[0m             \u001b[0;31m# Make sure that we get a last message telling us we are done\u001b[0m\u001b[0;34m\u001b[0m\u001b[0;34m\u001b[0m\u001b[0m\n\u001b[1;32m    998\u001b[0m             \u001b[0melapsed_time\u001b[0m \u001b[0;34m=\u001b[0m \u001b[0mtime\u001b[0m\u001b[0;34m.\u001b[0m\u001b[0mtime\u001b[0m\u001b[0;34m(\u001b[0m\u001b[0;34m)\u001b[0m \u001b[0;34m-\u001b[0m \u001b[0mself\u001b[0m\u001b[0;34m.\u001b[0m\u001b[0m_start_time\u001b[0m\u001b[0;34m\u001b[0m\u001b[0m\n",
         "\u001b[0;32m~/anaconda3/lib/python3.6/site-packages/sklearn/externals/joblib/parallel.py\u001b[0m in \u001b[0;36mretrieve\u001b[0;34m(self)\u001b[0m\n\u001b[1;32m    897\u001b[0m             \u001b[0;32mtry\u001b[0m\u001b[0;34m:\u001b[0m\u001b[0;34m\u001b[0m\u001b[0m\n\u001b[1;32m    898\u001b[0m                 \u001b[0;32mif\u001b[0m \u001b[0mgetattr\u001b[0m\u001b[0;34m(\u001b[0m\u001b[0mself\u001b[0m\u001b[0;34m.\u001b[0m\u001b[0m_backend\u001b[0m\u001b[0;34m,\u001b[0m \u001b[0;34m'supports_timeout'\u001b[0m\u001b[0;34m,\u001b[0m \u001b[0;32mFalse\u001b[0m\u001b[0;34m)\u001b[0m\u001b[0;34m:\u001b[0m\u001b[0;34m\u001b[0m\u001b[0m\n\u001b[0;32m--> 899\u001b[0;31m                     \u001b[0mself\u001b[0m\u001b[0;34m.\u001b[0m\u001b[0m_output\u001b[0m\u001b[0;34m.\u001b[0m\u001b[0mextend\u001b[0m\u001b[0;34m(\u001b[0m\u001b[0mjob\u001b[0m\u001b[0;34m.\u001b[0m\u001b[0mget\u001b[0m\u001b[0;34m(\u001b[0m\u001b[0mtimeout\u001b[0m\u001b[0;34m=\u001b[0m\u001b[0mself\u001b[0m\u001b[0;34m.\u001b[0m\u001b[0mtimeout\u001b[0m\u001b[0;34m)\u001b[0m\u001b[0;34m)\u001b[0m\u001b[0;34m\u001b[0m\u001b[0m\n\u001b[0m\u001b[1;32m    900\u001b[0m                 \u001b[0;32melse\u001b[0m\u001b[0;34m:\u001b[0m\u001b[0;34m\u001b[0m\u001b[0m\n\u001b[1;32m    901\u001b[0m                     \u001b[0mself\u001b[0m\u001b[0;34m.\u001b[0m\u001b[0m_output\u001b[0m\u001b[0;34m.\u001b[0m\u001b[0mextend\u001b[0m\u001b[0;34m(\u001b[0m\u001b[0mjob\u001b[0m\u001b[0;34m.\u001b[0m\u001b[0mget\u001b[0m\u001b[0;34m(\u001b[0m\u001b[0;34m)\u001b[0m\u001b[0;34m)\u001b[0m\u001b[0;34m\u001b[0m\u001b[0m\n",
         "\u001b[0;32m~/anaconda3/lib/python3.6/site-packages/sklearn/externals/joblib/_parallel_backends.py\u001b[0m in \u001b[0;36mwrap_future_result\u001b[0;34m(future, timeout)\u001b[0m\n\u001b[1;32m    515\u001b[0m         AsyncResults.get from multiprocessing.\"\"\"\n\u001b[1;32m    516\u001b[0m         \u001b[0;32mtry\u001b[0m\u001b[0;34m:\u001b[0m\u001b[0;34m\u001b[0m\u001b[0m\n\u001b[0;32m--> 517\u001b[0;31m             \u001b[0;32mreturn\u001b[0m \u001b[0mfuture\u001b[0m\u001b[0;34m.\u001b[0m\u001b[0mresult\u001b[0m\u001b[0;34m(\u001b[0m\u001b[0mtimeout\u001b[0m\u001b[0;34m=\u001b[0m\u001b[0mtimeout\u001b[0m\u001b[0;34m)\u001b[0m\u001b[0;34m\u001b[0m\u001b[0m\n\u001b[0m\u001b[1;32m    518\u001b[0m         \u001b[0;32mexcept\u001b[0m \u001b[0mLokyTimeoutError\u001b[0m\u001b[0;34m:\u001b[0m\u001b[0;34m\u001b[0m\u001b[0m\n\u001b[1;32m    519\u001b[0m             \u001b[0;32mraise\u001b[0m \u001b[0mTimeoutError\u001b[0m\u001b[0;34m(\u001b[0m\u001b[0;34m)\u001b[0m\u001b[0;34m\u001b[0m\u001b[0m\n",
         "\u001b[0;32m~/anaconda3/lib/python3.6/concurrent/futures/_base.py\u001b[0m in \u001b[0;36mresult\u001b[0;34m(self, timeout)\u001b[0m\n\u001b[1;32m    430\u001b[0m                 \u001b[0;32mraise\u001b[0m \u001b[0mCancelledError\u001b[0m\u001b[0;34m(\u001b[0m\u001b[0;34m)\u001b[0m\u001b[0;34m\u001b[0m\u001b[0m\n\u001b[1;32m    431\u001b[0m             \u001b[0;32melif\u001b[0m \u001b[0mself\u001b[0m\u001b[0;34m.\u001b[0m\u001b[0m_state\u001b[0m \u001b[0;34m==\u001b[0m \u001b[0mFINISHED\u001b[0m\u001b[0;34m:\u001b[0m\u001b[0;34m\u001b[0m\u001b[0m\n\u001b[0;32m--> 432\u001b[0;31m                 \u001b[0;32mreturn\u001b[0m \u001b[0mself\u001b[0m\u001b[0;34m.\u001b[0m\u001b[0m__get_result\u001b[0m\u001b[0;34m(\u001b[0m\u001b[0;34m)\u001b[0m\u001b[0;34m\u001b[0m\u001b[0m\n\u001b[0m\u001b[1;32m    433\u001b[0m             \u001b[0;32melse\u001b[0m\u001b[0;34m:\u001b[0m\u001b[0;34m\u001b[0m\u001b[0m\n\u001b[1;32m    434\u001b[0m                 \u001b[0;32mraise\u001b[0m \u001b[0mTimeoutError\u001b[0m\u001b[0;34m(\u001b[0m\u001b[0;34m)\u001b[0m\u001b[0;34m\u001b[0m\u001b[0m\n",
         "\u001b[0;32m~/anaconda3/lib/python3.6/concurrent/futures/_base.py\u001b[0m in \u001b[0;36m__get_result\u001b[0;34m(self)\u001b[0m\n\u001b[1;32m    382\u001b[0m     \u001b[0;32mdef\u001b[0m \u001b[0m__get_result\u001b[0m\u001b[0;34m(\u001b[0m\u001b[0mself\u001b[0m\u001b[0;34m)\u001b[0m\u001b[0;34m:\u001b[0m\u001b[0;34m\u001b[0m\u001b[0m\n\u001b[1;32m    383\u001b[0m         \u001b[0;32mif\u001b[0m \u001b[0mself\u001b[0m\u001b[0;34m.\u001b[0m\u001b[0m_exception\u001b[0m\u001b[0;34m:\u001b[0m\u001b[0;34m\u001b[0m\u001b[0m\n\u001b[0;32m--> 384\u001b[0;31m             \u001b[0;32mraise\u001b[0m \u001b[0mself\u001b[0m\u001b[0;34m.\u001b[0m\u001b[0m_exception\u001b[0m\u001b[0;34m\u001b[0m\u001b[0m\n\u001b[0m\u001b[1;32m    385\u001b[0m         \u001b[0;32melse\u001b[0m\u001b[0;34m:\u001b[0m\u001b[0;34m\u001b[0m\u001b[0m\n\u001b[1;32m    386\u001b[0m             \u001b[0;32mreturn\u001b[0m \u001b[0mself\u001b[0m\u001b[0;34m.\u001b[0m\u001b[0m_result\u001b[0m\u001b[0;34m\u001b[0m\u001b[0m\n",
         "\u001b[0;31mNameError\u001b[0m: name 'sim' is not defined"
        ]
       },
       "metadata": {},
       "msg_type": "error",
       "version": "5.3"
      },
      "timestamp": "2018-11-16T23:54:43.469Z"
     },
     {
      "code": "%%time\n\nfrom sklearn.model_selection import GridSearchCV\n\nclf = GridSearchCV(CategorySimRec(), param_grid={}, n_jobs=2)\nclf.fit(train_and_valid, train_and_valid['reviewed'])\nprint(clf)",
      "response": {
       "content": {
        "ename": "KeyboardInterrupt",
        "evalue": "",
        "traceback": [
         "\u001b[0;31m---------------------------------------------------------------------------\u001b[0m",
         "\u001b[0;31mKeyboardInterrupt\u001b[0m                         Traceback (most recent call last)",
         "\u001b[0;32m<timed exec>\u001b[0m in \u001b[0;36m<module>\u001b[0;34m\u001b[0m\n",
         "\u001b[0;32m~/anaconda3/lib/python3.6/site-packages/sklearn/model_selection/_search.py\u001b[0m in \u001b[0;36mfit\u001b[0;34m(self, X, y, groups, **fit_params)\u001b[0m\n\u001b[1;32m    720\u001b[0m                 \u001b[0;32mreturn\u001b[0m \u001b[0mresults_container\u001b[0m\u001b[0;34m[\u001b[0m\u001b[0;36m0\u001b[0m\u001b[0;34m]\u001b[0m\u001b[0;34m\u001b[0m\u001b[0m\n\u001b[1;32m    721\u001b[0m \u001b[0;34m\u001b[0m\u001b[0m\n\u001b[0;32m--> 722\u001b[0;31m             \u001b[0mself\u001b[0m\u001b[0;34m.\u001b[0m\u001b[0m_run_search\u001b[0m\u001b[0;34m(\u001b[0m\u001b[0mevaluate_candidates\u001b[0m\u001b[0;34m)\u001b[0m\u001b[0;34m\u001b[0m\u001b[0m\n\u001b[0m\u001b[1;32m    723\u001b[0m \u001b[0;34m\u001b[0m\u001b[0m\n\u001b[1;32m    724\u001b[0m         \u001b[0mresults\u001b[0m \u001b[0;34m=\u001b[0m \u001b[0mresults_container\u001b[0m\u001b[0;34m[\u001b[0m\u001b[0;36m0\u001b[0m\u001b[0;34m]\u001b[0m\u001b[0;34m\u001b[0m\u001b[0m\n",
         "\u001b[0;32m~/anaconda3/lib/python3.6/site-packages/sklearn/model_selection/_search.py\u001b[0m in \u001b[0;36m_run_search\u001b[0;34m(self, evaluate_candidates)\u001b[0m\n\u001b[1;32m   1189\u001b[0m     \u001b[0;32mdef\u001b[0m \u001b[0m_run_search\u001b[0m\u001b[0;34m(\u001b[0m\u001b[0mself\u001b[0m\u001b[0;34m,\u001b[0m \u001b[0mevaluate_candidates\u001b[0m\u001b[0;34m)\u001b[0m\u001b[0;34m:\u001b[0m\u001b[0;34m\u001b[0m\u001b[0m\n\u001b[1;32m   1190\u001b[0m         \u001b[0;34m\"\"\"Search all candidates in param_grid\"\"\"\u001b[0m\u001b[0;34m\u001b[0m\u001b[0m\n\u001b[0;32m-> 1191\u001b[0;31m         \u001b[0mevaluate_candidates\u001b[0m\u001b[0;34m(\u001b[0m\u001b[0mParameterGrid\u001b[0m\u001b[0;34m(\u001b[0m\u001b[0mself\u001b[0m\u001b[0;34m.\u001b[0m\u001b[0mparam_grid\u001b[0m\u001b[0;34m)\u001b[0m\u001b[0;34m)\u001b[0m\u001b[0;34m\u001b[0m\u001b[0m\n\u001b[0m\u001b[1;32m   1192\u001b[0m \u001b[0;34m\u001b[0m\u001b[0m\n\u001b[1;32m   1193\u001b[0m \u001b[0;34m\u001b[0m\u001b[0m\n",
         "\u001b[0;32m~/anaconda3/lib/python3.6/site-packages/sklearn/model_selection/_search.py\u001b[0m in \u001b[0;36mevaluate_candidates\u001b[0;34m(candidate_params)\u001b[0m\n\u001b[1;32m    709\u001b[0m                                \u001b[0;32mfor\u001b[0m \u001b[0mparameters\u001b[0m\u001b[0;34m,\u001b[0m \u001b[0;34m(\u001b[0m\u001b[0mtrain\u001b[0m\u001b[0;34m,\u001b[0m \u001b[0mtest\u001b[0m\u001b[0;34m)\u001b[0m\u001b[0;34m\u001b[0m\u001b[0m\n\u001b[1;32m    710\u001b[0m                                in product(candidate_params,\n\u001b[0;32m--> 711\u001b[0;31m                                           cv.split(X, y, groups)))\n\u001b[0m\u001b[1;32m    712\u001b[0m \u001b[0;34m\u001b[0m\u001b[0m\n\u001b[1;32m    713\u001b[0m                 \u001b[0mall_candidate_params\u001b[0m\u001b[0;34m.\u001b[0m\u001b[0mextend\u001b[0m\u001b[0;34m(\u001b[0m\u001b[0mcandidate_params\u001b[0m\u001b[0;34m)\u001b[0m\u001b[0;34m\u001b[0m\u001b[0m\n",
         "\u001b[0;32m~/anaconda3/lib/python3.6/site-packages/sklearn/externals/joblib/parallel.py\u001b[0m in \u001b[0;36m__call__\u001b[0;34m(self, iterable)\u001b[0m\n\u001b[1;32m    994\u001b[0m \u001b[0;34m\u001b[0m\u001b[0m\n\u001b[1;32m    995\u001b[0m             \u001b[0;32mwith\u001b[0m \u001b[0mself\u001b[0m\u001b[0;34m.\u001b[0m\u001b[0m_backend\u001b[0m\u001b[0;34m.\u001b[0m\u001b[0mretrieval_context\u001b[0m\u001b[0;34m(\u001b[0m\u001b[0;34m)\u001b[0m\u001b[0;34m:\u001b[0m\u001b[0;34m\u001b[0m\u001b[0m\n\u001b[0;32m--> 996\u001b[0;31m                 \u001b[0mself\u001b[0m\u001b[0;34m.\u001b[0m\u001b[0mretrieve\u001b[0m\u001b[0;34m(\u001b[0m\u001b[0;34m)\u001b[0m\u001b[0;34m\u001b[0m\u001b[0m\n\u001b[0m\u001b[1;32m    997\u001b[0m             \u001b[0;31m# Make sure that we get a last message telling us we are done\u001b[0m\u001b[0;34m\u001b[0m\u001b[0;34m\u001b[0m\u001b[0m\n\u001b[1;32m    998\u001b[0m             \u001b[0melapsed_time\u001b[0m \u001b[0;34m=\u001b[0m \u001b[0mtime\u001b[0m\u001b[0;34m.\u001b[0m\u001b[0mtime\u001b[0m\u001b[0;34m(\u001b[0m\u001b[0;34m)\u001b[0m \u001b[0;34m-\u001b[0m \u001b[0mself\u001b[0m\u001b[0;34m.\u001b[0m\u001b[0m_start_time\u001b[0m\u001b[0;34m\u001b[0m\u001b[0m\n",
         "\u001b[0;32m~/anaconda3/lib/python3.6/site-packages/sklearn/externals/joblib/parallel.py\u001b[0m in \u001b[0;36mretrieve\u001b[0;34m(self)\u001b[0m\n\u001b[1;32m    897\u001b[0m             \u001b[0;32mtry\u001b[0m\u001b[0;34m:\u001b[0m\u001b[0;34m\u001b[0m\u001b[0m\n\u001b[1;32m    898\u001b[0m                 \u001b[0;32mif\u001b[0m \u001b[0mgetattr\u001b[0m\u001b[0;34m(\u001b[0m\u001b[0mself\u001b[0m\u001b[0;34m.\u001b[0m\u001b[0m_backend\u001b[0m\u001b[0;34m,\u001b[0m \u001b[0;34m'supports_timeout'\u001b[0m\u001b[0;34m,\u001b[0m \u001b[0;32mFalse\u001b[0m\u001b[0;34m)\u001b[0m\u001b[0;34m:\u001b[0m\u001b[0;34m\u001b[0m\u001b[0m\n\u001b[0;32m--> 899\u001b[0;31m                     \u001b[0mself\u001b[0m\u001b[0;34m.\u001b[0m\u001b[0m_output\u001b[0m\u001b[0;34m.\u001b[0m\u001b[0mextend\u001b[0m\u001b[0;34m(\u001b[0m\u001b[0mjob\u001b[0m\u001b[0;34m.\u001b[0m\u001b[0mget\u001b[0m\u001b[0;34m(\u001b[0m\u001b[0mtimeout\u001b[0m\u001b[0;34m=\u001b[0m\u001b[0mself\u001b[0m\u001b[0;34m.\u001b[0m\u001b[0mtimeout\u001b[0m\u001b[0;34m)\u001b[0m\u001b[0;34m)\u001b[0m\u001b[0;34m\u001b[0m\u001b[0m\n\u001b[0m\u001b[1;32m    900\u001b[0m                 \u001b[0;32melse\u001b[0m\u001b[0;34m:\u001b[0m\u001b[0;34m\u001b[0m\u001b[0m\n\u001b[1;32m    901\u001b[0m                     \u001b[0mself\u001b[0m\u001b[0;34m.\u001b[0m\u001b[0m_output\u001b[0m\u001b[0;34m.\u001b[0m\u001b[0mextend\u001b[0m\u001b[0;34m(\u001b[0m\u001b[0mjob\u001b[0m\u001b[0;34m.\u001b[0m\u001b[0mget\u001b[0m\u001b[0;34m(\u001b[0m\u001b[0;34m)\u001b[0m\u001b[0;34m)\u001b[0m\u001b[0;34m\u001b[0m\u001b[0m\n",
         "\u001b[0;32m~/anaconda3/lib/python3.6/site-packages/sklearn/externals/joblib/_parallel_backends.py\u001b[0m in \u001b[0;36mwrap_future_result\u001b[0;34m(future, timeout)\u001b[0m\n\u001b[1;32m    515\u001b[0m         AsyncResults.get from multiprocessing.\"\"\"\n\u001b[1;32m    516\u001b[0m         \u001b[0;32mtry\u001b[0m\u001b[0;34m:\u001b[0m\u001b[0;34m\u001b[0m\u001b[0m\n\u001b[0;32m--> 517\u001b[0;31m             \u001b[0;32mreturn\u001b[0m \u001b[0mfuture\u001b[0m\u001b[0;34m.\u001b[0m\u001b[0mresult\u001b[0m\u001b[0;34m(\u001b[0m\u001b[0mtimeout\u001b[0m\u001b[0;34m=\u001b[0m\u001b[0mtimeout\u001b[0m\u001b[0;34m)\u001b[0m\u001b[0;34m\u001b[0m\u001b[0m\n\u001b[0m\u001b[1;32m    518\u001b[0m         \u001b[0;32mexcept\u001b[0m \u001b[0mLokyTimeoutError\u001b[0m\u001b[0;34m:\u001b[0m\u001b[0;34m\u001b[0m\u001b[0m\n\u001b[1;32m    519\u001b[0m             \u001b[0;32mraise\u001b[0m \u001b[0mTimeoutError\u001b[0m\u001b[0;34m(\u001b[0m\u001b[0;34m)\u001b[0m\u001b[0;34m\u001b[0m\u001b[0m\n",
         "\u001b[0;32m~/anaconda3/lib/python3.6/concurrent/futures/_base.py\u001b[0m in \u001b[0;36mresult\u001b[0;34m(self, timeout)\u001b[0m\n\u001b[1;32m    425\u001b[0m                 \u001b[0;32mreturn\u001b[0m \u001b[0mself\u001b[0m\u001b[0;34m.\u001b[0m\u001b[0m__get_result\u001b[0m\u001b[0;34m(\u001b[0m\u001b[0;34m)\u001b[0m\u001b[0;34m\u001b[0m\u001b[0m\n\u001b[1;32m    426\u001b[0m \u001b[0;34m\u001b[0m\u001b[0m\n\u001b[0;32m--> 427\u001b[0;31m             \u001b[0mself\u001b[0m\u001b[0;34m.\u001b[0m\u001b[0m_condition\u001b[0m\u001b[0;34m.\u001b[0m\u001b[0mwait\u001b[0m\u001b[0;34m(\u001b[0m\u001b[0mtimeout\u001b[0m\u001b[0;34m)\u001b[0m\u001b[0;34m\u001b[0m\u001b[0m\n\u001b[0m\u001b[1;32m    428\u001b[0m \u001b[0;34m\u001b[0m\u001b[0m\n\u001b[1;32m    429\u001b[0m             \u001b[0;32mif\u001b[0m \u001b[0mself\u001b[0m\u001b[0;34m.\u001b[0m\u001b[0m_state\u001b[0m \u001b[0;32min\u001b[0m \u001b[0;34m[\u001b[0m\u001b[0mCANCELLED\u001b[0m\u001b[0;34m,\u001b[0m \u001b[0mCANCELLED_AND_NOTIFIED\u001b[0m\u001b[0;34m]\u001b[0m\u001b[0;34m:\u001b[0m\u001b[0;34m\u001b[0m\u001b[0m\n",
         "\u001b[0;32m~/anaconda3/lib/python3.6/threading.py\u001b[0m in \u001b[0;36mwait\u001b[0;34m(self, timeout)\u001b[0m\n\u001b[1;32m    293\u001b[0m         \u001b[0;32mtry\u001b[0m\u001b[0;34m:\u001b[0m    \u001b[0;31m# restore state no matter what (e.g., KeyboardInterrupt)\u001b[0m\u001b[0;34m\u001b[0m\u001b[0m\n\u001b[1;32m    294\u001b[0m             \u001b[0;32mif\u001b[0m \u001b[0mtimeout\u001b[0m \u001b[0;32mis\u001b[0m \u001b[0;32mNone\u001b[0m\u001b[0;34m:\u001b[0m\u001b[0;34m\u001b[0m\u001b[0m\n\u001b[0;32m--> 295\u001b[0;31m                 \u001b[0mwaiter\u001b[0m\u001b[0;34m.\u001b[0m\u001b[0macquire\u001b[0m\u001b[0;34m(\u001b[0m\u001b[0;34m)\u001b[0m\u001b[0;34m\u001b[0m\u001b[0m\n\u001b[0m\u001b[1;32m    296\u001b[0m                 \u001b[0mgotit\u001b[0m \u001b[0;34m=\u001b[0m \u001b[0;32mTrue\u001b[0m\u001b[0;34m\u001b[0m\u001b[0m\n\u001b[1;32m    297\u001b[0m             \u001b[0;32melse\u001b[0m\u001b[0;34m:\u001b[0m\u001b[0;34m\u001b[0m\u001b[0m\n",
         "\u001b[0;31mKeyboardInterrupt\u001b[0m: "
        ]
       },
       "metadata": {},
       "msg_type": "error",
       "version": "5.3"
      },
      "timestamp": "2018-11-16T23:55:48.811Z"
     },
     {
      "code": "%%time\n\nfrom sklearn.model_selection import GridSearchCV\n\ngrid = {\n    'cutoff': [0.4, 0.5, 0.6],\n    'sim': [max_pairwise_jaccard]\n}\n\nclf = GridSearchCV(CategorySimRec(), param_grid=grid, n_jobs=3)\nclf.fit(train_and_valid, train_and_valid['reviewed'])\nprint(clf)",
      "response": {
       "content": {
        "name": "stderr",
        "text": "exception calling callback for <Future at 0x1a71f624a8 state=finished raised BrokenProcessPool>\nsklearn.externals.joblib.externals.loky.process_executor._RemoteTraceback: \n'''\nTraceback (most recent call last):\n  File \"/Users/sam/anaconda3/lib/python3.6/site-packages/sklearn/externals/joblib/externals/loky/process_executor.py\", line 393, in _process_worker\n    call_item = call_queue.get(block=True, timeout=timeout)\n  File \"/Users/sam/anaconda3/lib/python3.6/multiprocessing/queues.py\", line 113, in get\n    return _ForkingPickler.loads(res)\nAttributeError: Can't get attribute 'max_pairwise_jaccard' on <module 'sklearn.externals.joblib.externals.loky.backend.popen_loky_posix' from '/Users/sam/anaconda3/lib/python3.6/site-packages/sklearn/externals/joblib/externals/loky/backend/popen_loky_posix.py'>\n'''\n\nThe above exception was the direct cause of the following exception:\n\nTraceback (most recent call last):\n  File \"/Users/sam/anaconda3/lib/python3.6/site-packages/sklearn/externals/joblib/externals/loky/_base.py\", line 625, in _invoke_callbacks\n    callback(self)\n  File \"/Users/sam/anaconda3/lib/python3.6/site-packages/sklearn/externals/joblib/parallel.py\", line 375, in __call__\n    self.parallel.dispatch_next()\n  File \"/Users/sam/anaconda3/lib/python3.6/site-packages/sklearn/externals/joblib/parallel.py\", line 797, in dispatch_next\n    if not self.dispatch_one_batch(self._original_iterator):\n  File \"/Users/sam/anaconda3/lib/python3.6/site-packages/sklearn/externals/joblib/parallel.py\", line 825, in dispatch_one_batch\n    self._dispatch(tasks)\n  File \"/Users/sam/anaconda3/lib/python3.6/site-packages/sklearn/externals/joblib/parallel.py\", line 782, in _dispatch\n    job = self._backend.apply_async(batch, callback=cb)\n  File \"/Users/sam/anaconda3/lib/python3.6/site-packages/sklearn/externals/joblib/_parallel_backends.py\", line 506, in apply_async\n    future = self._workers.submit(SafeFunction(func))\n  File \"/Users/sam/anaconda3/lib/python3.6/site-packages/sklearn/externals/joblib/externals/loky/reusable_executor.py\", line 151, in submit\n    fn, *args, **kwargs)\n  File \"/Users/sam/anaconda3/lib/python3.6/site-packages/sklearn/externals/joblib/externals/loky/process_executor.py\", line 1016, in submit\n    raise self._flags.broken\nsklearn.externals.joblib.externals.loky.process_executor.BrokenProcessPool: A task has failed to un-serialize. Please ensure that the arguments of the function are all picklable.\n"
       },
       "metadata": {},
       "msg_type": "stream",
       "version": "5.3"
      },
      "timestamp": "2018-11-16T23:56:45.311Z"
     },
     {
      "code": "%%time\n\nfrom sklearn.model_selection import GridSearchCV\n\ngrid = {\n    'cutoff': [0.4, 0.5, 0.6],\n    'sim': [max_pairwise_jaccard]\n}\n\nclf = GridSearchCV(CategorySimRec(), param_grid=grid, n_jobs=3)\nclf.fit(train_and_valid, train_and_valid['reviewed'])\nprint(clf)",
      "response": {
       "content": {
        "ename": "BrokenProcessPool",
        "evalue": "A task has failed to un-serialize. Please ensure that the arguments of the function are all picklable.",
        "traceback": [
         "\u001b[0;31m---------------------------------------------------------------------------\u001b[0m",
         "\u001b[0;31m_RemoteTraceback\u001b[0m                          Traceback (most recent call last)",
         "\u001b[0;31m_RemoteTraceback\u001b[0m: \n'''\nTraceback (most recent call last):\n  File \"/Users/sam/anaconda3/lib/python3.6/site-packages/sklearn/externals/joblib/externals/loky/process_executor.py\", line 393, in _process_worker\n    call_item = call_queue.get(block=True, timeout=timeout)\n  File \"/Users/sam/anaconda3/lib/python3.6/multiprocessing/queues.py\", line 113, in get\n    return _ForkingPickler.loads(res)\nAttributeError: Can't get attribute 'max_pairwise_jaccard' on <module 'sklearn.externals.joblib.externals.loky.backend.popen_loky_posix' from '/Users/sam/anaconda3/lib/python3.6/site-packages/sklearn/externals/joblib/externals/loky/backend/popen_loky_posix.py'>\n'''",
         "\nThe above exception was the direct cause of the following exception:\n",
         "\u001b[0;31mBrokenProcessPool\u001b[0m                         Traceback (most recent call last)",
         "\u001b[0;32m<timed exec>\u001b[0m in \u001b[0;36m<module>\u001b[0;34m\u001b[0m\n",
         "\u001b[0;32m~/anaconda3/lib/python3.6/site-packages/sklearn/model_selection/_search.py\u001b[0m in \u001b[0;36mfit\u001b[0;34m(self, X, y, groups, **fit_params)\u001b[0m\n\u001b[1;32m    720\u001b[0m                 \u001b[0;32mreturn\u001b[0m \u001b[0mresults_container\u001b[0m\u001b[0;34m[\u001b[0m\u001b[0;36m0\u001b[0m\u001b[0;34m]\u001b[0m\u001b[0;34m\u001b[0m\u001b[0m\n\u001b[1;32m    721\u001b[0m \u001b[0;34m\u001b[0m\u001b[0m\n\u001b[0;32m--> 722\u001b[0;31m             \u001b[0mself\u001b[0m\u001b[0;34m.\u001b[0m\u001b[0m_run_search\u001b[0m\u001b[0;34m(\u001b[0m\u001b[0mevaluate_candidates\u001b[0m\u001b[0;34m)\u001b[0m\u001b[0;34m\u001b[0m\u001b[0m\n\u001b[0m\u001b[1;32m    723\u001b[0m \u001b[0;34m\u001b[0m\u001b[0m\n\u001b[1;32m    724\u001b[0m         \u001b[0mresults\u001b[0m \u001b[0;34m=\u001b[0m \u001b[0mresults_container\u001b[0m\u001b[0;34m[\u001b[0m\u001b[0;36m0\u001b[0m\u001b[0;34m]\u001b[0m\u001b[0;34m\u001b[0m\u001b[0m\n",
         "\u001b[0;32m~/anaconda3/lib/python3.6/site-packages/sklearn/model_selection/_search.py\u001b[0m in \u001b[0;36m_run_search\u001b[0;34m(self, evaluate_candidates)\u001b[0m\n\u001b[1;32m   1189\u001b[0m     \u001b[0;32mdef\u001b[0m \u001b[0m_run_search\u001b[0m\u001b[0;34m(\u001b[0m\u001b[0mself\u001b[0m\u001b[0;34m,\u001b[0m \u001b[0mevaluate_candidates\u001b[0m\u001b[0;34m)\u001b[0m\u001b[0;34m:\u001b[0m\u001b[0;34m\u001b[0m\u001b[0m\n\u001b[1;32m   1190\u001b[0m         \u001b[0;34m\"\"\"Search all candidates in param_grid\"\"\"\u001b[0m\u001b[0;34m\u001b[0m\u001b[0m\n\u001b[0;32m-> 1191\u001b[0;31m         \u001b[0mevaluate_candidates\u001b[0m\u001b[0;34m(\u001b[0m\u001b[0mParameterGrid\u001b[0m\u001b[0;34m(\u001b[0m\u001b[0mself\u001b[0m\u001b[0;34m.\u001b[0m\u001b[0mparam_grid\u001b[0m\u001b[0;34m)\u001b[0m\u001b[0;34m)\u001b[0m\u001b[0;34m\u001b[0m\u001b[0m\n\u001b[0m\u001b[1;32m   1192\u001b[0m \u001b[0;34m\u001b[0m\u001b[0m\n\u001b[1;32m   1193\u001b[0m \u001b[0;34m\u001b[0m\u001b[0m\n",
         "\u001b[0;32m~/anaconda3/lib/python3.6/site-packages/sklearn/model_selection/_search.py\u001b[0m in \u001b[0;36mevaluate_candidates\u001b[0;34m(candidate_params)\u001b[0m\n\u001b[1;32m    709\u001b[0m                                \u001b[0;32mfor\u001b[0m \u001b[0mparameters\u001b[0m\u001b[0;34m,\u001b[0m \u001b[0;34m(\u001b[0m\u001b[0mtrain\u001b[0m\u001b[0;34m,\u001b[0m \u001b[0mtest\u001b[0m\u001b[0;34m)\u001b[0m\u001b[0;34m\u001b[0m\u001b[0m\n\u001b[1;32m    710\u001b[0m                                in product(candidate_params,\n\u001b[0;32m--> 711\u001b[0;31m                                           cv.split(X, y, groups)))\n\u001b[0m\u001b[1;32m    712\u001b[0m \u001b[0;34m\u001b[0m\u001b[0m\n\u001b[1;32m    713\u001b[0m                 \u001b[0mall_candidate_params\u001b[0m\u001b[0;34m.\u001b[0m\u001b[0mextend\u001b[0m\u001b[0;34m(\u001b[0m\u001b[0mcandidate_params\u001b[0m\u001b[0;34m)\u001b[0m\u001b[0;34m\u001b[0m\u001b[0m\n",
         "\u001b[0;32m~/anaconda3/lib/python3.6/site-packages/sklearn/externals/joblib/parallel.py\u001b[0m in \u001b[0;36m__call__\u001b[0;34m(self, iterable)\u001b[0m\n\u001b[1;32m    994\u001b[0m \u001b[0;34m\u001b[0m\u001b[0m\n\u001b[1;32m    995\u001b[0m             \u001b[0;32mwith\u001b[0m \u001b[0mself\u001b[0m\u001b[0;34m.\u001b[0m\u001b[0m_backend\u001b[0m\u001b[0;34m.\u001b[0m\u001b[0mretrieval_context\u001b[0m\u001b[0;34m(\u001b[0m\u001b[0;34m)\u001b[0m\u001b[0;34m:\u001b[0m\u001b[0;34m\u001b[0m\u001b[0m\n\u001b[0;32m--> 996\u001b[0;31m                 \u001b[0mself\u001b[0m\u001b[0;34m.\u001b[0m\u001b[0mretrieve\u001b[0m\u001b[0;34m(\u001b[0m\u001b[0;34m)\u001b[0m\u001b[0;34m\u001b[0m\u001b[0m\n\u001b[0m\u001b[1;32m    997\u001b[0m             \u001b[0;31m# Make sure that we get a last message telling us we are done\u001b[0m\u001b[0;34m\u001b[0m\u001b[0;34m\u001b[0m\u001b[0m\n\u001b[1;32m    998\u001b[0m             \u001b[0melapsed_time\u001b[0m \u001b[0;34m=\u001b[0m \u001b[0mtime\u001b[0m\u001b[0;34m.\u001b[0m\u001b[0mtime\u001b[0m\u001b[0;34m(\u001b[0m\u001b[0;34m)\u001b[0m \u001b[0;34m-\u001b[0m \u001b[0mself\u001b[0m\u001b[0;34m.\u001b[0m\u001b[0m_start_time\u001b[0m\u001b[0;34m\u001b[0m\u001b[0m\n",
         "\u001b[0;32m~/anaconda3/lib/python3.6/site-packages/sklearn/externals/joblib/parallel.py\u001b[0m in \u001b[0;36mretrieve\u001b[0;34m(self)\u001b[0m\n\u001b[1;32m    897\u001b[0m             \u001b[0;32mtry\u001b[0m\u001b[0;34m:\u001b[0m\u001b[0;34m\u001b[0m\u001b[0m\n\u001b[1;32m    898\u001b[0m                 \u001b[0;32mif\u001b[0m \u001b[0mgetattr\u001b[0m\u001b[0;34m(\u001b[0m\u001b[0mself\u001b[0m\u001b[0;34m.\u001b[0m\u001b[0m_backend\u001b[0m\u001b[0;34m,\u001b[0m \u001b[0;34m'supports_timeout'\u001b[0m\u001b[0;34m,\u001b[0m \u001b[0;32mFalse\u001b[0m\u001b[0;34m)\u001b[0m\u001b[0;34m:\u001b[0m\u001b[0;34m\u001b[0m\u001b[0m\n\u001b[0;32m--> 899\u001b[0;31m                     \u001b[0mself\u001b[0m\u001b[0;34m.\u001b[0m\u001b[0m_output\u001b[0m\u001b[0;34m.\u001b[0m\u001b[0mextend\u001b[0m\u001b[0;34m(\u001b[0m\u001b[0mjob\u001b[0m\u001b[0;34m.\u001b[0m\u001b[0mget\u001b[0m\u001b[0;34m(\u001b[0m\u001b[0mtimeout\u001b[0m\u001b[0;34m=\u001b[0m\u001b[0mself\u001b[0m\u001b[0;34m.\u001b[0m\u001b[0mtimeout\u001b[0m\u001b[0;34m)\u001b[0m\u001b[0;34m)\u001b[0m\u001b[0;34m\u001b[0m\u001b[0m\n\u001b[0m\u001b[1;32m    900\u001b[0m                 \u001b[0;32melse\u001b[0m\u001b[0;34m:\u001b[0m\u001b[0;34m\u001b[0m\u001b[0m\n\u001b[1;32m    901\u001b[0m                     \u001b[0mself\u001b[0m\u001b[0;34m.\u001b[0m\u001b[0m_output\u001b[0m\u001b[0;34m.\u001b[0m\u001b[0mextend\u001b[0m\u001b[0;34m(\u001b[0m\u001b[0mjob\u001b[0m\u001b[0;34m.\u001b[0m\u001b[0mget\u001b[0m\u001b[0;34m(\u001b[0m\u001b[0;34m)\u001b[0m\u001b[0;34m)\u001b[0m\u001b[0;34m\u001b[0m\u001b[0m\n",
         "\u001b[0;32m~/anaconda3/lib/python3.6/site-packages/sklearn/externals/joblib/_parallel_backends.py\u001b[0m in \u001b[0;36mwrap_future_result\u001b[0;34m(future, timeout)\u001b[0m\n\u001b[1;32m    515\u001b[0m         AsyncResults.get from multiprocessing.\"\"\"\n\u001b[1;32m    516\u001b[0m         \u001b[0;32mtry\u001b[0m\u001b[0;34m:\u001b[0m\u001b[0;34m\u001b[0m\u001b[0m\n\u001b[0;32m--> 517\u001b[0;31m             \u001b[0;32mreturn\u001b[0m \u001b[0mfuture\u001b[0m\u001b[0;34m.\u001b[0m\u001b[0mresult\u001b[0m\u001b[0;34m(\u001b[0m\u001b[0mtimeout\u001b[0m\u001b[0;34m=\u001b[0m\u001b[0mtimeout\u001b[0m\u001b[0;34m)\u001b[0m\u001b[0;34m\u001b[0m\u001b[0m\n\u001b[0m\u001b[1;32m    518\u001b[0m         \u001b[0;32mexcept\u001b[0m \u001b[0mLokyTimeoutError\u001b[0m\u001b[0;34m:\u001b[0m\u001b[0;34m\u001b[0m\u001b[0m\n\u001b[1;32m    519\u001b[0m             \u001b[0;32mraise\u001b[0m \u001b[0mTimeoutError\u001b[0m\u001b[0;34m(\u001b[0m\u001b[0;34m)\u001b[0m\u001b[0;34m\u001b[0m\u001b[0m\n",
         "\u001b[0;32m~/anaconda3/lib/python3.6/concurrent/futures/_base.py\u001b[0m in \u001b[0;36mresult\u001b[0;34m(self, timeout)\u001b[0m\n\u001b[1;32m    430\u001b[0m                 \u001b[0;32mraise\u001b[0m \u001b[0mCancelledError\u001b[0m\u001b[0;34m(\u001b[0m\u001b[0;34m)\u001b[0m\u001b[0;34m\u001b[0m\u001b[0m\n\u001b[1;32m    431\u001b[0m             \u001b[0;32melif\u001b[0m \u001b[0mself\u001b[0m\u001b[0;34m.\u001b[0m\u001b[0m_state\u001b[0m \u001b[0;34m==\u001b[0m \u001b[0mFINISHED\u001b[0m\u001b[0;34m:\u001b[0m\u001b[0;34m\u001b[0m\u001b[0m\n\u001b[0;32m--> 432\u001b[0;31m                 \u001b[0;32mreturn\u001b[0m \u001b[0mself\u001b[0m\u001b[0;34m.\u001b[0m\u001b[0m__get_result\u001b[0m\u001b[0;34m(\u001b[0m\u001b[0;34m)\u001b[0m\u001b[0;34m\u001b[0m\u001b[0m\n\u001b[0m\u001b[1;32m    433\u001b[0m             \u001b[0;32melse\u001b[0m\u001b[0;34m:\u001b[0m\u001b[0;34m\u001b[0m\u001b[0m\n\u001b[1;32m    434\u001b[0m                 \u001b[0;32mraise\u001b[0m \u001b[0mTimeoutError\u001b[0m\u001b[0;34m(\u001b[0m\u001b[0;34m)\u001b[0m\u001b[0;34m\u001b[0m\u001b[0m\n",
         "\u001b[0;32m~/anaconda3/lib/python3.6/concurrent/futures/_base.py\u001b[0m in \u001b[0;36m__get_result\u001b[0;34m(self)\u001b[0m\n\u001b[1;32m    382\u001b[0m     \u001b[0;32mdef\u001b[0m \u001b[0m__get_result\u001b[0m\u001b[0;34m(\u001b[0m\u001b[0mself\u001b[0m\u001b[0;34m)\u001b[0m\u001b[0;34m:\u001b[0m\u001b[0;34m\u001b[0m\u001b[0m\n\u001b[1;32m    383\u001b[0m         \u001b[0;32mif\u001b[0m \u001b[0mself\u001b[0m\u001b[0;34m.\u001b[0m\u001b[0m_exception\u001b[0m\u001b[0;34m:\u001b[0m\u001b[0;34m\u001b[0m\u001b[0m\n\u001b[0;32m--> 384\u001b[0;31m             \u001b[0;32mraise\u001b[0m \u001b[0mself\u001b[0m\u001b[0;34m.\u001b[0m\u001b[0m_exception\u001b[0m\u001b[0;34m\u001b[0m\u001b[0m\n\u001b[0m\u001b[1;32m    385\u001b[0m         \u001b[0;32melse\u001b[0m\u001b[0;34m:\u001b[0m\u001b[0;34m\u001b[0m\u001b[0m\n\u001b[1;32m    386\u001b[0m             \u001b[0;32mreturn\u001b[0m \u001b[0mself\u001b[0m\u001b[0;34m.\u001b[0m\u001b[0m_result\u001b[0m\u001b[0;34m\u001b[0m\u001b[0m\n",
         "\u001b[0;32m~/anaconda3/lib/python3.6/site-packages/sklearn/externals/joblib/externals/loky/_base.py\u001b[0m in \u001b[0;36m_invoke_callbacks\u001b[0;34m(self)\u001b[0m\n\u001b[1;32m    623\u001b[0m         \u001b[0;32mfor\u001b[0m \u001b[0mcallback\u001b[0m \u001b[0;32min\u001b[0m \u001b[0mself\u001b[0m\u001b[0;34m.\u001b[0m\u001b[0m_done_callbacks\u001b[0m\u001b[0;34m:\u001b[0m\u001b[0;34m\u001b[0m\u001b[0m\n\u001b[1;32m    624\u001b[0m             \u001b[0;32mtry\u001b[0m\u001b[0;34m:\u001b[0m\u001b[0;34m\u001b[0m\u001b[0m\n\u001b[0;32m--> 625\u001b[0;31m                 \u001b[0mcallback\u001b[0m\u001b[0;34m(\u001b[0m\u001b[0mself\u001b[0m\u001b[0;34m)\u001b[0m\u001b[0;34m\u001b[0m\u001b[0m\n\u001b[0m\u001b[1;32m    626\u001b[0m             \u001b[0;32mexcept\u001b[0m \u001b[0mBaseException\u001b[0m\u001b[0;34m:\u001b[0m\u001b[0;34m\u001b[0m\u001b[0m\n\u001b[1;32m    627\u001b[0m                 \u001b[0mLOGGER\u001b[0m\u001b[0;34m.\u001b[0m\u001b[0mexception\u001b[0m\u001b[0;34m(\u001b[0m\u001b[0;34m'exception calling callback for %r'\u001b[0m\u001b[0;34m,\u001b[0m \u001b[0mself\u001b[0m\u001b[0;34m)\u001b[0m\u001b[0;34m\u001b[0m\u001b[0m\n",
         "\u001b[0;32m~/anaconda3/lib/python3.6/site-packages/sklearn/externals/joblib/parallel.py\u001b[0m in \u001b[0;36m__call__\u001b[0;34m(self, out)\u001b[0m\n\u001b[1;32m    373\u001b[0m         \u001b[0;32mwith\u001b[0m \u001b[0mself\u001b[0m\u001b[0;34m.\u001b[0m\u001b[0mparallel\u001b[0m\u001b[0;34m.\u001b[0m\u001b[0m_lock\u001b[0m\u001b[0;34m:\u001b[0m\u001b[0;34m\u001b[0m\u001b[0m\n\u001b[1;32m    374\u001b[0m             \u001b[0;32mif\u001b[0m \u001b[0mself\u001b[0m\u001b[0;34m.\u001b[0m\u001b[0mparallel\u001b[0m\u001b[0;34m.\u001b[0m\u001b[0m_original_iterator\u001b[0m \u001b[0;32mis\u001b[0m \u001b[0;32mnot\u001b[0m \u001b[0;32mNone\u001b[0m\u001b[0;34m:\u001b[0m\u001b[0;34m\u001b[0m\u001b[0m\n\u001b[0;32m--> 375\u001b[0;31m                 \u001b[0mself\u001b[0m\u001b[0;34m.\u001b[0m\u001b[0mparallel\u001b[0m\u001b[0;34m.\u001b[0m\u001b[0mdispatch_next\u001b[0m\u001b[0;34m(\u001b[0m\u001b[0;34m)\u001b[0m\u001b[0;34m\u001b[0m\u001b[0m\n\u001b[0m\u001b[1;32m    376\u001b[0m \u001b[0;34m\u001b[0m\u001b[0m\n\u001b[1;32m    377\u001b[0m \u001b[0;34m\u001b[0m\u001b[0m\n",
         "\u001b[0;32m~/anaconda3/lib/python3.6/site-packages/sklearn/externals/joblib/parallel.py\u001b[0m in \u001b[0;36mdispatch_next\u001b[0;34m(self)\u001b[0m\n\u001b[1;32m    795\u001b[0m \u001b[0;34m\u001b[0m\u001b[0m\n\u001b[1;32m    796\u001b[0m         \"\"\"\n\u001b[0;32m--> 797\u001b[0;31m         \u001b[0;32mif\u001b[0m \u001b[0;32mnot\u001b[0m \u001b[0mself\u001b[0m\u001b[0;34m.\u001b[0m\u001b[0mdispatch_one_batch\u001b[0m\u001b[0;34m(\u001b[0m\u001b[0mself\u001b[0m\u001b[0;34m.\u001b[0m\u001b[0m_original_iterator\u001b[0m\u001b[0;34m)\u001b[0m\u001b[0;34m:\u001b[0m\u001b[0;34m\u001b[0m\u001b[0m\n\u001b[0m\u001b[1;32m    798\u001b[0m             \u001b[0mself\u001b[0m\u001b[0;34m.\u001b[0m\u001b[0m_iterating\u001b[0m \u001b[0;34m=\u001b[0m \u001b[0;32mFalse\u001b[0m\u001b[0;34m\u001b[0m\u001b[0m\n\u001b[1;32m    799\u001b[0m             \u001b[0mself\u001b[0m\u001b[0;34m.\u001b[0m\u001b[0m_original_iterator\u001b[0m \u001b[0;34m=\u001b[0m \u001b[0;32mNone\u001b[0m\u001b[0;34m\u001b[0m\u001b[0m\n",
         "\u001b[0;32m~/anaconda3/lib/python3.6/site-packages/sklearn/externals/joblib/parallel.py\u001b[0m in \u001b[0;36mdispatch_one_batch\u001b[0;34m(self, iterator)\u001b[0m\n\u001b[1;32m    823\u001b[0m                 \u001b[0;32mreturn\u001b[0m \u001b[0;32mFalse\u001b[0m\u001b[0;34m\u001b[0m\u001b[0m\n\u001b[1;32m    824\u001b[0m             \u001b[0;32melse\u001b[0m\u001b[0;34m:\u001b[0m\u001b[0;34m\u001b[0m\u001b[0m\n\u001b[0;32m--> 825\u001b[0;31m                 \u001b[0mself\u001b[0m\u001b[0;34m.\u001b[0m\u001b[0m_dispatch\u001b[0m\u001b[0;34m(\u001b[0m\u001b[0mtasks\u001b[0m\u001b[0;34m)\u001b[0m\u001b[0;34m\u001b[0m\u001b[0m\n\u001b[0m\u001b[1;32m    826\u001b[0m                 \u001b[0;32mreturn\u001b[0m \u001b[0;32mTrue\u001b[0m\u001b[0;34m\u001b[0m\u001b[0m\n\u001b[1;32m    827\u001b[0m \u001b[0;34m\u001b[0m\u001b[0m\n",
         "\u001b[0;32m~/anaconda3/lib/python3.6/site-packages/sklearn/externals/joblib/parallel.py\u001b[0m in \u001b[0;36m_dispatch\u001b[0;34m(self, batch)\u001b[0m\n\u001b[1;32m    780\u001b[0m         \u001b[0;32mwith\u001b[0m \u001b[0mself\u001b[0m\u001b[0;34m.\u001b[0m\u001b[0m_lock\u001b[0m\u001b[0;34m:\u001b[0m\u001b[0;34m\u001b[0m\u001b[0m\n\u001b[1;32m    781\u001b[0m             \u001b[0mjob_idx\u001b[0m \u001b[0;34m=\u001b[0m \u001b[0mlen\u001b[0m\u001b[0;34m(\u001b[0m\u001b[0mself\u001b[0m\u001b[0;34m.\u001b[0m\u001b[0m_jobs\u001b[0m\u001b[0;34m)\u001b[0m\u001b[0;34m\u001b[0m\u001b[0m\n\u001b[0;32m--> 782\u001b[0;31m             \u001b[0mjob\u001b[0m \u001b[0;34m=\u001b[0m \u001b[0mself\u001b[0m\u001b[0;34m.\u001b[0m\u001b[0m_backend\u001b[0m\u001b[0;34m.\u001b[0m\u001b[0mapply_async\u001b[0m\u001b[0;34m(\u001b[0m\u001b[0mbatch\u001b[0m\u001b[0;34m,\u001b[0m \u001b[0mcallback\u001b[0m\u001b[0;34m=\u001b[0m\u001b[0mcb\u001b[0m\u001b[0;34m)\u001b[0m\u001b[0;34m\u001b[0m\u001b[0m\n\u001b[0m\u001b[1;32m    783\u001b[0m             \u001b[0;31m# A job can complete so quickly than its callback is\u001b[0m\u001b[0;34m\u001b[0m\u001b[0;34m\u001b[0m\u001b[0m\n\u001b[1;32m    784\u001b[0m             \u001b[0;31m# called before we get here, causing self._jobs to\u001b[0m\u001b[0;34m\u001b[0m\u001b[0;34m\u001b[0m\u001b[0m\n",
         "\u001b[0;32m~/anaconda3/lib/python3.6/site-packages/sklearn/externals/joblib/_parallel_backends.py\u001b[0m in \u001b[0;36mapply_async\u001b[0;34m(self, func, callback)\u001b[0m\n\u001b[1;32m    504\u001b[0m     \u001b[0;32mdef\u001b[0m \u001b[0mapply_async\u001b[0m\u001b[0;34m(\u001b[0m\u001b[0mself\u001b[0m\u001b[0;34m,\u001b[0m \u001b[0mfunc\u001b[0m\u001b[0;34m,\u001b[0m \u001b[0mcallback\u001b[0m\u001b[0;34m=\u001b[0m\u001b[0;32mNone\u001b[0m\u001b[0;34m)\u001b[0m\u001b[0;34m:\u001b[0m\u001b[0;34m\u001b[0m\u001b[0m\n\u001b[1;32m    505\u001b[0m         \u001b[0;34m\"\"\"Schedule a func to be run\"\"\"\u001b[0m\u001b[0;34m\u001b[0m\u001b[0m\n\u001b[0;32m--> 506\u001b[0;31m         \u001b[0mfuture\u001b[0m \u001b[0;34m=\u001b[0m \u001b[0mself\u001b[0m\u001b[0;34m.\u001b[0m\u001b[0m_workers\u001b[0m\u001b[0;34m.\u001b[0m\u001b[0msubmit\u001b[0m\u001b[0;34m(\u001b[0m\u001b[0mSafeFunction\u001b[0m\u001b[0;34m(\u001b[0m\u001b[0mfunc\u001b[0m\u001b[0;34m)\u001b[0m\u001b[0;34m)\u001b[0m\u001b[0;34m\u001b[0m\u001b[0m\n\u001b[0m\u001b[1;32m    507\u001b[0m         \u001b[0mfuture\u001b[0m\u001b[0;34m.\u001b[0m\u001b[0mget\u001b[0m \u001b[0;34m=\u001b[0m \u001b[0mfunctools\u001b[0m\u001b[0;34m.\u001b[0m\u001b[0mpartial\u001b[0m\u001b[0;34m(\u001b[0m\u001b[0mself\u001b[0m\u001b[0;34m.\u001b[0m\u001b[0mwrap_future_result\u001b[0m\u001b[0;34m,\u001b[0m \u001b[0mfuture\u001b[0m\u001b[0;34m)\u001b[0m\u001b[0;34m\u001b[0m\u001b[0m\n\u001b[1;32m    508\u001b[0m         \u001b[0;32mif\u001b[0m \u001b[0mcallback\u001b[0m \u001b[0;32mis\u001b[0m \u001b[0;32mnot\u001b[0m \u001b[0;32mNone\u001b[0m\u001b[0;34m:\u001b[0m\u001b[0;34m\u001b[0m\u001b[0m\n",
         "\u001b[0;32m~/anaconda3/lib/python3.6/site-packages/sklearn/externals/joblib/externals/loky/reusable_executor.py\u001b[0m in \u001b[0;36msubmit\u001b[0;34m(self, fn, *args, **kwargs)\u001b[0m\n\u001b[1;32m    149\u001b[0m         \u001b[0;32mwith\u001b[0m \u001b[0mself\u001b[0m\u001b[0;34m.\u001b[0m\u001b[0m_submit_resize_lock\u001b[0m\u001b[0;34m:\u001b[0m\u001b[0;34m\u001b[0m\u001b[0m\n\u001b[1;32m    150\u001b[0m             return super(_ReusablePoolExecutor, self).submit(\n\u001b[0;32m--> 151\u001b[0;31m                 fn, *args, **kwargs)\n\u001b[0m\u001b[1;32m    152\u001b[0m \u001b[0;34m\u001b[0m\u001b[0m\n\u001b[1;32m    153\u001b[0m     \u001b[0;32mdef\u001b[0m \u001b[0m_resize\u001b[0m\u001b[0;34m(\u001b[0m\u001b[0mself\u001b[0m\u001b[0;34m,\u001b[0m \u001b[0mmax_workers\u001b[0m\u001b[0;34m)\u001b[0m\u001b[0;34m:\u001b[0m\u001b[0;34m\u001b[0m\u001b[0m\n",
         "\u001b[0;32m~/anaconda3/lib/python3.6/site-packages/sklearn/externals/joblib/externals/loky/process_executor.py\u001b[0m in \u001b[0;36msubmit\u001b[0;34m(self, fn, *args, **kwargs)\u001b[0m\n\u001b[1;32m   1014\u001b[0m         \u001b[0;32mwith\u001b[0m \u001b[0mself\u001b[0m\u001b[0;34m.\u001b[0m\u001b[0m_flags\u001b[0m\u001b[0;34m.\u001b[0m\u001b[0mshutdown_lock\u001b[0m\u001b[0;34m:\u001b[0m\u001b[0;34m\u001b[0m\u001b[0m\n\u001b[1;32m   1015\u001b[0m             \u001b[0;32mif\u001b[0m \u001b[0mself\u001b[0m\u001b[0;34m.\u001b[0m\u001b[0m_flags\u001b[0m\u001b[0;34m.\u001b[0m\u001b[0mbroken\u001b[0m \u001b[0;32mis\u001b[0m \u001b[0;32mnot\u001b[0m \u001b[0;32mNone\u001b[0m\u001b[0;34m:\u001b[0m\u001b[0;34m\u001b[0m\u001b[0m\n\u001b[0;32m-> 1016\u001b[0;31m                 \u001b[0;32mraise\u001b[0m \u001b[0mself\u001b[0m\u001b[0;34m.\u001b[0m\u001b[0m_flags\u001b[0m\u001b[0;34m.\u001b[0m\u001b[0mbroken\u001b[0m\u001b[0;34m\u001b[0m\u001b[0m\n\u001b[0m\u001b[1;32m   1017\u001b[0m             \u001b[0;32mif\u001b[0m \u001b[0mself\u001b[0m\u001b[0;34m.\u001b[0m\u001b[0m_flags\u001b[0m\u001b[0;34m.\u001b[0m\u001b[0mshutdown\u001b[0m\u001b[0;34m:\u001b[0m\u001b[0;34m\u001b[0m\u001b[0m\n\u001b[1;32m   1018\u001b[0m                 raise ShutdownExecutorError(\n",
         "\u001b[0;31mBrokenProcessPool\u001b[0m: A task has failed to un-serialize. Please ensure that the arguments of the function are all picklable."
        ]
       },
       "metadata": {},
       "msg_type": "error",
       "version": "5.3"
      },
      "timestamp": "2018-11-16T23:56:45.858Z"
     },
     {
      "code": "%%time\n\nfrom sklearn.model_selection import GridSearchCV\n\ngrid = {\n    'cutoff': [0.4, 0.5, 0.6],\n    'sim': ['max_pairwise_jaccard']\n}\n\nclf = GridSearchCV(CategorySimRec(), param_grid=grid, n_jobs=3)\nclf.fit(train_and_valid, train_and_valid['reviewed'])\nprint(clf)",
      "response": {
       "content": {
        "ename": "KeyError",
        "evalue": "<function has_shared_category at 0x1a688f5840>",
        "traceback": [
         "\u001b[0;31m---------------------------------------------------------------------------\u001b[0m",
         "\u001b[0;31mKeyError\u001b[0m                                  Traceback (most recent call last)",
         "\u001b[0;32m<timed exec>\u001b[0m in \u001b[0;36m<module>\u001b[0;34m\u001b[0m\n",
         "\u001b[0;32m~/anaconda3/lib/python3.6/site-packages/sklearn/model_selection/_search.py\u001b[0m in \u001b[0;36mfit\u001b[0;34m(self, X, y, groups, **fit_params)\u001b[0m\n\u001b[1;32m    675\u001b[0m         \u001b[0mn_splits\u001b[0m \u001b[0;34m=\u001b[0m \u001b[0mcv\u001b[0m\u001b[0;34m.\u001b[0m\u001b[0mget_n_splits\u001b[0m\u001b[0;34m(\u001b[0m\u001b[0mX\u001b[0m\u001b[0;34m,\u001b[0m \u001b[0my\u001b[0m\u001b[0;34m,\u001b[0m \u001b[0mgroups\u001b[0m\u001b[0;34m)\u001b[0m\u001b[0;34m\u001b[0m\u001b[0m\n\u001b[1;32m    676\u001b[0m \u001b[0;34m\u001b[0m\u001b[0m\n\u001b[0;32m--> 677\u001b[0;31m         \u001b[0mbase_estimator\u001b[0m \u001b[0;34m=\u001b[0m \u001b[0mclone\u001b[0m\u001b[0;34m(\u001b[0m\u001b[0mself\u001b[0m\u001b[0;34m.\u001b[0m\u001b[0mestimator\u001b[0m\u001b[0;34m)\u001b[0m\u001b[0;34m\u001b[0m\u001b[0m\n\u001b[0m\u001b[1;32m    678\u001b[0m \u001b[0;34m\u001b[0m\u001b[0m\n\u001b[1;32m    679\u001b[0m         parallel = Parallel(n_jobs=self.n_jobs, verbose=self.verbose,\n",
         "\u001b[0;32m~/anaconda3/lib/python3.6/site-packages/sklearn/base.py\u001b[0m in \u001b[0;36mclone\u001b[0;34m(estimator, safe)\u001b[0m\n\u001b[1;32m     61\u001b[0m     \u001b[0;32mfor\u001b[0m \u001b[0mname\u001b[0m\u001b[0;34m,\u001b[0m \u001b[0mparam\u001b[0m \u001b[0;32min\u001b[0m \u001b[0msix\u001b[0m\u001b[0;34m.\u001b[0m\u001b[0miteritems\u001b[0m\u001b[0;34m(\u001b[0m\u001b[0mnew_object_params\u001b[0m\u001b[0;34m)\u001b[0m\u001b[0;34m:\u001b[0m\u001b[0;34m\u001b[0m\u001b[0m\n\u001b[1;32m     62\u001b[0m         \u001b[0mnew_object_params\u001b[0m\u001b[0;34m[\u001b[0m\u001b[0mname\u001b[0m\u001b[0;34m]\u001b[0m \u001b[0;34m=\u001b[0m \u001b[0mclone\u001b[0m\u001b[0;34m(\u001b[0m\u001b[0mparam\u001b[0m\u001b[0;34m,\u001b[0m \u001b[0msafe\u001b[0m\u001b[0;34m=\u001b[0m\u001b[0;32mFalse\u001b[0m\u001b[0;34m)\u001b[0m\u001b[0;34m\u001b[0m\u001b[0m\n\u001b[0;32m---> 63\u001b[0;31m     \u001b[0mnew_object\u001b[0m \u001b[0;34m=\u001b[0m \u001b[0mklass\u001b[0m\u001b[0;34m(\u001b[0m\u001b[0;34m**\u001b[0m\u001b[0mnew_object_params\u001b[0m\u001b[0;34m)\u001b[0m\u001b[0;34m\u001b[0m\u001b[0m\n\u001b[0m\u001b[1;32m     64\u001b[0m     \u001b[0mparams_set\u001b[0m \u001b[0;34m=\u001b[0m \u001b[0mnew_object\u001b[0m\u001b[0;34m.\u001b[0m\u001b[0mget_params\u001b[0m\u001b[0;34m(\u001b[0m\u001b[0mdeep\u001b[0m\u001b[0;34m=\u001b[0m\u001b[0;32mFalse\u001b[0m\u001b[0;34m)\u001b[0m\u001b[0;34m\u001b[0m\u001b[0m\n\u001b[1;32m     65\u001b[0m \u001b[0;34m\u001b[0m\u001b[0m\n",
         "\u001b[0;32m<ipython-input-252-9479cfacf846>\u001b[0m in \u001b[0;36m__init__\u001b[0;34m(self, cutoff, sim)\u001b[0m\n\u001b[1;32m     10\u001b[0m     \u001b[0;32mdef\u001b[0m \u001b[0m__init__\u001b[0m\u001b[0;34m(\u001b[0m\u001b[0mself\u001b[0m\u001b[0;34m,\u001b[0m \u001b[0mcutoff\u001b[0m\u001b[0;34m=\u001b[0m\u001b[0;36m0.5\u001b[0m\u001b[0;34m,\u001b[0m \u001b[0msim\u001b[0m\u001b[0;34m=\u001b[0m\u001b[0;34m'has_shared_category'\u001b[0m\u001b[0;34m)\u001b[0m\u001b[0;34m:\u001b[0m\u001b[0;34m\u001b[0m\u001b[0m\n\u001b[1;32m     11\u001b[0m         \u001b[0mself\u001b[0m\u001b[0;34m.\u001b[0m\u001b[0mcutoff\u001b[0m \u001b[0;34m=\u001b[0m \u001b[0mcutoff\u001b[0m\u001b[0;34m\u001b[0m\u001b[0m\n\u001b[0;32m---> 12\u001b[0;31m         \u001b[0mself\u001b[0m\u001b[0;34m.\u001b[0m\u001b[0msim\u001b[0m \u001b[0;34m=\u001b[0m \u001b[0msim_map\u001b[0m\u001b[0;34m[\u001b[0m\u001b[0msim\u001b[0m\u001b[0;34m]\u001b[0m\u001b[0;34m\u001b[0m\u001b[0m\n\u001b[0m\u001b[1;32m     13\u001b[0m \u001b[0;34m\u001b[0m\u001b[0m\n\u001b[1;32m     14\u001b[0m     \u001b[0;32mdef\u001b[0m \u001b[0mfit\u001b[0m\u001b[0;34m(\u001b[0m\u001b[0mself\u001b[0m\u001b[0;34m,\u001b[0m \u001b[0mX\u001b[0m\u001b[0;34m,\u001b[0m \u001b[0my\u001b[0m\u001b[0;34m=\u001b[0m\u001b[0;32mNone\u001b[0m\u001b[0;34m)\u001b[0m\u001b[0;34m:\u001b[0m\u001b[0;34m\u001b[0m\u001b[0m\n",
         "\u001b[0;31mKeyError\u001b[0m: <function has_shared_category at 0x1a688f5840>"
        ]
       },
       "metadata": {},
       "msg_type": "error",
       "version": "5.3"
      },
      "timestamp": "2018-11-16T23:57:58.197Z"
     },
     {
      "code": "%%time\n\nfrom sklearn.model_selection import GridSearchCV\n\ngrid = {\n    'cutoff': [0.4, 0.5, 0.6],\n    'sim': ['max_pairwise_jaccard']\n}\n\nclf = GridSearchCV(CategorySimRec(), param_grid=grid, n_jobs=3)\nclf.fit(train_and_valid, train_and_valid['reviewed'])\nprint(clf)",
      "response": {
       "content": {
        "ename": "KeyError",
        "evalue": "<function has_shared_category at 0x1a688f5840>",
        "traceback": [
         "\u001b[0;31m---------------------------------------------------------------------------\u001b[0m",
         "\u001b[0;31mKeyError\u001b[0m                                  Traceback (most recent call last)",
         "\u001b[0;32m<timed exec>\u001b[0m in \u001b[0;36m<module>\u001b[0;34m\u001b[0m\n",
         "\u001b[0;32m~/anaconda3/lib/python3.6/site-packages/sklearn/model_selection/_search.py\u001b[0m in \u001b[0;36mfit\u001b[0;34m(self, X, y, groups, **fit_params)\u001b[0m\n\u001b[1;32m    675\u001b[0m         \u001b[0mn_splits\u001b[0m \u001b[0;34m=\u001b[0m \u001b[0mcv\u001b[0m\u001b[0;34m.\u001b[0m\u001b[0mget_n_splits\u001b[0m\u001b[0;34m(\u001b[0m\u001b[0mX\u001b[0m\u001b[0;34m,\u001b[0m \u001b[0my\u001b[0m\u001b[0;34m,\u001b[0m \u001b[0mgroups\u001b[0m\u001b[0;34m)\u001b[0m\u001b[0;34m\u001b[0m\u001b[0m\n\u001b[1;32m    676\u001b[0m \u001b[0;34m\u001b[0m\u001b[0m\n\u001b[0;32m--> 677\u001b[0;31m         \u001b[0mbase_estimator\u001b[0m \u001b[0;34m=\u001b[0m \u001b[0mclone\u001b[0m\u001b[0;34m(\u001b[0m\u001b[0mself\u001b[0m\u001b[0;34m.\u001b[0m\u001b[0mestimator\u001b[0m\u001b[0;34m)\u001b[0m\u001b[0;34m\u001b[0m\u001b[0m\n\u001b[0m\u001b[1;32m    678\u001b[0m \u001b[0;34m\u001b[0m\u001b[0m\n\u001b[1;32m    679\u001b[0m         parallel = Parallel(n_jobs=self.n_jobs, verbose=self.verbose,\n",
         "\u001b[0;32m~/anaconda3/lib/python3.6/site-packages/sklearn/base.py\u001b[0m in \u001b[0;36mclone\u001b[0;34m(estimator, safe)\u001b[0m\n\u001b[1;32m     61\u001b[0m     \u001b[0;32mfor\u001b[0m \u001b[0mname\u001b[0m\u001b[0;34m,\u001b[0m \u001b[0mparam\u001b[0m \u001b[0;32min\u001b[0m \u001b[0msix\u001b[0m\u001b[0;34m.\u001b[0m\u001b[0miteritems\u001b[0m\u001b[0;34m(\u001b[0m\u001b[0mnew_object_params\u001b[0m\u001b[0;34m)\u001b[0m\u001b[0;34m:\u001b[0m\u001b[0;34m\u001b[0m\u001b[0m\n\u001b[1;32m     62\u001b[0m         \u001b[0mnew_object_params\u001b[0m\u001b[0;34m[\u001b[0m\u001b[0mname\u001b[0m\u001b[0;34m]\u001b[0m \u001b[0;34m=\u001b[0m \u001b[0mclone\u001b[0m\u001b[0;34m(\u001b[0m\u001b[0mparam\u001b[0m\u001b[0;34m,\u001b[0m \u001b[0msafe\u001b[0m\u001b[0;34m=\u001b[0m\u001b[0;32mFalse\u001b[0m\u001b[0;34m)\u001b[0m\u001b[0;34m\u001b[0m\u001b[0m\n\u001b[0;32m---> 63\u001b[0;31m     \u001b[0mnew_object\u001b[0m \u001b[0;34m=\u001b[0m \u001b[0mklass\u001b[0m\u001b[0;34m(\u001b[0m\u001b[0;34m**\u001b[0m\u001b[0mnew_object_params\u001b[0m\u001b[0;34m)\u001b[0m\u001b[0;34m\u001b[0m\u001b[0m\n\u001b[0m\u001b[1;32m     64\u001b[0m     \u001b[0mparams_set\u001b[0m \u001b[0;34m=\u001b[0m \u001b[0mnew_object\u001b[0m\u001b[0;34m.\u001b[0m\u001b[0mget_params\u001b[0m\u001b[0;34m(\u001b[0m\u001b[0mdeep\u001b[0m\u001b[0;34m=\u001b[0m\u001b[0;32mFalse\u001b[0m\u001b[0;34m)\u001b[0m\u001b[0;34m\u001b[0m\u001b[0m\n\u001b[1;32m     65\u001b[0m \u001b[0;34m\u001b[0m\u001b[0m\n",
         "\u001b[0;32m<ipython-input-254-9479cfacf846>\u001b[0m in \u001b[0;36m__init__\u001b[0;34m(self, cutoff, sim)\u001b[0m\n\u001b[1;32m     10\u001b[0m     \u001b[0;32mdef\u001b[0m \u001b[0m__init__\u001b[0m\u001b[0;34m(\u001b[0m\u001b[0mself\u001b[0m\u001b[0;34m,\u001b[0m \u001b[0mcutoff\u001b[0m\u001b[0;34m=\u001b[0m\u001b[0;36m0.5\u001b[0m\u001b[0;34m,\u001b[0m \u001b[0msim\u001b[0m\u001b[0;34m=\u001b[0m\u001b[0;34m'has_shared_category'\u001b[0m\u001b[0;34m)\u001b[0m\u001b[0;34m:\u001b[0m\u001b[0;34m\u001b[0m\u001b[0m\n\u001b[1;32m     11\u001b[0m         \u001b[0mself\u001b[0m\u001b[0;34m.\u001b[0m\u001b[0mcutoff\u001b[0m \u001b[0;34m=\u001b[0m \u001b[0mcutoff\u001b[0m\u001b[0;34m\u001b[0m\u001b[0m\n\u001b[0;32m---> 12\u001b[0;31m         \u001b[0mself\u001b[0m\u001b[0;34m.\u001b[0m\u001b[0msim\u001b[0m \u001b[0;34m=\u001b[0m \u001b[0msim_map\u001b[0m\u001b[0;34m[\u001b[0m\u001b[0msim\u001b[0m\u001b[0;34m]\u001b[0m\u001b[0;34m\u001b[0m\u001b[0m\n\u001b[0m\u001b[1;32m     13\u001b[0m \u001b[0;34m\u001b[0m\u001b[0m\n\u001b[1;32m     14\u001b[0m     \u001b[0;32mdef\u001b[0m \u001b[0mfit\u001b[0m\u001b[0;34m(\u001b[0m\u001b[0mself\u001b[0m\u001b[0;34m,\u001b[0m \u001b[0mX\u001b[0m\u001b[0;34m,\u001b[0m \u001b[0my\u001b[0m\u001b[0;34m=\u001b[0m\u001b[0;32mNone\u001b[0m\u001b[0;34m)\u001b[0m\u001b[0;34m:\u001b[0m\u001b[0;34m\u001b[0m\u001b[0m\n",
         "\u001b[0;31mKeyError\u001b[0m: <function has_shared_category at 0x1a688f5840>"
        ]
       },
       "metadata": {},
       "msg_type": "error",
       "version": "5.3"
      },
      "timestamp": "2018-11-16T23:58:28.183Z"
     },
     {
      "code": "%%time\n\nfrom sklearn.model_selection import GridSearchCV\n\ngrid = {\n    'cutoff': [0.4, 0.5, 0.6],\n    'sim': ['max_pairwise_jaccard']\n}\n\nclf = GridSearchCV(CategorySimRec(), param_grid=grid, n_jobs=3)\nclf.fit(train_and_valid, train_and_valid['reviewed'])\nprint(clf)",
      "response": {
       "content": {
        "ename": "KeyError",
        "evalue": "<function has_shared_category at 0x1a688f5840>",
        "traceback": [
         "\u001b[0;31m---------------------------------------------------------------------------\u001b[0m",
         "\u001b[0;31mKeyError\u001b[0m                                  Traceback (most recent call last)",
         "\u001b[0;32m<timed exec>\u001b[0m in \u001b[0;36m<module>\u001b[0;34m\u001b[0m\n",
         "\u001b[0;32m~/anaconda3/lib/python3.6/site-packages/sklearn/model_selection/_search.py\u001b[0m in \u001b[0;36mfit\u001b[0;34m(self, X, y, groups, **fit_params)\u001b[0m\n\u001b[1;32m    675\u001b[0m         \u001b[0mn_splits\u001b[0m \u001b[0;34m=\u001b[0m \u001b[0mcv\u001b[0m\u001b[0;34m.\u001b[0m\u001b[0mget_n_splits\u001b[0m\u001b[0;34m(\u001b[0m\u001b[0mX\u001b[0m\u001b[0;34m,\u001b[0m \u001b[0my\u001b[0m\u001b[0;34m,\u001b[0m \u001b[0mgroups\u001b[0m\u001b[0;34m)\u001b[0m\u001b[0;34m\u001b[0m\u001b[0m\n\u001b[1;32m    676\u001b[0m \u001b[0;34m\u001b[0m\u001b[0m\n\u001b[0;32m--> 677\u001b[0;31m         \u001b[0mbase_estimator\u001b[0m \u001b[0;34m=\u001b[0m \u001b[0mclone\u001b[0m\u001b[0;34m(\u001b[0m\u001b[0mself\u001b[0m\u001b[0;34m.\u001b[0m\u001b[0mestimator\u001b[0m\u001b[0;34m)\u001b[0m\u001b[0;34m\u001b[0m\u001b[0m\n\u001b[0m\u001b[1;32m    678\u001b[0m \u001b[0;34m\u001b[0m\u001b[0m\n\u001b[1;32m    679\u001b[0m         parallel = Parallel(n_jobs=self.n_jobs, verbose=self.verbose,\n",
         "\u001b[0;32m~/anaconda3/lib/python3.6/site-packages/sklearn/base.py\u001b[0m in \u001b[0;36mclone\u001b[0;34m(estimator, safe)\u001b[0m\n\u001b[1;32m     61\u001b[0m     \u001b[0;32mfor\u001b[0m \u001b[0mname\u001b[0m\u001b[0;34m,\u001b[0m \u001b[0mparam\u001b[0m \u001b[0;32min\u001b[0m \u001b[0msix\u001b[0m\u001b[0;34m.\u001b[0m\u001b[0miteritems\u001b[0m\u001b[0;34m(\u001b[0m\u001b[0mnew_object_params\u001b[0m\u001b[0;34m)\u001b[0m\u001b[0;34m:\u001b[0m\u001b[0;34m\u001b[0m\u001b[0m\n\u001b[1;32m     62\u001b[0m         \u001b[0mnew_object_params\u001b[0m\u001b[0;34m[\u001b[0m\u001b[0mname\u001b[0m\u001b[0;34m]\u001b[0m \u001b[0;34m=\u001b[0m \u001b[0mclone\u001b[0m\u001b[0;34m(\u001b[0m\u001b[0mparam\u001b[0m\u001b[0;34m,\u001b[0m \u001b[0msafe\u001b[0m\u001b[0;34m=\u001b[0m\u001b[0;32mFalse\u001b[0m\u001b[0;34m)\u001b[0m\u001b[0;34m\u001b[0m\u001b[0m\n\u001b[0;32m---> 63\u001b[0;31m     \u001b[0mnew_object\u001b[0m \u001b[0;34m=\u001b[0m \u001b[0mklass\u001b[0m\u001b[0;34m(\u001b[0m\u001b[0;34m**\u001b[0m\u001b[0mnew_object_params\u001b[0m\u001b[0;34m)\u001b[0m\u001b[0;34m\u001b[0m\u001b[0m\n\u001b[0m\u001b[1;32m     64\u001b[0m     \u001b[0mparams_set\u001b[0m \u001b[0;34m=\u001b[0m \u001b[0mnew_object\u001b[0m\u001b[0;34m.\u001b[0m\u001b[0mget_params\u001b[0m\u001b[0;34m(\u001b[0m\u001b[0mdeep\u001b[0m\u001b[0;34m=\u001b[0m\u001b[0;32mFalse\u001b[0m\u001b[0;34m)\u001b[0m\u001b[0;34m\u001b[0m\u001b[0m\n\u001b[1;32m     65\u001b[0m \u001b[0;34m\u001b[0m\u001b[0m\n",
         "\u001b[0;32m<ipython-input-256-9479cfacf846>\u001b[0m in \u001b[0;36m__init__\u001b[0;34m(self, cutoff, sim)\u001b[0m\n\u001b[1;32m     10\u001b[0m     \u001b[0;32mdef\u001b[0m \u001b[0m__init__\u001b[0m\u001b[0;34m(\u001b[0m\u001b[0mself\u001b[0m\u001b[0;34m,\u001b[0m \u001b[0mcutoff\u001b[0m\u001b[0;34m=\u001b[0m\u001b[0;36m0.5\u001b[0m\u001b[0;34m,\u001b[0m \u001b[0msim\u001b[0m\u001b[0;34m=\u001b[0m\u001b[0;34m'has_shared_category'\u001b[0m\u001b[0;34m)\u001b[0m\u001b[0;34m:\u001b[0m\u001b[0;34m\u001b[0m\u001b[0m\n\u001b[1;32m     11\u001b[0m         \u001b[0mself\u001b[0m\u001b[0;34m.\u001b[0m\u001b[0mcutoff\u001b[0m \u001b[0;34m=\u001b[0m \u001b[0mcutoff\u001b[0m\u001b[0;34m\u001b[0m\u001b[0m\n\u001b[0;32m---> 12\u001b[0;31m         \u001b[0mself\u001b[0m\u001b[0;34m.\u001b[0m\u001b[0msim\u001b[0m \u001b[0;34m=\u001b[0m \u001b[0msim_map\u001b[0m\u001b[0;34m[\u001b[0m\u001b[0msim\u001b[0m\u001b[0;34m]\u001b[0m\u001b[0;34m\u001b[0m\u001b[0m\n\u001b[0m\u001b[1;32m     13\u001b[0m \u001b[0;34m\u001b[0m\u001b[0m\n\u001b[1;32m     14\u001b[0m     \u001b[0;32mdef\u001b[0m \u001b[0mfit\u001b[0m\u001b[0;34m(\u001b[0m\u001b[0mself\u001b[0m\u001b[0;34m,\u001b[0m \u001b[0mX\u001b[0m\u001b[0;34m,\u001b[0m \u001b[0my\u001b[0m\u001b[0;34m=\u001b[0m\u001b[0;32mNone\u001b[0m\u001b[0;34m)\u001b[0m\u001b[0;34m:\u001b[0m\u001b[0;34m\u001b[0m\u001b[0m\n",
         "\u001b[0;31mKeyError\u001b[0m: <function has_shared_category at 0x1a688f5840>"
        ]
       },
       "metadata": {},
       "msg_type": "error",
       "version": "5.3"
      },
      "timestamp": "2018-11-16T23:59:42.715Z"
     },
     {
      "code": "%%time\n\nfrom sklearn.model_selection import GridSearchCV\n\ngrid = {\n    'cutoff': [0.4, 0.5, 0.6]\n}\n\nclf = GridSearchCV(CategorySimRec(), param_grid=grid, n_jobs=3)\nclf.fit(train_and_valid, train_and_valid['reviewed'])\nprint(clf)",
      "response": {
       "content": {
        "ename": "KeyError",
        "evalue": "<function max_pairwise_jaccard at 0x1a54e83158>",
        "traceback": [
         "\u001b[0;31m---------------------------------------------------------------------------\u001b[0m",
         "\u001b[0;31mKeyError\u001b[0m                                  Traceback (most recent call last)",
         "\u001b[0;32m<timed exec>\u001b[0m in \u001b[0;36m<module>\u001b[0;34m\u001b[0m\n",
         "\u001b[0;32m~/anaconda3/lib/python3.6/site-packages/sklearn/model_selection/_search.py\u001b[0m in \u001b[0;36mfit\u001b[0;34m(self, X, y, groups, **fit_params)\u001b[0m\n\u001b[1;32m    675\u001b[0m         \u001b[0mn_splits\u001b[0m \u001b[0;34m=\u001b[0m \u001b[0mcv\u001b[0m\u001b[0;34m.\u001b[0m\u001b[0mget_n_splits\u001b[0m\u001b[0;34m(\u001b[0m\u001b[0mX\u001b[0m\u001b[0;34m,\u001b[0m \u001b[0my\u001b[0m\u001b[0;34m,\u001b[0m \u001b[0mgroups\u001b[0m\u001b[0;34m)\u001b[0m\u001b[0;34m\u001b[0m\u001b[0m\n\u001b[1;32m    676\u001b[0m \u001b[0;34m\u001b[0m\u001b[0m\n\u001b[0;32m--> 677\u001b[0;31m         \u001b[0mbase_estimator\u001b[0m \u001b[0;34m=\u001b[0m \u001b[0mclone\u001b[0m\u001b[0;34m(\u001b[0m\u001b[0mself\u001b[0m\u001b[0;34m.\u001b[0m\u001b[0mestimator\u001b[0m\u001b[0;34m)\u001b[0m\u001b[0;34m\u001b[0m\u001b[0m\n\u001b[0m\u001b[1;32m    678\u001b[0m \u001b[0;34m\u001b[0m\u001b[0m\n\u001b[1;32m    679\u001b[0m         parallel = Parallel(n_jobs=self.n_jobs, verbose=self.verbose,\n",
         "\u001b[0;32m~/anaconda3/lib/python3.6/site-packages/sklearn/base.py\u001b[0m in \u001b[0;36mclone\u001b[0;34m(estimator, safe)\u001b[0m\n\u001b[1;32m     61\u001b[0m     \u001b[0;32mfor\u001b[0m \u001b[0mname\u001b[0m\u001b[0;34m,\u001b[0m \u001b[0mparam\u001b[0m \u001b[0;32min\u001b[0m \u001b[0msix\u001b[0m\u001b[0;34m.\u001b[0m\u001b[0miteritems\u001b[0m\u001b[0;34m(\u001b[0m\u001b[0mnew_object_params\u001b[0m\u001b[0;34m)\u001b[0m\u001b[0;34m:\u001b[0m\u001b[0;34m\u001b[0m\u001b[0m\n\u001b[1;32m     62\u001b[0m         \u001b[0mnew_object_params\u001b[0m\u001b[0;34m[\u001b[0m\u001b[0mname\u001b[0m\u001b[0;34m]\u001b[0m \u001b[0;34m=\u001b[0m \u001b[0mclone\u001b[0m\u001b[0;34m(\u001b[0m\u001b[0mparam\u001b[0m\u001b[0;34m,\u001b[0m \u001b[0msafe\u001b[0m\u001b[0;34m=\u001b[0m\u001b[0;32mFalse\u001b[0m\u001b[0;34m)\u001b[0m\u001b[0;34m\u001b[0m\u001b[0m\n\u001b[0;32m---> 63\u001b[0;31m     \u001b[0mnew_object\u001b[0m \u001b[0;34m=\u001b[0m \u001b[0mklass\u001b[0m\u001b[0;34m(\u001b[0m\u001b[0;34m**\u001b[0m\u001b[0mnew_object_params\u001b[0m\u001b[0;34m)\u001b[0m\u001b[0;34m\u001b[0m\u001b[0m\n\u001b[0m\u001b[1;32m     64\u001b[0m     \u001b[0mparams_set\u001b[0m \u001b[0;34m=\u001b[0m \u001b[0mnew_object\u001b[0m\u001b[0;34m.\u001b[0m\u001b[0mget_params\u001b[0m\u001b[0;34m(\u001b[0m\u001b[0mdeep\u001b[0m\u001b[0;34m=\u001b[0m\u001b[0;32mFalse\u001b[0m\u001b[0;34m)\u001b[0m\u001b[0;34m\u001b[0m\u001b[0m\n\u001b[1;32m     65\u001b[0m \u001b[0;34m\u001b[0m\u001b[0m\n",
         "\u001b[0;32m<ipython-input-260-b46c6c5f3f3b>\u001b[0m in \u001b[0;36m__init__\u001b[0;34m(self, cutoff, sim)\u001b[0m\n\u001b[1;32m     10\u001b[0m     \u001b[0;32mdef\u001b[0m \u001b[0m__init__\u001b[0m\u001b[0;34m(\u001b[0m\u001b[0mself\u001b[0m\u001b[0;34m,\u001b[0m \u001b[0mcutoff\u001b[0m\u001b[0;34m=\u001b[0m\u001b[0;36m0.5\u001b[0m\u001b[0;34m,\u001b[0m \u001b[0msim\u001b[0m\u001b[0;34m=\u001b[0m\u001b[0;34m'max_pairwise_jaccard'\u001b[0m\u001b[0;34m)\u001b[0m\u001b[0;34m:\u001b[0m\u001b[0;34m\u001b[0m\u001b[0m\n\u001b[1;32m     11\u001b[0m         \u001b[0mself\u001b[0m\u001b[0;34m.\u001b[0m\u001b[0mcutoff\u001b[0m \u001b[0;34m=\u001b[0m \u001b[0mcutoff\u001b[0m\u001b[0;34m\u001b[0m\u001b[0m\n\u001b[0;32m---> 12\u001b[0;31m         \u001b[0mself\u001b[0m\u001b[0;34m.\u001b[0m\u001b[0msim\u001b[0m \u001b[0;34m=\u001b[0m \u001b[0msim_map\u001b[0m\u001b[0;34m[\u001b[0m\u001b[0msim\u001b[0m\u001b[0;34m]\u001b[0m\u001b[0;34m\u001b[0m\u001b[0m\n\u001b[0m\u001b[1;32m     13\u001b[0m \u001b[0;34m\u001b[0m\u001b[0m\n\u001b[1;32m     14\u001b[0m     \u001b[0;32mdef\u001b[0m \u001b[0mfit\u001b[0m\u001b[0;34m(\u001b[0m\u001b[0mself\u001b[0m\u001b[0;34m,\u001b[0m \u001b[0mX\u001b[0m\u001b[0;34m,\u001b[0m \u001b[0my\u001b[0m\u001b[0;34m=\u001b[0m\u001b[0;32mNone\u001b[0m\u001b[0;34m)\u001b[0m\u001b[0;34m:\u001b[0m\u001b[0;34m\u001b[0m\u001b[0m\n",
         "\u001b[0;31mKeyError\u001b[0m: <function max_pairwise_jaccard at 0x1a54e83158>"
        ]
       },
       "metadata": {},
       "msg_type": "error",
       "version": "5.3"
      },
      "timestamp": "2018-11-16T23:59:51.273Z"
     },
     {
      "code": "%%time\n\nfrom sklearn.model_selection import GridSearchCV\n\ngrid = {\n    'cutoff': [0.4, 0.5, 0.6]\n}\n\nclf = GridSearchCV(CategorySimRec(), param_grid=grid, n_jobs=3)\nclf.fit(train_and_valid, train_and_valid['reviewed'])\nprint(clf)",
      "response": {
       "content": {
        "name": "stdout",
        "text": "max_pairwise_jaccard\n<function max_pairwise_jaccard at 0x1a54e83158>\n"
       },
       "metadata": {},
       "msg_type": "stream",
       "version": "5.3"
      },
      "timestamp": "2018-11-17T00:00:01.384Z"
     },
     {
      "code": "%%time\n\nfrom sklearn.model_selection import GridSearchCV\n\ngrid = {\n    'cutoff': [0.4, 0.5, 0.6]\n}\n\nclf = GridSearchCV(CategorySimRec(), param_grid=grid, n_jobs=3)\nclf.fit(train_and_valid, train_and_valid['reviewed'])\nprint(clf)",
      "response": {
       "content": {
        "ename": "KeyError",
        "evalue": "<function max_pairwise_jaccard at 0x1a54e83158>",
        "traceback": [
         "\u001b[0;31m---------------------------------------------------------------------------\u001b[0m",
         "\u001b[0;31mKeyError\u001b[0m                                  Traceback (most recent call last)",
         "\u001b[0;32m<timed exec>\u001b[0m in \u001b[0;36m<module>\u001b[0;34m\u001b[0m\n",
         "\u001b[0;32m~/anaconda3/lib/python3.6/site-packages/sklearn/model_selection/_search.py\u001b[0m in \u001b[0;36mfit\u001b[0;34m(self, X, y, groups, **fit_params)\u001b[0m\n\u001b[1;32m    675\u001b[0m         \u001b[0mn_splits\u001b[0m \u001b[0;34m=\u001b[0m \u001b[0mcv\u001b[0m\u001b[0;34m.\u001b[0m\u001b[0mget_n_splits\u001b[0m\u001b[0;34m(\u001b[0m\u001b[0mX\u001b[0m\u001b[0;34m,\u001b[0m \u001b[0my\u001b[0m\u001b[0;34m,\u001b[0m \u001b[0mgroups\u001b[0m\u001b[0;34m)\u001b[0m\u001b[0;34m\u001b[0m\u001b[0m\n\u001b[1;32m    676\u001b[0m \u001b[0;34m\u001b[0m\u001b[0m\n\u001b[0;32m--> 677\u001b[0;31m         \u001b[0mbase_estimator\u001b[0m \u001b[0;34m=\u001b[0m \u001b[0mclone\u001b[0m\u001b[0;34m(\u001b[0m\u001b[0mself\u001b[0m\u001b[0;34m.\u001b[0m\u001b[0mestimator\u001b[0m\u001b[0;34m)\u001b[0m\u001b[0;34m\u001b[0m\u001b[0m\n\u001b[0m\u001b[1;32m    678\u001b[0m \u001b[0;34m\u001b[0m\u001b[0m\n\u001b[1;32m    679\u001b[0m         parallel = Parallel(n_jobs=self.n_jobs, verbose=self.verbose,\n",
         "\u001b[0;32m~/anaconda3/lib/python3.6/site-packages/sklearn/base.py\u001b[0m in \u001b[0;36mclone\u001b[0;34m(estimator, safe)\u001b[0m\n\u001b[1;32m     61\u001b[0m     \u001b[0;32mfor\u001b[0m \u001b[0mname\u001b[0m\u001b[0;34m,\u001b[0m \u001b[0mparam\u001b[0m \u001b[0;32min\u001b[0m \u001b[0msix\u001b[0m\u001b[0;34m.\u001b[0m\u001b[0miteritems\u001b[0m\u001b[0;34m(\u001b[0m\u001b[0mnew_object_params\u001b[0m\u001b[0;34m)\u001b[0m\u001b[0;34m:\u001b[0m\u001b[0;34m\u001b[0m\u001b[0m\n\u001b[1;32m     62\u001b[0m         \u001b[0mnew_object_params\u001b[0m\u001b[0;34m[\u001b[0m\u001b[0mname\u001b[0m\u001b[0;34m]\u001b[0m \u001b[0;34m=\u001b[0m \u001b[0mclone\u001b[0m\u001b[0;34m(\u001b[0m\u001b[0mparam\u001b[0m\u001b[0;34m,\u001b[0m \u001b[0msafe\u001b[0m\u001b[0;34m=\u001b[0m\u001b[0;32mFalse\u001b[0m\u001b[0;34m)\u001b[0m\u001b[0;34m\u001b[0m\u001b[0m\n\u001b[0;32m---> 63\u001b[0;31m     \u001b[0mnew_object\u001b[0m \u001b[0;34m=\u001b[0m \u001b[0mklass\u001b[0m\u001b[0;34m(\u001b[0m\u001b[0;34m**\u001b[0m\u001b[0mnew_object_params\u001b[0m\u001b[0;34m)\u001b[0m\u001b[0;34m\u001b[0m\u001b[0m\n\u001b[0m\u001b[1;32m     64\u001b[0m     \u001b[0mparams_set\u001b[0m \u001b[0;34m=\u001b[0m \u001b[0mnew_object\u001b[0m\u001b[0;34m.\u001b[0m\u001b[0mget_params\u001b[0m\u001b[0;34m(\u001b[0m\u001b[0mdeep\u001b[0m\u001b[0;34m=\u001b[0m\u001b[0;32mFalse\u001b[0m\u001b[0;34m)\u001b[0m\u001b[0;34m\u001b[0m\u001b[0m\n\u001b[1;32m     65\u001b[0m \u001b[0;34m\u001b[0m\u001b[0m\n",
         "\u001b[0;32m<ipython-input-262-b51219f32672>\u001b[0m in \u001b[0;36m__init__\u001b[0;34m(self, cutoff, sim)\u001b[0m\n\u001b[1;32m     11\u001b[0m         \u001b[0mself\u001b[0m\u001b[0;34m.\u001b[0m\u001b[0mcutoff\u001b[0m \u001b[0;34m=\u001b[0m \u001b[0mcutoff\u001b[0m\u001b[0;34m\u001b[0m\u001b[0m\n\u001b[1;32m     12\u001b[0m         \u001b[0mprint\u001b[0m\u001b[0;34m(\u001b[0m\u001b[0msim\u001b[0m\u001b[0;34m)\u001b[0m\u001b[0;34m\u001b[0m\u001b[0m\n\u001b[0;32m---> 13\u001b[0;31m         \u001b[0mself\u001b[0m\u001b[0;34m.\u001b[0m\u001b[0msim\u001b[0m \u001b[0;34m=\u001b[0m \u001b[0msim_map\u001b[0m\u001b[0;34m[\u001b[0m\u001b[0msim\u001b[0m\u001b[0;34m]\u001b[0m\u001b[0;34m\u001b[0m\u001b[0m\n\u001b[0m\u001b[1;32m     14\u001b[0m \u001b[0;34m\u001b[0m\u001b[0m\n\u001b[1;32m     15\u001b[0m     \u001b[0;32mdef\u001b[0m \u001b[0mfit\u001b[0m\u001b[0;34m(\u001b[0m\u001b[0mself\u001b[0m\u001b[0;34m,\u001b[0m \u001b[0mX\u001b[0m\u001b[0;34m,\u001b[0m \u001b[0my\u001b[0m\u001b[0;34m=\u001b[0m\u001b[0;32mNone\u001b[0m\u001b[0;34m)\u001b[0m\u001b[0;34m:\u001b[0m\u001b[0;34m\u001b[0m\u001b[0m\n",
         "\u001b[0;31mKeyError\u001b[0m: <function max_pairwise_jaccard at 0x1a54e83158>"
        ]
       },
       "metadata": {},
       "msg_type": "error",
       "version": "5.3"
      },
      "timestamp": "2018-11-17T00:00:01.386Z"
     },
     {
      "code": "%%time\n\nfrom sklearn.model_selection import GridSearchCV\n\ngrid = {\n    'cutoff': [0.4, 0.5, 0.6]\n}\n\nclf = GridSearchCV(CategorySimRec(), param_grid=grid, n_jobs=3)\nclf.fit(train_and_valid, train_and_valid['reviewed'])\nprint(clf)",
      "response": {
       "content": {
        "name": "stdout",
        "text": "GridSearchCV(cv='warn', error_score='raise-deprecating',\n       estimator=CategorySimRec(cutoff=0.5, sim='max_pairwise_jaccard'),\n       fit_params=None, iid='warn', n_jobs=3,\n       param_grid={'cutoff': [0.4, 0.5, 0.6]}, pre_dispatch='2*n_jobs',\n       refit=True, return_train_score='warn', scoring=None, verbose=0)\nCPU times: user 37.2 s, sys: 5.48 s, total: 42.7 s\nWall time: 3min 39s\n"
       },
       "metadata": {},
       "msg_type": "stream",
       "version": "5.3"
      },
      "timestamp": "2018-11-17T00:04:02.445Z"
     },
     {
      "code": "%%time\n\nfrom sklearn.model_selection import GridSearchCV\n\ngrid = {\n    'sim': ['has_shared_category']\n}\n\nclf = GridSearchCV(CategorySimRec(), param_grid=grid, n_jobs=3)\nclf.fit(train_and_valid, train_and_valid['reviewed'])\nprint(clf)",
      "response": {
       "content": {
        "name": "stdout",
        "text": "GridSearchCV(cv='warn', error_score='raise-deprecating',\n       estimator=CategorySimRec(cutoff=0.5, sim='max_pairwise_jaccard'),\n       fit_params=None, iid='warn', n_jobs=3,\n       param_grid={'sim': ['has_shared_category']},\n       pre_dispatch='2*n_jobs', refit=True, return_train_score='warn',\n       scoring=None, verbose=0)\nCPU times: user 21.9 s, sys: 3.43 s, total: 25.3 s\nWall time: 2min 16s\n"
       },
       "metadata": {},
       "msg_type": "stream",
       "version": "5.3"
      },
      "timestamp": "2018-11-17T00:07:11.074Z"
     }
    ],
    "scrolled": false
   },
   "outputs": [
    {
     "name": "stdout",
     "output_type": "stream",
     "text": [
      "GridSearchCV(cv='warn', error_score='raise-deprecating',\n",
      "       estimator=CategorySimRec(cutoff=0.5, sim='max_pairwise_jaccard'),\n",
      "       fit_params=None, iid='warn', n_jobs=3,\n",
      "       param_grid={'sim': ['has_shared_category']},\n",
      "       pre_dispatch='2*n_jobs', refit=True, return_train_score='warn',\n",
      "       scoring=None, verbose=0)\n",
      "CPU times: user 21.9 s, sys: 3.43 s, total: 25.3 s\n",
      "Wall time: 2min 16s\n"
     ]
    }
   ],
   "source": [
    "%%time\n",
    "\n",
    "from sklearn.model_selection import GridSearchCV\n",
    "\n",
    "grid = {\n",
    "    'sim': ['has_shared_category']\n",
    "}\n",
    "\n",
    "clf = GridSearchCV(CategorySimRec(), param_grid=grid, n_jobs=3)\n",
    "clf.fit(train_and_valid, train_and_valid['reviewed'])\n",
    "print(clf)"
   ]
  },
  {
   "cell_type": "code",
   "execution_count": 274,
   "metadata": {
    "history": [
     {
      "code": "clf.best_params_",
      "response": {
       "content": {
        "data": {
         "text/plain": "{'cutoff': 0.3}"
        },
        "execution_count": 233,
        "metadata": {}
       },
       "metadata": {},
       "msg_type": "execute_result",
       "version": "5.3"
      },
      "timestamp": "2018-11-16T23:47:25.528Z"
     },
     {
      "code": "clf.best_params_",
      "response": {
       "content": {
        "data": {
         "text/plain": "{'cutoff': 0.4}"
        },
        "execution_count": 266,
        "metadata": {}
       },
       "metadata": {},
       "msg_type": "execute_result",
       "version": "5.3"
      },
      "timestamp": "2018-11-17T00:04:13.728Z"
     },
     {
      "code": "clf.best_params_",
      "response": {
       "content": {
        "data": {
         "text/plain": "{'sim': 'has_shared_category'}"
        },
        "execution_count": 274,
        "metadata": {}
       },
       "metadata": {},
       "msg_type": "execute_result",
       "version": "5.3"
      },
      "timestamp": "2018-11-17T00:07:59.814Z"
     }
    ]
   },
   "outputs": [
    {
     "data": {
      "text/plain": [
       "{'sim': 'has_shared_category'}"
      ]
     },
     "execution_count": 274,
     "metadata": {},
     "output_type": "execute_result"
    }
   ],
   "source": [
    "clf.best_params_"
   ]
  },
  {
   "cell_type": "code",
   "execution_count": 275,
   "metadata": {
    "history": [
     {
      "code": "clf.predict(X[0:5, ['reviewerID', 'itemID']])",
      "response": {
       "content": {
        "ename": "NameError",
        "evalue": "name 'X' is not defined",
        "traceback": [
         "\u001b[0;31m---------------------------------------------------------------------------\u001b[0m",
         "\u001b[0;31mNameError\u001b[0m                                 Traceback (most recent call last)",
         "\u001b[0;32m<ipython-input-29-04fbec92d428>\u001b[0m in \u001b[0;36m<module>\u001b[0;34m\u001b[0m\n\u001b[0;32m----> 1\u001b[0;31m \u001b[0mclf\u001b[0m\u001b[0;34m.\u001b[0m\u001b[0mpredict\u001b[0m\u001b[0;34m(\u001b[0m\u001b[0mX\u001b[0m\u001b[0;34m[\u001b[0m\u001b[0;36m0\u001b[0m\u001b[0;34m:\u001b[0m\u001b[0;36m5\u001b[0m\u001b[0;34m,\u001b[0m \u001b[0;34m[\u001b[0m\u001b[0;34m'reviewerID'\u001b[0m\u001b[0;34m,\u001b[0m \u001b[0;34m'itemID'\u001b[0m\u001b[0;34m]\u001b[0m\u001b[0;34m]\u001b[0m\u001b[0;34m)\u001b[0m\u001b[0;34m\u001b[0m\u001b[0m\n\u001b[0m",
         "\u001b[0;31mNameError\u001b[0m: name 'X' is not defined"
        ]
       },
       "metadata": {},
       "msg_type": "error",
       "version": "5.3"
      },
      "timestamp": "2018-11-16T20:17:30.264Z"
     },
     {
      "code": "clf.predict(train[0:5, ['reviewerID', 'itemID']])",
      "response": {
       "content": {
        "ename": "TypeError",
        "evalue": "unhashable type: 'slice'",
        "traceback": [
         "\u001b[0;31m---------------------------------------------------------------------------\u001b[0m",
         "\u001b[0;31mTypeError\u001b[0m                                 Traceback (most recent call last)",
         "\u001b[0;32m<ipython-input-30-faf237786868>\u001b[0m in \u001b[0;36m<module>\u001b[0;34m\u001b[0m\n\u001b[0;32m----> 1\u001b[0;31m \u001b[0mclf\u001b[0m\u001b[0;34m.\u001b[0m\u001b[0mpredict\u001b[0m\u001b[0;34m(\u001b[0m\u001b[0mtrain\u001b[0m\u001b[0;34m[\u001b[0m\u001b[0;36m0\u001b[0m\u001b[0;34m:\u001b[0m\u001b[0;36m5\u001b[0m\u001b[0;34m,\u001b[0m \u001b[0;34m[\u001b[0m\u001b[0;34m'reviewerID'\u001b[0m\u001b[0;34m,\u001b[0m \u001b[0;34m'itemID'\u001b[0m\u001b[0;34m]\u001b[0m\u001b[0;34m]\u001b[0m\u001b[0;34m)\u001b[0m\u001b[0;34m\u001b[0m\u001b[0m\n\u001b[0m",
         "\u001b[0;32m~/anaconda3/lib/python3.6/site-packages/pandas/core/frame.py\u001b[0m in \u001b[0;36m__getitem__\u001b[0;34m(self, key)\u001b[0m\n\u001b[1;32m   2686\u001b[0m             \u001b[0;32mreturn\u001b[0m \u001b[0mself\u001b[0m\u001b[0;34m.\u001b[0m\u001b[0m_getitem_multilevel\u001b[0m\u001b[0;34m(\u001b[0m\u001b[0mkey\u001b[0m\u001b[0;34m)\u001b[0m\u001b[0;34m\u001b[0m\u001b[0m\n\u001b[1;32m   2687\u001b[0m         \u001b[0;32melse\u001b[0m\u001b[0;34m:\u001b[0m\u001b[0;34m\u001b[0m\u001b[0m\n\u001b[0;32m-> 2688\u001b[0;31m             \u001b[0;32mreturn\u001b[0m \u001b[0mself\u001b[0m\u001b[0;34m.\u001b[0m\u001b[0m_getitem_column\u001b[0m\u001b[0;34m(\u001b[0m\u001b[0mkey\u001b[0m\u001b[0;34m)\u001b[0m\u001b[0;34m\u001b[0m\u001b[0m\n\u001b[0m\u001b[1;32m   2689\u001b[0m \u001b[0;34m\u001b[0m\u001b[0m\n\u001b[1;32m   2690\u001b[0m     \u001b[0;32mdef\u001b[0m \u001b[0m_getitem_column\u001b[0m\u001b[0;34m(\u001b[0m\u001b[0mself\u001b[0m\u001b[0;34m,\u001b[0m \u001b[0mkey\u001b[0m\u001b[0;34m)\u001b[0m\u001b[0;34m:\u001b[0m\u001b[0;34m\u001b[0m\u001b[0m\n",
         "\u001b[0;32m~/anaconda3/lib/python3.6/site-packages/pandas/core/frame.py\u001b[0m in \u001b[0;36m_getitem_column\u001b[0;34m(self, key)\u001b[0m\n\u001b[1;32m   2693\u001b[0m         \u001b[0;31m# get column\u001b[0m\u001b[0;34m\u001b[0m\u001b[0;34m\u001b[0m\u001b[0m\n\u001b[1;32m   2694\u001b[0m         \u001b[0;32mif\u001b[0m \u001b[0mself\u001b[0m\u001b[0;34m.\u001b[0m\u001b[0mcolumns\u001b[0m\u001b[0;34m.\u001b[0m\u001b[0mis_unique\u001b[0m\u001b[0;34m:\u001b[0m\u001b[0;34m\u001b[0m\u001b[0m\n\u001b[0;32m-> 2695\u001b[0;31m             \u001b[0;32mreturn\u001b[0m \u001b[0mself\u001b[0m\u001b[0;34m.\u001b[0m\u001b[0m_get_item_cache\u001b[0m\u001b[0;34m(\u001b[0m\u001b[0mkey\u001b[0m\u001b[0;34m)\u001b[0m\u001b[0;34m\u001b[0m\u001b[0m\n\u001b[0m\u001b[1;32m   2696\u001b[0m \u001b[0;34m\u001b[0m\u001b[0m\n\u001b[1;32m   2697\u001b[0m         \u001b[0;31m# duplicate columns & possible reduce dimensionality\u001b[0m\u001b[0;34m\u001b[0m\u001b[0;34m\u001b[0m\u001b[0m\n",
         "\u001b[0;32m~/anaconda3/lib/python3.6/site-packages/pandas/core/generic.py\u001b[0m in \u001b[0;36m_get_item_cache\u001b[0;34m(self, item)\u001b[0m\n\u001b[1;32m   2485\u001b[0m         \u001b[0;34m\"\"\"Return the cached item, item represents a label indexer.\"\"\"\u001b[0m\u001b[0;34m\u001b[0m\u001b[0m\n\u001b[1;32m   2486\u001b[0m         \u001b[0mcache\u001b[0m \u001b[0;34m=\u001b[0m \u001b[0mself\u001b[0m\u001b[0;34m.\u001b[0m\u001b[0m_item_cache\u001b[0m\u001b[0;34m\u001b[0m\u001b[0m\n\u001b[0;32m-> 2487\u001b[0;31m         \u001b[0mres\u001b[0m \u001b[0;34m=\u001b[0m \u001b[0mcache\u001b[0m\u001b[0;34m.\u001b[0m\u001b[0mget\u001b[0m\u001b[0;34m(\u001b[0m\u001b[0mitem\u001b[0m\u001b[0;34m)\u001b[0m\u001b[0;34m\u001b[0m\u001b[0m\n\u001b[0m\u001b[1;32m   2488\u001b[0m         \u001b[0;32mif\u001b[0m \u001b[0mres\u001b[0m \u001b[0;32mis\u001b[0m \u001b[0;32mNone\u001b[0m\u001b[0;34m:\u001b[0m\u001b[0;34m\u001b[0m\u001b[0m\n\u001b[1;32m   2489\u001b[0m             \u001b[0mvalues\u001b[0m \u001b[0;34m=\u001b[0m \u001b[0mself\u001b[0m\u001b[0;34m.\u001b[0m\u001b[0m_data\u001b[0m\u001b[0;34m.\u001b[0m\u001b[0mget\u001b[0m\u001b[0;34m(\u001b[0m\u001b[0mitem\u001b[0m\u001b[0;34m)\u001b[0m\u001b[0;34m\u001b[0m\u001b[0m\n",
         "\u001b[0;31mTypeError\u001b[0m: unhashable type: 'slice'"
        ]
       },
       "metadata": {},
       "msg_type": "error",
       "version": "5.3"
      },
      "timestamp": "2018-11-16T20:17:33.904Z"
     },
     {
      "code": "clf.predict(train.loc[0:5, ['reviewerID', 'itemID']])",
      "response": {
       "content": {
        "ename": "ZeroDivisionError",
        "evalue": "('division by zero', 'occurred at index 0')",
        "traceback": [
         "\u001b[0;31m---------------------------------------------------------------------------\u001b[0m",
         "\u001b[0;31mZeroDivisionError\u001b[0m                         Traceback (most recent call last)",
         "\u001b[0;32m<ipython-input-31-04196db55fe7>\u001b[0m in \u001b[0;36m<module>\u001b[0;34m\u001b[0m\n\u001b[0;32m----> 1\u001b[0;31m \u001b[0mclf\u001b[0m\u001b[0;34m.\u001b[0m\u001b[0mpredict\u001b[0m\u001b[0;34m(\u001b[0m\u001b[0mtrain\u001b[0m\u001b[0;34m.\u001b[0m\u001b[0mloc\u001b[0m\u001b[0;34m[\u001b[0m\u001b[0;36m0\u001b[0m\u001b[0;34m:\u001b[0m\u001b[0;36m5\u001b[0m\u001b[0;34m,\u001b[0m \u001b[0;34m[\u001b[0m\u001b[0;34m'reviewerID'\u001b[0m\u001b[0;34m,\u001b[0m \u001b[0;34m'itemID'\u001b[0m\u001b[0;34m]\u001b[0m\u001b[0;34m]\u001b[0m\u001b[0;34m)\u001b[0m\u001b[0;34m\u001b[0m\u001b[0m\n\u001b[0m",
         "\u001b[0;32m<ipython-input-27-b1d862b7d854>\u001b[0m in \u001b[0;36mpredict\u001b[0;34m(self, X)\u001b[0m\n\u001b[1;32m     25\u001b[0m             \u001b[0;32mreturn\u001b[0m \u001b[0msum\u001b[0m\u001b[0;34m(\u001b[0m\u001b[0mvotes\u001b[0m\u001b[0;34m)\u001b[0m \u001b[0;34m/\u001b[0m \u001b[0mlen\u001b[0m\u001b[0;34m(\u001b[0m\u001b[0mvotes\u001b[0m\u001b[0;34m)\u001b[0m\u001b[0;34m\u001b[0m\u001b[0m\n\u001b[1;32m     26\u001b[0m \u001b[0;34m\u001b[0m\u001b[0m\n\u001b[0;32m---> 27\u001b[0;31m         \u001b[0;32mreturn\u001b[0m \u001b[0mX\u001b[0m\u001b[0;34m[\u001b[0m\u001b[0;34m[\u001b[0m\u001b[0;34m'reviewerID'\u001b[0m\u001b[0;34m,\u001b[0m \u001b[0;34m'itemID'\u001b[0m\u001b[0;34m]\u001b[0m\u001b[0;34m]\u001b[0m\u001b[0;34m.\u001b[0m\u001b[0mapply\u001b[0m\u001b[0;34m(\u001b[0m\u001b[0mpredict_one\u001b[0m\u001b[0;34m,\u001b[0m \u001b[0maxis\u001b[0m\u001b[0;34m=\u001b[0m\u001b[0;36m1\u001b[0m\u001b[0;34m)\u001b[0m\u001b[0;34m\u001b[0m\u001b[0m\n\u001b[0m",
         "\u001b[0;32m~/anaconda3/lib/python3.6/site-packages/pandas/core/frame.py\u001b[0m in \u001b[0;36mapply\u001b[0;34m(self, func, axis, broadcast, raw, reduce, result_type, args, **kwds)\u001b[0m\n\u001b[1;32m   6012\u001b[0m                          \u001b[0margs\u001b[0m\u001b[0;34m=\u001b[0m\u001b[0margs\u001b[0m\u001b[0;34m,\u001b[0m\u001b[0;34m\u001b[0m\u001b[0m\n\u001b[1;32m   6013\u001b[0m                          kwds=kwds)\n\u001b[0;32m-> 6014\u001b[0;31m         \u001b[0;32mreturn\u001b[0m \u001b[0mop\u001b[0m\u001b[0;34m.\u001b[0m\u001b[0mget_result\u001b[0m\u001b[0;34m(\u001b[0m\u001b[0;34m)\u001b[0m\u001b[0;34m\u001b[0m\u001b[0m\n\u001b[0m\u001b[1;32m   6015\u001b[0m \u001b[0;34m\u001b[0m\u001b[0m\n\u001b[1;32m   6016\u001b[0m     \u001b[0;32mdef\u001b[0m \u001b[0mapplymap\u001b[0m\u001b[0;34m(\u001b[0m\u001b[0mself\u001b[0m\u001b[0;34m,\u001b[0m \u001b[0mfunc\u001b[0m\u001b[0;34m)\u001b[0m\u001b[0;34m:\u001b[0m\u001b[0;34m\u001b[0m\u001b[0m\n",
         "\u001b[0;32m~/anaconda3/lib/python3.6/site-packages/pandas/core/apply.py\u001b[0m in \u001b[0;36mget_result\u001b[0;34m(self)\u001b[0m\n\u001b[1;32m    140\u001b[0m             \u001b[0;32mreturn\u001b[0m \u001b[0mself\u001b[0m\u001b[0;34m.\u001b[0m\u001b[0mapply_raw\u001b[0m\u001b[0;34m(\u001b[0m\u001b[0;34m)\u001b[0m\u001b[0;34m\u001b[0m\u001b[0m\n\u001b[1;32m    141\u001b[0m \u001b[0;34m\u001b[0m\u001b[0m\n\u001b[0;32m--> 142\u001b[0;31m         \u001b[0;32mreturn\u001b[0m \u001b[0mself\u001b[0m\u001b[0;34m.\u001b[0m\u001b[0mapply_standard\u001b[0m\u001b[0;34m(\u001b[0m\u001b[0;34m)\u001b[0m\u001b[0;34m\u001b[0m\u001b[0m\n\u001b[0m\u001b[1;32m    143\u001b[0m \u001b[0;34m\u001b[0m\u001b[0m\n\u001b[1;32m    144\u001b[0m     \u001b[0;32mdef\u001b[0m \u001b[0mapply_empty_result\u001b[0m\u001b[0;34m(\u001b[0m\u001b[0mself\u001b[0m\u001b[0;34m)\u001b[0m\u001b[0;34m:\u001b[0m\u001b[0;34m\u001b[0m\u001b[0m\n",
         "\u001b[0;32m~/anaconda3/lib/python3.6/site-packages/pandas/core/apply.py\u001b[0m in \u001b[0;36mapply_standard\u001b[0;34m(self)\u001b[0m\n\u001b[1;32m    246\u001b[0m \u001b[0;34m\u001b[0m\u001b[0m\n\u001b[1;32m    247\u001b[0m         \u001b[0;31m# compute the result using the series generator\u001b[0m\u001b[0;34m\u001b[0m\u001b[0;34m\u001b[0m\u001b[0m\n\u001b[0;32m--> 248\u001b[0;31m         \u001b[0mself\u001b[0m\u001b[0;34m.\u001b[0m\u001b[0mapply_series_generator\u001b[0m\u001b[0;34m(\u001b[0m\u001b[0;34m)\u001b[0m\u001b[0;34m\u001b[0m\u001b[0m\n\u001b[0m\u001b[1;32m    249\u001b[0m \u001b[0;34m\u001b[0m\u001b[0m\n\u001b[1;32m    250\u001b[0m         \u001b[0;31m# wrap results\u001b[0m\u001b[0;34m\u001b[0m\u001b[0;34m\u001b[0m\u001b[0m\n",
         "\u001b[0;32m~/anaconda3/lib/python3.6/site-packages/pandas/core/apply.py\u001b[0m in \u001b[0;36mapply_series_generator\u001b[0;34m(self)\u001b[0m\n\u001b[1;32m    275\u001b[0m             \u001b[0;32mtry\u001b[0m\u001b[0;34m:\u001b[0m\u001b[0;34m\u001b[0m\u001b[0m\n\u001b[1;32m    276\u001b[0m                 \u001b[0;32mfor\u001b[0m \u001b[0mi\u001b[0m\u001b[0;34m,\u001b[0m \u001b[0mv\u001b[0m \u001b[0;32min\u001b[0m \u001b[0menumerate\u001b[0m\u001b[0;34m(\u001b[0m\u001b[0mseries_gen\u001b[0m\u001b[0;34m)\u001b[0m\u001b[0;34m:\u001b[0m\u001b[0;34m\u001b[0m\u001b[0m\n\u001b[0;32m--> 277\u001b[0;31m                     \u001b[0mresults\u001b[0m\u001b[0;34m[\u001b[0m\u001b[0mi\u001b[0m\u001b[0;34m]\u001b[0m \u001b[0;34m=\u001b[0m \u001b[0mself\u001b[0m\u001b[0;34m.\u001b[0m\u001b[0mf\u001b[0m\u001b[0;34m(\u001b[0m\u001b[0mv\u001b[0m\u001b[0;34m)\u001b[0m\u001b[0;34m\u001b[0m\u001b[0m\n\u001b[0m\u001b[1;32m    278\u001b[0m                     \u001b[0mkeys\u001b[0m\u001b[0;34m.\u001b[0m\u001b[0mappend\u001b[0m\u001b[0;34m(\u001b[0m\u001b[0mv\u001b[0m\u001b[0;34m.\u001b[0m\u001b[0mname\u001b[0m\u001b[0;34m)\u001b[0m\u001b[0;34m\u001b[0m\u001b[0m\n\u001b[1;32m    279\u001b[0m             \u001b[0;32mexcept\u001b[0m \u001b[0mException\u001b[0m \u001b[0;32mas\u001b[0m \u001b[0me\u001b[0m\u001b[0;34m:\u001b[0m\u001b[0;34m\u001b[0m\u001b[0m\n",
         "\u001b[0;32m<ipython-input-27-b1d862b7d854>\u001b[0m in \u001b[0;36mpredict_one\u001b[0;34m(pair)\u001b[0m\n\u001b[1;32m     23\u001b[0m             votes = [item in self.to_items_[neighbor]\n\u001b[1;32m     24\u001b[0m                      for neighbor, _ in neighbors[:self.k]]\n\u001b[0;32m---> 25\u001b[0;31m             \u001b[0;32mreturn\u001b[0m \u001b[0msum\u001b[0m\u001b[0;34m(\u001b[0m\u001b[0mvotes\u001b[0m\u001b[0;34m)\u001b[0m \u001b[0;34m/\u001b[0m \u001b[0mlen\u001b[0m\u001b[0;34m(\u001b[0m\u001b[0mvotes\u001b[0m\u001b[0;34m)\u001b[0m\u001b[0;34m\u001b[0m\u001b[0m\n\u001b[0m\u001b[1;32m     26\u001b[0m \u001b[0;34m\u001b[0m\u001b[0m\n\u001b[1;32m     27\u001b[0m         \u001b[0;32mreturn\u001b[0m \u001b[0mX\u001b[0m\u001b[0;34m[\u001b[0m\u001b[0;34m[\u001b[0m\u001b[0;34m'reviewerID'\u001b[0m\u001b[0;34m,\u001b[0m \u001b[0;34m'itemID'\u001b[0m\u001b[0;34m]\u001b[0m\u001b[0;34m]\u001b[0m\u001b[0;34m.\u001b[0m\u001b[0mapply\u001b[0m\u001b[0;34m(\u001b[0m\u001b[0mpredict_one\u001b[0m\u001b[0;34m,\u001b[0m \u001b[0maxis\u001b[0m\u001b[0;34m=\u001b[0m\u001b[0;36m1\u001b[0m\u001b[0;34m)\u001b[0m\u001b[0;34m\u001b[0m\u001b[0m\n",
         "\u001b[0;31mZeroDivisionError\u001b[0m: ('division by zero', 'occurred at index 0')"
        ]
       },
       "metadata": {},
       "msg_type": "error",
       "version": "5.3"
      },
      "timestamp": "2018-11-16T20:17:45.629Z"
     },
     {
      "code": "clf.predict(train.loc[0:5, ['reviewerID', 'itemID']])",
      "response": {
       "content": {
        "data": {
         "text/plain": "0    0\n1    0\n    ..\n4    0\n5    0\nLength: 6, dtype: int64"
        },
        "execution_count": 34,
        "metadata": {}
       },
       "metadata": {},
       "msg_type": "execute_result",
       "version": "5.3"
      },
      "timestamp": "2018-11-16T20:17:56.223Z"
     },
     {
      "code": "clf.predict(train.loc[0:5, ['reviewerID', 'itemID']])",
      "response": {
       "content": {
        "name": "stdout",
        "text": "reviewerID    U490934656\nitemID        I402344648\nName: 0, dtype: object\nreviewerID    U714157797\nitemID        I697650540\nName: 1, dtype: object\nreviewerID    U507366950\nitemID        I464613034\nName: 2, dtype: object\nreviewerID    U307862152\nitemID        I559560885\nName: 3, dtype: object\nreviewerID    U742726598\nitemID        I476005312\nName: 4, dtype: object\nreviewerID    U659368900\nitemID        I342631873\nName: 5, dtype: object\n"
       },
       "metadata": {},
       "msg_type": "stream",
       "version": "5.3"
      },
      "timestamp": "2018-11-16T20:18:18.082Z"
     },
     {
      "code": "clf.predict(train.loc[0:5, ['reviewerID', 'itemID']])",
      "response": {
       "content": {
        "data": {
         "text/plain": "0    0\n1    0\n    ..\n4    0\n5    0\nLength: 6, dtype: int64"
        },
        "execution_count": 37,
        "metadata": {}
       },
       "metadata": {},
       "msg_type": "execute_result",
       "version": "5.3"
      },
      "timestamp": "2018-11-16T20:18:18.086Z"
     },
     {
      "code": "clf.predict(train.loc[0:1, ['reviewerID', 'itemID']])",
      "response": {
       "content": {
        "name": "stdout",
        "text": "reviewerID    U490934656\nitemID        I402344648\nName: 0, dtype: object\nreviewerID    U714157797\nitemID        I697650540\nName: 1, dtype: object\n"
       },
       "metadata": {},
       "msg_type": "stream",
       "version": "5.3"
      },
      "timestamp": "2018-11-16T20:18:27.650Z"
     },
     {
      "code": "clf.predict(train.loc[0:1, ['reviewerID', 'itemID']])",
      "response": {
       "content": {
        "data": {
         "text/plain": "0    0\n1    0\ndtype: int64"
        },
        "execution_count": 38,
        "metadata": {}
       },
       "metadata": {},
       "msg_type": "execute_result",
       "version": "5.3"
      },
      "timestamp": "2018-11-16T20:18:27.654Z"
     },
     {
      "code": "clf.predict(train.loc[0:0, ['reviewerID', 'itemID']])",
      "response": {
       "content": {
        "name": "stdout",
        "text": "reviewerID    U490934656\nitemID        I402344648\nName: 0, dtype: object\n"
       },
       "metadata": {},
       "msg_type": "stream",
       "version": "5.3"
      },
      "timestamp": "2018-11-16T20:18:33.312Z"
     },
     {
      "code": "clf.predict(train.loc[0:0, ['reviewerID', 'itemID']])",
      "response": {
       "content": {
        "data": {
         "text/plain": "0    0\ndtype: int64"
        },
        "execution_count": 39,
        "metadata": {}
       },
       "metadata": {},
       "msg_type": "execute_result",
       "version": "5.3"
      },
      "timestamp": "2018-11-16T20:18:33.315Z"
     },
     {
      "code": "clf.predict(train.loc[0:0, ['reviewerID', 'itemID']])",
      "response": {
       "content": {
        "name": "stdout",
        "text": "U490934656\n"
       },
       "metadata": {},
       "msg_type": "stream",
       "version": "5.3"
      },
      "timestamp": "2018-11-16T20:18:45.425Z"
     },
     {
      "code": "clf.predict(train.loc[0:0, ['reviewerID', 'itemID']])",
      "response": {
       "content": {
        "data": {
         "text/plain": "0    0\ndtype: int64"
        },
        "execution_count": 42,
        "metadata": {}
       },
       "metadata": {},
       "msg_type": "execute_result",
       "version": "5.3"
      },
      "timestamp": "2018-11-16T20:18:45.429Z"
     },
     {
      "code": "clf.predict(train.loc[0:0, ['reviewerID', 'itemID']])",
      "response": {
       "content": {
        "name": "stdout",
        "text": "[]\n"
       },
       "metadata": {},
       "msg_type": "stream",
       "version": "5.3"
      },
      "timestamp": "2018-11-16T20:19:09.330Z"
     },
     {
      "code": "clf.predict(train.loc[0:0, ['reviewerID', 'itemID']])",
      "response": {
       "content": {
        "data": {
         "text/plain": "0    0\ndtype: int64"
        },
        "execution_count": 45,
        "metadata": {}
       },
       "metadata": {},
       "msg_type": "execute_result",
       "version": "5.3"
      },
      "timestamp": "2018-11-16T20:19:09.335Z"
     },
     {
      "code": "clf.predict(train.loc[0:0, ['reviewerID', 'itemID']])",
      "response": {
       "content": {
        "name": "stdout",
        "text": "[('U325064970', 0.3333333333333333), ('U287755646', 0.3333333333333333), ('U770410694', 0.3333333333333333), ('U242125618', 0.3333333333333333), ('U807531022', 0.3333333333333333), ('U744656430', 0.3333333333333333), ('U319834634', 0.25), ('U767987542', 0.25), ('U128006640', 0.25), ('U376812220', 0.25), ('U852147583', 0.2), ('U483924346', 0.2), ('U429360487', 0.2), ('U372573523', 0.2), ('U189757222', 0.16666666666666666), ('U356897317', 0.16666666666666666), ('U219279072', 0.16666666666666666), ('U717582285', 0.16666666666666666), ('U706786416', 0.16666666666666666), ('U762998081', 0.16666666666666666), ('U906260102', 0.16666666666666666), ('U401058838', 0.16666666666666666), ('U847108440', 0.14285714285714285), ('U235991629', 0.14285714285714285), ('U470661329', 0.14285714285714285), ('U523993039', 0.14285714285714285), ('U560813466', 0.14285714285714285), ('U177029244', 0.125), ('U583393015', 0.125), ('U674985692', 0.1111111111111111), ('U648118093', 0.1), ('U808796724', 0.09090909090909091), ('U236951601', 0.09090909090909091), ('U918182148', 0.07692307692307693), ('U478192399', 0.06666666666666667), ('U184200270', 0.05555555555555555)]\n"
       },
       "metadata": {},
       "msg_type": "stream",
       "version": "5.3"
      },
      "timestamp": "2018-11-16T20:20:01.934Z"
     },
     {
      "code": "clf.predict(train.loc[0:0, ['reviewerID', 'itemID']])",
      "response": {
       "content": {
        "data": {
         "text/plain": "0    0.2\ndtype: float64"
        },
        "execution_count": 50,
        "metadata": {}
       },
       "metadata": {},
       "msg_type": "execute_result",
       "version": "5.3"
      },
      "timestamp": "2018-11-16T20:20:01.937Z"
     },
     {
      "code": "clf.predict(train.loc[0:0, ['reviewerID', 'itemID']])",
      "response": {
       "content": {
        "name": "stdout",
        "text": "[('U325064970', 0.3333333333333333), ('U287755646', 0.3333333333333333), ('U770410694', 0.3333333333333333), ('U242125618', 0.3333333333333333), ('U807531022', 0.3333333333333333), ('U744656430', 0.3333333333333333), ('U319834634', 0.25), ('U767987542', 0.25), ('U128006640', 0.25), ('U376812220', 0.25), ('U852147583', 0.2), ('U483924346', 0.2), ('U429360487', 0.2), ('U372573523', 0.2), ('U189757222', 0.16666666666666666), ('U356897317', 0.16666666666666666), ('U219279072', 0.16666666666666666), ('U717582285', 0.16666666666666666), ('U706786416', 0.16666666666666666), ('U762998081', 0.16666666666666666), ('U906260102', 0.16666666666666666), ('U401058838', 0.16666666666666666), ('U847108440', 0.14285714285714285), ('U235991629', 0.14285714285714285), ('U470661329', 0.14285714285714285), ('U523993039', 0.14285714285714285), ('U560813466', 0.14285714285714285), ('U177029244', 0.125), ('U583393015', 0.125), ('U674985692', 0.1111111111111111), ('U648118093', 0.1), ('U808796724', 0.09090909090909091), ('U236951601', 0.09090909090909091), ('U918182148', 0.07692307692307693), ('U478192399', 0.06666666666666667), ('U184200270', 0.05555555555555555)]\n"
       },
       "metadata": {},
       "msg_type": "stream",
       "version": "5.3"
      },
      "timestamp": "2018-11-16T20:20:36.838Z"
     },
     {
      "code": "clf.predict(train.loc[0:0, ['reviewerID', 'itemID']])",
      "response": {
       "content": {
        "data": {
         "text/plain": "0    0.0\ndtype: float64"
        },
        "execution_count": 53,
        "metadata": {}
       },
       "metadata": {},
       "msg_type": "execute_result",
       "version": "5.3"
      },
      "timestamp": "2018-11-16T20:20:36.841Z"
     },
     {
      "code": "clf.predict(train.loc[0:0, ['reviewerID', 'itemID']])",
      "response": {
       "content": {
        "data": {
         "text/plain": "0    0\ndtype: int64"
        },
        "execution_count": 56,
        "metadata": {}
       },
       "metadata": {},
       "msg_type": "execute_result",
       "version": "5.3"
      },
      "timestamp": "2018-11-16T20:22:48.154Z"
     },
     {
      "code": "clf.predict(train[0:5])",
      "response": {
       "content": {
        "data": {
         "text/plain": "0    0\n1    0\n2    0\n3    0\n4    0\ndtype: int64"
        },
        "execution_count": 59,
        "metadata": {}
       },
       "metadata": {},
       "msg_type": "execute_result",
       "version": "5.3"
      },
      "timestamp": "2018-11-16T20:25:40.014Z"
     },
     {
      "code": "clf.predict(train[0:5])",
      "response": {
       "content": {
        "data": {
         "text/plain": "0    1\n1    1\n2    1\n3    1\n4    1\ndtype: int64"
        },
        "execution_count": 67,
        "metadata": {}
       },
       "metadata": {},
       "msg_type": "execute_result",
       "version": "5.3"
      },
      "timestamp": "2018-11-16T20:27:20.007Z"
     },
     {
      "code": "clf.predict(train[0:5])",
      "response": {
       "content": {
        "data": {
         "text/plain": "0    1\n1    1\n2    1\n3    1\n4    1\ndtype: int64"
        },
        "execution_count": 76,
        "metadata": {}
       },
       "metadata": {},
       "msg_type": "execute_result",
       "version": "5.3"
      },
      "timestamp": "2018-11-16T20:30:57.011Z"
     },
     {
      "code": "%prun clf.predict(train[0:5])",
      "response": {
       "content": {
        "name": "stdout",
        "text": " "
       },
       "metadata": {},
       "msg_type": "stream",
       "version": "5.3"
      },
      "timestamp": "2018-11-16T20:31:52.177Z"
     },
     {
      "code": "%prun clf.predict(train[0:5])",
      "response": {
       "content": {
        "name": "stdout",
        "text": " "
       },
       "metadata": {},
       "msg_type": "stream",
       "version": "5.3"
      },
      "timestamp": "2018-11-16T20:36:55.845Z"
     },
     {
      "code": "clf.predict(train[0:5])",
      "response": {
       "content": {
        "data": {
         "text/plain": "0    1\n1    1\n2    1\n3    1\n4    1\ndtype: int64"
        },
        "execution_count": 83,
        "metadata": {}
       },
       "metadata": {},
       "msg_type": "execute_result",
       "version": "5.3"
      },
      "timestamp": "2018-11-16T20:37:05.576Z"
     },
     {
      "code": "clf.predict(train[0:5])",
      "response": {
       "content": {
        "data": {
         "text/plain": "0    1\n1    1\n2    1\n3    1\n4    1\ndtype: int64"
        },
        "execution_count": 89,
        "metadata": {}
       },
       "metadata": {},
       "msg_type": "execute_result",
       "version": "5.3"
      },
      "timestamp": "2018-11-16T20:45:11.232Z"
     },
     {
      "code": "clf.predict(train[0:5])",
      "response": {
       "content": {
        "data": {
         "text/plain": "4941      1\n51775     1\n115253    1\n299321    0\n173570    1\ndtype: int64"
        },
        "execution_count": 213,
        "metadata": {}
       },
       "metadata": {},
       "msg_type": "execute_result",
       "version": "5.3"
      },
      "timestamp": "2018-11-16T23:14:54.692Z"
     },
     {
      "code": "clf.predict(train[0:5])",
      "response": {
       "content": {
        "data": {
         "text/plain": "4941      1\n51775     1\n115253    1\n299321    1\n173570    1\ndtype: int64"
        },
        "execution_count": 234,
        "metadata": {}
       },
       "metadata": {},
       "msg_type": "execute_result",
       "version": "5.3"
      },
      "timestamp": "2018-11-16T23:47:30.866Z"
     },
     {
      "code": "clf.predict(train[0:5])",
      "response": {
       "content": {
        "data": {
         "text/plain": "4941      1\n51775     1\n115253    1\n299321    0\n173570    1\ndtype: int64"
        },
        "execution_count": 267,
        "metadata": {}
       },
       "metadata": {},
       "msg_type": "execute_result",
       "version": "5.3"
      },
      "timestamp": "2018-11-17T00:04:15.639Z"
     },
     {
      "code": "clf.predict(train[0:5])",
      "response": {
       "content": {
        "data": {
         "text/plain": "4941      1\n51775     1\n115253    1\n299321    0\n173570    1\ndtype: int64"
        },
        "execution_count": 275,
        "metadata": {}
       },
       "metadata": {},
       "msg_type": "execute_result",
       "version": "5.3"
      },
      "timestamp": "2018-11-17T00:08:00.473Z"
     }
    ]
   },
   "outputs": [
    {
     "data": {
      "text/plain": [
       "4941      1\n",
       "51775     1\n",
       "115253    1\n",
       "299321    0\n",
       "173570    1\n",
       "dtype: int64"
      ]
     },
     "execution_count": 275,
     "metadata": {},
     "output_type": "execute_result"
    }
   ],
   "source": [
    "clf.predict(train[0:5])"
   ]
  },
  {
   "cell_type": "code",
   "execution_count": 276,
   "metadata": {
    "history": [
     {
      "code": "%%time\n\nclf.score(valid[0:100], valid['reviewed'][0:100])",
      "response": {
       "content": {
        "name": "stdout",
        "text": "CPU times: user 3.83 s, sys: 100 ms, total: 3.93 s\nWall time: 3.94 s\n"
       },
       "metadata": {},
       "msg_type": "stream",
       "version": "5.3"
      },
      "timestamp": "2018-11-16T20:29:34.874Z"
     },
     {
      "code": "%%time\n\nclf.score(valid[0:100], valid['reviewed'][0:100])",
      "response": {
       "content": {
        "data": {
         "text/plain": "0.01"
        },
        "execution_count": 71,
        "metadata": {}
       },
       "metadata": {},
       "msg_type": "execute_result",
       "version": "5.3"
      },
      "timestamp": "2018-11-16T20:29:34.876Z"
     },
     {
      "code": "%%time\n\nclf.score(valid[0:100], valid['reviewed'][0:100])",
      "response": {
       "content": {
        "name": "stdout",
        "text": "CPU times: user 171 ms, sys: 7.73 ms, total: 179 ms\nWall time: 180 ms\n"
       },
       "metadata": {},
       "msg_type": "stream",
       "version": "5.3"
      },
      "timestamp": "2018-11-16T20:37:08.453Z"
     },
     {
      "code": "%%time\n\nclf.score(valid[0:100], valid['reviewed'][0:100])",
      "response": {
       "content": {
        "data": {
         "text/plain": "0.01"
        },
        "execution_count": 85,
        "metadata": {}
       },
       "metadata": {},
       "msg_type": "execute_result",
       "version": "5.3"
      },
      "timestamp": "2018-11-16T20:37:08.457Z"
     },
     {
      "code": "%%time\n\nclf.score(valid[0:100], valid['reviewed'][0:100])",
      "response": {
       "content": {
        "name": "stdout",
        "text": "CPU times: user 217 ms, sys: 8.94 ms, total: 226 ms\nWall time: 231 ms\n"
       },
       "metadata": {},
       "msg_type": "stream",
       "version": "5.3"
      },
      "timestamp": "2018-11-16T20:45:11.800Z"
     },
     {
      "code": "%%time\n\nclf.score(valid[0:100], valid['reviewed'][0:100])",
      "response": {
       "content": {
        "data": {
         "text/plain": "0.06"
        },
        "execution_count": 91,
        "metadata": {}
       },
       "metadata": {},
       "msg_type": "execute_result",
       "version": "5.3"
      },
      "timestamp": "2018-11-16T20:45:11.803Z"
     },
     {
      "code": "%%time\n\nclf.score(valid[0:100], valid['reviewed'][0:100])",
      "response": {
       "content": {
        "name": "stdout",
        "text": "CPU times: user 64.4 ms, sys: 7.67 ms, total: 72.1 ms\nWall time: 73.7 ms\n"
       },
       "metadata": {},
       "msg_type": "stream",
       "version": "5.3"
      },
      "timestamp": "2018-11-16T23:15:08.073Z"
     },
     {
      "code": "%%time\n\nclf.score(valid[0:100], valid['reviewed'][0:100])",
      "response": {
       "content": {
        "data": {
         "text/plain": "0.44"
        },
        "execution_count": 215,
        "metadata": {}
       },
       "metadata": {},
       "msg_type": "execute_result",
       "version": "5.3"
      },
      "timestamp": "2018-11-16T23:15:08.098Z"
     },
     {
      "code": "clf.score(valid[0:100], valid['reviewed'][0:100])",
      "response": {
       "content": {
        "data": {
         "text/plain": "0.77"
        },
        "execution_count": 236,
        "metadata": {}
       },
       "metadata": {},
       "msg_type": "execute_result",
       "version": "5.3"
      },
      "timestamp": "2018-11-16T23:47:39.843Z"
     },
     {
      "code": "clf.score(valid[0:100], valid['reviewed'][0:100])",
      "response": {
       "content": {
        "data": {
         "text/plain": "0.83"
        },
        "execution_count": 268,
        "metadata": {}
       },
       "metadata": {},
       "msg_type": "execute_result",
       "version": "5.3"
      },
      "timestamp": "2018-11-17T00:04:16.773Z"
     },
     {
      "code": "clf.score(valid[0:100], valid['reviewed'][0:100])",
      "response": {
       "content": {
        "data": {
         "text/plain": "0.98"
        },
        "execution_count": 276,
        "metadata": {}
       },
       "metadata": {},
       "msg_type": "execute_result",
       "version": "5.3"
      },
      "timestamp": "2018-11-17T00:08:02.023Z"
     }
    ],
    "scrolled": true
   },
   "outputs": [
    {
     "data": {
      "text/plain": [
       "0.98"
      ]
     },
     "execution_count": 276,
     "metadata": {},
     "output_type": "execute_result"
    }
   ],
   "source": [
    "clf.score(valid[0:100], valid['reviewed'][0:100])"
   ]
  },
  {
   "cell_type": "markdown",
   "metadata": {},
   "source": [
    "**Make test predictions**"
   ]
  },
  {
   "cell_type": "code",
   "execution_count": 277,
   "metadata": {
    "history": [
     {
      "code": "from sklearn.preprocessing import OneHotEncoder\n\nenc = OneHotEncoder(handle_unknown='ignore')\nenc",
      "response": {
       "content": {
        "data": {
         "text/plain": "OneHotEncoder(categorical_features=None, categories=None,\n       dtype=<class 'numpy.float64'>, handle_unknown='ignore',\n       n_values=None, sparse=True)"
        },
        "execution_count": 27,
        "metadata": {}
       },
       "metadata": {},
       "msg_type": "execute_result",
       "version": "5.3"
      },
      "timestamp": "2018-11-16T05:14:50.822Z"
     },
     {
      "code": "from sklearn.preprocessing import OneHotEncoder\n\nenc = OneHotEncoder(handle_unknown='ignore')\nenc.fit_transform(train[['reviewerID', 'itemID']])",
      "response": {
       "content": {
        "data": {
         "text/plain": "<300000x59153 sparse matrix of type '<class 'numpy.float64'>'\n\twith 600000 stored elements in Compressed Sparse Row format>"
        },
        "execution_count": 28,
        "metadata": {}
       },
       "metadata": {},
       "msg_type": "execute_result",
       "version": "5.3"
      },
      "timestamp": "2018-11-16T05:15:02.095Z"
     },
     {
      "code": "from sklearn.preprocessing import OneHotEncoder\n\nenc = OneHotEncoder(handle_unknown='ignore')\nenc.fit_transform(train[['reviewerID', 'itemID']])",
      "response": {
       "content": {
        "data": {
         "text/plain": "<200000x58981 sparse matrix of type '<class 'numpy.float64'>'\n\twith 400000 stored elements in Compressed Sparse Row format>"
        },
        "execution_count": 35,
        "metadata": {}
       },
       "metadata": {},
       "msg_type": "execute_result",
       "version": "5.3"
      },
      "timestamp": "2018-11-16T05:26:53.181Z"
     },
     {
      "code": "from sklearn.preprocessing import OneHotEncoder\n\nenc = OneHotEncoder(handle_unknown='ignore')\ntrain_encoded = enc.fit_transform(train[['reviewerID', 'itemID']])\ntrain_endoded",
      "response": {
       "content": {
        "ename": "NameError",
        "evalue": "name 'train_endoded' is not defined",
        "traceback": [
         "\u001b[0;31m---------------------------------------------------------------------------\u001b[0m",
         "\u001b[0;31mNameError\u001b[0m                                 Traceback (most recent call last)",
         "\u001b[0;32m<ipython-input-36-264e21a149a0>\u001b[0m in \u001b[0;36m<module>\u001b[0;34m\u001b[0m\n\u001b[1;32m      3\u001b[0m \u001b[0menc\u001b[0m \u001b[0;34m=\u001b[0m \u001b[0mOneHotEncoder\u001b[0m\u001b[0;34m(\u001b[0m\u001b[0mhandle_unknown\u001b[0m\u001b[0;34m=\u001b[0m\u001b[0;34m'ignore'\u001b[0m\u001b[0;34m)\u001b[0m\u001b[0;34m\u001b[0m\u001b[0m\n\u001b[1;32m      4\u001b[0m \u001b[0mtrain_encoded\u001b[0m \u001b[0;34m=\u001b[0m \u001b[0menc\u001b[0m\u001b[0;34m.\u001b[0m\u001b[0mfit_transform\u001b[0m\u001b[0;34m(\u001b[0m\u001b[0mtrain\u001b[0m\u001b[0;34m[\u001b[0m\u001b[0;34m[\u001b[0m\u001b[0;34m'reviewerID'\u001b[0m\u001b[0;34m,\u001b[0m \u001b[0;34m'itemID'\u001b[0m\u001b[0;34m]\u001b[0m\u001b[0;34m]\u001b[0m\u001b[0;34m)\u001b[0m\u001b[0;34m\u001b[0m\u001b[0m\n\u001b[0;32m----> 5\u001b[0;31m \u001b[0mtrain_endoded\u001b[0m\u001b[0;34m\u001b[0m\u001b[0m\n\u001b[0m",
         "\u001b[0;31mNameError\u001b[0m: name 'train_endoded' is not defined"
        ]
       },
       "metadata": {},
       "msg_type": "error",
       "version": "5.3"
      },
      "timestamp": "2018-11-16T05:27:11.225Z"
     },
     {
      "code": "from sklearn.preprocessing import OneHotEncoder\n\nenc = OneHotEncoder(handle_unknown='ignore')\ntrain_encoded = enc.fit_transform(train[['reviewerID', 'itemID']])\ntrain_encoded",
      "response": {
       "content": {
        "data": {
         "text/plain": "<200000x58981 sparse matrix of type '<class 'numpy.float64'>'\n\twith 400000 stored elements in Compressed Sparse Row format>"
        },
        "execution_count": 37,
        "metadata": {}
       },
       "metadata": {},
       "msg_type": "execute_result",
       "version": "5.3"
      },
      "timestamp": "2018-11-16T05:27:13.064Z"
     },
     {
      "code": "from sklearn.preprocessing import OneHotEncoder\n\nenc = OneHotEncoder(handle_unknown='ignore')\ntrain_encoded = enc.fit_transform(train[['reviewerID', 'itemID']])\ntrain_encoded",
      "response": {
       "content": {
        "data": {
         "text/plain": "<200000x58948 sparse matrix of type '<class 'numpy.float64'>'\n\twith 400000 stored elements in Compressed Sparse Row format>"
        },
        "execution_count": 9,
        "metadata": {}
       },
       "metadata": {},
       "msg_type": "execute_result",
       "version": "5.3"
      },
      "timestamp": "2018-11-16T05:42:05.327Z"
     },
     {
      "code": "from sklearn.preprocessing import OrdinalEncoder\n\nreviewer_enc = OrdinalEncoder()\nitem_enc = OrdinalEncoder()\n\ntrain_reviewers = reviewer_enc.fit_transform(train['reviewerID'])\nitem_reviewers = reviewer_enc.fit_transform(train['itemID'])\n\ntrain_reviewers",
      "response": {
       "content": {
        "ename": "ValueError",
        "evalue": "Expected 2D array, got 1D array instead:\narray=['U834494147' 'U461858851' 'U226999933' ... 'U025548018' 'U018187262'\n 'U318489975'].\nReshape your data either using array.reshape(-1, 1) if your data has a single feature or array.reshape(1, -1) if it contains a single sample.",
        "traceback": [
         "\u001b[0;31m---------------------------------------------------------------------------\u001b[0m",
         "\u001b[0;31mValueError\u001b[0m                                Traceback (most recent call last)",
         "\u001b[0;32m<ipython-input-15-8fc7b653917b>\u001b[0m in \u001b[0;36m<module>\u001b[0;34m\u001b[0m\n\u001b[1;32m      4\u001b[0m \u001b[0mitem_enc\u001b[0m \u001b[0;34m=\u001b[0m \u001b[0mOrdinalEncoder\u001b[0m\u001b[0;34m(\u001b[0m\u001b[0;34m)\u001b[0m\u001b[0;34m\u001b[0m\u001b[0m\n\u001b[1;32m      5\u001b[0m \u001b[0;34m\u001b[0m\u001b[0m\n\u001b[0;32m----> 6\u001b[0;31m \u001b[0mtrain_reviewers\u001b[0m \u001b[0;34m=\u001b[0m \u001b[0mreviewer_enc\u001b[0m\u001b[0;34m.\u001b[0m\u001b[0mfit_transform\u001b[0m\u001b[0;34m(\u001b[0m\u001b[0mtrain\u001b[0m\u001b[0;34m[\u001b[0m\u001b[0;34m'reviewerID'\u001b[0m\u001b[0;34m]\u001b[0m\u001b[0;34m)\u001b[0m\u001b[0;34m\u001b[0m\u001b[0m\n\u001b[0m\u001b[1;32m      7\u001b[0m \u001b[0mitem_reviewers\u001b[0m \u001b[0;34m=\u001b[0m \u001b[0mreviewer_enc\u001b[0m\u001b[0;34m.\u001b[0m\u001b[0mfit_transform\u001b[0m\u001b[0;34m(\u001b[0m\u001b[0mtrain\u001b[0m\u001b[0;34m[\u001b[0m\u001b[0;34m'itemID'\u001b[0m\u001b[0;34m]\u001b[0m\u001b[0;34m)\u001b[0m\u001b[0;34m\u001b[0m\u001b[0m\n\u001b[1;32m      8\u001b[0m \u001b[0;34m\u001b[0m\u001b[0m\n",
         "\u001b[0;32m~/anaconda3/lib/python3.6/site-packages/sklearn/base.py\u001b[0m in \u001b[0;36mfit_transform\u001b[0;34m(self, X, y, **fit_params)\u001b[0m\n\u001b[1;32m    460\u001b[0m         \u001b[0;32mif\u001b[0m \u001b[0my\u001b[0m \u001b[0;32mis\u001b[0m \u001b[0;32mNone\u001b[0m\u001b[0;34m:\u001b[0m\u001b[0;34m\u001b[0m\u001b[0m\n\u001b[1;32m    461\u001b[0m             \u001b[0;31m# fit method of arity 1 (unsupervised transformation)\u001b[0m\u001b[0;34m\u001b[0m\u001b[0;34m\u001b[0m\u001b[0m\n\u001b[0;32m--> 462\u001b[0;31m             \u001b[0;32mreturn\u001b[0m \u001b[0mself\u001b[0m\u001b[0;34m.\u001b[0m\u001b[0mfit\u001b[0m\u001b[0;34m(\u001b[0m\u001b[0mX\u001b[0m\u001b[0;34m,\u001b[0m \u001b[0;34m**\u001b[0m\u001b[0mfit_params\u001b[0m\u001b[0;34m)\u001b[0m\u001b[0;34m.\u001b[0m\u001b[0mtransform\u001b[0m\u001b[0;34m(\u001b[0m\u001b[0mX\u001b[0m\u001b[0;34m)\u001b[0m\u001b[0;34m\u001b[0m\u001b[0m\n\u001b[0m\u001b[1;32m    463\u001b[0m         \u001b[0;32melse\u001b[0m\u001b[0;34m:\u001b[0m\u001b[0;34m\u001b[0m\u001b[0m\n\u001b[1;32m    464\u001b[0m             \u001b[0;31m# fit method of arity 2 (supervised transformation)\u001b[0m\u001b[0;34m\u001b[0m\u001b[0;34m\u001b[0m\u001b[0m\n",
         "\u001b[0;32m~/anaconda3/lib/python3.6/site-packages/sklearn/preprocessing/_encoders.py\u001b[0m in \u001b[0;36mfit\u001b[0;34m(self, X, y)\u001b[0m\n\u001b[1;32m    772\u001b[0m         \u001b[0;31m# OneHoteEncoder: can be removed once deprecations are removed\u001b[0m\u001b[0;34m\u001b[0m\u001b[0;34m\u001b[0m\u001b[0m\n\u001b[1;32m    773\u001b[0m         \u001b[0mself\u001b[0m\u001b[0;34m.\u001b[0m\u001b[0m_categories\u001b[0m \u001b[0;34m=\u001b[0m \u001b[0mself\u001b[0m\u001b[0;34m.\u001b[0m\u001b[0mcategories\u001b[0m\u001b[0;34m\u001b[0m\u001b[0m\n\u001b[0;32m--> 774\u001b[0;31m         \u001b[0mself\u001b[0m\u001b[0;34m.\u001b[0m\u001b[0m_fit\u001b[0m\u001b[0;34m(\u001b[0m\u001b[0mX\u001b[0m\u001b[0;34m)\u001b[0m\u001b[0;34m\u001b[0m\u001b[0m\n\u001b[0m\u001b[1;32m    775\u001b[0m \u001b[0;34m\u001b[0m\u001b[0m\n\u001b[1;32m    776\u001b[0m         \u001b[0;32mreturn\u001b[0m \u001b[0mself\u001b[0m\u001b[0;34m\u001b[0m\u001b[0m\n",
         "\u001b[0;32m~/anaconda3/lib/python3.6/site-packages/sklearn/preprocessing/_encoders.py\u001b[0m in \u001b[0;36m_fit\u001b[0;34m(self, X, handle_unknown)\u001b[0m\n\u001b[1;32m     61\u001b[0m \u001b[0;34m\u001b[0m\u001b[0m\n\u001b[1;32m     62\u001b[0m     \u001b[0;32mdef\u001b[0m \u001b[0m_fit\u001b[0m\u001b[0;34m(\u001b[0m\u001b[0mself\u001b[0m\u001b[0;34m,\u001b[0m \u001b[0mX\u001b[0m\u001b[0;34m,\u001b[0m \u001b[0mhandle_unknown\u001b[0m\u001b[0;34m=\u001b[0m\u001b[0;34m'error'\u001b[0m\u001b[0;34m)\u001b[0m\u001b[0;34m:\u001b[0m\u001b[0;34m\u001b[0m\u001b[0m\n\u001b[0;32m---> 63\u001b[0;31m         \u001b[0mX\u001b[0m \u001b[0;34m=\u001b[0m \u001b[0mself\u001b[0m\u001b[0;34m.\u001b[0m\u001b[0m_check_X\u001b[0m\u001b[0;34m(\u001b[0m\u001b[0mX\u001b[0m\u001b[0;34m)\u001b[0m\u001b[0;34m\u001b[0m\u001b[0m\n\u001b[0m\u001b[1;32m     64\u001b[0m \u001b[0;34m\u001b[0m\u001b[0m\n\u001b[1;32m     65\u001b[0m         \u001b[0mn_samples\u001b[0m\u001b[0;34m,\u001b[0m \u001b[0mn_features\u001b[0m \u001b[0;34m=\u001b[0m \u001b[0mX\u001b[0m\u001b[0;34m.\u001b[0m\u001b[0mshape\u001b[0m\u001b[0;34m\u001b[0m\u001b[0m\n",
         "\u001b[0;32m~/anaconda3/lib/python3.6/site-packages/sklearn/preprocessing/_encoders.py\u001b[0m in \u001b[0;36m_check_X\u001b[0;34m(self, X)\u001b[0m\n\u001b[1;32m     47\u001b[0m \u001b[0;34m\u001b[0m\u001b[0m\n\u001b[1;32m     48\u001b[0m         \"\"\"\n\u001b[0;32m---> 49\u001b[0;31m         \u001b[0mX_temp\u001b[0m \u001b[0;34m=\u001b[0m \u001b[0mcheck_array\u001b[0m\u001b[0;34m(\u001b[0m\u001b[0mX\u001b[0m\u001b[0;34m,\u001b[0m \u001b[0mdtype\u001b[0m\u001b[0;34m=\u001b[0m\u001b[0;32mNone\u001b[0m\u001b[0;34m)\u001b[0m\u001b[0;34m\u001b[0m\u001b[0m\n\u001b[0m\u001b[1;32m     50\u001b[0m         \u001b[0;32mif\u001b[0m \u001b[0;32mnot\u001b[0m \u001b[0mhasattr\u001b[0m\u001b[0;34m(\u001b[0m\u001b[0mX\u001b[0m\u001b[0;34m,\u001b[0m \u001b[0;34m'dtype'\u001b[0m\u001b[0;34m)\u001b[0m \u001b[0;32mand\u001b[0m \u001b[0mnp\u001b[0m\u001b[0;34m.\u001b[0m\u001b[0missubdtype\u001b[0m\u001b[0;34m(\u001b[0m\u001b[0mX_temp\u001b[0m\u001b[0;34m.\u001b[0m\u001b[0mdtype\u001b[0m\u001b[0;34m,\u001b[0m \u001b[0mnp\u001b[0m\u001b[0;34m.\u001b[0m\u001b[0mstr_\u001b[0m\u001b[0;34m)\u001b[0m\u001b[0;34m:\u001b[0m\u001b[0;34m\u001b[0m\u001b[0m\n\u001b[1;32m     51\u001b[0m             \u001b[0mX\u001b[0m \u001b[0;34m=\u001b[0m \u001b[0mcheck_array\u001b[0m\u001b[0;34m(\u001b[0m\u001b[0mX\u001b[0m\u001b[0;34m,\u001b[0m \u001b[0mdtype\u001b[0m\u001b[0;34m=\u001b[0m\u001b[0mnp\u001b[0m\u001b[0;34m.\u001b[0m\u001b[0mobject\u001b[0m\u001b[0;34m)\u001b[0m\u001b[0;34m\u001b[0m\u001b[0m\n",
         "\u001b[0;32m~/anaconda3/lib/python3.6/site-packages/sklearn/utils/validation.py\u001b[0m in \u001b[0;36mcheck_array\u001b[0;34m(array, accept_sparse, accept_large_sparse, dtype, order, copy, force_all_finite, ensure_2d, allow_nd, ensure_min_samples, ensure_min_features, warn_on_dtype, estimator)\u001b[0m\n\u001b[1;32m    545\u001b[0m                     \u001b[0;34m\"Reshape your data either using array.reshape(-1, 1) if \"\u001b[0m\u001b[0;34m\u001b[0m\u001b[0m\n\u001b[1;32m    546\u001b[0m                     \u001b[0;34m\"your data has a single feature or array.reshape(1, -1) \"\u001b[0m\u001b[0;34m\u001b[0m\u001b[0m\n\u001b[0;32m--> 547\u001b[0;31m                     \"if it contains a single sample.\".format(array))\n\u001b[0m\u001b[1;32m    548\u001b[0m \u001b[0;34m\u001b[0m\u001b[0m\n\u001b[1;32m    549\u001b[0m         \u001b[0;31m# in the future np.flexible dtypes will be handled like object dtypes\u001b[0m\u001b[0;34m\u001b[0m\u001b[0;34m\u001b[0m\u001b[0m\n",
         "\u001b[0;31mValueError\u001b[0m: Expected 2D array, got 1D array instead:\narray=['U834494147' 'U461858851' 'U226999933' ... 'U025548018' 'U018187262'\n 'U318489975'].\nReshape your data either using array.reshape(-1, 1) if your data has a single feature or array.reshape(1, -1) if it contains a single sample."
        ]
       },
       "metadata": {},
       "msg_type": "error",
       "version": "5.3"
      },
      "timestamp": "2018-11-16T05:51:15.848Z"
     },
     {
      "code": "from sklearn.preprocessing import OrdinalEncoder\n\nenc = OrdinalEncoder()\ntrain_encoded = enc.fit_transform(train[['reviewerID', 'itemID']])\n\ntrain_encoded",
      "response": {
       "content": {
        "data": {
         "text/plain": "array([[32674.,  2509.],\n       [18111.,  4584.],\n       [ 8917., 17476.],\n       ...,\n       [ 1026.,  6408.],\n       [  726.,   864.],\n       [12484.,  8731.]])"
        },
        "execution_count": 16,
        "metadata": {}
       },
       "metadata": {},
       "msg_type": "execute_result",
       "version": "5.3"
      },
      "timestamp": "2018-11-16T05:52:08.599Z"
     },
     {
      "code": "from sklearn.preprocessing import OrdinalEncoder\n\nenc = OrdinalEncoder()\ncoords = enc.fit_transform(train[['reviewerID', 'itemID']])\ncoords",
      "response": {
       "content": {
        "data": {
         "text/plain": "array([[32674.,  2509.],\n       [18111.,  4584.],\n       [ 8917., 17476.],\n       ...,\n       [ 1026.,  6408.],\n       [  726.,   864.],\n       [12484.,  8731.]])"
        },
        "execution_count": 18,
        "metadata": {}
       },
       "metadata": {},
       "msg_type": "execute_result",
       "version": "5.3"
      },
      "timestamp": "2018-11-16T05:53:19.118Z"
     },
     {
      "code": "from sklearn.preprocessing import OrdinalEncoder\n\nenc = OrdinalEncoder()\ncoords = (enc.fit_transform(train[['reviewerID', 'itemID']])\n          .astype(np.int64))\ncoords",
      "response": {
       "content": {
        "data": {
         "text/plain": "array([[32674,  2509],\n       [18111,  4584],\n       [ 8917, 17476],\n       ...,\n       [ 1026,  6408],\n       [  726,   864],\n       [12484,  8731]])"
        },
        "execution_count": 20,
        "metadata": {}
       },
       "metadata": {},
       "msg_type": "execute_result",
       "version": "5.3"
      },
      "timestamp": "2018-11-16T05:54:34.313Z"
     },
     {
      "code": "from sklearn.preprocessing import OrdinalEncoder\n\nenc = OrdinalEncoder()\ncoords = (enc.fit_transform(train[['reviewerID', 'itemID']])\n          .astype(np.int64))\ncoords",
      "response": {
       "content": {
        "data": {
         "text/plain": "array([[32674,  2509],\n       [18111,  4584],\n       [ 8917, 17476],\n       ...,\n       [ 1026,  6408],\n       [  726,   864],\n       [12484,  8731]])"
        },
        "execution_count": 9,
        "metadata": {}
       },
       "metadata": {},
       "msg_type": "execute_result",
       "version": "5.3"
      },
      "timestamp": "2018-11-16T06:17:01.069Z"
     },
     {
      "code": "(train\n .groupby('reviewerID')\n ['itemID']\n .agg(set)\n)",
      "response": {
       "content": {
        "data": {
         "text/plain": "reviewerID\nU000005569    {I242782970, I460877914, I724050449, I59227376...\nU000024709    {I575904534, I858406960, I758394206, I07779125...\n                                    ...                        \nU999921889                 {I673200856, I778564555, I959944002}\nU999927096                 {I844064375, I434116709, I471144948}\nName: itemID, Length: 39037, dtype: object"
        },
        "execution_count": 35,
        "metadata": {}
       },
       "metadata": {},
       "msg_type": "execute_result",
       "version": "5.3"
      },
      "timestamp": "2018-11-16T06:27:55.892Z"
     },
     {
      "code": "reviews = (train\n .groupby('reviewerID')\n ['itemID']\n .agg(set)\n)\nreviews",
      "response": {
       "content": {
        "data": {
         "text/plain": "reviewerID\nU000005569                 {I892925682, I012888581, I478276997}\nU000024709    {I526472819, I858406960, I758394206, I28940198...\n                                    ...                        \nU999921889                             {I673200856, I981807126}\nU999927096                                         {I420969962}\nName: itemID, Length: 36427, dtype: object"
        },
        "execution_count": 39,
        "metadata": {}
       },
       "metadata": {},
       "msg_type": "execute_result",
       "version": "5.3"
      },
      "timestamp": "2018-11-16T06:28:57.306Z"
     },
     {
      "code": "items = (train\n .groupby('itemID')\n ['reviewerID']\n .agg(set)\n)\nitems",
      "response": {
       "content": {
        "data": {
         "text/plain": "itemID\nI000024906    {U388298041, U233981700, U753083689, U82259797...\nI000030838    {U040366123, U257785428, U430471017, U36466288...\n                                    ...                        \nI999879552    {U821078232, U776176504, U198194762, U26917620...\nI999917660    {U183746108, U829827806, U175386958, U82813406...\nName: reviewerID, Length: 19381, dtype: object"
        },
        "execution_count": 78,
        "metadata": {}
       },
       "metadata": {},
       "msg_type": "execute_result",
       "version": "5.3"
      },
      "timestamp": "2018-11-16T07:13:43.345Z"
     },
     {
      "code": "pd.read_csv('data/pairs_Purchase.txt')",
      "response": {
       "content": {
        "data": {
         "text/html": "<div>\n<style scoped>\n    .dataframe tbody tr th:only-of-type {\n        vertical-align: middle;\n    }\n\n    .dataframe tbody tr th {\n        vertical-align: top;\n    }\n\n    .dataframe thead th {\n        text-align: right;\n    }\n</style>\n<table border=\"1\" class=\"dataframe\">\n  <thead>\n    <tr style=\"text-align: right;\">\n      <th></th>\n      <th>reviewerID-itemID</th>\n      <th>prediction</th>\n    </tr>\n  </thead>\n  <tbody>\n    <tr>\n      <th>0</th>\n      <td>U938994110-I529819131</td>\n      <td>NaN</td>\n    </tr>\n    <tr>\n      <th>1</th>\n      <td>U181459539-I863471064</td>\n      <td>NaN</td>\n    </tr>\n    <tr>\n      <th>...</th>\n      <td>...</td>\n      <td>...</td>\n    </tr>\n    <tr>\n      <th>27998</th>\n      <td>U566804667-I857242737</td>\n      <td>NaN</td>\n    </tr>\n    <tr>\n      <th>27999</th>\n      <td>U691248665-I871166941</td>\n      <td>NaN</td>\n    </tr>\n  </tbody>\n</table>\n<p>28000 rows × 2 columns</p>\n</div>",
         "text/plain": "           reviewerID-itemID  prediction\n0      U938994110-I529819131         NaN\n1      U181459539-I863471064         NaN\n...                      ...         ...\n27998  U566804667-I857242737         NaN\n27999  U691248665-I871166941         NaN\n\n[28000 rows x 2 columns]"
        },
        "execution_count": 95,
        "metadata": {}
       },
       "metadata": {},
       "msg_type": "execute_result",
       "version": "5.3"
      },
      "timestamp": "2018-11-16T07:38:28.056Z"
     },
     {
      "code": "test = pd.read_csv('data/pairs_Purchase.txt')\ntest",
      "response": {
       "content": {
        "data": {
         "text/html": "<div>\n<style scoped>\n    .dataframe tbody tr th:only-of-type {\n        vertical-align: middle;\n    }\n\n    .dataframe tbody tr th {\n        vertical-align: top;\n    }\n\n    .dataframe thead th {\n        text-align: right;\n    }\n</style>\n<table border=\"1\" class=\"dataframe\">\n  <thead>\n    <tr style=\"text-align: right;\">\n      <th></th>\n      <th>reviewerID-itemID</th>\n      <th>prediction</th>\n    </tr>\n  </thead>\n  <tbody>\n    <tr>\n      <th>0</th>\n      <td>U938994110-I529819131</td>\n      <td>NaN</td>\n    </tr>\n    <tr>\n      <th>1</th>\n      <td>U181459539-I863471064</td>\n      <td>NaN</td>\n    </tr>\n    <tr>\n      <th>...</th>\n      <td>...</td>\n      <td>...</td>\n    </tr>\n    <tr>\n      <th>27998</th>\n      <td>U566804667-I857242737</td>\n      <td>NaN</td>\n    </tr>\n    <tr>\n      <th>27999</th>\n      <td>U691248665-I871166941</td>\n      <td>NaN</td>\n    </tr>\n  </tbody>\n</table>\n<p>28000 rows × 2 columns</p>\n</div>",
         "text/plain": "           reviewerID-itemID  prediction\n0      U938994110-I529819131         NaN\n1      U181459539-I863471064         NaN\n...                      ...         ...\n27998  U566804667-I857242737         NaN\n27999  U691248665-I871166941         NaN\n\n[28000 rows x 2 columns]"
        },
        "execution_count": 96,
        "metadata": {}
       },
       "metadata": {},
       "msg_type": "execute_result",
       "version": "5.3"
      },
      "timestamp": "2018-11-16T07:38:41.021Z"
     },
     {
      "code": "test = pd.read_csv('data/pairs_Purchase.txt')\ntest['reviewerID-itemID'].str.split()",
      "response": {
       "content": {
        "data": {
         "text/plain": "0        [U938994110-I529819131]\n1        [U181459539-I863471064]\n                  ...           \n27998    [U566804667-I857242737]\n27999    [U691248665-I871166941]\nName: reviewerID-itemID, Length: 28000, dtype: object"
        },
        "execution_count": 103,
        "metadata": {}
       },
       "metadata": {},
       "msg_type": "execute_result",
       "version": "5.3"
      },
      "timestamp": "2018-11-16T07:48:14.925Z"
     },
     {
      "code": "test = pd.read_csv('data/pairs_Purchase.txt')\ntest_pairs = test['reviewerID-itemID'].str.split('-')\ntest_pairs",
      "response": {
       "content": {
        "data": {
         "text/plain": "0        [U938994110, I529819131]\n1        [U181459539, I863471064]\n                   ...           \n27998    [U566804667, I857242737]\n27999    [U691248665, I871166941]\nName: reviewerID-itemID, Length: 28000, dtype: object"
        },
        "execution_count": 105,
        "metadata": {}
       },
       "metadata": {},
       "msg_type": "execute_result",
       "version": "5.3"
      },
      "timestamp": "2018-11-16T07:48:31.513Z"
     },
     {
      "code": "test = pd.read_csv('data/pairs_Purchase.txt')\nsplit = test['reviewerID-itemID'].str.split('-')\ntest_pairs = split.str[0], split.str[1]\ntest_pairs",
      "response": {
       "content": {
        "data": {
         "text/plain": "(0        U938994110\n 1        U181459539\n             ...    \n 27998    U566804667\n 27999    U691248665\n Name: reviewerID-itemID, Length: 28000, dtype: object, 0        I529819131\n 1        I863471064\n             ...    \n 27998    I857242737\n 27999    I871166941\n Name: reviewerID-itemID, Length: 28000, dtype: object)"
        },
        "execution_count": 106,
        "metadata": {}
       },
       "metadata": {},
       "msg_type": "execute_result",
       "version": "5.3"
      },
      "timestamp": "2018-11-16T07:48:58.891Z"
     },
     {
      "code": "test = pd.read_csv('data/pairs_Purchase.txt')\nsplit = test['reviewerID-itemID'].str.split('-')\ntest_pairs = zip(split.str[0], split.str[1])\ntest_pairs",
      "response": {
       "content": {
        "data": {
         "text/plain": "<zip at 0x1a4ed6cec8>"
        },
        "execution_count": 107,
        "metadata": {}
       },
       "metadata": {},
       "msg_type": "execute_result",
       "version": "5.3"
      },
      "timestamp": "2018-11-16T07:49:30.090Z"
     },
     {
      "code": "test = pd.read_csv('data/pairs_Purchase.txt')\nsplit = test['reviewerID-itemID'].str.split('-')\ntest_pairs = list(zip(split.str[0], split.str[1]))\ntest_pairs[:5]",
      "response": {
       "content": {
        "data": {
         "text/plain": "[('U938994110', 'I529819131'),\n ('U181459539', 'I863471064'),\n ('U941668816', 'I684585522'),\n ('U768449391', 'I782253949'),\n ('U640450168', 'I232683472')]"
        },
        "execution_count": 113,
        "metadata": {}
       },
       "metadata": {},
       "msg_type": "execute_result",
       "version": "5.3"
      },
      "timestamp": "2018-11-16T07:51:14.715Z"
     },
     {
      "code": "test = pd.read_csv('data/pairs_Purchase.txt')\nsplit = test['reviewerID-itemID'].str.split('-')\ntest_pairs = list(split)\ntest_pairs[:5]",
      "response": {
       "content": {
        "data": {
         "text/plain": "[['U938994110', 'I529819131'],\n ['U181459539', 'I863471064'],\n ['U941668816', 'I684585522'],\n ['U768449391', 'I782253949'],\n ['U640450168', 'I232683472']]"
        },
        "execution_count": 115,
        "metadata": {}
       },
       "metadata": {},
       "msg_type": "execute_result",
       "version": "5.3"
      },
      "timestamp": "2018-11-16T07:51:27.106Z"
     },
     {
      "code": "test = pd.read_csv('data/pairs_Purchase.txt')\nsplit = test['reviewerID-itemID'].str.split('-', expand=True)\nsplit",
      "response": {
       "content": {
        "data": {
         "text/html": "<div>\n<style scoped>\n    .dataframe tbody tr th:only-of-type {\n        vertical-align: middle;\n    }\n\n    .dataframe tbody tr th {\n        vertical-align: top;\n    }\n\n    .dataframe thead th {\n        text-align: right;\n    }\n</style>\n<table border=\"1\" class=\"dataframe\">\n  <thead>\n    <tr style=\"text-align: right;\">\n      <th></th>\n      <th>0</th>\n      <th>1</th>\n    </tr>\n  </thead>\n  <tbody>\n    <tr>\n      <th>0</th>\n      <td>U938994110</td>\n      <td>I529819131</td>\n    </tr>\n    <tr>\n      <th>1</th>\n      <td>U181459539</td>\n      <td>I863471064</td>\n    </tr>\n    <tr>\n      <th>...</th>\n      <td>...</td>\n      <td>...</td>\n    </tr>\n    <tr>\n      <th>27998</th>\n      <td>U566804667</td>\n      <td>I857242737</td>\n    </tr>\n    <tr>\n      <th>27999</th>\n      <td>U691248665</td>\n      <td>I871166941</td>\n    </tr>\n  </tbody>\n</table>\n<p>28000 rows × 2 columns</p>\n</div>",
         "text/plain": "                0           1\n0      U938994110  I529819131\n1      U181459539  I863471064\n...           ...         ...\n27998  U566804667  I857242737\n27999  U691248665  I871166941\n\n[28000 rows x 2 columns]"
        },
        "execution_count": 237,
        "metadata": {}
       },
       "metadata": {},
       "msg_type": "execute_result",
       "version": "5.3"
      },
      "timestamp": "2018-11-16T23:48:14.795Z"
     },
     {
      "code": "test = pd.read_csv('data/pairs_Purchase.txt')\nsplit = (\n    test['reviewerID-itemID'].str.split('-', expand=True)\n    .rename(columns={0: 'reviewerID', 1: 'itemID'})\n)\nsplit",
      "response": {
       "content": {
        "data": {
         "text/html": "<div>\n<style scoped>\n    .dataframe tbody tr th:only-of-type {\n        vertical-align: middle;\n    }\n\n    .dataframe tbody tr th {\n        vertical-align: top;\n    }\n\n    .dataframe thead th {\n        text-align: right;\n    }\n</style>\n<table border=\"1\" class=\"dataframe\">\n  <thead>\n    <tr style=\"text-align: right;\">\n      <th></th>\n      <th>reviewerID</th>\n      <th>itemID</th>\n    </tr>\n  </thead>\n  <tbody>\n    <tr>\n      <th>0</th>\n      <td>U938994110</td>\n      <td>I529819131</td>\n    </tr>\n    <tr>\n      <th>1</th>\n      <td>U181459539</td>\n      <td>I863471064</td>\n    </tr>\n    <tr>\n      <th>...</th>\n      <td>...</td>\n      <td>...</td>\n    </tr>\n    <tr>\n      <th>27998</th>\n      <td>U566804667</td>\n      <td>I857242737</td>\n    </tr>\n    <tr>\n      <th>27999</th>\n      <td>U691248665</td>\n      <td>I871166941</td>\n    </tr>\n  </tbody>\n</table>\n<p>28000 rows × 2 columns</p>\n</div>",
         "text/plain": "       reviewerID      itemID\n0      U938994110  I529819131\n1      U181459539  I863471064\n...           ...         ...\n27998  U566804667  I857242737\n27999  U691248665  I871166941\n\n[28000 rows x 2 columns]"
        },
        "execution_count": 238,
        "metadata": {}
       },
       "metadata": {},
       "msg_type": "execute_result",
       "version": "5.3"
      },
      "timestamp": "2018-11-16T23:48:35.300Z"
     },
     {
      "code": "test = pd.read_csv('data/pairs_Purchase.txt')\nsplit = (\n    test['reviewerID-itemID'].str.split('-', expand=True)\n    .rename(columns={0: 'reviewerID', 1: 'itemID'})\n)\nsplit",
      "response": {
       "content": {
        "data": {
         "text/html": "<div>\n<style scoped>\n    .dataframe tbody tr th:only-of-type {\n        vertical-align: middle;\n    }\n\n    .dataframe tbody tr th {\n        vertical-align: top;\n    }\n\n    .dataframe thead th {\n        text-align: right;\n    }\n</style>\n<table border=\"1\" class=\"dataframe\">\n  <thead>\n    <tr style=\"text-align: right;\">\n      <th></th>\n      <th>reviewerID</th>\n      <th>itemID</th>\n    </tr>\n  </thead>\n  <tbody>\n    <tr>\n      <th>0</th>\n      <td>U938994110</td>\n      <td>I529819131</td>\n    </tr>\n    <tr>\n      <th>1</th>\n      <td>U181459539</td>\n      <td>I863471064</td>\n    </tr>\n    <tr>\n      <th>...</th>\n      <td>...</td>\n      <td>...</td>\n    </tr>\n    <tr>\n      <th>27998</th>\n      <td>U566804667</td>\n      <td>I857242737</td>\n    </tr>\n    <tr>\n      <th>27999</th>\n      <td>U691248665</td>\n      <td>I871166941</td>\n    </tr>\n  </tbody>\n</table>\n<p>28000 rows × 2 columns</p>\n</div>",
         "text/plain": "       reviewerID      itemID\n0      U938994110  I529819131\n1      U181459539  I863471064\n...           ...         ...\n27998  U566804667  I857242737\n27999  U691248665  I871166941\n\n[28000 rows x 2 columns]"
        },
        "execution_count": 269,
        "metadata": {}
       },
       "metadata": {},
       "msg_type": "execute_result",
       "version": "5.3"
      },
      "timestamp": "2018-11-17T00:04:20.530Z"
     },
     {
      "code": "test = pd.read_csv('data/pairs_Purchase.txt')\nsplit = (\n    test['reviewerID-itemID'].str.split('-', expand=True)\n    .rename(columns={0: 'reviewerID', 1: 'itemID'})\n)\nsplit",
      "response": {
       "content": {
        "data": {
         "text/html": "<div>\n<style scoped>\n    .dataframe tbody tr th:only-of-type {\n        vertical-align: middle;\n    }\n\n    .dataframe tbody tr th {\n        vertical-align: top;\n    }\n\n    .dataframe thead th {\n        text-align: right;\n    }\n</style>\n<table border=\"1\" class=\"dataframe\">\n  <thead>\n    <tr style=\"text-align: right;\">\n      <th></th>\n      <th>reviewerID</th>\n      <th>itemID</th>\n    </tr>\n  </thead>\n  <tbody>\n    <tr>\n      <th>0</th>\n      <td>U938994110</td>\n      <td>I529819131</td>\n    </tr>\n    <tr>\n      <th>1</th>\n      <td>U181459539</td>\n      <td>I863471064</td>\n    </tr>\n    <tr>\n      <th>...</th>\n      <td>...</td>\n      <td>...</td>\n    </tr>\n    <tr>\n      <th>27998</th>\n      <td>U566804667</td>\n      <td>I857242737</td>\n    </tr>\n    <tr>\n      <th>27999</th>\n      <td>U691248665</td>\n      <td>I871166941</td>\n    </tr>\n  </tbody>\n</table>\n<p>28000 rows × 2 columns</p>\n</div>",
         "text/plain": "       reviewerID      itemID\n0      U938994110  I529819131\n1      U181459539  I863471064\n...           ...         ...\n27998  U566804667  I857242737\n27999  U691248665  I871166941\n\n[28000 rows x 2 columns]"
        },
        "execution_count": 277,
        "metadata": {}
       },
       "metadata": {},
       "msg_type": "execute_result",
       "version": "5.3"
      },
      "timestamp": "2018-11-17T00:08:05.172Z"
     }
    ]
   },
   "outputs": [
    {
     "data": {
      "text/html": [
       "<div>\n",
       "<style scoped>\n",
       "    .dataframe tbody tr th:only-of-type {\n",
       "        vertical-align: middle;\n",
       "    }\n",
       "\n",
       "    .dataframe tbody tr th {\n",
       "        vertical-align: top;\n",
       "    }\n",
       "\n",
       "    .dataframe thead th {\n",
       "        text-align: right;\n",
       "    }\n",
       "</style>\n",
       "<table border=\"1\" class=\"dataframe\">\n",
       "  <thead>\n",
       "    <tr style=\"text-align: right;\">\n",
       "      <th></th>\n",
       "      <th>reviewerID</th>\n",
       "      <th>itemID</th>\n",
       "    </tr>\n",
       "  </thead>\n",
       "  <tbody>\n",
       "    <tr>\n",
       "      <th>0</th>\n",
       "      <td>U938994110</td>\n",
       "      <td>I529819131</td>\n",
       "    </tr>\n",
       "    <tr>\n",
       "      <th>1</th>\n",
       "      <td>U181459539</td>\n",
       "      <td>I863471064</td>\n",
       "    </tr>\n",
       "    <tr>\n",
       "      <th>...</th>\n",
       "      <td>...</td>\n",
       "      <td>...</td>\n",
       "    </tr>\n",
       "    <tr>\n",
       "      <th>27998</th>\n",
       "      <td>U566804667</td>\n",
       "      <td>I857242737</td>\n",
       "    </tr>\n",
       "    <tr>\n",
       "      <th>27999</th>\n",
       "      <td>U691248665</td>\n",
       "      <td>I871166941</td>\n",
       "    </tr>\n",
       "  </tbody>\n",
       "</table>\n",
       "<p>28000 rows × 2 columns</p>\n",
       "</div>"
      ],
      "text/plain": [
       "       reviewerID      itemID\n",
       "0      U938994110  I529819131\n",
       "1      U181459539  I863471064\n",
       "...           ...         ...\n",
       "27998  U566804667  I857242737\n",
       "27999  U691248665  I871166941\n",
       "\n",
       "[28000 rows x 2 columns]"
      ]
     },
     "execution_count": 277,
     "metadata": {},
     "output_type": "execute_result"
    }
   ],
   "source": [
    "test = pd.read_csv('data/pairs_Purchase.txt')\n",
    "split = (\n",
    "    test['reviewerID-itemID'].str.split('-', expand=True)\n",
    "    .rename(columns={0: 'reviewerID', 1: 'itemID'})\n",
    ")\n",
    "split"
   ]
  },
  {
   "cell_type": "code",
   "execution_count": 278,
   "metadata": {
    "history": [
     {
      "code": "predictions = [algo.predict(u, i) for u, i in test_pairs]\npredictions[:5]",
      "response": {
       "content": {
        "data": {
         "text/plain": "[Prediction(uid='U938994110', iid='I529819131', r_ui=None, est=0.896909019088715, details={'was_impossible': False}),\n Prediction(uid='U181459539', iid='I863471064', r_ui=None, est=0.7797356812333962, details={'was_impossible': False}),\n Prediction(uid='U941668816', iid='I684585522', r_ui=None, est=0.4102681726655093, details={'was_impossible': False}),\n Prediction(uid='U768449391', iid='I782253949', r_ui=None, est=0.7345850581476914, details={'was_impossible': False}),\n Prediction(uid='U640450168', iid='I232683472', r_ui=None, est=0.9881924315540622, details={'was_impossible': False})]"
        },
        "execution_count": 108,
        "metadata": {}
       },
       "metadata": {},
       "msg_type": "execute_result",
       "version": "5.3"
      },
      "timestamp": "2018-11-16T07:49:56.607Z"
     },
     {
      "code": "predictions = [algo.predict(u, i).est for u, i in test_pairs]\npredictions[:5]",
      "response": {
       "content": {
        "data": {
         "text/plain": "[]"
        },
        "execution_count": 111,
        "metadata": {}
       },
       "metadata": {},
       "msg_type": "execute_result",
       "version": "5.3"
      },
      "timestamp": "2018-11-16T07:51:00.993Z"
     },
     {
      "code": "predictions = [algo.predict(u, i) for u, i in test_pairs]\npredictions[:5]",
      "response": {
       "content": {
        "data": {
         "text/plain": "[]"
        },
        "execution_count": 112,
        "metadata": {}
       },
       "metadata": {},
       "msg_type": "execute_result",
       "version": "5.3"
      },
      "timestamp": "2018-11-16T07:51:06.116Z"
     },
     {
      "code": "predictions = [algo.predict(u, i) for u, i in test_pairs]\npredictions[:5]",
      "response": {
       "content": {
        "data": {
         "text/plain": "[Prediction(uid='U938994110', iid='I529819131', r_ui=None, est=0.896909019088715, details={'was_impossible': False}),\n Prediction(uid='U181459539', iid='I863471064', r_ui=None, est=0.7797356812333962, details={'was_impossible': False}),\n Prediction(uid='U941668816', iid='I684585522', r_ui=None, est=0.4102681726655093, details={'was_impossible': False}),\n Prediction(uid='U768449391', iid='I782253949', r_ui=None, est=0.7345850581476914, details={'was_impossible': False}),\n Prediction(uid='U640450168', iid='I232683472', r_ui=None, est=0.9881924315540622, details={'was_impossible': False})]"
        },
        "execution_count": 114,
        "metadata": {}
       },
       "metadata": {},
       "msg_type": "execute_result",
       "version": "5.3"
      },
      "timestamp": "2018-11-16T07:51:15.916Z"
     },
     {
      "code": "predictions = [algo.predict(u, i).est for u, i in test_pairs]\npredictions[:5]",
      "response": {
       "content": {
        "data": {
         "text/plain": "[0.896909019088715,\n 0.7797356812333962,\n 0.4102681726655093,\n 0.7345850581476914,\n 0.9881924315540622]"
        },
        "execution_count": 116,
        "metadata": {}
       },
       "metadata": {},
       "msg_type": "execute_result",
       "version": "5.3"
      },
      "timestamp": "2018-11-16T07:51:35.321Z"
     },
     {
      "code": "predictions = [1 if algo.predict(u, i) >= 0.5 else 0\n               for u, i in test_pairs]\npredictions[:5]",
      "response": {
       "content": {
        "ename": "TypeError",
        "evalue": "'>=' not supported between instances of 'Prediction' and 'float'",
        "traceback": [
         "\u001b[0;31m---------------------------------------------------------------------------\u001b[0m",
         "\u001b[0;31mTypeError\u001b[0m                                 Traceback (most recent call last)",
         "\u001b[0;32m<ipython-input-117-003834cc9b57>\u001b[0m in \u001b[0;36m<module>\u001b[0;34m\u001b[0m\n\u001b[1;32m      1\u001b[0m predictions = [1 if algo.predict(u, i) >= 0.5 else 0\n\u001b[0;32m----> 2\u001b[0;31m                for u, i in test_pairs]\n\u001b[0m\u001b[1;32m      3\u001b[0m \u001b[0mpredictions\u001b[0m\u001b[0;34m[\u001b[0m\u001b[0;34m:\u001b[0m\u001b[0;36m5\u001b[0m\u001b[0;34m]\u001b[0m\u001b[0;34m\u001b[0m\u001b[0m\n",
         "\u001b[0;32m<ipython-input-117-003834cc9b57>\u001b[0m in \u001b[0;36m<listcomp>\u001b[0;34m(.0)\u001b[0m\n\u001b[1;32m      1\u001b[0m predictions = [1 if algo.predict(u, i) >= 0.5 else 0\n\u001b[0;32m----> 2\u001b[0;31m                for u, i in test_pairs]\n\u001b[0m\u001b[1;32m      3\u001b[0m \u001b[0mpredictions\u001b[0m\u001b[0;34m[\u001b[0m\u001b[0;34m:\u001b[0m\u001b[0;36m5\u001b[0m\u001b[0;34m]\u001b[0m\u001b[0;34m\u001b[0m\u001b[0m\n",
         "\u001b[0;31mTypeError\u001b[0m: '>=' not supported between instances of 'Prediction' and 'float'"
        ]
       },
       "metadata": {},
       "msg_type": "error",
       "version": "5.3"
      },
      "timestamp": "2018-11-16T07:51:51.012Z"
     },
     {
      "code": "predictions = [1 if algo.predict(u, i).est >= 0.5 else 0\n               for u, i in test_pairs]\npredictions[:5]",
      "response": {
       "content": {
        "data": {
         "text/plain": "[1, 1, 0, 1, 1]"
        },
        "execution_count": 118,
        "metadata": {}
       },
       "metadata": {},
       "msg_type": "execute_result",
       "version": "5.3"
      },
      "timestamp": "2018-11-16T07:51:55.231Z"
     },
     {
      "code": "predictions = clf.predict(split)\npredictions[:5]",
      "response": {
       "content": {
        "data": {
         "text/plain": "0    1\n1    0\n2    1\n3    1\n4    1\ndtype: int64"
        },
        "execution_count": 241,
        "metadata": {}
       },
       "metadata": {},
       "msg_type": "execute_result",
       "version": "5.3"
      },
      "timestamp": "2018-11-16T23:49:05.024Z"
     },
     {
      "code": "predictions = clf.predict(split)\npredictions[:5]",
      "response": {
       "content": {
        "data": {
         "text/plain": "0    1\n1    0\n2    1\n3    1\n4    1\ndtype: int64"
        },
        "execution_count": 270,
        "metadata": {}
       },
       "metadata": {},
       "msg_type": "execute_result",
       "version": "5.3"
      },
      "timestamp": "2018-11-17T00:04:23.788Z"
     },
     {
      "code": "predictions = clf.predict(split)\npredictions[:5]",
      "response": {
       "content": {
        "data": {
         "text/plain": "0    1\n1    0\n2    0\n3    0\n4    1\ndtype: int64"
        },
        "execution_count": 278,
        "metadata": {}
       },
       "metadata": {},
       "msg_type": "execute_result",
       "version": "5.3"
      },
      "timestamp": "2018-11-17T00:08:10.429Z"
     }
    ]
   },
   "outputs": [
    {
     "data": {
      "text/plain": [
       "0    1\n",
       "1    0\n",
       "2    0\n",
       "3    0\n",
       "4    1\n",
       "dtype: int64"
      ]
     },
     "execution_count": 278,
     "metadata": {},
     "output_type": "execute_result"
    }
   ],
   "source": [
    "predictions = clf.predict(split)\n",
    "predictions[:5]"
   ]
  },
  {
   "cell_type": "code",
   "execution_count": 279,
   "metadata": {
    "history": [
     {
      "code": "test",
      "response": {
       "content": {
        "data": {
         "text/html": "<div>\n<style scoped>\n    .dataframe tbody tr th:only-of-type {\n        vertical-align: middle;\n    }\n\n    .dataframe tbody tr th {\n        vertical-align: top;\n    }\n\n    .dataframe thead th {\n        text-align: right;\n    }\n</style>\n<table border=\"1\" class=\"dataframe\">\n  <thead>\n    <tr style=\"text-align: right;\">\n      <th></th>\n      <th>reviewerID-itemID</th>\n      <th>prediction</th>\n    </tr>\n  </thead>\n  <tbody>\n    <tr>\n      <th>0</th>\n      <td>U938994110-I529819131</td>\n      <td>NaN</td>\n    </tr>\n    <tr>\n      <th>1</th>\n      <td>U181459539-I863471064</td>\n      <td>NaN</td>\n    </tr>\n    <tr>\n      <th>...</th>\n      <td>...</td>\n      <td>...</td>\n    </tr>\n    <tr>\n      <th>27998</th>\n      <td>U566804667-I857242737</td>\n      <td>NaN</td>\n    </tr>\n    <tr>\n      <th>27999</th>\n      <td>U691248665-I871166941</td>\n      <td>NaN</td>\n    </tr>\n  </tbody>\n</table>\n<p>28000 rows × 2 columns</p>\n</div>",
         "text/plain": "           reviewerID-itemID  prediction\n0      U938994110-I529819131         NaN\n1      U181459539-I863471064         NaN\n...                      ...         ...\n27998  U566804667-I857242737         NaN\n27999  U691248665-I871166941         NaN\n\n[28000 rows x 2 columns]"
        },
        "execution_count": 119,
        "metadata": {}
       },
       "metadata": {},
       "msg_type": "execute_result",
       "version": "5.3"
      },
      "timestamp": "2018-11-16T07:52:12.788Z"
     }
    ]
   },
   "outputs": [],
   "source": [
    "(test.assign(prediction=predictions)\n",
    " .to_csv('purchase_pred.csv', index=False)\n",
    ")"
   ]
  },
  {
   "cell_type": "code",
   "execution_count": 280,
   "metadata": {
    "history": [
     {
      "code": "def get_possible_others(user):\n    user_items = reviewers.loc[user]\n    return {\n        other for other in items[i]\n        for i in user_items\n    }\n\nget_possible_others('U000005569')",
      "response": {
       "content": {
        "ename": "NameError",
        "evalue": "name 'i' is not defined",
        "traceback": [
         "\u001b[0;31m---------------------------------------------------------------------------\u001b[0m",
         "\u001b[0;31mNameError\u001b[0m                                 Traceback (most recent call last)",
         "\u001b[0;32m<ipython-input-80-d23b2f7df4ac>\u001b[0m in \u001b[0;36m<module>\u001b[0;34m\u001b[0m\n\u001b[1;32m      6\u001b[0m     }\n\u001b[1;32m      7\u001b[0m \u001b[0;34m\u001b[0m\u001b[0m\n\u001b[0;32m----> 8\u001b[0;31m \u001b[0mget_possible_others\u001b[0m\u001b[0;34m(\u001b[0m\u001b[0;34m'U000005569'\u001b[0m\u001b[0;34m)\u001b[0m\u001b[0;34m\u001b[0m\u001b[0m\n\u001b[0m",
         "\u001b[0;32m<ipython-input-80-d23b2f7df4ac>\u001b[0m in \u001b[0;36mget_possible_others\u001b[0;34m(user)\u001b[0m\n\u001b[1;32m      2\u001b[0m     \u001b[0muser_items\u001b[0m \u001b[0;34m=\u001b[0m \u001b[0mreviewers\u001b[0m\u001b[0;34m.\u001b[0m\u001b[0mloc\u001b[0m\u001b[0;34m[\u001b[0m\u001b[0muser\u001b[0m\u001b[0;34m]\u001b[0m\u001b[0;34m\u001b[0m\u001b[0m\n\u001b[1;32m      3\u001b[0m     return {\n\u001b[0;32m----> 4\u001b[0;31m         \u001b[0mother\u001b[0m \u001b[0;32mfor\u001b[0m \u001b[0mother\u001b[0m \u001b[0;32min\u001b[0m \u001b[0mitems\u001b[0m\u001b[0;34m[\u001b[0m\u001b[0mi\u001b[0m\u001b[0;34m]\u001b[0m\u001b[0;34m\u001b[0m\u001b[0m\n\u001b[0m\u001b[1;32m      5\u001b[0m         \u001b[0;32mfor\u001b[0m \u001b[0mi\u001b[0m \u001b[0;32min\u001b[0m \u001b[0muser_items\u001b[0m\u001b[0;34m\u001b[0m\u001b[0m\n\u001b[1;32m      6\u001b[0m     }\n",
         "\u001b[0;31mNameError\u001b[0m: name 'i' is not defined"
        ]
       },
       "metadata": {},
       "msg_type": "error",
       "version": "5.3"
      },
      "timestamp": "2018-11-16T07:16:29.665Z"
     },
     {
      "code": "def get_possible_others(user):\n    user_items = reviewers.loc[user]\n    return {\n        other for i in user_items\n        for other in items[i]\n    }\n\nget_possible_others('U000005569')",
      "response": {
       "content": {
        "data": {
         "text/plain": "{'U000005569',\n 'U063027015',\n 'U125037406',\n 'U203583196',\n 'U226505591',\n 'U281571987',\n 'U329454722',\n 'U358772025',\n 'U421407240',\n 'U489338367',\n 'U491531907'}"
        },
        "execution_count": 81,
        "metadata": {}
       },
       "metadata": {},
       "msg_type": "execute_result",
       "version": "5.3"
      },
      "timestamp": "2018-11-16T07:16:36.009Z"
     },
     {
      "code": "!head purchase_pred.csv",
      "response": {
       "content": {
        "name": "stderr",
        "text": "\n"
       },
       "metadata": {},
       "msg_type": "stream",
       "version": "5.3"
      },
      "timestamp": "2018-11-16T07:52:38.991Z"
     },
     {
      "code": "!head purchase_pred.csv",
      "response": {
       "content": {
        "name": "stdout",
        "text": "reviewerID-itemID,prediction,predition\r\nU938994110-I529819131,,1\r\nU181459539-I863471064,,1\r\nU941668816-I684585522,,0\r\nU768449391-I782253949,,1\r\nU640450168-I232683472,,1\r\nU087574132-I014281144,,1\r\nU885457860-I600866492,,1\r\nU319023404-I050733439,,1\r\nU535965656-I929867818,,1\r\n"
       },
       "metadata": {},
       "msg_type": "stream",
       "version": "5.3"
      },
      "timestamp": "2018-11-16T07:52:39.055Z"
     },
     {
      "code": "!head purchase_pred.csv",
      "response": {
       "content": {
        "name": "stderr",
        "text": "\n"
       },
       "metadata": {},
       "msg_type": "stream",
       "version": "5.3"
      },
      "timestamp": "2018-11-16T07:52:45.987Z"
     },
     {
      "code": "!head purchase_pred.csv",
      "response": {
       "content": {
        "name": "stdout",
        "text": "reviewerID-itemID,prediction\r\nU938994110-I529819131,1\r\nU181459539-I863471064,1\r\nU941668816-I684585522,0\r\nU768449391-I782253949,1\r\nU640450168-I232683472,1\r\nU087574132-I014281144,1\r\nU885457860-I600866492,1\r\nU319023404-I050733439,1\r\nU535965656-I929867818,1\r\n"
       },
       "metadata": {},
       "msg_type": "stream",
       "version": "5.3"
      },
      "timestamp": "2018-11-16T07:52:46.024Z"
     },
     {
      "code": "!head purchase_pred.csv",
      "response": {
       "content": {
        "name": "stdout",
        "text": "reviewerID-itemID,prediction\r\nU938994110-I529819131,1\r\nU181459539-I863471064,0\r\nU941668816-I684585522,1\r\nU768449391-I782253949,1\r\nU640450168-I232683472,1\r\nU087574132-I014281144,1\r\nU885457860-I600866492,0\r\nU319023404-I050733439,0\r\nU535965656-I929867818,1\r\n"
       },
       "metadata": {},
       "msg_type": "stream",
       "version": "5.3"
      },
      "timestamp": "2018-11-16T23:49:08.243Z"
     },
     {
      "code": "!head purchase_pred.csv",
      "response": {
       "content": {
        "name": "stdout",
        "text": "reviewerID-itemID,prediction\r\nU938994110-I529819131,1\r\nU181459539-I863471064,0\r\nU941668816-I684585522,1\r\nU768449391-I782253949,1\r\nU640450168-I232683472,1\r\nU087574132-I014281144,1\r\nU885457860-I600866492,0\r\nU319023404-I050733439,0\r\nU535965656-I929867818,1\r\n"
       },
       "metadata": {},
       "msg_type": "stream",
       "version": "5.3"
      },
      "timestamp": "2018-11-17T00:04:23.982Z"
     },
     {
      "code": "!head purchase_pred.csv",
      "response": {
       "content": {
        "name": "stdout",
        "text": "reviewerID-itemID,prediction\r\nU938994110-I529819131,1\r\nU181459539-I863471064,0\r\nU941668816-I684585522,0\r\nU768449391-I782253949,0\r\nU640450168-I232683472,1\r\nU087574132-I014281144,1\r\nU885457860-I600866492,0\r\nU319023404-I050733439,0\r\nU535965656-I929867818,1\r\n"
       },
       "metadata": {},
       "msg_type": "stream",
       "version": "5.3"
      },
      "timestamp": "2018-11-17T00:08:10.665Z"
     }
    ]
   },
   "outputs": [
    {
     "name": "stdout",
     "output_type": "stream",
     "text": [
      "reviewerID-itemID,prediction\r\n",
      "U938994110-I529819131,1\r\n",
      "U181459539-I863471064,0\r\n",
      "U941668816-I684585522,0\r\n",
      "U768449391-I782253949,0\r\n",
      "U640450168-I232683472,1\r\n",
      "U087574132-I014281144,1\r\n",
      "U885457860-I600866492,0\r\n",
      "U319023404-I050733439,0\r\n",
      "U535965656-I929867818,1\r\n"
     ]
    }
   ],
   "source": [
    "!head purchase_pred.csv"
   ]
  },
  {
   "cell_type": "markdown",
   "metadata": {},
   "source": [
    "## Task 2"
   ]
  },
  {
   "cell_type": "code",
   "execution_count": null,
   "metadata": {},
   "outputs": [],
   "source": []
  }
 ],
 "metadata": {
  "kernelspec": {
   "display_name": "Python [default]",
   "language": "python",
   "name": "python3"
  },
  "language_info": {
   "codemirror_mode": {
    "name": "ipython",
    "version": 3
   },
   "file_extension": ".py",
   "mimetype": "text/x-python",
   "name": "python",
   "nbconvert_exporter": "python",
   "pygments_lexer": "ipython3",
   "version": "3.6.3"
  },
  "timetravel": {
   "verson": "1.0"
  },
  "toc": {
   "nav_menu": {},
   "number_sections": false,
   "sideBar": false,
   "skip_h1_title": false,
   "title_cell": "Table of Contents",
   "title_sidebar": "Contents",
   "toc_cell": true,
   "toc_position": {},
   "toc_section_display": false,
   "toc_window_display": false
  }
 },
 "nbformat": 4,
 "nbformat_minor": 2
}
